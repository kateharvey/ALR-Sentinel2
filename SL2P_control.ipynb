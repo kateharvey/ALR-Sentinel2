{
 "cells": [
  {
   "cell_type": "code",
   "execution_count": 52,
   "metadata": {
    "collapsed": true,
    "jupyter": {
     "outputs_hidden": true
    }
   },
   "outputs": [],
   "source": [
    "# LEAFToolbox-SL2P\n",
    "#\n",
    "# Applies the LEAF-ToolBox-SL2P to process input images on Googe Earth Engine\n",
    "# AND exports to google drive.\n",
    "# \n",
    "# Note: This is an exact copy of LEAF-ToolBox-SL2P for image by image products\n",
    "# as implemented on February 10, 2021 16:00 EST\n",
    "# https://code.earthengine.google.com/fd6bddb89803bd8ea45fdcad051f75cc\n",
    "#\n",
    "# You will need a Google Earth Engine Account linked to a Google Account with sufficient\n",
    "# disk space for the output.\n",
    "#\n",
    "# Refer to https://github.com/rfernand387/LEAF-Toolbox/tree/master/Source-Python \n",
    "# for configuration of anaconda environment."
   ]
  },
  {
   "cell_type": "code",
   "execution_count": 87,
   "metadata": {},
   "outputs": [],
   "source": [
    "import ee\n",
    "import geetools\n",
    "import folium\n",
    "from folium import plugins\n",
    "import time"
   ]
  },
  {
   "cell_type": "code",
   "execution_count": 3,
   "metadata": {
    "tags": []
   },
   "outputs": [
    {
     "data": {
      "text/html": [
       "<p>To authorize access needed by Earth Engine, open the following\n",
       "        URL in a web browser and follow the instructions:</p>\n",
       "        <p><a href=https://accounts.google.com/o/oauth2/auth?client_id=517222506229-vsmmajv00ul0bs7p89v5m89qs8eb9359.apps.googleusercontent.com&scope=https%3A%2F%2Fwww.googleapis.com%2Fauth%2Fearthengine+https%3A%2F%2Fwww.googleapis.com%2Fauth%2Fdevstorage.full_control&redirect_uri=urn%3Aietf%3Awg%3Aoauth%3A2.0%3Aoob&response_type=code&code_challenge=qEH9fHu4pdxd9bbwBLB1PkGbR4EYAgnUCgSauvHJE5k&code_challenge_method=S256>https://accounts.google.com/o/oauth2/auth?client_id=517222506229-vsmmajv00ul0bs7p89v5m89qs8eb9359.apps.googleusercontent.com&scope=https%3A%2F%2Fwww.googleapis.com%2Fauth%2Fearthengine+https%3A%2F%2Fwww.googleapis.com%2Fauth%2Fdevstorage.full_control&redirect_uri=urn%3Aietf%3Awg%3Aoauth%3A2.0%3Aoob&response_type=code&code_challenge=qEH9fHu4pdxd9bbwBLB1PkGbR4EYAgnUCgSauvHJE5k&code_challenge_method=S256</a></p>\n",
       "        <p>The authorization workflow will generate a code, which you\n",
       "        should paste in the box below</p>\n",
       "        "
      ],
      "text/plain": [
       "<IPython.core.display.HTML object>"
      ]
     },
     "metadata": {},
     "output_type": "display_data"
    },
    {
     "name": "stdin",
     "output_type": "stream",
     "text": [
      "Enter verification code:  4/1AX4XfWjymj0Fp4E1yTS4_CoVivEVOAvK1_wMB70lSsgLM-vgy_lzGfZ6NCU\n"
     ]
    },
    {
     "name": "stdout",
     "output_type": "stream",
     "text": [
      "\n",
      "Successfully saved authorization token.\n"
     ]
    }
   ],
   "source": [
    "ee.Authenticate()"
   ]
  },
  {
   "cell_type": "code",
   "execution_count": 4,
   "metadata": {
    "tags": []
   },
   "outputs": [],
   "source": [
    "# Authorizes the script with Earth Engine using the credentials.json file. Ensure either ee.Authenticate() has been called in a previous\n",
    "# script or the \"$ earthengine authenticate\" command has been run in the environment to set up the credentials.json file\n",
    "# The google account you provide during the authentication flow must have received access to Google Earth Engine\n",
    "ee.Initialize()"
   ]
  },
  {
   "cell_type": "code",
   "execution_count": 76,
   "metadata": {},
   "outputs": [],
   "source": [
    "# input parameters (to modify)\n",
    "\n",
    "# collection name\n",
    "colName = \"COPERNICUS/S2_SR\"\n",
    "colName_10m = \"COPERNICUS/S2_SR_10m\"\n",
    "\n",
    "# product name, one of('Surface_Reflectance','Albedo','FAPAR','FCOVER','LAI','CCC','CWC','DASF')\n",
    "outputName = \"LAI\"\n",
    "\n",
    "# date range for inputs\n",
    "startDate = ee.Date('2020-08-01')\n",
    "endDate = ee.Date('2020-08-5')\n",
    "\n",
    "# geographical bounds of inputs you can specify a JSON geometry (e.g. from earth engine)\n",
    "mapBounds =  ee.Geometry.Polygon( \\\n",
    "        [[[-75, 45], \\\n",
    "          [-75, 46], \\\n",
    "          [-74, 46], \\\n",
    "          [-74, 45]]])\n",
    "\n",
    "# other filters - for now only cloud cover\n",
    "maxCloudcover = 10\n",
    "\n",
    "# output parameters, outputScale and outputOffset not applied to \"Surface_Reflectance\"\n",
    "outputScale = 1000;\n",
    "outputOffset = 0;\n",
    "exportFolder = \"users/hemitshah/testSL2Pv3\"\n",
    "exportScale = 20\n",
    "exportDatatype = \"int\""
   ]
  },
  {
   "cell_type": "code",
   "execution_count": 6,
   "metadata": {
    "tags": []
   },
   "outputs": [],
   "source": [
    "# verify status of tasks\n",
    "def check_ee_tasks(ee_tasks: list = []):\n",
    "    for task in ee_tasks:\n",
    "        taskStatus = ee.data.getTaskStatus(task.id)[0]\n",
    "        print(taskStatus[\"description\"] + \": \" + taskStatus[\"state\"])"
   ]
  },
  {
   "cell_type": "code",
   "execution_count": 88,
   "metadata": {
    "tags": []
   },
   "outputs": [],
   "source": [
    "# wait loop for Earth Engine tasks to complete. Polls for the task status the specificed number of seconds until it is no longer active\n",
    "def task_wait_loop(ee_task, wait_interval):\n",
    "    print(ee.data.getTaskStatus(ee_task.id)[0][\"description\"] + \":\", end = \" \")\n",
    "    prev_task_status = ee.data.getTaskStatus(ee_task.id)[0][\"state\"]\n",
    "    print(prev_task_status, end = \" \")\n",
    "    while ee_task.active():\n",
    "        task_status = ee.data.getTaskStatus(ee_task.id)[0][\"state\"]\n",
    "        if(task_status != prev_task_status):\n",
    "            print(task_status, end = \" \")\n",
    "        prev_task_status = task_status\n",
    "        time.sleep(wait_interval)\n",
    "    print(ee.data.getTaskStatus(ee_task.id)[0][\"state\"])"
   ]
  },
  {
   "cell_type": "code",
   "execution_count": 89,
   "metadata": {
    "tags": []
   },
   "outputs": [],
   "source": [
    "# create a folium map object\n",
    "def displayImage(image,minVal,maxVal) :\n",
    "    my_map = folium.Map(location = [20, 0], zoom_start = 3, height = 500)\n",
    "    vis_params = {\n",
    "      'min': minVal,\n",
    "      'max': maxVal}\n",
    "    my_map.add_ee_layer(image, vis_params, 'Image')\n",
    "    \n",
    "    # add a layer control panel to the map.\n",
    "    my_map.add_child(folium.LayerControl())\n",
    "\n",
    "    # add fullscreen button\n",
    "    plugins.Fullscreen().add_to(my_map)\n",
    "\n",
    "    # display the map.\n",
    "    display(my_map)"
   ]
  },
  {
   "cell_type": "code",
   "execution_count": 90,
   "metadata": {
    "tags": []
   },
   "outputs": [],
   "source": [
    "# define a method for displaying Earth Engine image tiles on a folium map\n",
    "def add_ee_layer(self, ee_object, vis_params, name):\n",
    "    \n",
    "    try:    \n",
    "        # display ee.Image()\n",
    "        if isinstance(ee_object, ee.image.Image):    \n",
    "            map_id_dict = ee.Image(ee_object).getMapId(vis_params)\n",
    "            folium.raster_layers.TileLayer(\n",
    "            tiles = map_id_dict['tile_fetcher'].url_format,\n",
    "            attr = 'Google Earth Engine',\n",
    "            name = name,\n",
    "            overlay = True,\n",
    "            control = True\n",
    "            ).add_to(self)\n",
    "        # display ee.ImageCollection()\n",
    "        elif isinstance(ee_object, ee.imagecollection.ImageCollection):    \n",
    "            ee_object_new = ee_object.mosaic()\n",
    "            map_id_dict = ee.Image(ee_object_new).getMapId(vis_params)\n",
    "            folium.raster_layers.TileLayer(\n",
    "            tiles = map_id_dict['tile_fetcher'].url_format,\n",
    "            attr = 'Google Earth Engine',\n",
    "            name = name,\n",
    "            overlay = True,\n",
    "            control = True\n",
    "            ).add_to(self)\n",
    "        # display ee.Geometry()\n",
    "        elif isinstance(ee_object, ee.geometry.Geometry):    \n",
    "            folium.GeoJson(\n",
    "            data = ee_object.getInfo(),\n",
    "            name = name,\n",
    "            overlay = True,\n",
    "            control = True\n",
    "        ).add_to(self)\n",
    "        # display ee.FeatureCollection()\n",
    "        elif isinstance(ee_object, ee.featurecollection.FeatureCollection):  \n",
    "            ee_object_new = ee.Image().paint(ee_object, 0, 2)\n",
    "            map_id_dict = ee.Image(ee_object_new).getMapId(vis_params)\n",
    "            folium.raster_layers.TileLayer(\n",
    "            tiles = map_id_dict['tile_fetcher'].url_format,\n",
    "            attr = 'Google Earth Engine',\n",
    "            name = name,\n",
    "            overlay = True,\n",
    "            control = True\n",
    "        ).add_to(self)\n",
    "    \n",
    "    except:\n",
    "        print(\"Could not display {}\".format(name))\n",
    "    \n",
    "# Add EE drawing method to folium\n",
    "folium.Map.add_ee_layer = add_ee_layer"
   ]
  },
  {
   "cell_type": "code",
   "execution_count": 10,
   "metadata": {
    "tags": []
   },
   "outputs": [],
   "source": [
    "default_asset_location = \"users/hemitshah\"\n",
    "def export_collection_to_gee(collection, num_images: int = 0, image_names: list = [], asset_folder: str = default_asset_location, scale: float = 20, max_pixels: int = 1e8, data_type: str = \"float\"):\n",
    "    \n",
    "    collection = ee.ImageCollection(collection)\n",
    "    \n",
    "    image_list = collection.toList(num_images)\n",
    "    task_list = []\n",
    "    \n",
    "    for i in range(num_images):\n",
    "        image = ee.Image(image_list.get(i))\n",
    "        name = image_names[i]\n",
    "        \n",
    "        typed_images = {\"double\": image.toDouble(), \"float\": image.toFloat(), \"byte\": image.toByte(), \"int\": image.toInt()}\n",
    "        export_task = ee.batch.Export.image.toAsset(image = typed_images[data_type],\n",
    "                                                      description = name,\n",
    "                                                      assetId = asset_folder+\"/\"+name,\n",
    "                                                      region = image.geometry(),\n",
    "                                                      scale = scale,\n",
    "                                                      maxPixels = max_pixels)\n",
    "        export_task.start()\n",
    "        task_list.append(export_task)\n",
    "    \n",
    "    return task_list"
   ]
  },
  {
   "cell_type": "code",
   "execution_count": 11,
   "metadata": {
    "tags": []
   },
   "outputs": [],
   "source": [
    "def export_collection_to_drive(collection, num_images: int = 0, image_names: list = [], gdrive_folder: str = \"\", scale: float = 20, max_pixels: int = 1e8, data_type: str = \"float\"):\n",
    "    \n",
    "    collection = ee.ImageCollection(collection)\n",
    "    image_list = collection.toList(num_images)\n",
    "    task_list = []\n",
    "\n",
    "    for i in range(num_images):\n",
    "        image = ee.Image(image_list.get(i))\n",
    "        name = image_names[i]\n",
    "        print(name)\n",
    "        typed_images = {\"double\": image.toDouble(), \"float\": image.toFloat(), \"byte\": image.toByte(), \"int\": image.toInt()}\n",
    "        export_task = ee.batch.Export.image.toDrive(image = typed_images[data_type],\n",
    "                                                    description = name,\n",
    "                                                    folder = gdrive_folder,\n",
    "                                                    fileNamePrefix = name,\n",
    "                                                    region = image.geometry(),\n",
    "                                                    scale = scale,\n",
    "                                                    maxPixels = max_pixels)\n",
    "        export_task.start()\n",
    "        task_list.append(export_task)\n",
    "    \n",
    "    return task_list"
   ]
  },
  {
   "cell_type": "code",
   "execution_count": 25,
   "metadata": {
    "tags": []
   },
   "outputs": [],
   "source": [
    "def s2_createFeatureCollection_estimates():\n",
    "    return ee.FeatureCollection('users/rfernand387/COPERNICUS_S2_SR/s2_sl2p_weiss_or_prosail_NNT3_Single_0_1')"
   ]
  },
  {
   "cell_type": "code",
   "execution_count": 70,
   "metadata": {},
   "outputs": [],
   "source": [
    "# same function as above using 10 m bands\n",
    "def s2_10m_createFeatureCollection_estimates():\n",
    "    return ee.FeatureCollection('projects/ee-kateharvey/assets/s2_sl2p_weiss_or_prosail_10m_NNT1_Single_0_1')"
   ]
  },
  {
   "cell_type": "code",
   "execution_count": 18,
   "metadata": {
    "tags": []
   },
   "outputs": [],
   "source": [
    "def s2_createFeatureCollection_errors():\n",
    "    return ee.FeatureCollection('users/rfernand387/COPERNICUS_S2_SR/s2_sl2p_weiss_or_prosail_NNT3_Single_0_1_Error')"
   ]
  },
  {
   "cell_type": "code",
   "execution_count": 68,
   "metadata": {
    "tags": []
   },
   "outputs": [],
   "source": [
    "# same function as above using 10 m bands\n",
    "def s2_10m_createFeatureCollection_errors():\n",
    "    return ee.FeatureCollection('projects/ee-kateharvey/assets/s2_sl2p_weiss_or_prosail_10m_NNT1_Single_0_1_errors')"
   ]
  },
  {
   "cell_type": "code",
   "execution_count": 20,
   "metadata": {
    "tags": []
   },
   "outputs": [],
   "source": [
    "def s2_createFeatureCollection_domains():\n",
    "    return ee.FeatureCollection('users/rfernand387/COPERNICUS_S2_SR/weiss_or_prosail3_NNT3_Single_0_1_DOMAIN')"
   ]
  },
  {
   "cell_type": "code",
   "execution_count": 71,
   "metadata": {
    "tags": []
   },
   "outputs": [],
   "source": [
    "# same function as above using 10 m bands\n",
    "def s2_10m_createFeatureCollection_domains():\n",
    "    return ee.FeatureCollection('projects/ee-kateharvey/assets/s2_sl2p_weiss_or_prosail_10m_domain')"
   ]
  },
  {
   "cell_type": "code",
   "execution_count": 17,
   "metadata": {
    "tags": []
   },
   "outputs": [],
   "source": [
    "def s2_createFeatureCollection_range():\n",
    "    return ee.FeatureCollection('users/rfernand387/COPERNICUS_S2_SR/weiss_or_prosail3_NNT3_Single_0_1_RANGE')"
   ]
  },
  {
   "cell_type": "code",
   "execution_count": 27,
   "metadata": {
    "tags": []
   },
   "outputs": [],
   "source": [
    "def s2_createFeatureCollection_Network_Ind():\n",
    "    return ee.FeatureCollection('users/rfernand387/COPERNICUS_S2_SR/Parameter_file_sl2p')"
   ]
  },
  {
   "cell_type": "code",
   "execution_count": 28,
   "metadata": {
    "tags": []
   },
   "outputs": [],
   "source": [
    "def s2_createImageCollection_partition():\n",
    "    return ee.ImageCollection('users/rfernand387/NA_NALCMS_2015_tiles').map(lambda image: image.select(\"b1\").rename(\"partition\")).merge(ee.ImageCollection(\"COPERNICUS/Landcover/100m/Proba-V/Global\").map( lambda image: image.select(\"discrete_classification\").remap([0,20,30,40,50,60,70,80,90,100,111,112,113,114,115,116,121,122,123,124,125,126,200],[0,8,10,15,17,16,19,18,14,13,1,3,1,5,6,6,2,4,2,5,6,6,18],0).toUint8().rename(\"partition\")))"
   ]
  },
  {
   "cell_type": "code",
   "execution_count": 29,
   "metadata": {},
   "outputs": [],
   "source": [
    "def s2_createFeatureCollection_legend():\n",
    "    return ee.FeatureCollection('users/rfernand387/COPERNICUS_S2_SR/Legend_sl2p')"
   ]
  },
  {
   "cell_type": "code",
   "execution_count": 32,
   "metadata": {},
   "outputs": [],
   "source": [
    "def l8_createFeatureCollection_estimates():\n",
    "    return ee.FeatureCollection('users/rfernand387/LANDSAT_LC08_C01_T1_SR_SL2P_OUTPUT')"
   ]
  },
  {
   "cell_type": "code",
   "execution_count": 33,
   "metadata": {},
   "outputs": [],
   "source": [
    "def l8_createFeatureCollection_errors():\n",
    "    return ee.FeatureCollection('users/rfernand387/LANDSAT_LC08_C01_T1_SR_SL2P_ERRORS')"
   ]
  },
  {
   "cell_type": "code",
   "execution_count": 34,
   "metadata": {},
   "outputs": [],
   "source": [
    "def l8_createFeatureCollection_domains():\n",
    "    return ee.FeatureCollection('users/rfernand387/LANDSAT_LC08_C01_T1_SR/LANDSAT_LC08_C01_T1_SR_DOMAIN')"
   ]
  },
  {
   "cell_type": "code",
   "execution_count": 35,
   "metadata": {},
   "outputs": [],
   "source": [
    "def l8_createFeatureCollection_range():\n",
    "    return ee.FeatureCollection('users/rfernand387/LANDSAT_LC08_C01_T1_SR/LANDSAT_LC08_C01_T1_SR_RANGE')"
   ]
  },
  {
   "cell_type": "code",
   "execution_count": 36,
   "metadata": {},
   "outputs": [],
   "source": [
    "def l8_createFeatureCollection_Network_Ind():\n",
    "    return ee.FeatureCollection('users/rfernand387/LANDSAT_LC08_C01_T1_SR/Parameter_file_sl2p')"
   ]
  },
  {
   "cell_type": "code",
   "execution_count": 37,
   "metadata": {},
   "outputs": [],
   "source": [
    "def l8_createImageCollection_partition():\n",
    "    return ee.ImageCollection('users/rfernand387/NA_NALCMS_2015_tiles').map(lambda image: image.select(\"b1\").rename(\"partition\")).merge(ee.ImageCollection(\"COPERNICUS/Landcover/100m/Proba-V/Global\").map( lambda image: image.select(\"discrete_classification\").remap([0,20,30,40,50,60,70,80,90,100,111,112,113,114,115,116,121,122,123,124,125,126,200],[0,8,10,15,17,16,19,18,14,13,1,3,1,5,6,6,2,4,2,5,6,6,18],0).toUint8().rename(\"partition\")))"
   ]
  },
  {
   "cell_type": "code",
   "execution_count": 38,
   "metadata": {},
   "outputs": [],
   "source": [
    "def l8_createFeatureCollection_legend():\n",
    "    return ee.FeatureCollection('users/rfernand387/LANDSAT_LC08_C01_T1_SR/Legend_sl2p')"
   ]
  },
  {
   "cell_type": "code",
   "execution_count": 39,
   "metadata": {
    "tags": []
   },
   "outputs": [],
   "source": [
    "# add a 'date' band: number of days since epoch\n",
    "def addDate(image):\n",
    "    return image.addBands(ee.Image.constant(ee.Date(image.date()).millis().divide(86400000)).rename('date').toUint16())"
   ]
  },
  {
   "cell_type": "code",
   "execution_count": 40,
   "metadata": {
    "tags": []
   },
   "outputs": [],
   "source": [
    "# computes a delta time property for an image\n",
    "def deltaTime(midDate,image) :\n",
    "    return ee.Image(image.set(\"deltaTime\",ee.Number(image.date().millis()).subtract(ee.Number(midDate)).abs()))"
   ]
  },
  {
   "cell_type": "code",
   "execution_count": 41,
   "metadata": {
    "tags": []
   },
   "outputs": [],
   "source": [
    "# mask pixels that are not clear sky in a S2 MSI image\n",
    "def s2MaskClear(image) :\n",
    "    qa = image.select('QA60');\n",
    "    mask = qa.bitwiseAnd(1<<10).eq(0).And(qa.bitwiseAnd(1<<11).eq(0));\n",
    "    return image.updateMask(mask)"
   ]
  },
  {
   "cell_type": "code",
   "execution_count": 42,
   "metadata": {
    "tags": []
   },
   "outputs": [],
   "source": [
    "# add s2 geometry bands scaled by 10000\n",
    "def addS2Geometry(colOptions,image) :\n",
    "    return (image.addBands(ee.Image.constant(0).multiply(3.1415).divide(180).cos().multiply(10000).toUint16().rename(['cosVZA']))\n",
    "              .addBands(image.metadata(colOptions[\"sza\"]).multiply(3.1415).divide(180).cos().multiply(10000).toUint16().rename(['cosSZA']))\n",
    "              .addBands(image.metadata(colOptions[\"saa\"]).subtract(image.metadata(colOptions[\"saa\"])).multiply(3.1415).divide(180).cos().multiply(10000).toUint16().rename(['cosRAA'])));"
   ]
  },
  {
   "cell_type": "code",
   "execution_count": 43,
   "metadata": {
    "tags": []
   },
   "outputs": [],
   "source": [
    "# Sentinel 2 land mask\n",
    "def s2MaskLand(image) :\n",
    "    return image.updateMask((image.select('SCL').eq(4)).Or(image.select('SCL').eq(5)))"
   ]
  },
  {
   "cell_type": "code",
   "execution_count": 44,
   "metadata": {
    "tags": []
   },
   "outputs": [],
   "source": [
    "# returns image with selected bands scaled\n",
    "def scaleBands(bandList,scaleList,image) :\n",
    "    bandList = ee.List(bandList)\n",
    "    scaleList = ee.List(scaleList)\n",
    "    return image.addBands(srcImg = image.select(bandList).multiply(ee.Image.constant(scaleList)).rename(bandList),overwrite = True)"
   ]
  },
  {
   "cell_type": "code",
   "execution_count": 45,
   "metadata": {
    "tags": []
   },
   "outputs": [],
   "source": [
    "# determine if inputs fall in domain of algorithm\n",
    "# need to be updated to allow for the domain to vary with partition\n",
    "def invalidInput(sl2pDomain,bandList,image) :\n",
    "    \n",
    "    sl2pDomain =  ee.FeatureCollection(sl2pDomain).aggregate_array(\"DomainCode\").sort()\n",
    "    bandList = ee.List(bandList).slice(3)\n",
    "    image = ee.Image(image)\n",
    "\n",
    "    # code image bands into a single band and compare to valid codes to make QC band\n",
    "    image = image.addBands(image.select(bandList)\n",
    "                              .multiply(ee.Image.constant(ee.Number(10)))\n",
    "                              .ceil()\n",
    "                              .mod(ee.Number(10))\n",
    "                              .uint8()\n",
    "                              .multiply(ee.Image.constant(ee.List.sequence(0,bandList.length().subtract(1)).map(lambda value: ee.Number(10).pow(ee.Number(value)))))\n",
    "                              .reduce(\"sum\")  \n",
    "                              .remap(sl2pDomain, ee.List.repeat(0, sl2pDomain.length()),1)\n",
    "                              .rename(\"QC\"))\n",
    "    return image"
   ]
  },
  {
   "cell_type": "code",
   "execution_count": 46,
   "metadata": {
    "tags": []
   },
   "outputs": [],
   "source": [
    "# returns image with single band named network id corresponding given \n",
    "def makeIndexLayer(image,legend,Network_Ind) :\n",
    "    image = ee.Image(image)                          # partition image\n",
    "    legend = ee.FeatureCollection(legend)            # legend to convert partition numbers to networks\n",
    "    Network_Ind = ee.FeatureCollection(Network_Ind)  # legend to convert networks to networkIDs\n",
    "    \n",
    "    # get lists of valid partitions\n",
    "    legend_list = legend.toList(legend.size())\n",
    "    landcover= legend_list.map(lambda feature: ee.Feature(feature).getNumber('Value'))\n",
    "\n",
    "    # get corresponding networkIDs\n",
    "    networkIDs = legend_list.map(lambda feature: ee.Feature(feature).get('SL2P Network')) \\\n",
    "                              .map(lambda propertyValue:  ee.Feature(ee.FeatureCollection(Network_Ind).first()).toDictionary().getNumber(propertyValue))\n",
    "    \n",
    "    return image.remap(landcover, networkIDs, 0).rename('networkID')"
   ]
  },
  {
   "cell_type": "code",
   "execution_count": 47,
   "metadata": {
    "tags": []
   },
   "outputs": [],
   "source": [
    "# read coefficients of a network from csv EE asset\n",
    "def getCoefs(netData,ind) :\n",
    "    return((ee.Feature(netData)).getNumber(ee.String('tabledata').cat(ee.Number(ind).int().format())))"
   ]
  },
  {
   "cell_type": "code",
   "execution_count": 48,
   "metadata": {
    "tags": []
   },
   "outputs": [],
   "source": [
    "# parse one row of CSV file for a network into a global variable\n",
    "# we assume a two hidden layer network with tansig functions but allow for variable nodes per layer\n",
    "def makeNets(feature, M) :\n",
    "    \n",
    "    feature = ee.List(feature);\n",
    "    M = ee.Number(M);\n",
    "    \n",
    "    # get the requested network and initialize the created network\n",
    "    netData = ee.Feature(feature.get(M.subtract(1)));\n",
    "    net = {};\n",
    "    \n",
    "    # input slope\n",
    "    num = ee.Number(6);\n",
    "    start = num.add(1);\n",
    "    end = num.add(netData.getNumber(ee.String('tabledata').cat(num.format())));\n",
    "    net[\"inpSlope\"] = ee.List.sequence(start,end).map(lambda ind: getCoefs(netData,ind))\n",
    "    \n",
    "    # input offset\n",
    "    num = end.add(1)\n",
    "    start = num.add(1)\n",
    "    end = num.add(netData.getNumber(ee.String('tabledata').cat(num.format())))\n",
    "    net[\"inpOffset\"] = ee.List.sequence(start,end).map(lambda ind: getCoefs(netData,ind))\n",
    "\n",
    "    # hidden layer 1 weight\n",
    "    num = end.add(1)\n",
    "    start = num.add(1)\n",
    "    end = num.add(netData.getNumber(ee.String('tabledata').cat(num.format())))\n",
    "    net[\"h1wt\"] = ee.List.sequence(start,end).map(lambda ind: getCoefs(netData,ind))\n",
    "\n",
    "    # hidden layer 1 bias\n",
    "    num = end.add(1)\n",
    "    start = num.add(1)\n",
    "    end = num.add(netData.getNumber(ee.String('tabledata').cat(num.format())))\n",
    "    net[\"h1bi\"] = ee.List.sequence(start,end).map(lambda ind: getCoefs(netData,ind))\n",
    "\n",
    "    # hidden layer 2 weight\n",
    "    num = end.add(1)\n",
    "    start = num.add(1)\n",
    "    end = num.add(netData.getNumber(ee.String('tabledata').cat(num.format())))\n",
    "    net[\"h2wt\"] = ee.List.sequence(start,end).map(lambda ind: getCoefs(netData,ind))\n",
    "  \n",
    "    # hidden layer 2 bias\n",
    "    num = end.add(1)\n",
    "    start = num.add(1)\n",
    "    end = num.add(netData.getNumber(ee.String('tabledata').cat(num.format())))\n",
    "    net[\"h2bi\"] = ee.List.sequence(start,end).map(lambda ind: getCoefs(netData,ind))\n",
    "\n",
    "    # output slope\n",
    "    num = end.add(1)\n",
    "    start = num.add(1)\n",
    "    end = num.add(netData.getNumber(ee.String('tabledata').cat(num.format())))\n",
    "    net[\"outSlope\"] = ee.List.sequence(start,end).map(lambda ind: getCoefs(netData,ind))\n",
    "  \n",
    "    # output offset\n",
    "    num = end.add(1)\n",
    "    start = num.add(1)\n",
    "    end = num.add(netData.getNumber(ee.String('tabledata').cat(num.format())))\n",
    "    net[\"outBias\"] = ee.List.sequence(start,end).map(lambda ind: getCoefs(netData,ind))\n",
    "    \n",
    "    return(ee.Dictionary(net))"
   ]
  },
  {
   "cell_type": "code",
   "execution_count": 49,
   "metadata": {
    "tags": []
   },
   "outputs": [],
   "source": [
    "# parse CSV file with list of networks for a selected variable  \n",
    "# this will parse one network for each landclass partition\n",
    "def makeNetVars(asset, numNets, variableNum) :\n",
    "    \n",
    "    asset= ee.FeatureCollection(asset)\n",
    "    numNets = ee.Number(numNets)\n",
    "    variableNum= ee.Number(variableNum)  \n",
    "\n",
    "    # get selected network \n",
    "    list_features = asset.flatten()\n",
    "    filtered_features = ee.FeatureCollection(asset.filter(ee.Filter.eq('tabledata3', variableNum))).toList(numNets)\n",
    "    \n",
    "    return ee.List.sequence(1,numNets).map(lambda netNum: makeNets(filtered_features,netNum))"
   ]
  },
  {
   "cell_type": "code",
   "execution_count": 50,
   "metadata": {
    "tags": []
   },
   "outputs": [],
   "source": [
    "# returns dictionary with image masked so the networkID band equals the netIndex and the corresponding network\n",
    "def selectNet(image,netList,inputNames,netIndex) :\n",
    "    \n",
    "    image = ee.Image(image)\n",
    "    netList = ee.List(netList)\n",
    "    inputNames = ee.List(inputNames)\n",
    "    netIndex = ee.Number(netIndex).int()\n",
    "    \n",
    "    return ee.Dictionary()  \\\n",
    "            .set(\"Image\", ee.Image(image.updateMask(image.select('networkID').eq(netIndex)).select(inputNames))) \\\n",
    "            .set(\"Network\", ee.List(netList.get(netIndex))) "
   ]
  },
  {
   "cell_type": "code",
   "execution_count": 51,
   "metadata": {
    "tags": []
   },
   "outputs": [],
   "source": [
    "# applies two layer neural network within input and output scaling\n",
    "def applyNet(outputName,netDict) :\n",
    "    \n",
    "    outputName = ee.String(outputName)\n",
    "    netDict = ee.Dictionary(netDict)\n",
    "    \n",
    "    inp = ee.Image(netDict.get('Image'))\n",
    "    net = ee.Dictionary(netDict.get('Network'))\n",
    "    \n",
    "    # input scaling\n",
    "    l1inp2D = inp.multiply(ee.Image(net.toArray(ee.List(['inpSlope']),0).transpose()) \\\n",
    "                                          .arrayProject([0]) \\\n",
    "                                          .arrayFlatten([inp.bandNames()])) \\\n",
    "                   .add(ee.Image(net.toArray(ee.List(['inpOffset']),0).transpose()) \\\n",
    "                                          .arrayProject([0]) \\\n",
    "                                          .arrayFlatten([inp.bandNames()]))\n",
    "    \n",
    "    # hidden layers\n",
    "    l12D = ee.Image(net.toArray(ee.List(['h1wt']),0).reshape([ee.List(net.get('h1bi')).length(),ee.List(net.get('inpOffset')).length()])) \\\n",
    "              .matrixMultiply(l1inp2D.toArray().toArray(1)) \\\n",
    "              .add(ee.Image(net.toArray(ee.List(['h1bi']),0).transpose())) \\\n",
    "              .arrayProject([0]).arrayFlatten([['h1w1','h1w2','h1w3','h1w4','h1w5']])\n",
    "    \n",
    "    # apply tansig 2/(1+exp(-2*n))-1\n",
    "    l2inp2D = ee.Image(2).divide(ee.Image(1).add((ee.Image(-2).multiply(l12D)).exp())).subtract(ee.Image(1))\n",
    "    \n",
    "    # purlin hidden layers\n",
    "    l22D = l2inp2D.multiply(ee.Image(net.toArray(ee.List(['h2wt']),0).transpose()) \\\n",
    "                                          .arrayProject([0]) \\\n",
    "                                          .arrayFlatten([['h2w1','h2w2','h2w3','h2w4','h2w5']])) \\\n",
    "                    .reduce('sum') \\\n",
    "                    .add(ee.Image(net.toArray(ee.List(['h2bi']),0))) \\\n",
    "                                          .arrayProject([0]) \\\n",
    "                                          .arrayFlatten([['h2bi']])\n",
    "    \n",
    "    # output scaling \n",
    "    outputBand = l22D.subtract(ee.Image(ee.Number(net.get('outBias')))) \\\n",
    "                    .divide(ee.Image(ee.Number(net.get('outSlope')))) \n",
    "    \n",
    "    # return network output\n",
    "    return (outputBand.rename(outputName))"
   ]
  },
  {
   "cell_type": "code",
   "execution_count": 52,
   "metadata": {
    "tags": []
   },
   "outputs": [],
   "source": [
    "# returns image with single band named networkid corresponding given \n",
    "# input partition image remapped to networkIDs\n",
    "# applies a set of shallow networks to an image based on a provided partition image band\n",
    "def wrapperNNets(network, partition, netOptions, colOptions, suffixName, imageInput) :\n",
    "\n",
    "    # typecast function parameters\n",
    "    network = ee.List(network)\n",
    "    partition = ee.Image(partition)\n",
    "    netOptions = netOptions\n",
    "    colOptions = colOptions\n",
    "    suffixName = suffixName\n",
    "    imageInput = ee.Image(imageInput)\n",
    "\n",
    "    # parse partition  used to identify network to use\n",
    "    partition = partition.clip(imageInput.geometry()).select(['partition'])\n",
    "\n",
    "    # determine networks based on collection\n",
    "    netList = ee.List(network.get(ee.Number(netOptions.get(\"variable\")).subtract(1))); \n",
    "    \n",
    "    # parse land cover into network index and add to input image\n",
    "    imageInput = imageInput.addBands(makeIndexLayer(partition,colOptions[\"legend\"],colOptions[\"Network_Ind\"]))\n",
    "\n",
    "    # define list of input names\n",
    "    return ee.ImageCollection(ee.List.sequence(0, netList.size().subtract(1)) \\\n",
    "                                                    .map(lambda netIndex: selectNet(imageInput,netList,netOptions[\"inputBands\"],netIndex)) \\\n",
    "                                                    .map(lambda netDict: applyNet(suffixName+outputName,netDict))) \\\n",
    "                                .max() \\\n",
    "                  .addBands(partition) \\\n",
    "                  .addBands(imageInput.select('networkID'))"
   ]
  },
  {
   "cell_type": "code",
   "execution_count": 53,
   "metadata": {
    "tags": []
   },
   "outputs": [],
   "source": [
    "# returns dictionary with image masked so the networkID band equals the netIndex and the corresponding network\n",
    "def selectNet2(image,netList,inputNames,netIndex) :\n",
    "    \n",
    "    image = ee.Image(image)\n",
    "    netList = ee.List(netList)\n",
    "    inputNames = ee.List(inputNames)\n",
    "    netIndex = ee.Number(netIndex).int()\n",
    "    result = ee.Dictionary()  \\\n",
    "            .set(\"Image\", ee.Image(image.updateMask(image.select('networkID').eq(netIndex)).select(inputNames))) \\\n",
    "            .set(\"Network\", ee.List(netList.get(netIndex)))\n",
    "    return result"
   ]
  },
  {
   "cell_type": "code",
   "execution_count": 54,
   "metadata": {
    "tags": []
   },
   "outputs": [],
   "source": [
    "# applies two layer neural network within input and output scaling\n",
    "def applyNet2(outputName,netDict) :\n",
    "    \n",
    "    outputName = ee.String(outputName)\n",
    "    netDict = ee.Dictionary(netDict)\n",
    "    inp = ee.Image(netDict.get('Image'))\n",
    "    net = ee.Dictionary(netDict.get('Network'))\n",
    "    \n",
    "    # input scaling\n",
    "    l1inp2D = inp.multiply(ee.Image(net.toArray(ee.List(['inpSlope']),0).transpose()) \\\n",
    "                                          .arrayProject([0]) \\\n",
    "                                          .arrayFlatten([inp.bandNames()])) \\\n",
    "                   .add(ee.Image(net.toArray(ee.List(['inpOffset']),0).transpose()) \\\n",
    "                                          .arrayProject([0]) \\\n",
    "                                          .arrayFlatten([inp.bandNames()]))\n",
    "\n",
    "    # hidden layers\n",
    "    l12D = ee.Image(net.toArray(ee.List(['h1wt']),0).reshape([ee.List(net.get('h1bi')).length(),ee.List(net.get('inpOffset')).length()])) \\\n",
    "              .matrixMultiply(l1inp2D.toArray().toArray(1)) \\\n",
    "              .add(ee.Image(net.toArray(ee.List(['h1bi']),0).transpose())) \\\n",
    "              .arrayProject([0]).arrayFlatten([['h1w1','h1w2','h1w3','h1w4','h1w5']])\n",
    "    \n",
    "    # apply tansig 2/(1+exp(-2*n))-1\n",
    "    l2inp2D = ee.Image(2).divide(ee.Image(1).add((ee.Image(-2).multiply(l12D)).exp())).subtract(ee.Image(1))\n",
    "    \n",
    "    # purlin hidden layers\n",
    "    l22D = l2inp2D.multiply(ee.Image(net.toArray(ee.List(['h2wt']),0).transpose()) \\\n",
    "                                          .arrayProject([0]) \\\n",
    "                                          .arrayFlatten([['h2w1','h2w2','h2w3','h2w4','h2w5']])) \\\n",
    "                    .reduce('sum') \\\n",
    "                    .add(ee.Image(net.toArray(ee.List(['h2bi']),0))) \\\n",
    "                                          .arrayProject([0]) \\\n",
    "                                          .arrayFlatten([['h2bi']])\n",
    "    \n",
    "    # output scaling \n",
    "    outputBand = l22D.subtract(ee.Image(ee.Number(net.get('outBias')))) \\\n",
    "                    .divide(ee.Image(ee.Number(net.get('outSlope')))) \n",
    "\n",
    "    # return network output\n",
    "    return (outputBand.rename(outputName))"
   ]
  },
  {
   "cell_type": "code",
   "execution_count": 55,
   "metadata": {
    "tags": []
   },
   "outputs": [],
   "source": [
    "# read coefficients of a network from csv EE asset\n",
    "def getCoefs2(netData,ind) :\n",
    "    return((ee.Feature(netData)).getNumber(ee.String('tabledata').cat(ee.Number(ind).int().format())))"
   ]
  },
  {
   "cell_type": "code",
   "execution_count": 56,
   "metadata": {
    "tags": []
   },
   "outputs": [],
   "source": [
    "# parse one row of CSV file for a network into a global variable\n",
    "# We assume a two hidden layer network with tansig functions but allow for variable nodes per layer\n",
    "def makeNets2(feature, M) :\n",
    "    \n",
    "    feature = ee.List(feature);\n",
    "    M = ee.Number(M);\n",
    "    \n",
    "    # get the requested network and initialize the created network\n",
    "    netData = ee.Feature(feature.get(M.subtract(1)));\n",
    "    net = ee.Dictionary();\n",
    "    \n",
    "    # input slope\n",
    "    num = ee.Number(6);\n",
    "    start = num.add(1);\n",
    "    end = num.add(netData.getNumber(ee.String('tabledata').cat(num.format())));\n",
    "    net = net.set(\"inpSlope\", ee.List.sequence(start,end).map(lambda ind: getCoefs(netData,ind)))\n",
    "    \n",
    "    # input offset\n",
    "    num = end.add(1)\n",
    "    start = num.add(1)\n",
    "    end = num.add(netData.getNumber(ee.String('tabledata').cat(num.format())));\n",
    "    net = net.set(\"inpOffset\", ee.List.sequence(start,end).map(lambda ind: getCoefs(netData,ind)))\n",
    "\n",
    "    # hidden layer 1 weight\n",
    "    num = end.add(1)\n",
    "    start = num.add(1)\n",
    "    end = num.add(netData.getNumber(ee.String('tabledata').cat(num.format())));\n",
    "    net = net.set(\"h1wt\", ee.List.sequence(start,end).map(lambda ind: getCoefs(netData,ind)))\n",
    "\n",
    "    # hidden layer 1 bias\n",
    "    num = end.add(1)\n",
    "    start = num.add(1)\n",
    "    end = num.add(netData.getNumber(ee.String('tabledata').cat(num.format())));\n",
    "    net = net.set(\"h1bi\", ee.List.sequence(start,end).map(lambda ind: getCoefs(netData,ind)))\n",
    "\n",
    "    # hidden layer 2 weight\n",
    "    num = end.add(1)\n",
    "    start = num.add(1)\n",
    "    end = num.add(netData.getNumber(ee.String('tabledata').cat(num.format())));\n",
    "    net = net.set(\"h2wt\", ee.List.sequence(start,end).map(lambda ind: getCoefs(netData,ind)))\n",
    "  \n",
    "    # hidden layer 2 bias\n",
    "    num = end.add(1)\n",
    "    start = num.add(1)\n",
    "    end = num.add(netData.getNumber(ee.String('tabledata').cat(num.format())));\n",
    "    net = net.set(\"h2bi\", ee.List.sequence(start,end).map(lambda ind: getCoefs(netData,ind)))\n",
    "\n",
    "    # output slope\n",
    "    num = end.add(1)\n",
    "    start = num.add(1)\n",
    "    end = num.add(netData.getNumber(ee.String('tabledata').cat(num.format())));\n",
    "    net = net.set(\"outSlope\", ee.List.sequence(start,end).map(lambda ind: getCoefs(netData,ind)))\n",
    "  \n",
    "    # output offset\n",
    "    num = end.add(1)\n",
    "    start = num.add(1)\n",
    "    end = num.add(netData.getNumber(ee.String('tabledata').cat(num.format())));\n",
    "    net = net.set(\"outBias\", ee.List.sequence(start,end).map(lambda ind: getCoefs(netData,ind)))\n",
    "\n",
    "    return(net)\n"
   ]
  },
  {
   "cell_type": "code",
   "execution_count": 57,
   "metadata": {
    "tags": []
   },
   "outputs": [],
   "source": [
    "# parse CSV file with list of networks for a selected variable  \n",
    "# this will parse one network for each landclass partition\n",
    "def makeNetVars2(asset, numNets, variableNum) :\n",
    "    \n",
    "    asset = ee.FeatureCollection(asset)\n",
    "    numNets = ee.Number(numNets)\n",
    "    variableNum = ee.Number(variableNum)\n",
    "    \n",
    "    # get selected network \n",
    "    filtered_features = ee.FeatureCollection(asset.filter(ee.Filter.eq('tabledata3', variableNum))).toList(numNets)\n",
    "    \n",
    "    # make only first net\n",
    "    netList = makeNets2(filtered_features,1)\n",
    "    return netList\n",
    "    # return ee.List.sequence(1,numNets).map(lambda netNum: makeNets(filtered_features,netNum))"
   ]
  },
  {
   "cell_type": "code",
   "execution_count": 58,
   "metadata": {
    "tags": []
   },
   "outputs": [],
   "source": [
    "# returns image with single band named network id corresponding given \n",
    "def makeIndexLayer2(image,legend,Network_Ind) :\n",
    "    \n",
    "    image = ee.Image(image)                        # partition image\n",
    "    legend = ee.FeatureCollection(legend)          # legend to convert partition numbers to networks\n",
    "    Network_Ind = ee.FeatureCollection(Network_Ind) # legend to convert networks to networkIDs\n",
    "    \n",
    "    # get lists of valid partitions\n",
    "    legend_list = legend.toList(legend.size())\n",
    "    landcover = legend_list.map(lambda feature: ee.Feature(feature).getNumber('Value'))\n",
    "\n",
    "    # get corresponding networkIDs\n",
    "    networkIDs = legend_list.map(lambda feature: ee.Feature(feature).get('SL2P Network')) \\\n",
    "                              .map(lambda propertyValue:  ee.Feature(ee.FeatureCollection(Network_Ind).first()).toDictionary().getNumber(propertyValue))\n",
    "    return image.remap(landcover, networkIDs, 0).rename('networkID')"
   ]
  },
  {
   "cell_type": "code",
   "execution_count": 59,
   "metadata": {
    "tags": []
   },
   "outputs": [],
   "source": [
    "# returns image with single band named networkid corresponding given \n",
    "# input partition image remapped to networkIDs\n",
    "# applies a set of shallow networks to an image based on a provided partition image band\n",
    "def wrapperNNets2(network, partition, netOptions, colOptions, layerName, imageInput) :\n",
    "\n",
    "    # typecast function parameters\n",
    "    network = ee.List(network)\n",
    "    partition = ee.Image(partition)\n",
    "    netOptions = ee.Dictionary(netOptions)\n",
    "    colOptions = ee.Dictionary(colOptions)\n",
    "    layerName = ee.String(layerName)\n",
    "    imageInput = ee.Image(imageInput)\n",
    "\n",
    "    # parse partition  used to identify network to use\n",
    "    partition = partition.clip(imageInput.geometry()).select(['partition'])\n",
    "\n",
    "    # determine networks based on collection\n",
    "    netList = ee.List(network.get(ee.Number(netOptions.get(\"variable\")).subtract(1))) \n",
    "    \n",
    "    # parse land cover into network index and add to input image\n",
    "    imageInput = imageInput.addBands(makeIndexLayer2(partition,colOptions.get(\"legend\"),colOptions.get(\"Network_Ind\")))\n",
    "\n",
    "\n",
    "    # define list of input names\n",
    "    netIndex = 0;\n",
    "    netDict = ee.Dictionary(selectNet2(imageInput,netList,netOptions.get(\"inputBands\"),netIndex));\n",
    "    estimate = ee.Image(applyNet2(layerName,netDict))\n",
    "\n",
    "    return estimate.addBands(partition).addBands(imageInput.select('networkID'))"
   ]
  },
  {
   "cell_type": "code",
   "execution_count": 77,
   "metadata": {},
   "outputs": [],
   "source": [
    "COLLECTION_OPTIONS = {\n",
    "    # Sentinel 2 at 20 m resolution:\n",
    "    'COPERNICUS/S2_SR': {\n",
    "      \"name\": 'COPERNICUS/S2_SR',\n",
    "      \"description\": 'Sentinel 2A',\n",
    "      \"Cloudcover\": 'CLOUDY_PIXEL_PERCENTAGE',\n",
    "      \"Watercover\": 'WATER_PERCENTAGE',\n",
    "      \"sza\": 'MEAN_SOLAR_ZENITH_ANGLE',\n",
    "      \"vza\": 'MEAN_INCIDENCE_ZENITH_ANGLE_B8A',\n",
    "      \"saa\": 'MEAN_SOLAR_AZIMUTH_ANGLE', \n",
    "      \"vaa\": 'MEAN_INCIDENCE_AZIMUTH_ANGLE_B8A',\n",
    "      \"VIS_OPTIONS\": 'VIS_OPTIONS',\n",
    "      \"Collection_SL2P\": ee.FeatureCollection(s2_createFeatureCollection_estimates()),\n",
    "      \"Collection_SL2Perrors\": ee.FeatureCollection(s2_createFeatureCollection_errors()),  \n",
    "      \"sl2pDomain\": ee.FeatureCollection(s2_createFeatureCollection_domains()),\n",
    "      \"Network_Ind\": ee.FeatureCollection(s2_createFeatureCollection_Network_Ind()),\n",
    "      \"partition\": ee.ImageCollection(s2_createImageCollection_partition()),\n",
    "      \"legend\":  ee.FeatureCollection(s2_createFeatureCollection_legend()),\n",
    "      \"numVariables\": 7\n",
    "    },\n",
    "    # Sentinel 2 at 10 m resolution:\n",
    "    'COPERNICUS/S2_SR_10m': {\n",
    "      \"name\": 'COPERNICUS/S2_SR',\n",
    "      \"description\": 'Sentinel 2A',\n",
    "      \"Cloudcover\": 'CLOUDY_PIXEL_PERCENTAGE',\n",
    "      \"Watercover\": 'WATER_PERCENTAGE',\n",
    "      \"sza\": 'MEAN_SOLAR_ZENITH_ANGLE',\n",
    "      \"vza\": 'MEAN_INCIDENCE_ZENITH_ANGLE_B8A',\n",
    "      \"saa\": 'MEAN_SOLAR_AZIMUTH_ANGLE', \n",
    "      \"vaa\": 'MEAN_INCIDENCE_AZIMUTH_ANGLE_B8A',\n",
    "      \"VIS_OPTIONS\": 'VIS_OPTIONS',\n",
    "      \"Collection_SL2P\": ee.FeatureCollection(s2_10m_createFeatureCollection_estimates()),\n",
    "      \"Collection_SL2Perrors\": ee.FeatureCollection(s2_10m_createFeatureCollection_errors()),  \n",
    "      \"sl2pDomain\": ee.FeatureCollection(s2_10m_createFeatureCollection_domains()),\n",
    "      \"Network_Ind\": ee.FeatureCollection(s2_createFeatureCollection_Network_Ind()),\n",
    "      \"partition\": ee.ImageCollection(s2_createImageCollection_partition()),\n",
    "      \"legend\":  ee.FeatureCollection(s2_createFeatureCollection_legend()),\n",
    "      \"numVariables\": 7\n",
    "    },\n",
    "    'LANDSAT/LC08/C01/T1_SR': {\n",
    "      \"name\": 'LANDSAT/LC08/C01/T1_SR',\n",
    "      \"description\": 'LANDSAT 8',\n",
    "      \"Cloudcover\": 'CLOUD_COVER_LAND',\n",
    "      \"Watercover\": 'CLOUD_COVER',\n",
    "      \"sza\": 'SOLAR_ZENITH_ANGLE',\n",
    "      \"vza\": 'SOLAR_ZENITH_ANGLE',\n",
    "      \"saa\": 'SOLAR_AZIMUTH_ANGLE', \n",
    "      \"vaa\": 'SOLAR_AZIMUTH_ANGLE',\n",
    "      \"VIS_OPTIONS\": 'VIS_OPTIONS',\n",
    "      \"Collection_SL2P\": ee.FeatureCollection(l8_createFeatureCollection_estimates()),\n",
    "      \"Collection_SL2Perrors\": ee.FeatureCollection(l8_createFeatureCollection_errors()),\n",
    "      \"sl2pDomain\": ee.FeatureCollection(l8_createFeatureCollection_domains()),\n",
    "      \"Network_Ind\": ee.FeatureCollection(l8_createFeatureCollection_Network_Ind()),\n",
    "      \"partition\": ee.ImageCollection(l8_createImageCollection_partition()),\n",
    "      \"legend\":  ee.FeatureCollection(l8_createFeatureCollection_legend()),\n",
    "      \"numVariables\": 7\n",
    "    }\n",
    "}\n",
    "VIS_OPTIONS = {\n",
    "    'Surface_Reflectance': {\n",
    "        \"COPERNICUS/S2_SR\": {\n",
    "            \"Name\": 'Surface_Reflectance',\n",
    "            \"description\": 'Surface_Reflectance',\n",
    "            \"inp\": ['B4', 'B5', 'B6', 'B7', 'B8A', 'B9', 'B11', 'B12']\n",
    "        },\n",
    "        \"COPERNICUS/S2_SR_10m\": {\n",
    "            \"Name\": 'Surface_Reflectance',\n",
    "            \"description\": 'Surface_Reflectance',\n",
    "            \"inp\": ['B2', 'B3', 'B4', 'B8']\n",
    "        }\n",
    "    },\n",
    "    'Albedo': {\n",
    "        \"COPERNICUS/S2_SR\": {\n",
    "            \"Name\": 'Albedo',\n",
    "            \"errorName\": 'errorAlbedo',\n",
    "            \"maskName\": 'maskAlbedo',\n",
    "            \"description\": 'Black sky albedo',\n",
    "            \"variable\": 6,\n",
    "            \"inputBands\":      ['cosVZA', 'cosSZA', 'cosRAA', 'B3', 'B4', 'B5', 'B6', 'B7', 'B8A', 'B11', 'B12'],\n",
    "            \"inputScaling\":    [0.0001, 0.0001, 0.0001, 0.0001, 0.0001, 0.0001, 0.0001, 0.0001, 0.0001, 0.0001, 0.0001],\n",
    "            \"outmin\": (ee.Image(ee.Array([[0]]))),\n",
    "            \"outmax\": (ee.Image(ee.Array([[1]])))\n",
    "        },\n",
    "        \"COPERNICUS/S2_SR_10m\": {\n",
    "            \"Name\": 'Albedo',\n",
    "            \"errorName\": 'errorAlbedo',\n",
    "            \"maskName\": 'maskAlbedo',\n",
    "            \"description\": 'Black sky albedo',\n",
    "            \"variable\": 6,\n",
    "            \"inputBands\":      ['cosVZA', 'cosSZA', 'cosRAA', 'B2', 'B3', 'B4', 'B8'],\n",
    "            \"inputScaling\":    [0.0001, 0.0001, 0.0001, 0.0001, 0.0001, 0.0001, 0.0001],\n",
    "            \"outmin\": (ee.Image(ee.Array([[0]]))),\n",
    "            \"outmax\": (ee.Image(ee.Array([[1]])))\n",
    "        }\n",
    "    },\n",
    "    'fAPAR': {\n",
    "        \"COPERNICUS/S2_SR\": {\n",
    "            \"Name\": 'fAPAR',\n",
    "            \"errorName\": 'errorfAPAR',\n",
    "            \"maskName\": 'maskfAPAR',\n",
    "            \"description\": 'Fraction of absorbed photosynthetically active radiation',\n",
    "            \"variable\": 2,\n",
    "            \"inputBands\":      ['cosVZA', 'cosSZA', 'cosRAA', 'B3', 'B4', 'B5', 'B6', 'B7', 'B8A', 'B11', 'B12'],\n",
    "            \"inputScaling\":    [0.0001, 0.0001, 0.0001, 0.0001, 0.0001, 0.0001, 0.0001, 0.0001, 0.0001, 0.0001, 0.0001],\n",
    "            \"outmin\": (ee.Image(ee.Array([[0]]))),\n",
    "            \"outmax\": (ee.Image(ee.Array([[1]])))\n",
    "        },\n",
    "        \"COPERNICUS/S2_SR_10m\": {\n",
    "            \"Name\": 'fAPAR',\n",
    "            \"errorName\": 'errorfAPAR',\n",
    "            \"maskName\": 'maskfAPAR',\n",
    "            \"description\": 'Fraction of absorbed photosynthetically active radiation',\n",
    "            \"variable\": 2,\n",
    "            \"inputBands\":      ['cosVZA', 'cosSZA', 'cosRAA', 'B2', 'B3', 'B4', 'B8'],\n",
    "            \"inputScaling\":    [0.0001, 0.0001, 0.0001, 0.0001, 0.0001, 0.0001, 0.0001],\n",
    "            \"outmin\": (ee.Image(ee.Array([[0]]))),\n",
    "            \"outmax\": (ee.Image(ee.Array([[1]])))\n",
    "        }\n",
    "    },\n",
    "    'fCOVER': {\n",
    "        \"COPERNICUS/S2_SR\": {\n",
    "            \"Name\": 'fCOVER',\n",
    "            \"errorName\": 'errorfCOVER',\n",
    "            \"maskName\": 'maskfCOVER',\n",
    "            \"description\": 'Fraction of canopy cover',\n",
    "            \"variable\": 3,\n",
    "            \"inputBands\":      ['cosVZA', 'cosSZA', 'cosRAA', 'B3', 'B4', 'B5', 'B6', 'B7', 'B8A', 'B11', 'B12'],\n",
    "            \"inputScaling\":    [0.0001, 0.0001, 0.0001, 0.0001, 0.0001, 0.0001, 0.0001, 0.0001, 0.0001, 0.0001, 0.0001],\n",
    "            \"outmin\": (ee.Image(ee.Array([[0]]))),\n",
    "            \"outmax\": (ee.Image(ee.Array([[1]]))) \n",
    "        },\n",
    "        \"COPERNICUS/S2_SR_10m\": {\n",
    "            \"Name\": 'fCOVER',\n",
    "            \"errorName\": 'errorfCOVER',\n",
    "            \"maskName\": 'maskfCOVER',\n",
    "            \"description\": 'Fraction of canopy cover',\n",
    "            \"variable\": 3,\n",
    "            \"inputBands\":      ['cosVZA', 'cosSZA', 'cosRAA', 'B2', 'B3', 'B4', 'B8'],\n",
    "            \"inputScaling\":    [0.0001, 0.0001, 0.0001, 0.0001, 0.0001, 0.0001, 0.0001],\n",
    "            \"outmin\": (ee.Image(ee.Array([[0]]))),\n",
    "            \"outmax\": (ee.Image(ee.Array([[1]]))) \n",
    "        }\n",
    "    },\n",
    "    'LAI': {\n",
    "        \"COPERNICUS/S2_SR\": {\n",
    "            \"Name\": 'LAI',\n",
    "            \"errorName\": 'errorLAI',\n",
    "            \"maskName\": 'maskLAI',\n",
    "            \"description\": 'Leaf area index',\n",
    "            \"variable\": 1,\n",
    "            \"inputBands\":      ['cosVZA', 'cosSZA', 'cosRAA', 'B3', 'B4', 'B5', 'B6', 'B7', 'B8A', 'B11', 'B12'],\n",
    "            \"inputScaling\":    [0.0001, 0.0001, 0.0001, 0.0001, 0.0001, 0.0001, 0.0001, 0.0001, 0.0001, 0.0001, 0.0001],\n",
    "            \"outmin\": (ee.Image(ee.Array([[0]]))),\n",
    "            \"outmax\": (ee.Image(ee.Array([[1]])))\n",
    "        },\n",
    "        \"COPERNICUS/S2_SR_10m\": {\n",
    "            \"Name\": 'LAI',\n",
    "            \"errorName\": 'errorLAI',\n",
    "            \"maskName\": 'maskLAI',\n",
    "            \"description\": 'Leaf area index',\n",
    "            \"variable\": 1,\n",
    "            \"inputBands\":      ['cosVZA', 'cosSZA', 'cosRAA', 'B2', 'B3', 'B4', 'B8'],\n",
    "            \"inputScaling\":    [0.0001, 0.0001, 0.0001, 0.0001, 0.0001, 0.0001, 0.0001],\n",
    "            \"outmin\": (ee.Image(ee.Array([[0]]))),\n",
    "            \"outmax\": (ee.Image(ee.Array([[1]])))\n",
    "        }\n",
    "    },\n",
    "    'CCC': {\n",
    "        \"COPERNICUS/S2_SR\": {\n",
    "            \"Name\": 'CCC',\n",
    "            \"errorName\": 'errorCCC',\n",
    "            \"maskName\": 'maskCCC',\n",
    "            \"description\": 'Canopy chlorophyll content',\n",
    "            \"variable\": 1,\n",
    "            \"inputBands\":      ['cosVZA', 'cosSZA', 'cosRAA', 'B3', 'B4', 'B5', 'B6', 'B7', 'B8A', 'B11', 'B12'],\n",
    "            \"inputScaling\":    [0.0001, 0.0001, 0.0001, 0.0001, 0.0001, 0.0001, 0.0001, 0.0001, 0.0001, 0.0001, 0.0001],\n",
    "            \"outmin\": (ee.Image(ee.Array([[0]]))),\n",
    "            \"outmax\": (ee.Image(ee.Array([[1000]])))\n",
    "        },\n",
    "        \"COPERNICUS/S2_SR_10m\": {\n",
    "            \"Name\": 'CCC',\n",
    "            \"errorName\": 'errorCCC',\n",
    "            \"maskName\": 'maskCCC',\n",
    "            \"description\": 'Canopy chlorophyll content',\n",
    "            \"variable\": 1,\n",
    "            \"inputBands\":      ['cosVZA', 'cosSZA', 'cosRAA', 'B2', 'B3', 'B4', 'B8'],\n",
    "            \"inputScaling\":    [0.0001, 0.0001, 0.0001, 0.0001, 0.0001, 0.0001, 0.0001],\n",
    "            \"outmin\": (ee.Image(ee.Array([[0]]))),\n",
    "            \"outmax\": (ee.Image(ee.Array([[1000]])))\n",
    "        }\n",
    "    },\n",
    "    'CWC': {\n",
    "        \"COPERNICUS/S2_SR\": {\n",
    "            \"Name\": 'CWC',\n",
    "            \"errorName\": 'errorCWC',\n",
    "            \"maskName\": 'maskCWC',\n",
    "            \"description\": 'Canopy water content',\n",
    "            \"variable\": 1,\n",
    "            \"inputBands\":      ['cosVZA', 'cosSZA', 'cosRAA', 'B3', 'B4', 'B5', 'B6', 'B7', 'B8A', 'B11', 'B12'],\n",
    "            \"inputScaling\":    [0.0001, 0.0001, 0.0001, 0.0001, 0.0001, 0.0001, 0.0001, 0.0001, 0.0001, 0.0001, 0.0001],\n",
    "            \"outmin\": (ee.Image(ee.Array([[0]]))),\n",
    "            \"outmax\": (ee.Image(ee.Array([[100]])))\n",
    "        },\n",
    "        \"COPERNICUS/S2_SR_10m\": {\n",
    "            \"Name\": 'CWC',\n",
    "            \"errorName\": 'errorCWC',\n",
    "            \"maskName\": 'maskCWC',\n",
    "            \"description\": 'Canopy water content',\n",
    "            \"variable\": 1,\n",
    "            \"inputBands\":      ['cosVZA', 'cosSZA', 'cosRAA', 'B2', 'B3', 'B4', 'B8'],\n",
    "            \"inputScaling\":    [0.0001, 0.0001, 0.0001, 0.0001, 0.0001, 0.0001, 0.0001],\n",
    "            \"outmin\": (ee.Image(ee.Array([[0]]))),\n",
    "            \"outmax\": (ee.Image(ee.Array([[100]])))\n",
    "        }\n",
    "    },\n",
    "    'DASF': {\n",
    "        \"COPERNICUS/S2_SR\": {\n",
    "            \"Name\": 'DASF',\n",
    "            \"errorName\": 'errorDASF',\n",
    "            \"maskName\": 'maskDASF',\n",
    "            \"description\": 'Directional area scattering factor',\n",
    "            \"variable\": 1,\n",
    "            \"inputBands\":      ['cosVZA', 'cosSZA', 'cosRAA', 'B3', 'B4', 'B5', 'B6', 'B7', 'B8A', 'B11', 'B12'],\n",
    "            \"inputScaling\":    [0.0001, 0.0001, 0.0001, 0.0001, 0.0001, 0.0001, 0.0001, 0.0001, 0.0001, 0.0001, 0.0001],\n",
    "            \"outmin\": (ee.Image(ee.Array([[0]]))),\n",
    "            \"outmax\": (ee.Image(ee.Array([[1]])))\n",
    "        },\n",
    "        \"COPERNICUS/S2_SR_10m\": {\n",
    "            \"Name\": 'DASF',\n",
    "            \"errorName\": 'errorDASF',\n",
    "            \"maskName\": 'maskDASF',\n",
    "            \"description\": 'Directional area scattering factor',\n",
    "            \"variable\": 1,\n",
    "            \"inputBands\":      ['cosVZA', 'cosSZA', 'cosRAA', 'B2', 'B3', 'B4', 'B8'],\n",
    "            \"inputScaling\":    [0.0001, 0.0001, 0.0001, 0.0001, 0.0001, 0.0001, 0.0001],\n",
    "            \"outmin\": (ee.Image(ee.Array([[0]]))),\n",
    "            \"outmax\": (ee.Image(ee.Array([[1]])))\n",
    "        }\n",
    "    }\n",
    "}"
   ]
  },
  {
   "cell_type": "code",
   "execution_count": 78,
   "metadata": {
    "tags": []
   },
   "outputs": [],
   "source": [
    "# parse the networks\n",
    "colOptions = COLLECTION_OPTIONS[colName]\n",
    "netOptions = VIS_OPTIONS[outputName][colName]\n",
    "numNets = ee.Number(ee.Feature((COLLECTION_OPTIONS[colName][\"Network_Ind\"]).first()).propertyNames().remove('Feature Index').remove('system:index').remove('lon').size())\n",
    "# SL2P1 = makeNetVars2(COLLECTION_OPTIONS[colName][\"Collection_SL2P\"],numNets,1)\n",
    "SL2P = ee.List.sequence(1,ee.Number(COLLECTION_OPTIONS[colName][\"numVariables\"]),1).map(lambda netNum: makeNetVars(COLLECTION_OPTIONS[colName][\"Collection_SL2P\"],numNets,netNum));\n",
    "errorsSL2P = ee.List.sequence(1,ee.Number(COLLECTION_OPTIONS[colName][\"numVariables\"]),1).map(lambda netNum: makeNetVars(COLLECTION_OPTIONS[colName][\"Collection_SL2Perrors\"],numNets,netNum));"
   ]
  },
  {
   "cell_type": "code",
   "execution_count": 81,
   "metadata": {
    "tags": []
   },
   "outputs": [],
   "source": [
    "# SL2P10_10m\n",
    "# parse the networks\n",
    "colOptions = COLLECTION_OPTIONS[colName_10m]\n",
    "netOptions = VIS_OPTIONS[outputName][colName_10m]\n",
    "numNets = ee.Number(ee.Feature((COLLECTION_OPTIONS[colName_10m][\"Network_Ind\"]).first()).propertyNames().remove('Feature Index').remove('system:index').remove('lon').size())\n",
    "# SL2P1 = makeNetVars2(COLLECTION_OPTIONS[colName][\"Collection_SL2P\"],numNets,1)\n",
    "SL2P = ee.List.sequence(1,ee.Number(COLLECTION_OPTIONS[colName_10m][\"numVariables\"]),1).map(lambda netNum: makeNetVars(COLLECTION_OPTIONS[colName_10m][\"Collection_SL2P\"],numNets,netNum));\n",
    "errorsSL2P = ee.List.sequence(1,ee.Number(COLLECTION_OPTIONS[colName_10m][\"numVariables\"]),1).map(lambda netNum: makeNetVars(COLLECTION_OPTIONS[colName_10m][\"Collection_SL2Perrors\"],numNets,netNum));"
   ]
  },
  {
   "cell_type": "code",
   "execution_count": 91,
   "metadata": {},
   "outputs": [
    {
     "name": "stdout",
     "output_type": "stream",
     "text": [
      "5\n"
     ]
    },
    {
     "data": {
      "text/html": [
       "<div style=\"width:100%;\"><div style=\"position:relative;width:100%;height:0;padding-bottom:60%;\"><span style=\"color:#565656\">Make this Notebook Trusted to load map: File -> Trust Notebook</span><iframe src=\"about:blank\" style=\"position:absolute;width:100%;height:100%;left:0;top:0;border:none !important;\" data-html=%3C%21DOCTYPE%20html%3E%0A%3Chead%3E%20%20%20%20%0A%20%20%20%20%3Cmeta%20http-equiv%3D%22content-type%22%20content%3D%22text/html%3B%20charset%3DUTF-8%22%20/%3E%0A%20%20%20%20%0A%20%20%20%20%20%20%20%20%3Cscript%3E%0A%20%20%20%20%20%20%20%20%20%20%20%20L_NO_TOUCH%20%3D%20false%3B%0A%20%20%20%20%20%20%20%20%20%20%20%20L_DISABLE_3D%20%3D%20false%3B%0A%20%20%20%20%20%20%20%20%3C/script%3E%0A%20%20%20%20%0A%20%20%20%20%3Cstyle%3Ehtml%2C%20body%20%7Bwidth%3A%20100%25%3Bheight%3A%20100%25%3Bmargin%3A%200%3Bpadding%3A%200%3B%7D%3C/style%3E%0A%20%20%20%20%3Cstyle%3E%23map%20%7Bposition%3Aabsolute%3Btop%3A0%3Bbottom%3A0%3Bright%3A0%3Bleft%3A0%3B%7D%3C/style%3E%0A%20%20%20%20%3Cscript%20src%3D%22https%3A//cdn.jsdelivr.net/npm/leaflet%401.6.0/dist/leaflet.js%22%3E%3C/script%3E%0A%20%20%20%20%3Cscript%20src%3D%22https%3A//code.jquery.com/jquery-1.12.4.min.js%22%3E%3C/script%3E%0A%20%20%20%20%3Cscript%20src%3D%22https%3A//maxcdn.bootstrapcdn.com/bootstrap/3.2.0/js/bootstrap.min.js%22%3E%3C/script%3E%0A%20%20%20%20%3Cscript%20src%3D%22https%3A//cdnjs.cloudflare.com/ajax/libs/Leaflet.awesome-markers/2.0.2/leaflet.awesome-markers.js%22%3E%3C/script%3E%0A%20%20%20%20%3Clink%20rel%3D%22stylesheet%22%20href%3D%22https%3A//cdn.jsdelivr.net/npm/leaflet%401.6.0/dist/leaflet.css%22/%3E%0A%20%20%20%20%3Clink%20rel%3D%22stylesheet%22%20href%3D%22https%3A//maxcdn.bootstrapcdn.com/bootstrap/3.2.0/css/bootstrap.min.css%22/%3E%0A%20%20%20%20%3Clink%20rel%3D%22stylesheet%22%20href%3D%22https%3A//maxcdn.bootstrapcdn.com/bootstrap/3.2.0/css/bootstrap-theme.min.css%22/%3E%0A%20%20%20%20%3Clink%20rel%3D%22stylesheet%22%20href%3D%22https%3A//maxcdn.bootstrapcdn.com/font-awesome/4.6.3/css/font-awesome.min.css%22/%3E%0A%20%20%20%20%3Clink%20rel%3D%22stylesheet%22%20href%3D%22https%3A//cdnjs.cloudflare.com/ajax/libs/Leaflet.awesome-markers/2.0.2/leaflet.awesome-markers.css%22/%3E%0A%20%20%20%20%3Clink%20rel%3D%22stylesheet%22%20href%3D%22https%3A//cdn.jsdelivr.net/gh/python-visualization/folium/folium/templates/leaflet.awesome.rotate.min.css%22/%3E%0A%20%20%20%20%0A%20%20%20%20%20%20%20%20%20%20%20%20%3Cmeta%20name%3D%22viewport%22%20content%3D%22width%3Ddevice-width%2C%0A%20%20%20%20%20%20%20%20%20%20%20%20%20%20%20%20initial-scale%3D1.0%2C%20maximum-scale%3D1.0%2C%20user-scalable%3Dno%22%20/%3E%0A%20%20%20%20%20%20%20%20%20%20%20%20%3Cstyle%3E%0A%20%20%20%20%20%20%20%20%20%20%20%20%20%20%20%20%23map_437832eb9bad46d4ac737a81aaa57153%20%7B%0A%20%20%20%20%20%20%20%20%20%20%20%20%20%20%20%20%20%20%20%20position%3A%20relative%3B%0A%20%20%20%20%20%20%20%20%20%20%20%20%20%20%20%20%20%20%20%20width%3A%20100.0%25%3B%0A%20%20%20%20%20%20%20%20%20%20%20%20%20%20%20%20%20%20%20%20height%3A%20500.0px%3B%0A%20%20%20%20%20%20%20%20%20%20%20%20%20%20%20%20%20%20%20%20left%3A%200.0%25%3B%0A%20%20%20%20%20%20%20%20%20%20%20%20%20%20%20%20%20%20%20%20top%3A%200.0%25%3B%0A%20%20%20%20%20%20%20%20%20%20%20%20%20%20%20%20%7D%0A%20%20%20%20%20%20%20%20%20%20%20%20%3C/style%3E%0A%20%20%20%20%20%20%20%20%0A%20%20%20%20%3Cscript%20src%3D%22https%3A//cdnjs.cloudflare.com/ajax/libs/leaflet.fullscreen/1.4.2/Control.FullScreen.min.js%22%3E%3C/script%3E%0A%20%20%20%20%3Clink%20rel%3D%22stylesheet%22%20href%3D%22https%3A//cdnjs.cloudflare.com/ajax/libs/leaflet.fullscreen/1.4.2/Control.FullScreen.min.css%22/%3E%0A%3C/head%3E%0A%3Cbody%3E%20%20%20%20%0A%20%20%20%20%0A%20%20%20%20%20%20%20%20%20%20%20%20%3Cdiv%20class%3D%22folium-map%22%20id%3D%22map_437832eb9bad46d4ac737a81aaa57153%22%20%3E%3C/div%3E%0A%20%20%20%20%20%20%20%20%0A%3C/body%3E%0A%3Cscript%3E%20%20%20%20%0A%20%20%20%20%0A%20%20%20%20%20%20%20%20%20%20%20%20var%20map_437832eb9bad46d4ac737a81aaa57153%20%3D%20L.map%28%0A%20%20%20%20%20%20%20%20%20%20%20%20%20%20%20%20%22map_437832eb9bad46d4ac737a81aaa57153%22%2C%0A%20%20%20%20%20%20%20%20%20%20%20%20%20%20%20%20%7B%0A%20%20%20%20%20%20%20%20%20%20%20%20%20%20%20%20%20%20%20%20center%3A%20%5B20.0%2C%200.0%5D%2C%0A%20%20%20%20%20%20%20%20%20%20%20%20%20%20%20%20%20%20%20%20crs%3A%20L.CRS.EPSG3857%2C%0A%20%20%20%20%20%20%20%20%20%20%20%20%20%20%20%20%20%20%20%20zoom%3A%203%2C%0A%20%20%20%20%20%20%20%20%20%20%20%20%20%20%20%20%20%20%20%20zoomControl%3A%20true%2C%0A%20%20%20%20%20%20%20%20%20%20%20%20%20%20%20%20%20%20%20%20preferCanvas%3A%20false%2C%0A%20%20%20%20%20%20%20%20%20%20%20%20%20%20%20%20%7D%0A%20%20%20%20%20%20%20%20%20%20%20%20%29%3B%0A%0A%20%20%20%20%20%20%20%20%20%20%20%20%0A%0A%20%20%20%20%20%20%20%20%0A%20%20%20%20%0A%20%20%20%20%20%20%20%20%20%20%20%20var%20tile_layer_7aff6536b0704471989c9268586cd42a%20%3D%20L.tileLayer%28%0A%20%20%20%20%20%20%20%20%20%20%20%20%20%20%20%20%22https%3A//%7Bs%7D.tile.openstreetmap.org/%7Bz%7D/%7Bx%7D/%7By%7D.png%22%2C%0A%20%20%20%20%20%20%20%20%20%20%20%20%20%20%20%20%7B%22attribution%22%3A%20%22Data%20by%20%5Cu0026copy%3B%20%5Cu003ca%20href%3D%5C%22http%3A//openstreetmap.org%5C%22%5Cu003eOpenStreetMap%5Cu003c/a%5Cu003e%2C%20under%20%5Cu003ca%20href%3D%5C%22http%3A//www.openstreetmap.org/copyright%5C%22%5Cu003eODbL%5Cu003c/a%5Cu003e.%22%2C%20%22detectRetina%22%3A%20false%2C%20%22maxNativeZoom%22%3A%2018%2C%20%22maxZoom%22%3A%2018%2C%20%22minZoom%22%3A%200%2C%20%22noWrap%22%3A%20false%2C%20%22opacity%22%3A%201%2C%20%22subdomains%22%3A%20%22abc%22%2C%20%22tms%22%3A%20false%7D%0A%20%20%20%20%20%20%20%20%20%20%20%20%29.addTo%28map_437832eb9bad46d4ac737a81aaa57153%29%3B%0A%20%20%20%20%20%20%20%20%0A%20%20%20%20%0A%20%20%20%20%20%20%20%20%20%20%20%20var%20tile_layer_7f2c33dad1854c4b90e529a6ef3bd8e6%20%3D%20L.tileLayer%28%0A%20%20%20%20%20%20%20%20%20%20%20%20%20%20%20%20%22https%3A//earthengine.googleapis.com/v1alpha/projects/earthengine-legacy/maps/7ac94599e087b422b3be196c6a034979-ba2092ed3831e61c4ec6bdbce14c6e06/tiles/%7Bz%7D/%7Bx%7D/%7By%7D%22%2C%0A%20%20%20%20%20%20%20%20%20%20%20%20%20%20%20%20%7B%22attribution%22%3A%20%22Google%20Earth%20Engine%22%2C%20%22detectRetina%22%3A%20false%2C%20%22maxNativeZoom%22%3A%2018%2C%20%22maxZoom%22%3A%2018%2C%20%22minZoom%22%3A%200%2C%20%22noWrap%22%3A%20false%2C%20%22opacity%22%3A%201%2C%20%22subdomains%22%3A%20%22abc%22%2C%20%22tms%22%3A%20false%7D%0A%20%20%20%20%20%20%20%20%20%20%20%20%29.addTo%28map_437832eb9bad46d4ac737a81aaa57153%29%3B%0A%20%20%20%20%20%20%20%20%0A%20%20%20%20%0A%20%20%20%20%20%20%20%20%20%20%20%20var%20layer_control_8ae7169b18ac44b9a912c55c4fe30843%20%3D%20%7B%0A%20%20%20%20%20%20%20%20%20%20%20%20%20%20%20%20base_layers%20%3A%20%7B%0A%20%20%20%20%20%20%20%20%20%20%20%20%20%20%20%20%20%20%20%20%22openstreetmap%22%20%3A%20tile_layer_7aff6536b0704471989c9268586cd42a%2C%0A%20%20%20%20%20%20%20%20%20%20%20%20%20%20%20%20%7D%2C%0A%20%20%20%20%20%20%20%20%20%20%20%20%20%20%20%20overlays%20%3A%20%20%7B%0A%20%20%20%20%20%20%20%20%20%20%20%20%20%20%20%20%20%20%20%20%22Image%22%20%3A%20tile_layer_7f2c33dad1854c4b90e529a6ef3bd8e6%2C%0A%20%20%20%20%20%20%20%20%20%20%20%20%20%20%20%20%7D%2C%0A%20%20%20%20%20%20%20%20%20%20%20%20%7D%3B%0A%20%20%20%20%20%20%20%20%20%20%20%20L.control.layers%28%0A%20%20%20%20%20%20%20%20%20%20%20%20%20%20%20%20layer_control_8ae7169b18ac44b9a912c55c4fe30843.base_layers%2C%0A%20%20%20%20%20%20%20%20%20%20%20%20%20%20%20%20layer_control_8ae7169b18ac44b9a912c55c4fe30843.overlays%2C%0A%20%20%20%20%20%20%20%20%20%20%20%20%20%20%20%20%7B%22autoZIndex%22%3A%20true%2C%20%22collapsed%22%3A%20true%2C%20%22position%22%3A%20%22topright%22%7D%0A%20%20%20%20%20%20%20%20%20%20%20%20%29.addTo%28map_437832eb9bad46d4ac737a81aaa57153%29%3B%0A%20%20%20%20%20%20%20%20%0A%20%20%20%20%0A%20%20%20%20%20%20%20%20%20%20%20%20L.control.fullscreen%28%0A%20%20%20%20%20%20%20%20%20%20%20%20%20%20%20%20%7B%22forceSeparateButton%22%3A%20false%2C%20%22position%22%3A%20%22topleft%22%2C%20%22title%22%3A%20%22Full%20Screen%22%2C%20%22titleCancel%22%3A%20%22Exit%20Full%20Screen%22%7D%0A%20%20%20%20%20%20%20%20%20%20%20%20%29.addTo%28map_437832eb9bad46d4ac737a81aaa57153%29%3B%0A%20%20%20%20%20%20%20%20%0A%3C/script%3E onload=\"this.contentDocument.open();this.contentDocument.write(    decodeURIComponent(this.getAttribute('data-html')));this.contentDocument.close();\" allowfullscreen webkitallowfullscreen mozallowfullscreen></iframe></div></div>"
      ],
      "text/plain": [
       "<folium.folium.Map at 0x13f24c070>"
      ]
     },
     "metadata": {},
     "output_type": "display_data"
    }
   ],
   "source": [
    "# make products and export\n",
    "\n",
    "# filter collection and add ancillary bands\n",
    "input_collection =  ee.ImageCollection(colName) \\\n",
    "                      .filterBounds(mapBounds) \\\n",
    "                      .filterDate(startDate, endDate) \\\n",
    "                      .filterMetadata(colOptions[\"Cloudcover\"],'less_than',maxCloudcover) \\\n",
    "                      .limit(5000) \\\n",
    "                      .map(lambda image: addDate(image)) \\\n",
    "                      .map(lambda image: image.clip(mapBounds)) \\\n",
    "                      .map(lambda image: s2MaskClear(image)) \\\n",
    "                      .map(lambda image: addS2Geometry(colOptions, image))\n",
    "print(input_collection.size().getInfo())\n",
    "\n",
    "if outputName == \"Surface_Reflectance\":\n",
    "    export_collection = input_collection;\n",
    "else:\n",
    "    # get partition used to select network\n",
    "    partition = (COLLECTION_OPTIONS[colName][\"partition\"]).filterBounds(mapBounds).mosaic().clip(mapBounds).rename('partition');\n",
    "    \n",
    "    # pre process input imagery and flag invalid inputs\n",
    "    input_collection  =  input_collection.map(lambda image: s2MaskLand(image)) \\\n",
    "                                         .map(lambda image: scaleBands(netOptions[\"inputBands\"],netOptions[\"inputScaling\"],image)) \\\n",
    "                                         .map(lambda image: invalidInput(COLLECTION_OPTIONS[colName][\"sl2pDomain\"],netOptions[\"inputBands\"],image))\n",
    "    \n",
    "    # apply networks to produce mapped parameters\n",
    "    estimateSL2P = input_collection.map(lambda image: wrapperNNets(SL2P, partition, netOptions, COLLECTION_OPTIONS[colName], \"estimate\", image))\n",
    "    uncertaintySL2P = input_collection.map(lambda image: wrapperNNets(errorsSL2P, partition, netOptions, COLLECTION_OPTIONS[colName], \"error\", image))\n",
    "    \n",
    "    # scale and offset mapped parameter bands\n",
    "    estimateSL2P = estimateSL2P.map(lambda image: image.addBands(image.select(\"estimate\"+outputName).multiply(ee.Image.constant(outputScale)).add(ee.Image.constant(outputOffset)),overwrite = True));\n",
    "    uncertaintySL2P = uncertaintySL2P.map(lambda image: image.addBands(image.select(\"error\"+outputName).multiply(ee.Image.constant(outputScale)).add(ee.Image.constant(outputOffset)),overwrite = True));\n",
    "    \n",
    "    # produce final export collection\n",
    "    export_collection =  input_collection.select(['date','QC']).combine(estimateSL2P).combine(uncertaintySL2P)\n",
    "    \n",
    "image_output_names = ([name+\"_\"+outputName for name in export_collection.toList(export_collection.size()).map(lambda image: ee.Image(image).id()).getInfo()])\n",
    "\n",
    "displayImage(export_collection.mosaic().select('estimateLAI'),0+outputOffset,10*outputScale+outputOffset)"
   ]
  },
  {
   "cell_type": "code",
   "execution_count": 91,
   "metadata": {},
   "outputs": [
    {
     "name": "stdout",
     "output_type": "stream",
     "text": [
      "5\n"
     ]
    },
    {
     "data": {
      "text/html": [
       "<div style=\"width:100%;\"><div style=\"position:relative;width:100%;height:0;padding-bottom:60%;\"><span style=\"color:#565656\">Make this Notebook Trusted to load map: File -> Trust Notebook</span><iframe src=\"about:blank\" style=\"position:absolute;width:100%;height:100%;left:0;top:0;border:none !important;\" data-html=%3C%21DOCTYPE%20html%3E%0A%3Chead%3E%20%20%20%20%0A%20%20%20%20%3Cmeta%20http-equiv%3D%22content-type%22%20content%3D%22text/html%3B%20charset%3DUTF-8%22%20/%3E%0A%20%20%20%20%0A%20%20%20%20%20%20%20%20%3Cscript%3E%0A%20%20%20%20%20%20%20%20%20%20%20%20L_NO_TOUCH%20%3D%20false%3B%0A%20%20%20%20%20%20%20%20%20%20%20%20L_DISABLE_3D%20%3D%20false%3B%0A%20%20%20%20%20%20%20%20%3C/script%3E%0A%20%20%20%20%0A%20%20%20%20%3Cstyle%3Ehtml%2C%20body%20%7Bwidth%3A%20100%25%3Bheight%3A%20100%25%3Bmargin%3A%200%3Bpadding%3A%200%3B%7D%3C/style%3E%0A%20%20%20%20%3Cstyle%3E%23map%20%7Bposition%3Aabsolute%3Btop%3A0%3Bbottom%3A0%3Bright%3A0%3Bleft%3A0%3B%7D%3C/style%3E%0A%20%20%20%20%3Cscript%20src%3D%22https%3A//cdn.jsdelivr.net/npm/leaflet%401.6.0/dist/leaflet.js%22%3E%3C/script%3E%0A%20%20%20%20%3Cscript%20src%3D%22https%3A//code.jquery.com/jquery-1.12.4.min.js%22%3E%3C/script%3E%0A%20%20%20%20%3Cscript%20src%3D%22https%3A//maxcdn.bootstrapcdn.com/bootstrap/3.2.0/js/bootstrap.min.js%22%3E%3C/script%3E%0A%20%20%20%20%3Cscript%20src%3D%22https%3A//cdnjs.cloudflare.com/ajax/libs/Leaflet.awesome-markers/2.0.2/leaflet.awesome-markers.js%22%3E%3C/script%3E%0A%20%20%20%20%3Clink%20rel%3D%22stylesheet%22%20href%3D%22https%3A//cdn.jsdelivr.net/npm/leaflet%401.6.0/dist/leaflet.css%22/%3E%0A%20%20%20%20%3Clink%20rel%3D%22stylesheet%22%20href%3D%22https%3A//maxcdn.bootstrapcdn.com/bootstrap/3.2.0/css/bootstrap.min.css%22/%3E%0A%20%20%20%20%3Clink%20rel%3D%22stylesheet%22%20href%3D%22https%3A//maxcdn.bootstrapcdn.com/bootstrap/3.2.0/css/bootstrap-theme.min.css%22/%3E%0A%20%20%20%20%3Clink%20rel%3D%22stylesheet%22%20href%3D%22https%3A//maxcdn.bootstrapcdn.com/font-awesome/4.6.3/css/font-awesome.min.css%22/%3E%0A%20%20%20%20%3Clink%20rel%3D%22stylesheet%22%20href%3D%22https%3A//cdnjs.cloudflare.com/ajax/libs/Leaflet.awesome-markers/2.0.2/leaflet.awesome-markers.css%22/%3E%0A%20%20%20%20%3Clink%20rel%3D%22stylesheet%22%20href%3D%22https%3A//cdn.jsdelivr.net/gh/python-visualization/folium/folium/templates/leaflet.awesome.rotate.min.css%22/%3E%0A%20%20%20%20%0A%20%20%20%20%20%20%20%20%20%20%20%20%3Cmeta%20name%3D%22viewport%22%20content%3D%22width%3Ddevice-width%2C%0A%20%20%20%20%20%20%20%20%20%20%20%20%20%20%20%20initial-scale%3D1.0%2C%20maximum-scale%3D1.0%2C%20user-scalable%3Dno%22%20/%3E%0A%20%20%20%20%20%20%20%20%20%20%20%20%3Cstyle%3E%0A%20%20%20%20%20%20%20%20%20%20%20%20%20%20%20%20%23map_437832eb9bad46d4ac737a81aaa57153%20%7B%0A%20%20%20%20%20%20%20%20%20%20%20%20%20%20%20%20%20%20%20%20position%3A%20relative%3B%0A%20%20%20%20%20%20%20%20%20%20%20%20%20%20%20%20%20%20%20%20width%3A%20100.0%25%3B%0A%20%20%20%20%20%20%20%20%20%20%20%20%20%20%20%20%20%20%20%20height%3A%20500.0px%3B%0A%20%20%20%20%20%20%20%20%20%20%20%20%20%20%20%20%20%20%20%20left%3A%200.0%25%3B%0A%20%20%20%20%20%20%20%20%20%20%20%20%20%20%20%20%20%20%20%20top%3A%200.0%25%3B%0A%20%20%20%20%20%20%20%20%20%20%20%20%20%20%20%20%7D%0A%20%20%20%20%20%20%20%20%20%20%20%20%3C/style%3E%0A%20%20%20%20%20%20%20%20%0A%20%20%20%20%3Cscript%20src%3D%22https%3A//cdnjs.cloudflare.com/ajax/libs/leaflet.fullscreen/1.4.2/Control.FullScreen.min.js%22%3E%3C/script%3E%0A%20%20%20%20%3Clink%20rel%3D%22stylesheet%22%20href%3D%22https%3A//cdnjs.cloudflare.com/ajax/libs/leaflet.fullscreen/1.4.2/Control.FullScreen.min.css%22/%3E%0A%3C/head%3E%0A%3Cbody%3E%20%20%20%20%0A%20%20%20%20%0A%20%20%20%20%20%20%20%20%20%20%20%20%3Cdiv%20class%3D%22folium-map%22%20id%3D%22map_437832eb9bad46d4ac737a81aaa57153%22%20%3E%3C/div%3E%0A%20%20%20%20%20%20%20%20%0A%3C/body%3E%0A%3Cscript%3E%20%20%20%20%0A%20%20%20%20%0A%20%20%20%20%20%20%20%20%20%20%20%20var%20map_437832eb9bad46d4ac737a81aaa57153%20%3D%20L.map%28%0A%20%20%20%20%20%20%20%20%20%20%20%20%20%20%20%20%22map_437832eb9bad46d4ac737a81aaa57153%22%2C%0A%20%20%20%20%20%20%20%20%20%20%20%20%20%20%20%20%7B%0A%20%20%20%20%20%20%20%20%20%20%20%20%20%20%20%20%20%20%20%20center%3A%20%5B20.0%2C%200.0%5D%2C%0A%20%20%20%20%20%20%20%20%20%20%20%20%20%20%20%20%20%20%20%20crs%3A%20L.CRS.EPSG3857%2C%0A%20%20%20%20%20%20%20%20%20%20%20%20%20%20%20%20%20%20%20%20zoom%3A%203%2C%0A%20%20%20%20%20%20%20%20%20%20%20%20%20%20%20%20%20%20%20%20zoomControl%3A%20true%2C%0A%20%20%20%20%20%20%20%20%20%20%20%20%20%20%20%20%20%20%20%20preferCanvas%3A%20false%2C%0A%20%20%20%20%20%20%20%20%20%20%20%20%20%20%20%20%7D%0A%20%20%20%20%20%20%20%20%20%20%20%20%29%3B%0A%0A%20%20%20%20%20%20%20%20%20%20%20%20%0A%0A%20%20%20%20%20%20%20%20%0A%20%20%20%20%0A%20%20%20%20%20%20%20%20%20%20%20%20var%20tile_layer_7aff6536b0704471989c9268586cd42a%20%3D%20L.tileLayer%28%0A%20%20%20%20%20%20%20%20%20%20%20%20%20%20%20%20%22https%3A//%7Bs%7D.tile.openstreetmap.org/%7Bz%7D/%7Bx%7D/%7By%7D.png%22%2C%0A%20%20%20%20%20%20%20%20%20%20%20%20%20%20%20%20%7B%22attribution%22%3A%20%22Data%20by%20%5Cu0026copy%3B%20%5Cu003ca%20href%3D%5C%22http%3A//openstreetmap.org%5C%22%5Cu003eOpenStreetMap%5Cu003c/a%5Cu003e%2C%20under%20%5Cu003ca%20href%3D%5C%22http%3A//www.openstreetmap.org/copyright%5C%22%5Cu003eODbL%5Cu003c/a%5Cu003e.%22%2C%20%22detectRetina%22%3A%20false%2C%20%22maxNativeZoom%22%3A%2018%2C%20%22maxZoom%22%3A%2018%2C%20%22minZoom%22%3A%200%2C%20%22noWrap%22%3A%20false%2C%20%22opacity%22%3A%201%2C%20%22subdomains%22%3A%20%22abc%22%2C%20%22tms%22%3A%20false%7D%0A%20%20%20%20%20%20%20%20%20%20%20%20%29.addTo%28map_437832eb9bad46d4ac737a81aaa57153%29%3B%0A%20%20%20%20%20%20%20%20%0A%20%20%20%20%0A%20%20%20%20%20%20%20%20%20%20%20%20var%20tile_layer_7f2c33dad1854c4b90e529a6ef3bd8e6%20%3D%20L.tileLayer%28%0A%20%20%20%20%20%20%20%20%20%20%20%20%20%20%20%20%22https%3A//earthengine.googleapis.com/v1alpha/projects/earthengine-legacy/maps/7ac94599e087b422b3be196c6a034979-ba2092ed3831e61c4ec6bdbce14c6e06/tiles/%7Bz%7D/%7Bx%7D/%7By%7D%22%2C%0A%20%20%20%20%20%20%20%20%20%20%20%20%20%20%20%20%7B%22attribution%22%3A%20%22Google%20Earth%20Engine%22%2C%20%22detectRetina%22%3A%20false%2C%20%22maxNativeZoom%22%3A%2018%2C%20%22maxZoom%22%3A%2018%2C%20%22minZoom%22%3A%200%2C%20%22noWrap%22%3A%20false%2C%20%22opacity%22%3A%201%2C%20%22subdomains%22%3A%20%22abc%22%2C%20%22tms%22%3A%20false%7D%0A%20%20%20%20%20%20%20%20%20%20%20%20%29.addTo%28map_437832eb9bad46d4ac737a81aaa57153%29%3B%0A%20%20%20%20%20%20%20%20%0A%20%20%20%20%0A%20%20%20%20%20%20%20%20%20%20%20%20var%20layer_control_8ae7169b18ac44b9a912c55c4fe30843%20%3D%20%7B%0A%20%20%20%20%20%20%20%20%20%20%20%20%20%20%20%20base_layers%20%3A%20%7B%0A%20%20%20%20%20%20%20%20%20%20%20%20%20%20%20%20%20%20%20%20%22openstreetmap%22%20%3A%20tile_layer_7aff6536b0704471989c9268586cd42a%2C%0A%20%20%20%20%20%20%20%20%20%20%20%20%20%20%20%20%7D%2C%0A%20%20%20%20%20%20%20%20%20%20%20%20%20%20%20%20overlays%20%3A%20%20%7B%0A%20%20%20%20%20%20%20%20%20%20%20%20%20%20%20%20%20%20%20%20%22Image%22%20%3A%20tile_layer_7f2c33dad1854c4b90e529a6ef3bd8e6%2C%0A%20%20%20%20%20%20%20%20%20%20%20%20%20%20%20%20%7D%2C%0A%20%20%20%20%20%20%20%20%20%20%20%20%7D%3B%0A%20%20%20%20%20%20%20%20%20%20%20%20L.control.layers%28%0A%20%20%20%20%20%20%20%20%20%20%20%20%20%20%20%20layer_control_8ae7169b18ac44b9a912c55c4fe30843.base_layers%2C%0A%20%20%20%20%20%20%20%20%20%20%20%20%20%20%20%20layer_control_8ae7169b18ac44b9a912c55c4fe30843.overlays%2C%0A%20%20%20%20%20%20%20%20%20%20%20%20%20%20%20%20%7B%22autoZIndex%22%3A%20true%2C%20%22collapsed%22%3A%20true%2C%20%22position%22%3A%20%22topright%22%7D%0A%20%20%20%20%20%20%20%20%20%20%20%20%29.addTo%28map_437832eb9bad46d4ac737a81aaa57153%29%3B%0A%20%20%20%20%20%20%20%20%0A%20%20%20%20%0A%20%20%20%20%20%20%20%20%20%20%20%20L.control.fullscreen%28%0A%20%20%20%20%20%20%20%20%20%20%20%20%20%20%20%20%7B%22forceSeparateButton%22%3A%20false%2C%20%22position%22%3A%20%22topleft%22%2C%20%22title%22%3A%20%22Full%20Screen%22%2C%20%22titleCancel%22%3A%20%22Exit%20Full%20Screen%22%7D%0A%20%20%20%20%20%20%20%20%20%20%20%20%29.addTo%28map_437832eb9bad46d4ac737a81aaa57153%29%3B%0A%20%20%20%20%20%20%20%20%0A%3C/script%3E onload=\"this.contentDocument.open();this.contentDocument.write(    decodeURIComponent(this.getAttribute('data-html')));this.contentDocument.close();\" allowfullscreen webkitallowfullscreen mozallowfullscreen></iframe></div></div>"
      ],
      "text/plain": [
       "<folium.folium.Map at 0x13f24c070>"
      ]
     },
     "metadata": {},
     "output_type": "display_data"
    }
   ],
   "source": [
    "# SL2P10_20m – reduce resolution to 20 m\n",
    "# make products and export\n",
    "\n",
    "# filter collection and add ancillary bands\n",
    "input_collection =  ee.ImageCollection(colName) \\\n",
    "                      .filterBounds(mapBounds) \\\n",
    "                      .filterDate(startDate, endDate) \\\n",
    "                      .filterMetadata(colOptions[\"Cloudcover\"],'less_than',maxCloudcover) \\\n",
    "                      .limit(5000) \\\n",
    "                      .map(lambda image: addDate(image)) \\\n",
    "                      .map(lambda image: image.clip(mapBounds)) \\\n",
    "                      .map(lambda image: s2MaskClear(image)) \\\n",
    "                      .map(lambda image: addS2Geometry(colOptions, image))\n",
    "print(input_collection.size().getInfo())\n",
    "\n",
    "if outputName == \"Surface_Reflectance\":\n",
    "    export_collection = input_collection;\n",
    "else:\n",
    "    # get partition used to select network\n",
    "    partition = (COLLECTION_OPTIONS[colName][\"partition\"]).filterBounds(mapBounds).mosaic().clip(mapBounds).rename('partition');\n",
    "    # pre process input imagery and flag invalid inputs\n",
    "    input_collection  =  input_collection.map(lambda image: s2MaskLand(image)) \\\n",
    "                                         .map(lambda image: scaleBands(netOptions[\"inputBands\"],netOptions[\"inputScaling\"],image)) \\\n",
    "                                         .map(lambda image: invalidInput(COLLECTION_OPTIONS[colName][\"sl2pDomain\"],netOptions[\"inputBands\"],image))\n",
    "    # apply networks to produce mapped parameters\n",
    "    estimateSL2P = input_collection.map(lambda image: wrapperNNets(SL2P, partition, netOptions, COLLECTION_OPTIONS[colName], \"estimate\", image))\n",
    "    uncertaintySL2P = input_collection.map(lambda image: wrapperNNets(errorsSL2P, partition, netOptions, COLLECTION_OPTIONS[colName], \"error\", image))\n",
    "    # scale and offset mapped parameter bands\n",
    "    estimateSL2P = estimateSL2P.map(lambda image: image.addBands(image.select(\"estimate\"+outputName).multiply(ee.Image.constant(outputScale)).add(ee.Image.constant(outputOffset)),overwrite = True));\n",
    "    uncertaintySL2P = uncertaintySL2P.map(lambda image: image.addBands(image.select(\"error\"+outputName).multiply(ee.Image.constant(outputScale)).add(ee.Image.constant(outputOffset)),overwrite = True));\n",
    "    # produce final export collection\n",
    "    export_collection =  input_collection.select(['date','QC']).combine(estimateSL2P).combine(uncertaintySL2P)\n",
    "    \n",
    "image_output_names = ([name+\"_\"+outputName for name in export_collection.toList(export_collection.size()).map(lambda image: ee.Image(image).id()).getInfo()])\n",
    "\n",
    "displayImage(export_collection.mosaic().select('estimateLAI'),0+outputOffset,10*outputScale+outputOffset)"
   ]
  },
  {
   "cell_type": "code",
   "execution_count": 92,
   "metadata": {},
   "outputs": [
    {
     "name": "stdout",
     "output_type": "stream",
     "text": [
      "20200801T155911_20200801T160644_T18TVQ_LAI\n",
      "20200801T155911_20200801T160644_T18TVR_LAI\n",
      "20200801T155911_20200801T160644_T18TVS_LAI\n",
      "20200801T155911_20200801T160644_T18TWQ_LAI\n",
      "20200801T155911_20200801T160644_T18TWR_LAI\n"
     ]
    }
   ],
   "source": [
    "# export tasks to google drive\n",
    "export_tasks = export_collection_to_drive(collection = export_collection, \n",
    "                                          num_images = export_collection.size().getInfo(), \n",
    "                                          image_names = image_output_names, \n",
    "                                          gdrive_folder = exportFolder, \n",
    "                                          scale = 20,\n",
    "                                          data_type = exportDatatype,\n",
    "                                          max_pixels = 1e13)"
   ]
  },
  {
   "cell_type": "code",
   "execution_count": 93,
   "metadata": {},
   "outputs": [
    {
     "name": "stdout",
     "output_type": "stream",
     "text": [
      "20200801T155911_20200801T160644_T18TVQ_LAI: READY\n",
      "20200801T155911_20200801T160644_T18TVR_LAI: READY\n",
      "20200801T155911_20200801T160644_T18TVS_LAI: READY\n",
      "20200801T155911_20200801T160644_T18TWQ_LAI: READY\n",
      "20200801T155911_20200801T160644_T18TWR_LAI: READY\n"
     ]
    }
   ],
   "source": [
    "check_ee_tasks(export_tasks)"
   ]
  },
  {
   "cell_type": "code",
   "execution_count": null,
   "metadata": {},
   "outputs": [],
   "source": []
  }
 ],
 "metadata": {
  "kernelspec": {
   "display_name": "Python 3 (ipykernel)",
   "language": "python",
   "name": "python3"
  },
  "language_info": {
   "codemirror_mode": {
    "name": "ipython",
    "version": 3
   },
   "file_extension": ".py",
   "mimetype": "text/x-python",
   "name": "python",
   "nbconvert_exporter": "python",
   "pygments_lexer": "ipython3",
   "version": "3.9.7"
  }
 },
 "nbformat": 4,
 "nbformat_minor": 4
}
