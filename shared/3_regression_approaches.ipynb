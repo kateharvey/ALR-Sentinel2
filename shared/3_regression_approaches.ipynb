{
 "cells": [
  {
   "cell_type": "markdown",
   "metadata": {
    "tags": []
   },
   "source": [
    "---\n",
    "# 3 REGRESSION APPROACHES (LEAFToolbox-SL2P + ALR)\n",
    "\n",
    "This notebook contains code blocks to generate predictions based on three different treatment methods, which are as follows:\n",
    "1. SL2P10 – using only the output from SL2P10_10m\n",
    "2. LARS + Regression Tree – using feature selection (LARS) and smileCART (GEE function)\n",
    "3. LARS + Neural Network – as implemented by Hemit in ALR_client_side\n",
    "---"
   ]
  },
  {
   "cell_type": "code",
   "execution_count": 1,
   "metadata": {},
   "outputs": [],
   "source": [
    "import ee\n",
    "import time\n",
    "import math\n",
    "import csv\n",
    "import json\n",
    "import os\n",
    "import numpy as np\n",
    "import pandas as pd\n",
    "import folium ; from folium import plugins\n",
    "import matplotlib.pyplot as plt\n",
    "import scipy ; from scipy import stats\n",
    "import scipy.io as sio\n",
    "import sklearn as skl ; from sklearn import linear_model ; from sklearn import preprocessing\n",
    "import tensorflow as tf\n",
    "import pickle\n",
    "from collections import OrderedDict\n",
    "from PIL import Image\n",
    "\n",
    "# import custom modules (files must be in same directory as this notebook)\n",
    "import feature_collections as fc\n",
    "import image_bands as ib\n",
    "import wrapper_nets as wn\n",
    "import ee_functions as ee_func\n",
    "import ALR_functions as alr"
   ]
  },
  {
   "cell_type": "code",
   "execution_count": 2,
   "metadata": {},
   "outputs": [
    {
     "data": {
      "text/html": [
       "<p>To authorize access needed by Earth Engine, open the following\n",
       "        URL in a web browser and follow the instructions:</p>\n",
       "        <p><a href=https://accounts.google.com/o/oauth2/auth?client_id=517222506229-vsmmajv00ul0bs7p89v5m89qs8eb9359.apps.googleusercontent.com&scope=https%3A%2F%2Fwww.googleapis.com%2Fauth%2Fearthengine+https%3A%2F%2Fwww.googleapis.com%2Fauth%2Fdevstorage.full_control&redirect_uri=urn%3Aietf%3Awg%3Aoauth%3A2.0%3Aoob&response_type=code&code_challenge=UNhqaQ1nsqr9Tu8eUwo4L2GbhtL_yb1Ia2R9twEBrXA&code_challenge_method=S256>https://accounts.google.com/o/oauth2/auth?client_id=517222506229-vsmmajv00ul0bs7p89v5m89qs8eb9359.apps.googleusercontent.com&scope=https%3A%2F%2Fwww.googleapis.com%2Fauth%2Fearthengine+https%3A%2F%2Fwww.googleapis.com%2Fauth%2Fdevstorage.full_control&redirect_uri=urn%3Aietf%3Awg%3Aoauth%3A2.0%3Aoob&response_type=code&code_challenge=UNhqaQ1nsqr9Tu8eUwo4L2GbhtL_yb1Ia2R9twEBrXA&code_challenge_method=S256</a></p>\n",
       "        <p>The authorization workflow will generate a code, which you\n",
       "        should paste in the box below</p>\n",
       "        "
      ],
      "text/plain": [
       "<IPython.core.display.HTML object>"
      ]
     },
     "metadata": {},
     "output_type": "display_data"
    },
    {
     "name": "stdin",
     "output_type": "stream",
     "text": [
      "Enter verification code:  4/1AX4XfWigL1B1FR7c9cIWXQIVtz3iQGF_vhLv2N14e7SP-hIbiOcwF5LoSFw\n"
     ]
    },
    {
     "name": "stdout",
     "output_type": "stream",
     "text": [
      "\n",
      "Successfully saved authorization token.\n"
     ]
    }
   ],
   "source": [
    "ee.Authenticate()\n",
    "ee.Initialize()"
   ]
  },
  {
   "cell_type": "markdown",
   "metadata": {
    "tags": []
   },
   "source": [
    "---\n",
    "# Prelim: Define dictionaries"
   ]
  },
  {
   "cell_type": "code",
   "execution_count": 3,
   "metadata": {},
   "outputs": [],
   "source": [
    "# ----------------------------\n",
    "# INPUT PARAMETERS (TO MODIFY)\n",
    "# ----------------------------\n",
    "\n",
    "# variable name\n",
    "# one of: 'Surface_Reflectance','Albedo','fAPAR','fCOVER','LAI','CCC','CWC','DASF'\n",
    "outputName = 'LAI'\n",
    "\n",
    "# site selection\n",
    "# one of: 'Geraldton', 'FoxCreek', 'Kouchibouguac', 'Ottawa'\n",
    "siteSelect = 'FoxCreek'"
   ]
  },
  {
   "cell_type": "markdown",
   "metadata": {
    "tags": []
   },
   "source": [
    "### Collection options"
   ]
  },
  {
   "cell_type": "code",
   "execution_count": 4,
   "metadata": {
    "tags": []
   },
   "outputs": [],
   "source": [
    "# ---------------------------------------------------------------------\n",
    "# set parameters based on user-defined parameters above (do not modify)\n",
    "# ---------------------------------------------------------------------\n",
    "outputParams = {\n",
    "    'fAPAR': {\n",
    "        'outputScale': 1000,\n",
    "        'outputOffset': 0,\n",
    "        'outputMax': 1\n",
    "    },\n",
    "    'fCOVER': {\n",
    "        'outputScale': 1000,\n",
    "        'outputOffset': 0,\n",
    "        'outputMax': 1\n",
    "    },\n",
    "    'LAI': {\n",
    "        'outputScale': 1000,\n",
    "        'outputOffset': 0,\n",
    "        'outputMax': 8\n",
    "    }\n",
    "}\n",
    "\n",
    "outputScale = outputParams[outputName]['outputScale']\n",
    "outputOffset = outputParams[outputName]['outputOffset']\n",
    "outputMax = outputParams[outputName]['outputMax']\n",
    "responseBand = 'estimate'+outputName\n",
    "\n",
    "siteParams = {\n",
    "    # Geraldton, ON\n",
    "    'Geraldton': {\n",
    "        'testImage': ee.Image('COPERNICUS/S2_SR/20200811T164849_20200811T165525_T16UEA'),\n",
    "        'mapBounds': ee.Geometry.Polygon( \\\n",
    "                        [[[-86, 49.5], \\\n",
    "                          [-86, 50], \\\n",
    "                          [-85.5, 50], \\\n",
    "                          [-85.5, 49.5]]]),\n",
    "        'mapCenter': [-85.75, 49.75]\n",
    "    },\n",
    "    # Fox Creek, AB\n",
    "    'FoxCreek': {\n",
    "        'testImage': ee.Image('COPERNICUS/S2_SR/20210825T185919_20210825T190431_T11UNA'),\n",
    "        'mapBounds': ee.Geometry.Polygon( \\\n",
    "                        [[[-117, 54], \\\n",
    "                          [-117, 55], \\\n",
    "                          [-115, 55], \\\n",
    "                          [-115, 54]]]),\n",
    "        'mapCenter': [-116.8, 54.4]\n",
    "        \n",
    "    },\n",
    "    # Kouchibouguac, NB\n",
    "    'Kouchibouguac': {\n",
    "        'testImage': ee.Image('COPERNICUS/S2_SR/20200905T151701_20200905T151829_T20TLS'),\n",
    "        'mapBounds': ee.Geometry.Polygon( \\\n",
    "                        [[[-65, 46], \\\n",
    "                          [-65, 47], \\\n",
    "                          [-64, 47], \\\n",
    "                          [-64, 46]]]),\n",
    "        'mapCenter': [-64.5, 46.5]\n",
    "    },\n",
    "    # Ottawa, ON\n",
    "    'Ottawa': {\n",
    "        'testImage': ee.Image('COPERNICUS/S2_SR/20200801T155911_20200801T160644_T18TVQ'),\n",
    "        'mapBounds': ee.Geometry.Polygon( \\\n",
    "                        [[[-75, 45], \\\n",
    "                          [-75, 46], \\\n",
    "                          [-74, 46], \\\n",
    "                          [-74, 45]]]),\n",
    "        'mapCenter': [-74.5, 45.5]\n",
    "    }\n",
    "}\n",
    "\n",
    "mapBounds = siteParams[siteSelect]['mapBounds']\n",
    "mapCenter = siteParams[siteSelect]['mapCenter']\n",
    "testImage = siteParams[siteSelect]['testImage']\n",
    "\n",
    "# other filters\n",
    "maxCloudcover = 10\n",
    "\n",
    "# export parameters\n",
    "exportFolder = siteSelect+'_'+outputName\n",
    "exportDataType = 'int'\n",
    "exportScale = 20\n",
    "\n",
    "\n",
    "COLLECTION_OPTIONS = {\n",
    "    # Sentinel 2 using 20 m bands:\n",
    "    'COPERNICUS/S2_SR': {\n",
    "      \"name\": 'COPERNICUS/S2_SR',\n",
    "      \"description\": 'Sentinel 2A',\n",
    "      \"Cloudcover\": 'CLOUDY_PIXEL_PERCENTAGE',\n",
    "      \"Watercover\": 'WATER_PERCENTAGE',\n",
    "      \"sza\": 'MEAN_SOLAR_ZENITH_ANGLE',\n",
    "      \"vza\": 'MEAN_INCIDENCE_ZENITH_ANGLE_B8A',\n",
    "      \"saa\": 'MEAN_SOLAR_AZIMUTH_ANGLE', \n",
    "      \"vaa\": 'MEAN_INCIDENCE_AZIMUTH_ANGLE_B8A',\n",
    "      \"VIS_OPTIONS\": 'VIS_OPTIONS',\n",
    "      \"Collection_SL2P\": ee.FeatureCollection(fc.s2_createFeatureCollection_estimates()),\n",
    "      \"Collection_SL2Perrors\": ee.FeatureCollection(fc.s2_createFeatureCollection_errors()),  \n",
    "      \"sl2pDomain\": ee.FeatureCollection(fc.s2_createFeatureCollection_domains()),\n",
    "      \"Network_Ind\": ee.FeatureCollection(fc.s2_createFeatureCollection_Network_Ind()),\n",
    "      \"partition\": ee.ImageCollection(fc.s2_createImageCollection_partition()),\n",
    "      \"legend\": ee.FeatureCollection(fc.s2_createFeatureCollection_legend()),\n",
    "      \"numVariables\": 7\n",
    "    },\n",
    "    # Sentinel 2 using 10 m bands:\n",
    "    'COPERNICUS/S2_SR_10m': {\n",
    "      \"name\": 'COPERNICUS/S2_SR',\n",
    "      \"description\": 'Sentinel 2A',\n",
    "      \"Cloudcover\": 'CLOUDY_PIXEL_PERCENTAGE',\n",
    "      \"Watercover\": 'WATER_PERCENTAGE',\n",
    "      \"sza\": 'MEAN_SOLAR_ZENITH_ANGLE',\n",
    "      \"vza\": 'MEAN_INCIDENCE_ZENITH_ANGLE_B8A',\n",
    "      \"saa\": 'MEAN_SOLAR_AZIMUTH_ANGLE', \n",
    "      \"vaa\": 'MEAN_INCIDENCE_AZIMUTH_ANGLE_B8A',\n",
    "      \"VIS_OPTIONS\": 'VIS_OPTIONS',\n",
    "      \"Collection_SL2P\": ee.FeatureCollection(fc.s2_10m_createFeatureCollection_estimates()),\n",
    "      \"Collection_SL2Perrors\": ee.FeatureCollection(fc.s2_10m_createFeatureCollection_errors()),  \n",
    "      \"sl2pDomain\": ee.FeatureCollection(fc.s2_10m_createFeatureCollection_domains()),\n",
    "      \"Network_Ind\": ee.FeatureCollection(fc.s2_createFeatureCollection_Network_Ind()),\n",
    "      \"partition\": ee.ImageCollection(fc.s2_createImageCollection_partition()),\n",
    "      \"legend\": ee.FeatureCollection(fc.s2_createFeatureCollection_legend()),\n",
    "      \"numVariables\": 7\n",
    "    }\n",
    "}\n",
    "\n",
    "VIS_OPTIONS = {\n",
    "    'fAPAR': {\n",
    "        \"COPERNICUS/S2_SR\": {\n",
    "            \"Name\": 'fAPAR',\n",
    "            \"errorName\": 'errorfAPAR',\n",
    "            \"maskName\": 'maskfAPAR',\n",
    "            \"description\": 'Fraction of absorbed photosynthetically active radiation',\n",
    "            \"variable\": 2,\n",
    "            \"inputBands\":      ['cosVZA', 'cosSZA', 'cosRAA', 'B3', 'B4', 'B5', 'B6', 'B7', 'B8A', 'B11', 'B12'],\n",
    "            \"inputScaling\":    [0.0001, 0.0001, 0.0001, 0.0001, 0.0001, 0.0001, 0.0001, 0.0001, 0.0001, 0.0001, 0.0001],\n",
    "            \"outmin\": (ee.Image(ee.Array([[0]]))),\n",
    "            \"outmax\": (ee.Image(ee.Array([[1]])))\n",
    "        },\n",
    "        \"COPERNICUS/S2_SR_10m\": {\n",
    "            \"Name\": 'fAPAR',\n",
    "            \"errorName\": 'errorfAPAR',\n",
    "            \"maskName\": 'maskfAPAR',\n",
    "            \"description\": 'Fraction of absorbed photosynthetically active radiation',\n",
    "            \"variable\": 2,\n",
    "            \"inputBands\":      ['cosVZA', 'cosSZA', 'cosRAA', 'B2', 'B3', 'B4', 'B8'],\n",
    "            \"inputScaling\":    [0.0001, 0.0001, 0.0001, 0.0001, 0.0001, 0.0001, 0.0001],\n",
    "            \"outmin\": (ee.Image(ee.Array([[0]]))),\n",
    "            \"outmax\": (ee.Image(ee.Array([[1]])))\n",
    "        }\n",
    "    },\n",
    "    'fCOVER': {\n",
    "        \"COPERNICUS/S2_SR\": {\n",
    "            \"Name\": 'fCOVER',\n",
    "            \"errorName\": 'errorfCOVER',\n",
    "            \"maskName\": 'maskfCOVER',\n",
    "            \"description\": 'Fraction of canopy cover',\n",
    "            \"variable\": 3,\n",
    "            \"inputBands\":      ['cosVZA', 'cosSZA', 'cosRAA', 'B3', 'B4', 'B5', 'B6', 'B7', 'B8A', 'B11', 'B12'],\n",
    "            \"inputScaling\":    [0.0001, 0.0001, 0.0001, 0.0001, 0.0001, 0.0001, 0.0001, 0.0001, 0.0001, 0.0001, 0.0001],\n",
    "            \"outmin\": (ee.Image(ee.Array([[0]]))),\n",
    "            \"outmax\": (ee.Image(ee.Array([[1]]))) \n",
    "        },\n",
    "        \"COPERNICUS/S2_SR_10m\": {\n",
    "            \"Name\": 'fCOVER',\n",
    "            \"errorName\": 'errorfCOVER',\n",
    "            \"maskName\": 'maskfCOVER',\n",
    "            \"description\": 'Fraction of canopy cover',\n",
    "            \"variable\": 3,\n",
    "            \"inputBands\":      ['cosVZA', 'cosSZA', 'cosRAA', 'B2', 'B3', 'B4', 'B8'],\n",
    "            \"inputScaling\":    [0.0001, 0.0001, 0.0001, 0.0001, 0.0001, 0.0001, 0.0001],\n",
    "            \"outmin\": (ee.Image(ee.Array([[0]]))),\n",
    "            \"outmax\": (ee.Image(ee.Array([[1]]))) \n",
    "        }\n",
    "    },\n",
    "    'LAI': {\n",
    "        \"COPERNICUS/S2_SR\": {\n",
    "            \"Name\": 'LAI',\n",
    "            \"errorName\": 'errorLAI',\n",
    "            \"maskName\": 'maskLAI',\n",
    "            \"description\": 'Leaf area index',\n",
    "            \"variable\": 1,\n",
    "            \"inputBands\":      ['cosVZA', 'cosSZA', 'cosRAA', 'B3', 'B4', 'B5', 'B6', 'B7', 'B8A', 'B11', 'B12'],\n",
    "            \"inputScaling\":    [0.0001, 0.0001, 0.0001, 0.0001, 0.0001, 0.0001, 0.0001, 0.0001, 0.0001, 0.0001, 0.0001],\n",
    "            \"outmin\": (ee.Image(ee.Array([[0]]))),\n",
    "            \"outmax\": (ee.Image(ee.Array([[1]])))\n",
    "        },\n",
    "        \"COPERNICUS/S2_SR_10m\": {\n",
    "            \"Name\": 'LAI',\n",
    "            \"errorName\": 'errorLAI',\n",
    "            \"maskName\": 'maskLAI',\n",
    "            \"description\": 'Leaf area index',\n",
    "            \"variable\": 1,\n",
    "            \"inputBands\":      ['cosVZA', 'cosSZA', 'cosRAA', 'B2', 'B3', 'B4', 'B8'],\n",
    "            \"inputScaling\":    [0.0001, 0.0001, 0.0001, 0.0001, 0.0001, 0.0001, 0.0001],\n",
    "            \"outmin\": (ee.Image(ee.Array([[0]]))),\n",
    "            \"outmax\": (ee.Image(ee.Array([[1]])))\n",
    "        }\n",
    "    }\n",
    "}"
   ]
  },
  {
   "cell_type": "markdown",
   "metadata": {
    "jp-MarkdownHeadingCollapsed": true,
    "tags": []
   },
   "source": [
    "---\n",
    "# 1 – SL2P10"
   ]
  },
  {
   "cell_type": "code",
   "execution_count": 5,
   "metadata": {},
   "outputs": [],
   "source": [
    "# parse the networks\n",
    "colName = 'COPERNICUS/S2_SR_10m'\n",
    "colOptions = COLLECTION_OPTIONS[colName]\n",
    "netOptions = VIS_OPTIONS[outputName][colName]\n",
    "numNets = ee.Number(ee.Feature((COLLECTION_OPTIONS[colName][\"Network_Ind\"]).first()).propertyNames().remove('Feature Index').remove('system:index').remove('lon').size())\n",
    "SL2P = ee.List.sequence(1,ee.Number(COLLECTION_OPTIONS[colName][\"numVariables\"]),1).map(lambda netNum: wn.makeNetVars(COLLECTION_OPTIONS[colName][\"Collection_SL2P\"],numNets,netNum));\n",
    "errorsSL2P = ee.List.sequence(1,ee.Number(COLLECTION_OPTIONS[colName][\"numVariables\"]),1).map(lambda netNum: wn.makeNetVars(COLLECTION_OPTIONS[colName][\"Collection_SL2Perrors\"],numNets,netNum));"
   ]
  },
  {
   "cell_type": "code",
   "execution_count": 6,
   "metadata": {},
   "outputs": [
    {
     "data": {
      "text/html": [
       "<div style=\"width:100%;\"><div style=\"position:relative;width:100%;height:0;padding-bottom:60%;\"><span style=\"color:#565656\">Make this Notebook Trusted to load map: File -> Trust Notebook</span><iframe src=\"about:blank\" style=\"position:absolute;width:100%;height:100%;left:0;top:0;border:none !important;\" data-html=%3C%21DOCTYPE%20html%3E%0A%3Chead%3E%20%20%20%20%0A%20%20%20%20%3Cmeta%20http-equiv%3D%22content-type%22%20content%3D%22text/html%3B%20charset%3DUTF-8%22%20/%3E%0A%20%20%20%20%0A%20%20%20%20%20%20%20%20%3Cscript%3E%0A%20%20%20%20%20%20%20%20%20%20%20%20L_NO_TOUCH%20%3D%20false%3B%0A%20%20%20%20%20%20%20%20%20%20%20%20L_DISABLE_3D%20%3D%20false%3B%0A%20%20%20%20%20%20%20%20%3C/script%3E%0A%20%20%20%20%0A%20%20%20%20%3Cstyle%3Ehtml%2C%20body%20%7Bwidth%3A%20100%25%3Bheight%3A%20100%25%3Bmargin%3A%200%3Bpadding%3A%200%3B%7D%3C/style%3E%0A%20%20%20%20%3Cstyle%3E%23map%20%7Bposition%3Aabsolute%3Btop%3A0%3Bbottom%3A0%3Bright%3A0%3Bleft%3A0%3B%7D%3C/style%3E%0A%20%20%20%20%3Cscript%20src%3D%22https%3A//cdn.jsdelivr.net/npm/leaflet%401.6.0/dist/leaflet.js%22%3E%3C/script%3E%0A%20%20%20%20%3Cscript%20src%3D%22https%3A//code.jquery.com/jquery-1.12.4.min.js%22%3E%3C/script%3E%0A%20%20%20%20%3Cscript%20src%3D%22https%3A//maxcdn.bootstrapcdn.com/bootstrap/3.2.0/js/bootstrap.min.js%22%3E%3C/script%3E%0A%20%20%20%20%3Cscript%20src%3D%22https%3A//cdnjs.cloudflare.com/ajax/libs/Leaflet.awesome-markers/2.0.2/leaflet.awesome-markers.js%22%3E%3C/script%3E%0A%20%20%20%20%3Clink%20rel%3D%22stylesheet%22%20href%3D%22https%3A//cdn.jsdelivr.net/npm/leaflet%401.6.0/dist/leaflet.css%22/%3E%0A%20%20%20%20%3Clink%20rel%3D%22stylesheet%22%20href%3D%22https%3A//maxcdn.bootstrapcdn.com/bootstrap/3.2.0/css/bootstrap.min.css%22/%3E%0A%20%20%20%20%3Clink%20rel%3D%22stylesheet%22%20href%3D%22https%3A//maxcdn.bootstrapcdn.com/bootstrap/3.2.0/css/bootstrap-theme.min.css%22/%3E%0A%20%20%20%20%3Clink%20rel%3D%22stylesheet%22%20href%3D%22https%3A//maxcdn.bootstrapcdn.com/font-awesome/4.6.3/css/font-awesome.min.css%22/%3E%0A%20%20%20%20%3Clink%20rel%3D%22stylesheet%22%20href%3D%22https%3A//cdnjs.cloudflare.com/ajax/libs/Leaflet.awesome-markers/2.0.2/leaflet.awesome-markers.css%22/%3E%0A%20%20%20%20%3Clink%20rel%3D%22stylesheet%22%20href%3D%22https%3A//cdn.jsdelivr.net/gh/python-visualization/folium/folium/templates/leaflet.awesome.rotate.min.css%22/%3E%0A%20%20%20%20%0A%20%20%20%20%20%20%20%20%20%20%20%20%3Cmeta%20name%3D%22viewport%22%20content%3D%22width%3Ddevice-width%2C%0A%20%20%20%20%20%20%20%20%20%20%20%20%20%20%20%20initial-scale%3D1.0%2C%20maximum-scale%3D1.0%2C%20user-scalable%3Dno%22%20/%3E%0A%20%20%20%20%20%20%20%20%20%20%20%20%3Cstyle%3E%0A%20%20%20%20%20%20%20%20%20%20%20%20%20%20%20%20%23map_ee8de405de0a4f309995e0ede957318b%20%7B%0A%20%20%20%20%20%20%20%20%20%20%20%20%20%20%20%20%20%20%20%20position%3A%20relative%3B%0A%20%20%20%20%20%20%20%20%20%20%20%20%20%20%20%20%20%20%20%20width%3A%20100.0%25%3B%0A%20%20%20%20%20%20%20%20%20%20%20%20%20%20%20%20%20%20%20%20height%3A%20400.0px%3B%0A%20%20%20%20%20%20%20%20%20%20%20%20%20%20%20%20%20%20%20%20left%3A%200.0%25%3B%0A%20%20%20%20%20%20%20%20%20%20%20%20%20%20%20%20%20%20%20%20top%3A%200.0%25%3B%0A%20%20%20%20%20%20%20%20%20%20%20%20%20%20%20%20%7D%0A%20%20%20%20%20%20%20%20%20%20%20%20%3C/style%3E%0A%20%20%20%20%20%20%20%20%0A%20%20%20%20%3Cscript%20src%3D%22https%3A//cdnjs.cloudflare.com/ajax/libs/leaflet.fullscreen/1.4.2/Control.FullScreen.min.js%22%3E%3C/script%3E%0A%20%20%20%20%3Clink%20rel%3D%22stylesheet%22%20href%3D%22https%3A//cdnjs.cloudflare.com/ajax/libs/leaflet.fullscreen/1.4.2/Control.FullScreen.min.css%22/%3E%0A%3C/head%3E%0A%3Cbody%3E%20%20%20%20%0A%20%20%20%20%0A%20%20%20%20%20%20%20%20%20%20%20%20%3Cdiv%20class%3D%22folium-map%22%20id%3D%22map_ee8de405de0a4f309995e0ede957318b%22%20%3E%3C/div%3E%0A%20%20%20%20%20%20%20%20%0A%3C/body%3E%0A%3Cscript%3E%20%20%20%20%0A%20%20%20%20%0A%20%20%20%20%20%20%20%20%20%20%20%20var%20map_ee8de405de0a4f309995e0ede957318b%20%3D%20L.map%28%0A%20%20%20%20%20%20%20%20%20%20%20%20%20%20%20%20%22map_ee8de405de0a4f309995e0ede957318b%22%2C%0A%20%20%20%20%20%20%20%20%20%20%20%20%20%20%20%20%7B%0A%20%20%20%20%20%20%20%20%20%20%20%20%20%20%20%20%20%20%20%20center%3A%20%5B54.0%2C%20-117.0%5D%2C%0A%20%20%20%20%20%20%20%20%20%20%20%20%20%20%20%20%20%20%20%20crs%3A%20L.CRS.EPSG3857%2C%0A%20%20%20%20%20%20%20%20%20%20%20%20%20%20%20%20%20%20%20%20zoom%3A%208%2C%0A%20%20%20%20%20%20%20%20%20%20%20%20%20%20%20%20%20%20%20%20zoomControl%3A%20true%2C%0A%20%20%20%20%20%20%20%20%20%20%20%20%20%20%20%20%20%20%20%20preferCanvas%3A%20false%2C%0A%20%20%20%20%20%20%20%20%20%20%20%20%20%20%20%20%7D%0A%20%20%20%20%20%20%20%20%20%20%20%20%29%3B%0A%0A%20%20%20%20%20%20%20%20%20%20%20%20%0A%0A%20%20%20%20%20%20%20%20%0A%20%20%20%20%0A%20%20%20%20%20%20%20%20%20%20%20%20var%20tile_layer_336d2cbcfdfe486783415e1f969ce98d%20%3D%20L.tileLayer%28%0A%20%20%20%20%20%20%20%20%20%20%20%20%20%20%20%20%22https%3A//%7Bs%7D.tile.openstreetmap.org/%7Bz%7D/%7Bx%7D/%7By%7D.png%22%2C%0A%20%20%20%20%20%20%20%20%20%20%20%20%20%20%20%20%7B%22attribution%22%3A%20%22Data%20by%20%5Cu0026copy%3B%20%5Cu003ca%20href%3D%5C%22http%3A//openstreetmap.org%5C%22%5Cu003eOpenStreetMap%5Cu003c/a%5Cu003e%2C%20under%20%5Cu003ca%20href%3D%5C%22http%3A//www.openstreetmap.org/copyright%5C%22%5Cu003eODbL%5Cu003c/a%5Cu003e.%22%2C%20%22detectRetina%22%3A%20false%2C%20%22maxNativeZoom%22%3A%2018%2C%20%22maxZoom%22%3A%2018%2C%20%22minZoom%22%3A%200%2C%20%22noWrap%22%3A%20false%2C%20%22opacity%22%3A%201%2C%20%22subdomains%22%3A%20%22abc%22%2C%20%22tms%22%3A%20false%7D%0A%20%20%20%20%20%20%20%20%20%20%20%20%29.addTo%28map_ee8de405de0a4f309995e0ede957318b%29%3B%0A%20%20%20%20%20%20%20%20%0A%20%20%20%20%0A%20%20%20%20%20%20%20%20%20%20%20%20var%20tile_layer_3c6f6457da034ba8af8adf26ac3e6345%20%3D%20L.tileLayer%28%0A%20%20%20%20%20%20%20%20%20%20%20%20%20%20%20%20%22https%3A//earthengine.googleapis.com/v1alpha/projects/earthengine-legacy/maps/4839aed738da8a4537fc9218d42e009c-7d72b2302183a5e90e8150af2a256fdf/tiles/%7Bz%7D/%7Bx%7D/%7By%7D%22%2C%0A%20%20%20%20%20%20%20%20%20%20%20%20%20%20%20%20%7B%22attribution%22%3A%20%22Google%20Earth%20Engine%22%2C%20%22detectRetina%22%3A%20false%2C%20%22maxNativeZoom%22%3A%2018%2C%20%22maxZoom%22%3A%2018%2C%20%22minZoom%22%3A%200%2C%20%22noWrap%22%3A%20false%2C%20%22opacity%22%3A%201%2C%20%22subdomains%22%3A%20%22abc%22%2C%20%22tms%22%3A%20false%7D%0A%20%20%20%20%20%20%20%20%20%20%20%20%29.addTo%28map_ee8de405de0a4f309995e0ede957318b%29%3B%0A%20%20%20%20%20%20%20%20%0A%20%20%20%20%0A%20%20%20%20%20%20%20%20%20%20%20%20var%20layer_control_e92f833ad93c4a36a426ed16c1644cb1%20%3D%20%7B%0A%20%20%20%20%20%20%20%20%20%20%20%20%20%20%20%20base_layers%20%3A%20%7B%0A%20%20%20%20%20%20%20%20%20%20%20%20%20%20%20%20%20%20%20%20%22openstreetmap%22%20%3A%20tile_layer_336d2cbcfdfe486783415e1f969ce98d%2C%0A%20%20%20%20%20%20%20%20%20%20%20%20%20%20%20%20%7D%2C%0A%20%20%20%20%20%20%20%20%20%20%20%20%20%20%20%20overlays%20%3A%20%20%7B%0A%20%20%20%20%20%20%20%20%20%20%20%20%20%20%20%20%20%20%20%20%22Image%22%20%3A%20tile_layer_3c6f6457da034ba8af8adf26ac3e6345%2C%0A%20%20%20%20%20%20%20%20%20%20%20%20%20%20%20%20%7D%2C%0A%20%20%20%20%20%20%20%20%20%20%20%20%7D%3B%0A%20%20%20%20%20%20%20%20%20%20%20%20L.control.layers%28%0A%20%20%20%20%20%20%20%20%20%20%20%20%20%20%20%20layer_control_e92f833ad93c4a36a426ed16c1644cb1.base_layers%2C%0A%20%20%20%20%20%20%20%20%20%20%20%20%20%20%20%20layer_control_e92f833ad93c4a36a426ed16c1644cb1.overlays%2C%0A%20%20%20%20%20%20%20%20%20%20%20%20%20%20%20%20%7B%22autoZIndex%22%3A%20true%2C%20%22collapsed%22%3A%20true%2C%20%22position%22%3A%20%22topright%22%7D%0A%20%20%20%20%20%20%20%20%20%20%20%20%29.addTo%28map_ee8de405de0a4f309995e0ede957318b%29%3B%0A%20%20%20%20%20%20%20%20%0A%20%20%20%20%0A%20%20%20%20%20%20%20%20%20%20%20%20L.control.fullscreen%28%0A%20%20%20%20%20%20%20%20%20%20%20%20%20%20%20%20%7B%22forceSeparateButton%22%3A%20false%2C%20%22position%22%3A%20%22topleft%22%2C%20%22title%22%3A%20%22Full%20Screen%22%2C%20%22titleCancel%22%3A%20%22Exit%20Full%20Screen%22%7D%0A%20%20%20%20%20%20%20%20%20%20%20%20%29.addTo%28map_ee8de405de0a4f309995e0ede957318b%29%3B%0A%20%20%20%20%20%20%20%20%0A%3C/script%3E onload=\"this.contentDocument.open();this.contentDocument.write(    decodeURIComponent(this.getAttribute('data-html')));this.contentDocument.close();\" allowfullscreen webkitallowfullscreen mozallowfullscreen></iframe></div></div>"
      ],
      "text/plain": [
       "<folium.folium.Map at 0x15e34a6a0>"
      ]
     },
     "metadata": {},
     "output_type": "display_data"
    }
   ],
   "source": [
    "# performs same procedure as block 6 above, using SL2P10 network\n",
    "# applies algorithm to 10 m bands ; generates a 10 m map\n",
    "\n",
    "# filter collection and add ancillary bands\n",
    "input_collection_10m = ee.ImageCollection(testImage) \\\n",
    "                     .map(lambda image: ib.addDate(image)) \\\n",
    "                     .map(lambda image: image.clip(mapBounds)) \\\n",
    "                     .map(lambda image: ib.s2MaskClear(image)) \\\n",
    "                     .map(lambda image: ib.s2MaskLand(image)) \\\n",
    "                     .map(lambda image: ib.addS2Geometry(colOptions, image))\n",
    "\n",
    "# get partition used to select network\n",
    "partition = (COLLECTION_OPTIONS[colName][\"partition\"]).filterBounds(mapBounds).mosaic().clip(mapBounds).rename('partition')\n",
    "\n",
    "# pre process input imagery and flag invalid inputs\n",
    "input_collection_10m = input_collection_10m.map(lambda image: ib.s2MaskLand(image)) \\\n",
    "                                           .map(lambda image: ib.scaleBands(netOptions[\"inputBands\"],netOptions[\"inputScaling\"],image)) \\\n",
    "                                           .map(lambda image: ib.invalidInput(COLLECTION_OPTIONS[colName][\"sl2pDomain\"],netOptions[\"inputBands\"],image))\n",
    "\n",
    "# apply networks to produce mapped parameters\n",
    "estimateSL2P_10m = input_collection_10m.map(lambda image: wn.wrapperNNets(SL2P, partition, netOptions, COLLECTION_OPTIONS[colName], \"estimate\", image, outputName))\n",
    "uncertaintySL2P_10m = input_collection_10m.map(lambda image: wn.wrapperNNets(errorsSL2P, partition, netOptions, COLLECTION_OPTIONS[colName], \"error\", image, outputName))\n",
    "\n",
    "# scale and offset mapped parameter bands\n",
    "estimateSL2P_10m = estimateSL2P_10m.map(lambda image: image.addBands(image.select(\"estimate\"+outputName) \\\n",
    "                                                             .multiply(ee.Image.constant(outputScale)) \\\n",
    "                                                             .add(ee.Image.constant(outputOffset)), overwrite = True))\n",
    "uncertaintySL2P_10m = uncertaintySL2P_10m.map(lambda image: image.addBands(image.select(\"error\"+outputName) \\\n",
    "                                                                   .multiply(ee.Image.constant(outputScale)) \\\n",
    "                                                                   .add(ee.Image.constant(outputOffset)),overwrite = True))\n",
    "\n",
    "\n",
    "# produce final export collection\n",
    "export_collection_10m = input_collection_10m.combine(estimateSL2P_10m).combine(uncertaintySL2P_10m)\n",
    "\n",
    "image_output_names_10m = ([name+\"_\"+outputName+\"_10m\" for name in export_collection_10m.toList(export_collection_10m.size()).map(lambda image: ee.Image(image).id()).getInfo()])\n",
    "ee_func.displayImage(export_collection_10m.mosaic().select('estimate'+outputName),0+outputOffset,10*outputScale+outputOffset, mapBounds)"
   ]
  },
  {
   "cell_type": "markdown",
   "metadata": {
    "tags": []
   },
   "source": [
    "# ALR\n",
    "\n",
    "a few notes:\n",
    "1. the responseBand from the above step doesn't have a geometry associated with it (only happens after being uploaded to GEE) so the image will have to be defined from existing GEE asset for the remaining steps even though the same image was created as inputImage (should be identical except for geometry)"
   ]
  },
  {
   "cell_type": "code",
   "execution_count": 7,
   "metadata": {},
   "outputs": [],
   "source": [
    "# order of bands from SL2P output:\n",
    "# 00-11: 'B1', 'B2', 'B3', 'B4', 'B5', 'B6', 'B7', 'B8', 'B8A', 'B9', 'B11', 'B12', \n",
    "# 12-19: 'AOT', 'WVP', 'SCL', 'TCI_R', 'TCI_G', 'TCI_B', 'MSK_CLDPRB', 'MSK_SNWPRB', \n",
    "# 20-26: 'QA10', 'QA20', 'QA60', 'date', 'cosVZA', 'cosSZA', 'cosRAA', \n",
    "# 27-32: 'estimateLAI', 'partition', 'networkID', 'errorLAI', 'partition_1', 'networkID_1'\n",
    "\n",
    "# define 10m band input image ; name bands of inputImage and scale response band\n",
    "inputImage = ee.Image('users/kateharvey/'+siteSelect+'_'+outputName).select(1,2,3,7,22,23,27,28,29,30,31,32)\n",
    "inputImage_bands = ee.List(['B2', 'B3', 'B4', 'B8', 'QA60', 'date', 'estimate'+outputName, 'partition', 'networkID', 'error'+outputName, 'partition_1', 'networkID_1'])\n",
    "inputImage = inputImage.rename(inputImage_bands)"
   ]
  },
  {
   "cell_type": "code",
   "execution_count": 8,
   "metadata": {
    "tags": []
   },
   "outputs": [],
   "source": [
    "# Only include VIs that use B2, B3, B4, B8 to create a 10 m product\n",
    "input_VI_definition = ee.List([# \"RAW_B2  = b('B2')\",\n",
    "                             # \"RAW_B3  = b('B3')\",\n",
    "                             # \"RAW_B4  = b('B4')\",\n",
    "                             # \"RAW_B8  = b('B8')\",\n",
    "                               \"GI      = b('B3')/b('B4')\",\n",
    "                             # \"RVI3    = b('B4')/b('B6')\",\n",
    "                             # \"SR3     = b('B5')/b('B4')\",\n",
    "                             # \"GM1     = b('B6')/b('B3')\",\n",
    "                             # \"GM2     = b('B6')/b('B5')\",\n",
    "                             # \"SR2     = b('B7')/b('B3')\",\n",
    "                             # \"PSSR    = b('B7')/b('B4')\",\n",
    "                               \"SGI     = b('B8')/b('B4')\",\n",
    "                             # \"MSI     = b('B11')/b('B7')\",\n",
    "                             # \"II      = b('B11')/b('B12')\",\n",
    "                               \"GVI     = (b('B8')/b('B3'))-1\",\n",
    "                             # \"PSRI    = (b('B4')-b('B3'))/b('B6')\",\n",
    "                               \"NDVI3   = ((b('B8')-b('B4'))/(b('B8')))+b('B4')\",\n",
    "                             # \"SR5     = 1/b('B5')\",\n",
    "                             # \"SR6     = b('B4')/(b('B3')*b('B5'))\",\n",
    "                             # \"SR7     = b('B8')/(b('B3')*b('B5'))\",\n",
    "                             # \"IPVI    = b('B7')/(b('B7')+b('B4'))\",\n",
    "                             # \"ARI     = (1/b('B3'))-(1/b('B5'))\",\n",
    "                             # \"ARI2    = b('B7')*((1/b('B3'))-(1/b('B5')))\",\n",
    "                               \"NDVI    = (b('B8')-b('B4'))/(b('B8')+b('B4'))\",\n",
    "                               \"GNDVI   = (b('B8')-b('B3'))/(b('B8')+b('B3'))\",\n",
    "                             # \"NDWI    = (b('B8')-b('B11'))/(b('B8')+b('B11'))\",\n",
    "                             # \"NDREVI  = (b('B8')-b('B5'))/(b('B8')+b('B5'))\",\n",
    "                               \"NDGI    = (b('B3')-b('B4'))/(b('B3')+b('B4'))\",\n",
    "                             # \"NDI1    = (b('B7')-b('B5'))/(b('B7')-b('B4'))\",\n",
    "                             # \"NDI2    = (b('B8')-b('B5'))/(b('B8')-b('B4'))\",\n",
    "                             # \"RENDVI  = (b('B6')-b('B5'))/(b('B6')+b('B5'))\",\n",
    "                             # \"OSAVI   = (1.16*(b('B7')-b('B4')))/(b('B7')+b('B4')+0.61)\",\n",
    "                             # \"NMDI    = (b('B8')-(b('B11')-b('B12')))/(b('B8')+(b('B11')-b('B12')))\",\n",
    "                             # \"HI      = ((b('B3')-b('B5'))/(b('B3')+b('B5')))-0.5*b('B5')\",\n",
    "                             # \"GVSP    = (-0.283*b('B3') - 0.66*b('B4') + 0.577*b('B6') + 0.388*b('B8'))/(0.433*b('B3') - 0.632*b('B4') + 0.586*b('B6') + 0.264*b('B8A'))\",\n",
    "                             # \"MCARI   = ((b('B5')-b('B4'))-0.2*(b('B5')-b('B3')))*(b('B5')/b('B4'))\",\n",
    "                             # \"TCARI   = 3*((b('B5')-b('B4'))-0.2*(b('B5')-b('B3'))*(b('B5')/b('B4')))\",\n",
    "                               \"EVI     = 2.5*((b('B8')-b('B4'))/(b('B8')+6*b('B4')-7.5*b('B3')+1))\",\n",
    "                               \"EVI2    = 2.5*((b('B8')-b('B4'))/(b('B8')+2.4*b('B4')+1))\",\n",
    "                               \"RDVI    = (b('B8')-b('B4'))/((b('B8')+b('B4'))**0.5)\",\n",
    "                               \"MSR     = ((b('B8')/b('B4'))-1)/((b('B8')/b('B4'))**0.5+1)\",\n",
    "                             # \"MSAVI   = 0.5*(2*b('B7')+1-((2*b('B7')+1)**2-8*(b('B7')-b('B4')))**0.5)\",\n",
    "                               \"MSAVI2  = 0.5*(2*b('B8')+1-((2*b('B8')+1)**2-8*(b('B8')-b('B4')))**0.5)\",\n",
    "                             # \"MCARI2  = (1.5*(2.5*(b('B7')-b('B4'))-1.3*(b('B7')-b('B3'))))/((((2*b('B7')+1)**2)-(6*b('B7')-5*(b('B4')**0.5))-0.5)**0.5)\",\n",
    "                             # \"MTVI2   = (1.5*(1.2*(b('B7')-b('B3'))-2.5*(b('B4')-b('B3'))))/(((2*b('B7')+1)**2-(6*b('B7')-5*b('B4'))-0.5)**0.5)\",\n",
    "                             # \"MSR2    = ((b('B7')/b('B4'))-1)/(((b('B7')/b('B4'))+1)**0.5)\",\n",
    "                               \"NLI     = ((b('B8')**2)-b('B4'))/((b('B8')**2)+b('B4'))\"])\n",
    "\n",
    "# names of bands to pass to ALR method (excluding metadata and other non-spectral bands)\n",
    "input_bandNames = ['B2', 'B3', 'B4', 'B8', 'GI', 'SGI', 'GVI', 'NDVI3', 'NDVI', 'GNDVI', 'NDGI', 'EVI', 'EVI2', 'RDVI', 'MSR', 'MSAVI2', 'NLI']"
   ]
  },
  {
   "cell_type": "code",
   "execution_count": 9,
   "metadata": {},
   "outputs": [],
   "source": [
    "# format image and generate list of selected features\n",
    "inputImage = alr.format_image(inputImage, inputImage_bands, responseBand, input_VI_definition)"
   ]
  },
  {
   "cell_type": "code",
   "execution_count": 10,
   "metadata": {},
   "outputs": [],
   "source": [
    "# prepares the image to be ingested by the LARS algorithm\n",
    "# returns an image with the response band centred to a mean 0, and the other bands in the image standardized\n",
    "# to a mean 0 and standard deviation 1\n",
    "scaledImage = alr.scale_image(inputImage, responseBand)"
   ]
  },
  {
   "cell_type": "code",
   "execution_count": 11,
   "metadata": {},
   "outputs": [
    {
     "name": "stdout",
     "output_type": "stream",
     "text": [
      "selected features:  ['MSR', 'GVI', 'RDVI', 'SGI', 'EVI2']\n"
     ]
    }
   ],
   "source": [
    "# apply ALR to the image and obtain the features selected for the model\n",
    "# parameters: ee_LARS(inputImage, bandNames, responseBand, numFeatures, numSamples)\n",
    "select_features = alr.ee_LARS(scaledImage, input_bandNames, responseBand, 5, 10000)"
   ]
  },
  {
   "cell_type": "code",
   "execution_count": null,
   "metadata": {},
   "outputs": [],
   "source": [
    "# export formatted image to google drive (with added VI bands)\n",
    "# this will be used in the next section to train the regression tree\n",
    "\n",
    "# before export, scale VI bands up by factor of 1000 to preserve precision (EE only takes in integer portion)\n",
    "# inputImage = inputImage.addBands(inputImage.select('GI', 'SGI', 'GVI', 'NDVI3', 'NDVI', 'GNDVI', 'NDGI', 'EVI', 'EVI2', 'RDVI', 'MSR', 'MSAVI2', 'NLI').multiply(1000), overwrite=True)\n",
    "export = ee.ImageCollection(inputImage)\n",
    "\n",
    "export_task = ee_func.export_collection_to_drive(collection=export,\n",
    "                                                 num_images=1,\n",
    "                                                 image_names=siteSelect+'_'+outputName+'_vi_image',\n",
    "                                                 # gdrive_folder = exportFolder,\n",
    "                                                 scale=20,\n",
    "                                                 data_type=exportDataType,\n",
    "                                                 max_pixels=1e13)"
   ]
  },
  {
   "cell_type": "markdown",
   "metadata": {
    "tags": []
   },
   "source": [
    "### Note:\n",
    "This will create a .TIFF record in the user's google drive account that must be uploaded as an Earth Engine asset before proceeding to the next step."
   ]
  },
  {
   "cell_type": "markdown",
   "metadata": {
    "tags": []
   },
   "source": [
    "---\n",
    "# 2 – LARS + Regression Tree"
   ]
  },
  {
   "cell_type": "markdown",
   "metadata": {
    "tags": []
   },
   "source": [
    "### Friday:\n",
    "* once working, move regression tree code into separate module\n",
    "* experiment with different parameters to compare predictions\n",
    "* in method 3, get nnet to map over entire image and display properly (still not working)"
   ]
  },
  {
   "cell_type": "code",
   "execution_count": 12,
   "metadata": {},
   "outputs": [],
   "source": [
    "# DEFINE IMAGE & FORMAT BANDS\n",
    "unclassified = ee.Image('users/kateharvey/'+siteSelect+'_'+outputName+'_VI')\n",
    "bands = ee.List([responseBand, 'GI', 'SGI', 'GVI', 'NDVI3', 'NDVI', 'GNDVI', 'NDGI',\n",
    "                 'EVI', 'EVI2', 'RDVI', 'MSR', 'MSAVI2', 'NLI', 'B2', 'B3', 'B4', 'B8',\n",
    "                 'QA60', 'date', 'partition', 'networkID', 'error'+outputName, 'partition_1', 'networkID_1'])\n",
    "unclassified = unclassified.rename(bands)\n",
    "\n",
    "# prediction bands (equivalent to select_features, with responseBand)\n",
    "bands = select_features\n",
    "input_bands = select_features.add(responseBand)"
   ]
  },
  {
   "cell_type": "code",
   "execution_count": 13,
   "metadata": {},
   "outputs": [],
   "source": [
    "# GET TRAINING DATASET\n",
    "# Feature Vector (table) used to train regression model (select only prediction bands)\n",
    "training_data = ee.FeatureCollection(unclassified.sample(numPixels=1000).select(input_bands))"
   ]
  },
  {
   "cell_type": "code",
   "execution_count": 14,
   "metadata": {},
   "outputs": [],
   "source": [
    "# CREATE CLASSIFIERS\n",
    "\n",
    "# implement regression tree with Random Forest algorithm\n",
    "# optional parameters for smileRandomForest(): numberOfTrees, variablesPerSplit, minLeafPopulation, bagFraction, maxNodes, seed\n",
    "rf_classifier = ee.Classifier.smileRandomForest(100).setOutputMode('REGRESSION').train(features=training_data,\n",
    "                                                                                       classProperty=responseBand,\n",
    "                                                                                       inputProperties=input_bands)\n",
    "\n",
    "# implement regression tree with CART (Classification and Regression Tree) algorithm\n",
    "# optional parameters for smileCart(): maxNodes, minLeafPopulation\n",
    "cart_classifier = ee.Classifier.smileCart().setOutputMode('REGRESSION').train(features=training_data,\n",
    "                                                                              classProperty=responseBand,\n",
    "                                                                              inputProperties=input_bands)"
   ]
  },
  {
   "cell_type": "code",
   "execution_count": 15,
   "metadata": {},
   "outputs": [],
   "source": [
    "# CLASSIFY IMAGE\n",
    "rf_classified = unclassified.select(bands).classify(rf_classifier, 'rf_'+responseBand)\n",
    "cart_classified = unclassified.select(bands).classify(cart_classifier, 'cart_'+responseBand)"
   ]
  },
  {
   "cell_type": "code",
   "execution_count": null,
   "metadata": {},
   "outputs": [],
   "source": [
    "# EXPORT CLASSIFIED IMAGE TO EE\n"
   ]
  },
  {
   "cell_type": "code",
   "execution_count": 16,
   "metadata": {},
   "outputs": [],
   "source": [
    "# CHECK RESULTS (compare image layers)\n",
    "joined_image = unclassified.select(responseBand).addBands(rf_classified.select('rf_'+responseBand))\\\n",
    "                                                .addBands(cart_classified.select('cart_'+responseBand))\n",
    "joined_samples = joined_image.sample(numPixels=1000)"
   ]
  },
  {
   "cell_type": "code",
   "execution_count": 239,
   "metadata": {},
   "outputs": [],
   "source": [
    "# EXPORT FEATURE COLLECTION (for scatter plot comparison in next section)\n",
    "export_csv = ee.batch.Export.table.toDrive(collection=joined_samples,\n",
    "                                           description=siteSelect+'_'+outputName+'_regression_tree',\n",
    "                                           fileFormat='CSV')"
   ]
  },
  {
   "cell_type": "code",
   "execution_count": 240,
   "metadata": {},
   "outputs": [
    {
     "name": "stdout",
     "output_type": "stream",
     "text": [
      "READY\n",
      "RUNNING\n",
      "COMPLETED\n"
     ]
    }
   ],
   "source": [
    "# Start the export task\n",
    "export_csv.start()\n",
    "\n",
    "# Wait loop to see if the data has finished exporting by checking with the server-side\n",
    "prev_task_status = ee.data.getTaskStatus(export_csv.id)[0][\"state\"]\n",
    "print(prev_task_status)\n",
    "while export_csv.active():\n",
    "    task_status = ee.data.getTaskStatus(export_csv.id)[0][\"state\"]\n",
    "    if(task_status != prev_task_status):\n",
    "        print(task_status)\n",
    "    prev_task_status = task_status\n",
    "    time.sleep(5)\n",
    "print(ee.data.getTaskStatus(export_csv.id)[0][\"state\"])"
   ]
  },
  {
   "cell_type": "markdown",
   "metadata": {
    "tags": []
   },
   "source": [
    "### Visualize and Compare Predictions:"
   ]
  },
  {
   "cell_type": "code",
   "execution_count": 17,
   "metadata": {},
   "outputs": [],
   "source": [
    "# Read the CSV file into dataframe\n",
    "data = pd.read_csv('./gdrive/'+siteSelect+'_'+outputName+'_regression_tree.csv')\n",
    "\n",
    "# remove rows that have a value of 0 for the responseBand\n",
    "data = data[data[responseBand] != 0]\n",
    "\n",
    "\n",
    "# Get column data (for plots [0,1] and [1,1])\n",
    "rf = data['rf_'+responseBand]/1000    # divide by 1000 to get properly scaled values for the variable\n",
    "cart = data['cart_'+responseBand]/1000\n",
    "actual = data[responseBand]/1000\n",
    "\n",
    "# Obtain point density to display as a scatterplot (KDE)\n",
    "xy_rf = np.vstack([actual, rf])\n",
    "z_rf = scipy.stats.gaussian_kde(xy_rf)(xy_rf)\n",
    "\n",
    "xy_cart = np.vstack([actual, cart])\n",
    "z_cart = scipy.stats.gaussian_kde(xy_cart)(xy_cart)\n",
    "\n",
    "\n",
    "# Sort by responseBand in ascending order (for plots [0,0] and [1,0] below)\n",
    "data_sorted = data.sort_values(responseBand, axis=0).reset_index(drop=True)\n",
    "rf_sorted = data_sorted['rf_'+responseBand]/1000\n",
    "cart_sorted = data_sorted['cart_'+responseBand]/1000\n",
    "actual_sorted = data_sorted[responseBand]/1000\n",
    "index_sorted = data_sorted.index\n",
    "\n",
    "# Obtain point density for sorted values\n",
    "xy_rf_sorted = np.vstack([actual_sorted, rf_sorted])\n",
    "z_rf_sorted = scipy.stats.gaussian_kde(xy_rf_sorted)(xy_rf_sorted)\n",
    "\n",
    "xy_cart_sorted = np.vstack([actual_sorted, cart_sorted])\n",
    "z_cart_sorted = scipy.stats.gaussian_kde(xy_cart_sorted)(xy_cart_sorted)"
   ]
  },
  {
   "cell_type": "code",
   "execution_count": 20,
   "metadata": {},
   "outputs": [
    {
     "data": {
      "image/png": "[encoded data removed]",
      "text/plain": [
       "<Figure size 864x864 with 6 Axes>"
      ]
     },
     "metadata": {
      "needs_background": "light"
     },
     "output_type": "display_data"
    }
   ],
   "source": [
    "# PLOT & COMPARE PREDICTIONS FROM BOTH REGRESSION TREES\n",
    "\n",
    "fig, ax = plt.subplots(2, 2, figsize=(12,12))\n",
    "xy = np.linspace(0, outputMax, 100)\n",
    "\n",
    "# ax[0,0]\n",
    "fig1 = ax[0,0].scatter(index_sorted, rf_sorted, c=z_rf_sorted, label='random forest')\n",
    "ax[0,0].scatter(index_sorted, actual_sorted, c='r', s=1, label='sl2p estimate')\n",
    "rf_rmse_sorted = skl.metrics.mean_squared_error(actual_sorted, rf_sorted, squared=False)\n",
    "ax[0,0].title.set_text('RMSE: {}'.format(rf_rmse_sorted))\n",
    "ax[0,0].set_xlabel('Index (1000 samples)')\n",
    "ax[0,0].set_ylabel('Random Forest Prediction')\n",
    "ax[0,0].legend()\n",
    "\n",
    "# ax[0,1]\n",
    "ax[0,1].plot(xy, xy, c='r')\n",
    "fig2 = ax[0,1].scatter(rf, actual, c=z_rf)\n",
    "rf_rmse = skl.metrics.mean_squared_error(actual, rf, squared=False)\n",
    "ax[0,1].title.set_text('RMSE: {}'.format(rf_rmse))\n",
    "ax[0,1].set_xlabel('SL2P Prediction')\n",
    "ax[0,1].set_ylabel('Random Forest Prediction')\n",
    "\n",
    "fig.subplots_adjust(right=0.9)\n",
    "cbar_ax1 = fig.add_axes([0.92, 0.55, 0.02, 0.3])\n",
    "fig.colorbar(fig2, cax=cbar_ax1)\n",
    "\n",
    "\n",
    "# ax[1,0]\n",
    "fig3 = ax[1,0].scatter(index_sorted, cart_sorted, c=z_cart_sorted, label='cart')\n",
    "ax[1,0].scatter(index_sorted, actual_sorted, c='r', s=1, label='sl2p estimate')\n",
    "cart_rmse_sorted = skl.metrics.mean_squared_error(actual_sorted, cart_sorted, squared=False)\n",
    "ax[1,0].title.set_text('RMSE: {}'.format(cart_rmse_sorted))\n",
    "ax[1,0].set_xlabel('Index (1000 samples)')\n",
    "ax[1,0].set_ylabel('CART Prediction')\n",
    "ax[1,0].legend()\n",
    "\n",
    "# ax[1,1]\n",
    "ax[1,1].plot(xy, xy, c='r')\n",
    "fig4 = ax[1,1].scatter(cart, actual, c=z_cart)\n",
    "cart_rmse = skl.metrics.mean_squared_error(actual, cart, squared=False)\n",
    "ax[1,1].title.set_text('RMSE: {}'.format(cart_rmse))\n",
    "ax[1,1].set_xlabel('SL2P Prediction')\n",
    "ax[1,1].set_ylabel('CART Prediction')\n",
    "\n",
    "fig.subplots_adjust(right=0.9)\n",
    "cbar_ax3 = fig.add_axes([0.92, 0.15, 0.02, 0.3])\n",
    "fig.colorbar(fig4, cax=cbar_ax3)\n",
    "\n",
    "# save plot as .png\n",
    "fig.savefig('./trees/'+siteSelect+'_'+outputName+'_rf_cart_comparison.png')"
   ]
  },
  {
   "cell_type": "code",
   "execution_count": null,
   "metadata": {},
   "outputs": [],
   "source": [
    "'''\n",
    "# display map:\n",
    "m = folium.Map(location=mapCenter, zoom_start=12, height=400)\n",
    "vis_params = {\n",
    "    'min': 0,\n",
    "    'max': 1000}\n",
    "\n",
    "rf_layer = m.add_ee_layer(rf_classified, vis_params, 'Image')\n",
    "cart_layer = m.add_ee_layer(cart_classified, vis_params, 'Image')\n",
    "sl2p_layer = m.add_ee_layer(unclassified, vis_params, 'Image')\n",
    "\n",
    "m = displayImage(m, minVal, maxVal, mapBounds)\n",
    "'''"
   ]
  },
  {
   "cell_type": "markdown",
   "metadata": {
    "tags": []
   },
   "source": [
    "# 3 – LARS + NNET"
   ]
  },
  {
   "cell_type": "code",
   "execution_count": 18,
   "metadata": {},
   "outputs": [],
   "source": [
    "# Create the export task on the server side from Earth Engine. Remember that the data will be exported to the google drive of the google\n",
    "# account you used when you initiated the Earth Engine API authentication flow, so ensure that, that accounts drive is synced to the \n",
    "# gdrive folder in the same folder as this script\n",
    "trimmedCollection = alr.trim_data(image=inputImage.updateMask(inputImage.select(responseBand).gt(0)),\n",
    "                                  selected_features=select_features,\n",
    "                                  response_band=responseBand,\n",
    "                                  num_samples=10000,\n",
    "                                  num_partitions=10)\n",
    "\n",
    "exportData = ee.batch.Export.table.toDrive(collection=trimmedCollection,\n",
    "                                           description=siteSelect+'_'+outputName+'_10m',\n",
    "                                           fileFormat=\"CSV\")"
   ]
  },
  {
   "cell_type": "code",
   "execution_count": 19,
   "metadata": {},
   "outputs": [
    {
     "name": "stdout",
     "output_type": "stream",
     "text": [
      "READY\n",
      "RUNNING\n",
      "COMPLETED\n"
     ]
    }
   ],
   "source": [
    "# Start the export data task\n",
    "exportData.start()\n",
    "\n",
    "# Wait loop to see if the data has finished exporting by checking with the server-side\n",
    "prev_task_status = ee.data.getTaskStatus(exportData.id)[0][\"state\"]\n",
    "print(prev_task_status)\n",
    "while exportData.active():\n",
    "    task_status = ee.data.getTaskStatus(exportData.id)[0][\"state\"]\n",
    "    if(task_status != prev_task_status):\n",
    "        print(task_status)\n",
    "    prev_task_status = task_status\n",
    "    time.sleep(5)\n",
    "print(ee.data.getTaskStatus(exportData.id)[0][\"state\"])"
   ]
  },
  {
   "cell_type": "markdown",
   "metadata": {},
   "source": [
    "### Note:\n",
    "This will create a .csv in the user's google drive folder that must be put into the 'gdrive' folder inside this directory so it can be used in the next section."
   ]
  },
  {
   "cell_type": "code",
   "execution_count": 20,
   "metadata": {},
   "outputs": [],
   "source": [
    "# Read the CSV file into dataframes\n",
    "trimmed_data = pd.read_csv('./gdrive/'+siteSelect+'_'+outputName+'_10m.csv')\n",
    "X = trimmed_data.drop(labels=[responseBand, 'system:index', '.geo'], axis=1)\n",
    "y = trimmed_data[responseBand]\n",
    "\n",
    "# Preprocess the input features by standardizing them to a mean of 0 and a standard deviation of 1 for the neural network\n",
    "X = pd.DataFrame(skl.preprocessing.scale(X))"
   ]
  },
  {
   "cell_type": "code",
   "execution_count": 21,
   "metadata": {},
   "outputs": [
    {
     "name": "stderr",
     "output_type": "stream",
     "text": [
      "2021-11-22 08:19:33.176190: I tensorflow/core/platform/cpu_feature_guard.cc:142] This TensorFlow binary is optimized with oneAPI Deep Neural Network Library (oneDNN) to use the following CPU instructions in performance-critical operations:  SSE4.1 SSE4.2 AVX AVX2 FMA\n",
      "To enable them in other operations, rebuild TensorFlow with the appropriate compiler flags.\n",
      "2021-11-22 08:19:33.528184: I tensorflow/compiler/mlir/mlir_graph_optimization_pass.cc:116] None of the MLIR optimization passes are enabled (registered 2)\n"
     ]
    },
    {
     "name": "stdout",
     "output_type": "stream",
     "text": [
      "Epoch 1/100\n",
      "230/230 [==============================] - 2s 1ms/step - loss: 3.1742 - mse: 3.1742 - mae: 1.7327\n",
      "Epoch 2/100\n",
      "230/230 [==============================] - 0s 1ms/step - loss: 0.5116 - mse: 0.5116 - mae: 0.6092\n",
      "Epoch 3/100\n",
      "230/230 [==============================] - 0s 1ms/step - loss: 0.1477 - mse: 0.1477 - mae: 0.2888\n",
      "Epoch 4/100\n",
      "230/230 [==============================] - 0s 1ms/step - loss: 0.0742 - mse: 0.0742 - mae: 0.1969\n",
      "Epoch 5/100\n",
      "230/230 [==============================] - 0s 2ms/step - loss: 0.0563 - mse: 0.0563 - mae: 0.1793\n",
      "Epoch 6/100\n",
      "230/230 [==============================] - 0s 1ms/step - loss: 0.0480 - mse: 0.0480 - mae: 0.1693\n",
      "Epoch 7/100\n",
      "230/230 [==============================] - 0s 2ms/step - loss: 0.0430 - mse: 0.0430 - mae: 0.1611\n",
      "Epoch 8/100\n",
      "230/230 [==============================] - 0s 1ms/step - loss: 0.0407 - mse: 0.0407 - mae: 0.1560\n",
      "Epoch 9/100\n",
      "230/230 [==============================] - 0s 2ms/step - loss: 0.0359 - mse: 0.0359 - mae: 0.1466\n",
      "Epoch 10/100\n",
      "230/230 [==============================] - 0s 2ms/step - loss: 0.0331 - mse: 0.0331 - mae: 0.1395\n",
      "Epoch 11/100\n",
      "230/230 [==============================] - 0s 2ms/step - loss: 0.0297 - mse: 0.0297 - mae: 0.1315\n",
      "Epoch 12/100\n",
      "230/230 [==============================] - 0s 2ms/step - loss: 0.0255 - mse: 0.0255 - mae: 0.1213\n",
      "Epoch 13/100\n",
      "230/230 [==============================] - 0s 1ms/step - loss: 0.0232 - mse: 0.0232 - mae: 0.1164\n",
      "Epoch 14/100\n",
      "230/230 [==============================] - 0s 2ms/step - loss: 0.0206 - mse: 0.0206 - mae: 0.1101\n",
      "Epoch 15/100\n",
      "230/230 [==============================] - 0s 2ms/step - loss: 0.0191 - mse: 0.0191 - mae: 0.1060\n",
      "Epoch 16/100\n",
      "230/230 [==============================] - 1s 3ms/step - loss: 0.0182 - mse: 0.0182 - mae: 0.1035\n",
      "Epoch 17/100\n",
      "230/230 [==============================] - 0s 2ms/step - loss: 0.0175 - mse: 0.0175 - mae: 0.1018\n",
      "Epoch 18/100\n",
      "230/230 [==============================] - 0s 1ms/step - loss: 0.0166 - mse: 0.0166 - mae: 0.0993\n",
      "Epoch 19/100\n",
      "230/230 [==============================] - 0s 2ms/step - loss: 0.0163 - mse: 0.0163 - mae: 0.0994\n",
      "Epoch 20/100\n",
      "230/230 [==============================] - 0s 2ms/step - loss: 0.0169 - mse: 0.0169 - mae: 0.0996\n",
      "Epoch 21/100\n",
      "230/230 [==============================] - 0s 2ms/step - loss: 0.0165 - mse: 0.0165 - mae: 0.0986\n",
      "Epoch 22/100\n",
      "230/230 [==============================] - 0s 2ms/step - loss: 0.0154 - mse: 0.0154 - mae: 0.0971\n",
      "Epoch 23/100\n",
      "230/230 [==============================] - 0s 2ms/step - loss: 0.0164 - mse: 0.0164 - mae: 0.0987\n",
      "Epoch 24/100\n",
      "230/230 [==============================] - 0s 2ms/step - loss: 0.0164 - mse: 0.0164 - mae: 0.0997\n",
      "Epoch 25/100\n",
      "230/230 [==============================] - 0s 2ms/step - loss: 0.0154 - mse: 0.0154 - mae: 0.0970\n",
      "Epoch 26/100\n",
      "230/230 [==============================] - 1s 3ms/step - loss: 0.0151 - mse: 0.0151 - mae: 0.0959\n",
      "Epoch 27/100\n",
      "230/230 [==============================] - 0s 2ms/step - loss: 0.0159 - mse: 0.0159 - mae: 0.0980\n",
      "Epoch 28/100\n",
      "230/230 [==============================] - 0s 1ms/step - loss: 0.0151 - mse: 0.0151 - mae: 0.0956\n",
      "Epoch 29/100\n",
      "230/230 [==============================] - 0s 2ms/step - loss: 0.0161 - mse: 0.0161 - mae: 0.0982\n",
      "Epoch 30/100\n",
      "230/230 [==============================] - 0s 2ms/step - loss: 0.0158 - mse: 0.0158 - mae: 0.0985\n",
      "Epoch 31/100\n",
      "230/230 [==============================] - 0s 2ms/step - loss: 0.0155 - mse: 0.0155 - mae: 0.0967\n",
      "Epoch 32/100\n",
      "230/230 [==============================] - 0s 2ms/step - loss: 0.0162 - mse: 0.0162 - mae: 0.0986\n",
      "Epoch 33/100\n",
      "230/230 [==============================] - 0s 2ms/step - loss: 0.0163 - mse: 0.0163 - mae: 0.0986A: 0s - loss: 0.0165 - mse: 0.0165 - mae: 0.09\n",
      "Epoch 34/100\n",
      "230/230 [==============================] - 1s 3ms/step - loss: 0.0154 - mse: 0.0154 - mae: 0.0970A: 0s - loss: 0.0154 - mse: 0.0154 - mae: 0.\n",
      "Epoch 35/100\n",
      "230/230 [==============================] - 0s 2ms/step - loss: 0.0160 - mse: 0.0160 - mae: 0.0981\n",
      "Epoch 36/100\n",
      "230/230 [==============================] - 0s 2ms/step - loss: 0.0152 - mse: 0.0152 - mae: 0.0954\n",
      "Epoch 37/100\n",
      "230/230 [==============================] - 1s 2ms/step - loss: 0.0157 - mse: 0.0157 - mae: 0.0975\n",
      "Epoch 38/100\n",
      "230/230 [==============================] - 1s 3ms/step - loss: 0.0159 - mse: 0.0159 - mae: 0.0976\n",
      "Epoch 39/100\n",
      "230/230 [==============================] - 0s 1ms/step - loss: 0.0160 - mse: 0.0160 - mae: 0.0971\n",
      "Epoch 40/100\n",
      "230/230 [==============================] - 0s 2ms/step - loss: 0.0153 - mse: 0.0153 - mae: 0.0958\n",
      "Epoch 41/100\n",
      "230/230 [==============================] - 0s 2ms/step - loss: 0.0158 - mse: 0.0158 - mae: 0.0974\n",
      "Epoch 42/100\n",
      "230/230 [==============================] - 0s 2ms/step - loss: 0.0154 - mse: 0.0154 - mae: 0.0969\n",
      "Epoch 43/100\n",
      "230/230 [==============================] - 0s 2ms/step - loss: 0.0150 - mse: 0.0150 - mae: 0.0966\n",
      "Epoch 44/100\n",
      "230/230 [==============================] - 0s 2ms/step - loss: 0.0155 - mse: 0.0155 - mae: 0.0976\n",
      "Epoch 45/100\n",
      "230/230 [==============================] - 0s 2ms/step - loss: 0.0164 - mse: 0.0164 - mae: 0.0984\n",
      "Epoch 46/100\n",
      "230/230 [==============================] - 1s 2ms/step - loss: 0.0158 - mse: 0.0158 - mae: 0.0972\n",
      "Epoch 47/100\n",
      "230/230 [==============================] - 0s 2ms/step - loss: 0.0153 - mse: 0.0153 - mae: 0.0963\n",
      "Epoch 48/100\n",
      "230/230 [==============================] - 0s 2ms/step - loss: 0.0152 - mse: 0.0152 - mae: 0.0955\n",
      "Epoch 49/100\n",
      "230/230 [==============================] - 0s 2ms/step - loss: 0.0155 - mse: 0.0155 - mae: 0.0976\n",
      "Epoch 50/100\n",
      "230/230 [==============================] - 0s 2ms/step - loss: 0.0154 - mse: 0.0154 - mae: 0.0973\n",
      "Epoch 51/100\n",
      "230/230 [==============================] - 1s 2ms/step - loss: 0.0160 - mse: 0.0160 - mae: 0.0985\n",
      "Epoch 52/100\n",
      "230/230 [==============================] - 0s 2ms/step - loss: 0.0150 - mse: 0.0150 - mae: 0.0961\n",
      "Epoch 53/100\n",
      "230/230 [==============================] - 0s 2ms/step - loss: 0.0156 - mse: 0.0156 - mae: 0.0961\n",
      "Epoch 54/100\n",
      "230/230 [==============================] - 1s 3ms/step - loss: 0.0156 - mse: 0.0156 - mae: 0.0976\n",
      "Epoch 55/100\n",
      "230/230 [==============================] - 1s 2ms/step - loss: 0.0160 - mse: 0.0160 - mae: 0.0982\n",
      "Epoch 56/100\n",
      "230/230 [==============================] - 0s 2ms/step - loss: 0.0161 - mse: 0.0161 - mae: 0.0972\n",
      "Epoch 57/100\n",
      "230/230 [==============================] - 1s 2ms/step - loss: 0.0161 - mse: 0.0161 - mae: 0.0981\n",
      "Epoch 58/100\n",
      "230/230 [==============================] - 1s 2ms/step - loss: 0.0156 - mse: 0.0156 - mae: 0.0970\n",
      "Epoch 59/100\n",
      "230/230 [==============================] - 0s 2ms/step - loss: 0.0151 - mse: 0.0151 - mae: 0.0955\n",
      "Epoch 60/100\n",
      "230/230 [==============================] - 0s 2ms/step - loss: 0.0157 - mse: 0.0157 - mae: 0.0969\n",
      "Epoch 61/100\n",
      "230/230 [==============================] - 0s 2ms/step - loss: 0.0154 - mse: 0.0154 - mae: 0.0963\n",
      "Epoch 62/100\n",
      "230/230 [==============================] - 1s 3ms/step - loss: 0.0155 - mse: 0.0155 - mae: 0.0970\n",
      "Epoch 63/100\n",
      "230/230 [==============================] - 0s 2ms/step - loss: 0.0149 - mse: 0.0149 - mae: 0.0954\n",
      "Epoch 64/100\n",
      "230/230 [==============================] - 0s 2ms/step - loss: 0.0155 - mse: 0.0155 - mae: 0.0962\n",
      "Epoch 65/100\n",
      "230/230 [==============================] - 0s 2ms/step - loss: 0.0154 - mse: 0.0154 - mae: 0.0967\n",
      "Epoch 66/100\n",
      "230/230 [==============================] - 0s 2ms/step - loss: 0.0155 - mse: 0.0155 - mae: 0.0969\n",
      "Epoch 67/100\n",
      "230/230 [==============================] - 1s 2ms/step - loss: 0.0155 - mse: 0.0155 - mae: 0.0964\n",
      "Epoch 68/100\n",
      "230/230 [==============================] - 0s 2ms/step - loss: 0.0156 - mse: 0.0156 - mae: 0.0973\n",
      "Epoch 69/100\n",
      "230/230 [==============================] - 0s 2ms/step - loss: 0.0154 - mse: 0.0154 - mae: 0.0970\n",
      "Epoch 70/100\n",
      "230/230 [==============================] - 1s 3ms/step - loss: 0.0155 - mse: 0.0155 - mae: 0.0966\n",
      "Epoch 71/100\n",
      "230/230 [==============================] - 0s 2ms/step - loss: 0.0151 - mse: 0.0151 - mae: 0.0960\n",
      "Epoch 72/100\n",
      "230/230 [==============================] - 0s 2ms/step - loss: 0.0152 - mse: 0.0152 - mae: 0.0960\n",
      "Epoch 73/100\n",
      "230/230 [==============================] - 0s 2ms/step - loss: 0.0151 - mse: 0.0151 - mae: 0.0957\n",
      "Epoch 74/100\n",
      "230/230 [==============================] - 0s 2ms/step - loss: 0.0145 - mse: 0.0145 - mae: 0.0943\n",
      "Epoch 75/100\n",
      "230/230 [==============================] - 0s 2ms/step - loss: 0.0154 - mse: 0.0154 - mae: 0.0963\n",
      "Epoch 76/100\n",
      "230/230 [==============================] - 0s 2ms/step - loss: 0.0154 - mse: 0.0154 - mae: 0.0965\n",
      "Epoch 77/100\n",
      "230/230 [==============================] - 0s 2ms/step - loss: 0.0161 - mse: 0.0161 - mae: 0.0982\n",
      "Epoch 78/100\n",
      "230/230 [==============================] - 1s 3ms/step - loss: 0.0153 - mse: 0.0153 - mae: 0.0958\n",
      "Epoch 79/100\n",
      "230/230 [==============================] - 0s 2ms/step - loss: 0.0151 - mse: 0.0151 - mae: 0.0956\n",
      "Epoch 80/100\n",
      "230/230 [==============================] - 1s 3ms/step - loss: 0.0150 - mse: 0.0150 - mae: 0.0953\n",
      "Epoch 81/100\n",
      "230/230 [==============================] - 0s 2ms/step - loss: 0.0161 - mse: 0.0161 - mae: 0.0987\n",
      "Epoch 82/100\n",
      "230/230 [==============================] - 0s 1ms/step - loss: 0.0155 - mse: 0.0155 - mae: 0.0955\n",
      "Epoch 83/100\n",
      "230/230 [==============================] - 0s 2ms/step - loss: 0.0152 - mse: 0.0152 - mae: 0.0955\n",
      "Epoch 84/100\n",
      "230/230 [==============================] - 0s 1ms/step - loss: 0.0154 - mse: 0.0154 - mae: 0.0970\n",
      "Epoch 85/100\n",
      "230/230 [==============================] - 0s 2ms/step - loss: 0.0155 - mse: 0.0155 - mae: 0.0967\n",
      "Epoch 86/100\n",
      "230/230 [==============================] - 1s 2ms/step - loss: 0.0153 - mse: 0.0153 - mae: 0.0963\n",
      "Epoch 87/100\n",
      "230/230 [==============================] - 0s 2ms/step - loss: 0.0158 - mse: 0.0158 - mae: 0.0973\n",
      "Epoch 88/100\n",
      "230/230 [==============================] - 0s 1ms/step - loss: 0.0155 - mse: 0.0155 - mae: 0.0971\n",
      "Epoch 89/100\n",
      "230/230 [==============================] - 0s 2ms/step - loss: 0.0156 - mse: 0.0156 - mae: 0.0968\n",
      "Epoch 90/100\n",
      "230/230 [==============================] - 0s 2ms/step - loss: 0.0160 - mse: 0.0160 - mae: 0.0969\n",
      "Epoch 91/100\n",
      "230/230 [==============================] - 0s 2ms/step - loss: 0.0155 - mse: 0.0155 - mae: 0.0969\n",
      "Epoch 92/100\n",
      "230/230 [==============================] - 0s 2ms/step - loss: 0.0151 - mse: 0.0151 - mae: 0.0956\n",
      "Epoch 93/100\n",
      "230/230 [==============================] - 0s 1ms/step - loss: 0.0148 - mse: 0.0148 - mae: 0.0948\n",
      "Epoch 94/100\n",
      "230/230 [==============================] - 0s 2ms/step - loss: 0.0157 - mse: 0.0157 - mae: 0.0968\n",
      "Epoch 95/100\n",
      "230/230 [==============================] - 0s 2ms/step - loss: 0.0152 - mse: 0.0152 - mae: 0.0956\n",
      "Epoch 96/100\n",
      "230/230 [==============================] - 0s 1ms/step - loss: 0.0149 - mse: 0.0149 - mae: 0.0950\n",
      "Epoch 97/100\n",
      "230/230 [==============================] - 0s 2ms/step - loss: 0.0154 - mse: 0.0154 - mae: 0.0968\n",
      "Epoch 98/100\n",
      "230/230 [==============================] - 0s 2ms/step - loss: 0.0150 - mse: 0.0150 - mae: 0.0950\n",
      "Epoch 99/100\n",
      "230/230 [==============================] - 0s 2ms/step - loss: 0.0152 - mse: 0.0152 - mae: 0.0949\n",
      "Epoch 100/100\n",
      "230/230 [==============================] - 0s 2ms/step - loss: 0.0151 - mse: 0.0151 - mae: 0.0953\n"
     ]
    }
   ],
   "source": [
    "# Use Keras to create a sequential model neural network which only has simple dense layers of the specified number of nodes\n",
    "model = alr.make_nets(X, y)"
   ]
  },
  {
   "cell_type": "code",
   "execution_count": 22,
   "metadata": {},
   "outputs": [],
   "source": [
    "# Predict our input data to evaluate the performance (for now)\n",
    "predictions = pd.Series(model.predict(X.to_numpy()).flatten())"
   ]
  },
  {
   "cell_type": "code",
   "execution_count": 23,
   "metadata": {},
   "outputs": [],
   "source": [
    "# Prepare data to display as a scatterplot\n",
    "xy_tf = np.vstack([y, predictions])\n",
    "z_tf = scipy.stats.gaussian_kde(xy_tf)(xy_tf)\n",
    "\n",
    "idx_tf = z_tf.argsort()\n",
    "x_tf = y[idx_tf]\n",
    "y_tf = predictions[idx_tf]\n",
    "z_tf = z_tf[idx_tf]\n",
    "\n",
    "rmse_tf = skl.metrics.mean_squared_error(x_tf, y_tf, squared=False)"
   ]
  },
  {
   "cell_type": "code",
   "execution_count": 24,
   "metadata": {},
   "outputs": [
    {
     "data": {
      "image/png": "[encoded data removed]",
      "text/plain": [
       "<Figure size 864x720 with 2 Axes>"
      ]
     },
     "metadata": {
      "needs_background": "light"
     },
     "output_type": "display_data"
    }
   ],
   "source": [
    "a_tf = np.linspace(0, outputMax, 1000)\n",
    "fig, ax = plt.subplots(1, 1, figsize=(12,10))\n",
    "\n",
    "fig1 = ax.scatter(x_tf, y_tf, c=z_tf)\n",
    "ax.plot(a_tf, a_tf, c='r')\n",
    "ax.set_xlabel('SL2P {}'.format(responseBand))\n",
    "ax.set_ylabel('ALR predicted {}'.format(outputName))\n",
    "plt.colorbar(mappable=fig1, ax=ax)\n",
    "\n",
    "ax.title.set_text('LASSO LARS {} PREDICTION - RMSE = {}'.format(responseBand, rmse_tf))"
   ]
  },
  {
   "cell_type": "code",
   "execution_count": 25,
   "metadata": {},
   "outputs": [
    {
     "data": {
      "text/plain": [
       "[array([[ 0.80084485,  0.04795932,  0.40207863,  0.3172761 ,  0.01726317],\n",
       "        [ 0.661941  , -0.5585098 ,  0.37674534,  0.58265436,  0.2345803 ],\n",
       "        [-0.06658506,  0.11276507, -0.6797947 ,  0.42040548,  0.14742593],\n",
       "        [ 0.0695419 , -0.6455768 ,  0.513709  ,  0.54300237, -0.24820828],\n",
       "        [-0.07705013,  0.56337357, -0.43227553,  0.0504338 , -0.18619984]],\n",
       "       dtype=float32),\n",
       " array([-1.0083526 ,  0.42501724,  0.5671023 ,  0.2004164 ,  0.02489798],\n",
       "       dtype=float32),\n",
       " array([[ 0.67200905,  0.47158682,  1.0058807 , -0.3318153 ],\n",
       "        [-0.9953599 , -0.88425386,  0.5514165 , -0.06144813],\n",
       "        [-0.61651015, -0.71836525,  0.0680921 ,  0.17997845],\n",
       "        [-0.15429184, -0.65151566, -0.44077143, -0.01085503],\n",
       "        [-1.2052281 ,  0.11488113,  0.63840353, -0.18323348]],\n",
       "       dtype=float32),\n",
       " array([-0.6619086 , -0.38016078, -0.12786768,  0.11888139], dtype=float32),\n",
       " array([[-0.7459743 , -0.18803714,  0.5423117 ],\n",
       "        [ 0.35259923,  0.9088846 , -0.5810746 ],\n",
       "        [ 0.32267916, -0.46224284, -1.0513685 ],\n",
       "        [ 0.718642  ,  0.9028769 , -0.2279798 ]], dtype=float32),\n",
       " array([-0.1762155 , -0.2625783 ,  0.29141706], dtype=float32),\n",
       " array([[-1.0684057, -1.0108175],\n",
       "        [-0.6661589, -1.5882438],\n",
       "        [ 0.6651983,  1.5317265]], dtype=float32),\n",
       " array([0.31510428, 0.25829855], dtype=float32),\n",
       " array([[2.250032 ],\n",
       "        [1.6705505]], dtype=float32),\n",
       " array([0.50788146], dtype=float32)]"
      ]
     },
     "execution_count": 25,
     "metadata": {},
     "output_type": "execute_result"
    }
   ],
   "source": [
    "model.get_weights()"
   ]
  },
  {
   "cell_type": "code",
   "execution_count": 26,
   "metadata": {},
   "outputs": [],
   "source": [
    "elu = np.vectorize(alr.elu)\n",
    "softplus = np.vectorize(alr.softplus)\n",
    "softsign = np.vectorize(alr.softsign)\n",
    "relu = np.vectorize(alr.relu)\n",
    "tanh = np.vectorize(alr.tanh)\n",
    "sigmoid = np.vectorize(alr.sigmoid)"
   ]
  },
  {
   "cell_type": "code",
   "execution_count": 27,
   "metadata": {},
   "outputs": [],
   "source": [
    "row = 4802\n",
    "inputs = X.iloc[row, :].to_numpy()\n",
    "print(model.predict(inputs.reshape((-1,5)))[0][0])\n",
    "print(alr.apply_nnet(inputs, model)[0])"
   ]
  },
  {
   "cell_type": "code",
   "execution_count": 28,
   "metadata": {},
   "outputs": [],
   "source": [
    "# Writing the neural network to a CSV file to be uploaded to the server side on Google Earth Engine\n",
    "export_data = alr.export_nnet(model, X)\n",
    "with open('nnet.csv', 'w', newline='') as csvfile:\n",
    "    nnet_writer = csv.writer(csvfile)\n",
    "    for layerdata in export_data:\n",
    "        nnet_writer.writerow(layerdata)"
   ]
  },
  {
   "cell_type": "code",
   "execution_count": 31,
   "metadata": {
    "tags": []
   },
   "outputs": [],
   "source": [
    "def parse_layer(feature):\n",
    "    feature = ee.Feature(feature)\n",
    "    prev_layer_size = feature.getNumber(\"prev_layer_size\")\n",
    "    num_nodes = feature.getNumber(\"num_nodes\")\n",
    "    node_size = prev_layer_size.subtract(1)\n",
    "    activation = feature.getString(\"activation\")\n",
    "    \n",
    "    node_collection = ee.ImageCollection(ee.List.sequence(1, num_nodes)\\\n",
    "                        .map(lambda node: ee.ImageCollection(ee.List.sequence(ee.Number(node).toInt(), ee.Number(node)\\\n",
    "                                    .toInt().add(node_size.multiply(num_nodes)), num_nodes)\\\n",
    "                        .map(lambda index: ee.Image(feature.getNumber(ee.Number(index).toInt())))).toBands()\\\n",
    "                        .set({\"bias\": feature.getNumber(ee.Number(node).toInt().add(prev_layer_size.multiply(num_nodes)))})))\n",
    "    \n",
    "    return ee.List([node_collection, activation])"
   ]
  },
  {
   "cell_type": "code",
   "execution_count": 32,
   "metadata": {
    "tags": []
   },
   "outputs": [],
   "source": [
    "def apply_nnet_to_image(layer, net_input):\n",
    "    layer = ee.List(layer)\n",
    "    net_input = ee.Image(net_input)\n",
    "    \n",
    "    layer_nodes = ee.ImageCollection(layer.get(0))\n",
    "    activation = layer.getString(1)\n",
    "    \n",
    "    node_outputs = layer_nodes.map(lambda node: ee.Algorithms.If(activation.compareTo(\"linear\"), \\\n",
    "                        softsign(net_input.multiply(node).reduce(ee.Reducer.sum()).add(node.getNumber(\"bias\"))), \\\n",
    "                        net_input.multiply(ee.Image(node)).reduce(ee.Reducer.sum()).add(ee.Image(node).getNumber(\"bias\")))).toBands()\n",
    "\n",
    "    return node_outputs"
   ]
  },
  {
   "cell_type": "code",
   "execution_count": 33,
   "metadata": {},
   "outputs": [],
   "source": [
    "nnet = ee.FeatureCollection(\"users/kateharvey/nnet\")\n",
    "nnet_inputs = nnet.filter(ee.Filter.eq(\"layer_num\", 0)).first()\n",
    "# print(nnet_inputs.getInfo())\n",
    "num_inputs = nnet_inputs.getNumber(\"num_nodes\")\n",
    "\n",
    "selected_features = nnet_inputs.getString(\"activation\").split(\",\")\n",
    "\n",
    "nnet = nnet.filterBounds(ee.Geometry.Point([0,0]))\n",
    "layer_list = nnet.sort(\"layer_num\").toList(nnet.size())"
   ]
  },
  {
   "cell_type": "code",
   "execution_count": 34,
   "metadata": {},
   "outputs": [],
   "source": [
    "neural_net = layer_list.map(parse_layer)"
   ]
  },
  {
   "cell_type": "code",
   "execution_count": null,
   "metadata": {},
   "outputs": [],
   "source": [
    "# validation data of values to predict:\n",
    "validation_data = inputImage.select(responseBand)\n",
    "nnet_inputs = scaledImage.select(select_features)"
   ]
  },
  {
   "cell_type": "code",
   "execution_count": null,
   "metadata": {},
   "outputs": [],
   "source": [
    "# prediction bands:\n",
    "nnet_inputs = scaledImage.select(select_features)\n",
    "\n",
    "# training data:\n",
    "training_data = nnet_inputs.sample(numPixels=1000)\n",
    "\n",
    "# predictions based on training image:\n",
    "# prediction_data = ee.Image(neural_net.iterate(apply_nnet_to_image, nnet_inputs)).rename(\"NNET\")\n",
    "# inputsCollection = nnet.select(selected_features.add(\"estimateLAI\"))"
   ]
  },
  {
   "cell_type": "code",
   "execution_count": null,
   "metadata": {},
   "outputs": [],
   "source": [
    "cart_regression = ee.Classifier.cart().setOutputMode('REGRESSION')\\\n",
    "                                        .train({features=inputsCollection,\n",
    "                                                classProperty=responseBand,\n",
    "                                                inputProperties=nnet_inputs})\n",
    "\n",
    "regression_image = nnet_inputs.select(select_features).classify(cart_regression, 'cart_regression')"
   ]
  },
  {
   "cell_type": "code",
   "execution_count": null,
   "metadata": {},
   "outputs": [
    {
     "ename": "NameError",
     "evalue": "name 'prediction_data' is not defined",
     "output_type": "error",
     "traceback": [
      "\u001b[0;31m---------------------------------------------------------------------------\u001b[0m",
      "\u001b[0;31mNameError\u001b[0m                                 Traceback (most recent call last)",
      "\u001b[0;32m/var/folders/rx/5_fd7v5s5dbc3yr3cx7bw9m40000gn/T/ipykernel_17975/2615960022.py\u001b[0m in \u001b[0;36m<module>\u001b[0;34m\u001b[0m\n\u001b[1;32m      5\u001b[0m                           [-115, 54]]])\n\u001b[1;32m      6\u001b[0m \u001b[0;34m\u001b[0m\u001b[0m\n\u001b[0;32m----> 7\u001b[0;31m \u001b[0mee_func\u001b[0m\u001b[0;34m.\u001b[0m\u001b[0mdisplayImage\u001b[0m\u001b[0;34m(\u001b[0m\u001b[0mprediction_data\u001b[0m\u001b[0;34m,\u001b[0m \u001b[0;36m0\u001b[0m\u001b[0;34m,\u001b[0m \u001b[0;36m1000\u001b[0m\u001b[0;34m,\u001b[0m \u001b[0mmapBounds\u001b[0m\u001b[0;34m)\u001b[0m\u001b[0;34m\u001b[0m\u001b[0;34m\u001b[0m\u001b[0m\n\u001b[0m",
      "\u001b[0;31mNameError\u001b[0m: name 'prediction_data' is not defined"
     ]
    }
   ],
   "source": [
    "mapBounds = ee.Geometry.Polygon( \\\n",
    "                        [[[-117, 54], \\\n",
    "                          [-117, 55], \\\n",
    "                          [-115, 55], \\\n",
    "                          [-115, 54]]])\n",
    "\n",
    "ee_func.displayImage(prediction_data, 0, 1000, mapBounds)"
   ]
  },
  {
   "cell_type": "code",
   "execution_count": null,
   "metadata": {},
   "outputs": [],
   "source": []
  }
 ],
 "metadata": {
  "kernelspec": {
   "display_name": "Python 3 (ipykernel)",
   "language": "python",
   "name": "python3"
  },
  "language_info": {
   "codemirror_mode": {
    "name": "ipython",
    "version": 3
   },
   "file_extension": ".py",
   "mimetype": "text/x-python",
   "name": "python",
   "nbconvert_exporter": "python",
   "pygments_lexer": "ipython3",
   "version": "3.9.7"
  }
 },
 "nbformat": 4,
 "nbformat_minor": 4
}
