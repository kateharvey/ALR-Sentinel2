{
 "cells": [
  {
   "cell_type": "code",
   "execution_count": null,
   "metadata": {
    "tags": []
   },
   "outputs": [],
   "source": [
    "# LEAFToolbox-SL2P\n",
    "#\n",
    "# Applies the LEAF-ToolBox-SL2P to process input images on Googe Earth Engine\n",
    "# AND exports to google drive.\n",
    "# \n",
    "# Note: This is an exact copy of LEAF-ToolBox-SL2P for image by image products\n",
    "# as implemented on February 10, 2021 16:00 EST\n",
    "# https://code.earthengine.google.com/fd6bddb89803bd8ea45fdcad051f75cc\n",
    "#\n",
    "# You will need a Google Earth Engine Account linked to a Google Account with sufficient\n",
    "# disk space for the output.\n",
    "#\n",
    "# Refer to https://github.com/rfernand387/LEAF-Toolbox/tree/master/Source-Python \n",
    "# for configuration of anaconda environment."
   ]
  },
  {
   "cell_type": "code",
   "execution_count": 79,
   "metadata": {},
   "outputs": [],
   "source": [
    "import ee\n",
    "import geetools\n",
    "import folium\n",
    "from folium import plugins\n",
    "import time\n",
    "import numpy as np\n",
    "import pandas as pd\n",
    "import matplotlib.pyplot as plt\n",
    "from scipy import stats\n",
    "import sklearn"
   ]
  },
  {
   "cell_type": "code",
   "execution_count": 2,
   "metadata": {
    "tags": []
   },
   "outputs": [
    {
     "data": {
      "text/html": [
       "<p>To authorize access needed by Earth Engine, open the following\n",
       "        URL in a web browser and follow the instructions:</p>\n",
       "        <p><a href=https://accounts.google.com/o/oauth2/auth?client_id=517222506229-vsmmajv00ul0bs7p89v5m89qs8eb9359.apps.googleusercontent.com&scope=https%3A%2F%2Fwww.googleapis.com%2Fauth%2Fearthengine+https%3A%2F%2Fwww.googleapis.com%2Fauth%2Fdevstorage.full_control&redirect_uri=urn%3Aietf%3Awg%3Aoauth%3A2.0%3Aoob&response_type=code&code_challenge=by0TVbLjCUeB5SKFwDFmcewRJHxeI5zcYzpnXOBPP6I&code_challenge_method=S256>https://accounts.google.com/o/oauth2/auth?client_id=517222506229-vsmmajv00ul0bs7p89v5m89qs8eb9359.apps.googleusercontent.com&scope=https%3A%2F%2Fwww.googleapis.com%2Fauth%2Fearthengine+https%3A%2F%2Fwww.googleapis.com%2Fauth%2Fdevstorage.full_control&redirect_uri=urn%3Aietf%3Awg%3Aoauth%3A2.0%3Aoob&response_type=code&code_challenge=by0TVbLjCUeB5SKFwDFmcewRJHxeI5zcYzpnXOBPP6I&code_challenge_method=S256</a></p>\n",
       "        <p>The authorization workflow will generate a code, which you\n",
       "        should paste in the box below</p>\n",
       "        "
      ],
      "text/plain": [
       "<IPython.core.display.HTML object>"
      ]
     },
     "metadata": {},
     "output_type": "display_data"
    },
    {
     "name": "stdin",
     "output_type": "stream",
     "text": [
      "Enter verification code:  4/1AX4XfWjiba43t-RKlT6lPhnLczgKS2jxiIwg7beE-vKqNN_ApGrCaIyNu-Q\n"
     ]
    },
    {
     "name": "stdout",
     "output_type": "stream",
     "text": [
      "\n",
      "Successfully saved authorization token.\n"
     ]
    }
   ],
   "source": [
    "ee.Authenticate()"
   ]
  },
  {
   "cell_type": "code",
   "execution_count": 3,
   "metadata": {
    "tags": []
   },
   "outputs": [],
   "source": [
    "# Authorizes the script with Earth Engine using the credentials.json file. Ensure either ee.Authenticate() has been called in a previous\n",
    "# script or the \"$ earthengine authenticate\" command has been run in the environment to set up the credentials.json file\n",
    "# The google account you provide during the authentication flow must have received access to Google Earth Engine\n",
    "ee.Initialize()"
   ]
  },
  {
   "cell_type": "code",
   "execution_count": 4,
   "metadata": {},
   "outputs": [],
   "source": [
    "# input parameters (to modify)\n",
    "\n",
    "# product name, one of('Surface_Reflectance','Albedo','fAPAR','fCOVER','LAI','CCC','CWC','DASF')\n",
    "outputName = \"LAI\"\n",
    "\n",
    "# output parameters, outputScale and outputOffset not applied to \"Surface_Reflectance\"\n",
    "# create a dictionary for output parameters based on outputName\n",
    "\n",
    "outputParams = {\n",
    "    'Surface_Reflectance': {\n",
    "        'outputScale': 0,\n",
    "        'outputOffset': 0\n",
    "    },\n",
    "    'Albedo': {\n",
    "        'outputScale': 0,\n",
    "        'outputOffset': 0\n",
    "    },\n",
    "    # min: 0, max: 1.0\n",
    "    'fAPAR': {\n",
    "        'outputScale': 0,\n",
    "        'outputOffset': 0\n",
    "    },\n",
    "    # min: 0, max: 1.0\n",
    "    'fCOVER': {\n",
    "        'outputScale': 0,\n",
    "        'outputOffset': 0\n",
    "    },\n",
    "    # min: 0, max: 15.0\n",
    "    'LAI': {\n",
    "        'outputScale': 1000,\n",
    "        'outputOffset': 0\n",
    "    },\n",
    "    # min: 0, max: 600\n",
    "    'CCC': {\n",
    "        'outputScale': 0,\n",
    "        'outputOffset': 0\n",
    "    },\n",
    "    # min: 0, max: 0.55\n",
    "    'CWC': {\n",
    "        'outputScale': 0,\n",
    "        'outputOffset': 0\n",
    "    },\n",
    "    'DASF': {\n",
    "        'outputScale': 0,\n",
    "        'outputOffset': 0\n",
    "    }\n",
    "}\n",
    "    \n",
    "outputScale = outputParams[outputName]['outputScale']\n",
    "outputOffset = outputParams[outputName]['outputOffset']\n",
    "\n",
    "# date range for inputs\n",
    "startDate = ee.Date('2020-08-01')\n",
    "endDate = ee.Date('2020-08-5')\n",
    "\n",
    "# geographical bounds of inputs you can specify a JSON geometry (e.g. from earth engine)\n",
    "# will modify for each of the three test regions\n",
    "mapBounds =  ee.Geometry.Polygon( \\\n",
    "        [[[-75, 45], \\\n",
    "          [-75, 46], \\\n",
    "          [-74, 46], \\\n",
    "          [-74, 45]]])\n",
    "\n",
    "# other filters - for now only cloud cover\n",
    "maxCloudcover = 10\n",
    "\n",
    "# export parameters\n",
    "exportFolder = \"users/hemitshah/testSL2Pv3\"\n",
    "exportScale = 20\n",
    "exportDatatype = \"int\""
   ]
  },
  {
   "cell_type": "code",
   "execution_count": 5,
   "metadata": {
    "tags": []
   },
   "outputs": [],
   "source": [
    "# verify status of tasks\n",
    "def check_ee_tasks(ee_tasks: list = []):\n",
    "    for task in ee_tasks:\n",
    "        taskStatus = ee.data.getTaskStatus(task.id)[0]\n",
    "        print(taskStatus[\"description\"] + \": \" + taskStatus[\"state\"])"
   ]
  },
  {
   "cell_type": "code",
   "execution_count": 6,
   "metadata": {
    "tags": []
   },
   "outputs": [],
   "source": [
    "# wait loop for Earth Engine tasks to complete. Polls for the task status the specificed number of seconds until it is no longer active\n",
    "def task_wait_loop(ee_task, wait_interval):\n",
    "    print(ee.data.getTaskStatus(ee_task.id)[0][\"description\"] + \":\", end = \" \")\n",
    "    prev_task_status = ee.data.getTaskStatus(ee_task.id)[0][\"state\"]\n",
    "    print(prev_task_status, end = \" \")\n",
    "    while ee_task.active():\n",
    "        task_status = ee.data.getTaskStatus(ee_task.id)[0][\"state\"]\n",
    "        if(task_status != prev_task_status):\n",
    "            print(task_status, end = \" \")\n",
    "        prev_task_status = task_status\n",
    "        time.sleep(wait_interval)\n",
    "    print(ee.data.getTaskStatus(ee_task.id)[0][\"state\"])"
   ]
  },
  {
   "cell_type": "code",
   "execution_count": 7,
   "metadata": {
    "tags": []
   },
   "outputs": [],
   "source": [
    "# create a folium map object\n",
    "def displayImage(image,minVal,maxVal) :\n",
    "    my_map = folium.Map(location = [45.5, -75], zoom_start = 8, height = 500)\n",
    "    vis_params = {\n",
    "      'min': minVal,\n",
    "      'max': maxVal}\n",
    "    my_map.add_ee_layer(image, vis_params, 'Image')\n",
    "    \n",
    "    # add a layer control panel to the map.\n",
    "    my_map.add_child(folium.LayerControl())\n",
    "\n",
    "    # add fullscreen button\n",
    "    plugins.Fullscreen().add_to(my_map)\n",
    "\n",
    "    # display the map.\n",
    "    display(my_map)"
   ]
  },
  {
   "cell_type": "code",
   "execution_count": 8,
   "metadata": {
    "tags": []
   },
   "outputs": [],
   "source": [
    "# define a method for displaying Earth Engine image tiles on a folium map\n",
    "def add_ee_layer(self, ee_object, vis_params, name):\n",
    "    \n",
    "    try:    \n",
    "        # display ee.Image()\n",
    "        if isinstance(ee_object, ee.image.Image):    \n",
    "            map_id_dict = ee.Image(ee_object).getMapId(vis_params)\n",
    "            folium.raster_layers.TileLayer(\n",
    "            tiles = map_id_dict['tile_fetcher'].url_format,\n",
    "            attr = 'Google Earth Engine',\n",
    "            name = name,\n",
    "            overlay = True,\n",
    "            control = True\n",
    "            ).add_to(self)\n",
    "        # display ee.ImageCollection()\n",
    "        elif isinstance(ee_object, ee.imagecollection.ImageCollection):    \n",
    "            ee_object_new = ee_object.mosaic()\n",
    "            map_id_dict = ee.Image(ee_object_new).getMapId(vis_params)\n",
    "            folium.raster_layers.TileLayer(\n",
    "            tiles = map_id_dict['tile_fetcher'].url_format,\n",
    "            attr = 'Google Earth Engine',\n",
    "            name = name,\n",
    "            overlay = True,\n",
    "            control = True\n",
    "            ).add_to(self)\n",
    "        # display ee.Geometry()\n",
    "        elif isinstance(ee_object, ee.geometry.Geometry):    \n",
    "            folium.GeoJson(\n",
    "            data = ee_object.getInfo(),\n",
    "            name = name,\n",
    "            overlay = True,\n",
    "            control = True\n",
    "        ).add_to(self)\n",
    "        # display ee.FeatureCollection()\n",
    "        elif isinstance(ee_object, ee.featurecollection.FeatureCollection):  \n",
    "            ee_object_new = ee.Image().paint(ee_object, 0, 2)\n",
    "            map_id_dict = ee.Image(ee_object_new).getMapId(vis_params)\n",
    "            folium.raster_layers.TileLayer(\n",
    "            tiles = map_id_dict['tile_fetcher'].url_format,\n",
    "            attr = 'Google Earth Engine',\n",
    "            name = name,\n",
    "            overlay = True,\n",
    "            control = True\n",
    "        ).add_to(self)\n",
    "    \n",
    "    except:\n",
    "        print(\"Could not display {}\".format(name))\n",
    "    \n",
    "# add EE drawing method to folium\n",
    "folium.Map.add_ee_layer = add_ee_layer"
   ]
  },
  {
   "cell_type": "code",
   "execution_count": 9,
   "metadata": {
    "tags": []
   },
   "outputs": [],
   "source": [
    "default_asset_location = \"users/hemitshah\"\n",
    "\n",
    "def export_collection_to_gee(collection, num_images: int = 0, image_names: list = [], asset_folder: str = default_asset_location, scale: float = 20, max_pixels: int = 1e8, data_type: str = \"float\"):\n",
    "    collection = ee.ImageCollection(collection)\n",
    "    image_list = collection.toList(num_images)\n",
    "    task_list = []\n",
    "    \n",
    "    for i in range(num_images):\n",
    "        image = ee.Image(image_list.get(i))\n",
    "        name = image_names[i]\n",
    "        typed_images = {\"double\": image.toDouble(), \"float\": image.toFloat(), \"byte\": image.toByte(), \"int\": image.toInt()}\n",
    "        export_task = ee.batch.Export.image.toAsset(image = typed_images[data_type],\n",
    "                                                      description = name,\n",
    "                                                      assetId = asset_folder+\"/\"+name,\n",
    "                                                      region = image.geometry(),\n",
    "                                                      scale = scale,\n",
    "                                                      maxPixels = max_pixels)\n",
    "        export_task.start()\n",
    "        task_list.append(export_task)\n",
    "    \n",
    "    return task_list"
   ]
  },
  {
   "cell_type": "code",
   "execution_count": 10,
   "metadata": {
    "tags": []
   },
   "outputs": [],
   "source": [
    "def export_collection_to_drive(collection, num_images: int = 0, image_names: list = [], gdrive_folder: str = \"\", scale: float = 20, max_pixels: int = 1e8, data_type: str = \"float\"):\n",
    "    collection = ee.ImageCollection(collection)\n",
    "    image_list = collection.toList(num_images)\n",
    "    task_list = []\n",
    "\n",
    "    for i in range(num_images):\n",
    "        image = ee.Image(image_list.get(i))\n",
    "        name = image_names[i]\n",
    "        print(name)\n",
    "        typed_images = {\"double\": image.toDouble(), \"float\": image.toFloat(), \"byte\": image.toByte(), \"int\": image.toInt()}\n",
    "        export_task = ee.batch.Export.image.toDrive(image = typed_images[data_type],\n",
    "                                                    description = name,\n",
    "                                                    folder = gdrive_folder,\n",
    "                                                    fileNamePrefix = name,\n",
    "                                                    region = image.geometry(),\n",
    "                                                    scale = scale,\n",
    "                                                    maxPixels = max_pixels)\n",
    "        export_task.start()\n",
    "        task_list.append(export_task)\n",
    "    \n",
    "    return task_list"
   ]
  },
  {
   "cell_type": "code",
   "execution_count": 11,
   "metadata": {
    "tags": []
   },
   "outputs": [],
   "source": [
    "def s2_createFeatureCollection_estimates():\n",
    "    return ee.FeatureCollection('users/rfernand387/COPERNICUS_S2_SR/s2_sl2p_weiss_or_prosail_NNT3_Single_0_1')"
   ]
  },
  {
   "cell_type": "code",
   "execution_count": 12,
   "metadata": {},
   "outputs": [],
   "source": [
    "# same function as above using 10 m bands\n",
    "def s2_10m_createFeatureCollection_estimates():\n",
    "    return ee.FeatureCollection('users/kateharvey/s2_sl2p_weiss_or_prosail_10m_NNT1_Single_0_1')"
   ]
  },
  {
   "cell_type": "code",
   "execution_count": 13,
   "metadata": {
    "tags": []
   },
   "outputs": [],
   "source": [
    "def s2_createFeatureCollection_errors():\n",
    "    return ee.FeatureCollection('users/rfernand387/COPERNICUS_S2_SR/s2_sl2p_weiss_or_prosail_NNT3_Single_0_1_error')"
   ]
  },
  {
   "cell_type": "code",
   "execution_count": 14,
   "metadata": {
    "tags": []
   },
   "outputs": [],
   "source": [
    "# same function as above using 10 m bands\n",
    "def s2_10m_createFeatureCollection_errors():\n",
    "    return ee.FeatureCollection('users/kateharvey/s2_sl2p_weiss_or_prosail_10m_NNT1_Single_0_1_errors')"
   ]
  },
  {
   "cell_type": "code",
   "execution_count": 15,
   "metadata": {
    "tags": []
   },
   "outputs": [],
   "source": [
    "def s2_createFeatureCollection_domains():\n",
    "    return ee.FeatureCollection('users/rfernand387/COPERNICUS_S2_SR/weiss_or_prosail3_NNT3_Single_0_1_DOMAIN')"
   ]
  },
  {
   "cell_type": "code",
   "execution_count": 16,
   "metadata": {
    "tags": []
   },
   "outputs": [],
   "source": [
    "# same function as above using 10 m bands\n",
    "def s2_10m_createFeatureCollection_domains():\n",
    "    return ee.FeatureCollection('users/kateharvey/s2_sl2p_weiss_or_prosail_10m_domain')"
   ]
  },
  {
   "cell_type": "code",
   "execution_count": 17,
   "metadata": {
    "tags": []
   },
   "outputs": [],
   "source": [
    "def s2_createFeatureCollection_range():\n",
    "    return ee.FeatureCollection('users/rfernand387/COPERNICUS_S2_SR/weiss_or_prosail3_NNT3_Single_0_1_RANGE')"
   ]
  },
  {
   "cell_type": "code",
   "execution_count": 18,
   "metadata": {
    "tags": []
   },
   "outputs": [],
   "source": [
    "def s2_createFeatureCollection_Network_Ind():\n",
    "    return ee.FeatureCollection('users/rfernand387/COPERNICUS_S2_SR/Parameter_file_sl2p')"
   ]
  },
  {
   "cell_type": "code",
   "execution_count": 19,
   "metadata": {
    "tags": []
   },
   "outputs": [],
   "source": [
    "def s2_createImageCollection_partition():\n",
    "    return ee.ImageCollection('users/rfernand387/NA_NALCMS_2015_tiles').map(lambda image: image.select(\"b1\").rename(\"partition\")).merge(ee.ImageCollection(\"COPERNICUS/Landcover/100m/Proba-V/Global\").map( lambda image: image.select(\"discrete_classification\").remap([0,20,30,40,50,60,70,80,90,100,111,112,113,114,115,116,121,122,123,124,125,126,200],[0,8,10,15,17,16,19,18,14,13,1,3,1,5,6,6,2,4,2,5,6,6,18],0).toUint8().rename(\"partition\")))"
   ]
  },
  {
   "cell_type": "code",
   "execution_count": 20,
   "metadata": {},
   "outputs": [],
   "source": [
    "def s2_createFeatureCollection_legend():\n",
    "    return ee.FeatureCollection('users/rfernand387/COPERNICUS_S2_SR/Legend_sl2p')"
   ]
  },
  {
   "cell_type": "code",
   "execution_count": 21,
   "metadata": {},
   "outputs": [],
   "source": [
    "def l8_createFeatureCollection_estimates():\n",
    "    return ee.FeatureCollection('users/rfernand387/LANDSAT_LC08_C01_T1_SR_SL2P_OUTPUT')"
   ]
  },
  {
   "cell_type": "code",
   "execution_count": 22,
   "metadata": {},
   "outputs": [],
   "source": [
    "def l8_createFeatureCollection_errors():\n",
    "    return ee.FeatureCollection('users/rfernand387/LANDSAT_LC08_C01_T1_SR_SL2P_ERRORS')"
   ]
  },
  {
   "cell_type": "code",
   "execution_count": 23,
   "metadata": {},
   "outputs": [],
   "source": [
    "def l8_createFeatureCollection_domains():\n",
    "    return ee.FeatureCollection('users/rfernand387/LANDSAT_LC08_C01_T1_SR/LANDSAT_LC08_C01_T1_SR_DOMAIN')"
   ]
  },
  {
   "cell_type": "code",
   "execution_count": 24,
   "metadata": {},
   "outputs": [],
   "source": [
    "def l8_createFeatureCollection_range():\n",
    "    return ee.FeatureCollection('users/rfernand387/LANDSAT_LC08_C01_T1_SR/LANDSAT_LC08_C01_T1_SR_RANGE')"
   ]
  },
  {
   "cell_type": "code",
   "execution_count": 25,
   "metadata": {},
   "outputs": [],
   "source": [
    "def l8_createFeatureCollection_Network_Ind():\n",
    "    return ee.FeatureCollection('users/rfernand387/LANDSAT_LC08_C01_T1_SR/Parameter_file_sl2p')"
   ]
  },
  {
   "cell_type": "code",
   "execution_count": 26,
   "metadata": {},
   "outputs": [],
   "source": [
    "def l8_createImageCollection_partition():\n",
    "    return ee.ImageCollection('users/rfernand387/NA_NALCMS_2015_tiles').map(lambda image: image.select(\"b1\").rename(\"partition\")).merge(ee.ImageCollection(\"COPERNICUS/Landcover/100m/Proba-V/Global\").map( lambda image: image.select(\"discrete_classification\").remap([0,20,30,40,50,60,70,80,90,100,111,112,113,114,115,116,121,122,123,124,125,126,200],[0,8,10,15,17,16,19,18,14,13,1,3,1,5,6,6,2,4,2,5,6,6,18],0).toUint8().rename(\"partition\")))"
   ]
  },
  {
   "cell_type": "code",
   "execution_count": 27,
   "metadata": {},
   "outputs": [],
   "source": [
    "def l8_createFeatureCollection_legend():\n",
    "    return ee.FeatureCollection('users/rfernand387/LANDSAT_LC08_C01_T1_SR/Legend_sl2p')"
   ]
  },
  {
   "cell_type": "code",
   "execution_count": 28,
   "metadata": {
    "tags": []
   },
   "outputs": [],
   "source": [
    "# add a 'date' band: number of days since epoch\n",
    "def addDate(image):\n",
    "    return image.addBands(ee.Image.constant(ee.Date(image.date()).millis().divide(86400000)).rename('date').toUint16())"
   ]
  },
  {
   "cell_type": "code",
   "execution_count": 29,
   "metadata": {
    "tags": []
   },
   "outputs": [],
   "source": [
    "# computes a delta time property for an image\n",
    "def deltaTime(midDate,image):\n",
    "    return ee.Image(image.set(\"deltaTime\",ee.Number(image.date().millis()).subtract(ee.Number(midDate)).abs()))"
   ]
  },
  {
   "cell_type": "code",
   "execution_count": 30,
   "metadata": {
    "tags": []
   },
   "outputs": [],
   "source": [
    "# mask pixels that are not clear sky in a S2 MSI image\n",
    "def s2MaskClear(image):\n",
    "    qa = image.select('QA60')\n",
    "    mask = qa.bitwiseAnd(1<<10).eq(0).And(qa.bitwiseAnd(1<<11).eq(0))\n",
    "    return image.updateMask(mask)"
   ]
  },
  {
   "cell_type": "code",
   "execution_count": 31,
   "metadata": {
    "tags": []
   },
   "outputs": [],
   "source": [
    "# add s2 geometry bands scaled by 10000\n",
    "def addS2Geometry(colOptions,image) :\n",
    "    return (image.addBands(ee.Image.constant(0).multiply(3.1415).divide(180).cos().multiply(10000).toUint16().rename(['cosVZA']))\n",
    "              .addBands(image.metadata(colOptions[\"sza\"]).multiply(3.1415).divide(180).cos().multiply(10000).toUint16().rename(['cosSZA']))\n",
    "              .addBands(image.metadata(colOptions[\"saa\"]).subtract(image.metadata(colOptions[\"saa\"])).multiply(3.1415).divide(180).cos().multiply(10000).toUint16().rename(['cosRAA'])))"
   ]
  },
  {
   "cell_type": "code",
   "execution_count": 32,
   "metadata": {
    "tags": []
   },
   "outputs": [],
   "source": [
    "# Sentinel 2 land mask\n",
    "def s2MaskLand(image) :\n",
    "    return image.updateMask((image.select('SCL').eq(4)).Or(image.select('SCL').eq(5)))"
   ]
  },
  {
   "cell_type": "code",
   "execution_count": 33,
   "metadata": {
    "tags": []
   },
   "outputs": [],
   "source": [
    "# returns image with selected bands scaled\n",
    "def scaleBands(bandList,scaleList,image) :\n",
    "    bandList = ee.List(bandList)\n",
    "    scaleList = ee.List(scaleList)\n",
    "    return image.addBands(srcImg = image.select(bandList).multiply(ee.Image.constant(scaleList)).rename(bandList),overwrite = True)"
   ]
  },
  {
   "cell_type": "code",
   "execution_count": 34,
   "metadata": {
    "tags": []
   },
   "outputs": [],
   "source": [
    "# determine if inputs fall in domain of algorithm\n",
    "# need to be updated to allow for the domain to vary with partition\n",
    "def invalidInput(sl2pDomain,bandList,image) :\n",
    "    sl2pDomain = ee.FeatureCollection(sl2pDomain).aggregate_array(\"DomainCode\").sort()\n",
    "    bandList = ee.List(bandList).slice(3)\n",
    "    image = ee.Image(image)\n",
    "\n",
    "    # code image bands into a single band and compare to valid codes to make QC band\n",
    "    image = image.addBands(image.select(bandList).multiply(ee.Image.constant(ee.Number(10))).ceil().mod(ee.Number(10)).uint8()\n",
    "                              .multiply(ee.Image.constant(ee.List.sequence(0,bandList.length().subtract(1)).map(lambda value: ee.Number(10).pow(ee.Number(value)))))\n",
    "                              .reduce(\"sum\").remap(sl2pDomain, ee.List.repeat(0, sl2pDomain.length()),1).rename(\"QC\"))\n",
    "    return image"
   ]
  },
  {
   "cell_type": "code",
   "execution_count": 35,
   "metadata": {},
   "outputs": [],
   "source": [
    "# reduces all bands of input image to 20 m\n",
    "def reduceTo20m(input_image):\n",
    "    # load an image\n",
    "    image = input_image\n",
    "\n",
    "    # set a default projection to 20 m resolution using B11\n",
    "    defaultCrs = image.select(10).projection().crs()\n",
    "    defaultScale = image.select(10).projection().nominalScale()\n",
    "\n",
    "    # load a copy of the image and reduce resolution using the above\n",
    "    resampled_image = image.setDefaultProjection(crs=defaultCrs, scale=defaultScale)\n",
    "    resampled_image = resampled_image.reduceResolution(reducer=ee.Reducer.mean(), bestEffort=True, maxPixels=ee.Number(2))\n",
    "    \n",
    "    return resampled_image"
   ]
  },
  {
   "cell_type": "code",
   "execution_count": 36,
   "metadata": {
    "tags": []
   },
   "outputs": [],
   "source": [
    "# returns image with single band named network id corresponding given \n",
    "def makeIndexLayer(image,legend,Network_Ind) :\n",
    "    image = ee.Image(image)                          # partition image\n",
    "    legend = ee.FeatureCollection(legend)            # legend to convert partition numbers to networks\n",
    "    Network_Ind = ee.FeatureCollection(Network_Ind)  # legend to convert networks to networkIDs\n",
    "    \n",
    "    # get lists of valid partitions\n",
    "    legend_list = legend.toList(legend.size())\n",
    "    landcover = legend_list.map(lambda feature: ee.Feature(feature).getNumber('Value'))\n",
    "\n",
    "    # get corresponding networkIDs\n",
    "    networkIDs = legend_list.map(lambda feature: ee.Feature(feature).get('SL2P Network')) \\\n",
    "                                    .map(lambda propertyValue: ee.Feature(ee.FeatureCollection(Network_Ind).first()) \\\n",
    "                                    .toDictionary().getNumber(propertyValue))\n",
    "    \n",
    "    return image.remap(landcover, networkIDs, 0).rename('networkID')"
   ]
  },
  {
   "cell_type": "code",
   "execution_count": 37,
   "metadata": {
    "tags": []
   },
   "outputs": [],
   "source": [
    "# read coefficients of a network from csv EE asset\n",
    "def getCoefs(netData,ind) :\n",
    "    return((ee.Feature(netData)).getNumber(ee.String('tabledata').cat(ee.Number(ind).int().format())))"
   ]
  },
  {
   "cell_type": "code",
   "execution_count": 38,
   "metadata": {
    "tags": []
   },
   "outputs": [],
   "source": [
    "# parse one row of CSV file for a network into a global variable\n",
    "# we assume a two hidden layer network with tansig functions but allow for variable nodes per layer\n",
    "def makeNets(feature, M) :\n",
    "    \n",
    "    feature = ee.List(feature);\n",
    "    M = ee.Number(M);\n",
    "    \n",
    "    # get the requested network and initialize the created network\n",
    "    netData = ee.Feature(feature.get(M.subtract(1)));\n",
    "    net = {};\n",
    "    \n",
    "    # input slope\n",
    "    num = ee.Number(6);\n",
    "    start = num.add(1);\n",
    "    end = num.add(netData.getNumber(ee.String('tabledata').cat(num.format())));\n",
    "    net[\"inpSlope\"] = ee.List.sequence(start,end).map(lambda ind: getCoefs(netData,ind))\n",
    "    \n",
    "    # input offset\n",
    "    num = end.add(1)\n",
    "    start = num.add(1)\n",
    "    end = num.add(netData.getNumber(ee.String('tabledata').cat(num.format())))\n",
    "    net[\"inpOffset\"] = ee.List.sequence(start,end).map(lambda ind: getCoefs(netData,ind))\n",
    "\n",
    "    # hidden layer 1 weight\n",
    "    num = end.add(1)\n",
    "    start = num.add(1)\n",
    "    end = num.add(netData.getNumber(ee.String('tabledata').cat(num.format())))\n",
    "    net[\"h1wt\"] = ee.List.sequence(start,end).map(lambda ind: getCoefs(netData,ind))\n",
    "\n",
    "    # hidden layer 1 bias\n",
    "    num = end.add(1)\n",
    "    start = num.add(1)\n",
    "    end = num.add(netData.getNumber(ee.String('tabledata').cat(num.format())))\n",
    "    net[\"h1bi\"] = ee.List.sequence(start,end).map(lambda ind: getCoefs(netData,ind))\n",
    "\n",
    "    # hidden layer 2 weight\n",
    "    num = end.add(1)\n",
    "    start = num.add(1)\n",
    "    end = num.add(netData.getNumber(ee.String('tabledata').cat(num.format())))\n",
    "    net[\"h2wt\"] = ee.List.sequence(start,end).map(lambda ind: getCoefs(netData,ind))\n",
    "  \n",
    "    # hidden layer 2 bias\n",
    "    num = end.add(1)\n",
    "    start = num.add(1)\n",
    "    end = num.add(netData.getNumber(ee.String('tabledata').cat(num.format())))\n",
    "    net[\"h2bi\"] = ee.List.sequence(start,end).map(lambda ind: getCoefs(netData,ind))\n",
    "\n",
    "    # output slope\n",
    "    num = end.add(1)\n",
    "    start = num.add(1)\n",
    "    end = num.add(netData.getNumber(ee.String('tabledata').cat(num.format())))\n",
    "    net[\"outSlope\"] = ee.List.sequence(start,end).map(lambda ind: getCoefs(netData,ind))\n",
    "  \n",
    "    # output offset\n",
    "    num = end.add(1)\n",
    "    start = num.add(1)\n",
    "    end = num.add(netData.getNumber(ee.String('tabledata').cat(num.format())))\n",
    "    net[\"outBias\"] = ee.List.sequence(start,end).map(lambda ind: getCoefs(netData,ind))\n",
    "    \n",
    "    return(ee.Dictionary(net))"
   ]
  },
  {
   "cell_type": "code",
   "execution_count": 39,
   "metadata": {
    "tags": []
   },
   "outputs": [],
   "source": [
    "# parse CSV file with list of networks for a selected variable  \n",
    "# this will parse one network for each landclass partition\n",
    "def makeNetVars(asset, numNets, variableNum) :\n",
    "    \n",
    "    asset= ee.FeatureCollection(asset)\n",
    "    numNets = ee.Number(numNets)\n",
    "    variableNum= ee.Number(variableNum)  \n",
    "\n",
    "    # get selected network \n",
    "    list_features = asset.flatten()\n",
    "    filtered_features = ee.FeatureCollection(asset.filter(ee.Filter.eq('tabledata3', variableNum))).toList(numNets)\n",
    "    \n",
    "    return ee.List.sequence(1,numNets).map(lambda netNum: makeNets(filtered_features,netNum))"
   ]
  },
  {
   "cell_type": "code",
   "execution_count": 40,
   "metadata": {
    "tags": []
   },
   "outputs": [],
   "source": [
    "# returns dictionary with image masked so the networkID band equals the netIndex and the corresponding network\n",
    "def selectNet(image,netList,inputNames,netIndex) :\n",
    "    \n",
    "    image = ee.Image(image)\n",
    "    netList = ee.List(netList)\n",
    "    inputNames = ee.List(inputNames)\n",
    "    netIndex = ee.Number(netIndex).int()\n",
    "    \n",
    "    return ee.Dictionary()  \\\n",
    "            .set(\"Image\", ee.Image(image.updateMask(image.select('networkID').eq(netIndex)).select(inputNames))) \\\n",
    "            .set(\"Network\", ee.List(netList.get(netIndex))) "
   ]
  },
  {
   "cell_type": "code",
   "execution_count": 41,
   "metadata": {
    "tags": []
   },
   "outputs": [],
   "source": [
    "# applies two layer neural network within input and output scaling\n",
    "def applyNet(outputName,netDict) :\n",
    "    outputName = ee.String(outputName)\n",
    "    netDict = ee.Dictionary(netDict)\n",
    "    inp = ee.Image(netDict.get('Image'))\n",
    "    net = ee.Dictionary(netDict.get('Network'))\n",
    "    \n",
    "    # input scaling\n",
    "    l1inp2D = inp.multiply(ee.Image(net.toArray(ee.List(['inpSlope']),0).transpose()).arrayProject([0]) \\\n",
    "                        .arrayFlatten([inp.bandNames()])) \\\n",
    "                        .add(ee.Image(net.toArray(ee.List(['inpOffset']),0).transpose()) \\\n",
    "                        .arrayProject([0]).arrayFlatten([inp.bandNames()]))\n",
    "    \n",
    "    # hidden layers\n",
    "    l12D = ee.Image(net.toArray(ee.List(['h1wt']),0).reshape([ee.List(net.get('h1bi')).length(),ee.List(net.get('inpOffset')).length()])) \\\n",
    "              .matrixMultiply(l1inp2D.toArray().toArray(1)) \\\n",
    "              .add(ee.Image(net.toArray(ee.List(['h1bi']),0).transpose())) \\\n",
    "              .arrayProject([0]).arrayFlatten([['h1w1','h1w2','h1w3','h1w4','h1w5']])\n",
    "    \n",
    "    # apply tansig 2/(1+exp(-2*n))-1\n",
    "    l2inp2D = ee.Image(2).divide(ee.Image(1).add((ee.Image(-2).multiply(l12D)).exp())).subtract(ee.Image(1))\n",
    "    \n",
    "    # purlin hidden layers\n",
    "    l22D = l2inp2D.multiply(ee.Image(net.toArray(ee.List(['h2wt']),0).transpose()) \\\n",
    "                                          .arrayProject([0]) \\\n",
    "                                          .arrayFlatten([['h2w1','h2w2','h2w3','h2w4','h2w5']])) \\\n",
    "                    .reduce('sum') \\\n",
    "                    .add(ee.Image(net.toArray(ee.List(['h2bi']),0))) \\\n",
    "                                          .arrayProject([0]) \\\n",
    "                                          .arrayFlatten([['h2bi']])\n",
    "    \n",
    "    # output scaling \n",
    "    outputBand = l22D.subtract(ee.Image(ee.Number(net.get('outBias')))).divide(ee.Image(ee.Number(net.get('outSlope')))) \n",
    "    \n",
    "    # return network output\n",
    "    return (outputBand.rename(outputName))"
   ]
  },
  {
   "cell_type": "code",
   "execution_count": 42,
   "metadata": {
    "tags": []
   },
   "outputs": [],
   "source": [
    "# returns image with single band named networkid corresponding given \n",
    "# input partition image remapped to networkIDs\n",
    "# applies a set of shallow networks to an image based on a provided partition image band\n",
    "def wrapperNNets(network, partition, netOptions, colOptions, suffixName, imageInput) :\n",
    "\n",
    "    # typecast function parameters\n",
    "    network = ee.List(network)\n",
    "    partition = ee.Image(partition)\n",
    "    netOptions = netOptions\n",
    "    colOptions = colOptions\n",
    "    suffixName = suffixName\n",
    "    imageInput = ee.Image(imageInput)\n",
    "\n",
    "    # parse partition  used to identify network to use\n",
    "    partition = partition.clip(imageInput.geometry()).select(['partition'])\n",
    "\n",
    "    # determine networks based on collection\n",
    "    netList = ee.List(network.get(ee.Number(netOptions.get(\"variable\")).subtract(1))); \n",
    "    \n",
    "    # parse land cover into network index and add to input image\n",
    "    imageInput = imageInput.addBands(makeIndexLayer(partition,colOptions[\"legend\"],colOptions[\"Network_Ind\"]))\n",
    "\n",
    "    # define list of input names\n",
    "    return ee.ImageCollection(ee.List.sequence(0, netList.size().subtract(1)) \\\n",
    "                                                    .map(lambda netIndex: selectNet(imageInput,netList,netOptions[\"inputBands\"],netIndex)) \\\n",
    "                                                    .map(lambda netDict: applyNet(suffixName+outputName,netDict))) \\\n",
    "                                                    .max().addBands(partition).addBands(imageInput.select('networkID'))"
   ]
  },
  {
   "cell_type": "code",
   "execution_count": 43,
   "metadata": {
    "tags": []
   },
   "outputs": [],
   "source": [
    "# returns dictionary with image masked so the networkID band equals the netIndex and the corresponding network\n",
    "def selectNet2(image,netList,inputNames,netIndex) :\n",
    "    image = ee.Image(image)\n",
    "    netList = ee.List(netList)\n",
    "    inputNames = ee.List(inputNames)\n",
    "    netIndex = ee.Number(netIndex).int()\n",
    "    result = ee.Dictionary() \\\n",
    "            .set(\"Image\", ee.Image(image.updateMask(image.select('networkID').eq(netIndex)).select(inputNames))) \\\n",
    "            .set(\"Network\", ee.List(netList.get(netIndex)))\n",
    "    return result"
   ]
  },
  {
   "cell_type": "code",
   "execution_count": 44,
   "metadata": {
    "tags": []
   },
   "outputs": [],
   "source": [
    "# applies two layer neural network within input and output scaling\n",
    "def applyNet2(outputName,netDict) :\n",
    "    outputName = ee.String(outputName)\n",
    "    netDict = ee.Dictionary(netDict)\n",
    "    inp = ee.Image(netDict.get('Image'))\n",
    "    net = ee.Dictionary(netDict.get('Network'))\n",
    "    \n",
    "    # input scaling\n",
    "    l1inp2D = inp.multiply(ee.Image(net.toArray(ee.List(['inpSlope']),0).transpose()).arrayProject([0]) \\\n",
    "                           .arrayFlatten([inp.bandNames()])).add(ee.Image(net.toArray(ee.List(['inpOffset']),0) \\\n",
    "                           .transpose()).arrayProject([0]).arrayFlatten([inp.bandNames()]))\n",
    "\n",
    "    # hidden layers\n",
    "    l12D = ee.Image(net.toArray(ee.List(['h1wt']),0) \\\n",
    "                    .reshape([ee.List(net.get('h1bi')).length(),ee.List(net.get('inpOffset')).length()])) \\\n",
    "                    .matrixMultiply(l1inp2D.toArray().toArray(1)) \\\n",
    "                    .add(ee.Image(net.toArray(ee.List(['h1bi']),0).transpose())) \\\n",
    "                    .arrayProject([0]).arrayFlatten([['h1w1','h1w2','h1w3','h1w4','h1w5']])\n",
    "    \n",
    "    # apply tansig 2/(1+exp(-2*n))-1\n",
    "    l2inp2D = ee.Image(2).divide(ee.Image(1).add((ee.Image(-2).multiply(l12D)).exp())).subtract(ee.Image(1))\n",
    "    \n",
    "    # purlin hidden layers\n",
    "    l22D = l2inp2D.multiply(ee.Image(net.toArray(ee.List(['h2wt']),0).transpose()).arrayProject([0]) \\\n",
    "                            .arrayFlatten([['h2w1','h2w2','h2w3','h2w4','h2w5']])).reduce('sum') \\\n",
    "                            .add(ee.Image(net.toArray(ee.List(['h2bi']),0))).arrayProject([0]).arrayFlatten([['h2bi']])\n",
    "    \n",
    "    # output scaling \n",
    "    outputBand = l22D.subtract(ee.Image(ee.Number(net.get('outBias')))).divide(ee.Image(ee.Number(net.get('outSlope')))) \n",
    "\n",
    "    # return network output\n",
    "    return (outputBand.rename(outputName))"
   ]
  },
  {
   "cell_type": "code",
   "execution_count": 45,
   "metadata": {
    "tags": []
   },
   "outputs": [],
   "source": [
    "# read coefficients of a network from csv EE asset\n",
    "def getCoefs2(netData,ind) :\n",
    "    return((ee.Feature(netData)).getNumber(ee.String('tabledata').cat(ee.Number(ind).int().format())))"
   ]
  },
  {
   "cell_type": "code",
   "execution_count": 46,
   "metadata": {
    "tags": []
   },
   "outputs": [],
   "source": [
    "# parse one row of CSV file for a network into a global variable\n",
    "# We assume a two hidden layer network with tansig functions but allow for variable nodes per layer\n",
    "def makeNets2(feature, M) :\n",
    "    \n",
    "    feature = ee.List(feature);\n",
    "    M = ee.Number(M);\n",
    "    \n",
    "    # get the requested network and initialize the created network\n",
    "    netData = ee.Feature(feature.get(M.subtract(1)));\n",
    "    net = ee.Dictionary();\n",
    "    \n",
    "    # input slope\n",
    "    num = ee.Number(6);\n",
    "    start = num.add(1);\n",
    "    end = num.add(netData.getNumber(ee.String('tabledata').cat(num.format())));\n",
    "    net = net.set(\"inpSlope\", ee.List.sequence(start,end).map(lambda ind: getCoefs(netData,ind)))\n",
    "    \n",
    "    # input offset\n",
    "    num = end.add(1)\n",
    "    start = num.add(1)\n",
    "    end = num.add(netData.getNumber(ee.String('tabledata').cat(num.format())));\n",
    "    net = net.set(\"inpOffset\", ee.List.sequence(start,end).map(lambda ind: getCoefs(netData,ind)))\n",
    "\n",
    "    # hidden layer 1 weight\n",
    "    num = end.add(1)\n",
    "    start = num.add(1)\n",
    "    end = num.add(netData.getNumber(ee.String('tabledata').cat(num.format())));\n",
    "    net = net.set(\"h1wt\", ee.List.sequence(start,end).map(lambda ind: getCoefs(netData,ind)))\n",
    "\n",
    "    # hidden layer 1 bias\n",
    "    num = end.add(1)\n",
    "    start = num.add(1)\n",
    "    end = num.add(netData.getNumber(ee.String('tabledata').cat(num.format())));\n",
    "    net = net.set(\"h1bi\", ee.List.sequence(start,end).map(lambda ind: getCoefs(netData,ind)))\n",
    "\n",
    "    # hidden layer 2 weight\n",
    "    num = end.add(1)\n",
    "    start = num.add(1)\n",
    "    end = num.add(netData.getNumber(ee.String('tabledata').cat(num.format())));\n",
    "    net = net.set(\"h2wt\", ee.List.sequence(start,end).map(lambda ind: getCoefs(netData,ind)))\n",
    "  \n",
    "    # hidden layer 2 bias\n",
    "    num = end.add(1)\n",
    "    start = num.add(1)\n",
    "    end = num.add(netData.getNumber(ee.String('tabledata').cat(num.format())));\n",
    "    net = net.set(\"h2bi\", ee.List.sequence(start,end).map(lambda ind: getCoefs(netData,ind)))\n",
    "\n",
    "    # output slope\n",
    "    num = end.add(1)\n",
    "    start = num.add(1)\n",
    "    end = num.add(netData.getNumber(ee.String('tabledata').cat(num.format())));\n",
    "    net = net.set(\"outSlope\", ee.List.sequence(start,end).map(lambda ind: getCoefs(netData,ind)))\n",
    "  \n",
    "    # output offset\n",
    "    num = end.add(1)\n",
    "    start = num.add(1)\n",
    "    end = num.add(netData.getNumber(ee.String('tabledata').cat(num.format())));\n",
    "    net = net.set(\"outBias\", ee.List.sequence(start,end).map(lambda ind: getCoefs(netData,ind)))\n",
    "\n",
    "    return(net)\n"
   ]
  },
  {
   "cell_type": "code",
   "execution_count": 47,
   "metadata": {
    "tags": []
   },
   "outputs": [],
   "source": [
    "# parse CSV file with list of networks for a selected variable  \n",
    "# this will parse one network for each landclass partition\n",
    "def makeNetVars2(asset, numNets, variableNum) :\n",
    "    \n",
    "    asset = ee.FeatureCollection(asset)\n",
    "    numNets = ee.Number(numNets)\n",
    "    variableNum = ee.Number(variableNum)\n",
    "    \n",
    "    # get selected network \n",
    "    filtered_features = ee.FeatureCollection(asset.filter(ee.Filter.eq('tabledata3', variableNum))).toList(numNets)\n",
    "    \n",
    "    # make only first net\n",
    "    netList = makeNets2(filtered_features,1)\n",
    "    return netList\n",
    "    # return ee.List.sequence(1,numNets).map(lambda netNum: makeNets(filtered_features,netNum))"
   ]
  },
  {
   "cell_type": "code",
   "execution_count": 48,
   "metadata": {
    "tags": []
   },
   "outputs": [],
   "source": [
    "# returns image with single band named network id corresponding given \n",
    "def makeIndexLayer2(image,legend,Network_Ind) :\n",
    "    \n",
    "    image = ee.Image(image)                        # partition image\n",
    "    legend = ee.FeatureCollection(legend)          # legend to convert partition numbers to networks\n",
    "    Network_Ind = ee.FeatureCollection(Network_Ind) # legend to convert networks to networkIDs\n",
    "    \n",
    "    # get lists of valid partitions\n",
    "    legend_list = legend.toList(legend.size())\n",
    "    landcover = legend_list.map(lambda feature: ee.Feature(feature).getNumber('Value'))\n",
    "\n",
    "    # get corresponding networkIDs\n",
    "    networkIDs = legend_list.map(lambda feature: ee.Feature(feature).get('SL2P Network')) \\\n",
    "                              .map(lambda propertyValue:  ee.Feature(ee.FeatureCollection(Network_Ind).first()).toDictionary().getNumber(propertyValue))\n",
    "    return image.remap(landcover, networkIDs, 0).rename('networkID')"
   ]
  },
  {
   "cell_type": "code",
   "execution_count": 49,
   "metadata": {
    "tags": []
   },
   "outputs": [],
   "source": [
    "# returns image with single band named networkid corresponding given \n",
    "# input partition image remapped to networkIDs\n",
    "# applies a set of shallow networks to an image based on a provided partition image band\n",
    "def wrapperNNets2(network, partition, netOptions, colOptions, layerName, imageInput) :\n",
    "\n",
    "    # typecast function parameters\n",
    "    network = ee.List(network)\n",
    "    partition = ee.Image(partition)\n",
    "    netOptions = ee.Dictionary(netOptions)\n",
    "    colOptions = ee.Dictionary(colOptions)\n",
    "    layerName = ee.String(layerName)\n",
    "    imageInput = ee.Image(imageInput)\n",
    "\n",
    "    # parse partition  used to identify network to use\n",
    "    partition = partition.clip(imageInput.geometry()).select(['partition'])\n",
    "\n",
    "    # determine networks based on collection\n",
    "    netList = ee.List(network.get(ee.Number(netOptions.get(\"variable\")).subtract(1))) \n",
    "    \n",
    "    # parse land cover into network index and add to input image\n",
    "    imageInput = imageInput.addBands(makeIndexLayer2(partition,colOptions.get(\"legend\"),colOptions.get(\"Network_Ind\")))\n",
    "\n",
    "\n",
    "    # define list of input names\n",
    "    netIndex = 0;\n",
    "    netDict = ee.Dictionary(selectNet2(imageInput,netList,netOptions.get(\"inputBands\"),netIndex));\n",
    "    estimate = ee.Image(applyNet2(layerName,netDict))\n",
    "\n",
    "    return estimate.addBands(partition).addBands(imageInput.select('networkID'))"
   ]
  },
  {
   "cell_type": "code",
   "execution_count": 50,
   "metadata": {},
   "outputs": [],
   "source": [
    "COLLECTION_OPTIONS = {\n",
    "    # Sentinel 2 using 20 m bands:\n",
    "    'COPERNICUS/S2_SR': {\n",
    "      \"name\": 'COPERNICUS/S2_SR',\n",
    "      \"description\": 'Sentinel 2A',\n",
    "      \"Cloudcover\": 'CLOUDY_PIXEL_PERCENTAGE',\n",
    "      \"Watercover\": 'WATER_PERCENTAGE',\n",
    "      \"sza\": 'MEAN_SOLAR_ZENITH_ANGLE',\n",
    "      \"vza\": 'MEAN_INCIDENCE_ZENITH_ANGLE_B8A',\n",
    "      \"saa\": 'MEAN_SOLAR_AZIMUTH_ANGLE', \n",
    "      \"vaa\": 'MEAN_INCIDENCE_AZIMUTH_ANGLE_B8A',\n",
    "      \"VIS_OPTIONS\": 'VIS_OPTIONS',\n",
    "      \"Collection_SL2P\": ee.FeatureCollection(s2_createFeatureCollection_estimates()),\n",
    "      \"Collection_SL2Perrors\": ee.FeatureCollection(s2_createFeatureCollection_errors()),  \n",
    "      \"sl2pDomain\": ee.FeatureCollection(s2_createFeatureCollection_domains()),\n",
    "      \"Network_Ind\": ee.FeatureCollection(s2_createFeatureCollection_Network_Ind()),\n",
    "      \"partition\": ee.ImageCollection(s2_createImageCollection_partition()),\n",
    "      \"legend\": ee.FeatureCollection(s2_createFeatureCollection_legend()),\n",
    "      \"numVariables\": 7\n",
    "    },\n",
    "    # Sentinel 2 using 10 m bands:\n",
    "    'COPERNICUS/S2_SR_10m': {\n",
    "      \"name\": 'COPERNICUS/S2_SR',\n",
    "      \"description\": 'Sentinel 2A',\n",
    "      \"Cloudcover\": 'CLOUDY_PIXEL_PERCENTAGE',\n",
    "      \"Watercover\": 'WATER_PERCENTAGE',\n",
    "      \"sza\": 'MEAN_SOLAR_ZENITH_ANGLE',\n",
    "      \"vza\": 'MEAN_INCIDENCE_ZENITH_ANGLE_B8A',\n",
    "      \"saa\": 'MEAN_SOLAR_AZIMUTH_ANGLE', \n",
    "      \"vaa\": 'MEAN_INCIDENCE_AZIMUTH_ANGLE_B8A',\n",
    "      \"VIS_OPTIONS\": 'VIS_OPTIONS',\n",
    "      \"Collection_SL2P\": ee.FeatureCollection(s2_10m_createFeatureCollection_estimates()),\n",
    "      \"Collection_SL2Perrors\": ee.FeatureCollection(s2_10m_createFeatureCollection_errors()),  \n",
    "      \"sl2pDomain\": ee.FeatureCollection(s2_10m_createFeatureCollection_domains()),\n",
    "      \"Network_Ind\": ee.FeatureCollection(s2_createFeatureCollection_Network_Ind()),\n",
    "      \"partition\": ee.ImageCollection(s2_createImageCollection_partition()),\n",
    "      \"legend\": ee.FeatureCollection(s2_createFeatureCollection_legend()),\n",
    "      \"numVariables\": 7\n",
    "    },\n",
    "    'LANDSAT/LC08/C01/T1_SR': {\n",
    "      \"name\": 'LANDSAT/LC08/C01/T1_SR',\n",
    "      \"description\": 'LANDSAT 8',\n",
    "      \"Cloudcover\": 'CLOUD_COVER_LAND',\n",
    "      \"Watercover\": 'CLOUD_COVER',\n",
    "      \"sza\": 'SOLAR_ZENITH_ANGLE',\n",
    "      \"vza\": 'SOLAR_ZENITH_ANGLE',\n",
    "      \"saa\": 'SOLAR_AZIMUTH_ANGLE', \n",
    "      \"vaa\": 'SOLAR_AZIMUTH_ANGLE',\n",
    "      \"VIS_OPTIONS\": 'VIS_OPTIONS',\n",
    "      \"Collection_SL2P\": ee.FeatureCollection(l8_createFeatureCollection_estimates()),\n",
    "      \"Collection_SL2Perrors\": ee.FeatureCollection(l8_createFeatureCollection_errors()),\n",
    "      \"sl2pDomain\": ee.FeatureCollection(l8_createFeatureCollection_domains()),\n",
    "      \"Network_Ind\": ee.FeatureCollection(l8_createFeatureCollection_Network_Ind()),\n",
    "      \"partition\": ee.ImageCollection(l8_createImageCollection_partition()),\n",
    "      \"legend\": ee.FeatureCollection(l8_createFeatureCollection_legend()),\n",
    "      \"numVariables\": 7\n",
    "    }\n",
    "}\n",
    "\n",
    "VIS_OPTIONS = {\n",
    "    'Surface_Reflectance': {\n",
    "        \"COPERNICUS/S2_SR\": {\n",
    "            \"Name\": 'Surface_Reflectance',\n",
    "            \"description\": 'Surface_Reflectance',\n",
    "            \"inp\": ['B4', 'B5', 'B6', 'B7', 'B8A', 'B9', 'B11', 'B12']\n",
    "        },\n",
    "        \"COPERNICUS/S2_SR_10m\": {\n",
    "            \"Name\": 'Surface_Reflectance',\n",
    "            \"description\": 'Surface_Reflectance',\n",
    "            \"inp\": ['B2', 'B3', 'B4', 'B8']\n",
    "        }\n",
    "    },\n",
    "    'Albedo': {\n",
    "        \"COPERNICUS/S2_SR\": {\n",
    "            \"Name\": 'Albedo',\n",
    "            \"errorName\": 'errorAlbedo',\n",
    "            \"maskName\": 'maskAlbedo',\n",
    "            \"description\": 'Black sky albedo',\n",
    "            \"variable\": 6,\n",
    "            \"inputBands\":      ['cosVZA', 'cosSZA', 'cosRAA', 'B3', 'B4', 'B5', 'B6', 'B7', 'B8A', 'B11', 'B12'],\n",
    "            \"inputScaling\":    [0.0001, 0.0001, 0.0001, 0.0001, 0.0001, 0.0001, 0.0001, 0.0001, 0.0001, 0.0001, 0.0001],\n",
    "            \"outmin\": (ee.Image(ee.Array([[0]]))),\n",
    "            \"outmax\": (ee.Image(ee.Array([[1]])))\n",
    "        },\n",
    "        \"COPERNICUS/S2_SR_10m\": {\n",
    "            \"Name\": 'Albedo',\n",
    "            \"errorName\": 'errorAlbedo',\n",
    "            \"maskName\": 'maskAlbedo',\n",
    "            \"description\": 'Black sky albedo',\n",
    "            \"variable\": 6,\n",
    "            \"inputBands\":      ['cosVZA', 'cosSZA', 'cosRAA', 'B2', 'B3', 'B4', 'B8'],\n",
    "            \"inputScaling\":    [0.0001, 0.0001, 0.0001, 0.0001, 0.0001, 0.0001, 0.0001],\n",
    "            \"outmin\": (ee.Image(ee.Array([[0]]))),\n",
    "            \"outmax\": (ee.Image(ee.Array([[1]])))\n",
    "        }\n",
    "    },\n",
    "    'fAPAR': {\n",
    "        \"COPERNICUS/S2_SR\": {\n",
    "            \"Name\": 'fAPAR',\n",
    "            \"errorName\": 'errorfAPAR',\n",
    "            \"maskName\": 'maskfAPAR',\n",
    "            \"description\": 'Fraction of absorbed photosynthetically active radiation',\n",
    "            \"variable\": 2,\n",
    "            \"inputBands\":      ['cosVZA', 'cosSZA', 'cosRAA', 'B3', 'B4', 'B5', 'B6', 'B7', 'B8A', 'B11', 'B12'],\n",
    "            \"inputScaling\":    [0.0001, 0.0001, 0.0001, 0.0001, 0.0001, 0.0001, 0.0001, 0.0001, 0.0001, 0.0001, 0.0001],\n",
    "            \"outmin\": (ee.Image(ee.Array([[0]]))),\n",
    "            \"outmax\": (ee.Image(ee.Array([[1]])))\n",
    "        },\n",
    "        \"COPERNICUS/S2_SR_10m\": {\n",
    "            \"Name\": 'fAPAR',\n",
    "            \"errorName\": 'errorfAPAR',\n",
    "            \"maskName\": 'maskfAPAR',\n",
    "            \"description\": 'Fraction of absorbed photosynthetically active radiation',\n",
    "            \"variable\": 2,\n",
    "            \"inputBands\":      ['cosVZA', 'cosSZA', 'cosRAA', 'B2', 'B3', 'B4', 'B8'],\n",
    "            \"inputScaling\":    [0.0001, 0.0001, 0.0001, 0.0001, 0.0001, 0.0001, 0.0001],\n",
    "            \"outmin\": (ee.Image(ee.Array([[0]]))),\n",
    "            \"outmax\": (ee.Image(ee.Array([[1]])))\n",
    "        }\n",
    "    },\n",
    "    'fCOVER': {\n",
    "        \"COPERNICUS/S2_SR\": {\n",
    "            \"Name\": 'fCOVER',\n",
    "            \"errorName\": 'errorfCOVER',\n",
    "            \"maskName\": 'maskfCOVER',\n",
    "            \"description\": 'Fraction of canopy cover',\n",
    "            \"variable\": 3,\n",
    "            \"inputBands\":      ['cosVZA', 'cosSZA', 'cosRAA', 'B3', 'B4', 'B5', 'B6', 'B7', 'B8A', 'B11', 'B12'],\n",
    "            \"inputScaling\":    [0.0001, 0.0001, 0.0001, 0.0001, 0.0001, 0.0001, 0.0001, 0.0001, 0.0001, 0.0001, 0.0001],\n",
    "            \"outmin\": (ee.Image(ee.Array([[0]]))),\n",
    "            \"outmax\": (ee.Image(ee.Array([[1]]))) \n",
    "        },\n",
    "        \"COPERNICUS/S2_SR_10m\": {\n",
    "            \"Name\": 'fCOVER',\n",
    "            \"errorName\": 'errorfCOVER',\n",
    "            \"maskName\": 'maskfCOVER',\n",
    "            \"description\": 'Fraction of canopy cover',\n",
    "            \"variable\": 3,\n",
    "            \"inputBands\":      ['cosVZA', 'cosSZA', 'cosRAA', 'B2', 'B3', 'B4', 'B8'],\n",
    "            \"inputScaling\":    [0.0001, 0.0001, 0.0001, 0.0001, 0.0001, 0.0001, 0.0001],\n",
    "            \"outmin\": (ee.Image(ee.Array([[0]]))),\n",
    "            \"outmax\": (ee.Image(ee.Array([[1]]))) \n",
    "        }\n",
    "    },\n",
    "    'LAI': {\n",
    "        \"COPERNICUS/S2_SR\": {\n",
    "            \"Name\": 'LAI',\n",
    "            \"errorName\": 'errorLAI',\n",
    "            \"maskName\": 'maskLAI',\n",
    "            \"description\": 'Leaf area index',\n",
    "            \"variable\": 1,\n",
    "            \"inputBands\":      ['cosVZA', 'cosSZA', 'cosRAA', 'B3', 'B4', 'B5', 'B6', 'B7', 'B8A', 'B11', 'B12'],\n",
    "            \"inputScaling\":    [0.0001, 0.0001, 0.0001, 0.0001, 0.0001, 0.0001, 0.0001, 0.0001, 0.0001, 0.0001, 0.0001],\n",
    "            \"outmin\": (ee.Image(ee.Array([[0]]))),\n",
    "            \"outmax\": (ee.Image(ee.Array([[1]])))\n",
    "        },\n",
    "        \"COPERNICUS/S2_SR_10m\": {\n",
    "            \"Name\": 'LAI',\n",
    "            \"errorName\": 'errorLAI',\n",
    "            \"maskName\": 'maskLAI',\n",
    "            \"description\": 'Leaf area index',\n",
    "            \"variable\": 1,\n",
    "            \"inputBands\":      ['cosVZA', 'cosSZA', 'cosRAA', 'B2', 'B3', 'B4', 'B8'],\n",
    "            \"inputScaling\":    [0.0001, 0.0001, 0.0001, 0.0001, 0.0001, 0.0001, 0.0001],\n",
    "            \"outmin\": (ee.Image(ee.Array([[0]]))),\n",
    "            \"outmax\": (ee.Image(ee.Array([[1]])))\n",
    "        }\n",
    "    },\n",
    "    'CCC': {\n",
    "        \"COPERNICUS/S2_SR\": {\n",
    "            \"Name\": 'CCC',\n",
    "            \"errorName\": 'errorCCC',\n",
    "            \"maskName\": 'maskCCC',\n",
    "            \"description\": 'Canopy chlorophyll content',\n",
    "            \"variable\": 1,\n",
    "            \"inputBands\":      ['cosVZA', 'cosSZA', 'cosRAA', 'B3', 'B4', 'B5', 'B6', 'B7', 'B8A', 'B11', 'B12'],\n",
    "            \"inputScaling\":    [0.0001, 0.0001, 0.0001, 0.0001, 0.0001, 0.0001, 0.0001, 0.0001, 0.0001, 0.0001, 0.0001],\n",
    "            \"outmin\": (ee.Image(ee.Array([[0]]))),\n",
    "            \"outmax\": (ee.Image(ee.Array([[1000]])))\n",
    "        },\n",
    "        \"COPERNICUS/S2_SR_10m\": {\n",
    "            \"Name\": 'CCC',\n",
    "            \"errorName\": 'errorCCC',\n",
    "            \"maskName\": 'maskCCC',\n",
    "            \"description\": 'Canopy chlorophyll content',\n",
    "            \"variable\": 1,\n",
    "            \"inputBands\":      ['cosVZA', 'cosSZA', 'cosRAA', 'B2', 'B3', 'B4', 'B8'],\n",
    "            \"inputScaling\":    [0.0001, 0.0001, 0.0001, 0.0001, 0.0001, 0.0001, 0.0001],\n",
    "            \"outmin\": (ee.Image(ee.Array([[0]]))),\n",
    "            \"outmax\": (ee.Image(ee.Array([[1000]])))\n",
    "        }\n",
    "    },\n",
    "    'CWC': {\n",
    "        \"COPERNICUS/S2_SR\": {\n",
    "            \"Name\": 'CWC',\n",
    "            \"errorName\": 'errorCWC',\n",
    "            \"maskName\": 'maskCWC',\n",
    "            \"description\": 'Canopy water content',\n",
    "            \"variable\": 1,\n",
    "            \"inputBands\":      ['cosVZA', 'cosSZA', 'cosRAA', 'B3', 'B4', 'B5', 'B6', 'B7', 'B8A', 'B11', 'B12'],\n",
    "            \"inputScaling\":    [0.0001, 0.0001, 0.0001, 0.0001, 0.0001, 0.0001, 0.0001, 0.0001, 0.0001, 0.0001, 0.0001],\n",
    "            \"outmin\": (ee.Image(ee.Array([[0]]))),\n",
    "            \"outmax\": (ee.Image(ee.Array([[100]])))\n",
    "        },\n",
    "        \"COPERNICUS/S2_SR_10m\": {\n",
    "            \"Name\": 'CWC',\n",
    "            \"errorName\": 'errorCWC',\n",
    "            \"maskName\": 'maskCWC',\n",
    "            \"description\": 'Canopy water content',\n",
    "            \"variable\": 1,\n",
    "            \"inputBands\":      ['cosVZA', 'cosSZA', 'cosRAA', 'B2', 'B3', 'B4', 'B8'],\n",
    "            \"inputScaling\":    [0.0001, 0.0001, 0.0001, 0.0001, 0.0001, 0.0001, 0.0001],\n",
    "            \"outmin\": (ee.Image(ee.Array([[0]]))),\n",
    "            \"outmax\": (ee.Image(ee.Array([[100]])))\n",
    "        }\n",
    "    },\n",
    "    'DASF': {\n",
    "        \"COPERNICUS/S2_SR\": {\n",
    "            \"Name\": 'DASF',\n",
    "            \"errorName\": 'errorDASF',\n",
    "            \"maskName\": 'maskDASF',\n",
    "            \"description\": 'Directional area scattering factor',\n",
    "            \"variable\": 1,\n",
    "            \"inputBands\":      ['cosVZA', 'cosSZA', 'cosRAA', 'B3', 'B4', 'B5', 'B6', 'B7', 'B8A', 'B11', 'B12'],\n",
    "            \"inputScaling\":    [0.0001, 0.0001, 0.0001, 0.0001, 0.0001, 0.0001, 0.0001, 0.0001, 0.0001, 0.0001, 0.0001],\n",
    "            \"outmin\": (ee.Image(ee.Array([[0]]))),\n",
    "            \"outmax\": (ee.Image(ee.Array([[1]])))\n",
    "        },\n",
    "        \"COPERNICUS/S2_SR_10m\": {\n",
    "            \"Name\": 'DASF',\n",
    "            \"errorName\": 'errorDASF',\n",
    "            \"maskName\": 'maskDASF',\n",
    "            \"description\": 'Directional area scattering factor',\n",
    "            \"variable\": 1,\n",
    "            \"inputBands\":      ['cosVZA', 'cosSZA', 'cosRAA', 'B2', 'B3', 'B4', 'B8'],\n",
    "            \"inputScaling\":    [0.0001, 0.0001, 0.0001, 0.0001, 0.0001, 0.0001, 0.0001],\n",
    "            \"outmin\": (ee.Image(ee.Array([[0]]))),\n",
    "            \"outmax\": (ee.Image(ee.Array([[1]])))\n",
    "        }\n",
    "    }\n",
    "}"
   ]
  },
  {
   "cell_type": "code",
   "execution_count": 88,
   "metadata": {},
   "outputs": [
    {
     "name": "stdout",
     "output_type": "stream",
     "text": [
      "ee.Image({\n",
      "  \"functionInvocationValue\": {\n",
      "    \"functionName\": \"Image.constant\",\n",
      "    \"arguments\": {\n",
      "      \"value\": {\n",
      "        \"functionInvocationValue\": {\n",
      "          \"functionName\": \"Array\",\n",
      "          \"arguments\": {\n",
      "            \"values\": {\n",
      "              \"constantValue\": [\n",
      "                [\n",
      "                  1\n",
      "                ]\n",
      "              ]\n",
      "            }\n",
      "          }\n",
      "        }\n",
      "      }\n",
      "    }\n",
      "  }\n",
      "})\n"
     ]
    }
   ],
   "source": [
    "print(VIS_OPTIONS['fAPAR']['COPERNICUS/S2_SR']['outmax'])"
   ]
  },
  {
   "cell_type": "code",
   "execution_count": 51,
   "metadata": {
    "tags": []
   },
   "outputs": [],
   "source": [
    "# parse the networks\n",
    "colName = 'COPERNICUS/S2_SR'\n",
    "colOptions = COLLECTION_OPTIONS[colName]\n",
    "netOptions = VIS_OPTIONS[outputName][colName]\n",
    "numNets = ee.Number(ee.Feature((COLLECTION_OPTIONS[colName][\"Network_Ind\"]).first()).propertyNames().remove('Feature Index').remove('system:index').remove('lon').size())\n",
    "SL2P = ee.List.sequence(1,ee.Number(COLLECTION_OPTIONS[colName][\"numVariables\"]),1).map(lambda netNum: makeNetVars(COLLECTION_OPTIONS[colName][\"Collection_SL2P\"],numNets,netNum));\n",
    "errorsSL2P = ee.List.sequence(1,ee.Number(COLLECTION_OPTIONS[colName][\"numVariables\"]),1).map(lambda netNum: makeNetVars(COLLECTION_OPTIONS[colName][\"Collection_SL2Perrors\"],numNets,netNum));"
   ]
  },
  {
   "cell_type": "code",
   "execution_count": 52,
   "metadata": {},
   "outputs": [
    {
     "name": "stdout",
     "output_type": "stream",
     "text": [
      "5\n"
     ]
    },
    {
     "data": {
      "text/html": [
       "<div style=\"width:100%;\"><div style=\"position:relative;width:100%;height:0;padding-bottom:60%;\"><span style=\"color:#565656\">Make this Notebook Trusted to load map: File -> Trust Notebook</span><iframe src=\"about:blank\" style=\"position:absolute;width:100%;height:100%;left:0;top:0;border:none !important;\" data-html=%3C%21DOCTYPE%20html%3E%0A%3Chead%3E%20%20%20%20%0A%20%20%20%20%3Cmeta%20http-equiv%3D%22content-type%22%20content%3D%22text/html%3B%20charset%3DUTF-8%22%20/%3E%0A%20%20%20%20%0A%20%20%20%20%20%20%20%20%3Cscript%3E%0A%20%20%20%20%20%20%20%20%20%20%20%20L_NO_TOUCH%20%3D%20false%3B%0A%20%20%20%20%20%20%20%20%20%20%20%20L_DISABLE_3D%20%3D%20false%3B%0A%20%20%20%20%20%20%20%20%3C/script%3E%0A%20%20%20%20%0A%20%20%20%20%3Cstyle%3Ehtml%2C%20body%20%7Bwidth%3A%20100%25%3Bheight%3A%20100%25%3Bmargin%3A%200%3Bpadding%3A%200%3B%7D%3C/style%3E%0A%20%20%20%20%3Cstyle%3E%23map%20%7Bposition%3Aabsolute%3Btop%3A0%3Bbottom%3A0%3Bright%3A0%3Bleft%3A0%3B%7D%3C/style%3E%0A%20%20%20%20%3Cscript%20src%3D%22https%3A//cdn.jsdelivr.net/npm/leaflet%401.6.0/dist/leaflet.js%22%3E%3C/script%3E%0A%20%20%20%20%3Cscript%20src%3D%22https%3A//code.jquery.com/jquery-1.12.4.min.js%22%3E%3C/script%3E%0A%20%20%20%20%3Cscript%20src%3D%22https%3A//maxcdn.bootstrapcdn.com/bootstrap/3.2.0/js/bootstrap.min.js%22%3E%3C/script%3E%0A%20%20%20%20%3Cscript%20src%3D%22https%3A//cdnjs.cloudflare.com/ajax/libs/Leaflet.awesome-markers/2.0.2/leaflet.awesome-markers.js%22%3E%3C/script%3E%0A%20%20%20%20%3Clink%20rel%3D%22stylesheet%22%20href%3D%22https%3A//cdn.jsdelivr.net/npm/leaflet%401.6.0/dist/leaflet.css%22/%3E%0A%20%20%20%20%3Clink%20rel%3D%22stylesheet%22%20href%3D%22https%3A//maxcdn.bootstrapcdn.com/bootstrap/3.2.0/css/bootstrap.min.css%22/%3E%0A%20%20%20%20%3Clink%20rel%3D%22stylesheet%22%20href%3D%22https%3A//maxcdn.bootstrapcdn.com/bootstrap/3.2.0/css/bootstrap-theme.min.css%22/%3E%0A%20%20%20%20%3Clink%20rel%3D%22stylesheet%22%20href%3D%22https%3A//maxcdn.bootstrapcdn.com/font-awesome/4.6.3/css/font-awesome.min.css%22/%3E%0A%20%20%20%20%3Clink%20rel%3D%22stylesheet%22%20href%3D%22https%3A//cdnjs.cloudflare.com/ajax/libs/Leaflet.awesome-markers/2.0.2/leaflet.awesome-markers.css%22/%3E%0A%20%20%20%20%3Clink%20rel%3D%22stylesheet%22%20href%3D%22https%3A//cdn.jsdelivr.net/gh/python-visualization/folium/folium/templates/leaflet.awesome.rotate.min.css%22/%3E%0A%20%20%20%20%0A%20%20%20%20%20%20%20%20%20%20%20%20%3Cmeta%20name%3D%22viewport%22%20content%3D%22width%3Ddevice-width%2C%0A%20%20%20%20%20%20%20%20%20%20%20%20%20%20%20%20initial-scale%3D1.0%2C%20maximum-scale%3D1.0%2C%20user-scalable%3Dno%22%20/%3E%0A%20%20%20%20%20%20%20%20%20%20%20%20%3Cstyle%3E%0A%20%20%20%20%20%20%20%20%20%20%20%20%20%20%20%20%23map_14eef68c433740afbee6a047ce911248%20%7B%0A%20%20%20%20%20%20%20%20%20%20%20%20%20%20%20%20%20%20%20%20position%3A%20relative%3B%0A%20%20%20%20%20%20%20%20%20%20%20%20%20%20%20%20%20%20%20%20width%3A%20100.0%25%3B%0A%20%20%20%20%20%20%20%20%20%20%20%20%20%20%20%20%20%20%20%20height%3A%20500.0px%3B%0A%20%20%20%20%20%20%20%20%20%20%20%20%20%20%20%20%20%20%20%20left%3A%200.0%25%3B%0A%20%20%20%20%20%20%20%20%20%20%20%20%20%20%20%20%20%20%20%20top%3A%200.0%25%3B%0A%20%20%20%20%20%20%20%20%20%20%20%20%20%20%20%20%7D%0A%20%20%20%20%20%20%20%20%20%20%20%20%3C/style%3E%0A%20%20%20%20%20%20%20%20%0A%20%20%20%20%3Cscript%20src%3D%22https%3A//cdnjs.cloudflare.com/ajax/libs/leaflet.fullscreen/1.4.2/Control.FullScreen.min.js%22%3E%3C/script%3E%0A%20%20%20%20%3Clink%20rel%3D%22stylesheet%22%20href%3D%22https%3A//cdnjs.cloudflare.com/ajax/libs/leaflet.fullscreen/1.4.2/Control.FullScreen.min.css%22/%3E%0A%3C/head%3E%0A%3Cbody%3E%20%20%20%20%0A%20%20%20%20%0A%20%20%20%20%20%20%20%20%20%20%20%20%3Cdiv%20class%3D%22folium-map%22%20id%3D%22map_14eef68c433740afbee6a047ce911248%22%20%3E%3C/div%3E%0A%20%20%20%20%20%20%20%20%0A%3C/body%3E%0A%3Cscript%3E%20%20%20%20%0A%20%20%20%20%0A%20%20%20%20%20%20%20%20%20%20%20%20var%20map_14eef68c433740afbee6a047ce911248%20%3D%20L.map%28%0A%20%20%20%20%20%20%20%20%20%20%20%20%20%20%20%20%22map_14eef68c433740afbee6a047ce911248%22%2C%0A%20%20%20%20%20%20%20%20%20%20%20%20%20%20%20%20%7B%0A%20%20%20%20%20%20%20%20%20%20%20%20%20%20%20%20%20%20%20%20center%3A%20%5B45.5%2C%20-75.0%5D%2C%0A%20%20%20%20%20%20%20%20%20%20%20%20%20%20%20%20%20%20%20%20crs%3A%20L.CRS.EPSG3857%2C%0A%20%20%20%20%20%20%20%20%20%20%20%20%20%20%20%20%20%20%20%20zoom%3A%208%2C%0A%20%20%20%20%20%20%20%20%20%20%20%20%20%20%20%20%20%20%20%20zoomControl%3A%20true%2C%0A%20%20%20%20%20%20%20%20%20%20%20%20%20%20%20%20%20%20%20%20preferCanvas%3A%20false%2C%0A%20%20%20%20%20%20%20%20%20%20%20%20%20%20%20%20%7D%0A%20%20%20%20%20%20%20%20%20%20%20%20%29%3B%0A%0A%20%20%20%20%20%20%20%20%20%20%20%20%0A%0A%20%20%20%20%20%20%20%20%0A%20%20%20%20%0A%20%20%20%20%20%20%20%20%20%20%20%20var%20tile_layer_496c3c5504134803ad338db339f9e6bc%20%3D%20L.tileLayer%28%0A%20%20%20%20%20%20%20%20%20%20%20%20%20%20%20%20%22https%3A//%7Bs%7D.tile.openstreetmap.org/%7Bz%7D/%7Bx%7D/%7By%7D.png%22%2C%0A%20%20%20%20%20%20%20%20%20%20%20%20%20%20%20%20%7B%22attribution%22%3A%20%22Data%20by%20%5Cu0026copy%3B%20%5Cu003ca%20href%3D%5C%22http%3A//openstreetmap.org%5C%22%5Cu003eOpenStreetMap%5Cu003c/a%5Cu003e%2C%20under%20%5Cu003ca%20href%3D%5C%22http%3A//www.openstreetmap.org/copyright%5C%22%5Cu003eODbL%5Cu003c/a%5Cu003e.%22%2C%20%22detectRetina%22%3A%20false%2C%20%22maxNativeZoom%22%3A%2018%2C%20%22maxZoom%22%3A%2018%2C%20%22minZoom%22%3A%200%2C%20%22noWrap%22%3A%20false%2C%20%22opacity%22%3A%201%2C%20%22subdomains%22%3A%20%22abc%22%2C%20%22tms%22%3A%20false%7D%0A%20%20%20%20%20%20%20%20%20%20%20%20%29.addTo%28map_14eef68c433740afbee6a047ce911248%29%3B%0A%20%20%20%20%20%20%20%20%0A%20%20%20%20%0A%20%20%20%20%20%20%20%20%20%20%20%20var%20tile_layer_594642ae25874c55a165763d6da02d46%20%3D%20L.tileLayer%28%0A%20%20%20%20%20%20%20%20%20%20%20%20%20%20%20%20%22https%3A//earthengine.googleapis.com/v1alpha/projects/earthengine-legacy/maps/4b92bf7c75b93637f645f055626a2d56-8b9af063e0a5f8a3651edb64cc06c70d/tiles/%7Bz%7D/%7Bx%7D/%7By%7D%22%2C%0A%20%20%20%20%20%20%20%20%20%20%20%20%20%20%20%20%7B%22attribution%22%3A%20%22Google%20Earth%20Engine%22%2C%20%22detectRetina%22%3A%20false%2C%20%22maxNativeZoom%22%3A%2018%2C%20%22maxZoom%22%3A%2018%2C%20%22minZoom%22%3A%200%2C%20%22noWrap%22%3A%20false%2C%20%22opacity%22%3A%201%2C%20%22subdomains%22%3A%20%22abc%22%2C%20%22tms%22%3A%20false%7D%0A%20%20%20%20%20%20%20%20%20%20%20%20%29.addTo%28map_14eef68c433740afbee6a047ce911248%29%3B%0A%20%20%20%20%20%20%20%20%0A%20%20%20%20%0A%20%20%20%20%20%20%20%20%20%20%20%20var%20layer_control_6dd3fef8a87c4a45ad52f9fd2fa5f737%20%3D%20%7B%0A%20%20%20%20%20%20%20%20%20%20%20%20%20%20%20%20base_layers%20%3A%20%7B%0A%20%20%20%20%20%20%20%20%20%20%20%20%20%20%20%20%20%20%20%20%22openstreetmap%22%20%3A%20tile_layer_496c3c5504134803ad338db339f9e6bc%2C%0A%20%20%20%20%20%20%20%20%20%20%20%20%20%20%20%20%7D%2C%0A%20%20%20%20%20%20%20%20%20%20%20%20%20%20%20%20overlays%20%3A%20%20%7B%0A%20%20%20%20%20%20%20%20%20%20%20%20%20%20%20%20%20%20%20%20%22Image%22%20%3A%20tile_layer_594642ae25874c55a165763d6da02d46%2C%0A%20%20%20%20%20%20%20%20%20%20%20%20%20%20%20%20%7D%2C%0A%20%20%20%20%20%20%20%20%20%20%20%20%7D%3B%0A%20%20%20%20%20%20%20%20%20%20%20%20L.control.layers%28%0A%20%20%20%20%20%20%20%20%20%20%20%20%20%20%20%20layer_control_6dd3fef8a87c4a45ad52f9fd2fa5f737.base_layers%2C%0A%20%20%20%20%20%20%20%20%20%20%20%20%20%20%20%20layer_control_6dd3fef8a87c4a45ad52f9fd2fa5f737.overlays%2C%0A%20%20%20%20%20%20%20%20%20%20%20%20%20%20%20%20%7B%22autoZIndex%22%3A%20true%2C%20%22collapsed%22%3A%20true%2C%20%22position%22%3A%20%22topright%22%7D%0A%20%20%20%20%20%20%20%20%20%20%20%20%29.addTo%28map_14eef68c433740afbee6a047ce911248%29%3B%0A%20%20%20%20%20%20%20%20%0A%20%20%20%20%0A%20%20%20%20%20%20%20%20%20%20%20%20L.control.fullscreen%28%0A%20%20%20%20%20%20%20%20%20%20%20%20%20%20%20%20%7B%22forceSeparateButton%22%3A%20false%2C%20%22position%22%3A%20%22topleft%22%2C%20%22title%22%3A%20%22Full%20Screen%22%2C%20%22titleCancel%22%3A%20%22Exit%20Full%20Screen%22%7D%0A%20%20%20%20%20%20%20%20%20%20%20%20%29.addTo%28map_14eef68c433740afbee6a047ce911248%29%3B%0A%20%20%20%20%20%20%20%20%0A%3C/script%3E onload=\"this.contentDocument.open();this.contentDocument.write(    decodeURIComponent(this.getAttribute('data-html')));this.contentDocument.close();\" allowfullscreen webkitallowfullscreen mozallowfullscreen></iframe></div></div>"
      ],
      "text/plain": [
       "<folium.folium.Map at 0x144864430>"
      ]
     },
     "metadata": {},
     "output_type": "display_data"
    }
   ],
   "source": [
    "# make products and export\n",
    "# SL2P original\n",
    "\n",
    "# filter collection and add ancillary bands\n",
    "input_collection = ee.ImageCollection(COLLECTION_OPTIONS[colName][\"name\"]) \\\n",
    "                     .filterBounds(mapBounds) \\\n",
    "                     .filterDate(startDate, endDate) \\\n",
    "                     .filterMetadata(colOptions[\"Cloudcover\"],'less_than',maxCloudcover) \\\n",
    "                     .limit(5000) \\\n",
    "                     .map(lambda image: addDate(image)) \\\n",
    "                     .map(lambda image: image.clip(mapBounds)) \\\n",
    "                     .map(lambda image: s2MaskClear(image)) \\\n",
    "                     .map(lambda image: addS2Geometry(colOptions, image))\n",
    "print(input_collection.size().getInfo())\n",
    "\n",
    "if outputName == \"Surface_Reflectance\":\n",
    "    export_collection = input_collection;\n",
    "else:\n",
    "    # get partition used to select network\n",
    "    partition = (COLLECTION_OPTIONS[colName][\"partition\"]).filterBounds(mapBounds).mosaic().clip(mapBounds).rename('partition');\n",
    "    \n",
    "    # pre process input imagery and flag invalid inputs\n",
    "    input_collection = input_collection.map(lambda image: s2MaskLand(image)) \\\n",
    "                                       .map(lambda image: scaleBands(netOptions[\"inputBands\"],netOptions[\"inputScaling\"],image)) \\\n",
    "                                       .map(lambda image: invalidInput(COLLECTION_OPTIONS[colName][\"sl2pDomain\"],netOptions[\"inputBands\"],image))\n",
    "    \n",
    "    # apply networks to produce mapped parameters\n",
    "    estimateSL2P = input_collection.map(lambda image: wrapperNNets(SL2P, partition, netOptions, COLLECTION_OPTIONS[colName], \"estimate\", image))\n",
    "    uncertaintySL2P = input_collection.map(lambda image: wrapperNNets(errorsSL2P, partition, netOptions, COLLECTION_OPTIONS[colName], \"error\", image))\n",
    "    \n",
    "    # scale and offset mapped parameter bands\n",
    "    estimateSL2P = estimateSL2P.map(lambda image: image.addBands(image.select(\"estimate\"+outputName).multiply(ee.Image.constant(outputScale)).add(ee.Image.constant(outputOffset)),overwrite = True));\n",
    "    uncertaintySL2P = uncertaintySL2P.map(lambda image: image.addBands(image.select(\"error\"+outputName).multiply(ee.Image.constant(outputScale)).add(ee.Image.constant(outputOffset)),overwrite = True));\n",
    "    \n",
    "    # produce final export collection\n",
    "    export_collection = input_collection.select(['date','QC']).combine(estimateSL2P).combine(uncertaintySL2P)\n",
    "    \n",
    "image_output_names = ([name+\"_\"+outputName for name in export_collection.toList(export_collection.size()).map(lambda image: ee.Image(image).id()).getInfo()])\n",
    "\n",
    "\n",
    "# generates a 20 m resolution output map\n",
    "displayImage(export_collection.mosaic().select('estimate'+outputName),0+outputOffset,10*outputScale+outputOffset)"
   ]
  },
  {
   "cell_type": "code",
   "execution_count": 53,
   "metadata": {
    "tags": []
   },
   "outputs": [],
   "source": [
    "# parse the networks\n",
    "colName = 'COPERNICUS/S2_SR_10m'\n",
    "colOptions = COLLECTION_OPTIONS[colName]\n",
    "netOptions = VIS_OPTIONS[outputName][colName]\n",
    "numNets = ee.Number(ee.Feature((COLLECTION_OPTIONS[colName][\"Network_Ind\"]).first()).propertyNames().remove('Feature Index').remove('system:index').remove('lon').size())\n",
    "SL2P = ee.List.sequence(1,ee.Number(COLLECTION_OPTIONS[colName][\"numVariables\"]),1).map(lambda netNum: makeNetVars(COLLECTION_OPTIONS[colName][\"Collection_SL2P\"],numNets,netNum));\n",
    "errorsSL2P = ee.List.sequence(1,ee.Number(COLLECTION_OPTIONS[colName][\"numVariables\"]),1).map(lambda netNum: makeNetVars(COLLECTION_OPTIONS[colName][\"Collection_SL2Perrors\"],numNets,netNum));"
   ]
  },
  {
   "cell_type": "code",
   "execution_count": 54,
   "metadata": {},
   "outputs": [
    {
     "name": "stdout",
     "output_type": "stream",
     "text": [
      "5\n"
     ]
    },
    {
     "data": {
      "text/html": [
       "<div style=\"width:100%;\"><div style=\"position:relative;width:100%;height:0;padding-bottom:60%;\"><span style=\"color:#565656\">Make this Notebook Trusted to load map: File -> Trust Notebook</span><iframe src=\"about:blank\" style=\"position:absolute;width:100%;height:100%;left:0;top:0;border:none !important;\" data-html=%3C%21DOCTYPE%20html%3E%0A%3Chead%3E%20%20%20%20%0A%20%20%20%20%3Cmeta%20http-equiv%3D%22content-type%22%20content%3D%22text/html%3B%20charset%3DUTF-8%22%20/%3E%0A%20%20%20%20%0A%20%20%20%20%20%20%20%20%3Cscript%3E%0A%20%20%20%20%20%20%20%20%20%20%20%20L_NO_TOUCH%20%3D%20false%3B%0A%20%20%20%20%20%20%20%20%20%20%20%20L_DISABLE_3D%20%3D%20false%3B%0A%20%20%20%20%20%20%20%20%3C/script%3E%0A%20%20%20%20%0A%20%20%20%20%3Cstyle%3Ehtml%2C%20body%20%7Bwidth%3A%20100%25%3Bheight%3A%20100%25%3Bmargin%3A%200%3Bpadding%3A%200%3B%7D%3C/style%3E%0A%20%20%20%20%3Cstyle%3E%23map%20%7Bposition%3Aabsolute%3Btop%3A0%3Bbottom%3A0%3Bright%3A0%3Bleft%3A0%3B%7D%3C/style%3E%0A%20%20%20%20%3Cscript%20src%3D%22https%3A//cdn.jsdelivr.net/npm/leaflet%401.6.0/dist/leaflet.js%22%3E%3C/script%3E%0A%20%20%20%20%3Cscript%20src%3D%22https%3A//code.jquery.com/jquery-1.12.4.min.js%22%3E%3C/script%3E%0A%20%20%20%20%3Cscript%20src%3D%22https%3A//maxcdn.bootstrapcdn.com/bootstrap/3.2.0/js/bootstrap.min.js%22%3E%3C/script%3E%0A%20%20%20%20%3Cscript%20src%3D%22https%3A//cdnjs.cloudflare.com/ajax/libs/Leaflet.awesome-markers/2.0.2/leaflet.awesome-markers.js%22%3E%3C/script%3E%0A%20%20%20%20%3Clink%20rel%3D%22stylesheet%22%20href%3D%22https%3A//cdn.jsdelivr.net/npm/leaflet%401.6.0/dist/leaflet.css%22/%3E%0A%20%20%20%20%3Clink%20rel%3D%22stylesheet%22%20href%3D%22https%3A//maxcdn.bootstrapcdn.com/bootstrap/3.2.0/css/bootstrap.min.css%22/%3E%0A%20%20%20%20%3Clink%20rel%3D%22stylesheet%22%20href%3D%22https%3A//maxcdn.bootstrapcdn.com/bootstrap/3.2.0/css/bootstrap-theme.min.css%22/%3E%0A%20%20%20%20%3Clink%20rel%3D%22stylesheet%22%20href%3D%22https%3A//maxcdn.bootstrapcdn.com/font-awesome/4.6.3/css/font-awesome.min.css%22/%3E%0A%20%20%20%20%3Clink%20rel%3D%22stylesheet%22%20href%3D%22https%3A//cdnjs.cloudflare.com/ajax/libs/Leaflet.awesome-markers/2.0.2/leaflet.awesome-markers.css%22/%3E%0A%20%20%20%20%3Clink%20rel%3D%22stylesheet%22%20href%3D%22https%3A//cdn.jsdelivr.net/gh/python-visualization/folium/folium/templates/leaflet.awesome.rotate.min.css%22/%3E%0A%20%20%20%20%0A%20%20%20%20%20%20%20%20%20%20%20%20%3Cmeta%20name%3D%22viewport%22%20content%3D%22width%3Ddevice-width%2C%0A%20%20%20%20%20%20%20%20%20%20%20%20%20%20%20%20initial-scale%3D1.0%2C%20maximum-scale%3D1.0%2C%20user-scalable%3Dno%22%20/%3E%0A%20%20%20%20%20%20%20%20%20%20%20%20%3Cstyle%3E%0A%20%20%20%20%20%20%20%20%20%20%20%20%20%20%20%20%23map_93708ebb280642ec9a9f0591150b5da1%20%7B%0A%20%20%20%20%20%20%20%20%20%20%20%20%20%20%20%20%20%20%20%20position%3A%20relative%3B%0A%20%20%20%20%20%20%20%20%20%20%20%20%20%20%20%20%20%20%20%20width%3A%20100.0%25%3B%0A%20%20%20%20%20%20%20%20%20%20%20%20%20%20%20%20%20%20%20%20height%3A%20500.0px%3B%0A%20%20%20%20%20%20%20%20%20%20%20%20%20%20%20%20%20%20%20%20left%3A%200.0%25%3B%0A%20%20%20%20%20%20%20%20%20%20%20%20%20%20%20%20%20%20%20%20top%3A%200.0%25%3B%0A%20%20%20%20%20%20%20%20%20%20%20%20%20%20%20%20%7D%0A%20%20%20%20%20%20%20%20%20%20%20%20%3C/style%3E%0A%20%20%20%20%20%20%20%20%0A%20%20%20%20%3Cscript%20src%3D%22https%3A//cdnjs.cloudflare.com/ajax/libs/leaflet.fullscreen/1.4.2/Control.FullScreen.min.js%22%3E%3C/script%3E%0A%20%20%20%20%3Clink%20rel%3D%22stylesheet%22%20href%3D%22https%3A//cdnjs.cloudflare.com/ajax/libs/leaflet.fullscreen/1.4.2/Control.FullScreen.min.css%22/%3E%0A%3C/head%3E%0A%3Cbody%3E%20%20%20%20%0A%20%20%20%20%0A%20%20%20%20%20%20%20%20%20%20%20%20%3Cdiv%20class%3D%22folium-map%22%20id%3D%22map_93708ebb280642ec9a9f0591150b5da1%22%20%3E%3C/div%3E%0A%20%20%20%20%20%20%20%20%0A%3C/body%3E%0A%3Cscript%3E%20%20%20%20%0A%20%20%20%20%0A%20%20%20%20%20%20%20%20%20%20%20%20var%20map_93708ebb280642ec9a9f0591150b5da1%20%3D%20L.map%28%0A%20%20%20%20%20%20%20%20%20%20%20%20%20%20%20%20%22map_93708ebb280642ec9a9f0591150b5da1%22%2C%0A%20%20%20%20%20%20%20%20%20%20%20%20%20%20%20%20%7B%0A%20%20%20%20%20%20%20%20%20%20%20%20%20%20%20%20%20%20%20%20center%3A%20%5B45.5%2C%20-75.0%5D%2C%0A%20%20%20%20%20%20%20%20%20%20%20%20%20%20%20%20%20%20%20%20crs%3A%20L.CRS.EPSG3857%2C%0A%20%20%20%20%20%20%20%20%20%20%20%20%20%20%20%20%20%20%20%20zoom%3A%208%2C%0A%20%20%20%20%20%20%20%20%20%20%20%20%20%20%20%20%20%20%20%20zoomControl%3A%20true%2C%0A%20%20%20%20%20%20%20%20%20%20%20%20%20%20%20%20%20%20%20%20preferCanvas%3A%20false%2C%0A%20%20%20%20%20%20%20%20%20%20%20%20%20%20%20%20%7D%0A%20%20%20%20%20%20%20%20%20%20%20%20%29%3B%0A%0A%20%20%20%20%20%20%20%20%20%20%20%20%0A%0A%20%20%20%20%20%20%20%20%0A%20%20%20%20%0A%20%20%20%20%20%20%20%20%20%20%20%20var%20tile_layer_2e82ddc0c89d44d29b691a976addcd05%20%3D%20L.tileLayer%28%0A%20%20%20%20%20%20%20%20%20%20%20%20%20%20%20%20%22https%3A//%7Bs%7D.tile.openstreetmap.org/%7Bz%7D/%7Bx%7D/%7By%7D.png%22%2C%0A%20%20%20%20%20%20%20%20%20%20%20%20%20%20%20%20%7B%22attribution%22%3A%20%22Data%20by%20%5Cu0026copy%3B%20%5Cu003ca%20href%3D%5C%22http%3A//openstreetmap.org%5C%22%5Cu003eOpenStreetMap%5Cu003c/a%5Cu003e%2C%20under%20%5Cu003ca%20href%3D%5C%22http%3A//www.openstreetmap.org/copyright%5C%22%5Cu003eODbL%5Cu003c/a%5Cu003e.%22%2C%20%22detectRetina%22%3A%20false%2C%20%22maxNativeZoom%22%3A%2018%2C%20%22maxZoom%22%3A%2018%2C%20%22minZoom%22%3A%200%2C%20%22noWrap%22%3A%20false%2C%20%22opacity%22%3A%201%2C%20%22subdomains%22%3A%20%22abc%22%2C%20%22tms%22%3A%20false%7D%0A%20%20%20%20%20%20%20%20%20%20%20%20%29.addTo%28map_93708ebb280642ec9a9f0591150b5da1%29%3B%0A%20%20%20%20%20%20%20%20%0A%20%20%20%20%0A%20%20%20%20%20%20%20%20%20%20%20%20var%20tile_layer_e74b5775ce00497fb66651ca687a0ff0%20%3D%20L.tileLayer%28%0A%20%20%20%20%20%20%20%20%20%20%20%20%20%20%20%20%22https%3A//earthengine.googleapis.com/v1alpha/projects/earthengine-legacy/maps/9a68b333cfb1d39e46cde12c21b7c703-8ce34d989440b44d51c2ab8171b2028f/tiles/%7Bz%7D/%7Bx%7D/%7By%7D%22%2C%0A%20%20%20%20%20%20%20%20%20%20%20%20%20%20%20%20%7B%22attribution%22%3A%20%22Google%20Earth%20Engine%22%2C%20%22detectRetina%22%3A%20false%2C%20%22maxNativeZoom%22%3A%2018%2C%20%22maxZoom%22%3A%2018%2C%20%22minZoom%22%3A%200%2C%20%22noWrap%22%3A%20false%2C%20%22opacity%22%3A%201%2C%20%22subdomains%22%3A%20%22abc%22%2C%20%22tms%22%3A%20false%7D%0A%20%20%20%20%20%20%20%20%20%20%20%20%29.addTo%28map_93708ebb280642ec9a9f0591150b5da1%29%3B%0A%20%20%20%20%20%20%20%20%0A%20%20%20%20%0A%20%20%20%20%20%20%20%20%20%20%20%20var%20layer_control_11225e0c78d64d6c96157b61207cebb9%20%3D%20%7B%0A%20%20%20%20%20%20%20%20%20%20%20%20%20%20%20%20base_layers%20%3A%20%7B%0A%20%20%20%20%20%20%20%20%20%20%20%20%20%20%20%20%20%20%20%20%22openstreetmap%22%20%3A%20tile_layer_2e82ddc0c89d44d29b691a976addcd05%2C%0A%20%20%20%20%20%20%20%20%20%20%20%20%20%20%20%20%7D%2C%0A%20%20%20%20%20%20%20%20%20%20%20%20%20%20%20%20overlays%20%3A%20%20%7B%0A%20%20%20%20%20%20%20%20%20%20%20%20%20%20%20%20%20%20%20%20%22Image%22%20%3A%20tile_layer_e74b5775ce00497fb66651ca687a0ff0%2C%0A%20%20%20%20%20%20%20%20%20%20%20%20%20%20%20%20%7D%2C%0A%20%20%20%20%20%20%20%20%20%20%20%20%7D%3B%0A%20%20%20%20%20%20%20%20%20%20%20%20L.control.layers%28%0A%20%20%20%20%20%20%20%20%20%20%20%20%20%20%20%20layer_control_11225e0c78d64d6c96157b61207cebb9.base_layers%2C%0A%20%20%20%20%20%20%20%20%20%20%20%20%20%20%20%20layer_control_11225e0c78d64d6c96157b61207cebb9.overlays%2C%0A%20%20%20%20%20%20%20%20%20%20%20%20%20%20%20%20%7B%22autoZIndex%22%3A%20true%2C%20%22collapsed%22%3A%20true%2C%20%22position%22%3A%20%22topright%22%7D%0A%20%20%20%20%20%20%20%20%20%20%20%20%29.addTo%28map_93708ebb280642ec9a9f0591150b5da1%29%3B%0A%20%20%20%20%20%20%20%20%0A%20%20%20%20%0A%20%20%20%20%20%20%20%20%20%20%20%20L.control.fullscreen%28%0A%20%20%20%20%20%20%20%20%20%20%20%20%20%20%20%20%7B%22forceSeparateButton%22%3A%20false%2C%20%22position%22%3A%20%22topleft%22%2C%20%22title%22%3A%20%22Full%20Screen%22%2C%20%22titleCancel%22%3A%20%22Exit%20Full%20Screen%22%7D%0A%20%20%20%20%20%20%20%20%20%20%20%20%29.addTo%28map_93708ebb280642ec9a9f0591150b5da1%29%3B%0A%20%20%20%20%20%20%20%20%0A%3C/script%3E onload=\"this.contentDocument.open();this.contentDocument.write(    decodeURIComponent(this.getAttribute('data-html')));this.contentDocument.close();\" allowfullscreen webkitallowfullscreen mozallowfullscreen></iframe></div></div>"
      ],
      "text/plain": [
       "<folium.folium.Map at 0x144d89a90>"
      ]
     },
     "metadata": {},
     "output_type": "display_data"
    }
   ],
   "source": [
    "# =================================\n",
    "# TEST FOR SL2P10_20m\n",
    "# =================================\n",
    "# reduces image resolution before applying algorithm\n",
    "    \n",
    "# filter collection and add ancillary bands\n",
    "input_collection_20m = ee.ImageCollection(COLLECTION_OPTIONS[colName][\"name\"]) \\\n",
    "                     .filterBounds(mapBounds) \\\n",
    "                     .filterDate(startDate, endDate) \\\n",
    "                     .filterMetadata(colOptions[\"Cloudcover\"],'less_than',maxCloudcover) \\\n",
    "                     .limit(5000) \\\n",
    "                     .map(lambda image: addDate(image)) \\\n",
    "                     .map(lambda image: image.clip(mapBounds)) \\\n",
    "                     .map(lambda image: s2MaskClear(image)) \\\n",
    "                     .map(lambda image: addS2Geometry(colOptions, image)) \\\n",
    "                     .map(lambda image: reduceTo20m(image))\n",
    "\n",
    "print(input_collection_20m.size().getInfo())\n",
    "# print(input_collection_20m.first().select('B3').projection().crs().getInfo())\n",
    "# print(input_collection_20m.first().select('B3').projection().nominalScale().getInfo())\n",
    "\n",
    "if outputName == \"Surface_Reflectance\":\n",
    "    export_collection_20m = input_collection_20m\n",
    "else:\n",
    "    # get partition used to select network\n",
    "    partition = (COLLECTION_OPTIONS[colName][\"partition\"]).filterBounds(mapBounds).mosaic().clip(mapBounds).rename('partition')\n",
    "\n",
    "    # pre process input imagery and flag invalid inputs\n",
    "    input_collection_20m = input_collection_20m.map(lambda image: s2MaskLand(image)) \\\n",
    "                                               .map(lambda image: scaleBands(netOptions[\"inputBands\"],netOptions[\"inputScaling\"],image)) \\\n",
    "                                               .map(lambda image: invalidInput(COLLECTION_OPTIONS[colName][\"sl2pDomain\"],netOptions[\"inputBands\"],image))\n",
    "    \n",
    "    # apply networks to produce mapped parameters\n",
    "    estimateSL2P_20m = input_collection_20m.map(lambda image: wrapperNNets(SL2P, partition, netOptions, COLLECTION_OPTIONS[colName], \"estimate\", image))\n",
    "    uncertaintySL2P_20m = input_collection_20m.map(lambda image: wrapperNNets(errorsSL2P, partition, netOptions, COLLECTION_OPTIONS[colName], \"error\", image))\n",
    "\n",
    "    # scale and offset mapped parameter bands\n",
    "    estimateSL2P_20m = estimateSL2P_20m.map(lambda image: image.addBands(image.select(\"estimate\"+outputName) \\\n",
    "                                                               .multiply(ee.Image.constant(outputScale)) \\\n",
    "                                                               .add(ee.Image.constant(outputOffset)), overwrite = True))\n",
    "    uncertaintySL2P_20m = uncertaintySL2P_20m.map(lambda image: image.addBands(image.select(\"error\"+outputName) \\\n",
    "                                                                     .multiply(ee.Image.constant(outputScale)) \\\n",
    "                                                                     .add(ee.Image.constant(outputOffset)),overwrite = True))\n",
    "    \n",
    "    # produce final export collection\n",
    "    export_collection_20m = input_collection_20m.select(['date','QC']).combine(estimateSL2P_20m).combine(uncertaintySL2P_20m)\n",
    "\n",
    "image_output_names_20m = ([name+\"_\"+outputName+\"_20m\" for name in export_collection_20m.toList(export_collection_20m.size()).map(lambda image: ee.Image(image).id()).getInfo()])\n",
    "\n",
    "displayImage(export_collection_20m.mosaic().select('estimate'+outputName),0+outputOffset,10*outputScale+outputOffset)"
   ]
  },
  {
   "cell_type": "code",
   "execution_count": 55,
   "metadata": {},
   "outputs": [
    {
     "name": "stdout",
     "output_type": "stream",
     "text": [
      "5\n"
     ]
    },
    {
     "data": {
      "text/html": [
       "<div style=\"width:100%;\"><div style=\"position:relative;width:100%;height:0;padding-bottom:60%;\"><span style=\"color:#565656\">Make this Notebook Trusted to load map: File -> Trust Notebook</span><iframe src=\"about:blank\" style=\"position:absolute;width:100%;height:100%;left:0;top:0;border:none !important;\" data-html=%3C%21DOCTYPE%20html%3E%0A%3Chead%3E%20%20%20%20%0A%20%20%20%20%3Cmeta%20http-equiv%3D%22content-type%22%20content%3D%22text/html%3B%20charset%3DUTF-8%22%20/%3E%0A%20%20%20%20%0A%20%20%20%20%20%20%20%20%3Cscript%3E%0A%20%20%20%20%20%20%20%20%20%20%20%20L_NO_TOUCH%20%3D%20false%3B%0A%20%20%20%20%20%20%20%20%20%20%20%20L_DISABLE_3D%20%3D%20false%3B%0A%20%20%20%20%20%20%20%20%3C/script%3E%0A%20%20%20%20%0A%20%20%20%20%3Cstyle%3Ehtml%2C%20body%20%7Bwidth%3A%20100%25%3Bheight%3A%20100%25%3Bmargin%3A%200%3Bpadding%3A%200%3B%7D%3C/style%3E%0A%20%20%20%20%3Cstyle%3E%23map%20%7Bposition%3Aabsolute%3Btop%3A0%3Bbottom%3A0%3Bright%3A0%3Bleft%3A0%3B%7D%3C/style%3E%0A%20%20%20%20%3Cscript%20src%3D%22https%3A//cdn.jsdelivr.net/npm/leaflet%401.6.0/dist/leaflet.js%22%3E%3C/script%3E%0A%20%20%20%20%3Cscript%20src%3D%22https%3A//code.jquery.com/jquery-1.12.4.min.js%22%3E%3C/script%3E%0A%20%20%20%20%3Cscript%20src%3D%22https%3A//maxcdn.bootstrapcdn.com/bootstrap/3.2.0/js/bootstrap.min.js%22%3E%3C/script%3E%0A%20%20%20%20%3Cscript%20src%3D%22https%3A//cdnjs.cloudflare.com/ajax/libs/Leaflet.awesome-markers/2.0.2/leaflet.awesome-markers.js%22%3E%3C/script%3E%0A%20%20%20%20%3Clink%20rel%3D%22stylesheet%22%20href%3D%22https%3A//cdn.jsdelivr.net/npm/leaflet%401.6.0/dist/leaflet.css%22/%3E%0A%20%20%20%20%3Clink%20rel%3D%22stylesheet%22%20href%3D%22https%3A//maxcdn.bootstrapcdn.com/bootstrap/3.2.0/css/bootstrap.min.css%22/%3E%0A%20%20%20%20%3Clink%20rel%3D%22stylesheet%22%20href%3D%22https%3A//maxcdn.bootstrapcdn.com/bootstrap/3.2.0/css/bootstrap-theme.min.css%22/%3E%0A%20%20%20%20%3Clink%20rel%3D%22stylesheet%22%20href%3D%22https%3A//maxcdn.bootstrapcdn.com/font-awesome/4.6.3/css/font-awesome.min.css%22/%3E%0A%20%20%20%20%3Clink%20rel%3D%22stylesheet%22%20href%3D%22https%3A//cdnjs.cloudflare.com/ajax/libs/Leaflet.awesome-markers/2.0.2/leaflet.awesome-markers.css%22/%3E%0A%20%20%20%20%3Clink%20rel%3D%22stylesheet%22%20href%3D%22https%3A//cdn.jsdelivr.net/gh/python-visualization/folium/folium/templates/leaflet.awesome.rotate.min.css%22/%3E%0A%20%20%20%20%0A%20%20%20%20%20%20%20%20%20%20%20%20%3Cmeta%20name%3D%22viewport%22%20content%3D%22width%3Ddevice-width%2C%0A%20%20%20%20%20%20%20%20%20%20%20%20%20%20%20%20initial-scale%3D1.0%2C%20maximum-scale%3D1.0%2C%20user-scalable%3Dno%22%20/%3E%0A%20%20%20%20%20%20%20%20%20%20%20%20%3Cstyle%3E%0A%20%20%20%20%20%20%20%20%20%20%20%20%20%20%20%20%23map_099dde8ed7c343ac93e304c2d5b50ebe%20%7B%0A%20%20%20%20%20%20%20%20%20%20%20%20%20%20%20%20%20%20%20%20position%3A%20relative%3B%0A%20%20%20%20%20%20%20%20%20%20%20%20%20%20%20%20%20%20%20%20width%3A%20100.0%25%3B%0A%20%20%20%20%20%20%20%20%20%20%20%20%20%20%20%20%20%20%20%20height%3A%20500.0px%3B%0A%20%20%20%20%20%20%20%20%20%20%20%20%20%20%20%20%20%20%20%20left%3A%200.0%25%3B%0A%20%20%20%20%20%20%20%20%20%20%20%20%20%20%20%20%20%20%20%20top%3A%200.0%25%3B%0A%20%20%20%20%20%20%20%20%20%20%20%20%20%20%20%20%7D%0A%20%20%20%20%20%20%20%20%20%20%20%20%3C/style%3E%0A%20%20%20%20%20%20%20%20%0A%20%20%20%20%3Cscript%20src%3D%22https%3A//cdnjs.cloudflare.com/ajax/libs/leaflet.fullscreen/1.4.2/Control.FullScreen.min.js%22%3E%3C/script%3E%0A%20%20%20%20%3Clink%20rel%3D%22stylesheet%22%20href%3D%22https%3A//cdnjs.cloudflare.com/ajax/libs/leaflet.fullscreen/1.4.2/Control.FullScreen.min.css%22/%3E%0A%3C/head%3E%0A%3Cbody%3E%20%20%20%20%0A%20%20%20%20%0A%20%20%20%20%20%20%20%20%20%20%20%20%3Cdiv%20class%3D%22folium-map%22%20id%3D%22map_099dde8ed7c343ac93e304c2d5b50ebe%22%20%3E%3C/div%3E%0A%20%20%20%20%20%20%20%20%0A%3C/body%3E%0A%3Cscript%3E%20%20%20%20%0A%20%20%20%20%0A%20%20%20%20%20%20%20%20%20%20%20%20var%20map_099dde8ed7c343ac93e304c2d5b50ebe%20%3D%20L.map%28%0A%20%20%20%20%20%20%20%20%20%20%20%20%20%20%20%20%22map_099dde8ed7c343ac93e304c2d5b50ebe%22%2C%0A%20%20%20%20%20%20%20%20%20%20%20%20%20%20%20%20%7B%0A%20%20%20%20%20%20%20%20%20%20%20%20%20%20%20%20%20%20%20%20center%3A%20%5B45.5%2C%20-75.0%5D%2C%0A%20%20%20%20%20%20%20%20%20%20%20%20%20%20%20%20%20%20%20%20crs%3A%20L.CRS.EPSG3857%2C%0A%20%20%20%20%20%20%20%20%20%20%20%20%20%20%20%20%20%20%20%20zoom%3A%208%2C%0A%20%20%20%20%20%20%20%20%20%20%20%20%20%20%20%20%20%20%20%20zoomControl%3A%20true%2C%0A%20%20%20%20%20%20%20%20%20%20%20%20%20%20%20%20%20%20%20%20preferCanvas%3A%20false%2C%0A%20%20%20%20%20%20%20%20%20%20%20%20%20%20%20%20%7D%0A%20%20%20%20%20%20%20%20%20%20%20%20%29%3B%0A%0A%20%20%20%20%20%20%20%20%20%20%20%20%0A%0A%20%20%20%20%20%20%20%20%0A%20%20%20%20%0A%20%20%20%20%20%20%20%20%20%20%20%20var%20tile_layer_7e81c60f63b843399dfe951bae784ac6%20%3D%20L.tileLayer%28%0A%20%20%20%20%20%20%20%20%20%20%20%20%20%20%20%20%22https%3A//%7Bs%7D.tile.openstreetmap.org/%7Bz%7D/%7Bx%7D/%7By%7D.png%22%2C%0A%20%20%20%20%20%20%20%20%20%20%20%20%20%20%20%20%7B%22attribution%22%3A%20%22Data%20by%20%5Cu0026copy%3B%20%5Cu003ca%20href%3D%5C%22http%3A//openstreetmap.org%5C%22%5Cu003eOpenStreetMap%5Cu003c/a%5Cu003e%2C%20under%20%5Cu003ca%20href%3D%5C%22http%3A//www.openstreetmap.org/copyright%5C%22%5Cu003eODbL%5Cu003c/a%5Cu003e.%22%2C%20%22detectRetina%22%3A%20false%2C%20%22maxNativeZoom%22%3A%2018%2C%20%22maxZoom%22%3A%2018%2C%20%22minZoom%22%3A%200%2C%20%22noWrap%22%3A%20false%2C%20%22opacity%22%3A%201%2C%20%22subdomains%22%3A%20%22abc%22%2C%20%22tms%22%3A%20false%7D%0A%20%20%20%20%20%20%20%20%20%20%20%20%29.addTo%28map_099dde8ed7c343ac93e304c2d5b50ebe%29%3B%0A%20%20%20%20%20%20%20%20%0A%20%20%20%20%0A%20%20%20%20%20%20%20%20%20%20%20%20var%20tile_layer_96a369ddc8dd4deb81259cc9410066ea%20%3D%20L.tileLayer%28%0A%20%20%20%20%20%20%20%20%20%20%20%20%20%20%20%20%22https%3A//earthengine.googleapis.com/v1alpha/projects/earthengine-legacy/maps/dfc6bde8db4af8f25aee87c43c0194d9-c41880f7173a8a4e21d2666c129d844a/tiles/%7Bz%7D/%7Bx%7D/%7By%7D%22%2C%0A%20%20%20%20%20%20%20%20%20%20%20%20%20%20%20%20%7B%22attribution%22%3A%20%22Google%20Earth%20Engine%22%2C%20%22detectRetina%22%3A%20false%2C%20%22maxNativeZoom%22%3A%2018%2C%20%22maxZoom%22%3A%2018%2C%20%22minZoom%22%3A%200%2C%20%22noWrap%22%3A%20false%2C%20%22opacity%22%3A%201%2C%20%22subdomains%22%3A%20%22abc%22%2C%20%22tms%22%3A%20false%7D%0A%20%20%20%20%20%20%20%20%20%20%20%20%29.addTo%28map_099dde8ed7c343ac93e304c2d5b50ebe%29%3B%0A%20%20%20%20%20%20%20%20%0A%20%20%20%20%0A%20%20%20%20%20%20%20%20%20%20%20%20var%20layer_control_f6c3ed4754aa46d691aa415ee6a22efa%20%3D%20%7B%0A%20%20%20%20%20%20%20%20%20%20%20%20%20%20%20%20base_layers%20%3A%20%7B%0A%20%20%20%20%20%20%20%20%20%20%20%20%20%20%20%20%20%20%20%20%22openstreetmap%22%20%3A%20tile_layer_7e81c60f63b843399dfe951bae784ac6%2C%0A%20%20%20%20%20%20%20%20%20%20%20%20%20%20%20%20%7D%2C%0A%20%20%20%20%20%20%20%20%20%20%20%20%20%20%20%20overlays%20%3A%20%20%7B%0A%20%20%20%20%20%20%20%20%20%20%20%20%20%20%20%20%20%20%20%20%22Image%22%20%3A%20tile_layer_96a369ddc8dd4deb81259cc9410066ea%2C%0A%20%20%20%20%20%20%20%20%20%20%20%20%20%20%20%20%7D%2C%0A%20%20%20%20%20%20%20%20%20%20%20%20%7D%3B%0A%20%20%20%20%20%20%20%20%20%20%20%20L.control.layers%28%0A%20%20%20%20%20%20%20%20%20%20%20%20%20%20%20%20layer_control_f6c3ed4754aa46d691aa415ee6a22efa.base_layers%2C%0A%20%20%20%20%20%20%20%20%20%20%20%20%20%20%20%20layer_control_f6c3ed4754aa46d691aa415ee6a22efa.overlays%2C%0A%20%20%20%20%20%20%20%20%20%20%20%20%20%20%20%20%7B%22autoZIndex%22%3A%20true%2C%20%22collapsed%22%3A%20true%2C%20%22position%22%3A%20%22topright%22%7D%0A%20%20%20%20%20%20%20%20%20%20%20%20%29.addTo%28map_099dde8ed7c343ac93e304c2d5b50ebe%29%3B%0A%20%20%20%20%20%20%20%20%0A%20%20%20%20%0A%20%20%20%20%20%20%20%20%20%20%20%20L.control.fullscreen%28%0A%20%20%20%20%20%20%20%20%20%20%20%20%20%20%20%20%7B%22forceSeparateButton%22%3A%20false%2C%20%22position%22%3A%20%22topleft%22%2C%20%22title%22%3A%20%22Full%20Screen%22%2C%20%22titleCancel%22%3A%20%22Exit%20Full%20Screen%22%7D%0A%20%20%20%20%20%20%20%20%20%20%20%20%29.addTo%28map_099dde8ed7c343ac93e304c2d5b50ebe%29%3B%0A%20%20%20%20%20%20%20%20%0A%3C/script%3E onload=\"this.contentDocument.open();this.contentDocument.write(    decodeURIComponent(this.getAttribute('data-html')));this.contentDocument.close();\" allowfullscreen webkitallowfullscreen mozallowfullscreen></iframe></div></div>"
      ],
      "text/plain": [
       "<folium.folium.Map at 0x111d13f40>"
      ]
     },
     "metadata": {},
     "output_type": "display_data"
    }
   ],
   "source": [
    "# =================================\n",
    "# TEST FOR SL2P10_10m\n",
    "# =================================\n",
    "# apply algorithm and reduce resolution\n",
    "# generate 10 m map\n",
    "\n",
    "# filter collection and add ancillary bands\n",
    "input_collection_10m = ee.ImageCollection(COLLECTION_OPTIONS[colName][\"name\"]) \\\n",
    "                     .filterBounds(mapBounds) \\\n",
    "                     .filterDate(startDate, endDate) \\\n",
    "                     .filterMetadata(colOptions[\"Cloudcover\"],'less_than',maxCloudcover) \\\n",
    "                     .limit(5000) \\\n",
    "                     .map(lambda image: addDate(image)) \\\n",
    "                     .map(lambda image: image.clip(mapBounds)) \\\n",
    "                     .map(lambda image: s2MaskClear(image)) \\\n",
    "                     .map(lambda image: addS2Geometry(colOptions, image))\n",
    "print(input_collection_10m.size().getInfo())\n",
    "\n",
    "if outputName == \"Surface_Reflectance\":\n",
    "    export_collection_10m = input_collection_10m\n",
    "else:\n",
    "    # get partition used to select network\n",
    "    partition = (COLLECTION_OPTIONS[colName][\"partition\"]).filterBounds(mapBounds).mosaic().clip(mapBounds).rename('partition')\n",
    "    \n",
    "    # pre process input imagery and flag invalid inputs\n",
    "    input_collection_10m = input_collection_10m.map(lambda image: s2MaskLand(image)) \\\n",
    "                                       .map(lambda image: scaleBands(netOptions[\"inputBands\"],netOptions[\"inputScaling\"],image)) \\\n",
    "                                       .map(lambda image: invalidInput(COLLECTION_OPTIONS[colName][\"sl2pDomain\"],netOptions[\"inputBands\"],image))\n",
    "    \n",
    "    # apply networks to produce mapped parameters\n",
    "    estimateSL2P_10m = input_collection_10m.map(lambda image: wrapperNNets(SL2P, partition, netOptions, COLLECTION_OPTIONS[colName], \"estimate\", image))\n",
    "    uncertaintySL2P_10m = input_collection_10m.map(lambda image: wrapperNNets(errorsSL2P, partition, netOptions, COLLECTION_OPTIONS[colName], \"error\", image))\n",
    "    \n",
    "    # scale and offset mapped parameter bands\n",
    "    estimateSL2P_10m = estimateSL2P_10m.map(lambda image: image.addBands(image.select(\"estimate\"+outputName) \\\n",
    "                                                                 .multiply(ee.Image.constant(outputScale)) \\\n",
    "                                                                 .add(ee.Image.constant(outputOffset)), overwrite = True));\n",
    "    uncertaintySL2P_10m = uncertaintySL2P_10m.map(lambda image: image.addBands(image.select(\"error\"+outputName) \\\n",
    "                                                                       .multiply(ee.Image.constant(outputScale)) \\\n",
    "                                                                       .add(ee.Image.constant(outputOffset)),overwrite = True));\n",
    "    \n",
    "    \n",
    "    # produce final export collection\n",
    "    export_collection_10m = input_collection.select(['date','QC']).combine(estimateSL2P_10m).combine(uncertaintySL2P_10m)\n",
    "\n",
    "image_output_names_10m = ([name+\"_\"+outputName+\"_10m\" for name in export_collection_10m.toList(export_collection_10m.size()).map(lambda image: ee.Image(image).id()).getInfo()])\n",
    "\n",
    "displayImage(export_collection_10m.mosaic().select('estimate'+outputName),0+outputOffset,10*outputScale+outputOffset)"
   ]
  },
  {
   "cell_type": "code",
   "execution_count": 75,
   "metadata": {},
   "outputs": [
    {
     "data": {
      "text/html": [
       "<div>\n",
       "<style scoped>\n",
       "    .dataframe tbody tr th:only-of-type {\n",
       "        vertical-align: middle;\n",
       "    }\n",
       "\n",
       "    .dataframe tbody tr th {\n",
       "        vertical-align: top;\n",
       "    }\n",
       "\n",
       "    .dataframe thead th {\n",
       "        text-align: right;\n",
       "    }\n",
       "</style>\n",
       "<table border=\"1\" class=\"dataframe\">\n",
       "  <thead>\n",
       "    <tr style=\"text-align: right;\">\n",
       "      <th></th>\n",
       "      <th>estimateLAI</th>\n",
       "      <th>estimateLAI_10m</th>\n",
       "      <th>estimateLAI_20m</th>\n",
       "    </tr>\n",
       "  </thead>\n",
       "  <tbody>\n",
       "    <tr>\n",
       "      <th>0</th>\n",
       "      <td>3115.722734</td>\n",
       "      <td>5626.530885</td>\n",
       "      <td>5250.676558</td>\n",
       "    </tr>\n",
       "    <tr>\n",
       "      <th>1</th>\n",
       "      <td>1663.795974</td>\n",
       "      <td>2152.049680</td>\n",
       "      <td>1952.458769</td>\n",
       "    </tr>\n",
       "    <tr>\n",
       "      <th>2</th>\n",
       "      <td>2010.473280</td>\n",
       "      <td>1458.630710</td>\n",
       "      <td>1442.710978</td>\n",
       "    </tr>\n",
       "    <tr>\n",
       "      <th>3</th>\n",
       "      <td>3143.378260</td>\n",
       "      <td>5538.914088</td>\n",
       "      <td>5329.188635</td>\n",
       "    </tr>\n",
       "    <tr>\n",
       "      <th>4</th>\n",
       "      <td>2743.359496</td>\n",
       "      <td>5411.065390</td>\n",
       "      <td>5934.716284</td>\n",
       "    </tr>\n",
       "    <tr>\n",
       "      <th>...</th>\n",
       "      <td>...</td>\n",
       "      <td>...</td>\n",
       "      <td>...</td>\n",
       "    </tr>\n",
       "    <tr>\n",
       "      <th>4566</th>\n",
       "      <td>3309.249352</td>\n",
       "      <td>5341.008867</td>\n",
       "      <td>5127.287264</td>\n",
       "    </tr>\n",
       "    <tr>\n",
       "      <th>4567</th>\n",
       "      <td>1863.200069</td>\n",
       "      <td>3387.863326</td>\n",
       "      <td>2936.396216</td>\n",
       "    </tr>\n",
       "    <tr>\n",
       "      <th>4568</th>\n",
       "      <td>2485.681549</td>\n",
       "      <td>3107.528249</td>\n",
       "      <td>3435.221078</td>\n",
       "    </tr>\n",
       "    <tr>\n",
       "      <th>4569</th>\n",
       "      <td>909.156042</td>\n",
       "      <td>1486.163836</td>\n",
       "      <td>823.803159</td>\n",
       "    </tr>\n",
       "    <tr>\n",
       "      <th>4570</th>\n",
       "      <td>3445.656369</td>\n",
       "      <td>5704.678729</td>\n",
       "      <td>5733.789797</td>\n",
       "    </tr>\n",
       "  </tbody>\n",
       "</table>\n",
       "<p>4571 rows × 3 columns</p>\n",
       "</div>"
      ],
      "text/plain": [
       "      estimateLAI  estimateLAI_10m  estimateLAI_20m\n",
       "0     3115.722734      5626.530885      5250.676558\n",
       "1     1663.795974      2152.049680      1952.458769\n",
       "2     2010.473280      1458.630710      1442.710978\n",
       "3     3143.378260      5538.914088      5329.188635\n",
       "4     2743.359496      5411.065390      5934.716284\n",
       "...           ...              ...              ...\n",
       "4566  3309.249352      5341.008867      5127.287264\n",
       "4567  1863.200069      3387.863326      2936.396216\n",
       "4568  2485.681549      3107.528249      3435.221078\n",
       "4569   909.156042      1486.163836       823.803159\n",
       "4570  3445.656369      5704.678729      5733.789797\n",
       "\n",
       "[4571 rows x 3 columns]"
      ]
     },
     "execution_count": 75,
     "metadata": {},
     "output_type": "execute_result"
    }
   ],
   "source": [
    "# add all SL2P, SL2P10_10m, SL2P10_20m bands to a single image to get corresponding samples\n",
    "\n",
    "export_10m = export_collection_10m.first()\n",
    "export_20m = export_collection_20m.first()\n",
    "\n",
    "export_10m = export_10m.select('estimate'+outputName).rename('estimate'+outputName+'_10m')\n",
    "export_20m = export_20m.select('estimate'+outputName).rename('estimate'+outputName+'_20m')\n",
    "\n",
    "# get the first image in export_collection ; add all bands from corresponding image in export_collection_10m and export_collection_10m\n",
    "full_image = export_collection.first().addBands(export_10m).addBands(export_20m)\n",
    "\n",
    "# sample the composed image with SL2P10_10m and SL2P10_20m bands\n",
    "samples = full_image.select('estimate'+outputName, 'estimate'+outputName+'_10m', 'estimate'+outputName+'_20m').sample(numPixels=6000, projection=export_collection.first().select('estimate'+outputName)\\\n",
    "                                                             .projection(), scale=10).getInfo()\n",
    "\n",
    "list_length = len(samples['features'])\n",
    "estimate_list = []\n",
    "\n",
    "# populate an array with the estimate for SL2P, SL2P10_10m, SL2P10_20m\n",
    "for i in range(list_length):\n",
    "    temp_list = []\n",
    "    temp_list.append(samples['features'][i]['properties']['estimate'+outputName])\n",
    "    temp_list.append(samples['features'][i]['properties']['estimate'+outputName+'_10m'])\n",
    "    temp_list.append(samples['features'][i]['properties']['estimate'+outputName+'_20m'])\n",
    "    estimate_list.append(temp_list)\n",
    "\n",
    "estimate_array = pd.DataFrame(estimate_list).rename(columns={0:'estimate'+outputName, 1:'estimate'+outputName+'_10m', 2:'estimate'+outputName+'_20m'})\n",
    "estimate_array"
   ]
  },
  {
   "cell_type": "code",
   "execution_count": 80,
   "metadata": {},
   "outputs": [
    {
     "data": {
      "image/png": "[encoded data removed]",
      "text/plain": [
       "<Figure size 864x360 with 2 Axes>"
      ]
     },
     "metadata": {
      "needs_background": "light"
     },
     "output_type": "display_data"
    }
   ],
   "source": [
    "# plot density histogram of estimateLAI vs (a) estimateLAI_10m and (b) estimateLAI_20m\n",
    "\n",
    "sl2p = estimate_array['estimate'+outputName]\n",
    "sl2p10_10m = estimate_array['estimate'+outputName+'_10m']\n",
    "sl2p10_20m = estimate_array['estimate'+outputName+'_20m']\n",
    "\n",
    "# scipy.stats.gaussian_kde\n",
    "xy_10m = np.vstack([sl2p, sl2p10_10m])\n",
    "xy_20m = np.vstack([sl2p, sl2p10_20m])\n",
    "density_10m = scipy.stats.gaussian_kde(xy_10m)(xy_10m)\n",
    "density_20m = scipy.stats.gaussian_kde(xy_20m)(xy_20m)\n",
    "rmse_10m = sklearn.metrics.mean_squared_error(sl2p, sl2p10_10m, squared=False)\n",
    "rmse_20m = sklearn.metrics.mean_squared_error(sl2p, sl2p10_20m, squared=False)\n",
    "\n",
    "fig, ax = plt.subplots(1, 2, figsize=(12,5))\n",
    "\n",
    "x = np.linspace(0,8000)\n",
    "\n",
    "fig.suptitle('{}'.format('Estimated '+outputName))\n",
    "\n",
    "# SL2P vs. SL2P10_10m\n",
    "ax[0].scatter(sl2p, sl2p10_10m, c=density_10m)\n",
    "ax[0].set_xlabel('SL2P')\n",
    "ax[0].set_ylabel('SL2P10_10m')\n",
    "ax[0].plot(x, x, c='r')\n",
    "ax[0].title.set_text('SL2P vs. SL2P10_10m – RMSE={}'.format(rmse_10m))\n",
    "\n",
    "# SL2P vs. SL2P10_20m\n",
    "ax[1].scatter(sl2p, sl2p10_20m, c=density_20m)\n",
    "ax[1].set_xlabel('SL2P')\n",
    "ax[1].set_ylabel('SL2P10_20m')\n",
    "ax[1].plot(x, x, c='r')\n",
    "ax[1].title.set_text('SL2P vs. SL2P10_20m – RMSE={}'.format(rmse_20m))"
   ]
  },
  {
   "cell_type": "code",
   "execution_count": 63,
   "metadata": {},
   "outputs": [
    {
     "name": "stdout",
     "output_type": "stream",
     "text": [
      "20200801T155911_20200801T160644_T18TVQ_LAI\n",
      "20200801T155911_20200801T160644_T18TVR_LAI\n",
      "20200801T155911_20200801T160644_T18TVS_LAI\n",
      "20200801T155911_20200801T160644_T18TWQ_LAI\n",
      "20200801T155911_20200801T160644_T18TWR_LAI\n",
      "20200801T155911_20200801T160644_T18TVQ_LAI_20m\n",
      "20200801T155911_20200801T160644_T18TVR_LAI_20m\n",
      "20200801T155911_20200801T160644_T18TVS_LAI_20m\n",
      "20200801T155911_20200801T160644_T18TWQ_LAI_20m\n",
      "20200801T155911_20200801T160644_T18TWR_LAI_20m\n",
      "20200801T155911_20200801T160644_T18TVQ_LAI_10m\n",
      "20200801T155911_20200801T160644_T18TVR_LAI_10m\n",
      "20200801T155911_20200801T160644_T18TVS_LAI_10m\n",
      "20200801T155911_20200801T160644_T18TWQ_LAI_10m\n",
      "20200801T155911_20200801T160644_T18TWR_LAI_10m\n"
     ]
    }
   ],
   "source": [
    "# export tasks to google drive\n",
    "export_tasks = export_collection_to_drive(collection = export_collection, \n",
    "                                          num_images = export_collection.size().getInfo(), \n",
    "                                          image_names = image_output_names, \n",
    "                                          gdrive_folder = exportFolder, \n",
    "                                          scale = 20,\n",
    "                                          data_type = exportDatatype,\n",
    "                                          max_pixels = 1e13)\n",
    "\n",
    "export_tasks_20m = export_collection_to_drive(collection = export_collection_20m, \n",
    "                                          num_images = export_collection_20m.size().getInfo(), \n",
    "                                          image_names = image_output_names_20m, \n",
    "                                          gdrive_folder = exportFolder, \n",
    "                                          scale = 20,\n",
    "                                          data_type = exportDatatype,\n",
    "                                          max_pixels = 1e13)\n",
    "\n",
    "export_tasks_10m = export_collection_to_drive(collection = export_collection_10m, \n",
    "                                          num_images = export_collection_10m.size().getInfo(), \n",
    "                                          image_names = image_output_names_10m, \n",
    "                                          gdrive_folder = exportFolder, \n",
    "                                          scale = 20,\n",
    "                                          data_type = exportDatatype,\n",
    "                                          max_pixels = 1e13)"
   ]
  },
  {
   "cell_type": "code",
   "execution_count": 66,
   "metadata": {},
   "outputs": [
    {
     "name": "stdout",
     "output_type": "stream",
     "text": [
      "20200801T155911_20200801T160644_T18TVQ_LAI: COMPLETED\n",
      "20200801T155911_20200801T160644_T18TVR_LAI: COMPLETED\n",
      "20200801T155911_20200801T160644_T18TVS_LAI: COMPLETED\n",
      "20200801T155911_20200801T160644_T18TWQ_LAI: COMPLETED\n",
      "20200801T155911_20200801T160644_T18TWR_LAI: COMPLETED\n",
      "20200801T155911_20200801T160644_T18TVQ_LAI_20m: COMPLETED\n",
      "20200801T155911_20200801T160644_T18TVR_LAI_20m: COMPLETED\n",
      "20200801T155911_20200801T160644_T18TVS_LAI_20m: COMPLETED\n",
      "20200801T155911_20200801T160644_T18TWQ_LAI_20m: COMPLETED\n",
      "20200801T155911_20200801T160644_T18TWR_LAI_20m: COMPLETED\n",
      "20200801T155911_20200801T160644_T18TVQ_LAI_10m: COMPLETED\n",
      "20200801T155911_20200801T160644_T18TVR_LAI_10m: COMPLETED\n",
      "20200801T155911_20200801T160644_T18TVS_LAI_10m: COMPLETED\n",
      "20200801T155911_20200801T160644_T18TWQ_LAI_10m: COMPLETED\n",
      "20200801T155911_20200801T160644_T18TWR_LAI_10m: COMPLETED\n"
     ]
    }
   ],
   "source": [
    "check_ee_tasks(export_tasks)\n",
    "check_ee_tasks(export_tasks_20m)\n",
    "check_ee_tasks(export_tasks_10m)"
   ]
  },
  {
   "cell_type": "code",
   "execution_count": 144,
   "metadata": {},
   "outputs": [
    {
     "name": "stdout",
     "output_type": "stream",
     "text": [
      "{'type': 'Projection', 'crs': 'EPSG:32618', 'transform': [20, 0, 399960, 0, -20, 5000040]}\n"
     ]
    },
    {
     "data": {
      "text/html": [
       "<div style=\"width:100%;\"><div style=\"position:relative;width:100%;height:0;padding-bottom:60%;\"><span style=\"color:#565656\">Make this Notebook Trusted to load map: File -> Trust Notebook</span><iframe src=\"about:blank\" style=\"position:absolute;width:100%;height:100%;left:0;top:0;border:none !important;\" data-html=%3C%21DOCTYPE%20html%3E%0A%3Chead%3E%20%20%20%20%0A%20%20%20%20%3Cmeta%20http-equiv%3D%22content-type%22%20content%3D%22text/html%3B%20charset%3DUTF-8%22%20/%3E%0A%20%20%20%20%0A%20%20%20%20%20%20%20%20%3Cscript%3E%0A%20%20%20%20%20%20%20%20%20%20%20%20L_NO_TOUCH%20%3D%20false%3B%0A%20%20%20%20%20%20%20%20%20%20%20%20L_DISABLE_3D%20%3D%20false%3B%0A%20%20%20%20%20%20%20%20%3C/script%3E%0A%20%20%20%20%0A%20%20%20%20%3Cstyle%3Ehtml%2C%20body%20%7Bwidth%3A%20100%25%3Bheight%3A%20100%25%3Bmargin%3A%200%3Bpadding%3A%200%3B%7D%3C/style%3E%0A%20%20%20%20%3Cstyle%3E%23map%20%7Bposition%3Aabsolute%3Btop%3A0%3Bbottom%3A0%3Bright%3A0%3Bleft%3A0%3B%7D%3C/style%3E%0A%20%20%20%20%3Cscript%20src%3D%22https%3A//cdn.jsdelivr.net/npm/leaflet%401.6.0/dist/leaflet.js%22%3E%3C/script%3E%0A%20%20%20%20%3Cscript%20src%3D%22https%3A//code.jquery.com/jquery-1.12.4.min.js%22%3E%3C/script%3E%0A%20%20%20%20%3Cscript%20src%3D%22https%3A//maxcdn.bootstrapcdn.com/bootstrap/3.2.0/js/bootstrap.min.js%22%3E%3C/script%3E%0A%20%20%20%20%3Cscript%20src%3D%22https%3A//cdnjs.cloudflare.com/ajax/libs/Leaflet.awesome-markers/2.0.2/leaflet.awesome-markers.js%22%3E%3C/script%3E%0A%20%20%20%20%3Clink%20rel%3D%22stylesheet%22%20href%3D%22https%3A//cdn.jsdelivr.net/npm/leaflet%401.6.0/dist/leaflet.css%22/%3E%0A%20%20%20%20%3Clink%20rel%3D%22stylesheet%22%20href%3D%22https%3A//maxcdn.bootstrapcdn.com/bootstrap/3.2.0/css/bootstrap.min.css%22/%3E%0A%20%20%20%20%3Clink%20rel%3D%22stylesheet%22%20href%3D%22https%3A//maxcdn.bootstrapcdn.com/bootstrap/3.2.0/css/bootstrap-theme.min.css%22/%3E%0A%20%20%20%20%3Clink%20rel%3D%22stylesheet%22%20href%3D%22https%3A//maxcdn.bootstrapcdn.com/font-awesome/4.6.3/css/font-awesome.min.css%22/%3E%0A%20%20%20%20%3Clink%20rel%3D%22stylesheet%22%20href%3D%22https%3A//cdnjs.cloudflare.com/ajax/libs/Leaflet.awesome-markers/2.0.2/leaflet.awesome-markers.css%22/%3E%0A%20%20%20%20%3Clink%20rel%3D%22stylesheet%22%20href%3D%22https%3A//cdn.jsdelivr.net/gh/python-visualization/folium/folium/templates/leaflet.awesome.rotate.min.css%22/%3E%0A%20%20%20%20%0A%20%20%20%20%20%20%20%20%20%20%20%20%3Cmeta%20name%3D%22viewport%22%20content%3D%22width%3Ddevice-width%2C%0A%20%20%20%20%20%20%20%20%20%20%20%20%20%20%20%20initial-scale%3D1.0%2C%20maximum-scale%3D1.0%2C%20user-scalable%3Dno%22%20/%3E%0A%20%20%20%20%20%20%20%20%20%20%20%20%3Cstyle%3E%0A%20%20%20%20%20%20%20%20%20%20%20%20%20%20%20%20%23map_014ad7be54724130ab35caed427c90c7%20%7B%0A%20%20%20%20%20%20%20%20%20%20%20%20%20%20%20%20%20%20%20%20position%3A%20absolute%3B%0A%20%20%20%20%20%20%20%20%20%20%20%20%20%20%20%20%20%20%20%20width%3A%2050.0%25%3B%0A%20%20%20%20%20%20%20%20%20%20%20%20%20%20%20%20%20%20%20%20height%3A%20100.0%25%3B%0A%20%20%20%20%20%20%20%20%20%20%20%20%20%20%20%20%20%20%20%20left%3A%200.0%25%3B%0A%20%20%20%20%20%20%20%20%20%20%20%20%20%20%20%20%20%20%20%20top%3A%200.0%25%3B%0A%20%20%20%20%20%20%20%20%20%20%20%20%20%20%20%20%7D%0A%20%20%20%20%20%20%20%20%20%20%20%20%3C/style%3E%0A%20%20%20%20%20%20%20%20%0A%20%20%20%20%0A%20%20%20%20%20%20%20%20%20%20%20%20%3Cmeta%20name%3D%22viewport%22%20content%3D%22width%3Ddevice-width%2C%0A%20%20%20%20%20%20%20%20%20%20%20%20%20%20%20%20initial-scale%3D1.0%2C%20maximum-scale%3D1.0%2C%20user-scalable%3Dno%22%20/%3E%0A%20%20%20%20%20%20%20%20%20%20%20%20%3Cstyle%3E%0A%20%20%20%20%20%20%20%20%20%20%20%20%20%20%20%20%23map_c5934acca9e847458fc465aadd8451a8%20%7B%0A%20%20%20%20%20%20%20%20%20%20%20%20%20%20%20%20%20%20%20%20position%3A%20absolute%3B%0A%20%20%20%20%20%20%20%20%20%20%20%20%20%20%20%20%20%20%20%20width%3A%2050.0%25%3B%0A%20%20%20%20%20%20%20%20%20%20%20%20%20%20%20%20%20%20%20%20height%3A%20100.0%25%3B%0A%20%20%20%20%20%20%20%20%20%20%20%20%20%20%20%20%20%20%20%20left%3A%2050.0%25%3B%0A%20%20%20%20%20%20%20%20%20%20%20%20%20%20%20%20%20%20%20%20top%3A%200.0%25%3B%0A%20%20%20%20%20%20%20%20%20%20%20%20%20%20%20%20%7D%0A%20%20%20%20%20%20%20%20%20%20%20%20%3C/style%3E%0A%20%20%20%20%20%20%20%20%0A%20%20%20%20%3Cscript%20src%3D%22https%3A//cdn.jsdelivr.net/gh/jieter/Leaflet.Sync/L.Map.Sync.min.js%22%3E%3C/script%3E%0A%3C/head%3E%0A%3Cbody%3E%20%20%20%20%0A%20%20%20%20%0A%20%20%20%20%20%20%20%20%20%20%20%20%3Cdiv%20class%3D%22folium-map%22%20id%3D%22map_014ad7be54724130ab35caed427c90c7%22%20%3E%3C/div%3E%0A%20%20%20%20%20%20%20%20%0A%20%20%20%20%0A%20%20%20%20%20%20%20%20%20%20%20%20%3Cdiv%20class%3D%22folium-map%22%20id%3D%22map_c5934acca9e847458fc465aadd8451a8%22%20%3E%3C/div%3E%0A%20%20%20%20%20%20%20%20%0A%3C/body%3E%0A%3Cscript%3E%20%20%20%20%0A%20%20%20%20%0A%20%20%20%20%20%20%20%20%20%20%20%20var%20map_014ad7be54724130ab35caed427c90c7%20%3D%20L.map%28%0A%20%20%20%20%20%20%20%20%20%20%20%20%20%20%20%20%22map_014ad7be54724130ab35caed427c90c7%22%2C%0A%20%20%20%20%20%20%20%20%20%20%20%20%20%20%20%20%7B%0A%20%20%20%20%20%20%20%20%20%20%20%20%20%20%20%20%20%20%20%20center%3A%20%5B45.0%2C%20-75.0%5D%2C%0A%20%20%20%20%20%20%20%20%20%20%20%20%20%20%20%20%20%20%20%20crs%3A%20L.CRS.EPSG3857%2C%0A%20%20%20%20%20%20%20%20%20%20%20%20%20%20%20%20%20%20%20%20zoom%3A%209%2C%0A%20%20%20%20%20%20%20%20%20%20%20%20%20%20%20%20%20%20%20%20zoomControl%3A%20true%2C%0A%20%20%20%20%20%20%20%20%20%20%20%20%20%20%20%20%20%20%20%20preferCanvas%3A%20false%2C%0A%20%20%20%20%20%20%20%20%20%20%20%20%20%20%20%20%7D%0A%20%20%20%20%20%20%20%20%20%20%20%20%29%3B%0A%0A%20%20%20%20%20%20%20%20%20%20%20%20%0A%0A%20%20%20%20%20%20%20%20%0A%20%20%20%20%0A%20%20%20%20%20%20%20%20%20%20%20%20var%20tile_layer_47283c53580f4a9bba73f3d77bac429f%20%3D%20L.tileLayer%28%0A%20%20%20%20%20%20%20%20%20%20%20%20%20%20%20%20%22https%3A//%7Bs%7D.tile.openstreetmap.org/%7Bz%7D/%7Bx%7D/%7By%7D.png%22%2C%0A%20%20%20%20%20%20%20%20%20%20%20%20%20%20%20%20%7B%22attribution%22%3A%20%22Data%20by%20%5Cu0026copy%3B%20%5Cu003ca%20href%3D%5C%22http%3A//openstreetmap.org%5C%22%5Cu003eOpenStreetMap%5Cu003c/a%5Cu003e%2C%20under%20%5Cu003ca%20href%3D%5C%22http%3A//www.openstreetmap.org/copyright%5C%22%5Cu003eODbL%5Cu003c/a%5Cu003e.%22%2C%20%22detectRetina%22%3A%20false%2C%20%22maxNativeZoom%22%3A%2018%2C%20%22maxZoom%22%3A%2018%2C%20%22minZoom%22%3A%200%2C%20%22noWrap%22%3A%20false%2C%20%22opacity%22%3A%201%2C%20%22subdomains%22%3A%20%22abc%22%2C%20%22tms%22%3A%20false%7D%0A%20%20%20%20%20%20%20%20%20%20%20%20%29.addTo%28map_014ad7be54724130ab35caed427c90c7%29%3B%0A%20%20%20%20%20%20%20%20%0A%20%20%20%20%0A%20%20%20%20%20%20%20%20%20%20%20%20var%20tile_layer_86e6f1c1491b4410bbbdbece0f7f9638%20%3D%20L.tileLayer%28%0A%20%20%20%20%20%20%20%20%20%20%20%20%20%20%20%20%22https%3A//earthengine.googleapis.com/v1alpha/projects/earthengine-legacy/maps/72196fe9baff70cd04136a22c0c7afe1-9243b442862d559fdd8c9b049acefe03/tiles/%7Bz%7D/%7Bx%7D/%7By%7D%22%2C%0A%20%20%20%20%20%20%20%20%20%20%20%20%20%20%20%20%7B%22attribution%22%3A%20%22Google%20Earth%20Engine%22%2C%20%22detectRetina%22%3A%20false%2C%20%22maxNativeZoom%22%3A%2018%2C%20%22maxZoom%22%3A%2018%2C%20%22minZoom%22%3A%200%2C%20%22noWrap%22%3A%20false%2C%20%22opacity%22%3A%201%2C%20%22subdomains%22%3A%20%22abc%22%2C%20%22tms%22%3A%20false%7D%0A%20%20%20%20%20%20%20%20%20%20%20%20%29.addTo%28map_014ad7be54724130ab35caed427c90c7%29%3B%0A%20%20%20%20%20%20%20%20%0A%20%20%20%20%0A%20%20%20%20%20%20%20%20%20%20%20%20var%20tile_layer_f0a8f1aae9ff4259bfe3cbe7c03500a0%20%3D%20L.tileLayer%28%0A%20%20%20%20%20%20%20%20%20%20%20%20%20%20%20%20%22https%3A//earthengine.googleapis.com/v1alpha/projects/earthengine-legacy/maps/4982246603610068fc1111a812cd57ac-ac1ad70c3983021997364482368c68e7/tiles/%7Bz%7D/%7Bx%7D/%7By%7D%22%2C%0A%20%20%20%20%20%20%20%20%20%20%20%20%20%20%20%20%7B%22attribution%22%3A%20%22Google%20Earth%20Engine%22%2C%20%22detectRetina%22%3A%20false%2C%20%22maxNativeZoom%22%3A%2018%2C%20%22maxZoom%22%3A%2018%2C%20%22minZoom%22%3A%200%2C%20%22noWrap%22%3A%20false%2C%20%22opacity%22%3A%201%2C%20%22subdomains%22%3A%20%22abc%22%2C%20%22tms%22%3A%20false%7D%0A%20%20%20%20%20%20%20%20%20%20%20%20%29.addTo%28map_014ad7be54724130ab35caed427c90c7%29%3B%0A%20%20%20%20%20%20%20%20%0A%20%20%20%20%0A%20%20%20%20%20%20%20%20%20%20%20%20var%20tile_layer_ec9073740e094dd69d34ccfcad1c93e1%20%3D%20L.tileLayer%28%0A%20%20%20%20%20%20%20%20%20%20%20%20%20%20%20%20%22https%3A//earthengine.googleapis.com/v1alpha/projects/earthengine-legacy/maps/58b3584c5db1f687687662c4b8c5d0c0-0a405ff750fcdc373efdbaadf824c8b5/tiles/%7Bz%7D/%7Bx%7D/%7By%7D%22%2C%0A%20%20%20%20%20%20%20%20%20%20%20%20%20%20%20%20%7B%22attribution%22%3A%20%22Google%20Earth%20Engine%22%2C%20%22detectRetina%22%3A%20false%2C%20%22maxNativeZoom%22%3A%2018%2C%20%22maxZoom%22%3A%2018%2C%20%22minZoom%22%3A%200%2C%20%22noWrap%22%3A%20false%2C%20%22opacity%22%3A%201%2C%20%22subdomains%22%3A%20%22abc%22%2C%20%22tms%22%3A%20false%7D%0A%20%20%20%20%20%20%20%20%20%20%20%20%29.addTo%28map_014ad7be54724130ab35caed427c90c7%29%3B%0A%20%20%20%20%20%20%20%20%0A%20%20%20%20%0A%20%20%20%20%20%20%20%20%20%20%20%20var%20tile_layer_7c7c33fb94e143f4af9b418844d2932b%20%3D%20L.tileLayer%28%0A%20%20%20%20%20%20%20%20%20%20%20%20%20%20%20%20%22https%3A//earthengine.googleapis.com/v1alpha/projects/earthengine-legacy/maps/0d514ef6c115e581c77477c008e80378-bd401d78947ca890b2ba0be5980ea05d/tiles/%7Bz%7D/%7Bx%7D/%7By%7D%22%2C%0A%20%20%20%20%20%20%20%20%20%20%20%20%20%20%20%20%7B%22attribution%22%3A%20%22Google%20Earth%20Engine%22%2C%20%22detectRetina%22%3A%20false%2C%20%22maxNativeZoom%22%3A%2018%2C%20%22maxZoom%22%3A%2018%2C%20%22minZoom%22%3A%200%2C%20%22noWrap%22%3A%20false%2C%20%22opacity%22%3A%201%2C%20%22subdomains%22%3A%20%22abc%22%2C%20%22tms%22%3A%20false%7D%0A%20%20%20%20%20%20%20%20%20%20%20%20%29.addTo%28map_014ad7be54724130ab35caed427c90c7%29%3B%0A%20%20%20%20%20%20%20%20%0A%20%20%20%20%0A%20%20%20%20%20%20%20%20%20%20%20%20var%20tile_layer_fc0371acb2814fd6897eab8d6d4c726f%20%3D%20L.tileLayer%28%0A%20%20%20%20%20%20%20%20%20%20%20%20%20%20%20%20%22https%3A//earthengine.googleapis.com/v1alpha/projects/earthengine-legacy/maps/af4497fb16ac5b154540007c42fb3751-f17e0035080cf031253378cf98827a1d/tiles/%7Bz%7D/%7Bx%7D/%7By%7D%22%2C%0A%20%20%20%20%20%20%20%20%20%20%20%20%20%20%20%20%7B%22attribution%22%3A%20%22Google%20Earth%20Engine%22%2C%20%22detectRetina%22%3A%20false%2C%20%22maxNativeZoom%22%3A%2018%2C%20%22maxZoom%22%3A%2018%2C%20%22minZoom%22%3A%200%2C%20%22noWrap%22%3A%20false%2C%20%22opacity%22%3A%201%2C%20%22subdomains%22%3A%20%22abc%22%2C%20%22tms%22%3A%20false%7D%0A%20%20%20%20%20%20%20%20%20%20%20%20%29.addTo%28map_014ad7be54724130ab35caed427c90c7%29%3B%0A%20%20%20%20%20%20%20%20%0A%20%20%20%20%0A%20%20%20%20%20%20%20%20%20%20%20%20var%20map_c5934acca9e847458fc465aadd8451a8%20%3D%20L.map%28%0A%20%20%20%20%20%20%20%20%20%20%20%20%20%20%20%20%22map_c5934acca9e847458fc465aadd8451a8%22%2C%0A%20%20%20%20%20%20%20%20%20%20%20%20%20%20%20%20%7B%0A%20%20%20%20%20%20%20%20%20%20%20%20%20%20%20%20%20%20%20%20center%3A%20%5B45.0%2C%20-75.0%5D%2C%0A%20%20%20%20%20%20%20%20%20%20%20%20%20%20%20%20%20%20%20%20crs%3A%20L.CRS.EPSG3857%2C%0A%20%20%20%20%20%20%20%20%20%20%20%20%20%20%20%20%20%20%20%20zoom%3A%209%2C%0A%20%20%20%20%20%20%20%20%20%20%20%20%20%20%20%20%20%20%20%20zoomControl%3A%20true%2C%0A%20%20%20%20%20%20%20%20%20%20%20%20%20%20%20%20%20%20%20%20preferCanvas%3A%20false%2C%0A%20%20%20%20%20%20%20%20%20%20%20%20%20%20%20%20%7D%0A%20%20%20%20%20%20%20%20%20%20%20%20%29%3B%0A%0A%20%20%20%20%20%20%20%20%20%20%20%20%0A%0A%20%20%20%20%20%20%20%20%0A%20%20%20%20%0A%20%20%20%20%20%20%20%20%20%20%20%20var%20tile_layer_b279845084da4bf48098338d966d273a%20%3D%20L.tileLayer%28%0A%20%20%20%20%20%20%20%20%20%20%20%20%20%20%20%20%22https%3A//%7Bs%7D.tile.openstreetmap.org/%7Bz%7D/%7Bx%7D/%7By%7D.png%22%2C%0A%20%20%20%20%20%20%20%20%20%20%20%20%20%20%20%20%7B%22attribution%22%3A%20%22Data%20by%20%5Cu0026copy%3B%20%5Cu003ca%20href%3D%5C%22http%3A//openstreetmap.org%5C%22%5Cu003eOpenStreetMap%5Cu003c/a%5Cu003e%2C%20under%20%5Cu003ca%20href%3D%5C%22http%3A//www.openstreetmap.org/copyright%5C%22%5Cu003eODbL%5Cu003c/a%5Cu003e.%22%2C%20%22detectRetina%22%3A%20false%2C%20%22maxNativeZoom%22%3A%2018%2C%20%22maxZoom%22%3A%2018%2C%20%22minZoom%22%3A%200%2C%20%22noWrap%22%3A%20false%2C%20%22opacity%22%3A%201%2C%20%22subdomains%22%3A%20%22abc%22%2C%20%22tms%22%3A%20false%7D%0A%20%20%20%20%20%20%20%20%20%20%20%20%29.addTo%28map_c5934acca9e847458fc465aadd8451a8%29%3B%0A%20%20%20%20%20%20%20%20%0A%20%20%20%20%0A%20%20%20%20%20%20%20%20%20%20%20%20var%20tile_layer_33fdc0e27c554fe99aaea239142ccc65%20%3D%20L.tileLayer%28%0A%20%20%20%20%20%20%20%20%20%20%20%20%20%20%20%20%22https%3A//earthengine.googleapis.com/v1alpha/projects/earthengine-legacy/maps/76118c2aab28ddf1bf4558940a921d21-9107bffb3c212e42da0eb78156efd5b7/tiles/%7Bz%7D/%7Bx%7D/%7By%7D%22%2C%0A%20%20%20%20%20%20%20%20%20%20%20%20%20%20%20%20%7B%22attribution%22%3A%20%22Google%20Earth%20Engine%22%2C%20%22detectRetina%22%3A%20false%2C%20%22maxNativeZoom%22%3A%2018%2C%20%22maxZoom%22%3A%2018%2C%20%22minZoom%22%3A%200%2C%20%22noWrap%22%3A%20false%2C%20%22opacity%22%3A%201%2C%20%22subdomains%22%3A%20%22abc%22%2C%20%22tms%22%3A%20false%7D%0A%20%20%20%20%20%20%20%20%20%20%20%20%29.addTo%28map_c5934acca9e847458fc465aadd8451a8%29%3B%0A%20%20%20%20%20%20%20%20%0A%20%20%20%20%0A%20%20%20%20%20%20%20%20%20%20%20%20var%20tile_layer_d72c964f29da4f61935193769db2aa91%20%3D%20L.tileLayer%28%0A%20%20%20%20%20%20%20%20%20%20%20%20%20%20%20%20%22https%3A//earthengine.googleapis.com/v1alpha/projects/earthengine-legacy/maps/72917a72cfbd4afee91901bda57069cb-8caef88eda355e440d97d1cd912581a1/tiles/%7Bz%7D/%7Bx%7D/%7By%7D%22%2C%0A%20%20%20%20%20%20%20%20%20%20%20%20%20%20%20%20%7B%22attribution%22%3A%20%22Google%20Earth%20Engine%22%2C%20%22detectRetina%22%3A%20false%2C%20%22maxNativeZoom%22%3A%2018%2C%20%22maxZoom%22%3A%2018%2C%20%22minZoom%22%3A%200%2C%20%22noWrap%22%3A%20false%2C%20%22opacity%22%3A%201%2C%20%22subdomains%22%3A%20%22abc%22%2C%20%22tms%22%3A%20false%7D%0A%20%20%20%20%20%20%20%20%20%20%20%20%29.addTo%28map_c5934acca9e847458fc465aadd8451a8%29%3B%0A%20%20%20%20%20%20%20%20%0A%20%20%20%20%0A%20%20%20%20%20%20%20%20%20%20%20%20var%20tile_layer_a69d9f0fc9f24e7b9dc6b10460bc032d%20%3D%20L.tileLayer%28%0A%20%20%20%20%20%20%20%20%20%20%20%20%20%20%20%20%22https%3A//earthengine.googleapis.com/v1alpha/projects/earthengine-legacy/maps/f49bd30a4229f135c067565b6a9a8c81-9e448af4cbe2dcd8a3eaffe12e33566f/tiles/%7Bz%7D/%7Bx%7D/%7By%7D%22%2C%0A%20%20%20%20%20%20%20%20%20%20%20%20%20%20%20%20%7B%22attribution%22%3A%20%22Google%20Earth%20Engine%22%2C%20%22detectRetina%22%3A%20false%2C%20%22maxNativeZoom%22%3A%2018%2C%20%22maxZoom%22%3A%2018%2C%20%22minZoom%22%3A%200%2C%20%22noWrap%22%3A%20false%2C%20%22opacity%22%3A%201%2C%20%22subdomains%22%3A%20%22abc%22%2C%20%22tms%22%3A%20false%7D%0A%20%20%20%20%20%20%20%20%20%20%20%20%29.addTo%28map_c5934acca9e847458fc465aadd8451a8%29%3B%0A%20%20%20%20%20%20%20%20%0A%20%20%20%20%0A%20%20%20%20%20%20%20%20%20%20%20%20var%20tile_layer_f3a317d2af7e4693844fa88bde033200%20%3D%20L.tileLayer%28%0A%20%20%20%20%20%20%20%20%20%20%20%20%20%20%20%20%22https%3A//earthengine.googleapis.com/v1alpha/projects/earthengine-legacy/maps/ace90249fa4bdd847664081e78b8d2c7-90fa93fa941a8cf36cc2837604b68160/tiles/%7Bz%7D/%7Bx%7D/%7By%7D%22%2C%0A%20%20%20%20%20%20%20%20%20%20%20%20%20%20%20%20%7B%22attribution%22%3A%20%22Google%20Earth%20Engine%22%2C%20%22detectRetina%22%3A%20false%2C%20%22maxNativeZoom%22%3A%2018%2C%20%22maxZoom%22%3A%2018%2C%20%22minZoom%22%3A%200%2C%20%22noWrap%22%3A%20false%2C%20%22opacity%22%3A%201%2C%20%22subdomains%22%3A%20%22abc%22%2C%20%22tms%22%3A%20false%7D%0A%20%20%20%20%20%20%20%20%20%20%20%20%29.addTo%28map_c5934acca9e847458fc465aadd8451a8%29%3B%0A%20%20%20%20%20%20%20%20%0A%20%20%20%20%0A%20%20%20%20%20%20%20%20%20%20%20%20var%20tile_layer_ecdb67d56b0847938f41adc593c4cc5b%20%3D%20L.tileLayer%28%0A%20%20%20%20%20%20%20%20%20%20%20%20%20%20%20%20%22https%3A//earthengine.googleapis.com/v1alpha/projects/earthengine-legacy/maps/db4f04e9a728e6a9ae6783bb8b33031c-7de009418f38b47a70e4b63e95867b0b/tiles/%7Bz%7D/%7Bx%7D/%7By%7D%22%2C%0A%20%20%20%20%20%20%20%20%20%20%20%20%20%20%20%20%7B%22attribution%22%3A%20%22Google%20Earth%20Engine%22%2C%20%22detectRetina%22%3A%20false%2C%20%22maxNativeZoom%22%3A%2018%2C%20%22maxZoom%22%3A%2018%2C%20%22minZoom%22%3A%200%2C%20%22noWrap%22%3A%20false%2C%20%22opacity%22%3A%201%2C%20%22subdomains%22%3A%20%22abc%22%2C%20%22tms%22%3A%20false%7D%0A%20%20%20%20%20%20%20%20%20%20%20%20%29.addTo%28map_c5934acca9e847458fc465aadd8451a8%29%3B%0A%20%20%20%20%20%20%20%20%0A%20%20%20%20%0A%20%20%20%20%20%20%20%20%20%20%20%20map_014ad7be54724130ab35caed427c90c7.sync%28map_c5934acca9e847458fc465aadd8451a8%29%3B%0A%20%20%20%20%20%20%20%20%20%20%20%20map_c5934acca9e847458fc465aadd8451a8.sync%28map_014ad7be54724130ab35caed427c90c7%29%3B%0A%20%20%20%20%20%20%20%20%0A%3C/script%3E onload=\"this.contentDocument.open();this.contentDocument.write(    decodeURIComponent(this.getAttribute('data-html')));this.contentDocument.close();\" allowfullscreen webkitallowfullscreen mozallowfullscreen></iframe></div></div>"
      ],
      "text/plain": [
       "<folium.plugins.dual_map.DualMap at 0x1476800a0>"
      ]
     },
     "metadata": {},
     "output_type": "display_data"
    }
   ],
   "source": [
    "# create resampled map at 20 m resolution\n",
    "\n",
    "# define image visualization parameters\n",
    "image_viz_params = {\n",
    "    'bands': ['B3', 'B4', 'B5'],\n",
    "    'min': 0,\n",
    "    'max': 0.5,\n",
    "    'gamma': [0.95, 1.1, 1]\n",
    "}\n",
    "\n",
    "# create a map visualization to add images to\n",
    "m = folium.plugins.DualMap(location = [45, -75], zoom_start = 9)\n",
    "    \n",
    "# load an image\n",
    "image = ee.Image(input_collection.toList(input_collection.size()).get(0))\n",
    "\n",
    "\n",
    "# set a default projection to 20 m resolution using B11\n",
    "imageProjection = ee.Image(input_collection.toList(input_collection.size()).get(0)).select(10)\n",
    "defaultProjection = imageProjection.projection().getInfo()\n",
    "print(defaultProjection)\n",
    "crs = defaultProjection['crs']\n",
    "transform = defaultProjection['transform']\n",
    "\n",
    "\n",
    "# generate map of original images from input_collection\n",
    "for i in range(input_collection.size().getInfo()):\n",
    "    image = ee.Image(input_collection.toList(input_collection.size()).get(i))\n",
    "    m.m1.add_ee_layer(image, image_viz_params, 'original')\n",
    "\n",
    "\n",
    "# apply above projection to all images in input_collection\n",
    "for i in range(input_collection.size().getInfo()):\n",
    "    \n",
    "    # load a copy of the image and set projection using the above\n",
    "    resampled_image = ee.Image(input_collection.toList(input_collection.size()).get(i))\n",
    "    resampled_image = resampled_image.setDefaultProjection(crs, transform)    # sets all bands to 20 m resolution\n",
    "\n",
    "    # resample the image\n",
    "    resampled_image = resampled_image.reduceResolution(reducer = ee.Reducer.mean(), maxPixels = 2)\n",
    "\n",
    "    # add the image layer to the map and display it\n",
    "    m.m2.add_ee_layer(resampled_image, image_viz_params, 'resampled')\n",
    "\n",
    "    \n",
    "# display the original and reduced resolution maps side by side\n",
    "display(m)"
   ]
  },
  {
   "cell_type": "code",
   "execution_count": 139,
   "metadata": {},
   "outputs": [
    {
     "name": "stdout",
     "output_type": "stream",
     "text": [
      "{'type': 'FeatureCollection', 'columns': {}, 'properties': {'band_order': ['estimateLAI']}, 'features': [{'type': 'Feature', 'geometry': None, 'id': '0', 'properties': {'estimateLAI': 5626.530885023596}}, {'type': 'Feature', 'geometry': None, 'id': '2', 'properties': {'estimateLAI': 2674.2501712262065}}, {'type': 'Feature', 'geometry': None, 'id': '4', 'properties': {'estimateLAI': 1426.3913149368127}}, {'type': 'Feature', 'geometry': None, 'id': '6', 'properties': {'estimateLAI': 5538.914087997502}}, {'type': 'Feature', 'geometry': None, 'id': '7', 'properties': {'estimateLAI': 6187.78018271182}}, {'type': 'Feature', 'geometry': None, 'id': '8', 'properties': {'estimateLAI': 5207.612739248739}}, {'type': 'Feature', 'geometry': None, 'id': '9', 'properties': {'estimateLAI': 4918.3836104266675}}, {'type': 'Feature', 'geometry': None, 'id': '10', 'properties': {'estimateLAI': 4922.550813539857}}, {'type': 'Feature', 'geometry': None, 'id': '11', 'properties': {'estimateLAI': 4943.457074737136}}, {'type': 'Feature', 'geometry': None, 'id': '12', 'properties': {'estimateLAI': 1846.313755064286}}, {'type': 'Feature', 'geometry': None, 'id': '13', 'properties': {'estimateLAI': 4712.284087683788}}, {'type': 'Feature', 'geometry': None, 'id': '17', 'properties': {'estimateLAI': 5070.166244178434}}, {'type': 'Feature', 'geometry': None, 'id': '18', 'properties': {'estimateLAI': 4187.838235399119}}]}\n"
     ]
    },
    {
     "data": {
      "text/html": [
       "<div>\n",
       "<style scoped>\n",
       "    .dataframe tbody tr th:only-of-type {\n",
       "        vertical-align: middle;\n",
       "    }\n",
       "\n",
       "    .dataframe tbody tr th {\n",
       "        vertical-align: top;\n",
       "    }\n",
       "\n",
       "    .dataframe thead th {\n",
       "        text-align: right;\n",
       "    }\n",
       "</style>\n",
       "<table border=\"1\" class=\"dataframe\">\n",
       "  <thead>\n",
       "    <tr style=\"text-align: right;\">\n",
       "      <th></th>\n",
       "      <th>0</th>\n",
       "    </tr>\n",
       "  </thead>\n",
       "  <tbody>\n",
       "    <tr>\n",
       "      <th>0</th>\n",
       "      <td>5626.530885</td>\n",
       "    </tr>\n",
       "    <tr>\n",
       "      <th>1</th>\n",
       "      <td>2674.250171</td>\n",
       "    </tr>\n",
       "    <tr>\n",
       "      <th>2</th>\n",
       "      <td>1426.391315</td>\n",
       "    </tr>\n",
       "    <tr>\n",
       "      <th>3</th>\n",
       "      <td>5538.914088</td>\n",
       "    </tr>\n",
       "    <tr>\n",
       "      <th>4</th>\n",
       "      <td>6187.780183</td>\n",
       "    </tr>\n",
       "    <tr>\n",
       "      <th>5</th>\n",
       "      <td>5207.612739</td>\n",
       "    </tr>\n",
       "    <tr>\n",
       "      <th>6</th>\n",
       "      <td>4918.383610</td>\n",
       "    </tr>\n",
       "  </tbody>\n",
       "</table>\n",
       "</div>"
      ],
      "text/plain": [
       "             0\n",
       "0  5626.530885\n",
       "1  2674.250171\n",
       "2  1426.391315\n",
       "3  5538.914088\n",
       "4  6187.780183\n",
       "5  5207.612739\n",
       "6  4918.383610"
      ]
     },
     "execution_count": 139,
     "metadata": {},
     "output_type": "execute_result"
    }
   ],
   "source": [
    "# sample code, can delete later\n",
    "\n",
    "# select pixel values for estimateLAI from test image\n",
    "# randomly sample from test image\n",
    "\n",
    "test = export_collection_10m.aggregate_stats('estimateLAI')\n",
    "# print(test.getInfo())\n",
    "\n",
    "test_LAI = export_collection_10m.first().select('estimateLAI').sample(numPixels=10, projection=export_collection_10m.first().select('estimateLAI')\\\n",
    "                                                             .projection(), scale=20)\\\n",
    "                                                             .aggregate_array('estimateLAI')\\\n",
    "                                                             .getInfo()\n",
    "\n",
    "test_LAI_sample = export_collection_10m.first().select('estimateLAI').sample(numPixels=20, projection=export_collection_10m.first().select('estimateLAI')\\\n",
    "                                                             .projection(), scale=20)\\\n",
    "                                                             .getInfo()\n",
    "\n",
    "print(test_LAI_sample)\n",
    "\n",
    "# print(test_LAI_sample['features'][0]['properties']['estimateLAI'])\n",
    "\n",
    "test_pd_LAI = pd.DataFrame(test_LAI)\n",
    "test_pd_LAI\n",
    "\n",
    "\n",
    "'''\n",
    "vis_params = {\n",
    "  'min': 0,\n",
    "  'max': 4000,\n",
    "  'palette': ['006633', 'E5FFCC', '662A00', 'D8D8D8', 'F5F5F5']}\n",
    "\n",
    "print(export_collection.first().select('estimateLAI').sample(scale=100, numPixels=100).getInfo())\n",
    "\n",
    "# Create a folium map object.\n",
    "my_map = folium.Map(location=[20, 0], zoom_start=3, height=500)\n",
    "displayImage(export_collection.first().select('partition_1'),0,10)\n",
    "'''\n",
    "\n",
    "# print(export_collection.getInfo())"
   ]
  }
 ],
 "metadata": {
  "kernelspec": {
   "display_name": "Python 3 (ipykernel)",
   "language": "python",
   "name": "python3"
  },
  "language_info": {
   "codemirror_mode": {
    "name": "ipython",
    "version": 3
   },
   "file_extension": ".py",
   "mimetype": "text/x-python",
   "name": "python",
   "nbconvert_exporter": "python",
   "pygments_lexer": "ipython3",
   "version": "3.9.7"
  }
 },
 "nbformat": 4,
 "nbformat_minor": 4
}
