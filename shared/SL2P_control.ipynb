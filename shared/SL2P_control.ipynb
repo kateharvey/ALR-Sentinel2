{
 "cells": [
  {
   "cell_type": "code",
   "execution_count": null,
   "metadata": {
    "tags": []
   },
   "outputs": [],
   "source": [
    "# LEAFToolbox-SL2P\n",
    "#\n",
    "# Applies the LEAF-ToolBox-SL2P to process input images on Googe Earth Engine\n",
    "# AND exports to google drive.\n",
    "# \n",
    "# Note: This is an exact copy of LEAF-ToolBox-SL2P for image by image products\n",
    "# as implemented on February 10, 2021 16:00 EST\n",
    "# https://code.earthengine.google.com/fd6bddb89803bd8ea45fdcad051f75cc\n",
    "#\n",
    "# You will need a Google Earth Engine Account linked to a Google Account with sufficient\n",
    "# disk space for the output.\n",
    "#\n",
    "# Refer to https://github.com/rfernand387/LEAF-Toolbox/tree/master/Source-Python \n",
    "# for configuration of anaconda environment."
   ]
  },
  {
   "cell_type": "code",
   "execution_count": null,
   "metadata": {},
   "outputs": [],
   "source": [
    "# The purpose of this notebook is to compare the SL2P algorithm with two versions of SL2P10\n",
    "    # (a) SL2P10_20m – resampling 10 m bands to 20 m, then applying the algorithm\n",
    "    # (b) SL2P10_10m – using 10 m bands as input and resampling the values afterwards\n",
    "\n",
    "### IMPORTANT ### : run block [54] to select the 10 m data set BEFORE running block [55] and/or [56]\n",
    "\n",
    "# Block [53] contains the original SL2P, and blocks [55] and [56] perform SL2P10_20m and SL2P10_10m, respectively\n",
    "# Histograms comparing the results of both SL2P10 versions can be found in block [59]\n",
    "\n",
    "# See LEAFToolbox-SL2P.ipynb to run original SL2P"
   ]
  },
  {
   "cell_type": "code",
   "execution_count": 1,
   "metadata": {},
   "outputs": [],
   "source": [
    "import ee\n",
    "import geetools\n",
    "import folium ; from folium import plugins\n",
    "import time\n",
    "import numpy as np\n",
    "import pandas as pd\n",
    "import matplotlib.pyplot as plt\n",
    "import scipy ; from scipy import stats\n",
    "import sklearn ; from sklearn import linear_model"
   ]
  },
  {
   "cell_type": "code",
   "execution_count": 2,
   "metadata": {
    "tags": []
   },
   "outputs": [
    {
     "data": {
      "text/html": [
       "<p>To authorize access needed by Earth Engine, open the following\n",
       "        URL in a web browser and follow the instructions:</p>\n",
       "        <p><a href=https://accounts.google.com/o/oauth2/auth?client_id=517222506229-vsmmajv00ul0bs7p89v5m89qs8eb9359.apps.googleusercontent.com&scope=https%3A%2F%2Fwww.googleapis.com%2Fauth%2Fearthengine+https%3A%2F%2Fwww.googleapis.com%2Fauth%2Fdevstorage.full_control&redirect_uri=urn%3Aietf%3Awg%3Aoauth%3A2.0%3Aoob&response_type=code&code_challenge=P2h7mqTn1kqol9ObrE7hZ2swZK2CwCCyrg-c9Qff0lE&code_challenge_method=S256>https://accounts.google.com/o/oauth2/auth?client_id=517222506229-vsmmajv00ul0bs7p89v5m89qs8eb9359.apps.googleusercontent.com&scope=https%3A%2F%2Fwww.googleapis.com%2Fauth%2Fearthengine+https%3A%2F%2Fwww.googleapis.com%2Fauth%2Fdevstorage.full_control&redirect_uri=urn%3Aietf%3Awg%3Aoauth%3A2.0%3Aoob&response_type=code&code_challenge=P2h7mqTn1kqol9ObrE7hZ2swZK2CwCCyrg-c9Qff0lE&code_challenge_method=S256</a></p>\n",
       "        <p>The authorization workflow will generate a code, which you\n",
       "        should paste in the box below</p>\n",
       "        "
      ],
      "text/plain": [
       "<IPython.core.display.HTML object>"
      ]
     },
     "metadata": {},
     "output_type": "display_data"
    },
    {
     "name": "stdin",
     "output_type": "stream",
     "text": [
      "Enter verification code:  4/1AX4XfWjz0N2nTLHYIvIwekPOk6zJ8VdgHpRxK5r0h04IZVmukHUK6PrEzh8\n"
     ]
    },
    {
     "name": "stdout",
     "output_type": "stream",
     "text": [
      "\n",
      "Successfully saved authorization token.\n"
     ]
    }
   ],
   "source": [
    "ee.Authenticate()"
   ]
  },
  {
   "cell_type": "code",
   "execution_count": 3,
   "metadata": {
    "tags": []
   },
   "outputs": [],
   "source": [
    "# Authorizes the script with Earth Engine using the credentials.json file. Ensure either ee.Authenticate() has been called in a previous\n",
    "# script or the \"$ earthengine authenticate\" command has been run in the environment to set up the credentials.json file\n",
    "# The google account you provide during the authentication flow must have received access to Google Earth Engine\n",
    "ee.Initialize()"
   ]
  },
  {
   "cell_type": "code",
   "execution_count": 4,
   "metadata": {},
   "outputs": [],
   "source": [
    "# input parameters (to modify)\n",
    "\n",
    "# product name, one of('Surface_Reflectance','Albedo','fAPAR','fCOVER','LAI','CCC','CWC','DASF')\n",
    "outputName = \"LAI\"\n",
    "\n",
    "# output parameters, outputScale and outputOffset not applied to \"Surface_Reflectance\"\n",
    "# create a dictionary for output parameters based on outputName\n",
    "outputParams = {\n",
    "    'Surface_Reflectance': {\n",
    "        'outputScale': 0,\n",
    "        'outputOffset': 0\n",
    "    },\n",
    "    'Albedo': {\n",
    "        'outputScale': 0,\n",
    "        'outputOffset': 0\n",
    "    },\n",
    "    # min: 0, max: 1.0\n",
    "    'fAPAR': {\n",
    "        'outputScale': 0,\n",
    "        'outputOffset': 0\n",
    "    },\n",
    "    # min: 0, max: 1.0\n",
    "    'fCOVER': {\n",
    "        'outputScale': 0,\n",
    "        'outputOffset': 0\n",
    "    },\n",
    "    # min: 0, max: 15.0\n",
    "    'LAI': {\n",
    "        'outputScale': 1000,\n",
    "        'outputOffset': 0\n",
    "    },\n",
    "    # min: 0, max: 600\n",
    "    'CCC': {\n",
    "        'outputScale': 0,\n",
    "        'outputOffset': 0\n",
    "    },\n",
    "    # min: 0, max: 0.55\n",
    "    'CWC': {\n",
    "        'outputScale': 0,\n",
    "        'outputOffset': 0\n",
    "    },\n",
    "    'DASF': {\n",
    "        'outputScale': 0,\n",
    "        'outputOffset': 0\n",
    "    }\n",
    "}\n",
    "    \n",
    "outputScale = outputParams[outputName]['outputScale']\n",
    "outputOffset = outputParams[outputName]['outputOffset']\n",
    "\n",
    "# date range for inputs\n",
    "startDate = ee.Date('2020-08-01')\n",
    "endDate = ee.Date('2020-08-5')\n",
    "\n",
    "# geographical bounds of inputs you can specify a JSON geometry (e.g. from earth engine)\n",
    "# will modify for each of the three test regions\n",
    "mapBounds =  ee.Geometry.Polygon( \\\n",
    "        [[[-75, 45], \\\n",
    "          [-75, 46], \\\n",
    "          [-74, 46], \\\n",
    "          [-74, 45]]])\n",
    "\n",
    "# other filters - for now only cloud cover\n",
    "maxCloudcover = 10\n",
    "\n",
    "# export parameters\n",
    "exportFolder = \"users/hemitshah/testSL2Pv3\"\n",
    "exportScale = 20\n",
    "exportDatatype = \"int\""
   ]
  },
  {
   "cell_type": "code",
   "execution_count": 5,
   "metadata": {
    "tags": []
   },
   "outputs": [],
   "source": [
    "# verify status of tasks\n",
    "def check_ee_tasks(ee_tasks: list = []):\n",
    "    for task in ee_tasks:\n",
    "        taskStatus = ee.data.getTaskStatus(task.id)[0]\n",
    "        print(taskStatus[\"description\"] + \": \" + taskStatus[\"state\"])"
   ]
  },
  {
   "cell_type": "code",
   "execution_count": 6,
   "metadata": {
    "tags": []
   },
   "outputs": [],
   "source": [
    "# wait loop for Earth Engine tasks to complete. Polls for the task status the specificed number of seconds until it is no longer active\n",
    "def task_wait_loop(ee_task, wait_interval):\n",
    "    print(ee.data.getTaskStatus(ee_task.id)[0][\"description\"] + \":\", end = \" \")\n",
    "    prev_task_status = ee.data.getTaskStatus(ee_task.id)[0][\"state\"]\n",
    "    print(prev_task_status, end = \" \")\n",
    "    while ee_task.active():\n",
    "        task_status = ee.data.getTaskStatus(ee_task.id)[0][\"state\"]\n",
    "        if(task_status != prev_task_status):\n",
    "            print(task_status, end = \" \")\n",
    "        prev_task_status = task_status\n",
    "        time.sleep(wait_interval)\n",
    "    print(ee.data.getTaskStatus(ee_task.id)[0][\"state\"])"
   ]
  },
  {
   "cell_type": "code",
   "execution_count": 7,
   "metadata": {
    "tags": []
   },
   "outputs": [],
   "source": [
    "# create a folium map object\n",
    "def displayImage(image,minVal,maxVal) :\n",
    "    my_map = folium.Map(location = [45.5, -75], zoom_start = 8, height = 500)\n",
    "    vis_params = {\n",
    "      'min': minVal,\n",
    "      'max': maxVal}\n",
    "    my_map.add_ee_layer(image, vis_params, 'Image')\n",
    "    \n",
    "    # add a layer control panel to the map.\n",
    "    my_map.add_child(folium.LayerControl())\n",
    "\n",
    "    # add fullscreen button\n",
    "    plugins.Fullscreen().add_to(my_map)\n",
    "\n",
    "    # display the map.\n",
    "    display(my_map)"
   ]
  },
  {
   "cell_type": "code",
   "execution_count": 8,
   "metadata": {
    "tags": []
   },
   "outputs": [],
   "source": [
    "# define a method for displaying Earth Engine image tiles on a folium map\n",
    "def add_ee_layer(self, ee_object, vis_params, name):\n",
    "    \n",
    "    try:    \n",
    "        # display ee.Image()\n",
    "        if isinstance(ee_object, ee.image.Image):    \n",
    "            map_id_dict = ee.Image(ee_object).getMapId(vis_params)\n",
    "            folium.raster_layers.TileLayer(\n",
    "            tiles = map_id_dict['tile_fetcher'].url_format,\n",
    "            attr = 'Google Earth Engine',\n",
    "            name = name,\n",
    "            overlay = True,\n",
    "            control = True\n",
    "            ).add_to(self)\n",
    "        # display ee.ImageCollection()\n",
    "        elif isinstance(ee_object, ee.imagecollection.ImageCollection):    \n",
    "            ee_object_new = ee_object.mosaic()\n",
    "            map_id_dict = ee.Image(ee_object_new).getMapId(vis_params)\n",
    "            folium.raster_layers.TileLayer(\n",
    "            tiles = map_id_dict['tile_fetcher'].url_format,\n",
    "            attr = 'Google Earth Engine',\n",
    "            name = name,\n",
    "            overlay = True,\n",
    "            control = True\n",
    "            ).add_to(self)\n",
    "        # display ee.Geometry()\n",
    "        elif isinstance(ee_object, ee.geometry.Geometry):    \n",
    "            folium.GeoJson(\n",
    "            data = ee_object.getInfo(),\n",
    "            name = name,\n",
    "            overlay = True,\n",
    "            control = True\n",
    "        ).add_to(self)\n",
    "        # display ee.FeatureCollection()\n",
    "        elif isinstance(ee_object, ee.featurecollection.FeatureCollection):  \n",
    "            ee_object_new = ee.Image().paint(ee_object, 0, 2)\n",
    "            map_id_dict = ee.Image(ee_object_new).getMapId(vis_params)\n",
    "            folium.raster_layers.TileLayer(\n",
    "            tiles = map_id_dict['tile_fetcher'].url_format,\n",
    "            attr = 'Google Earth Engine',\n",
    "            name = name,\n",
    "            overlay = True,\n",
    "            control = True\n",
    "        ).add_to(self)\n",
    "    \n",
    "    except:\n",
    "        print(\"Could not display {}\".format(name))\n",
    "    \n",
    "# add EE drawing method to folium\n",
    "folium.Map.add_ee_layer = add_ee_layer"
   ]
  },
  {
   "cell_type": "code",
   "execution_count": 9,
   "metadata": {
    "tags": []
   },
   "outputs": [],
   "source": [
    "default_asset_location = \"users/hemitshah\"\n",
    "\n",
    "def export_collection_to_gee(collection, num_images: int = 0, image_names: list = [], asset_folder: str = default_asset_location, scale: float = 20, max_pixels: int = 1e8, data_type: str = \"float\"):\n",
    "    collection = ee.ImageCollection(collection)\n",
    "    image_list = collection.toList(num_images)\n",
    "    task_list = []\n",
    "    \n",
    "    for i in range(num_images):\n",
    "        image = ee.Image(image_list.get(i))\n",
    "        name = image_names[i]\n",
    "        typed_images = {\"double\": image.toDouble(), \"float\": image.toFloat(), \"byte\": image.toByte(), \"int\": image.toInt()}\n",
    "        export_task = ee.batch.Export.image.toAsset(image = typed_images[data_type],\n",
    "                                                      description = name,\n",
    "                                                      assetId = asset_folder+\"/\"+name,\n",
    "                                                      region = image.geometry(),\n",
    "                                                      scale = scale,\n",
    "                                                      maxPixels = max_pixels)\n",
    "        export_task.start()\n",
    "        task_list.append(export_task)\n",
    "    \n",
    "    return task_list"
   ]
  },
  {
   "cell_type": "code",
   "execution_count": 10,
   "metadata": {
    "tags": []
   },
   "outputs": [],
   "source": [
    "def export_collection_to_drive(collection, num_images: int = 0, image_names: list = [], gdrive_folder: str = \"\", scale: float = 20, max_pixels: int = 1e8, data_type: str = \"float\"):\n",
    "    collection = ee.ImageCollection(collection)\n",
    "    image_list = collection.toList(num_images)\n",
    "    task_list = []\n",
    "\n",
    "    for i in range(num_images):\n",
    "        image = ee.Image(image_list.get(i))\n",
    "        name = image_names[i]\n",
    "        print(name)\n",
    "        typed_images = {\"double\": image.toDouble(), \"float\": image.toFloat(), \"byte\": image.toByte(), \"int\": image.toInt()}\n",
    "        export_task = ee.batch.Export.image.toDrive(image = typed_images[data_type],\n",
    "                                                    description = name,\n",
    "                                                    folder = gdrive_folder,\n",
    "                                                    fileNamePrefix = name,\n",
    "                                                    region = image.geometry(),\n",
    "                                                    scale = scale,\n",
    "                                                    maxPixels = max_pixels)\n",
    "        export_task.start()\n",
    "        task_list.append(export_task)\n",
    "    \n",
    "    return task_list"
   ]
  },
  {
   "cell_type": "code",
   "execution_count": 11,
   "metadata": {
    "tags": []
   },
   "outputs": [],
   "source": [
    "def s2_createFeatureCollection_estimates():\n",
    "    return ee.FeatureCollection('users/rfernand387/COPERNICUS_S2_SR/s2_sl2p_weiss_or_prosail_NNT3_Single_0_1')"
   ]
  },
  {
   "cell_type": "code",
   "execution_count": 12,
   "metadata": {},
   "outputs": [],
   "source": [
    "# same function as above using 10 m bands\n",
    "def s2_10m_createFeatureCollection_estimates():\n",
    "    return ee.FeatureCollection('users/kateharvey/s2_sl2p_weiss_or_prosail_10m_NNT1_Single_0_1')"
   ]
  },
  {
   "cell_type": "code",
   "execution_count": 13,
   "metadata": {
    "tags": []
   },
   "outputs": [],
   "source": [
    "def s2_createFeatureCollection_errors():\n",
    "    return ee.FeatureCollection('users/rfernand387/COPERNICUS_S2_SR/s2_sl2p_weiss_or_prosail_NNT3_Single_0_1_error')"
   ]
  },
  {
   "cell_type": "code",
   "execution_count": 14,
   "metadata": {
    "tags": []
   },
   "outputs": [],
   "source": [
    "# same function as above using 10 m bands\n",
    "def s2_10m_createFeatureCollection_errors():\n",
    "    return ee.FeatureCollection('users/kateharvey/s2_sl2p_weiss_or_prosail_10m_NNT1_Single_0_1_errors')"
   ]
  },
  {
   "cell_type": "code",
   "execution_count": 15,
   "metadata": {
    "tags": []
   },
   "outputs": [],
   "source": [
    "def s2_createFeatureCollection_domains():\n",
    "    return ee.FeatureCollection('users/rfernand387/COPERNICUS_S2_SR/weiss_or_prosail3_NNT3_Single_0_1_DOMAIN')"
   ]
  },
  {
   "cell_type": "code",
   "execution_count": 16,
   "metadata": {
    "tags": []
   },
   "outputs": [],
   "source": [
    "# same function as above using 10 m bands\n",
    "def s2_10m_createFeatureCollection_domains():\n",
    "    return ee.FeatureCollection('users/kateharvey/s2_sl2p_weiss_or_prosail_10m_domain')"
   ]
  },
  {
   "cell_type": "code",
   "execution_count": 17,
   "metadata": {
    "tags": []
   },
   "outputs": [],
   "source": [
    "def s2_createFeatureCollection_range():\n",
    "    return ee.FeatureCollection('users/rfernand387/COPERNICUS_S2_SR/weiss_or_prosail3_NNT3_Single_0_1_RANGE')"
   ]
  },
  {
   "cell_type": "code",
   "execution_count": 18,
   "metadata": {
    "tags": []
   },
   "outputs": [],
   "source": [
    "def s2_createFeatureCollection_Network_Ind():\n",
    "    return ee.FeatureCollection('users/rfernand387/COPERNICUS_S2_SR/Parameter_file_sl2p')"
   ]
  },
  {
   "cell_type": "code",
   "execution_count": 19,
   "metadata": {
    "tags": []
   },
   "outputs": [],
   "source": [
    "def s2_createImageCollection_partition():\n",
    "    return ee.ImageCollection('users/rfernand387/NA_NALCMS_2015_tiles').map(lambda image: image.select(\"b1\").rename(\"partition\")).merge(ee.ImageCollection(\"COPERNICUS/Landcover/100m/Proba-V/Global\").map( lambda image: image.select(\"discrete_classification\").remap([0,20,30,40,50,60,70,80,90,100,111,112,113,114,115,116,121,122,123,124,125,126,200],[0,8,10,15,17,16,19,18,14,13,1,3,1,5,6,6,2,4,2,5,6,6,18],0).toUint8().rename(\"partition\")))"
   ]
  },
  {
   "cell_type": "code",
   "execution_count": 20,
   "metadata": {},
   "outputs": [],
   "source": [
    "def s2_createFeatureCollection_legend():\n",
    "    return ee.FeatureCollection('users/rfernand387/COPERNICUS_S2_SR/Legend_sl2p')"
   ]
  },
  {
   "cell_type": "code",
   "execution_count": 21,
   "metadata": {},
   "outputs": [],
   "source": [
    "def l8_createFeatureCollection_estimates():\n",
    "    return ee.FeatureCollection('users/rfernand387/LANDSAT_LC08_C01_T1_SR_SL2P_OUTPUT')"
   ]
  },
  {
   "cell_type": "code",
   "execution_count": 22,
   "metadata": {},
   "outputs": [],
   "source": [
    "def l8_createFeatureCollection_errors():\n",
    "    return ee.FeatureCollection('users/rfernand387/LANDSAT_LC08_C01_T1_SR_SL2P_ERRORS')"
   ]
  },
  {
   "cell_type": "code",
   "execution_count": 23,
   "metadata": {},
   "outputs": [],
   "source": [
    "def l8_createFeatureCollection_domains():\n",
    "    return ee.FeatureCollection('users/rfernand387/LANDSAT_LC08_C01_T1_SR/LANDSAT_LC08_C01_T1_SR_DOMAIN')"
   ]
  },
  {
   "cell_type": "code",
   "execution_count": 24,
   "metadata": {},
   "outputs": [],
   "source": [
    "def l8_createFeatureCollection_range():\n",
    "    return ee.FeatureCollection('users/rfernand387/LANDSAT_LC08_C01_T1_SR/LANDSAT_LC08_C01_T1_SR_RANGE')"
   ]
  },
  {
   "cell_type": "code",
   "execution_count": 25,
   "metadata": {},
   "outputs": [],
   "source": [
    "def l8_createFeatureCollection_Network_Ind():\n",
    "    return ee.FeatureCollection('users/rfernand387/LANDSAT_LC08_C01_T1_SR/Parameter_file_sl2p')"
   ]
  },
  {
   "cell_type": "code",
   "execution_count": 26,
   "metadata": {},
   "outputs": [],
   "source": [
    "def l8_createImageCollection_partition():\n",
    "    return ee.ImageCollection('users/rfernand387/NA_NALCMS_2015_tiles').map(lambda image: image.select(\"b1\").rename(\"partition\")).merge(ee.ImageCollection(\"COPERNICUS/Landcover/100m/Proba-V/Global\").map( lambda image: image.select(\"discrete_classification\").remap([0,20,30,40,50,60,70,80,90,100,111,112,113,114,115,116,121,122,123,124,125,126,200],[0,8,10,15,17,16,19,18,14,13,1,3,1,5,6,6,2,4,2,5,6,6,18],0).toUint8().rename(\"partition\")))"
   ]
  },
  {
   "cell_type": "code",
   "execution_count": 27,
   "metadata": {},
   "outputs": [],
   "source": [
    "def l8_createFeatureCollection_legend():\n",
    "    return ee.FeatureCollection('users/rfernand387/LANDSAT_LC08_C01_T1_SR/Legend_sl2p')"
   ]
  },
  {
   "cell_type": "code",
   "execution_count": 28,
   "metadata": {
    "tags": []
   },
   "outputs": [],
   "source": [
    "# add a 'date' band: number of days since epoch\n",
    "def addDate(image):\n",
    "    return image.addBands(ee.Image.constant(ee.Date(image.date()).millis().divide(86400000)).rename('date').toUint16())"
   ]
  },
  {
   "cell_type": "code",
   "execution_count": 29,
   "metadata": {
    "tags": []
   },
   "outputs": [],
   "source": [
    "# computes a delta time property for an image\n",
    "def deltaTime(midDate,image):\n",
    "    return ee.Image(image.set(\"deltaTime\",ee.Number(image.date().millis()).subtract(ee.Number(midDate)).abs()))"
   ]
  },
  {
   "cell_type": "code",
   "execution_count": 30,
   "metadata": {
    "tags": []
   },
   "outputs": [],
   "source": [
    "# mask pixels that are not clear sky in a S2 MSI image\n",
    "def s2MaskClear(image):\n",
    "    qa = image.select('QA60')\n",
    "    mask = qa.bitwiseAnd(1<<10).eq(0).And(qa.bitwiseAnd(1<<11).eq(0))\n",
    "    return image.updateMask(mask)"
   ]
  },
  {
   "cell_type": "code",
   "execution_count": 31,
   "metadata": {
    "tags": []
   },
   "outputs": [],
   "source": [
    "# add s2 geometry bands scaled by 10000\n",
    "def addS2Geometry(colOptions,image) :\n",
    "    return (image.addBands(ee.Image.constant(0).multiply(3.1415).divide(180).cos().multiply(10000).toUint16().rename(['cosVZA']))\n",
    "              .addBands(image.metadata(colOptions[\"sza\"]).multiply(3.1415).divide(180).cos().multiply(10000).toUint16().rename(['cosSZA']))\n",
    "              .addBands(image.metadata(colOptions[\"saa\"]).subtract(image.metadata(colOptions[\"saa\"])).multiply(3.1415).divide(180).cos().multiply(10000).toUint16().rename(['cosRAA'])))"
   ]
  },
  {
   "cell_type": "code",
   "execution_count": 32,
   "metadata": {
    "tags": []
   },
   "outputs": [],
   "source": [
    "# Sentinel 2 land mask\n",
    "def s2MaskLand(image) :\n",
    "    return image.updateMask((image.select('SCL').eq(4)).Or(image.select('SCL').eq(5)))"
   ]
  },
  {
   "cell_type": "code",
   "execution_count": 33,
   "metadata": {
    "tags": []
   },
   "outputs": [],
   "source": [
    "# returns image with selected bands scaled\n",
    "def scaleBands(bandList,scaleList,image) :\n",
    "    bandList = ee.List(bandList)\n",
    "    scaleList = ee.List(scaleList)\n",
    "    return image.addBands(srcImg = image.select(bandList).multiply(ee.Image.constant(scaleList)).rename(bandList),overwrite = True)"
   ]
  },
  {
   "cell_type": "code",
   "execution_count": 34,
   "metadata": {
    "tags": []
   },
   "outputs": [],
   "source": [
    "# determine if inputs fall in domain of algorithm\n",
    "# need to be updated to allow for the domain to vary with partition\n",
    "def invalidInput(sl2pDomain,bandList,image) :\n",
    "    sl2pDomain = ee.FeatureCollection(sl2pDomain).aggregate_array(\"DomainCode\").sort()\n",
    "    bandList = ee.List(bandList).slice(3)\n",
    "    image = ee.Image(image)\n",
    "\n",
    "    # code image bands into a single band and compare to valid codes to make QC band\n",
    "    image = image.addBands(image.select(bandList).multiply(ee.Image.constant(ee.Number(10))).ceil().mod(ee.Number(10)).uint8()\n",
    "                              .multiply(ee.Image.constant(ee.List.sequence(0,bandList.length().subtract(1)).map(lambda value: ee.Number(10).pow(ee.Number(value)))))\n",
    "                              .reduce(\"sum\").remap(sl2pDomain, ee.List.repeat(0, sl2pDomain.length()),1).rename(\"QC\"))\n",
    "    return image"
   ]
  },
  {
   "cell_type": "code",
   "execution_count": 35,
   "metadata": {},
   "outputs": [],
   "source": [
    "# reduces all bands of input image to 20 m\n",
    "def reduceTo20m(input_image):\n",
    "    image = input_image\n",
    "\n",
    "    # set a default projection to 20 m resolution using B11\n",
    "    defaultCrs = 'EPSG:32618'\n",
    "        # image.select(defaultBand).projection().crs()\n",
    "    defaultScale = 20\n",
    "        # image.select(defaultBand).projection().nominalScale()\n",
    "\n",
    "    # load a copy of the image and reduce resolution using the above\n",
    "    resampled_image = image.setDefaultProjection(crs=defaultCrs, scale=defaultScale)\n",
    "    resampled_image = resampled_image.reduceResolution(reducer=ee.Reducer.mean(), bestEffort=True, maxPixels=ee.Number(2))\n",
    "    \n",
    "    return resampled_image"
   ]
  },
  {
   "cell_type": "code",
   "execution_count": 36,
   "metadata": {
    "tags": []
   },
   "outputs": [],
   "source": [
    "# returns image with single band named network id corresponding given \n",
    "def makeIndexLayer(image,legend,Network_Ind) :\n",
    "    image = ee.Image(image)                          # partition image\n",
    "    legend = ee.FeatureCollection(legend)            # legend to convert partition numbers to networks\n",
    "    Network_Ind = ee.FeatureCollection(Network_Ind)  # legend to convert networks to networkIDs\n",
    "    \n",
    "    # get lists of valid partitions\n",
    "    legend_list = legend.toList(legend.size())\n",
    "    landcover = legend_list.map(lambda feature: ee.Feature(feature).getNumber('Value'))\n",
    "\n",
    "    # get corresponding networkIDs\n",
    "    networkIDs = legend_list.map(lambda feature: ee.Feature(feature).get('SL2P Network')) \\\n",
    "                                    .map(lambda propertyValue: ee.Feature(ee.FeatureCollection(Network_Ind).first()) \\\n",
    "                                    .toDictionary().getNumber(propertyValue))\n",
    "    \n",
    "    return image.remap(landcover, networkIDs, 0).rename('networkID')"
   ]
  },
  {
   "cell_type": "code",
   "execution_count": 37,
   "metadata": {
    "tags": []
   },
   "outputs": [],
   "source": [
    "# read coefficients of a network from csv EE asset\n",
    "def getCoefs(netData,ind) :\n",
    "    return((ee.Feature(netData)).getNumber(ee.String('tabledata').cat(ee.Number(ind).int().format())))"
   ]
  },
  {
   "cell_type": "code",
   "execution_count": 38,
   "metadata": {
    "tags": []
   },
   "outputs": [],
   "source": [
    "# parse one row of CSV file for a network into a global variable\n",
    "# we assume a two hidden layer network with tansig functions but allow for variable nodes per layer\n",
    "def makeNets(feature, M) :\n",
    "    \n",
    "    feature = ee.List(feature);\n",
    "    M = ee.Number(M);\n",
    "    \n",
    "    # get the requested network and initialize the created network\n",
    "    netData = ee.Feature(feature.get(M.subtract(1)));\n",
    "    net = {};\n",
    "    \n",
    "    # input slope\n",
    "    num = ee.Number(6);\n",
    "    start = num.add(1);\n",
    "    end = num.add(netData.getNumber(ee.String('tabledata').cat(num.format())));\n",
    "    net[\"inpSlope\"] = ee.List.sequence(start,end).map(lambda ind: getCoefs(netData,ind))\n",
    "    \n",
    "    # input offset\n",
    "    num = end.add(1)\n",
    "    start = num.add(1)\n",
    "    end = num.add(netData.getNumber(ee.String('tabledata').cat(num.format())))\n",
    "    net[\"inpOffset\"] = ee.List.sequence(start,end).map(lambda ind: getCoefs(netData,ind))\n",
    "\n",
    "    # hidden layer 1 weight\n",
    "    num = end.add(1)\n",
    "    start = num.add(1)\n",
    "    end = num.add(netData.getNumber(ee.String('tabledata').cat(num.format())))\n",
    "    net[\"h1wt\"] = ee.List.sequence(start,end).map(lambda ind: getCoefs(netData,ind))\n",
    "\n",
    "    # hidden layer 1 bias\n",
    "    num = end.add(1)\n",
    "    start = num.add(1)\n",
    "    end = num.add(netData.getNumber(ee.String('tabledata').cat(num.format())))\n",
    "    net[\"h1bi\"] = ee.List.sequence(start,end).map(lambda ind: getCoefs(netData,ind))\n",
    "\n",
    "    # hidden layer 2 weight\n",
    "    num = end.add(1)\n",
    "    start = num.add(1)\n",
    "    end = num.add(netData.getNumber(ee.String('tabledata').cat(num.format())))\n",
    "    net[\"h2wt\"] = ee.List.sequence(start,end).map(lambda ind: getCoefs(netData,ind))\n",
    "  \n",
    "    # hidden layer 2 bias\n",
    "    num = end.add(1)\n",
    "    start = num.add(1)\n",
    "    end = num.add(netData.getNumber(ee.String('tabledata').cat(num.format())))\n",
    "    net[\"h2bi\"] = ee.List.sequence(start,end).map(lambda ind: getCoefs(netData,ind))\n",
    "\n",
    "    # output slope\n",
    "    num = end.add(1)\n",
    "    start = num.add(1)\n",
    "    end = num.add(netData.getNumber(ee.String('tabledata').cat(num.format())))\n",
    "    net[\"outSlope\"] = ee.List.sequence(start,end).map(lambda ind: getCoefs(netData,ind))\n",
    "  \n",
    "    # output offset\n",
    "    num = end.add(1)\n",
    "    start = num.add(1)\n",
    "    end = num.add(netData.getNumber(ee.String('tabledata').cat(num.format())))\n",
    "    net[\"outBias\"] = ee.List.sequence(start,end).map(lambda ind: getCoefs(netData,ind))\n",
    "    \n",
    "    return(ee.Dictionary(net))"
   ]
  },
  {
   "cell_type": "code",
   "execution_count": 39,
   "metadata": {
    "tags": []
   },
   "outputs": [],
   "source": [
    "# parse CSV file with list of networks for a selected variable  \n",
    "# this will parse one network for each landclass partition\n",
    "def makeNetVars(asset, numNets, variableNum) :\n",
    "    \n",
    "    asset= ee.FeatureCollection(asset)\n",
    "    numNets = ee.Number(numNets)\n",
    "    variableNum= ee.Number(variableNum)  \n",
    "\n",
    "    # get selected network \n",
    "    list_features = asset.flatten()\n",
    "    filtered_features = ee.FeatureCollection(asset.filter(ee.Filter.eq('tabledata3', variableNum))).toList(numNets)\n",
    "    \n",
    "    return ee.List.sequence(1,numNets).map(lambda netNum: makeNets(filtered_features,netNum))"
   ]
  },
  {
   "cell_type": "code",
   "execution_count": 40,
   "metadata": {
    "tags": []
   },
   "outputs": [],
   "source": [
    "# returns dictionary with image masked so the networkID band equals the netIndex and the corresponding network\n",
    "def selectNet(image,netList,inputNames,netIndex) :\n",
    "    \n",
    "    image = ee.Image(image)\n",
    "    netList = ee.List(netList)\n",
    "    inputNames = ee.List(inputNames)\n",
    "    netIndex = ee.Number(netIndex).int()\n",
    "    \n",
    "    return ee.Dictionary()  \\\n",
    "            .set(\"Image\", ee.Image(image.updateMask(image.select('networkID').eq(netIndex)).select(inputNames))) \\\n",
    "            .set(\"Network\", ee.List(netList.get(netIndex))) "
   ]
  },
  {
   "cell_type": "code",
   "execution_count": 41,
   "metadata": {
    "tags": []
   },
   "outputs": [],
   "source": [
    "# applies two layer neural network within input and output scaling\n",
    "def applyNet(outputName,netDict) :\n",
    "    outputName = ee.String(outputName)\n",
    "    netDict = ee.Dictionary(netDict)\n",
    "    inp = ee.Image(netDict.get('Image'))\n",
    "    net = ee.Dictionary(netDict.get('Network'))\n",
    "    \n",
    "    # input scaling\n",
    "    l1inp2D = inp.multiply(ee.Image(net.toArray(ee.List(['inpSlope']),0).transpose()).arrayProject([0]) \\\n",
    "                        .arrayFlatten([inp.bandNames()])) \\\n",
    "                        .add(ee.Image(net.toArray(ee.List(['inpOffset']),0).transpose()) \\\n",
    "                        .arrayProject([0]).arrayFlatten([inp.bandNames()]))\n",
    "    \n",
    "    # hidden layers\n",
    "    l12D = ee.Image(net.toArray(ee.List(['h1wt']),0).reshape([ee.List(net.get('h1bi')).length(),ee.List(net.get('inpOffset')).length()])) \\\n",
    "              .matrixMultiply(l1inp2D.toArray().toArray(1)) \\\n",
    "              .add(ee.Image(net.toArray(ee.List(['h1bi']),0).transpose())) \\\n",
    "              .arrayProject([0]).arrayFlatten([['h1w1','h1w2','h1w3','h1w4','h1w5']])\n",
    "    \n",
    "    # apply tansig 2/(1+exp(-2*n))-1\n",
    "    l2inp2D = ee.Image(2).divide(ee.Image(1).add((ee.Image(-2).multiply(l12D)).exp())).subtract(ee.Image(1))\n",
    "    \n",
    "    # purlin hidden layers\n",
    "    l22D = l2inp2D.multiply(ee.Image(net.toArray(ee.List(['h2wt']),0).transpose()) \\\n",
    "                                          .arrayProject([0]) \\\n",
    "                                          .arrayFlatten([['h2w1','h2w2','h2w3','h2w4','h2w5']])) \\\n",
    "                    .reduce('sum') \\\n",
    "                    .add(ee.Image(net.toArray(ee.List(['h2bi']),0))) \\\n",
    "                                          .arrayProject([0]) \\\n",
    "                                          .arrayFlatten([['h2bi']])\n",
    "    \n",
    "    # output scaling \n",
    "    outputBand = l22D.subtract(ee.Image(ee.Number(net.get('outBias')))).divide(ee.Image(ee.Number(net.get('outSlope')))) \n",
    "    \n",
    "    # return network output\n",
    "    return (outputBand.rename(outputName))"
   ]
  },
  {
   "cell_type": "code",
   "execution_count": 42,
   "metadata": {
    "tags": []
   },
   "outputs": [],
   "source": [
    "# returns image with single band named networkid corresponding given \n",
    "# input partition image remapped to networkIDs\n",
    "# applies a set of shallow networks to an image based on a provided partition image band\n",
    "def wrapperNNets(network, partition, netOptions, colOptions, suffixName, imageInput) :\n",
    "\n",
    "    # typecast function parameters\n",
    "    network = ee.List(network)\n",
    "    partition = ee.Image(partition)\n",
    "    netOptions = netOptions\n",
    "    colOptions = colOptions\n",
    "    suffixName = suffixName\n",
    "    imageInput = ee.Image(imageInput)\n",
    "\n",
    "    # parse partition  used to identify network to use\n",
    "    partition = partition.clip(imageInput.geometry()).select(['partition'])\n",
    "\n",
    "    # determine networks based on collection\n",
    "    netList = ee.List(network.get(ee.Number(netOptions.get(\"variable\")).subtract(1))); \n",
    "    \n",
    "    # parse land cover into network index and add to input image\n",
    "    imageInput = imageInput.addBands(makeIndexLayer(partition,colOptions[\"legend\"],colOptions[\"Network_Ind\"]))\n",
    "\n",
    "    # define list of input names\n",
    "    return ee.ImageCollection(ee.List.sequence(0, netList.size().subtract(1)) \\\n",
    "                                                    .map(lambda netIndex: selectNet(imageInput,netList,netOptions[\"inputBands\"],netIndex)) \\\n",
    "                                                    .map(lambda netDict: applyNet(suffixName+outputName,netDict))) \\\n",
    "                                                    .max().addBands(partition).addBands(imageInput.select('networkID'))"
   ]
  },
  {
   "cell_type": "code",
   "execution_count": 43,
   "metadata": {
    "tags": []
   },
   "outputs": [],
   "source": [
    "# returns dictionary with image masked so the networkID band equals the netIndex and the corresponding network\n",
    "def selectNet2(image,netList,inputNames,netIndex) :\n",
    "    image = ee.Image(image)\n",
    "    netList = ee.List(netList)\n",
    "    inputNames = ee.List(inputNames)\n",
    "    netIndex = ee.Number(netIndex).int()\n",
    "    result = ee.Dictionary() \\\n",
    "            .set(\"Image\", ee.Image(image.updateMask(image.select('networkID').eq(netIndex)).select(inputNames))) \\\n",
    "            .set(\"Network\", ee.List(netList.get(netIndex)))\n",
    "    return result"
   ]
  },
  {
   "cell_type": "code",
   "execution_count": 44,
   "metadata": {
    "tags": []
   },
   "outputs": [],
   "source": [
    "# applies two layer neural network within input and output scaling\n",
    "def applyNet2(outputName,netDict) :\n",
    "    outputName = ee.String(outputName)\n",
    "    netDict = ee.Dictionary(netDict)\n",
    "    inp = ee.Image(netDict.get('Image'))\n",
    "    net = ee.Dictionary(netDict.get('Network'))\n",
    "    \n",
    "    # input scaling\n",
    "    l1inp2D = inp.multiply(ee.Image(net.toArray(ee.List(['inpSlope']),0).transpose()).arrayProject([0]) \\\n",
    "                           .arrayFlatten([inp.bandNames()])).add(ee.Image(net.toArray(ee.List(['inpOffset']),0) \\\n",
    "                           .transpose()).arrayProject([0]).arrayFlatten([inp.bandNames()]))\n",
    "\n",
    "    # hidden layers\n",
    "    l12D = ee.Image(net.toArray(ee.List(['h1wt']),0) \\\n",
    "                    .reshape([ee.List(net.get('h1bi')).length(),ee.List(net.get('inpOffset')).length()])) \\\n",
    "                    .matrixMultiply(l1inp2D.toArray().toArray(1)) \\\n",
    "                    .add(ee.Image(net.toArray(ee.List(['h1bi']),0).transpose())) \\\n",
    "                    .arrayProject([0]).arrayFlatten([['h1w1','h1w2','h1w3','h1w4','h1w5']])\n",
    "    \n",
    "    # apply tansig 2/(1+exp(-2*n))-1\n",
    "    l2inp2D = ee.Image(2).divide(ee.Image(1).add((ee.Image(-2).multiply(l12D)).exp())).subtract(ee.Image(1))\n",
    "    \n",
    "    # purlin hidden layers\n",
    "    l22D = l2inp2D.multiply(ee.Image(net.toArray(ee.List(['h2wt']),0).transpose()).arrayProject([0]) \\\n",
    "                            .arrayFlatten([['h2w1','h2w2','h2w3','h2w4','h2w5']])).reduce('sum') \\\n",
    "                            .add(ee.Image(net.toArray(ee.List(['h2bi']),0))).arrayProject([0]).arrayFlatten([['h2bi']])\n",
    "    \n",
    "    # output scaling \n",
    "    outputBand = l22D.subtract(ee.Image(ee.Number(net.get('outBias')))).divide(ee.Image(ee.Number(net.get('outSlope')))) \n",
    "\n",
    "    # return network output\n",
    "    return (outputBand.rename(outputName))"
   ]
  },
  {
   "cell_type": "code",
   "execution_count": 45,
   "metadata": {
    "tags": []
   },
   "outputs": [],
   "source": [
    "# read coefficients of a network from csv EE asset\n",
    "def getCoefs2(netData,ind) :\n",
    "    return((ee.Feature(netData)).getNumber(ee.String('tabledata').cat(ee.Number(ind).int().format())))"
   ]
  },
  {
   "cell_type": "code",
   "execution_count": 46,
   "metadata": {
    "tags": []
   },
   "outputs": [],
   "source": [
    "# parse one row of CSV file for a network into a global variable\n",
    "# We assume a two hidden layer network with tansig functions but allow for variable nodes per layer\n",
    "def makeNets2(feature, M) :\n",
    "    \n",
    "    feature = ee.List(feature);\n",
    "    M = ee.Number(M);\n",
    "    \n",
    "    # get the requested network and initialize the created network\n",
    "    netData = ee.Feature(feature.get(M.subtract(1)));\n",
    "    net = ee.Dictionary();\n",
    "    \n",
    "    # input slope\n",
    "    num = ee.Number(6);\n",
    "    start = num.add(1);\n",
    "    end = num.add(netData.getNumber(ee.String('tabledata').cat(num.format())));\n",
    "    net = net.set(\"inpSlope\", ee.List.sequence(start,end).map(lambda ind: getCoefs(netData,ind)))\n",
    "    \n",
    "    # input offset\n",
    "    num = end.add(1)\n",
    "    start = num.add(1)\n",
    "    end = num.add(netData.getNumber(ee.String('tabledata').cat(num.format())));\n",
    "    net = net.set(\"inpOffset\", ee.List.sequence(start,end).map(lambda ind: getCoefs(netData,ind)))\n",
    "\n",
    "    # hidden layer 1 weight\n",
    "    num = end.add(1)\n",
    "    start = num.add(1)\n",
    "    end = num.add(netData.getNumber(ee.String('tabledata').cat(num.format())));\n",
    "    net = net.set(\"h1wt\", ee.List.sequence(start,end).map(lambda ind: getCoefs(netData,ind)))\n",
    "\n",
    "    # hidden layer 1 bias\n",
    "    num = end.add(1)\n",
    "    start = num.add(1)\n",
    "    end = num.add(netData.getNumber(ee.String('tabledata').cat(num.format())));\n",
    "    net = net.set(\"h1bi\", ee.List.sequence(start,end).map(lambda ind: getCoefs(netData,ind)))\n",
    "\n",
    "    # hidden layer 2 weight\n",
    "    num = end.add(1)\n",
    "    start = num.add(1)\n",
    "    end = num.add(netData.getNumber(ee.String('tabledata').cat(num.format())));\n",
    "    net = net.set(\"h2wt\", ee.List.sequence(start,end).map(lambda ind: getCoefs(netData,ind)))\n",
    "  \n",
    "    # hidden layer 2 bias\n",
    "    num = end.add(1)\n",
    "    start = num.add(1)\n",
    "    end = num.add(netData.getNumber(ee.String('tabledata').cat(num.format())));\n",
    "    net = net.set(\"h2bi\", ee.List.sequence(start,end).map(lambda ind: getCoefs(netData,ind)))\n",
    "\n",
    "    # output slope\n",
    "    num = end.add(1)\n",
    "    start = num.add(1)\n",
    "    end = num.add(netData.getNumber(ee.String('tabledata').cat(num.format())));\n",
    "    net = net.set(\"outSlope\", ee.List.sequence(start,end).map(lambda ind: getCoefs(netData,ind)))\n",
    "  \n",
    "    # output offset\n",
    "    num = end.add(1)\n",
    "    start = num.add(1)\n",
    "    end = num.add(netData.getNumber(ee.String('tabledata').cat(num.format())));\n",
    "    net = net.set(\"outBias\", ee.List.sequence(start,end).map(lambda ind: getCoefs(netData,ind)))\n",
    "\n",
    "    return(net)\n"
   ]
  },
  {
   "cell_type": "code",
   "execution_count": 47,
   "metadata": {
    "tags": []
   },
   "outputs": [],
   "source": [
    "# parse CSV file with list of networks for a selected variable  \n",
    "# this will parse one network for each landclass partition\n",
    "def makeNetVars2(asset, numNets, variableNum) :\n",
    "    \n",
    "    asset = ee.FeatureCollection(asset)\n",
    "    numNets = ee.Number(numNets)\n",
    "    variableNum = ee.Number(variableNum)\n",
    "    \n",
    "    # get selected network \n",
    "    filtered_features = ee.FeatureCollection(asset.filter(ee.Filter.eq('tabledata3', variableNum))).toList(numNets)\n",
    "    \n",
    "    # make only first net\n",
    "    netList = makeNets2(filtered_features,1)\n",
    "    return netList\n",
    "    # return ee.List.sequence(1,numNets).map(lambda netNum: makeNets(filtered_features,netNum))"
   ]
  },
  {
   "cell_type": "code",
   "execution_count": 48,
   "metadata": {
    "tags": []
   },
   "outputs": [],
   "source": [
    "# returns image with single band named network id corresponding given \n",
    "def makeIndexLayer2(image,legend,Network_Ind) :\n",
    "    \n",
    "    image = ee.Image(image)                        # partition image\n",
    "    legend = ee.FeatureCollection(legend)          # legend to convert partition numbers to networks\n",
    "    Network_Ind = ee.FeatureCollection(Network_Ind) # legend to convert networks to networkIDs\n",
    "    \n",
    "    # get lists of valid partitions\n",
    "    legend_list = legend.toList(legend.size())\n",
    "    landcover = legend_list.map(lambda feature: ee.Feature(feature).getNumber('Value'))\n",
    "\n",
    "    # get corresponding networkIDs\n",
    "    networkIDs = legend_list.map(lambda feature: ee.Feature(feature).get('SL2P Network')) \\\n",
    "                              .map(lambda propertyValue:  ee.Feature(ee.FeatureCollection(Network_Ind).first()).toDictionary().getNumber(propertyValue))\n",
    "    return image.remap(landcover, networkIDs, 0).rename('networkID')"
   ]
  },
  {
   "cell_type": "code",
   "execution_count": 49,
   "metadata": {
    "tags": []
   },
   "outputs": [],
   "source": [
    "# returns image with single band named networkid corresponding given \n",
    "# input partition image remapped to networkIDs\n",
    "# applies a set of shallow networks to an image based on a provided partition image band\n",
    "def wrapperNNets2(network, partition, netOptions, colOptions, layerName, imageInput) :\n",
    "\n",
    "    # typecast function parameters\n",
    "    network = ee.List(network)\n",
    "    partition = ee.Image(partition)\n",
    "    netOptions = ee.Dictionary(netOptions)\n",
    "    colOptions = ee.Dictionary(colOptions)\n",
    "    layerName = ee.String(layerName)\n",
    "    imageInput = ee.Image(imageInput)\n",
    "\n",
    "    # parse partition  used to identify network to use\n",
    "    partition = partition.clip(imageInput.geometry()).select(['partition'])\n",
    "\n",
    "    # determine networks based on collection\n",
    "    netList = ee.List(network.get(ee.Number(netOptions.get(\"variable\")).subtract(1))) \n",
    "    \n",
    "    # parse land cover into network index and add to input image\n",
    "    imageInput = imageInput.addBands(makeIndexLayer2(partition,colOptions.get(\"legend\"),colOptions.get(\"Network_Ind\")))\n",
    "\n",
    "\n",
    "    # define list of input names\n",
    "    netIndex = 0;\n",
    "    netDict = ee.Dictionary(selectNet2(imageInput,netList,netOptions.get(\"inputBands\"),netIndex));\n",
    "    estimate = ee.Image(applyNet2(layerName,netDict))\n",
    "\n",
    "    return estimate.addBands(partition).addBands(imageInput.select('networkID'))"
   ]
  },
  {
   "cell_type": "code",
   "execution_count": 50,
   "metadata": {},
   "outputs": [],
   "source": [
    "COLLECTION_OPTIONS = {\n",
    "    # Sentinel 2 using 20 m bands:\n",
    "    'COPERNICUS/S2_SR': {\n",
    "      \"name\": 'COPERNICUS/S2_SR',\n",
    "      \"description\": 'Sentinel 2A',\n",
    "      \"Cloudcover\": 'CLOUDY_PIXEL_PERCENTAGE',\n",
    "      \"Watercover\": 'WATER_PERCENTAGE',\n",
    "      \"sza\": 'MEAN_SOLAR_ZENITH_ANGLE',\n",
    "      \"vza\": 'MEAN_INCIDENCE_ZENITH_ANGLE_B8A',\n",
    "      \"saa\": 'MEAN_SOLAR_AZIMUTH_ANGLE', \n",
    "      \"vaa\": 'MEAN_INCIDENCE_AZIMUTH_ANGLE_B8A',\n",
    "      \"VIS_OPTIONS\": 'VIS_OPTIONS',\n",
    "      \"Collection_SL2P\": ee.FeatureCollection(s2_createFeatureCollection_estimates()),\n",
    "      \"Collection_SL2Perrors\": ee.FeatureCollection(s2_createFeatureCollection_errors()),  \n",
    "      \"sl2pDomain\": ee.FeatureCollection(s2_createFeatureCollection_domains()),\n",
    "      \"Network_Ind\": ee.FeatureCollection(s2_createFeatureCollection_Network_Ind()),\n",
    "      \"partition\": ee.ImageCollection(s2_createImageCollection_partition()),\n",
    "      \"legend\": ee.FeatureCollection(s2_createFeatureCollection_legend()),\n",
    "      \"numVariables\": 7\n",
    "    },\n",
    "    # Sentinel 2 using 10 m bands:\n",
    "    'COPERNICUS/S2_SR_10m': {\n",
    "      \"name\": 'COPERNICUS/S2_SR',\n",
    "      \"description\": 'Sentinel 2A',\n",
    "      \"Cloudcover\": 'CLOUDY_PIXEL_PERCENTAGE',\n",
    "      \"Watercover\": 'WATER_PERCENTAGE',\n",
    "      \"sza\": 'MEAN_SOLAR_ZENITH_ANGLE',\n",
    "      \"vza\": 'MEAN_INCIDENCE_ZENITH_ANGLE_B8A',\n",
    "      \"saa\": 'MEAN_SOLAR_AZIMUTH_ANGLE', \n",
    "      \"vaa\": 'MEAN_INCIDENCE_AZIMUTH_ANGLE_B8A',\n",
    "      \"VIS_OPTIONS\": 'VIS_OPTIONS',\n",
    "      \"Collection_SL2P\": ee.FeatureCollection(s2_10m_createFeatureCollection_estimates()),\n",
    "      \"Collection_SL2Perrors\": ee.FeatureCollection(s2_10m_createFeatureCollection_errors()),  \n",
    "      \"sl2pDomain\": ee.FeatureCollection(s2_10m_createFeatureCollection_domains()),\n",
    "      \"Network_Ind\": ee.FeatureCollection(s2_createFeatureCollection_Network_Ind()),\n",
    "      \"partition\": ee.ImageCollection(s2_createImageCollection_partition()),\n",
    "      \"legend\": ee.FeatureCollection(s2_createFeatureCollection_legend()),\n",
    "      \"numVariables\": 7\n",
    "    },\n",
    "    'LANDSAT/LC08/C01/T1_SR': {\n",
    "      \"name\": 'LANDSAT/LC08/C01/T1_SR',\n",
    "      \"description\": 'LANDSAT 8',\n",
    "      \"Cloudcover\": 'CLOUD_COVER_LAND',\n",
    "      \"Watercover\": 'CLOUD_COVER',\n",
    "      \"sza\": 'SOLAR_ZENITH_ANGLE',\n",
    "      \"vza\": 'SOLAR_ZENITH_ANGLE',\n",
    "      \"saa\": 'SOLAR_AZIMUTH_ANGLE', \n",
    "      \"vaa\": 'SOLAR_AZIMUTH_ANGLE',\n",
    "      \"VIS_OPTIONS\": 'VIS_OPTIONS',\n",
    "      \"Collection_SL2P\": ee.FeatureCollection(l8_createFeatureCollection_estimates()),\n",
    "      \"Collection_SL2Perrors\": ee.FeatureCollection(l8_createFeatureCollection_errors()),\n",
    "      \"sl2pDomain\": ee.FeatureCollection(l8_createFeatureCollection_domains()),\n",
    "      \"Network_Ind\": ee.FeatureCollection(l8_createFeatureCollection_Network_Ind()),\n",
    "      \"partition\": ee.ImageCollection(l8_createImageCollection_partition()),\n",
    "      \"legend\": ee.FeatureCollection(l8_createFeatureCollection_legend()),\n",
    "      \"numVariables\": 7\n",
    "    }\n",
    "}\n",
    "\n",
    "VIS_OPTIONS = {\n",
    "    'Surface_Reflectance': {\n",
    "        \"COPERNICUS/S2_SR\": {\n",
    "            \"Name\": 'Surface_Reflectance',\n",
    "            \"description\": 'Surface_Reflectance',\n",
    "            \"inp\": ['B4', 'B5', 'B6', 'B7', 'B8A', 'B9', 'B11', 'B12']\n",
    "        },\n",
    "        \"COPERNICUS/S2_SR_10m\": {\n",
    "            \"Name\": 'Surface_Reflectance',\n",
    "            \"description\": 'Surface_Reflectance',\n",
    "            \"inp\": ['B2', 'B3', 'B4', 'B8']\n",
    "        }\n",
    "    },\n",
    "    'Albedo': {\n",
    "        \"COPERNICUS/S2_SR\": {\n",
    "            \"Name\": 'Albedo',\n",
    "            \"errorName\": 'errorAlbedo',\n",
    "            \"maskName\": 'maskAlbedo',\n",
    "            \"description\": 'Black sky albedo',\n",
    "            \"variable\": 6,\n",
    "            \"inputBands\":      ['cosVZA', 'cosSZA', 'cosRAA', 'B3', 'B4', 'B5', 'B6', 'B7', 'B8A', 'B11', 'B12'],\n",
    "            \"inputScaling\":    [0.0001, 0.0001, 0.0001, 0.0001, 0.0001, 0.0001, 0.0001, 0.0001, 0.0001, 0.0001, 0.0001],\n",
    "            \"outmin\": (ee.Image(ee.Array([[0]]))),\n",
    "            \"outmax\": (ee.Image(ee.Array([[1]])))\n",
    "        },\n",
    "        \"COPERNICUS/S2_SR_10m\": {\n",
    "            \"Name\": 'Albedo',\n",
    "            \"errorName\": 'errorAlbedo',\n",
    "            \"maskName\": 'maskAlbedo',\n",
    "            \"description\": 'Black sky albedo',\n",
    "            \"variable\": 6,\n",
    "            \"inputBands\":      ['cosVZA', 'cosSZA', 'cosRAA', 'B2', 'B3', 'B4', 'B8'],\n",
    "            \"inputScaling\":    [0.0001, 0.0001, 0.0001, 0.0001, 0.0001, 0.0001, 0.0001],\n",
    "            \"outmin\": (ee.Image(ee.Array([[0]]))),\n",
    "            \"outmax\": (ee.Image(ee.Array([[1]])))\n",
    "        }\n",
    "    },\n",
    "    'fAPAR': {\n",
    "        \"COPERNICUS/S2_SR\": {\n",
    "            \"Name\": 'fAPAR',\n",
    "            \"errorName\": 'errorfAPAR',\n",
    "            \"maskName\": 'maskfAPAR',\n",
    "            \"description\": 'Fraction of absorbed photosynthetically active radiation',\n",
    "            \"variable\": 2,\n",
    "            \"inputBands\":      ['cosVZA', 'cosSZA', 'cosRAA', 'B3', 'B4', 'B5', 'B6', 'B7', 'B8A', 'B11', 'B12'],\n",
    "            \"inputScaling\":    [0.0001, 0.0001, 0.0001, 0.0001, 0.0001, 0.0001, 0.0001, 0.0001, 0.0001, 0.0001, 0.0001],\n",
    "            \"outmin\": (ee.Image(ee.Array([[0]]))),\n",
    "            \"outmax\": (ee.Image(ee.Array([[1]])))\n",
    "        },\n",
    "        \"COPERNICUS/S2_SR_10m\": {\n",
    "            \"Name\": 'fAPAR',\n",
    "            \"errorName\": 'errorfAPAR',\n",
    "            \"maskName\": 'maskfAPAR',\n",
    "            \"description\": 'Fraction of absorbed photosynthetically active radiation',\n",
    "            \"variable\": 2,\n",
    "            \"inputBands\":      ['cosVZA', 'cosSZA', 'cosRAA', 'B2', 'B3', 'B4', 'B8'],\n",
    "            \"inputScaling\":    [0.0001, 0.0001, 0.0001, 0.0001, 0.0001, 0.0001, 0.0001],\n",
    "            \"outmin\": (ee.Image(ee.Array([[0]]))),\n",
    "            \"outmax\": (ee.Image(ee.Array([[1]])))\n",
    "        }\n",
    "    },\n",
    "    'fCOVER': {\n",
    "        \"COPERNICUS/S2_SR\": {\n",
    "            \"Name\": 'fCOVER',\n",
    "            \"errorName\": 'errorfCOVER',\n",
    "            \"maskName\": 'maskfCOVER',\n",
    "            \"description\": 'Fraction of canopy cover',\n",
    "            \"variable\": 3,\n",
    "            \"inputBands\":      ['cosVZA', 'cosSZA', 'cosRAA', 'B3', 'B4', 'B5', 'B6', 'B7', 'B8A', 'B11', 'B12'],\n",
    "            \"inputScaling\":    [0.0001, 0.0001, 0.0001, 0.0001, 0.0001, 0.0001, 0.0001, 0.0001, 0.0001, 0.0001, 0.0001],\n",
    "            \"outmin\": (ee.Image(ee.Array([[0]]))),\n",
    "            \"outmax\": (ee.Image(ee.Array([[1]]))) \n",
    "        },\n",
    "        \"COPERNICUS/S2_SR_10m\": {\n",
    "            \"Name\": 'fCOVER',\n",
    "            \"errorName\": 'errorfCOVER',\n",
    "            \"maskName\": 'maskfCOVER',\n",
    "            \"description\": 'Fraction of canopy cover',\n",
    "            \"variable\": 3,\n",
    "            \"inputBands\":      ['cosVZA', 'cosSZA', 'cosRAA', 'B2', 'B3', 'B4', 'B8'],\n",
    "            \"inputScaling\":    [0.0001, 0.0001, 0.0001, 0.0001, 0.0001, 0.0001, 0.0001],\n",
    "            \"outmin\": (ee.Image(ee.Array([[0]]))),\n",
    "            \"outmax\": (ee.Image(ee.Array([[1]]))) \n",
    "        }\n",
    "    },\n",
    "    'LAI': {\n",
    "        \"COPERNICUS/S2_SR\": {\n",
    "            \"Name\": 'LAI',\n",
    "            \"errorName\": 'errorLAI',\n",
    "            \"maskName\": 'maskLAI',\n",
    "            \"description\": 'Leaf area index',\n",
    "            \"variable\": 1,\n",
    "            \"inputBands\":      ['cosVZA', 'cosSZA', 'cosRAA', 'B3', 'B4', 'B5', 'B6', 'B7', 'B8A', 'B11', 'B12'],\n",
    "            \"inputScaling\":    [0.0001, 0.0001, 0.0001, 0.0001, 0.0001, 0.0001, 0.0001, 0.0001, 0.0001, 0.0001, 0.0001],\n",
    "            \"outmin\": (ee.Image(ee.Array([[0]]))),\n",
    "            \"outmax\": (ee.Image(ee.Array([[1]])))\n",
    "        },\n",
    "        \"COPERNICUS/S2_SR_10m\": {\n",
    "            \"Name\": 'LAI',\n",
    "            \"errorName\": 'errorLAI',\n",
    "            \"maskName\": 'maskLAI',\n",
    "            \"description\": 'Leaf area index',\n",
    "            \"variable\": 1,\n",
    "            \"inputBands\":      ['cosVZA', 'cosSZA', 'cosRAA', 'B2', 'B3', 'B4', 'B8'],\n",
    "            \"inputScaling\":    [0.0001, 0.0001, 0.0001, 0.0001, 0.0001, 0.0001, 0.0001],\n",
    "            \"outmin\": (ee.Image(ee.Array([[0]]))),\n",
    "            \"outmax\": (ee.Image(ee.Array([[1]])))\n",
    "        }\n",
    "    },\n",
    "    'CCC': {\n",
    "        \"COPERNICUS/S2_SR\": {\n",
    "            \"Name\": 'CCC',\n",
    "            \"errorName\": 'errorCCC',\n",
    "            \"maskName\": 'maskCCC',\n",
    "            \"description\": 'Canopy chlorophyll content',\n",
    "            \"variable\": 1,\n",
    "            \"inputBands\":      ['cosVZA', 'cosSZA', 'cosRAA', 'B3', 'B4', 'B5', 'B6', 'B7', 'B8A', 'B11', 'B12'],\n",
    "            \"inputScaling\":    [0.0001, 0.0001, 0.0001, 0.0001, 0.0001, 0.0001, 0.0001, 0.0001, 0.0001, 0.0001, 0.0001],\n",
    "            \"outmin\": (ee.Image(ee.Array([[0]]))),\n",
    "            \"outmax\": (ee.Image(ee.Array([[1000]])))\n",
    "        },\n",
    "        \"COPERNICUS/S2_SR_10m\": {\n",
    "            \"Name\": 'CCC',\n",
    "            \"errorName\": 'errorCCC',\n",
    "            \"maskName\": 'maskCCC',\n",
    "            \"description\": 'Canopy chlorophyll content',\n",
    "            \"variable\": 1,\n",
    "            \"inputBands\":      ['cosVZA', 'cosSZA', 'cosRAA', 'B2', 'B3', 'B4', 'B8'],\n",
    "            \"inputScaling\":    [0.0001, 0.0001, 0.0001, 0.0001, 0.0001, 0.0001, 0.0001],\n",
    "            \"outmin\": (ee.Image(ee.Array([[0]]))),\n",
    "            \"outmax\": (ee.Image(ee.Array([[1000]])))\n",
    "        }\n",
    "    },\n",
    "    'CWC': {\n",
    "        \"COPERNICUS/S2_SR\": {\n",
    "            \"Name\": 'CWC',\n",
    "            \"errorName\": 'errorCWC',\n",
    "            \"maskName\": 'maskCWC',\n",
    "            \"description\": 'Canopy water content',\n",
    "            \"variable\": 1,\n",
    "            \"inputBands\":      ['cosVZA', 'cosSZA', 'cosRAA', 'B3', 'B4', 'B5', 'B6', 'B7', 'B8A', 'B11', 'B12'],\n",
    "            \"inputScaling\":    [0.0001, 0.0001, 0.0001, 0.0001, 0.0001, 0.0001, 0.0001, 0.0001, 0.0001, 0.0001, 0.0001],\n",
    "            \"outmin\": (ee.Image(ee.Array([[0]]))),\n",
    "            \"outmax\": (ee.Image(ee.Array([[100]])))\n",
    "        },\n",
    "        \"COPERNICUS/S2_SR_10m\": {\n",
    "            \"Name\": 'CWC',\n",
    "            \"errorName\": 'errorCWC',\n",
    "            \"maskName\": 'maskCWC',\n",
    "            \"description\": 'Canopy water content',\n",
    "            \"variable\": 1,\n",
    "            \"inputBands\":      ['cosVZA', 'cosSZA', 'cosRAA', 'B2', 'B3', 'B4', 'B8'],\n",
    "            \"inputScaling\":    [0.0001, 0.0001, 0.0001, 0.0001, 0.0001, 0.0001, 0.0001],\n",
    "            \"outmin\": (ee.Image(ee.Array([[0]]))),\n",
    "            \"outmax\": (ee.Image(ee.Array([[100]])))\n",
    "        }\n",
    "    },\n",
    "    'DASF': {\n",
    "        \"COPERNICUS/S2_SR\": {\n",
    "            \"Name\": 'DASF',\n",
    "            \"errorName\": 'errorDASF',\n",
    "            \"maskName\": 'maskDASF',\n",
    "            \"description\": 'Directional area scattering factor',\n",
    "            \"variable\": 1,\n",
    "            \"inputBands\":      ['cosVZA', 'cosSZA', 'cosRAA', 'B3', 'B4', 'B5', 'B6', 'B7', 'B8A', 'B11', 'B12'],\n",
    "            \"inputScaling\":    [0.0001, 0.0001, 0.0001, 0.0001, 0.0001, 0.0001, 0.0001, 0.0001, 0.0001, 0.0001, 0.0001],\n",
    "            \"outmin\": (ee.Image(ee.Array([[0]]))),\n",
    "            \"outmax\": (ee.Image(ee.Array([[1]])))\n",
    "        },\n",
    "        \"COPERNICUS/S2_SR_10m\": {\n",
    "            \"Name\": 'DASF',\n",
    "            \"errorName\": 'errorDASF',\n",
    "            \"maskName\": 'maskDASF',\n",
    "            \"description\": 'Directional area scattering factor',\n",
    "            \"variable\": 1,\n",
    "            \"inputBands\":      ['cosVZA', 'cosSZA', 'cosRAA', 'B2', 'B3', 'B4', 'B8'],\n",
    "            \"inputScaling\":    [0.0001, 0.0001, 0.0001, 0.0001, 0.0001, 0.0001, 0.0001],\n",
    "            \"outmin\": (ee.Image(ee.Array([[0]]))),\n",
    "            \"outmax\": (ee.Image(ee.Array([[1]])))\n",
    "        }\n",
    "    }\n",
    "}"
   ]
  },
  {
   "cell_type": "code",
   "execution_count": 51,
   "metadata": {},
   "outputs": [
    {
     "name": "stdout",
     "output_type": "stream",
     "text": [
      "ee.Image({\n",
      "  \"functionInvocationValue\": {\n",
      "    \"functionName\": \"Image.constant\",\n",
      "    \"arguments\": {\n",
      "      \"value\": {\n",
      "        \"functionInvocationValue\": {\n",
      "          \"functionName\": \"Array\",\n",
      "          \"arguments\": {\n",
      "            \"values\": {\n",
      "              \"constantValue\": [\n",
      "                [\n",
      "                  1\n",
      "                ]\n",
      "              ]\n",
      "            }\n",
      "          }\n",
      "        }\n",
      "      }\n",
      "    }\n",
      "  }\n",
      "})\n"
     ]
    }
   ],
   "source": [
    "print(VIS_OPTIONS['fAPAR']['COPERNICUS/S2_SR']['outmax'])"
   ]
  },
  {
   "cell_type": "code",
   "execution_count": 52,
   "metadata": {
    "tags": []
   },
   "outputs": [],
   "source": [
    "# parse the networks\n",
    "colName = 'COPERNICUS/S2_SR'\n",
    "colOptions = COLLECTION_OPTIONS[colName]\n",
    "netOptions = VIS_OPTIONS[outputName][colName]\n",
    "numNets = ee.Number(ee.Feature((COLLECTION_OPTIONS[colName][\"Network_Ind\"]).first()).propertyNames().remove('Feature Index').remove('system:index').remove('lon').size())\n",
    "SL2P = ee.List.sequence(1,ee.Number(COLLECTION_OPTIONS[colName][\"numVariables\"]),1).map(lambda netNum: makeNetVars(COLLECTION_OPTIONS[colName][\"Collection_SL2P\"],numNets,netNum));\n",
    "errorsSL2P = ee.List.sequence(1,ee.Number(COLLECTION_OPTIONS[colName][\"numVariables\"]),1).map(lambda netNum: makeNetVars(COLLECTION_OPTIONS[colName][\"Collection_SL2Perrors\"],numNets,netNum));"
   ]
  },
  {
   "cell_type": "code",
   "execution_count": 53,
   "metadata": {},
   "outputs": [
    {
     "name": "stdout",
     "output_type": "stream",
     "text": [
      "5\n"
     ]
    },
    {
     "data": {
      "text/html": [
       "<div style=\"width:100%;\"><div style=\"position:relative;width:100%;height:0;padding-bottom:60%;\"><span style=\"color:#565656\">Make this Notebook Trusted to load map: File -> Trust Notebook</span><iframe src=\"about:blank\" style=\"position:absolute;width:100%;height:100%;left:0;top:0;border:none !important;\" data-html=%3C%21DOCTYPE%20html%3E%0A%3Chead%3E%20%20%20%20%0A%20%20%20%20%3Cmeta%20http-equiv%3D%22content-type%22%20content%3D%22text/html%3B%20charset%3DUTF-8%22%20/%3E%0A%20%20%20%20%0A%20%20%20%20%20%20%20%20%3Cscript%3E%0A%20%20%20%20%20%20%20%20%20%20%20%20L_NO_TOUCH%20%3D%20false%3B%0A%20%20%20%20%20%20%20%20%20%20%20%20L_DISABLE_3D%20%3D%20false%3B%0A%20%20%20%20%20%20%20%20%3C/script%3E%0A%20%20%20%20%0A%20%20%20%20%3Cstyle%3Ehtml%2C%20body%20%7Bwidth%3A%20100%25%3Bheight%3A%20100%25%3Bmargin%3A%200%3Bpadding%3A%200%3B%7D%3C/style%3E%0A%20%20%20%20%3Cstyle%3E%23map%20%7Bposition%3Aabsolute%3Btop%3A0%3Bbottom%3A0%3Bright%3A0%3Bleft%3A0%3B%7D%3C/style%3E%0A%20%20%20%20%3Cscript%20src%3D%22https%3A//cdn.jsdelivr.net/npm/leaflet%401.6.0/dist/leaflet.js%22%3E%3C/script%3E%0A%20%20%20%20%3Cscript%20src%3D%22https%3A//code.jquery.com/jquery-1.12.4.min.js%22%3E%3C/script%3E%0A%20%20%20%20%3Cscript%20src%3D%22https%3A//maxcdn.bootstrapcdn.com/bootstrap/3.2.0/js/bootstrap.min.js%22%3E%3C/script%3E%0A%20%20%20%20%3Cscript%20src%3D%22https%3A//cdnjs.cloudflare.com/ajax/libs/Leaflet.awesome-markers/2.0.2/leaflet.awesome-markers.js%22%3E%3C/script%3E%0A%20%20%20%20%3Clink%20rel%3D%22stylesheet%22%20href%3D%22https%3A//cdn.jsdelivr.net/npm/leaflet%401.6.0/dist/leaflet.css%22/%3E%0A%20%20%20%20%3Clink%20rel%3D%22stylesheet%22%20href%3D%22https%3A//maxcdn.bootstrapcdn.com/bootstrap/3.2.0/css/bootstrap.min.css%22/%3E%0A%20%20%20%20%3Clink%20rel%3D%22stylesheet%22%20href%3D%22https%3A//maxcdn.bootstrapcdn.com/bootstrap/3.2.0/css/bootstrap-theme.min.css%22/%3E%0A%20%20%20%20%3Clink%20rel%3D%22stylesheet%22%20href%3D%22https%3A//maxcdn.bootstrapcdn.com/font-awesome/4.6.3/css/font-awesome.min.css%22/%3E%0A%20%20%20%20%3Clink%20rel%3D%22stylesheet%22%20href%3D%22https%3A//cdnjs.cloudflare.com/ajax/libs/Leaflet.awesome-markers/2.0.2/leaflet.awesome-markers.css%22/%3E%0A%20%20%20%20%3Clink%20rel%3D%22stylesheet%22%20href%3D%22https%3A//cdn.jsdelivr.net/gh/python-visualization/folium/folium/templates/leaflet.awesome.rotate.min.css%22/%3E%0A%20%20%20%20%0A%20%20%20%20%20%20%20%20%20%20%20%20%3Cmeta%20name%3D%22viewport%22%20content%3D%22width%3Ddevice-width%2C%0A%20%20%20%20%20%20%20%20%20%20%20%20%20%20%20%20initial-scale%3D1.0%2C%20maximum-scale%3D1.0%2C%20user-scalable%3Dno%22%20/%3E%0A%20%20%20%20%20%20%20%20%20%20%20%20%3Cstyle%3E%0A%20%20%20%20%20%20%20%20%20%20%20%20%20%20%20%20%23map_e4d379c59e934a2d8b447ccea3080523%20%7B%0A%20%20%20%20%20%20%20%20%20%20%20%20%20%20%20%20%20%20%20%20position%3A%20relative%3B%0A%20%20%20%20%20%20%20%20%20%20%20%20%20%20%20%20%20%20%20%20width%3A%20100.0%25%3B%0A%20%20%20%20%20%20%20%20%20%20%20%20%20%20%20%20%20%20%20%20height%3A%20500.0px%3B%0A%20%20%20%20%20%20%20%20%20%20%20%20%20%20%20%20%20%20%20%20left%3A%200.0%25%3B%0A%20%20%20%20%20%20%20%20%20%20%20%20%20%20%20%20%20%20%20%20top%3A%200.0%25%3B%0A%20%20%20%20%20%20%20%20%20%20%20%20%20%20%20%20%7D%0A%20%20%20%20%20%20%20%20%20%20%20%20%3C/style%3E%0A%20%20%20%20%20%20%20%20%0A%20%20%20%20%3Cscript%20src%3D%22https%3A//cdnjs.cloudflare.com/ajax/libs/leaflet.fullscreen/1.4.2/Control.FullScreen.min.js%22%3E%3C/script%3E%0A%20%20%20%20%3Clink%20rel%3D%22stylesheet%22%20href%3D%22https%3A//cdnjs.cloudflare.com/ajax/libs/leaflet.fullscreen/1.4.2/Control.FullScreen.min.css%22/%3E%0A%3C/head%3E%0A%3Cbody%3E%20%20%20%20%0A%20%20%20%20%0A%20%20%20%20%20%20%20%20%20%20%20%20%3Cdiv%20class%3D%22folium-map%22%20id%3D%22map_e4d379c59e934a2d8b447ccea3080523%22%20%3E%3C/div%3E%0A%20%20%20%20%20%20%20%20%0A%3C/body%3E%0A%3Cscript%3E%20%20%20%20%0A%20%20%20%20%0A%20%20%20%20%20%20%20%20%20%20%20%20var%20map_e4d379c59e934a2d8b447ccea3080523%20%3D%20L.map%28%0A%20%20%20%20%20%20%20%20%20%20%20%20%20%20%20%20%22map_e4d379c59e934a2d8b447ccea3080523%22%2C%0A%20%20%20%20%20%20%20%20%20%20%20%20%20%20%20%20%7B%0A%20%20%20%20%20%20%20%20%20%20%20%20%20%20%20%20%20%20%20%20center%3A%20%5B45.5%2C%20-75.0%5D%2C%0A%20%20%20%20%20%20%20%20%20%20%20%20%20%20%20%20%20%20%20%20crs%3A%20L.CRS.EPSG3857%2C%0A%20%20%20%20%20%20%20%20%20%20%20%20%20%20%20%20%20%20%20%20zoom%3A%208%2C%0A%20%20%20%20%20%20%20%20%20%20%20%20%20%20%20%20%20%20%20%20zoomControl%3A%20true%2C%0A%20%20%20%20%20%20%20%20%20%20%20%20%20%20%20%20%20%20%20%20preferCanvas%3A%20false%2C%0A%20%20%20%20%20%20%20%20%20%20%20%20%20%20%20%20%7D%0A%20%20%20%20%20%20%20%20%20%20%20%20%29%3B%0A%0A%20%20%20%20%20%20%20%20%20%20%20%20%0A%0A%20%20%20%20%20%20%20%20%0A%20%20%20%20%0A%20%20%20%20%20%20%20%20%20%20%20%20var%20tile_layer_e1bb5396fd3646a6b088bea729d7d88c%20%3D%20L.tileLayer%28%0A%20%20%20%20%20%20%20%20%20%20%20%20%20%20%20%20%22https%3A//%7Bs%7D.tile.openstreetmap.org/%7Bz%7D/%7Bx%7D/%7By%7D.png%22%2C%0A%20%20%20%20%20%20%20%20%20%20%20%20%20%20%20%20%7B%22attribution%22%3A%20%22Data%20by%20%5Cu0026copy%3B%20%5Cu003ca%20href%3D%5C%22http%3A//openstreetmap.org%5C%22%5Cu003eOpenStreetMap%5Cu003c/a%5Cu003e%2C%20under%20%5Cu003ca%20href%3D%5C%22http%3A//www.openstreetmap.org/copyright%5C%22%5Cu003eODbL%5Cu003c/a%5Cu003e.%22%2C%20%22detectRetina%22%3A%20false%2C%20%22maxNativeZoom%22%3A%2018%2C%20%22maxZoom%22%3A%2018%2C%20%22minZoom%22%3A%200%2C%20%22noWrap%22%3A%20false%2C%20%22opacity%22%3A%201%2C%20%22subdomains%22%3A%20%22abc%22%2C%20%22tms%22%3A%20false%7D%0A%20%20%20%20%20%20%20%20%20%20%20%20%29.addTo%28map_e4d379c59e934a2d8b447ccea3080523%29%3B%0A%20%20%20%20%20%20%20%20%0A%20%20%20%20%0A%20%20%20%20%20%20%20%20%20%20%20%20var%20tile_layer_e8929e13cfa54398a11baa949f5b9cf9%20%3D%20L.tileLayer%28%0A%20%20%20%20%20%20%20%20%20%20%20%20%20%20%20%20%22https%3A//earthengine.googleapis.com/v1alpha/projects/earthengine-legacy/maps/d39cff94cd54ae7fbdfce930c6779a2b-1c0c8046a4039350d1fc30ec0361b411/tiles/%7Bz%7D/%7Bx%7D/%7By%7D%22%2C%0A%20%20%20%20%20%20%20%20%20%20%20%20%20%20%20%20%7B%22attribution%22%3A%20%22Google%20Earth%20Engine%22%2C%20%22detectRetina%22%3A%20false%2C%20%22maxNativeZoom%22%3A%2018%2C%20%22maxZoom%22%3A%2018%2C%20%22minZoom%22%3A%200%2C%20%22noWrap%22%3A%20false%2C%20%22opacity%22%3A%201%2C%20%22subdomains%22%3A%20%22abc%22%2C%20%22tms%22%3A%20false%7D%0A%20%20%20%20%20%20%20%20%20%20%20%20%29.addTo%28map_e4d379c59e934a2d8b447ccea3080523%29%3B%0A%20%20%20%20%20%20%20%20%0A%20%20%20%20%0A%20%20%20%20%20%20%20%20%20%20%20%20var%20layer_control_1b473130174e4f2995504205b1a29a1c%20%3D%20%7B%0A%20%20%20%20%20%20%20%20%20%20%20%20%20%20%20%20base_layers%20%3A%20%7B%0A%20%20%20%20%20%20%20%20%20%20%20%20%20%20%20%20%20%20%20%20%22openstreetmap%22%20%3A%20tile_layer_e1bb5396fd3646a6b088bea729d7d88c%2C%0A%20%20%20%20%20%20%20%20%20%20%20%20%20%20%20%20%7D%2C%0A%20%20%20%20%20%20%20%20%20%20%20%20%20%20%20%20overlays%20%3A%20%20%7B%0A%20%20%20%20%20%20%20%20%20%20%20%20%20%20%20%20%20%20%20%20%22Image%22%20%3A%20tile_layer_e8929e13cfa54398a11baa949f5b9cf9%2C%0A%20%20%20%20%20%20%20%20%20%20%20%20%20%20%20%20%7D%2C%0A%20%20%20%20%20%20%20%20%20%20%20%20%7D%3B%0A%20%20%20%20%20%20%20%20%20%20%20%20L.control.layers%28%0A%20%20%20%20%20%20%20%20%20%20%20%20%20%20%20%20layer_control_1b473130174e4f2995504205b1a29a1c.base_layers%2C%0A%20%20%20%20%20%20%20%20%20%20%20%20%20%20%20%20layer_control_1b473130174e4f2995504205b1a29a1c.overlays%2C%0A%20%20%20%20%20%20%20%20%20%20%20%20%20%20%20%20%7B%22autoZIndex%22%3A%20true%2C%20%22collapsed%22%3A%20true%2C%20%22position%22%3A%20%22topright%22%7D%0A%20%20%20%20%20%20%20%20%20%20%20%20%29.addTo%28map_e4d379c59e934a2d8b447ccea3080523%29%3B%0A%20%20%20%20%20%20%20%20%0A%20%20%20%20%0A%20%20%20%20%20%20%20%20%20%20%20%20L.control.fullscreen%28%0A%20%20%20%20%20%20%20%20%20%20%20%20%20%20%20%20%7B%22forceSeparateButton%22%3A%20false%2C%20%22position%22%3A%20%22topleft%22%2C%20%22title%22%3A%20%22Full%20Screen%22%2C%20%22titleCancel%22%3A%20%22Exit%20Full%20Screen%22%7D%0A%20%20%20%20%20%20%20%20%20%20%20%20%29.addTo%28map_e4d379c59e934a2d8b447ccea3080523%29%3B%0A%20%20%20%20%20%20%20%20%0A%3C/script%3E onload=\"this.contentDocument.open();this.contentDocument.write(    decodeURIComponent(this.getAttribute('data-html')));this.contentDocument.close();\" allowfullscreen webkitallowfullscreen mozallowfullscreen></iframe></div></div>"
      ],
      "text/plain": [
       "<folium.folium.Map at 0x144a39460>"
      ]
     },
     "metadata": {},
     "output_type": "display_data"
    }
   ],
   "source": [
    "# make products and export\n",
    "# SL2P original\n",
    "\n",
    "# filter collection and add ancillary bands\n",
    "input_collection = ee.ImageCollection(COLLECTION_OPTIONS[colName][\"name\"]) \\\n",
    "                     .filterBounds(mapBounds) \\\n",
    "                     .filterDate(startDate, endDate) \\\n",
    "                     .filterMetadata(colOptions[\"Cloudcover\"],'less_than',maxCloudcover) \\\n",
    "                     .limit(5000) \\\n",
    "                     .map(lambda image: addDate(image)) \\\n",
    "                     .map(lambda image: image.clip(mapBounds)) \\\n",
    "                     .map(lambda image: s2MaskClear(image)) \\\n",
    "                     .map(lambda image: addS2Geometry(colOptions, image))\n",
    "print(input_collection.size().getInfo())\n",
    "\n",
    "if outputName == \"Surface_Reflectance\":\n",
    "    export_collection = input_collection;\n",
    "else:\n",
    "    # get partition used to select network\n",
    "    partition = (COLLECTION_OPTIONS[colName][\"partition\"]).filterBounds(mapBounds).mosaic().clip(mapBounds).rename('partition');\n",
    "    \n",
    "    # pre process input imagery and flag invalid inputs\n",
    "    input_collection = input_collection.map(lambda image: s2MaskLand(image)) \\\n",
    "                                       .map(lambda image: scaleBands(netOptions[\"inputBands\"],netOptions[\"inputScaling\"],image)) \\\n",
    "                                       .map(lambda image: invalidInput(COLLECTION_OPTIONS[colName][\"sl2pDomain\"],netOptions[\"inputBands\"],image))\n",
    "    \n",
    "    # apply networks to produce mapped parameters\n",
    "    estimateSL2P = input_collection.map(lambda image: wrapperNNets(SL2P, partition, netOptions, COLLECTION_OPTIONS[colName], \"estimate\", image))\n",
    "    uncertaintySL2P = input_collection.map(lambda image: wrapperNNets(errorsSL2P, partition, netOptions, COLLECTION_OPTIONS[colName], \"error\", image))\n",
    "    \n",
    "    # scale and offset mapped parameter bands\n",
    "    estimateSL2P = estimateSL2P.map(lambda image: image.addBands(image.select(\"estimate\"+outputName).multiply(ee.Image.constant(outputScale)).add(ee.Image.constant(outputOffset)),overwrite = True));\n",
    "    uncertaintySL2P = uncertaintySL2P.map(lambda image: image.addBands(image.select(\"error\"+outputName).multiply(ee.Image.constant(outputScale)).add(ee.Image.constant(outputOffset)),overwrite = True));\n",
    "    \n",
    "    # produce final export collection\n",
    "    export_collection = input_collection.select(['date','QC']).combine(estimateSL2P).combine(uncertaintySL2P)\n",
    "    \n",
    "image_output_names = ([name+\"_\"+outputName for name in export_collection.toList(export_collection.size()).map(lambda image: ee.Image(image).id()).getInfo()])\n",
    "displayImage(export_collection.mosaic().select('estimate'+outputName),0+outputOffset,10*outputScale+outputOffset)"
   ]
  },
  {
   "cell_type": "code",
   "execution_count": 54,
   "metadata": {
    "tags": []
   },
   "outputs": [],
   "source": [
    "# parse the networks\n",
    "colName = 'COPERNICUS/S2_SR_10m'\n",
    "colOptions = COLLECTION_OPTIONS[colName]\n",
    "netOptions = VIS_OPTIONS[outputName][colName]\n",
    "numNets = ee.Number(ee.Feature((COLLECTION_OPTIONS[colName][\"Network_Ind\"]).first()).propertyNames().remove('Feature Index').remove('system:index').remove('lon').size())\n",
    "SL2P = ee.List.sequence(1,ee.Number(COLLECTION_OPTIONS[colName][\"numVariables\"]),1).map(lambda netNum: makeNetVars(COLLECTION_OPTIONS[colName][\"Collection_SL2P\"],numNets,netNum));\n",
    "errorsSL2P = ee.List.sequence(1,ee.Number(COLLECTION_OPTIONS[colName][\"numVariables\"]),1).map(lambda netNum: makeNetVars(COLLECTION_OPTIONS[colName][\"Collection_SL2Perrors\"],numNets,netNum));"
   ]
  },
  {
   "cell_type": "code",
   "execution_count": 55,
   "metadata": {},
   "outputs": [
    {
     "name": "stdout",
     "output_type": "stream",
     "text": [
      "5\n"
     ]
    },
    {
     "data": {
      "text/html": [
       "<div style=\"width:100%;\"><div style=\"position:relative;width:100%;height:0;padding-bottom:60%;\"><span style=\"color:#565656\">Make this Notebook Trusted to load map: File -> Trust Notebook</span><iframe src=\"about:blank\" style=\"position:absolute;width:100%;height:100%;left:0;top:0;border:none !important;\" data-html=%3C%21DOCTYPE%20html%3E%0A%3Chead%3E%20%20%20%20%0A%20%20%20%20%3Cmeta%20http-equiv%3D%22content-type%22%20content%3D%22text/html%3B%20charset%3DUTF-8%22%20/%3E%0A%20%20%20%20%0A%20%20%20%20%20%20%20%20%3Cscript%3E%0A%20%20%20%20%20%20%20%20%20%20%20%20L_NO_TOUCH%20%3D%20false%3B%0A%20%20%20%20%20%20%20%20%20%20%20%20L_DISABLE_3D%20%3D%20false%3B%0A%20%20%20%20%20%20%20%20%3C/script%3E%0A%20%20%20%20%0A%20%20%20%20%3Cstyle%3Ehtml%2C%20body%20%7Bwidth%3A%20100%25%3Bheight%3A%20100%25%3Bmargin%3A%200%3Bpadding%3A%200%3B%7D%3C/style%3E%0A%20%20%20%20%3Cstyle%3E%23map%20%7Bposition%3Aabsolute%3Btop%3A0%3Bbottom%3A0%3Bright%3A0%3Bleft%3A0%3B%7D%3C/style%3E%0A%20%20%20%20%3Cscript%20src%3D%22https%3A//cdn.jsdelivr.net/npm/leaflet%401.6.0/dist/leaflet.js%22%3E%3C/script%3E%0A%20%20%20%20%3Cscript%20src%3D%22https%3A//code.jquery.com/jquery-1.12.4.min.js%22%3E%3C/script%3E%0A%20%20%20%20%3Cscript%20src%3D%22https%3A//maxcdn.bootstrapcdn.com/bootstrap/3.2.0/js/bootstrap.min.js%22%3E%3C/script%3E%0A%20%20%20%20%3Cscript%20src%3D%22https%3A//cdnjs.cloudflare.com/ajax/libs/Leaflet.awesome-markers/2.0.2/leaflet.awesome-markers.js%22%3E%3C/script%3E%0A%20%20%20%20%3Clink%20rel%3D%22stylesheet%22%20href%3D%22https%3A//cdn.jsdelivr.net/npm/leaflet%401.6.0/dist/leaflet.css%22/%3E%0A%20%20%20%20%3Clink%20rel%3D%22stylesheet%22%20href%3D%22https%3A//maxcdn.bootstrapcdn.com/bootstrap/3.2.0/css/bootstrap.min.css%22/%3E%0A%20%20%20%20%3Clink%20rel%3D%22stylesheet%22%20href%3D%22https%3A//maxcdn.bootstrapcdn.com/bootstrap/3.2.0/css/bootstrap-theme.min.css%22/%3E%0A%20%20%20%20%3Clink%20rel%3D%22stylesheet%22%20href%3D%22https%3A//maxcdn.bootstrapcdn.com/font-awesome/4.6.3/css/font-awesome.min.css%22/%3E%0A%20%20%20%20%3Clink%20rel%3D%22stylesheet%22%20href%3D%22https%3A//cdnjs.cloudflare.com/ajax/libs/Leaflet.awesome-markers/2.0.2/leaflet.awesome-markers.css%22/%3E%0A%20%20%20%20%3Clink%20rel%3D%22stylesheet%22%20href%3D%22https%3A//cdn.jsdelivr.net/gh/python-visualization/folium/folium/templates/leaflet.awesome.rotate.min.css%22/%3E%0A%20%20%20%20%0A%20%20%20%20%20%20%20%20%20%20%20%20%3Cmeta%20name%3D%22viewport%22%20content%3D%22width%3Ddevice-width%2C%0A%20%20%20%20%20%20%20%20%20%20%20%20%20%20%20%20initial-scale%3D1.0%2C%20maximum-scale%3D1.0%2C%20user-scalable%3Dno%22%20/%3E%0A%20%20%20%20%20%20%20%20%20%20%20%20%3Cstyle%3E%0A%20%20%20%20%20%20%20%20%20%20%20%20%20%20%20%20%23map_6171d87a7c96421b8e20427f055f7e99%20%7B%0A%20%20%20%20%20%20%20%20%20%20%20%20%20%20%20%20%20%20%20%20position%3A%20relative%3B%0A%20%20%20%20%20%20%20%20%20%20%20%20%20%20%20%20%20%20%20%20width%3A%20100.0%25%3B%0A%20%20%20%20%20%20%20%20%20%20%20%20%20%20%20%20%20%20%20%20height%3A%20500.0px%3B%0A%20%20%20%20%20%20%20%20%20%20%20%20%20%20%20%20%20%20%20%20left%3A%200.0%25%3B%0A%20%20%20%20%20%20%20%20%20%20%20%20%20%20%20%20%20%20%20%20top%3A%200.0%25%3B%0A%20%20%20%20%20%20%20%20%20%20%20%20%20%20%20%20%7D%0A%20%20%20%20%20%20%20%20%20%20%20%20%3C/style%3E%0A%20%20%20%20%20%20%20%20%0A%20%20%20%20%3Cscript%20src%3D%22https%3A//cdnjs.cloudflare.com/ajax/libs/leaflet.fullscreen/1.4.2/Control.FullScreen.min.js%22%3E%3C/script%3E%0A%20%20%20%20%3Clink%20rel%3D%22stylesheet%22%20href%3D%22https%3A//cdnjs.cloudflare.com/ajax/libs/leaflet.fullscreen/1.4.2/Control.FullScreen.min.css%22/%3E%0A%3C/head%3E%0A%3Cbody%3E%20%20%20%20%0A%20%20%20%20%0A%20%20%20%20%20%20%20%20%20%20%20%20%3Cdiv%20class%3D%22folium-map%22%20id%3D%22map_6171d87a7c96421b8e20427f055f7e99%22%20%3E%3C/div%3E%0A%20%20%20%20%20%20%20%20%0A%3C/body%3E%0A%3Cscript%3E%20%20%20%20%0A%20%20%20%20%0A%20%20%20%20%20%20%20%20%20%20%20%20var%20map_6171d87a7c96421b8e20427f055f7e99%20%3D%20L.map%28%0A%20%20%20%20%20%20%20%20%20%20%20%20%20%20%20%20%22map_6171d87a7c96421b8e20427f055f7e99%22%2C%0A%20%20%20%20%20%20%20%20%20%20%20%20%20%20%20%20%7B%0A%20%20%20%20%20%20%20%20%20%20%20%20%20%20%20%20%20%20%20%20center%3A%20%5B45.5%2C%20-75.0%5D%2C%0A%20%20%20%20%20%20%20%20%20%20%20%20%20%20%20%20%20%20%20%20crs%3A%20L.CRS.EPSG3857%2C%0A%20%20%20%20%20%20%20%20%20%20%20%20%20%20%20%20%20%20%20%20zoom%3A%208%2C%0A%20%20%20%20%20%20%20%20%20%20%20%20%20%20%20%20%20%20%20%20zoomControl%3A%20true%2C%0A%20%20%20%20%20%20%20%20%20%20%20%20%20%20%20%20%20%20%20%20preferCanvas%3A%20false%2C%0A%20%20%20%20%20%20%20%20%20%20%20%20%20%20%20%20%7D%0A%20%20%20%20%20%20%20%20%20%20%20%20%29%3B%0A%0A%20%20%20%20%20%20%20%20%20%20%20%20%0A%0A%20%20%20%20%20%20%20%20%0A%20%20%20%20%0A%20%20%20%20%20%20%20%20%20%20%20%20var%20tile_layer_ab1138cce52d464ebb58adc197daccd8%20%3D%20L.tileLayer%28%0A%20%20%20%20%20%20%20%20%20%20%20%20%20%20%20%20%22https%3A//%7Bs%7D.tile.openstreetmap.org/%7Bz%7D/%7Bx%7D/%7By%7D.png%22%2C%0A%20%20%20%20%20%20%20%20%20%20%20%20%20%20%20%20%7B%22attribution%22%3A%20%22Data%20by%20%5Cu0026copy%3B%20%5Cu003ca%20href%3D%5C%22http%3A//openstreetmap.org%5C%22%5Cu003eOpenStreetMap%5Cu003c/a%5Cu003e%2C%20under%20%5Cu003ca%20href%3D%5C%22http%3A//www.openstreetmap.org/copyright%5C%22%5Cu003eODbL%5Cu003c/a%5Cu003e.%22%2C%20%22detectRetina%22%3A%20false%2C%20%22maxNativeZoom%22%3A%2018%2C%20%22maxZoom%22%3A%2018%2C%20%22minZoom%22%3A%200%2C%20%22noWrap%22%3A%20false%2C%20%22opacity%22%3A%201%2C%20%22subdomains%22%3A%20%22abc%22%2C%20%22tms%22%3A%20false%7D%0A%20%20%20%20%20%20%20%20%20%20%20%20%29.addTo%28map_6171d87a7c96421b8e20427f055f7e99%29%3B%0A%20%20%20%20%20%20%20%20%0A%20%20%20%20%0A%20%20%20%20%20%20%20%20%20%20%20%20var%20tile_layer_13c4b1b865414b4694367b605554fe4f%20%3D%20L.tileLayer%28%0A%20%20%20%20%20%20%20%20%20%20%20%20%20%20%20%20%22https%3A//earthengine.googleapis.com/v1alpha/projects/earthengine-legacy/maps/4942a4015f130ff5f6124f5723635278-76e49f5f981771b81c94072db67a6bc8/tiles/%7Bz%7D/%7Bx%7D/%7By%7D%22%2C%0A%20%20%20%20%20%20%20%20%20%20%20%20%20%20%20%20%7B%22attribution%22%3A%20%22Google%20Earth%20Engine%22%2C%20%22detectRetina%22%3A%20false%2C%20%22maxNativeZoom%22%3A%2018%2C%20%22maxZoom%22%3A%2018%2C%20%22minZoom%22%3A%200%2C%20%22noWrap%22%3A%20false%2C%20%22opacity%22%3A%201%2C%20%22subdomains%22%3A%20%22abc%22%2C%20%22tms%22%3A%20false%7D%0A%20%20%20%20%20%20%20%20%20%20%20%20%29.addTo%28map_6171d87a7c96421b8e20427f055f7e99%29%3B%0A%20%20%20%20%20%20%20%20%0A%20%20%20%20%0A%20%20%20%20%20%20%20%20%20%20%20%20var%20layer_control_5f468c79abc0450faf8cc665ad609327%20%3D%20%7B%0A%20%20%20%20%20%20%20%20%20%20%20%20%20%20%20%20base_layers%20%3A%20%7B%0A%20%20%20%20%20%20%20%20%20%20%20%20%20%20%20%20%20%20%20%20%22openstreetmap%22%20%3A%20tile_layer_ab1138cce52d464ebb58adc197daccd8%2C%0A%20%20%20%20%20%20%20%20%20%20%20%20%20%20%20%20%7D%2C%0A%20%20%20%20%20%20%20%20%20%20%20%20%20%20%20%20overlays%20%3A%20%20%7B%0A%20%20%20%20%20%20%20%20%20%20%20%20%20%20%20%20%20%20%20%20%22Image%22%20%3A%20tile_layer_13c4b1b865414b4694367b605554fe4f%2C%0A%20%20%20%20%20%20%20%20%20%20%20%20%20%20%20%20%7D%2C%0A%20%20%20%20%20%20%20%20%20%20%20%20%7D%3B%0A%20%20%20%20%20%20%20%20%20%20%20%20L.control.layers%28%0A%20%20%20%20%20%20%20%20%20%20%20%20%20%20%20%20layer_control_5f468c79abc0450faf8cc665ad609327.base_layers%2C%0A%20%20%20%20%20%20%20%20%20%20%20%20%20%20%20%20layer_control_5f468c79abc0450faf8cc665ad609327.overlays%2C%0A%20%20%20%20%20%20%20%20%20%20%20%20%20%20%20%20%7B%22autoZIndex%22%3A%20true%2C%20%22collapsed%22%3A%20true%2C%20%22position%22%3A%20%22topright%22%7D%0A%20%20%20%20%20%20%20%20%20%20%20%20%29.addTo%28map_6171d87a7c96421b8e20427f055f7e99%29%3B%0A%20%20%20%20%20%20%20%20%0A%20%20%20%20%0A%20%20%20%20%20%20%20%20%20%20%20%20L.control.fullscreen%28%0A%20%20%20%20%20%20%20%20%20%20%20%20%20%20%20%20%7B%22forceSeparateButton%22%3A%20false%2C%20%22position%22%3A%20%22topleft%22%2C%20%22title%22%3A%20%22Full%20Screen%22%2C%20%22titleCancel%22%3A%20%22Exit%20Full%20Screen%22%7D%0A%20%20%20%20%20%20%20%20%20%20%20%20%29.addTo%28map_6171d87a7c96421b8e20427f055f7e99%29%3B%0A%20%20%20%20%20%20%20%20%0A%3C/script%3E onload=\"this.contentDocument.open();this.contentDocument.write(    decodeURIComponent(this.getAttribute('data-html')));this.contentDocument.close();\" allowfullscreen webkitallowfullscreen mozallowfullscreen></iframe></div></div>"
      ],
      "text/plain": [
       "<folium.folium.Map at 0x144ad97f0>"
      ]
     },
     "metadata": {},
     "output_type": "display_data"
    }
   ],
   "source": [
    "# ==========\n",
    "# SL2P10_20m\n",
    "# ==========\n",
    "# performs same procedure as above block using SL2P10 network\n",
    "# reduces image resolution before applying algorithm\n",
    "    \n",
    "# filter collection and add ancillary bands\n",
    "input_collection_20m = ee.ImageCollection(COLLECTION_OPTIONS[colName][\"name\"]) \\\n",
    "                     .filterBounds(mapBounds) \\\n",
    "                     .filterDate(startDate, endDate) \\\n",
    "                     .filterMetadata(colOptions[\"Cloudcover\"],'less_than',maxCloudcover) \\\n",
    "                     .limit(5000) \\\n",
    "                     .map(lambda image: addDate(image)) \\\n",
    "                     .map(lambda image: image.clip(mapBounds)) \\\n",
    "                     .map(lambda image: s2MaskClear(image)) \\\n",
    "                     .map(lambda image: addS2Geometry(colOptions, image)) \\\n",
    "                     .map(lambda image: reduceTo20m(image))\n",
    "print(input_collection_20m.size().getInfo())\n",
    "\n",
    "if outputName == \"Surface_Reflectance\":\n",
    "    export_collection_20m = input_collection_20m\n",
    "else:\n",
    "    # get partition used to select network\n",
    "    partition = (COLLECTION_OPTIONS[colName][\"partition\"]).filterBounds(mapBounds).mosaic().clip(mapBounds).rename('partition')\n",
    "\n",
    "    # pre process input imagery and flag invalid inputs\n",
    "    input_collection_20m = input_collection_20m.map(lambda image: s2MaskLand(image)) \\\n",
    "                                               .map(lambda image: scaleBands(netOptions[\"inputBands\"],netOptions[\"inputScaling\"],image)) \\\n",
    "                                               .map(lambda image: invalidInput(COLLECTION_OPTIONS[colName][\"sl2pDomain\"],netOptions[\"inputBands\"],image))\n",
    "    \n",
    "    # apply networks to produce mapped parameters\n",
    "    estimateSL2P_20m = input_collection_20m.map(lambda image: wrapperNNets(SL2P, partition, netOptions, COLLECTION_OPTIONS[colName], \"estimate\", image))\n",
    "    uncertaintySL2P_20m = input_collection_20m.map(lambda image: wrapperNNets(errorsSL2P, partition, netOptions, COLLECTION_OPTIONS[colName], \"error\", image))\n",
    "\n",
    "    # scale and offset mapped parameter bands\n",
    "    estimateSL2P_20m = estimateSL2P_20m.map(lambda image: image.addBands(image.select(\"estimate\"+outputName) \\\n",
    "                                                               .multiply(ee.Image.constant(outputScale)) \\\n",
    "                                                               .add(ee.Image.constant(outputOffset)), overwrite = True))\n",
    "    uncertaintySL2P_20m = uncertaintySL2P_20m.map(lambda image: image.addBands(image.select(\"error\"+outputName) \\\n",
    "                                                                     .multiply(ee.Image.constant(outputScale)) \\\n",
    "                                                                     .add(ee.Image.constant(outputOffset)),overwrite = True))\n",
    "    \n",
    "    # produce final export collection\n",
    "    export_collection_20m = input_collection_20m.select(['date','QC']).combine(estimateSL2P_20m).combine(uncertaintySL2P_20m)\n",
    "\n",
    "image_output_names_20m = ([name+\"_\"+outputName+\"_20m\" for name in export_collection_20m.toList(export_collection_20m.size()).map(lambda image: ee.Image(image).id()).getInfo()])\n",
    "displayImage(export_collection_20m.mosaic().select('estimate'+outputName),0+outputOffset,10*outputScale+outputOffset)"
   ]
  },
  {
   "cell_type": "code",
   "execution_count": 56,
   "metadata": {},
   "outputs": [
    {
     "name": "stdout",
     "output_type": "stream",
     "text": [
      "5\n"
     ]
    },
    {
     "data": {
      "text/html": [
       "<div style=\"width:100%;\"><div style=\"position:relative;width:100%;height:0;padding-bottom:60%;\"><span style=\"color:#565656\">Make this Notebook Trusted to load map: File -> Trust Notebook</span><iframe src=\"about:blank\" style=\"position:absolute;width:100%;height:100%;left:0;top:0;border:none !important;\" data-html=%3C%21DOCTYPE%20html%3E%0A%3Chead%3E%20%20%20%20%0A%20%20%20%20%3Cmeta%20http-equiv%3D%22content-type%22%20content%3D%22text/html%3B%20charset%3DUTF-8%22%20/%3E%0A%20%20%20%20%0A%20%20%20%20%20%20%20%20%3Cscript%3E%0A%20%20%20%20%20%20%20%20%20%20%20%20L_NO_TOUCH%20%3D%20false%3B%0A%20%20%20%20%20%20%20%20%20%20%20%20L_DISABLE_3D%20%3D%20false%3B%0A%20%20%20%20%20%20%20%20%3C/script%3E%0A%20%20%20%20%0A%20%20%20%20%3Cstyle%3Ehtml%2C%20body%20%7Bwidth%3A%20100%25%3Bheight%3A%20100%25%3Bmargin%3A%200%3Bpadding%3A%200%3B%7D%3C/style%3E%0A%20%20%20%20%3Cstyle%3E%23map%20%7Bposition%3Aabsolute%3Btop%3A0%3Bbottom%3A0%3Bright%3A0%3Bleft%3A0%3B%7D%3C/style%3E%0A%20%20%20%20%3Cscript%20src%3D%22https%3A//cdn.jsdelivr.net/npm/leaflet%401.6.0/dist/leaflet.js%22%3E%3C/script%3E%0A%20%20%20%20%3Cscript%20src%3D%22https%3A//code.jquery.com/jquery-1.12.4.min.js%22%3E%3C/script%3E%0A%20%20%20%20%3Cscript%20src%3D%22https%3A//maxcdn.bootstrapcdn.com/bootstrap/3.2.0/js/bootstrap.min.js%22%3E%3C/script%3E%0A%20%20%20%20%3Cscript%20src%3D%22https%3A//cdnjs.cloudflare.com/ajax/libs/Leaflet.awesome-markers/2.0.2/leaflet.awesome-markers.js%22%3E%3C/script%3E%0A%20%20%20%20%3Clink%20rel%3D%22stylesheet%22%20href%3D%22https%3A//cdn.jsdelivr.net/npm/leaflet%401.6.0/dist/leaflet.css%22/%3E%0A%20%20%20%20%3Clink%20rel%3D%22stylesheet%22%20href%3D%22https%3A//maxcdn.bootstrapcdn.com/bootstrap/3.2.0/css/bootstrap.min.css%22/%3E%0A%20%20%20%20%3Clink%20rel%3D%22stylesheet%22%20href%3D%22https%3A//maxcdn.bootstrapcdn.com/bootstrap/3.2.0/css/bootstrap-theme.min.css%22/%3E%0A%20%20%20%20%3Clink%20rel%3D%22stylesheet%22%20href%3D%22https%3A//maxcdn.bootstrapcdn.com/font-awesome/4.6.3/css/font-awesome.min.css%22/%3E%0A%20%20%20%20%3Clink%20rel%3D%22stylesheet%22%20href%3D%22https%3A//cdnjs.cloudflare.com/ajax/libs/Leaflet.awesome-markers/2.0.2/leaflet.awesome-markers.css%22/%3E%0A%20%20%20%20%3Clink%20rel%3D%22stylesheet%22%20href%3D%22https%3A//cdn.jsdelivr.net/gh/python-visualization/folium/folium/templates/leaflet.awesome.rotate.min.css%22/%3E%0A%20%20%20%20%0A%20%20%20%20%20%20%20%20%20%20%20%20%3Cmeta%20name%3D%22viewport%22%20content%3D%22width%3Ddevice-width%2C%0A%20%20%20%20%20%20%20%20%20%20%20%20%20%20%20%20initial-scale%3D1.0%2C%20maximum-scale%3D1.0%2C%20user-scalable%3Dno%22%20/%3E%0A%20%20%20%20%20%20%20%20%20%20%20%20%3Cstyle%3E%0A%20%20%20%20%20%20%20%20%20%20%20%20%20%20%20%20%23map_02994f7edf9749f183273f526801b8a8%20%7B%0A%20%20%20%20%20%20%20%20%20%20%20%20%20%20%20%20%20%20%20%20position%3A%20relative%3B%0A%20%20%20%20%20%20%20%20%20%20%20%20%20%20%20%20%20%20%20%20width%3A%20100.0%25%3B%0A%20%20%20%20%20%20%20%20%20%20%20%20%20%20%20%20%20%20%20%20height%3A%20500.0px%3B%0A%20%20%20%20%20%20%20%20%20%20%20%20%20%20%20%20%20%20%20%20left%3A%200.0%25%3B%0A%20%20%20%20%20%20%20%20%20%20%20%20%20%20%20%20%20%20%20%20top%3A%200.0%25%3B%0A%20%20%20%20%20%20%20%20%20%20%20%20%20%20%20%20%7D%0A%20%20%20%20%20%20%20%20%20%20%20%20%3C/style%3E%0A%20%20%20%20%20%20%20%20%0A%20%20%20%20%3Cscript%20src%3D%22https%3A//cdnjs.cloudflare.com/ajax/libs/leaflet.fullscreen/1.4.2/Control.FullScreen.min.js%22%3E%3C/script%3E%0A%20%20%20%20%3Clink%20rel%3D%22stylesheet%22%20href%3D%22https%3A//cdnjs.cloudflare.com/ajax/libs/leaflet.fullscreen/1.4.2/Control.FullScreen.min.css%22/%3E%0A%3C/head%3E%0A%3Cbody%3E%20%20%20%20%0A%20%20%20%20%0A%20%20%20%20%20%20%20%20%20%20%20%20%3Cdiv%20class%3D%22folium-map%22%20id%3D%22map_02994f7edf9749f183273f526801b8a8%22%20%3E%3C/div%3E%0A%20%20%20%20%20%20%20%20%0A%3C/body%3E%0A%3Cscript%3E%20%20%20%20%0A%20%20%20%20%0A%20%20%20%20%20%20%20%20%20%20%20%20var%20map_02994f7edf9749f183273f526801b8a8%20%3D%20L.map%28%0A%20%20%20%20%20%20%20%20%20%20%20%20%20%20%20%20%22map_02994f7edf9749f183273f526801b8a8%22%2C%0A%20%20%20%20%20%20%20%20%20%20%20%20%20%20%20%20%7B%0A%20%20%20%20%20%20%20%20%20%20%20%20%20%20%20%20%20%20%20%20center%3A%20%5B45.5%2C%20-75.0%5D%2C%0A%20%20%20%20%20%20%20%20%20%20%20%20%20%20%20%20%20%20%20%20crs%3A%20L.CRS.EPSG3857%2C%0A%20%20%20%20%20%20%20%20%20%20%20%20%20%20%20%20%20%20%20%20zoom%3A%208%2C%0A%20%20%20%20%20%20%20%20%20%20%20%20%20%20%20%20%20%20%20%20zoomControl%3A%20true%2C%0A%20%20%20%20%20%20%20%20%20%20%20%20%20%20%20%20%20%20%20%20preferCanvas%3A%20false%2C%0A%20%20%20%20%20%20%20%20%20%20%20%20%20%20%20%20%7D%0A%20%20%20%20%20%20%20%20%20%20%20%20%29%3B%0A%0A%20%20%20%20%20%20%20%20%20%20%20%20%0A%0A%20%20%20%20%20%20%20%20%0A%20%20%20%20%0A%20%20%20%20%20%20%20%20%20%20%20%20var%20tile_layer_a49075e8e6aa491aa98c907a2ca23a77%20%3D%20L.tileLayer%28%0A%20%20%20%20%20%20%20%20%20%20%20%20%20%20%20%20%22https%3A//%7Bs%7D.tile.openstreetmap.org/%7Bz%7D/%7Bx%7D/%7By%7D.png%22%2C%0A%20%20%20%20%20%20%20%20%20%20%20%20%20%20%20%20%7B%22attribution%22%3A%20%22Data%20by%20%5Cu0026copy%3B%20%5Cu003ca%20href%3D%5C%22http%3A//openstreetmap.org%5C%22%5Cu003eOpenStreetMap%5Cu003c/a%5Cu003e%2C%20under%20%5Cu003ca%20href%3D%5C%22http%3A//www.openstreetmap.org/copyright%5C%22%5Cu003eODbL%5Cu003c/a%5Cu003e.%22%2C%20%22detectRetina%22%3A%20false%2C%20%22maxNativeZoom%22%3A%2018%2C%20%22maxZoom%22%3A%2018%2C%20%22minZoom%22%3A%200%2C%20%22noWrap%22%3A%20false%2C%20%22opacity%22%3A%201%2C%20%22subdomains%22%3A%20%22abc%22%2C%20%22tms%22%3A%20false%7D%0A%20%20%20%20%20%20%20%20%20%20%20%20%29.addTo%28map_02994f7edf9749f183273f526801b8a8%29%3B%0A%20%20%20%20%20%20%20%20%0A%20%20%20%20%0A%20%20%20%20%20%20%20%20%20%20%20%20var%20tile_layer_894870f7f8e94e2d8c63e1f8bd64052c%20%3D%20L.tileLayer%28%0A%20%20%20%20%20%20%20%20%20%20%20%20%20%20%20%20%22https%3A//earthengine.googleapis.com/v1alpha/projects/earthengine-legacy/maps/376df1a8c277f58397837f9ee95d98b9-5a21726de54f01eb3d34fa02f9157fa2/tiles/%7Bz%7D/%7Bx%7D/%7By%7D%22%2C%0A%20%20%20%20%20%20%20%20%20%20%20%20%20%20%20%20%7B%22attribution%22%3A%20%22Google%20Earth%20Engine%22%2C%20%22detectRetina%22%3A%20false%2C%20%22maxNativeZoom%22%3A%2018%2C%20%22maxZoom%22%3A%2018%2C%20%22minZoom%22%3A%200%2C%20%22noWrap%22%3A%20false%2C%20%22opacity%22%3A%201%2C%20%22subdomains%22%3A%20%22abc%22%2C%20%22tms%22%3A%20false%7D%0A%20%20%20%20%20%20%20%20%20%20%20%20%29.addTo%28map_02994f7edf9749f183273f526801b8a8%29%3B%0A%20%20%20%20%20%20%20%20%0A%20%20%20%20%0A%20%20%20%20%20%20%20%20%20%20%20%20var%20layer_control_0f3cd1604eca49269b367bd2ecf0ad76%20%3D%20%7B%0A%20%20%20%20%20%20%20%20%20%20%20%20%20%20%20%20base_layers%20%3A%20%7B%0A%20%20%20%20%20%20%20%20%20%20%20%20%20%20%20%20%20%20%20%20%22openstreetmap%22%20%3A%20tile_layer_a49075e8e6aa491aa98c907a2ca23a77%2C%0A%20%20%20%20%20%20%20%20%20%20%20%20%20%20%20%20%7D%2C%0A%20%20%20%20%20%20%20%20%20%20%20%20%20%20%20%20overlays%20%3A%20%20%7B%0A%20%20%20%20%20%20%20%20%20%20%20%20%20%20%20%20%20%20%20%20%22Image%22%20%3A%20tile_layer_894870f7f8e94e2d8c63e1f8bd64052c%2C%0A%20%20%20%20%20%20%20%20%20%20%20%20%20%20%20%20%7D%2C%0A%20%20%20%20%20%20%20%20%20%20%20%20%7D%3B%0A%20%20%20%20%20%20%20%20%20%20%20%20L.control.layers%28%0A%20%20%20%20%20%20%20%20%20%20%20%20%20%20%20%20layer_control_0f3cd1604eca49269b367bd2ecf0ad76.base_layers%2C%0A%20%20%20%20%20%20%20%20%20%20%20%20%20%20%20%20layer_control_0f3cd1604eca49269b367bd2ecf0ad76.overlays%2C%0A%20%20%20%20%20%20%20%20%20%20%20%20%20%20%20%20%7B%22autoZIndex%22%3A%20true%2C%20%22collapsed%22%3A%20true%2C%20%22position%22%3A%20%22topright%22%7D%0A%20%20%20%20%20%20%20%20%20%20%20%20%29.addTo%28map_02994f7edf9749f183273f526801b8a8%29%3B%0A%20%20%20%20%20%20%20%20%0A%20%20%20%20%0A%20%20%20%20%20%20%20%20%20%20%20%20L.control.fullscreen%28%0A%20%20%20%20%20%20%20%20%20%20%20%20%20%20%20%20%7B%22forceSeparateButton%22%3A%20false%2C%20%22position%22%3A%20%22topleft%22%2C%20%22title%22%3A%20%22Full%20Screen%22%2C%20%22titleCancel%22%3A%20%22Exit%20Full%20Screen%22%7D%0A%20%20%20%20%20%20%20%20%20%20%20%20%29.addTo%28map_02994f7edf9749f183273f526801b8a8%29%3B%0A%20%20%20%20%20%20%20%20%0A%3C/script%3E onload=\"this.contentDocument.open();this.contentDocument.write(    decodeURIComponent(this.getAttribute('data-html')));this.contentDocument.close();\" allowfullscreen webkitallowfullscreen mozallowfullscreen></iframe></div></div>"
      ],
      "text/plain": [
       "<folium.folium.Map at 0x144ae49d0>"
      ]
     },
     "metadata": {},
     "output_type": "display_data"
    }
   ],
   "source": [
    "# ==========\n",
    "# SL2P10_10m\n",
    "# ==========\n",
    "# performs same procedure as above block using SL2P10 network\n",
    "# applies algorithm to 10 m bands ; generates a 10 m map\n",
    "\n",
    "# filter collection and add ancillary bands\n",
    "input_collection_10m = ee.ImageCollection(COLLECTION_OPTIONS[colName][\"name\"]) \\\n",
    "                     .filterBounds(mapBounds) \\\n",
    "                     .filterDate(startDate, endDate) \\\n",
    "                     .filterMetadata(colOptions[\"Cloudcover\"],'less_than',maxCloudcover) \\\n",
    "                     .limit(5000) \\\n",
    "                     .map(lambda image: addDate(image)) \\\n",
    "                     .map(lambda image: image.clip(mapBounds)) \\\n",
    "                     .map(lambda image: s2MaskClear(image)) \\\n",
    "                     .map(lambda image: addS2Geometry(colOptions, image))\n",
    "print(input_collection_10m.size().getInfo())\n",
    "\n",
    "if outputName == \"Surface_Reflectance\":\n",
    "    export_collection_10m = input_collection_10m\n",
    "else:\n",
    "    # get partition used to select network\n",
    "    partition = (COLLECTION_OPTIONS[colName][\"partition\"]).filterBounds(mapBounds).mosaic().clip(mapBounds).rename('partition')\n",
    "    \n",
    "    # pre process input imagery and flag invalid inputs\n",
    "    input_collection_10m = input_collection_10m.map(lambda image: s2MaskLand(image)) \\\n",
    "                                       .map(lambda image: scaleBands(netOptions[\"inputBands\"],netOptions[\"inputScaling\"],image)) \\\n",
    "                                       .map(lambda image: invalidInput(COLLECTION_OPTIONS[colName][\"sl2pDomain\"],netOptions[\"inputBands\"],image))\n",
    "    \n",
    "    # apply networks to produce mapped parameters\n",
    "    estimateSL2P_10m = input_collection_10m.map(lambda image: wrapperNNets(SL2P, partition, netOptions, COLLECTION_OPTIONS[colName], \"estimate\", image))\n",
    "    uncertaintySL2P_10m = input_collection_10m.map(lambda image: wrapperNNets(errorsSL2P, partition, netOptions, COLLECTION_OPTIONS[colName], \"error\", image))\n",
    "    \n",
    "    # scale and offset mapped parameter bands\n",
    "    estimateSL2P_10m = estimateSL2P_10m.map(lambda image: image.addBands(image.select(\"estimate\"+outputName) \\\n",
    "                                                                 .multiply(ee.Image.constant(outputScale)) \\\n",
    "                                                                 .add(ee.Image.constant(outputOffset)), overwrite = True));\n",
    "    uncertaintySL2P_10m = uncertaintySL2P_10m.map(lambda image: image.addBands(image.select(\"error\"+outputName) \\\n",
    "                                                                       .multiply(ee.Image.constant(outputScale)) \\\n",
    "                                                                       .add(ee.Image.constant(outputOffset)),overwrite = True));\n",
    "    \n",
    "    \n",
    "    # produce final export collection\n",
    "    export_collection_10m = input_collection.select(['date','QC']).combine(estimateSL2P_10m).combine(uncertaintySL2P_10m)\n",
    "\n",
    "image_output_names_10m = ([name+\"_\"+outputName+\"_10m\" for name in export_collection_10m.toList(export_collection_10m.size()).map(lambda image: ee.Image(image).id()).getInfo()])\n",
    "displayImage(export_collection_10m.mosaic().select('estimate'+outputName),0+outputOffset,10*outputScale+outputOffset)"
   ]
  },
  {
   "cell_type": "code",
   "execution_count": 57,
   "metadata": {},
   "outputs": [
    {
     "data": {
      "text/html": [
       "<div style=\"width:100%;\"><div style=\"position:relative;width:100%;height:0;padding-bottom:60%;\"><span style=\"color:#565656\">Make this Notebook Trusted to load map: File -> Trust Notebook</span><iframe src=\"about:blank\" style=\"position:absolute;width:100%;height:100%;left:0;top:0;border:none !important;\" data-html=%3C%21DOCTYPE%20html%3E%0A%3Chead%3E%20%20%20%20%0A%20%20%20%20%3Cmeta%20http-equiv%3D%22content-type%22%20content%3D%22text/html%3B%20charset%3DUTF-8%22%20/%3E%0A%20%20%20%20%0A%20%20%20%20%20%20%20%20%3Cscript%3E%0A%20%20%20%20%20%20%20%20%20%20%20%20L_NO_TOUCH%20%3D%20false%3B%0A%20%20%20%20%20%20%20%20%20%20%20%20L_DISABLE_3D%20%3D%20false%3B%0A%20%20%20%20%20%20%20%20%3C/script%3E%0A%20%20%20%20%0A%20%20%20%20%3Cstyle%3Ehtml%2C%20body%20%7Bwidth%3A%20100%25%3Bheight%3A%20100%25%3Bmargin%3A%200%3Bpadding%3A%200%3B%7D%3C/style%3E%0A%20%20%20%20%3Cstyle%3E%23map%20%7Bposition%3Aabsolute%3Btop%3A0%3Bbottom%3A0%3Bright%3A0%3Bleft%3A0%3B%7D%3C/style%3E%0A%20%20%20%20%3Cscript%20src%3D%22https%3A//cdn.jsdelivr.net/npm/leaflet%401.6.0/dist/leaflet.js%22%3E%3C/script%3E%0A%20%20%20%20%3Cscript%20src%3D%22https%3A//code.jquery.com/jquery-1.12.4.min.js%22%3E%3C/script%3E%0A%20%20%20%20%3Cscript%20src%3D%22https%3A//maxcdn.bootstrapcdn.com/bootstrap/3.2.0/js/bootstrap.min.js%22%3E%3C/script%3E%0A%20%20%20%20%3Cscript%20src%3D%22https%3A//cdnjs.cloudflare.com/ajax/libs/Leaflet.awesome-markers/2.0.2/leaflet.awesome-markers.js%22%3E%3C/script%3E%0A%20%20%20%20%3Clink%20rel%3D%22stylesheet%22%20href%3D%22https%3A//cdn.jsdelivr.net/npm/leaflet%401.6.0/dist/leaflet.css%22/%3E%0A%20%20%20%20%3Clink%20rel%3D%22stylesheet%22%20href%3D%22https%3A//maxcdn.bootstrapcdn.com/bootstrap/3.2.0/css/bootstrap.min.css%22/%3E%0A%20%20%20%20%3Clink%20rel%3D%22stylesheet%22%20href%3D%22https%3A//maxcdn.bootstrapcdn.com/bootstrap/3.2.0/css/bootstrap-theme.min.css%22/%3E%0A%20%20%20%20%3Clink%20rel%3D%22stylesheet%22%20href%3D%22https%3A//maxcdn.bootstrapcdn.com/font-awesome/4.6.3/css/font-awesome.min.css%22/%3E%0A%20%20%20%20%3Clink%20rel%3D%22stylesheet%22%20href%3D%22https%3A//cdnjs.cloudflare.com/ajax/libs/Leaflet.awesome-markers/2.0.2/leaflet.awesome-markers.css%22/%3E%0A%20%20%20%20%3Clink%20rel%3D%22stylesheet%22%20href%3D%22https%3A//cdn.jsdelivr.net/gh/python-visualization/folium/folium/templates/leaflet.awesome.rotate.min.css%22/%3E%0A%20%20%20%20%0A%20%20%20%20%20%20%20%20%20%20%20%20%3Cmeta%20name%3D%22viewport%22%20content%3D%22width%3Ddevice-width%2C%0A%20%20%20%20%20%20%20%20%20%20%20%20%20%20%20%20initial-scale%3D1.0%2C%20maximum-scale%3D1.0%2C%20user-scalable%3Dno%22%20/%3E%0A%20%20%20%20%20%20%20%20%20%20%20%20%3Cstyle%3E%0A%20%20%20%20%20%20%20%20%20%20%20%20%20%20%20%20%23map_618b383e39664f2fbfb733eefe59c719%20%7B%0A%20%20%20%20%20%20%20%20%20%20%20%20%20%20%20%20%20%20%20%20position%3A%20absolute%3B%0A%20%20%20%20%20%20%20%20%20%20%20%20%20%20%20%20%20%20%20%20width%3A%2050.0%25%3B%0A%20%20%20%20%20%20%20%20%20%20%20%20%20%20%20%20%20%20%20%20height%3A%20100.0%25%3B%0A%20%20%20%20%20%20%20%20%20%20%20%20%20%20%20%20%20%20%20%20left%3A%200.0%25%3B%0A%20%20%20%20%20%20%20%20%20%20%20%20%20%20%20%20%20%20%20%20top%3A%200.0%25%3B%0A%20%20%20%20%20%20%20%20%20%20%20%20%20%20%20%20%7D%0A%20%20%20%20%20%20%20%20%20%20%20%20%3C/style%3E%0A%20%20%20%20%20%20%20%20%0A%20%20%20%20%0A%20%20%20%20%20%20%20%20%20%20%20%20%3Cmeta%20name%3D%22viewport%22%20content%3D%22width%3Ddevice-width%2C%0A%20%20%20%20%20%20%20%20%20%20%20%20%20%20%20%20initial-scale%3D1.0%2C%20maximum-scale%3D1.0%2C%20user-scalable%3Dno%22%20/%3E%0A%20%20%20%20%20%20%20%20%20%20%20%20%3Cstyle%3E%0A%20%20%20%20%20%20%20%20%20%20%20%20%20%20%20%20%23map_8b591b5978124797ab2f0a8f2b943f2e%20%7B%0A%20%20%20%20%20%20%20%20%20%20%20%20%20%20%20%20%20%20%20%20position%3A%20absolute%3B%0A%20%20%20%20%20%20%20%20%20%20%20%20%20%20%20%20%20%20%20%20width%3A%2050.0%25%3B%0A%20%20%20%20%20%20%20%20%20%20%20%20%20%20%20%20%20%20%20%20height%3A%20100.0%25%3B%0A%20%20%20%20%20%20%20%20%20%20%20%20%20%20%20%20%20%20%20%20left%3A%2050.0%25%3B%0A%20%20%20%20%20%20%20%20%20%20%20%20%20%20%20%20%20%20%20%20top%3A%200.0%25%3B%0A%20%20%20%20%20%20%20%20%20%20%20%20%20%20%20%20%7D%0A%20%20%20%20%20%20%20%20%20%20%20%20%3C/style%3E%0A%20%20%20%20%20%20%20%20%0A%20%20%20%20%3Cscript%20src%3D%22https%3A//cdn.jsdelivr.net/gh/jieter/Leaflet.Sync/L.Map.Sync.min.js%22%3E%3C/script%3E%0A%3C/head%3E%0A%3Cbody%3E%20%20%20%20%0A%20%20%20%20%0A%20%20%20%20%20%20%20%20%20%20%20%20%3Cdiv%20class%3D%22folium-map%22%20id%3D%22map_618b383e39664f2fbfb733eefe59c719%22%20%3E%3C/div%3E%0A%20%20%20%20%20%20%20%20%0A%20%20%20%20%0A%20%20%20%20%20%20%20%20%20%20%20%20%3Cdiv%20class%3D%22folium-map%22%20id%3D%22map_8b591b5978124797ab2f0a8f2b943f2e%22%20%3E%3C/div%3E%0A%20%20%20%20%20%20%20%20%0A%3C/body%3E%0A%3Cscript%3E%20%20%20%20%0A%20%20%20%20%0A%20%20%20%20%20%20%20%20%20%20%20%20var%20map_618b383e39664f2fbfb733eefe59c719%20%3D%20L.map%28%0A%20%20%20%20%20%20%20%20%20%20%20%20%20%20%20%20%22map_618b383e39664f2fbfb733eefe59c719%22%2C%0A%20%20%20%20%20%20%20%20%20%20%20%20%20%20%20%20%7B%0A%20%20%20%20%20%20%20%20%20%20%20%20%20%20%20%20%20%20%20%20center%3A%20%5B45.0%2C%20-75.0%5D%2C%0A%20%20%20%20%20%20%20%20%20%20%20%20%20%20%20%20%20%20%20%20crs%3A%20L.CRS.EPSG3857%2C%0A%20%20%20%20%20%20%20%20%20%20%20%20%20%20%20%20%20%20%20%20zoom%3A%209%2C%0A%20%20%20%20%20%20%20%20%20%20%20%20%20%20%20%20%20%20%20%20zoomControl%3A%20true%2C%0A%20%20%20%20%20%20%20%20%20%20%20%20%20%20%20%20%20%20%20%20preferCanvas%3A%20false%2C%0A%20%20%20%20%20%20%20%20%20%20%20%20%20%20%20%20%7D%0A%20%20%20%20%20%20%20%20%20%20%20%20%29%3B%0A%0A%20%20%20%20%20%20%20%20%20%20%20%20%0A%0A%20%20%20%20%20%20%20%20%0A%20%20%20%20%0A%20%20%20%20%20%20%20%20%20%20%20%20var%20tile_layer_a63317dabd2c49f8aafd9983df8ff469%20%3D%20L.tileLayer%28%0A%20%20%20%20%20%20%20%20%20%20%20%20%20%20%20%20%22https%3A//%7Bs%7D.tile.openstreetmap.org/%7Bz%7D/%7Bx%7D/%7By%7D.png%22%2C%0A%20%20%20%20%20%20%20%20%20%20%20%20%20%20%20%20%7B%22attribution%22%3A%20%22Data%20by%20%5Cu0026copy%3B%20%5Cu003ca%20href%3D%5C%22http%3A//openstreetmap.org%5C%22%5Cu003eOpenStreetMap%5Cu003c/a%5Cu003e%2C%20under%20%5Cu003ca%20href%3D%5C%22http%3A//www.openstreetmap.org/copyright%5C%22%5Cu003eODbL%5Cu003c/a%5Cu003e.%22%2C%20%22detectRetina%22%3A%20false%2C%20%22maxNativeZoom%22%3A%2018%2C%20%22maxZoom%22%3A%2018%2C%20%22minZoom%22%3A%200%2C%20%22noWrap%22%3A%20false%2C%20%22opacity%22%3A%201%2C%20%22subdomains%22%3A%20%22abc%22%2C%20%22tms%22%3A%20false%7D%0A%20%20%20%20%20%20%20%20%20%20%20%20%29.addTo%28map_618b383e39664f2fbfb733eefe59c719%29%3B%0A%20%20%20%20%20%20%20%20%0A%20%20%20%20%0A%20%20%20%20%20%20%20%20%20%20%20%20var%20tile_layer_cd61cdbc298a4605bc83048bf7da6ab7%20%3D%20L.tileLayer%28%0A%20%20%20%20%20%20%20%20%20%20%20%20%20%20%20%20%22https%3A//earthengine.googleapis.com/v1alpha/projects/earthengine-legacy/maps/3b7a46da4d3ea689ee85a8d9cd61482a-e92a9174e68be4d90813f7851bad0d34/tiles/%7Bz%7D/%7Bx%7D/%7By%7D%22%2C%0A%20%20%20%20%20%20%20%20%20%20%20%20%20%20%20%20%7B%22attribution%22%3A%20%22Google%20Earth%20Engine%22%2C%20%22detectRetina%22%3A%20false%2C%20%22maxNativeZoom%22%3A%2018%2C%20%22maxZoom%22%3A%2018%2C%20%22minZoom%22%3A%200%2C%20%22noWrap%22%3A%20false%2C%20%22opacity%22%3A%201%2C%20%22subdomains%22%3A%20%22abc%22%2C%20%22tms%22%3A%20false%7D%0A%20%20%20%20%20%20%20%20%20%20%20%20%29.addTo%28map_618b383e39664f2fbfb733eefe59c719%29%3B%0A%20%20%20%20%20%20%20%20%0A%20%20%20%20%0A%20%20%20%20%20%20%20%20%20%20%20%20var%20map_8b591b5978124797ab2f0a8f2b943f2e%20%3D%20L.map%28%0A%20%20%20%20%20%20%20%20%20%20%20%20%20%20%20%20%22map_8b591b5978124797ab2f0a8f2b943f2e%22%2C%0A%20%20%20%20%20%20%20%20%20%20%20%20%20%20%20%20%7B%0A%20%20%20%20%20%20%20%20%20%20%20%20%20%20%20%20%20%20%20%20center%3A%20%5B45.0%2C%20-75.0%5D%2C%0A%20%20%20%20%20%20%20%20%20%20%20%20%20%20%20%20%20%20%20%20crs%3A%20L.CRS.EPSG3857%2C%0A%20%20%20%20%20%20%20%20%20%20%20%20%20%20%20%20%20%20%20%20zoom%3A%209%2C%0A%20%20%20%20%20%20%20%20%20%20%20%20%20%20%20%20%20%20%20%20zoomControl%3A%20true%2C%0A%20%20%20%20%20%20%20%20%20%20%20%20%20%20%20%20%20%20%20%20preferCanvas%3A%20false%2C%0A%20%20%20%20%20%20%20%20%20%20%20%20%20%20%20%20%7D%0A%20%20%20%20%20%20%20%20%20%20%20%20%29%3B%0A%0A%20%20%20%20%20%20%20%20%20%20%20%20%0A%0A%20%20%20%20%20%20%20%20%0A%20%20%20%20%0A%20%20%20%20%20%20%20%20%20%20%20%20var%20tile_layer_5a51a1a6768a48788c818198c0f85097%20%3D%20L.tileLayer%28%0A%20%20%20%20%20%20%20%20%20%20%20%20%20%20%20%20%22https%3A//%7Bs%7D.tile.openstreetmap.org/%7Bz%7D/%7Bx%7D/%7By%7D.png%22%2C%0A%20%20%20%20%20%20%20%20%20%20%20%20%20%20%20%20%7B%22attribution%22%3A%20%22Data%20by%20%5Cu0026copy%3B%20%5Cu003ca%20href%3D%5C%22http%3A//openstreetmap.org%5C%22%5Cu003eOpenStreetMap%5Cu003c/a%5Cu003e%2C%20under%20%5Cu003ca%20href%3D%5C%22http%3A//www.openstreetmap.org/copyright%5C%22%5Cu003eODbL%5Cu003c/a%5Cu003e.%22%2C%20%22detectRetina%22%3A%20false%2C%20%22maxNativeZoom%22%3A%2018%2C%20%22maxZoom%22%3A%2018%2C%20%22minZoom%22%3A%200%2C%20%22noWrap%22%3A%20false%2C%20%22opacity%22%3A%201%2C%20%22subdomains%22%3A%20%22abc%22%2C%20%22tms%22%3A%20false%7D%0A%20%20%20%20%20%20%20%20%20%20%20%20%29.addTo%28map_8b591b5978124797ab2f0a8f2b943f2e%29%3B%0A%20%20%20%20%20%20%20%20%0A%20%20%20%20%0A%20%20%20%20%20%20%20%20%20%20%20%20var%20tile_layer_fadb76a2ffc04bd2bd37c0512bfe465d%20%3D%20L.tileLayer%28%0A%20%20%20%20%20%20%20%20%20%20%20%20%20%20%20%20%22https%3A//earthengine.googleapis.com/v1alpha/projects/earthengine-legacy/maps/968322fa2f9d041c847a9334ce25e1a0-3d78305d076279a171c883be0f826ebf/tiles/%7Bz%7D/%7Bx%7D/%7By%7D%22%2C%0A%20%20%20%20%20%20%20%20%20%20%20%20%20%20%20%20%7B%22attribution%22%3A%20%22Google%20Earth%20Engine%22%2C%20%22detectRetina%22%3A%20false%2C%20%22maxNativeZoom%22%3A%2018%2C%20%22maxZoom%22%3A%2018%2C%20%22minZoom%22%3A%200%2C%20%22noWrap%22%3A%20false%2C%20%22opacity%22%3A%201%2C%20%22subdomains%22%3A%20%22abc%22%2C%20%22tms%22%3A%20false%7D%0A%20%20%20%20%20%20%20%20%20%20%20%20%29.addTo%28map_8b591b5978124797ab2f0a8f2b943f2e%29%3B%0A%20%20%20%20%20%20%20%20%0A%20%20%20%20%0A%20%20%20%20%20%20%20%20%20%20%20%20map_618b383e39664f2fbfb733eefe59c719.sync%28map_8b591b5978124797ab2f0a8f2b943f2e%29%3B%0A%20%20%20%20%20%20%20%20%20%20%20%20map_8b591b5978124797ab2f0a8f2b943f2e.sync%28map_618b383e39664f2fbfb733eefe59c719%29%3B%0A%20%20%20%20%20%20%20%20%0A%3C/script%3E onload=\"this.contentDocument.open();this.contentDocument.write(    decodeURIComponent(this.getAttribute('data-html')));this.contentDocument.close();\" allowfullscreen webkitallowfullscreen mozallowfullscreen></iframe></div></div>"
      ],
      "text/plain": [
       "<folium.plugins.dual_map.DualMap at 0x144a67f40>"
      ]
     },
     "metadata": {},
     "output_type": "display_data"
    }
   ],
   "source": [
    "# create resampled map from previous block at 20 m resolution as resampled_collection\n",
    "\n",
    "# define image visualization parameters\n",
    "vis_params = {\n",
    "    'bands': ['estimate'+outputName],\n",
    "    'min': 0+outputOffset,\n",
    "    'max': 10*outputScale+outputOffset\n",
    "}\n",
    "\n",
    "# create a map visualization to add images to\n",
    "m = folium.plugins.DualMap(location = [45, -75], zoom_start = 9)\n",
    "\n",
    "# generate map of original images from export_collection_10m\n",
    "m.m1.add_ee_layer(export_collection_10m, vis_params, 'original')\n",
    "\n",
    "# map reduce function onto export_collection_10m\n",
    "resampled_collection = export_collection_10m.map(lambda image: reduceTo20m(image))\n",
    "m.m2.add_ee_layer(resampled_collection, vis_params, 'resampled')\n",
    "\n",
    "# display the original and reduced resolution maps side by side\n",
    "display(m)"
   ]
  },
  {
   "cell_type": "code",
   "execution_count": 58,
   "metadata": {},
   "outputs": [
    {
     "data": {
      "text/html": [
       "<div>\n",
       "<style scoped>\n",
       "    .dataframe tbody tr th:only-of-type {\n",
       "        vertical-align: middle;\n",
       "    }\n",
       "\n",
       "    .dataframe tbody tr th {\n",
       "        vertical-align: top;\n",
       "    }\n",
       "\n",
       "    .dataframe thead th {\n",
       "        text-align: right;\n",
       "    }\n",
       "</style>\n",
       "<table border=\"1\" class=\"dataframe\">\n",
       "  <thead>\n",
       "    <tr style=\"text-align: right;\">\n",
       "      <th></th>\n",
       "      <th>estimateLAI</th>\n",
       "      <th>estimateLAI_20m</th>\n",
       "      <th>estimateLAI_10m</th>\n",
       "      <th>estimateLAI_10m_reduced</th>\n",
       "    </tr>\n",
       "  </thead>\n",
       "  <tbody>\n",
       "    <tr>\n",
       "      <th>0</th>\n",
       "      <td>3115.722734</td>\n",
       "      <td>5250.676558</td>\n",
       "      <td>5626.530885</td>\n",
       "      <td>5252.490412</td>\n",
       "    </tr>\n",
       "    <tr>\n",
       "      <th>1</th>\n",
       "      <td>1663.795974</td>\n",
       "      <td>1952.458769</td>\n",
       "      <td>2152.049680</td>\n",
       "      <td>1967.615832</td>\n",
       "    </tr>\n",
       "    <tr>\n",
       "      <th>2</th>\n",
       "      <td>2010.473280</td>\n",
       "      <td>1442.710978</td>\n",
       "      <td>1458.630710</td>\n",
       "      <td>1442.710978</td>\n",
       "    </tr>\n",
       "    <tr>\n",
       "      <th>3</th>\n",
       "      <td>3143.378260</td>\n",
       "      <td>5329.188635</td>\n",
       "      <td>5538.914088</td>\n",
       "      <td>5329.176490</td>\n",
       "    </tr>\n",
       "    <tr>\n",
       "      <th>4</th>\n",
       "      <td>2743.359496</td>\n",
       "      <td>5934.716284</td>\n",
       "      <td>5411.065390</td>\n",
       "      <td>5934.652444</td>\n",
       "    </tr>\n",
       "    <tr>\n",
       "      <th>...</th>\n",
       "      <td>...</td>\n",
       "      <td>...</td>\n",
       "      <td>...</td>\n",
       "      <td>...</td>\n",
       "    </tr>\n",
       "    <tr>\n",
       "      <th>72</th>\n",
       "      <td>3969.383346</td>\n",
       "      <td>6013.402386</td>\n",
       "      <td>6026.895045</td>\n",
       "      <td>6006.482595</td>\n",
       "    </tr>\n",
       "    <tr>\n",
       "      <th>73</th>\n",
       "      <td>2816.022993</td>\n",
       "      <td>3807.086917</td>\n",
       "      <td>3656.234072</td>\n",
       "      <td>3807.455874</td>\n",
       "    </tr>\n",
       "    <tr>\n",
       "      <th>74</th>\n",
       "      <td>1588.128391</td>\n",
       "      <td>2349.380635</td>\n",
       "      <td>2299.628381</td>\n",
       "      <td>2349.380635</td>\n",
       "    </tr>\n",
       "    <tr>\n",
       "      <th>75</th>\n",
       "      <td>3475.715137</td>\n",
       "      <td>5570.784268</td>\n",
       "      <td>5315.562941</td>\n",
       "      <td>5570.731242</td>\n",
       "    </tr>\n",
       "    <tr>\n",
       "      <th>76</th>\n",
       "      <td>3311.077177</td>\n",
       "      <td>5009.011865</td>\n",
       "      <td>5098.135722</td>\n",
       "      <td>5008.630319</td>\n",
       "    </tr>\n",
       "  </tbody>\n",
       "</table>\n",
       "<p>77 rows × 4 columns</p>\n",
       "</div>"
      ],
      "text/plain": [
       "    estimateLAI  estimateLAI_20m  estimateLAI_10m  estimateLAI_10m_reduced\n",
       "0   3115.722734      5250.676558      5626.530885              5252.490412\n",
       "1   1663.795974      1952.458769      2152.049680              1967.615832\n",
       "2   2010.473280      1442.710978      1458.630710              1442.710978\n",
       "3   3143.378260      5329.188635      5538.914088              5329.176490\n",
       "4   2743.359496      5934.716284      5411.065390              5934.652444\n",
       "..          ...              ...              ...                      ...\n",
       "72  3969.383346      6013.402386      6026.895045              6006.482595\n",
       "73  2816.022993      3807.086917      3656.234072              3807.455874\n",
       "74  1588.128391      2349.380635      2299.628381              2349.380635\n",
       "75  3475.715137      5570.784268      5315.562941              5570.731242\n",
       "76  3311.077177      5009.011865      5098.135722              5008.630319\n",
       "\n",
       "[77 rows x 4 columns]"
      ]
     },
     "execution_count": 58,
     "metadata": {},
     "output_type": "execute_result"
    }
   ],
   "source": [
    "# combine all SL2P, SL2P10_10m, SL2P10_20m bands into a single image to sample corresponding pixel values\n",
    "\n",
    "export_20m = export_collection_20m.first()\n",
    "export_10m = export_collection_10m.first()\n",
    "export_10m_reduced = resampled_collection.first()\n",
    "\n",
    "export_20m = export_20m.select('estimate'+outputName).rename('estimate'+outputName+'_20m')\n",
    "export_10m = export_10m.select('estimate'+outputName).rename('estimate'+outputName+'_10m')\n",
    "export_10m_reduced = export_10m_reduced.select('estimate'+outputName).rename('estimate'+outputName+'_10m_reduced')\n",
    "\n",
    "# get the first image in export_collection ; add all bands from corresponding image in export_collection_10m and export_collection_10m\n",
    "full_image = export_collection.first().addBands(export_20m).addBands(export_10m).addBands(export_10m_reduced)\n",
    "\n",
    "# sample the composed image with SL2P10_10m and SL2P10_20m bands\n",
    "samples = full_image.select('estimate'+outputName, 'estimate'+outputName+'_20m', 'estimate'+outputName+'_10m', 'estimate'+outputName+'_10m_reduced').sample(numPixels=100, projection=export_collection.first().select('estimate'+outputName)\\\n",
    "                                                             .projection(), scale=10).getInfo()\n",
    "\n",
    "list_length = len(samples['features'])\n",
    "estimate_list = []\n",
    "\n",
    "# populate an array with the estimate for SL2P, SL2P10_10m, SL2P10_20m\n",
    "for i in range(list_length):\n",
    "    temp_list = []\n",
    "    temp_list.append(samples['features'][i]['properties']['estimate'+outputName])\n",
    "    temp_list.append(samples['features'][i]['properties']['estimate'+outputName+'_20m'])\n",
    "    temp_list.append(samples['features'][i]['properties']['estimate'+outputName+'_10m'])\n",
    "    temp_list.append(samples['features'][i]['properties']['estimate'+outputName+'_10m_reduced'])\n",
    "    estimate_list.append(temp_list)\n",
    "\n",
    "estimate_array = pd.DataFrame(estimate_list).rename(columns={0:'estimate'+outputName, 1:'estimate'+outputName+'_20m', 2:'estimate'+outputName+'_10m', 3:'estimate'+outputName+'_10m_reduced'})\n",
    "estimate_array"
   ]
  },
  {
   "cell_type": "code",
   "execution_count": 59,
   "metadata": {},
   "outputs": [
    {
     "data": {
      "image/png": "[encoded data removed]",
      "text/plain": [
       "<Figure size 864x360 with 2 Axes>"
      ]
     },
     "metadata": {
      "needs_background": "light"
     },
     "output_type": "display_data"
    }
   ],
   "source": [
    "# plot density histogram of SL2P estimate vs (a) SL2P10_20m and (b) SL2P10_10m\n",
    "\n",
    "sl2p = estimate_array['estimate'+outputName]/1000\n",
    "sl2p10_10m = estimate_array['estimate'+outputName+'_10m']/1000\n",
    "sl2p10_20m = estimate_array['estimate'+outputName+'_20m']/1000\n",
    "\n",
    "# scipy.stats.gaussian_kde\n",
    "xy_10m = np.vstack([sl2p, sl2p10_10m])\n",
    "xy_20m = np.vstack([sl2p, sl2p10_20m])\n",
    "density_10m = scipy.stats.gaussian_kde(xy_10m)(xy_10m)\n",
    "density_20m = scipy.stats.gaussian_kde(xy_20m)(xy_20m)\n",
    "rmse_10m = sklearn.metrics.mean_squared_error(sl2p, sl2p10_10m, squared=False)\n",
    "rmse_20m = sklearn.metrics.mean_squared_error(sl2p, sl2p10_20m, squared=False)\n",
    "\n",
    "fig, ax = plt.subplots(1, 2, figsize=(12,5))\n",
    "x = np.linspace(0,15)\n",
    "fig.suptitle('{}'.format('Estimated '+outputName))\n",
    "\n",
    "# SL2P vs. SL2P10_20m\n",
    "ax[0].scatter(sl2p, sl2p10_20m, c=density_20m)\n",
    "ax[0].set_xlabel('SL2P')\n",
    "ax[0].set_ylabel('SL2P10_20m')\n",
    "ax[0].plot(x, x, c='r')\n",
    "ax[0].title.set_text(f'RMSE={rmse_20m:.5f}')\n",
    "\n",
    "# SL2P vs. SL2P10_10m\n",
    "ax[1].scatter(sl2p, sl2p10_10m, c=density_10m)\n",
    "ax[1].set_xlabel('SL2P')\n",
    "ax[1].set_ylabel('SL2P10_10m')\n",
    "ax[1].plot(x, x, c='r')\n",
    "ax[1].title.set_text(f'RMSE={rmse_10m:.5f}')"
   ]
  },
  {
   "cell_type": "code",
   "execution_count": 60,
   "metadata": {},
   "outputs": [],
   "source": [
    "# export above plot\n",
    "export_fig = fig.savefig('Estimated_'+outputName+'.jpeg', bbox_inches = 'tight')"
   ]
  },
  {
   "cell_type": "code",
   "execution_count": 61,
   "metadata": {},
   "outputs": [
    {
     "name": "stdout",
     "output_type": "stream",
     "text": [
      "20200801T155911_20200801T160644_T18TVQ_LAI\n",
      "20200801T155911_20200801T160644_T18TVR_LAI\n",
      "20200801T155911_20200801T160644_T18TVS_LAI\n",
      "20200801T155911_20200801T160644_T18TWQ_LAI\n",
      "20200801T155911_20200801T160644_T18TWR_LAI\n",
      "20200801T155911_20200801T160644_T18TVQ_LAI_20m\n",
      "20200801T155911_20200801T160644_T18TVR_LAI_20m\n",
      "20200801T155911_20200801T160644_T18TVS_LAI_20m\n",
      "20200801T155911_20200801T160644_T18TWQ_LAI_20m\n",
      "20200801T155911_20200801T160644_T18TWR_LAI_20m\n",
      "20200801T155911_20200801T160644_T18TVQ_LAI_10m\n",
      "20200801T155911_20200801T160644_T18TVR_LAI_10m\n",
      "20200801T155911_20200801T160644_T18TVS_LAI_10m\n",
      "20200801T155911_20200801T160644_T18TWQ_LAI_10m\n",
      "20200801T155911_20200801T160644_T18TWR_LAI_10m\n"
     ]
    }
   ],
   "source": [
    "# export tasks to google drive\n",
    "export_tasks = export_collection_to_drive(collection = export_collection, \n",
    "                                          num_images = export_collection.size().getInfo(), \n",
    "                                          image_names = image_output_names, \n",
    "                                          gdrive_folder = exportFolder, \n",
    "                                          scale = 20,\n",
    "                                          data_type = exportDatatype,\n",
    "                                          max_pixels = 1e13)\n",
    "\n",
    "export_tasks_20m = export_collection_to_drive(collection = export_collection_20m, \n",
    "                                          num_images = export_collection_20m.size().getInfo(), \n",
    "                                          image_names = image_output_names_20m, \n",
    "                                          gdrive_folder = exportFolder, \n",
    "                                          scale = 20,\n",
    "                                          data_type = exportDatatype,\n",
    "                                          max_pixels = 1e13)\n",
    "\n",
    "export_tasks_10m = export_collection_to_drive(collection = export_collection_10m, \n",
    "                                          num_images = export_collection_10m.size().getInfo(), \n",
    "                                          image_names = image_output_names_10m, \n",
    "                                          gdrive_folder = exportFolder, \n",
    "                                          scale = 20,\n",
    "                                          data_type = exportDatatype,\n",
    "                                          max_pixels = 1e13)"
   ]
  },
  {
   "cell_type": "code",
   "execution_count": 62,
   "metadata": {},
   "outputs": [
    {
     "name": "stdout",
     "output_type": "stream",
     "text": [
      "20200801T155911_20200801T160644_T18TVQ_LAI: READY\n",
      "20200801T155911_20200801T160644_T18TVR_LAI: READY\n",
      "20200801T155911_20200801T160644_T18TVS_LAI: READY\n",
      "20200801T155911_20200801T160644_T18TWQ_LAI: READY\n",
      "20200801T155911_20200801T160644_T18TWR_LAI: READY\n",
      "20200801T155911_20200801T160644_T18TVQ_LAI_20m: READY\n",
      "20200801T155911_20200801T160644_T18TVR_LAI_20m: READY\n",
      "20200801T155911_20200801T160644_T18TVS_LAI_20m: READY\n",
      "20200801T155911_20200801T160644_T18TWQ_LAI_20m: READY\n",
      "20200801T155911_20200801T160644_T18TWR_LAI_20m: READY\n",
      "20200801T155911_20200801T160644_T18TVQ_LAI_10m: READY\n",
      "20200801T155911_20200801T160644_T18TVR_LAI_10m: READY\n",
      "20200801T155911_20200801T160644_T18TVS_LAI_10m: READY\n",
      "20200801T155911_20200801T160644_T18TWQ_LAI_10m: READY\n",
      "20200801T155911_20200801T160644_T18TWR_LAI_10m: READY\n"
     ]
    }
   ],
   "source": [
    "check_ee_tasks(export_tasks)\n",
    "check_ee_tasks(export_tasks_20m)\n",
    "check_ee_tasks(export_tasks_10m)"
   ]
  },
  {
   "cell_type": "code",
   "execution_count": 181,
   "metadata": {},
   "outputs": [
    {
     "name": "stdout",
     "output_type": "stream",
     "text": [
      "{'type': 'FeatureCollection', 'columns': {}, 'properties': {'band_order': ['estimateLAI']}, 'features': [{'type': 'Feature', 'geometry': None, 'id': '0', 'properties': {'estimateLAI': 5626.530885023596}}, {'type': 'Feature', 'geometry': None, 'id': '2', 'properties': {'estimateLAI': 2674.2501712262065}}, {'type': 'Feature', 'geometry': None, 'id': '4', 'properties': {'estimateLAI': 1426.3913149368127}}, {'type': 'Feature', 'geometry': None, 'id': '6', 'properties': {'estimateLAI': 5538.914087997502}}, {'type': 'Feature', 'geometry': None, 'id': '7', 'properties': {'estimateLAI': 6187.78018271182}}, {'type': 'Feature', 'geometry': None, 'id': '8', 'properties': {'estimateLAI': 5207.612739248739}}, {'type': 'Feature', 'geometry': None, 'id': '9', 'properties': {'estimateLAI': 4918.3836104266675}}, {'type': 'Feature', 'geometry': None, 'id': '10', 'properties': {'estimateLAI': 4922.550813539857}}, {'type': 'Feature', 'geometry': None, 'id': '11', 'properties': {'estimateLAI': 4943.457074737136}}, {'type': 'Feature', 'geometry': None, 'id': '12', 'properties': {'estimateLAI': 1846.313755064286}}, {'type': 'Feature', 'geometry': None, 'id': '13', 'properties': {'estimateLAI': 4712.284087683788}}, {'type': 'Feature', 'geometry': None, 'id': '17', 'properties': {'estimateLAI': 5070.166244178434}}, {'type': 'Feature', 'geometry': None, 'id': '18', 'properties': {'estimateLAI': 4187.838235399119}}]}\n"
     ]
    },
    {
     "data": {
      "text/plain": [
       "\"\\nvis_params = {\\n  'min': 0,\\n  'max': 4000,\\n  'palette': ['006633', 'E5FFCC', '662A00', 'D8D8D8', 'F5F5F5']}\\n\\nprint(export_collection.first().select('estimateLAI').sample(scale=100, numPixels=100).getInfo())\\n\\n# Create a folium map object.\\nmy_map = folium.Map(location=[20, 0], zoom_start=3, height=500)\\ndisplayImage(export_collection.first().select('partition_1'),0,10)\\n\""
      ]
     },
     "execution_count": 181,
     "metadata": {},
     "output_type": "execute_result"
    }
   ],
   "source": [
    "# sample code, can delete later\n",
    "\n",
    "test = export_collection_10m.aggregate_stats('estimateLAI')\n",
    "test_LAI = export_collection_10m.first().select('estimateLAI').sample(numPixels=10, projection=export_collection_10m.first().select('estimateLAI')\\\n",
    "                                                             .projection(), scale=20)\\\n",
    "                                                             .aggregate_array('estimateLAI')\\\n",
    "                                                             .getInfo()\n",
    "\n",
    "test_LAI_sample = export_collection_10m.first().select('estimateLAI').sample(numPixels=20, projection=export_collection_10m.first().select('estimateLAI')\\\n",
    "                                                             .projection(), scale=20)\\\n",
    "                                                             .getInfo()\n",
    "\n",
    "# print(test_LAI_sample['features'][0]['properties']['estimateLAI'])\n",
    "\n",
    "test_pd_LAI = pd.DataFrame(test_LAI)\n",
    "test_pd_LAI\n",
    "\n",
    "'''\n",
    "vis_params = {\n",
    "  'min': 0,\n",
    "  'max': 4000,\n",
    "  'palette': ['006633', 'E5FFCC', '662A00', 'D8D8D8', 'F5F5F5']}\n",
    "\n",
    "print(export_collection.first().select('estimateLAI').sample(scale=100, numPixels=100).getInfo())\n",
    "\n",
    "# Create a folium map object.\n",
    "my_map = folium.Map(location=[20, 0], zoom_start=3, height=500)\n",
    "displayImage(export_collection.first().select('partition_1'),0,10)\n",
    "'''"
   ]
  }
 ],
 "metadata": {
  "kernelspec": {
   "display_name": "Python 3 (ipykernel)",
   "language": "python",
   "name": "python3"
  },
  "language_info": {
   "codemirror_mode": {
    "name": "ipython",
    "version": 3
   },
   "file_extension": ".py",
   "mimetype": "text/x-python",
   "name": "python",
   "nbconvert_exporter": "python",
   "pygments_lexer": "ipython3",
   "version": "3.9.7"
  }
 },
 "nbformat": 4,
 "nbformat_minor": 4
}
