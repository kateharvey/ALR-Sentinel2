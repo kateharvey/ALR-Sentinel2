{
 "cells": [
  {
   "cell_type": "code",
   "execution_count": null,
   "metadata": {
    "tags": []
   },
   "outputs": [],
   "source": [
    "# LEAFToolbox-SL2P\n",
    "#\n",
    "# Applies the LEAF-ToolBox-SL2P to process input images on Googe Earth Engine\n",
    "# AND exports to google drive.\n",
    "# \n",
    "# Note: This is an exact copy of LEAF-ToolBox-SL2P for image by image products\n",
    "# as implemented on February 10, 2021 16:00 EST\n",
    "# https://code.earthengine.google.com/fd6bddb89803bd8ea45fdcad051f75cc\n",
    "#\n",
    "# You will need a Google Earth Engine Account linked to a Google Account with sufficient\n",
    "# disk space for the output.\n",
    "#\n",
    "# Refer to https://github.com/rfernand387/LEAF-Toolbox/tree/master/Source-Python \n",
    "# for configuration of anaconda environment."
   ]
  },
  {
   "cell_type": "code",
   "execution_count": 93,
   "metadata": {},
   "outputs": [],
   "source": [
    "import ee\n",
    "import geetools\n",
    "import folium\n",
    "from folium import plugins\n",
    "import time\n",
    "import numpy as np\n",
    "import pandas as pd\n",
    "import matplotlib.pyplot as plt"
   ]
  },
  {
   "cell_type": "code",
   "execution_count": 2,
   "metadata": {
    "tags": []
   },
   "outputs": [
    {
     "data": {
      "text/html": [
       "<p>To authorize access needed by Earth Engine, open the following\n",
       "        URL in a web browser and follow the instructions:</p>\n",
       "        <p><a href=https://accounts.google.com/o/oauth2/auth?client_id=517222506229-vsmmajv00ul0bs7p89v5m89qs8eb9359.apps.googleusercontent.com&scope=https%3A%2F%2Fwww.googleapis.com%2Fauth%2Fearthengine+https%3A%2F%2Fwww.googleapis.com%2Fauth%2Fdevstorage.full_control&redirect_uri=urn%3Aietf%3Awg%3Aoauth%3A2.0%3Aoob&response_type=code&code_challenge=_7bCZ_H4RFxoKCdk3WgR1WooMNFLlsUA3_778HEikJg&code_challenge_method=S256>https://accounts.google.com/o/oauth2/auth?client_id=517222506229-vsmmajv00ul0bs7p89v5m89qs8eb9359.apps.googleusercontent.com&scope=https%3A%2F%2Fwww.googleapis.com%2Fauth%2Fearthengine+https%3A%2F%2Fwww.googleapis.com%2Fauth%2Fdevstorage.full_control&redirect_uri=urn%3Aietf%3Awg%3Aoauth%3A2.0%3Aoob&response_type=code&code_challenge=_7bCZ_H4RFxoKCdk3WgR1WooMNFLlsUA3_778HEikJg&code_challenge_method=S256</a></p>\n",
       "        <p>The authorization workflow will generate a code, which you\n",
       "        should paste in the box below</p>\n",
       "        "
      ],
      "text/plain": [
       "<IPython.core.display.HTML object>"
      ]
     },
     "metadata": {},
     "output_type": "display_data"
    },
    {
     "name": "stdin",
     "output_type": "stream",
     "text": [
      "Enter verification code:  4/1AX4XfWgOA9MxmjLjLLf8rs0Kg51FmFAveitTZzxQlcAB3HxvgTmF06DFgnk\n"
     ]
    },
    {
     "name": "stdout",
     "output_type": "stream",
     "text": [
      "\n",
      "Successfully saved authorization token.\n"
     ]
    }
   ],
   "source": [
    "ee.Authenticate()"
   ]
  },
  {
   "cell_type": "code",
   "execution_count": 3,
   "metadata": {
    "tags": []
   },
   "outputs": [],
   "source": [
    "# Authorizes the script with Earth Engine using the credentials.json file. Ensure either ee.Authenticate() has been called in a previous\n",
    "# script or the \"$ earthengine authenticate\" command has been run in the environment to set up the credentials.json file\n",
    "# The google account you provide during the authentication flow must have received access to Google Earth Engine\n",
    "ee.Initialize()"
   ]
  },
  {
   "cell_type": "code",
   "execution_count": 133,
   "metadata": {},
   "outputs": [],
   "source": [
    "# input parameters (to modify)\n",
    "\n",
    "# collection name\n",
    "colName = \"COPERNICUS/S2_SR\"\n",
    "colName_10m = \"COPERNICUS/S2_SR_10m\"\n",
    "\n",
    "# product name, one of('Surface_Reflectance','Albedo','FAPAR','FCOVER','LAI','CCC','CWC','DASF')\n",
    "outputName = \"LAI\"\n",
    "\n",
    "# date range for inputs\n",
    "startDate = ee.Date('2020-08-01')\n",
    "endDate = ee.Date('2020-08-5')\n",
    "\n",
    "# geographical bounds of inputs you can specify a JSON geometry (e.g. from earth engine)\n",
    "# will modify for each of the three test regions\n",
    "mapBounds =  ee.Geometry.Polygon( \\\n",
    "        [[[-75, 45], \\\n",
    "          [-75, 46], \\\n",
    "          [-74, 46], \\\n",
    "          [-74, 45]]])\n",
    "\n",
    "# other filters - for now only cloud cover\n",
    "maxCloudcover = 10\n",
    "\n",
    "# output parameters, outputScale and outputOffset not applied to \"Surface_Reflectance\"\n",
    "outputScale = 1000;\n",
    "outputOffset = 0;\n",
    "exportFolder = \"users/hemitshah/testSL2Pv3\"\n",
    "exportScale = 20\n",
    "exportDatatype = \"int\""
   ]
  },
  {
   "cell_type": "code",
   "execution_count": 5,
   "metadata": {
    "tags": []
   },
   "outputs": [],
   "source": [
    "# verify status of tasks\n",
    "def check_ee_tasks(ee_tasks: list = []):\n",
    "    for task in ee_tasks:\n",
    "        taskStatus = ee.data.getTaskStatus(task.id)[0]\n",
    "        print(taskStatus[\"description\"] + \": \" + taskStatus[\"state\"])"
   ]
  },
  {
   "cell_type": "code",
   "execution_count": 6,
   "metadata": {
    "tags": []
   },
   "outputs": [],
   "source": [
    "# wait loop for Earth Engine tasks to complete. Polls for the task status the specificed number of seconds until it is no longer active\n",
    "def task_wait_loop(ee_task, wait_interval):\n",
    "    print(ee.data.getTaskStatus(ee_task.id)[0][\"description\"] + \":\", end = \" \")\n",
    "    prev_task_status = ee.data.getTaskStatus(ee_task.id)[0][\"state\"]\n",
    "    print(prev_task_status, end = \" \")\n",
    "    while ee_task.active():\n",
    "        task_status = ee.data.getTaskStatus(ee_task.id)[0][\"state\"]\n",
    "        if(task_status != prev_task_status):\n",
    "            print(task_status, end = \" \")\n",
    "        prev_task_status = task_status\n",
    "        time.sleep(wait_interval)\n",
    "    print(ee.data.getTaskStatus(ee_task.id)[0][\"state\"])"
   ]
  },
  {
   "cell_type": "code",
   "execution_count": 7,
   "metadata": {
    "tags": []
   },
   "outputs": [],
   "source": [
    "# create a folium map object\n",
    "def displayImage(image,minVal,maxVal) :\n",
    "    my_map = folium.Map(location = [45.5, -75], zoom_start = 8, height = 500)\n",
    "    vis_params = {\n",
    "      'min': minVal,\n",
    "      'max': maxVal}\n",
    "    my_map.add_ee_layer(image, vis_params, 'Image')\n",
    "    \n",
    "    # add a layer control panel to the map.\n",
    "    my_map.add_child(folium.LayerControl())\n",
    "\n",
    "    # add fullscreen button\n",
    "    plugins.Fullscreen().add_to(my_map)\n",
    "\n",
    "    # display the map.\n",
    "    display(my_map)"
   ]
  },
  {
   "cell_type": "code",
   "execution_count": 8,
   "metadata": {
    "tags": []
   },
   "outputs": [],
   "source": [
    "# define a method for displaying Earth Engine image tiles on a folium map\n",
    "def add_ee_layer(self, ee_object, vis_params, name):\n",
    "    \n",
    "    try:    \n",
    "        # display ee.Image()\n",
    "        if isinstance(ee_object, ee.image.Image):    \n",
    "            map_id_dict = ee.Image(ee_object).getMapId(vis_params)\n",
    "            folium.raster_layers.TileLayer(\n",
    "            tiles = map_id_dict['tile_fetcher'].url_format,\n",
    "            attr = 'Google Earth Engine',\n",
    "            name = name,\n",
    "            overlay = True,\n",
    "            control = True\n",
    "            ).add_to(self)\n",
    "        # display ee.ImageCollection()\n",
    "        elif isinstance(ee_object, ee.imagecollection.ImageCollection):    \n",
    "            ee_object_new = ee_object.mosaic()\n",
    "            map_id_dict = ee.Image(ee_object_new).getMapId(vis_params)\n",
    "            folium.raster_layers.TileLayer(\n",
    "            tiles = map_id_dict['tile_fetcher'].url_format,\n",
    "            attr = 'Google Earth Engine',\n",
    "            name = name,\n",
    "            overlay = True,\n",
    "            control = True\n",
    "            ).add_to(self)\n",
    "        # display ee.Geometry()\n",
    "        elif isinstance(ee_object, ee.geometry.Geometry):    \n",
    "            folium.GeoJson(\n",
    "            data = ee_object.getInfo(),\n",
    "            name = name,\n",
    "            overlay = True,\n",
    "            control = True\n",
    "        ).add_to(self)\n",
    "        # display ee.FeatureCollection()\n",
    "        elif isinstance(ee_object, ee.featurecollection.FeatureCollection):  \n",
    "            ee_object_new = ee.Image().paint(ee_object, 0, 2)\n",
    "            map_id_dict = ee.Image(ee_object_new).getMapId(vis_params)\n",
    "            folium.raster_layers.TileLayer(\n",
    "            tiles = map_id_dict['tile_fetcher'].url_format,\n",
    "            attr = 'Google Earth Engine',\n",
    "            name = name,\n",
    "            overlay = True,\n",
    "            control = True\n",
    "        ).add_to(self)\n",
    "    \n",
    "    except:\n",
    "        print(\"Could not display {}\".format(name))\n",
    "    \n",
    "# add EE drawing method to folium\n",
    "folium.Map.add_ee_layer = add_ee_layer"
   ]
  },
  {
   "cell_type": "code",
   "execution_count": 9,
   "metadata": {
    "tags": []
   },
   "outputs": [],
   "source": [
    "default_asset_location = \"users/hemitshah\"\n",
    "\n",
    "def export_collection_to_gee(collection, num_images: int = 0, image_names: list = [], asset_folder: str = default_asset_location, scale: float = 20, max_pixels: int = 1e8, data_type: str = \"float\"):\n",
    "    collection = ee.ImageCollection(collection)\n",
    "    image_list = collection.toList(num_images)\n",
    "    task_list = []\n",
    "    \n",
    "    for i in range(num_images):\n",
    "        image = ee.Image(image_list.get(i))\n",
    "        name = image_names[i]\n",
    "        typed_images = {\"double\": image.toDouble(), \"float\": image.toFloat(), \"byte\": image.toByte(), \"int\": image.toInt()}\n",
    "        export_task = ee.batch.Export.image.toAsset(image = typed_images[data_type],\n",
    "                                                      description = name,\n",
    "                                                      assetId = asset_folder+\"/\"+name,\n",
    "                                                      region = image.geometry(),\n",
    "                                                      scale = scale,\n",
    "                                                      maxPixels = max_pixels)\n",
    "        export_task.start()\n",
    "        task_list.append(export_task)\n",
    "    \n",
    "    return task_list"
   ]
  },
  {
   "cell_type": "code",
   "execution_count": 10,
   "metadata": {
    "tags": []
   },
   "outputs": [],
   "source": [
    "def export_collection_to_drive(collection, num_images: int = 0, image_names: list = [], gdrive_folder: str = \"\", scale: float = 20, max_pixels: int = 1e8, data_type: str = \"float\"):\n",
    "    collection = ee.ImageCollection(collection)\n",
    "    image_list = collection.toList(num_images)\n",
    "    task_list = []\n",
    "\n",
    "    for i in range(num_images):\n",
    "        image = ee.Image(image_list.get(i))\n",
    "        name = image_names[i]\n",
    "        print(name)\n",
    "        typed_images = {\"double\": image.toDouble(), \"float\": image.toFloat(), \"byte\": image.toByte(), \"int\": image.toInt()}\n",
    "        export_task = ee.batch.Export.image.toDrive(image = typed_images[data_type],\n",
    "                                                    description = name,\n",
    "                                                    folder = gdrive_folder,\n",
    "                                                    fileNamePrefix = name,\n",
    "                                                    region = image.geometry(),\n",
    "                                                    scale = scale,\n",
    "                                                    maxPixels = max_pixels)\n",
    "        export_task.start()\n",
    "        task_list.append(export_task)\n",
    "    \n",
    "    return task_list"
   ]
  },
  {
   "cell_type": "code",
   "execution_count": 11,
   "metadata": {
    "tags": []
   },
   "outputs": [],
   "source": [
    "def s2_createFeatureCollection_estimates():\n",
    "    return ee.FeatureCollection('users/rfernand387/COPERNICUS_S2_SR/s2_sl2p_weiss_or_prosail_NNT3_Single_0_1')"
   ]
  },
  {
   "cell_type": "code",
   "execution_count": 12,
   "metadata": {},
   "outputs": [],
   "source": [
    "# same function as above using 10 m bands\n",
    "def s2_10m_createFeatureCollection_estimates():\n",
    "    return ee.FeatureCollection('projects/ee-kateharvey/assets/s2_sl2p_weiss_or_prosail_10m_NNT1_Single_0_1')"
   ]
  },
  {
   "cell_type": "code",
   "execution_count": 13,
   "metadata": {
    "tags": []
   },
   "outputs": [],
   "source": [
    "def s2_createFeatureCollection_errors():\n",
    "    return ee.FeatureCollection('users/rfernand387/COPERNICUS_S2_SR/s2_sl2p_weiss_or_prosail_NNT3_Single_0_1_error')"
   ]
  },
  {
   "cell_type": "code",
   "execution_count": 14,
   "metadata": {
    "tags": []
   },
   "outputs": [],
   "source": [
    "# same function as above using 10 m bands\n",
    "def s2_10m_createFeatureCollection_errors():\n",
    "    return ee.FeatureCollection('projects/ee-kateharvey/assets/s2_sl2p_weiss_or_prosail_10m_NNT1_Single_0_1_errors')"
   ]
  },
  {
   "cell_type": "code",
   "execution_count": 15,
   "metadata": {
    "tags": []
   },
   "outputs": [],
   "source": [
    "def s2_createFeatureCollection_domains():\n",
    "    return ee.FeatureCollection('users/rfernand387/COPERNICUS_S2_SR/weiss_or_prosail3_NNT3_Single_0_1_DOMAIN')"
   ]
  },
  {
   "cell_type": "code",
   "execution_count": 106,
   "metadata": {
    "tags": []
   },
   "outputs": [],
   "source": [
    "# same function as above using 10 m bands\n",
    "def s2_10m_createFeatureCollection_domains():\n",
    "    return ee.FeatureCollection('projects/ee-kateharvey/assets/s2_sl2p_weiss_or_prosail_10m_domain')"
   ]
  },
  {
   "cell_type": "code",
   "execution_count": 17,
   "metadata": {
    "tags": []
   },
   "outputs": [],
   "source": [
    "def s2_createFeatureCollection_range():\n",
    "    return ee.FeatureCollection('users/rfernand387/COPERNICUS_S2_SR/weiss_or_prosail3_NNT3_Single_0_1_RANGE')"
   ]
  },
  {
   "cell_type": "code",
   "execution_count": 18,
   "metadata": {
    "tags": []
   },
   "outputs": [],
   "source": [
    "def s2_createFeatureCollection_Network_Ind():\n",
    "    return ee.FeatureCollection('users/rfernand387/COPERNICUS_S2_SR/Parameter_file_sl2p')"
   ]
  },
  {
   "cell_type": "code",
   "execution_count": 19,
   "metadata": {
    "tags": []
   },
   "outputs": [],
   "source": [
    "def s2_createImageCollection_partition():\n",
    "    return ee.ImageCollection('users/rfernand387/NA_NALCMS_2015_tiles').map(lambda image: image.select(\"b1\").rename(\"partition\")).merge(ee.ImageCollection(\"COPERNICUS/Landcover/100m/Proba-V/Global\").map( lambda image: image.select(\"discrete_classification\").remap([0,20,30,40,50,60,70,80,90,100,111,112,113,114,115,116,121,122,123,124,125,126,200],[0,8,10,15,17,16,19,18,14,13,1,3,1,5,6,6,2,4,2,5,6,6,18],0).toUint8().rename(\"partition\")))"
   ]
  },
  {
   "cell_type": "code",
   "execution_count": 20,
   "metadata": {},
   "outputs": [],
   "source": [
    "def s2_createFeatureCollection_legend():\n",
    "    return ee.FeatureCollection('users/rfernand387/COPERNICUS_S2_SR/Legend_sl2p')"
   ]
  },
  {
   "cell_type": "code",
   "execution_count": 21,
   "metadata": {},
   "outputs": [],
   "source": [
    "def l8_createFeatureCollection_estimates():\n",
    "    return ee.FeatureCollection('users/rfernand387/LANDSAT_LC08_C01_T1_SR_SL2P_OUTPUT')"
   ]
  },
  {
   "cell_type": "code",
   "execution_count": 22,
   "metadata": {},
   "outputs": [],
   "source": [
    "def l8_createFeatureCollection_errors():\n",
    "    return ee.FeatureCollection('users/rfernand387/LANDSAT_LC08_C01_T1_SR_SL2P_ERRORS')"
   ]
  },
  {
   "cell_type": "code",
   "execution_count": 23,
   "metadata": {},
   "outputs": [],
   "source": [
    "def l8_createFeatureCollection_domains():\n",
    "    return ee.FeatureCollection('users/rfernand387/LANDSAT_LC08_C01_T1_SR/LANDSAT_LC08_C01_T1_SR_DOMAIN')"
   ]
  },
  {
   "cell_type": "code",
   "execution_count": 24,
   "metadata": {},
   "outputs": [],
   "source": [
    "def l8_createFeatureCollection_range():\n",
    "    return ee.FeatureCollection('users/rfernand387/LANDSAT_LC08_C01_T1_SR/LANDSAT_LC08_C01_T1_SR_RANGE')"
   ]
  },
  {
   "cell_type": "code",
   "execution_count": 25,
   "metadata": {},
   "outputs": [],
   "source": [
    "def l8_createFeatureCollection_Network_Ind():\n",
    "    return ee.FeatureCollection('users/rfernand387/LANDSAT_LC08_C01_T1_SR/Parameter_file_sl2p')"
   ]
  },
  {
   "cell_type": "code",
   "execution_count": 26,
   "metadata": {},
   "outputs": [],
   "source": [
    "def l8_createImageCollection_partition():\n",
    "    return ee.ImageCollection('users/rfernand387/NA_NALCMS_2015_tiles').map(lambda image: image.select(\"b1\").rename(\"partition\")).merge(ee.ImageCollection(\"COPERNICUS/Landcover/100m/Proba-V/Global\").map( lambda image: image.select(\"discrete_classification\").remap([0,20,30,40,50,60,70,80,90,100,111,112,113,114,115,116,121,122,123,124,125,126,200],[0,8,10,15,17,16,19,18,14,13,1,3,1,5,6,6,2,4,2,5,6,6,18],0).toUint8().rename(\"partition\")))"
   ]
  },
  {
   "cell_type": "code",
   "execution_count": 27,
   "metadata": {},
   "outputs": [],
   "source": [
    "def l8_createFeatureCollection_legend():\n",
    "    return ee.FeatureCollection('users/rfernand387/LANDSAT_LC08_C01_T1_SR/Legend_sl2p')"
   ]
  },
  {
   "cell_type": "code",
   "execution_count": 28,
   "metadata": {
    "tags": []
   },
   "outputs": [],
   "source": [
    "# add a 'date' band: number of days since epoch\n",
    "def addDate(image):\n",
    "    return image.addBands(ee.Image.constant(ee.Date(image.date()).millis().divide(86400000)).rename('date').toUint16())"
   ]
  },
  {
   "cell_type": "code",
   "execution_count": 29,
   "metadata": {
    "tags": []
   },
   "outputs": [],
   "source": [
    "# computes a delta time property for an image\n",
    "def deltaTime(midDate,image) :\n",
    "    return ee.Image(image.set(\"deltaTime\",ee.Number(image.date().millis()).subtract(ee.Number(midDate)).abs()))"
   ]
  },
  {
   "cell_type": "code",
   "execution_count": 30,
   "metadata": {
    "tags": []
   },
   "outputs": [],
   "source": [
    "# mask pixels that are not clear sky in a S2 MSI image\n",
    "def s2MaskClear(image) :\n",
    "    qa = image.select('QA60');\n",
    "    mask = qa.bitwiseAnd(1<<10).eq(0).And(qa.bitwiseAnd(1<<11).eq(0));\n",
    "    return image.updateMask(mask)"
   ]
  },
  {
   "cell_type": "code",
   "execution_count": 31,
   "metadata": {
    "tags": []
   },
   "outputs": [],
   "source": [
    "# add s2 geometry bands scaled by 10000\n",
    "def addS2Geometry(colOptions,image) :\n",
    "    return (image.addBands(ee.Image.constant(0).multiply(3.1415).divide(180).cos().multiply(10000).toUint16().rename(['cosVZA']))\n",
    "              .addBands(image.metadata(colOptions[\"sza\"]).multiply(3.1415).divide(180).cos().multiply(10000).toUint16().rename(['cosSZA']))\n",
    "              .addBands(image.metadata(colOptions[\"saa\"]).subtract(image.metadata(colOptions[\"saa\"])).multiply(3.1415).divide(180).cos().multiply(10000).toUint16().rename(['cosRAA'])));"
   ]
  },
  {
   "cell_type": "code",
   "execution_count": 32,
   "metadata": {
    "tags": []
   },
   "outputs": [],
   "source": [
    "# Sentinel 2 land mask\n",
    "def s2MaskLand(image) :\n",
    "    return image.updateMask((image.select('SCL').eq(4)).Or(image.select('SCL').eq(5)))"
   ]
  },
  {
   "cell_type": "code",
   "execution_count": 33,
   "metadata": {
    "tags": []
   },
   "outputs": [],
   "source": [
    "# returns image with selected bands scaled\n",
    "def scaleBands(bandList,scaleList,image) :\n",
    "    bandList = ee.List(bandList)\n",
    "    scaleList = ee.List(scaleList)\n",
    "    return image.addBands(srcImg = image.select(bandList).multiply(ee.Image.constant(scaleList)).rename(bandList),overwrite = True)"
   ]
  },
  {
   "cell_type": "code",
   "execution_count": 101,
   "metadata": {},
   "outputs": [],
   "source": [
    "# reduces all bands of input image to 20 m\n",
    "def reduceTo20m(input_image):\n",
    "    i1 = input_image\n",
    "    i2 = i1.select('B1') \\\n",
    "    .addBands(i1.select('B5').multiply(0).add(i1.select('B2')).rename('B2')) \\\n",
    "    .addBands(i1.select('B5').multiply(0).add(i1.select('B3')).rename('B3')) \\\n",
    "    .addBands(i1.select('B5').multiply(0).add(i1.select('B4')).rename('B4')) \\\n",
    "    .addBands(i1.select('B5','B6','B7','B8')) \\\n",
    "    .addBands(i1.select('B5').multiply(0).add(i1.select('B8A')).rename('B8A')) \\\n",
    "    .addBands(i1.select('B9','B11','B12')) \\\n",
    "    .addBands(i1.select('B5').multiply(0).add(i1.select('AOT')).rename('AOT')) \\\n",
    "    .addBands(i1.select('B5').multiply(0).add(i1.select('WVP')).rename('WVP')) \\\n",
    "    .addBands(i1.select('SCL')) \\\n",
    "    .addBands(i1.select('B5').multiply(0).add(i1.select('TCI_R')).rename('TCI_R')) \\\n",
    "    .addBands(i1.select('B5').multiply(0).add(i1.select('TCI_G')).rename('TCI_G')) \\\n",
    "    .addBands(i1.select('B5').multiply(0).add(i1.select('TCI_B')).rename('TCI_B')) \\\n",
    "    .addBands(i1.select('B5').multiply(0).add(i1.select('QA10')).rename('B8A')) \\\n",
    "    .addBands(i1.select('QA20','QA60'))\n",
    "    return i2"
   ]
  },
  {
   "cell_type": "code",
   "execution_count": 34,
   "metadata": {
    "tags": []
   },
   "outputs": [],
   "source": [
    "# determine if inputs fall in domain of algorithm\n",
    "# need to be updated to allow for the domain to vary with partition\n",
    "def invalidInput(sl2pDomain,bandList,image) :\n",
    "    sl2pDomain = ee.FeatureCollection(sl2pDomain).aggregate_array(\"DomainCode\").sort()\n",
    "    bandList = ee.List(bandList).slice(3)\n",
    "    image = ee.Image(image)\n",
    "\n",
    "    # code image bands into a single band and compare to valid codes to make QC band\n",
    "    image = image.addBands(image.select(bandList).multiply(ee.Image.constant(ee.Number(10))).ceil().mod(ee.Number(10)).uint8()\n",
    "                              .multiply(ee.Image.constant(ee.List.sequence(0,bandList.length().subtract(1)).map(lambda value: ee.Number(10).pow(ee.Number(value)))))\n",
    "                              .reduce(\"sum\").remap(sl2pDomain, ee.List.repeat(0, sl2pDomain.length()),1).rename(\"QC\"))\n",
    "    return image"
   ]
  },
  {
   "cell_type": "code",
   "execution_count": 35,
   "metadata": {
    "tags": []
   },
   "outputs": [],
   "source": [
    "# returns image with single band named network id corresponding given \n",
    "def makeIndexLayer(image,legend,Network_Ind) :\n",
    "    image = ee.Image(image)                          # partition image\n",
    "    legend = ee.FeatureCollection(legend)            # legend to convert partition numbers to networks\n",
    "    Network_Ind = ee.FeatureCollection(Network_Ind)  # legend to convert networks to networkIDs\n",
    "    \n",
    "    # get lists of valid partitions\n",
    "    legend_list = legend.toList(legend.size())\n",
    "    landcover = legend_list.map(lambda feature: ee.Feature(feature).getNumber('Value'))\n",
    "\n",
    "    # get corresponding networkIDs\n",
    "    networkIDs = legend_list.map(lambda feature: ee.Feature(feature).get('SL2P Network')) \\\n",
    "                                    .map(lambda propertyValue: ee.Feature(ee.FeatureCollection(Network_Ind).first()) \\\n",
    "                                    .toDictionary().getNumber(propertyValue))\n",
    "    \n",
    "    return image.remap(landcover, networkIDs, 0).rename('networkID')"
   ]
  },
  {
   "cell_type": "code",
   "execution_count": 36,
   "metadata": {
    "tags": []
   },
   "outputs": [],
   "source": [
    "# read coefficients of a network from csv EE asset\n",
    "def getCoefs(netData,ind) :\n",
    "    return((ee.Feature(netData)).getNumber(ee.String('tabledata').cat(ee.Number(ind).int().format())))"
   ]
  },
  {
   "cell_type": "code",
   "execution_count": 37,
   "metadata": {
    "tags": []
   },
   "outputs": [],
   "source": [
    "# parse one row of CSV file for a network into a global variable\n",
    "# we assume a two hidden layer network with tansig functions but allow for variable nodes per layer\n",
    "def makeNets(feature, M) :\n",
    "    \n",
    "    feature = ee.List(feature);\n",
    "    M = ee.Number(M);\n",
    "    \n",
    "    # get the requested network and initialize the created network\n",
    "    netData = ee.Feature(feature.get(M.subtract(1)));\n",
    "    net = {};\n",
    "    \n",
    "    # input slope\n",
    "    num = ee.Number(6);\n",
    "    start = num.add(1);\n",
    "    end = num.add(netData.getNumber(ee.String('tabledata').cat(num.format())));\n",
    "    net[\"inpSlope\"] = ee.List.sequence(start,end).map(lambda ind: getCoefs(netData,ind))\n",
    "    \n",
    "    # input offset\n",
    "    num = end.add(1)\n",
    "    start = num.add(1)\n",
    "    end = num.add(netData.getNumber(ee.String('tabledata').cat(num.format())))\n",
    "    net[\"inpOffset\"] = ee.List.sequence(start,end).map(lambda ind: getCoefs(netData,ind))\n",
    "\n",
    "    # hidden layer 1 weight\n",
    "    num = end.add(1)\n",
    "    start = num.add(1)\n",
    "    end = num.add(netData.getNumber(ee.String('tabledata').cat(num.format())))\n",
    "    net[\"h1wt\"] = ee.List.sequence(start,end).map(lambda ind: getCoefs(netData,ind))\n",
    "\n",
    "    # hidden layer 1 bias\n",
    "    num = end.add(1)\n",
    "    start = num.add(1)\n",
    "    end = num.add(netData.getNumber(ee.String('tabledata').cat(num.format())))\n",
    "    net[\"h1bi\"] = ee.List.sequence(start,end).map(lambda ind: getCoefs(netData,ind))\n",
    "\n",
    "    # hidden layer 2 weight\n",
    "    num = end.add(1)\n",
    "    start = num.add(1)\n",
    "    end = num.add(netData.getNumber(ee.String('tabledata').cat(num.format())))\n",
    "    net[\"h2wt\"] = ee.List.sequence(start,end).map(lambda ind: getCoefs(netData,ind))\n",
    "  \n",
    "    # hidden layer 2 bias\n",
    "    num = end.add(1)\n",
    "    start = num.add(1)\n",
    "    end = num.add(netData.getNumber(ee.String('tabledata').cat(num.format())))\n",
    "    net[\"h2bi\"] = ee.List.sequence(start,end).map(lambda ind: getCoefs(netData,ind))\n",
    "\n",
    "    # output slope\n",
    "    num = end.add(1)\n",
    "    start = num.add(1)\n",
    "    end = num.add(netData.getNumber(ee.String('tabledata').cat(num.format())))\n",
    "    net[\"outSlope\"] = ee.List.sequence(start,end).map(lambda ind: getCoefs(netData,ind))\n",
    "  \n",
    "    # output offset\n",
    "    num = end.add(1)\n",
    "    start = num.add(1)\n",
    "    end = num.add(netData.getNumber(ee.String('tabledata').cat(num.format())))\n",
    "    net[\"outBias\"] = ee.List.sequence(start,end).map(lambda ind: getCoefs(netData,ind))\n",
    "    \n",
    "    return(ee.Dictionary(net))"
   ]
  },
  {
   "cell_type": "code",
   "execution_count": 38,
   "metadata": {
    "tags": []
   },
   "outputs": [],
   "source": [
    "# parse CSV file with list of networks for a selected variable  \n",
    "# this will parse one network for each landclass partition\n",
    "def makeNetVars(asset, numNets, variableNum) :\n",
    "    \n",
    "    asset= ee.FeatureCollection(asset)\n",
    "    numNets = ee.Number(numNets)\n",
    "    variableNum= ee.Number(variableNum)  \n",
    "\n",
    "    # get selected network \n",
    "    list_features = asset.flatten()\n",
    "    filtered_features = ee.FeatureCollection(asset.filter(ee.Filter.eq('tabledata3', variableNum))).toList(numNets)\n",
    "    \n",
    "    return ee.List.sequence(1,numNets).map(lambda netNum: makeNets(filtered_features,netNum))"
   ]
  },
  {
   "cell_type": "code",
   "execution_count": 39,
   "metadata": {
    "tags": []
   },
   "outputs": [],
   "source": [
    "# returns dictionary with image masked so the networkID band equals the netIndex and the corresponding network\n",
    "def selectNet(image,netList,inputNames,netIndex) :\n",
    "    \n",
    "    image = ee.Image(image)\n",
    "    netList = ee.List(netList)\n",
    "    inputNames = ee.List(inputNames)\n",
    "    netIndex = ee.Number(netIndex).int()\n",
    "    \n",
    "    return ee.Dictionary()  \\\n",
    "            .set(\"Image\", ee.Image(image.updateMask(image.select('networkID').eq(netIndex)).select(inputNames))) \\\n",
    "            .set(\"Network\", ee.List(netList.get(netIndex))) "
   ]
  },
  {
   "cell_type": "code",
   "execution_count": 40,
   "metadata": {
    "tags": []
   },
   "outputs": [],
   "source": [
    "# applies two layer neural network within input and output scaling\n",
    "def applyNet(outputName,netDict) :\n",
    "    outputName = ee.String(outputName)\n",
    "    netDict = ee.Dictionary(netDict)\n",
    "    inp = ee.Image(netDict.get('Image'))\n",
    "    net = ee.Dictionary(netDict.get('Network'))\n",
    "    \n",
    "    # input scaling\n",
    "    l1inp2D = inp.multiply(ee.Image(net.toArray(ee.List(['inpSlope']),0).transpose()).arrayProject([0]) \\\n",
    "                        .arrayFlatten([inp.bandNames()])) \\\n",
    "                        .add(ee.Image(net.toArray(ee.List(['inpOffset']),0).transpose()) \\\n",
    "                        .arrayProject([0]).arrayFlatten([inp.bandNames()]))\n",
    "    \n",
    "    # hidden layers\n",
    "    l12D = ee.Image(net.toArray(ee.List(['h1wt']),0).reshape([ee.List(net.get('h1bi')).length(),ee.List(net.get('inpOffset')).length()])) \\\n",
    "              .matrixMultiply(l1inp2D.toArray().toArray(1)) \\\n",
    "              .add(ee.Image(net.toArray(ee.List(['h1bi']),0).transpose())) \\\n",
    "              .arrayProject([0]).arrayFlatten([['h1w1','h1w2','h1w3','h1w4','h1w5']])\n",
    "    \n",
    "    # apply tansig 2/(1+exp(-2*n))-1\n",
    "    l2inp2D = ee.Image(2).divide(ee.Image(1).add((ee.Image(-2).multiply(l12D)).exp())).subtract(ee.Image(1))\n",
    "    \n",
    "    # purlin hidden layers\n",
    "    l22D = l2inp2D.multiply(ee.Image(net.toArray(ee.List(['h2wt']),0).transpose()) \\\n",
    "                                          .arrayProject([0]) \\\n",
    "                                          .arrayFlatten([['h2w1','h2w2','h2w3','h2w4','h2w5']])) \\\n",
    "                    .reduce('sum') \\\n",
    "                    .add(ee.Image(net.toArray(ee.List(['h2bi']),0))) \\\n",
    "                                          .arrayProject([0]) \\\n",
    "                                          .arrayFlatten([['h2bi']])\n",
    "    \n",
    "    # output scaling \n",
    "    outputBand = l22D.subtract(ee.Image(ee.Number(net.get('outBias')))).divide(ee.Image(ee.Number(net.get('outSlope')))) \n",
    "    \n",
    "    # return network output\n",
    "    return (outputBand.rename(outputName))"
   ]
  },
  {
   "cell_type": "code",
   "execution_count": 41,
   "metadata": {
    "tags": []
   },
   "outputs": [],
   "source": [
    "# returns image with single band named networkid corresponding given \n",
    "# input partition image remapped to networkIDs\n",
    "# applies a set of shallow networks to an image based on a provided partition image band\n",
    "def wrapperNNets(network, partition, netOptions, colOptions, suffixName, imageInput) :\n",
    "\n",
    "    # typecast function parameters\n",
    "    network = ee.List(network)\n",
    "    partition = ee.Image(partition)\n",
    "    netOptions = netOptions\n",
    "    colOptions = colOptions\n",
    "    suffixName = suffixName\n",
    "    imageInput = ee.Image(imageInput)\n",
    "\n",
    "    # parse partition  used to identify network to use\n",
    "    partition = partition.clip(imageInput.geometry()).select(['partition'])\n",
    "\n",
    "    # determine networks based on collection\n",
    "    netList = ee.List(network.get(ee.Number(netOptions.get(\"variable\")).subtract(1))); \n",
    "    \n",
    "    # parse land cover into network index and add to input image\n",
    "    imageInput = imageInput.addBands(makeIndexLayer(partition,colOptions[\"legend\"],colOptions[\"Network_Ind\"]))\n",
    "\n",
    "    # define list of input names\n",
    "    return ee.ImageCollection(ee.List.sequence(0, netList.size().subtract(1)) \\\n",
    "                                                    .map(lambda netIndex: selectNet(imageInput,netList,netOptions[\"inputBands\"],netIndex)) \\\n",
    "                                                    .map(lambda netDict: applyNet(suffixName+outputName,netDict))) \\\n",
    "                                                    .max().addBands(partition).addBands(imageInput.select('networkID'))"
   ]
  },
  {
   "cell_type": "code",
   "execution_count": 42,
   "metadata": {
    "tags": []
   },
   "outputs": [],
   "source": [
    "# returns dictionary with image masked so the networkID band equals the netIndex and the corresponding network\n",
    "def selectNet2(image,netList,inputNames,netIndex) :\n",
    "    image = ee.Image(image)\n",
    "    netList = ee.List(netList)\n",
    "    inputNames = ee.List(inputNames)\n",
    "    netIndex = ee.Number(netIndex).int()\n",
    "    result = ee.Dictionary() \\\n",
    "            .set(\"Image\", ee.Image(image.updateMask(image.select('networkID').eq(netIndex)).select(inputNames))) \\\n",
    "            .set(\"Network\", ee.List(netList.get(netIndex)))\n",
    "    return result"
   ]
  },
  {
   "cell_type": "code",
   "execution_count": 43,
   "metadata": {
    "tags": []
   },
   "outputs": [],
   "source": [
    "# applies two layer neural network within input and output scaling\n",
    "def applyNet2(outputName,netDict) :\n",
    "    outputName = ee.String(outputName)\n",
    "    netDict = ee.Dictionary(netDict)\n",
    "    inp = ee.Image(netDict.get('Image'))\n",
    "    net = ee.Dictionary(netDict.get('Network'))\n",
    "    \n",
    "    # input scaling\n",
    "    l1inp2D = inp.multiply(ee.Image(net.toArray(ee.List(['inpSlope']),0).transpose()).arrayProject([0]) \\\n",
    "                           .arrayFlatten([inp.bandNames()])).add(ee.Image(net.toArray(ee.List(['inpOffset']),0) \\\n",
    "                           .transpose()).arrayProject([0]).arrayFlatten([inp.bandNames()]))\n",
    "\n",
    "    # hidden layers\n",
    "    l12D = ee.Image(net.toArray(ee.List(['h1wt']),0) \\\n",
    "                    .reshape([ee.List(net.get('h1bi')).length(),ee.List(net.get('inpOffset')).length()])) \\\n",
    "                    .matrixMultiply(l1inp2D.toArray().toArray(1)) \\\n",
    "                    .add(ee.Image(net.toArray(ee.List(['h1bi']),0).transpose())) \\\n",
    "                    .arrayProject([0]).arrayFlatten([['h1w1','h1w2','h1w3','h1w4','h1w5']])\n",
    "    \n",
    "    # apply tansig 2/(1+exp(-2*n))-1\n",
    "    l2inp2D = ee.Image(2).divide(ee.Image(1).add((ee.Image(-2).multiply(l12D)).exp())).subtract(ee.Image(1))\n",
    "    \n",
    "    # purlin hidden layers\n",
    "    l22D = l2inp2D.multiply(ee.Image(net.toArray(ee.List(['h2wt']),0).transpose()).arrayProject([0]) \\\n",
    "                            .arrayFlatten([['h2w1','h2w2','h2w3','h2w4','h2w5']])).reduce('sum') \\\n",
    "                            .add(ee.Image(net.toArray(ee.List(['h2bi']),0))).arrayProject([0]).arrayFlatten([['h2bi']])\n",
    "    \n",
    "    # output scaling \n",
    "    outputBand = l22D.subtract(ee.Image(ee.Number(net.get('outBias')))).divide(ee.Image(ee.Number(net.get('outSlope')))) \n",
    "\n",
    "    # return network output\n",
    "    return (outputBand.rename(outputName))"
   ]
  },
  {
   "cell_type": "code",
   "execution_count": 44,
   "metadata": {
    "tags": []
   },
   "outputs": [],
   "source": [
    "# read coefficients of a network from csv EE asset\n",
    "def getCoefs2(netData,ind) :\n",
    "    return((ee.Feature(netData)).getNumber(ee.String('tabledata').cat(ee.Number(ind).int().format())))"
   ]
  },
  {
   "cell_type": "code",
   "execution_count": 45,
   "metadata": {
    "tags": []
   },
   "outputs": [],
   "source": [
    "# parse one row of CSV file for a network into a global variable\n",
    "# We assume a two hidden layer network with tansig functions but allow for variable nodes per layer\n",
    "def makeNets2(feature, M) :\n",
    "    \n",
    "    feature = ee.List(feature);\n",
    "    M = ee.Number(M);\n",
    "    \n",
    "    # get the requested network and initialize the created network\n",
    "    netData = ee.Feature(feature.get(M.subtract(1)));\n",
    "    net = ee.Dictionary();\n",
    "    \n",
    "    # input slope\n",
    "    num = ee.Number(6);\n",
    "    start = num.add(1);\n",
    "    end = num.add(netData.getNumber(ee.String('tabledata').cat(num.format())));\n",
    "    net = net.set(\"inpSlope\", ee.List.sequence(start,end).map(lambda ind: getCoefs(netData,ind)))\n",
    "    \n",
    "    # input offset\n",
    "    num = end.add(1)\n",
    "    start = num.add(1)\n",
    "    end = num.add(netData.getNumber(ee.String('tabledata').cat(num.format())));\n",
    "    net = net.set(\"inpOffset\", ee.List.sequence(start,end).map(lambda ind: getCoefs(netData,ind)))\n",
    "\n",
    "    # hidden layer 1 weight\n",
    "    num = end.add(1)\n",
    "    start = num.add(1)\n",
    "    end = num.add(netData.getNumber(ee.String('tabledata').cat(num.format())));\n",
    "    net = net.set(\"h1wt\", ee.List.sequence(start,end).map(lambda ind: getCoefs(netData,ind)))\n",
    "\n",
    "    # hidden layer 1 bias\n",
    "    num = end.add(1)\n",
    "    start = num.add(1)\n",
    "    end = num.add(netData.getNumber(ee.String('tabledata').cat(num.format())));\n",
    "    net = net.set(\"h1bi\", ee.List.sequence(start,end).map(lambda ind: getCoefs(netData,ind)))\n",
    "\n",
    "    # hidden layer 2 weight\n",
    "    num = end.add(1)\n",
    "    start = num.add(1)\n",
    "    end = num.add(netData.getNumber(ee.String('tabledata').cat(num.format())));\n",
    "    net = net.set(\"h2wt\", ee.List.sequence(start,end).map(lambda ind: getCoefs(netData,ind)))\n",
    "  \n",
    "    # hidden layer 2 bias\n",
    "    num = end.add(1)\n",
    "    start = num.add(1)\n",
    "    end = num.add(netData.getNumber(ee.String('tabledata').cat(num.format())));\n",
    "    net = net.set(\"h2bi\", ee.List.sequence(start,end).map(lambda ind: getCoefs(netData,ind)))\n",
    "\n",
    "    # output slope\n",
    "    num = end.add(1)\n",
    "    start = num.add(1)\n",
    "    end = num.add(netData.getNumber(ee.String('tabledata').cat(num.format())));\n",
    "    net = net.set(\"outSlope\", ee.List.sequence(start,end).map(lambda ind: getCoefs(netData,ind)))\n",
    "  \n",
    "    # output offset\n",
    "    num = end.add(1)\n",
    "    start = num.add(1)\n",
    "    end = num.add(netData.getNumber(ee.String('tabledata').cat(num.format())));\n",
    "    net = net.set(\"outBias\", ee.List.sequence(start,end).map(lambda ind: getCoefs(netData,ind)))\n",
    "\n",
    "    return(net)\n"
   ]
  },
  {
   "cell_type": "code",
   "execution_count": 46,
   "metadata": {
    "tags": []
   },
   "outputs": [],
   "source": [
    "# parse CSV file with list of networks for a selected variable  \n",
    "# this will parse one network for each landclass partition\n",
    "def makeNetVars2(asset, numNets, variableNum) :\n",
    "    \n",
    "    asset = ee.FeatureCollection(asset)\n",
    "    numNets = ee.Number(numNets)\n",
    "    variableNum = ee.Number(variableNum)\n",
    "    \n",
    "    # get selected network \n",
    "    filtered_features = ee.FeatureCollection(asset.filter(ee.Filter.eq('tabledata3', variableNum))).toList(numNets)\n",
    "    \n",
    "    # make only first net\n",
    "    netList = makeNets2(filtered_features,1)\n",
    "    return netList\n",
    "    # return ee.List.sequence(1,numNets).map(lambda netNum: makeNets(filtered_features,netNum))"
   ]
  },
  {
   "cell_type": "code",
   "execution_count": 47,
   "metadata": {
    "tags": []
   },
   "outputs": [],
   "source": [
    "# returns image with single band named network id corresponding given \n",
    "def makeIndexLayer2(image,legend,Network_Ind) :\n",
    "    \n",
    "    image = ee.Image(image)                        # partition image\n",
    "    legend = ee.FeatureCollection(legend)          # legend to convert partition numbers to networks\n",
    "    Network_Ind = ee.FeatureCollection(Network_Ind) # legend to convert networks to networkIDs\n",
    "    \n",
    "    # get lists of valid partitions\n",
    "    legend_list = legend.toList(legend.size())\n",
    "    landcover = legend_list.map(lambda feature: ee.Feature(feature).getNumber('Value'))\n",
    "\n",
    "    # get corresponding networkIDs\n",
    "    networkIDs = legend_list.map(lambda feature: ee.Feature(feature).get('SL2P Network')) \\\n",
    "                              .map(lambda propertyValue:  ee.Feature(ee.FeatureCollection(Network_Ind).first()).toDictionary().getNumber(propertyValue))\n",
    "    return image.remap(landcover, networkIDs, 0).rename('networkID')"
   ]
  },
  {
   "cell_type": "code",
   "execution_count": 48,
   "metadata": {
    "tags": []
   },
   "outputs": [],
   "source": [
    "# returns image with single band named networkid corresponding given \n",
    "# input partition image remapped to networkIDs\n",
    "# applies a set of shallow networks to an image based on a provided partition image band\n",
    "def wrapperNNets2(network, partition, netOptions, colOptions, layerName, imageInput) :\n",
    "\n",
    "    # typecast function parameters\n",
    "    network = ee.List(network)\n",
    "    partition = ee.Image(partition)\n",
    "    netOptions = ee.Dictionary(netOptions)\n",
    "    colOptions = ee.Dictionary(colOptions)\n",
    "    layerName = ee.String(layerName)\n",
    "    imageInput = ee.Image(imageInput)\n",
    "\n",
    "    # parse partition  used to identify network to use\n",
    "    partition = partition.clip(imageInput.geometry()).select(['partition'])\n",
    "\n",
    "    # determine networks based on collection\n",
    "    netList = ee.List(network.get(ee.Number(netOptions.get(\"variable\")).subtract(1))) \n",
    "    \n",
    "    # parse land cover into network index and add to input image\n",
    "    imageInput = imageInput.addBands(makeIndexLayer2(partition,colOptions.get(\"legend\"),colOptions.get(\"Network_Ind\")))\n",
    "\n",
    "\n",
    "    # define list of input names\n",
    "    netIndex = 0;\n",
    "    netDict = ee.Dictionary(selectNet2(imageInput,netList,netOptions.get(\"inputBands\"),netIndex));\n",
    "    estimate = ee.Image(applyNet2(layerName,netDict))\n",
    "\n",
    "    return estimate.addBands(partition).addBands(imageInput.select('networkID'))"
   ]
  },
  {
   "cell_type": "code",
   "execution_count": 170,
   "metadata": {},
   "outputs": [
    {
     "name": "stdout",
     "output_type": "stream",
     "text": [
      "{'type': 'FeatureCollection', 'columns': {'system:index': 'String', 'tabledata1': 'Integer', 'tabledata10': 'Float', 'tabledata11': 'Float', 'tabledata12': 'Float', 'tabledata13': 'Float', 'tabledata14': 'Integer', 'tabledata15': 'Float', 'tabledata16': 'Float', 'tabledata17': 'Float', 'tabledata18': 'Float', 'tabledata19': 'Float', 'tabledata2': 'Integer', 'tabledata20': 'Float', 'tabledata21': 'Float', 'tabledata22': 'Integer', 'tabledata23': 'Float', 'tabledata24': 'Float', 'tabledata25': 'Float', 'tabledata26': 'Float', 'tabledata27': 'Float', 'tabledata28': 'Float', 'tabledata29': 'Float', 'tabledata3': 'Integer', 'tabledata30': 'Float', 'tabledata31': 'Float', 'tabledata32': 'Float', 'tabledata33': 'Float', 'tabledata34': 'Float', 'tabledata35': 'Float', 'tabledata36': 'Float', 'tabledata37': 'Float', 'tabledata38': 'Float', 'tabledata39': 'Float', 'tabledata4': 'Integer', 'tabledata40': 'Float', 'tabledata41': 'Float', 'tabledata42': 'Float', 'tabledata43': 'Float', 'tabledata44': 'Float', 'tabledata45': 'Float', 'tabledata46': 'Float', 'tabledata47': 'Float', 'tabledata48': 'Float', 'tabledata49': 'Float', 'tabledata5': 'Integer', 'tabledata50': 'Float', 'tabledata51': 'Float', 'tabledata52': 'Float', 'tabledata53': 'Float', 'tabledata54': 'Float', 'tabledata55': 'Float', 'tabledata56': 'Float', 'tabledata57': 'Float', 'tabledata58': 'Integer', 'tabledata59': 'Float', 'tabledata6': 'Integer', 'tabledata60': 'Float', 'tabledata61': 'Float', 'tabledata62': 'Float', 'tabledata63': 'Float', 'tabledata64': 'Integer', 'tabledata65': 'Float', 'tabledata66': 'Float', 'tabledata67': 'Float', 'tabledata68': 'Float', 'tabledata69': 'Float', 'tabledata7': 'Float', 'tabledata70': 'Integer', 'tabledata71': 'Float', 'tabledata72': 'Integer', 'tabledata73': 'Float', 'tabledata74': 'Integer', 'tabledata75': 'Float', 'tabledata8': 'Float', 'tabledata9': 'Float'}, 'version': 1632757192790468, 'id': 'projects/ee-kateharvey/assets/s2_sl2p_weiss_or_prosail_10m_NNT1_Single_0_1', 'properties': {'system:asset_size': 30452}, 'features': [{'type': 'Feature', 'geometry': {'type': 'MultiPoint', 'coordinates': []}, 'id': '00000000000000000005', 'properties': {'tabledata1': 0, 'tabledata10': 9.53406833180801, 'tabledata11': 8.3721373371775, 'tabledata12': 6.75822774817715, 'tabledata13': 2.98601932822841, 'tabledata14': 7, 'tabledata15': -45.1256147899233, 'tabledata16': -2.16201104311289, 'tabledata17': 6.50458575890411e-10, 'tabledata18': -0.732412458167228, 'tabledata19': -0.965637038310406, 'tabledata2': 0, 'tabledata20': -0.920340451571388, 'tabledata21': -1.17642426551539, 'tabledata22': 35, 'tabledata23': 0.679247129692732, 'tabledata24': 0.513502823490422, 'tabledata25': 0.69847727402408, 'tabledata26': 0.434337342082826, 'tabledata27': -0.78742265423188, 'tabledata28': 0.829473701978053, 'tabledata29': -0.269244581556113, 'tabledata3': 6, 'tabledata30': -0.531947466674394, 'tabledata31': 0.245319362696683, 'tabledata32': 0.433730031473875, 'tabledata33': 0.501309688256632, 'tabledata34': 0.887078195737662, 'tabledata35': 0.875504537424218, 'tabledata36': 0.745745015321682, 'tabledata37': -0.00553551167335797, 'tabledata38': 0.536470545798175, 'tabledata39': 0.732768063144893, 'tabledata4': 0, 'tabledata40': -0.79195951887525, 'tabledata41': -0.0858622061021199, 'tabledata42': -0.420553056480757, 'tabledata43': 1.20064695100556, 'tabledata44': 0.953468599292881, 'tabledata45': 0.0288658920730165, 'tabledata46': -1.15342838628766, 'tabledata47': -0.590097287629223, 'tabledata48': 0.390225227602923, 'tabledata49': 0.291744815313801, 'tabledata5': 1, 'tabledata50': -0.0919483955356287, 'tabledata51': 0.257795634798984, 'tabledata52': 0.819158049952587, 'tabledata53': -0.683485529378892, 'tabledata54': -0.460453289796084, 'tabledata55': 1.06703827943096, 'tabledata56': -0.739623455602168, 'tabledata57': 0.125716785751411, 'tabledata58': 5, 'tabledata59': -1.82363975299671, 'tabledata6': 7, 'tabledata60': 1.02377284175956, 'tabledata61': -0.0399504969579957, 'tabledata62': 0.953046196874123, 'tabledata63': 1.74384023606098, 'tabledata64': 5, 'tabledata65': 0.256641664457337, 'tabledata66': 0.625146473676096, 'tabledata67': 0.21535299603574, 'tabledata68': 0.41008190166429, 'tabledata69': -0.0470858178158964, 'tabledata7': 46.1256147926974, 'tabledata70': 1, 'tabledata71': 0.0692068410183223, 'tabledata72': 1, 'tabledata73': 13.9238911481118, 'tabledata74': 1, 'tabledata75': -1.92973010022037, 'tabledata8': 3.39740087523022, 'tabledata9': 1.00000000123365}}, {'type': 'Feature', 'geometry': {'type': 'MultiPoint', 'coordinates': []}, 'id': '00000000000000000001', 'properties': {'tabledata1': 0, 'tabledata10': 8.92982462667039, 'tabledata11': 7.89392819358528, 'tabledata12': 6.20069996788662, 'tabledata13': 2.76370179609902, 'tabledata14': 7, 'tabledata15': -45.1256147899233, 'tabledata16': -2.16201104311289, 'tabledata17': 6.50458575890411e-10, 'tabledata18': -0.749371439590328, 'tabledata19': -0.940528654285762, 'tabledata2': 0, 'tabledata20': -0.926912057748218, 'tabledata21': -1.10390661194345, 'tabledata22': 35, 'tabledata23': -0.027938146479964, 'tabledata24': -0.000867134828738471, 'tabledata25': -0.00730508837397028, 'tabledata26': -0.157525905166444, 'tabledata27': -0.330765477902517, 'tabledata28': -1.16835240923922, 'tabledata29': 1.52439117383647, 'tabledata3': 2, 'tabledata30': 0.0284475188227085, 'tabledata31': -0.00556554821199694, 'tabledata32': -2.81634224225773e-05, 'tabledata33': -0.059693900206886, 'tabledata34': -0.169255867596374, 'tabledata35': 0.897796120216492, 'tabledata36': -1.65131858834882, 'tabledata37': -0.201307873122679, 'tabledata38': -0.92389852827996, 'tabledata39': -0.0203591327690861, 'tabledata4': 0, 'tabledata40': -0.14140373097405, 'tabledata41': -0.0838159203492675, 'tabledata42': -0.895072790346937, 'tabledata43': 0.354578383401014, 'tabledata44': -0.225416924670891, 'tabledata45': -0.0883374095428225, 'tabledata46': -0.0260259384487613, 'tabledata47': -0.661319432175931, 'tabledata48': 1.01297865413729, 'tabledata49': 0.84485523638976, 'tabledata5': 1, 'tabledata50': -1.13235403326334, 'tabledata51': -0.377724044407668, 'tabledata52': -0.161035401292943, 'tabledata53': 0.0404882204173266, 'tabledata54': 0.496692080674069, 'tabledata55': -0.101356203257146, 'tabledata56': -0.660538895942315, 'tabledata57': 0.325328745865691, 'tabledata58': 5, 'tabledata59': -0.525974850404116, 'tabledata6': 7, 'tabledata60': -1.07537147152124, 'tabledata61': -0.0387045757699772, 'tabledata62': 0.125523215981606, 'tabledata63': -2.39202462362745, 'tabledata64': 5, 'tabledata65': 0.477557244926407, 'tabledata66': -0.9342713986004, 'tabledata67': 0.0149147361432016, 'tabledata68': -0.165947152903744, 'tabledata69': 0.397847556364362, 'tabledata7': 46.1256147926974, 'tabledata70': 1, 'tabledata71': -0.100053381364005, 'tabledata72': 1, 'tabledata73': 2.12513023139634, 'tabledata74': 1, 'tabledata75': -1.06843314955243, 'tabledata8': 3.39740087523022, 'tabledata9': 1.00000000123365}}, {'type': 'Feature', 'geometry': {'type': 'MultiPoint', 'coordinates': []}, 'id': '00000000000000000006', 'properties': {'tabledata1': 0, 'tabledata10': 8.92982462667039, 'tabledata11': 7.80501737090262, 'tabledata12': 6.20069996788662, 'tabledata13': 2.76370179609902, 'tabledata14': 7, 'tabledata15': -45.1256147899233, 'tabledata16': -2.16201104311289, 'tabledata17': 6.50458575890411e-10, 'tabledata18': -0.749371439590328, 'tabledata19': -0.941198491424361, 'tabledata2': 0, 'tabledata20': -0.926912057748218, 'tabledata21': -1.10390661194345, 'tabledata22': 35, 'tabledata23': -1.07799268805113, 'tabledata24': 0.517367109264578, 'tabledata25': -0.742230574495813, 'tabledata26': -0.150636331701211, 'tabledata27': 0.392922476138972, 'tabledata28': -0.158618090040166, 'tabledata29': 0.364372649672965, 'tabledata3': 7, 'tabledata30': 0.0040607431622037, 'tabledata31': 0.0168475838826254, 'tabledata32': -0.00528216095322579, 'tabledata33': 0.115486372821839, 'tabledata34': 0.391718960390693, 'tabledata35': 1.0173246222098, 'tabledata36': -1.46542862853786, 'tabledata37': 0.0111443628729858, 'tabledata38': 0.0426687037033646, 'tabledata39': 0.031314718986573, 'tabledata4': 0, 'tabledata40': 0.192599535026906, 'tabledata41': 0.498987871756444, 'tabledata42': -0.963812236068938, 'tabledata43': 1.02644241172499, 'tabledata44': -0.16027225212362, 'tabledata45': -0.322396157054719, 'tabledata46': 0.0842840130246537, 'tabledata47': -1.29398113802782, 'tabledata48': 0.666711568749394, 'tabledata49': -0.82147438286278, 'tabledata5': 1, 'tabledata50': -0.135377148994051, 'tabledata51': -0.00683488933754947, 'tabledata52': 0.459160605242029, 'tabledata53': 0.229643367639052, 'tabledata54': -0.402960635126254, 'tabledata55': 0.16120634968853, 'tabledata56': -0.69688417007555, 'tabledata57': -1.67650103429393, 'tabledata58': 5, 'tabledata59': 1.91717384471241, 'tabledata6': 7, 'tabledata60': 0.890053184549071, 'tabledata61': 0.150866417798305, 'tabledata62': -0.909482731660004, 'tabledata63': -1.24080487224382, 'tabledata64': 5, 'tabledata65': 0.0233196694544616, 'tabledata66': -0.751689272063132, 'tabledata67': 0.441990347165075, 'tabledata68': -0.0261698805378477, 'tabledata69': -0.0651586882409625, 'tabledata7': 46.1256147926974, 'tabledata70': 1, 'tabledata71': -0.0753945181519532, 'tabledata72': 1, 'tabledata73': 2.26022008946574, 'tabledata74': 1, 'tabledata75': -1.08577344712493, 'tabledata8': 3.39740087523022, 'tabledata9': 1.00000000123365}}, {'type': 'Feature', 'geometry': {'type': 'MultiPoint', 'coordinates': []}, 'id': '00000000000000000002', 'properties': {'tabledata1': 0, 'tabledata10': 8.92982462667039, 'tabledata11': 7.89392819358528, 'tabledata12': 6.20069996788662, 'tabledata13': 2.75171326868107, 'tabledata14': 7, 'tabledata15': -45.1256147899233, 'tabledata16': -2.16201104311289, 'tabledata17': 6.50458575890411e-10, 'tabledata18': -0.749371439590328, 'tabledata19': -0.940528654285762, 'tabledata2': 0, 'tabledata20': -0.926912057748218, 'tabledata21': -1.09478017792017, 'tabledata22': 35, 'tabledata23': 0.549788026587598, 'tabledata24': 0.886008293163279, 'tabledata25': -0.421497831149855, 'tabledata26': -0.24653135020561, 'tabledata27': 0.722574968138281, 'tabledata28': -0.87698960335546, 'tabledata29': -0.615362808584199, 'tabledata3': 3, 'tabledata30': -0.00141412359623616, 'tabledata31': -0.0141413010552294, 'tabledata32': 0.00690782564913125, 'tabledata33': -0.0504753226908331, 'tabledata34': 0.232761873346986, 'tabledata35': 1.11706711514997, 'tabledata36': -1.22600777843709, 'tabledata37': 0.163470309487561, 'tabledata38': 0.726839021890543, 'tabledata39': -0.396278058007863, 'tabledata4': 0, 'tabledata40': 0.834903643208201, 'tabledata41': 0.268339083839328, 'tabledata42': 0.359440978273681, 'tabledata43': 1.14852527351462, 'tabledata44': 0.0209025925147119, 'tabledata45': -0.0109401324081911, 'tabledata46': -0.0129555041940777, 'tabledata47': 0.013738352597883, 'tabledata48': -0.224757665109087, 'tabledata49': 0.596143127379804, 'tabledata5': 1, 'tabledata50': -1.61710528714441, 'tabledata51': -0.452864073443765, 'tabledata52': 0.557113666552338, 'tabledata53': 0.10165364050233, 'tabledata54': -1.02572841436736, 'tabledata55': 0.38707202231434, 'tabledata56': -0.432114364029389, 'tabledata57': -0.819870831532475, 'tabledata58': 5, 'tabledata59': -1.74192587920228, 'tabledata6': 7, 'tabledata60': 0.206115175988361, 'tabledata61': 0.0548646561702663, 'tabledata62': -1.21994207005059, 'tabledata63': -1.89853702358808, 'tabledata64': 5, 'tabledata65': -0.000351882047805128, 'tabledata66': -0.913926828632542, 'tabledata67': -0.0157197885417074, 'tabledata68': -0.696741743994735, 'tabledata69': -0.0382707694557922, 'tabledata7': 46.1256147926974, 'tabledata70': 1, 'tabledata71': -0.499954218434554, 'tabledata72': 1, 'tabledata73': 2.07873279869427, 'tabledata74': 1, 'tabledata75': -1.06013877795391, 'tabledata8': 3.39740087523022, 'tabledata9': 1.00000000123365}}, {'type': 'Feature', 'geometry': {'type': 'MultiPoint', 'coordinates': []}, 'id': '00000000000000000003', 'properties': {'tabledata1': 0, 'tabledata10': 8.92982462667039, 'tabledata11': 8.08212139713826, 'tabledata12': 6.20069996788662, 'tabledata13': 2.75171326868107, 'tabledata14': 7, 'tabledata15': -45.1256147899233, 'tabledata16': -2.16201104311289, 'tabledata17': 6.50458575890411e-10, 'tabledata18': -0.749371439590328, 'tabledata19': -0.925361023528915, 'tabledata2': 0, 'tabledata20': -0.926912057748218, 'tabledata21': -1.09478017792017, 'tabledata22': 35, 'tabledata23': 0.851246225390982, 'tabledata24': 0.664104141747335, 'tabledata25': -0.824253510293736, 'tabledata26': 0.647413963497859, 'tabledata27': 0.135688217667669, 'tabledata28': -0.225926340058635, 'tabledata29': 0.779469326335517, 'tabledata3': 4, 'tabledata30': -0.028264592083046, 'tabledata31': 0.0306200031882049, 'tabledata32': 0.0224287525322602, 'tabledata33': 0.148971435463597, 'tabledata34': -0.543749280895883, 'tabledata35': 1.31386854085103, 'tabledata36': 0.909614094944268, 'tabledata37': 0.0119881121809365, 'tabledata38': 0.0127926678007311, 'tabledata39': 0.0053002245907439, 'tabledata4': 0, 'tabledata40': -0.0728765673643835, 'tabledata41': 1.33216445920799, 'tabledata42': 0.835551295017938, 'tabledata43': -1.16582503516418, 'tabledata44': -0.180413689155463, 'tabledata45': -0.125701879297132, 'tabledata46': -0.059246181353295, 'tabledata47': -0.755747270175838, 'tabledata48': -1.03739236712064, 'tabledata49': -0.537561500676344, 'tabledata5': 1, 'tabledata50': 0.561960077536516, 'tabledata51': -0.125695757438768, 'tabledata52': -0.913269298706758, 'tabledata53': -0.752608381276436, 'tabledata54': 0.224549850275398, 'tabledata55': 0.256099646681657, 'tabledata56': 0.557220794423303, 'tabledata57': -0.608567374422575, 'tabledata58': 5, 'tabledata59': -1.69750089492338, 'tabledata6': 7, 'tabledata60': 1.13797648760258, 'tabledata61': 1.36332861464863, 'tabledata62': -1.42682958790752, 'tabledata63': -2.10909815347764, 'tabledata64': 5, 'tabledata65': 0.00222168195603595, 'tabledata66': 0.135671797619705, 'tabledata67': -1.08212159847865, 'tabledata68': -0.109869196381778, 'tabledata69': -0.0342616029230496, 'tabledata7': 46.1256147926974, 'tabledata70': 1, 'tabledata71': -0.0955996199990813, 'tabledata72': 1, 'tabledata73': 0.003105585199695, 'tabledata74': 1, 'tabledata75': -1.00983963834202, 'tabledata8': 3.39740087523022, 'tabledata9': 1.00000000123365}}, {'type': 'Feature', 'geometry': {'type': 'MultiPoint', 'coordinates': []}, 'id': '00000000000000000000', 'properties': {'tabledata1': 0, 'tabledata10': 8.92982462667039, 'tabledata11': 8.08212139713826, 'tabledata12': 6.20069996788662, 'tabledata13': 2.74801129291028, 'tabledata14': 7, 'tabledata15': -45.1256147899233, 'tabledata16': -2.16201104311289, 'tabledata17': 6.50458575890411e-10, 'tabledata18': -0.749371439590328, 'tabledata19': -0.925361023528915, 'tabledata2': 0, 'tabledata20': -0.926912057748218, 'tabledata21': -1.09196199713366, 'tabledata22': 35, 'tabledata23': -0.0644372478161219, 'tabledata24': -0.160511789171603, 'tabledata25': -0.0691305740001112, 'tabledata26': 1.17523845748233, 'tabledata27': 0.756574610302507, 'tabledata28': 0.869423714976439, 'tabledata29': -1.53568907511566, 'tabledata3': 1, 'tabledata30': -0.743978718602663, 'tabledata31': -0.19755581738515, 'tabledata32': -0.49535846103524, 'tabledata33': 0.348024872290153, 'tabledata34': -0.0742341115356437, 'tabledata35': 0.146389384893173, 'tabledata36': -1.06540359373157, 'tabledata37': -0.186754118265918, 'tabledata38': -0.413782749496776, 'tabledata39': -0.189413880951156, 'tabledata4': 0, 'tabledata40': -0.730984001401591, 'tabledata41': -1.17662161910995, 'tabledata42': -0.899276607260319, 'tabledata43': 0.178536723304994, 'tabledata44': 0.0101869430023046, 'tabledata45': -0.020779870640001, 'tabledata46': 0.00254549323427116, 'tabledata47': 0.183804146454229, 'tabledata48': -0.307981877484105, 'tabledata49': -1.31560831832854, 'tabledata5': 1, 'tabledata50': 0.938105656808407, 'tabledata51': -0.0593866680903962, 'tabledata52': 0.154623858526586, 'tabledata53': 0.065597204148517, 'tabledata54': 0.485640987730059, 'tabledata55': -0.506013976351018, 'tabledata56': 0.33551505644089, 'tabledata57': 1.84752061763895, 'tabledata58': 5, 'tabledata59': 1.72342175353749, 'tabledata6': 7, 'tabledata60': 1.12862288349785, 'tabledata61': -0.0822922755345921, 'tabledata62': -1.23221340993961, 'tabledata63': 1.7750681936366, 'tabledata64': 5, 'tabledata65': -0.177649626233121, 'tabledata66': 0.0235382545847347, 'tabledata67': 0.0376542482512721, 'tabledata68': 0.942088412931082, 'tabledata69': 0.340653047069593, 'tabledata7': 46.1256147926974, 'tabledata70': 1, 'tabledata71': -0.10315204087286, 'tabledata72': 1, 'tabledata73': 0.21684924373108, 'tabledata74': 1, 'tabledata75': -1.01529718560211, 'tabledata8': 3.39740087523022, 'tabledata9': 1.00000000123365}}, {'type': 'Feature', 'geometry': {'type': 'MultiPoint', 'coordinates': []}, 'id': '00000000000000000004', 'properties': {'tabledata1': 0, 'tabledata10': 8.92982462667039, 'tabledata11': 7.84127539022597, 'tabledata12': 6.20069996788662, 'tabledata13': 2.74801129291028, 'tabledata14': 7, 'tabledata15': -45.1256147899233, 'tabledata16': -2.16201104311289, 'tabledata17': 6.50458575890411e-10, 'tabledata18': -0.749371439590328, 'tabledata19': -0.927585253846644, 'tabledata2': 0, 'tabledata20': -0.926912057748218, 'tabledata21': -1.09196199713366, 'tabledata22': 35, 'tabledata23': 0.0213790632884205, 'tabledata24': 0.0712994168991044, 'tabledata25': 0.0379989141998341, 'tabledata26': 0.713702064453234, 'tabledata27': -0.602908810597943, 'tabledata28': -2.72863895014761, 'tabledata29': 1.49392439341163, 'tabledata3': 5, 'tabledata30': 0.00426299231933335, 'tabledata31': -0.0569345379166199, 'tabledata32': -0.0501009127247553, 'tabledata33': -0.207351080874424, 'tabledata34': 0.51108977022385, 'tabledata35': -1.18112776234778, 'tabledata36': -1.87765357113936, 'tabledata37': 0.0372620619802657, 'tabledata38': 0.0485080431839298, 'tabledata39': 0.0450278369796163, 'tabledata4': 0, 'tabledata40': 0.288320312889056, 'tabledata41': -0.373768044547488, 'tabledata42': 1.75448182721697, 'tabledata43': 0.984358024690909, 'tabledata44': -0.501857990321258, 'tabledata45': -0.728365602541349, 'tabledata46': -0.547994924772724, 'tabledata47': -0.271848247862089, 'tabledata48': 0.653443479150442, 'tabledata49': -0.43061163218082, 'tabledata5': 1, 'tabledata50': -0.997582991124523, 'tabledata51': -0.0786033671380995, 'tabledata52': 0.338780980403856, 'tabledata53': 0.301094077121425, 'tabledata54': 0.865134901368721, 'tabledata55': 0.553708501238989, 'tabledata56': 1.36998924306485, 'tabledata57': 0.0527663593777871, 'tabledata58': 5, 'tabledata59': -1.77533948502403, 'tabledata6': 7, 'tabledata60': -1.1926727983748, 'tabledata61': 0.578440969388993, 'tabledata62': -1.10142491641684, 'tabledata63': 1.83623234874331, 'tabledata64': 5, 'tabledata65': 0.488134055757192, 'tabledata66': -0.41380683600521, 'tabledata67': -0.320161195494452, 'tabledata68': -0.00615294591795513, 'tabledata69': -0.0878693594309832, 'tabledata7': 46.1256147926974, 'tabledata70': 1, 'tabledata71': -0.461421863319463, 'tabledata72': 1, 'tabledata73': 5.85970643911884, 'tabledata74': 1, 'tabledata75': -1.00957556643949, 'tabledata8': 3.39740087523022, 'tabledata9': 1.00000000123365}}]}\n"
     ]
    }
   ],
   "source": [
    "print(ee.FeatureCollection(s2_10m_createFeatureCollection_estimates()).getInfo())\n"
   ]
  },
  {
   "cell_type": "code",
   "execution_count": 107,
   "metadata": {},
   "outputs": [],
   "source": [
    "COLLECTION_OPTIONS = {\n",
    "    # Sentinel 2 using 20 m bands:\n",
    "    'COPERNICUS/S2_SR': {\n",
    "      \"name\": 'COPERNICUS/S2_SR',\n",
    "      \"description\": 'Sentinel 2A',\n",
    "      \"Cloudcover\": 'CLOUDY_PIXEL_PERCENTAGE',\n",
    "      \"Watercover\": 'WATER_PERCENTAGE',\n",
    "      \"sza\": 'MEAN_SOLAR_ZENITH_ANGLE',\n",
    "      \"vza\": 'MEAN_INCIDENCE_ZENITH_ANGLE_B8A',\n",
    "      \"saa\": 'MEAN_SOLAR_AZIMUTH_ANGLE', \n",
    "      \"vaa\": 'MEAN_INCIDENCE_AZIMUTH_ANGLE_B8A',\n",
    "      \"VIS_OPTIONS\": 'VIS_OPTIONS',\n",
    "      \"Collection_SL2P\": ee.FeatureCollection(s2_createFeatureCollection_estimates()),\n",
    "      \"Collection_SL2Perrors\": ee.FeatureCollection(s2_createFeatureCollection_errors()),  \n",
    "      \"sl2pDomain\": ee.FeatureCollection(s2_createFeatureCollection_domains()),\n",
    "      \"Network_Ind\": ee.FeatureCollection(s2_createFeatureCollection_Network_Ind()),\n",
    "      \"partition\": ee.ImageCollection(s2_createImageCollection_partition()),\n",
    "      \"legend\": ee.FeatureCollection(s2_createFeatureCollection_legend()),\n",
    "      \"numVariables\": 7\n",
    "    },\n",
    "    # Sentinel 2 using 10 m bands:\n",
    "    'COPERNICUS/S2_SR_10m': {\n",
    "      \"name\": 'COPERNICUS/S2_SR',\n",
    "      \"description\": 'Sentinel 2A',\n",
    "      \"Cloudcover\": 'CLOUDY_PIXEL_PERCENTAGE',\n",
    "      \"Watercover\": 'WATER_PERCENTAGE',\n",
    "      \"sza\": 'MEAN_SOLAR_ZENITH_ANGLE',\n",
    "      \"vza\": 'MEAN_INCIDENCE_ZENITH_ANGLE_B8A',\n",
    "      \"saa\": 'MEAN_SOLAR_AZIMUTH_ANGLE', \n",
    "      \"vaa\": 'MEAN_INCIDENCE_AZIMUTH_ANGLE_B8A',\n",
    "      \"VIS_OPTIONS\": 'VIS_OPTIONS',\n",
    "      \"Collection_SL2P\": ee.FeatureCollection(s2_10m_createFeatureCollection_estimates()),\n",
    "      \"Collection_SL2Perrors\": ee.FeatureCollection(s2_10m_createFeatureCollection_errors()),  \n",
    "      \"sl2pDomain\": ee.FeatureCollection(s2_10m_createFeatureCollection_domains()),\n",
    "      \"Network_Ind\": ee.FeatureCollection(s2_createFeatureCollection_Network_Ind()),\n",
    "      \"partition\": ee.ImageCollection(s2_createImageCollection_partition()),\n",
    "      \"legend\": ee.FeatureCollection(s2_createFeatureCollection_legend()),\n",
    "      \"numVariables\": 7\n",
    "    },\n",
    "    'LANDSAT/LC08/C01/T1_SR': {\n",
    "      \"name\": 'LANDSAT/LC08/C01/T1_SR',\n",
    "      \"description\": 'LANDSAT 8',\n",
    "      \"Cloudcover\": 'CLOUD_COVER_LAND',\n",
    "      \"Watercover\": 'CLOUD_COVER',\n",
    "      \"sza\": 'SOLAR_ZENITH_ANGLE',\n",
    "      \"vza\": 'SOLAR_ZENITH_ANGLE',\n",
    "      \"saa\": 'SOLAR_AZIMUTH_ANGLE', \n",
    "      \"vaa\": 'SOLAR_AZIMUTH_ANGLE',\n",
    "      \"VIS_OPTIONS\": 'VIS_OPTIONS',\n",
    "      \"Collection_SL2P\": ee.FeatureCollection(l8_createFeatureCollection_estimates()),\n",
    "      \"Collection_SL2Perrors\": ee.FeatureCollection(l8_createFeatureCollection_errors()),\n",
    "      \"sl2pDomain\": ee.FeatureCollection(l8_createFeatureCollection_domains()),\n",
    "      \"Network_Ind\": ee.FeatureCollection(l8_createFeatureCollection_Network_Ind()),\n",
    "      \"partition\": ee.ImageCollection(l8_createImageCollection_partition()),\n",
    "      \"legend\": ee.FeatureCollection(l8_createFeatureCollection_legend()),\n",
    "      \"numVariables\": 7\n",
    "    }\n",
    "}\n",
    "\n",
    "VIS_OPTIONS = {\n",
    "    'Surface_Reflectance': {\n",
    "        \"COPERNICUS/S2_SR\": {\n",
    "            \"Name\": 'Surface_Reflectance',\n",
    "            \"description\": 'Surface_Reflectance',\n",
    "            \"inp\": ['B4', 'B5', 'B6', 'B7', 'B8A', 'B9', 'B11', 'B12']\n",
    "        },\n",
    "        \"COPERNICUS/S2_SR_10m\": {\n",
    "            \"Name\": 'Surface_Reflectance',\n",
    "            \"description\": 'Surface_Reflectance',\n",
    "            \"inp\": ['B2', 'B3', 'B4', 'B8']\n",
    "        }\n",
    "    },\n",
    "    'Albedo': {\n",
    "        \"COPERNICUS/S2_SR\": {\n",
    "            \"Name\": 'Albedo',\n",
    "            \"errorName\": 'errorAlbedo',\n",
    "            \"maskName\": 'maskAlbedo',\n",
    "            \"description\": 'Black sky albedo',\n",
    "            \"variable\": 6,\n",
    "            \"inputBands\":      ['cosVZA', 'cosSZA', 'cosRAA', 'B3', 'B4', 'B5', 'B6', 'B7', 'B8A', 'B11', 'B12'],\n",
    "            \"inputScaling\":    [0.0001, 0.0001, 0.0001, 0.0001, 0.0001, 0.0001, 0.0001, 0.0001, 0.0001, 0.0001, 0.0001],\n",
    "            \"outmin\": (ee.Image(ee.Array([[0]]))),\n",
    "            \"outmax\": (ee.Image(ee.Array([[1]])))\n",
    "        },\n",
    "        \"COPERNICUS/S2_SR_10m\": {\n",
    "            \"Name\": 'Albedo',\n",
    "            \"errorName\": 'errorAlbedo',\n",
    "            \"maskName\": 'maskAlbedo',\n",
    "            \"description\": 'Black sky albedo',\n",
    "            \"variable\": 6,\n",
    "            \"inputBands\":      ['cosVZA', 'cosSZA', 'cosRAA', 'B2', 'B3', 'B4', 'B8'],\n",
    "            \"inputScaling\":    [0.0001, 0.0001, 0.0001, 0.0001, 0.0001, 0.0001, 0.0001],\n",
    "            \"outmin\": (ee.Image(ee.Array([[0]]))),\n",
    "            \"outmax\": (ee.Image(ee.Array([[1]])))\n",
    "        }\n",
    "    },\n",
    "    'fAPAR': {\n",
    "        \"COPERNICUS/S2_SR\": {\n",
    "            \"Name\": 'fAPAR',\n",
    "            \"errorName\": 'errorfAPAR',\n",
    "            \"maskName\": 'maskfAPAR',\n",
    "            \"description\": 'Fraction of absorbed photosynthetically active radiation',\n",
    "            \"variable\": 2,\n",
    "            \"inputBands\":      ['cosVZA', 'cosSZA', 'cosRAA', 'B3', 'B4', 'B5', 'B6', 'B7', 'B8A', 'B11', 'B12'],\n",
    "            \"inputScaling\":    [0.0001, 0.0001, 0.0001, 0.0001, 0.0001, 0.0001, 0.0001, 0.0001, 0.0001, 0.0001, 0.0001],\n",
    "            \"outmin\": (ee.Image(ee.Array([[0]]))),\n",
    "            \"outmax\": (ee.Image(ee.Array([[1]])))\n",
    "        },\n",
    "        \"COPERNICUS/S2_SR_10m\": {\n",
    "            \"Name\": 'fAPAR',\n",
    "            \"errorName\": 'errorfAPAR',\n",
    "            \"maskName\": 'maskfAPAR',\n",
    "            \"description\": 'Fraction of absorbed photosynthetically active radiation',\n",
    "            \"variable\": 2,\n",
    "            \"inputBands\":      ['cosVZA', 'cosSZA', 'cosRAA', 'B2', 'B3', 'B4', 'B8'],\n",
    "            \"inputScaling\":    [0.0001, 0.0001, 0.0001, 0.0001, 0.0001, 0.0001, 0.0001],\n",
    "            \"outmin\": (ee.Image(ee.Array([[0]]))),\n",
    "            \"outmax\": (ee.Image(ee.Array([[1]])))\n",
    "        }\n",
    "    },\n",
    "    'fCOVER': {\n",
    "        \"COPERNICUS/S2_SR\": {\n",
    "            \"Name\": 'fCOVER',\n",
    "            \"errorName\": 'errorfCOVER',\n",
    "            \"maskName\": 'maskfCOVER',\n",
    "            \"description\": 'Fraction of canopy cover',\n",
    "            \"variable\": 3,\n",
    "            \"inputBands\":      ['cosVZA', 'cosSZA', 'cosRAA', 'B3', 'B4', 'B5', 'B6', 'B7', 'B8A', 'B11', 'B12'],\n",
    "            \"inputScaling\":    [0.0001, 0.0001, 0.0001, 0.0001, 0.0001, 0.0001, 0.0001, 0.0001, 0.0001, 0.0001, 0.0001],\n",
    "            \"outmin\": (ee.Image(ee.Array([[0]]))),\n",
    "            \"outmax\": (ee.Image(ee.Array([[1]]))) \n",
    "        },\n",
    "        \"COPERNICUS/S2_SR_10m\": {\n",
    "            \"Name\": 'fCOVER',\n",
    "            \"errorName\": 'errorfCOVER',\n",
    "            \"maskName\": 'maskfCOVER',\n",
    "            \"description\": 'Fraction of canopy cover',\n",
    "            \"variable\": 3,\n",
    "            \"inputBands\":      ['cosVZA', 'cosSZA', 'cosRAA', 'B2', 'B3', 'B4', 'B8'],\n",
    "            \"inputScaling\":    [0.0001, 0.0001, 0.0001, 0.0001, 0.0001, 0.0001, 0.0001],\n",
    "            \"outmin\": (ee.Image(ee.Array([[0]]))),\n",
    "            \"outmax\": (ee.Image(ee.Array([[1]]))) \n",
    "        }\n",
    "    },\n",
    "    'LAI': {\n",
    "        \"COPERNICUS/S2_SR\": {\n",
    "            \"Name\": 'LAI',\n",
    "            \"errorName\": 'errorLAI',\n",
    "            \"maskName\": 'maskLAI',\n",
    "            \"description\": 'Leaf area index',\n",
    "            \"variable\": 1,\n",
    "            \"inputBands\":      ['cosVZA', 'cosSZA', 'cosRAA', 'B3', 'B4', 'B5', 'B6', 'B7', 'B8A', 'B11', 'B12'],\n",
    "            \"inputScaling\":    [0.0001, 0.0001, 0.0001, 0.0001, 0.0001, 0.0001, 0.0001, 0.0001, 0.0001, 0.0001, 0.0001],\n",
    "            \"outmin\": (ee.Image(ee.Array([[0]]))),\n",
    "            \"outmax\": (ee.Image(ee.Array([[1]])))\n",
    "        },\n",
    "        \"COPERNICUS/S2_SR_10m\": {\n",
    "            \"Name\": 'LAI',\n",
    "            \"errorName\": 'errorLAI',\n",
    "            \"maskName\": 'maskLAI',\n",
    "            \"description\": 'Leaf area index',\n",
    "            \"variable\": 1,\n",
    "            \"inputBands\":      ['cosVZA', 'cosSZA', 'cosRAA', 'B2', 'B3', 'B4', 'B8'],\n",
    "            \"inputScaling\":    [0.0001, 0.0001, 0.0001, 0.0001, 0.0001, 0.0001, 0.0001],\n",
    "            \"outmin\": (ee.Image(ee.Array([[0]]))),\n",
    "            \"outmax\": (ee.Image(ee.Array([[1]])))\n",
    "        }\n",
    "    },\n",
    "    'CCC': {\n",
    "        \"COPERNICUS/S2_SR\": {\n",
    "            \"Name\": 'CCC',\n",
    "            \"errorName\": 'errorCCC',\n",
    "            \"maskName\": 'maskCCC',\n",
    "            \"description\": 'Canopy chlorophyll content',\n",
    "            \"variable\": 1,\n",
    "            \"inputBands\":      ['cosVZA', 'cosSZA', 'cosRAA', 'B3', 'B4', 'B5', 'B6', 'B7', 'B8A', 'B11', 'B12'],\n",
    "            \"inputScaling\":    [0.0001, 0.0001, 0.0001, 0.0001, 0.0001, 0.0001, 0.0001, 0.0001, 0.0001, 0.0001, 0.0001],\n",
    "            \"outmin\": (ee.Image(ee.Array([[0]]))),\n",
    "            \"outmax\": (ee.Image(ee.Array([[1000]])))\n",
    "        },\n",
    "        \"COPERNICUS/S2_SR_10m\": {\n",
    "            \"Name\": 'CCC',\n",
    "            \"errorName\": 'errorCCC',\n",
    "            \"maskName\": 'maskCCC',\n",
    "            \"description\": 'Canopy chlorophyll content',\n",
    "            \"variable\": 1,\n",
    "            \"inputBands\":      ['cosVZA', 'cosSZA', 'cosRAA', 'B2', 'B3', 'B4', 'B8'],\n",
    "            \"inputScaling\":    [0.0001, 0.0001, 0.0001, 0.0001, 0.0001, 0.0001, 0.0001],\n",
    "            \"outmin\": (ee.Image(ee.Array([[0]]))),\n",
    "            \"outmax\": (ee.Image(ee.Array([[1000]])))\n",
    "        }\n",
    "    },\n",
    "    'CWC': {\n",
    "        \"COPERNICUS/S2_SR\": {\n",
    "            \"Name\": 'CWC',\n",
    "            \"errorName\": 'errorCWC',\n",
    "            \"maskName\": 'maskCWC',\n",
    "            \"description\": 'Canopy water content',\n",
    "            \"variable\": 1,\n",
    "            \"inputBands\":      ['cosVZA', 'cosSZA', 'cosRAA', 'B3', 'B4', 'B5', 'B6', 'B7', 'B8A', 'B11', 'B12'],\n",
    "            \"inputScaling\":    [0.0001, 0.0001, 0.0001, 0.0001, 0.0001, 0.0001, 0.0001, 0.0001, 0.0001, 0.0001, 0.0001],\n",
    "            \"outmin\": (ee.Image(ee.Array([[0]]))),\n",
    "            \"outmax\": (ee.Image(ee.Array([[100]])))\n",
    "        },\n",
    "        \"COPERNICUS/S2_SR_10m\": {\n",
    "            \"Name\": 'CWC',\n",
    "            \"errorName\": 'errorCWC',\n",
    "            \"maskName\": 'maskCWC',\n",
    "            \"description\": 'Canopy water content',\n",
    "            \"variable\": 1,\n",
    "            \"inputBands\":      ['cosVZA', 'cosSZA', 'cosRAA', 'B2', 'B3', 'B4', 'B8'],\n",
    "            \"inputScaling\":    [0.0001, 0.0001, 0.0001, 0.0001, 0.0001, 0.0001, 0.0001],\n",
    "            \"outmin\": (ee.Image(ee.Array([[0]]))),\n",
    "            \"outmax\": (ee.Image(ee.Array([[100]])))\n",
    "        }\n",
    "    },\n",
    "    'DASF': {\n",
    "        \"COPERNICUS/S2_SR\": {\n",
    "            \"Name\": 'DASF',\n",
    "            \"errorName\": 'errorDASF',\n",
    "            \"maskName\": 'maskDASF',\n",
    "            \"description\": 'Directional area scattering factor',\n",
    "            \"variable\": 1,\n",
    "            \"inputBands\":      ['cosVZA', 'cosSZA', 'cosRAA', 'B3', 'B4', 'B5', 'B6', 'B7', 'B8A', 'B11', 'B12'],\n",
    "            \"inputScaling\":    [0.0001, 0.0001, 0.0001, 0.0001, 0.0001, 0.0001, 0.0001, 0.0001, 0.0001, 0.0001, 0.0001],\n",
    "            \"outmin\": (ee.Image(ee.Array([[0]]))),\n",
    "            \"outmax\": (ee.Image(ee.Array([[1]])))\n",
    "        },\n",
    "        \"COPERNICUS/S2_SR_10m\": {\n",
    "            \"Name\": 'DASF',\n",
    "            \"errorName\": 'errorDASF',\n",
    "            \"maskName\": 'maskDASF',\n",
    "            \"description\": 'Directional area scattering factor',\n",
    "            \"variable\": 1,\n",
    "            \"inputBands\":      ['cosVZA', 'cosSZA', 'cosRAA', 'B2', 'B3', 'B4', 'B8'],\n",
    "            \"inputScaling\":    [0.0001, 0.0001, 0.0001, 0.0001, 0.0001, 0.0001, 0.0001],\n",
    "            \"outmin\": (ee.Image(ee.Array([[0]]))),\n",
    "            \"outmax\": (ee.Image(ee.Array([[1]])))\n",
    "        }\n",
    "    }\n",
    "}"
   ]
  },
  {
   "cell_type": "code",
   "execution_count": 164,
   "metadata": {
    "tags": []
   },
   "outputs": [],
   "source": [
    "# parse the networks\n",
    "colName = 'COPERNICUS/S2_SR_10m'\n",
    "colOptions = COLLECTION_OPTIONS[colName]\n",
    "netOptions = VIS_OPTIONS[outputName][colName]\n",
    "numNets = ee.Number(ee.Feature((COLLECTION_OPTIONS[colName][\"Network_Ind\"]).first()).propertyNames().remove('Feature Index').remove('system:index').remove('lon').size())\n",
    "SL2P = ee.List.sequence(1,ee.Number(COLLECTION_OPTIONS[colName][\"numVariables\"]),1).map(lambda netNum: makeNetVars(COLLECTION_OPTIONS[colName][\"Collection_SL2P\"],numNets,netNum));\n",
    "errorsSL2P = ee.List.sequence(1,ee.Number(COLLECTION_OPTIONS[colName][\"numVariables\"]),1).map(lambda netNum: makeNetVars(COLLECTION_OPTIONS[colName][\"Collection_SL2Perrors\"],numNets,netNum));"
   ]
  },
  {
   "cell_type": "code",
   "execution_count": 166,
   "metadata": {},
   "outputs": [
    {
     "name": "stdout",
     "output_type": "stream",
     "text": [
      "5\n"
     ]
    },
    {
     "ename": "EEException",
     "evalue": "Collection.toList: Error in map(ID=20200801T155911_20200801T160644_T18TVS):\nImage.remap: List of values to remap must not be empty.",
     "output_type": "error",
     "traceback": [
      "\u001b[0;31m---------------------------------------------------------------------------\u001b[0m",
      "\u001b[0;31mHttpError\u001b[0m                                 Traceback (most recent call last)",
      "\u001b[0;32m~/opt/anaconda3/envs/leaf-toolbox/lib/python3.9/site-packages/ee/data.py\u001b[0m in \u001b[0;36m_execute_cloud_call\u001b[0;34m(call, num_retries)\u001b[0m\n\u001b[1;32m    333\u001b[0m   \u001b[0;32mtry\u001b[0m\u001b[0;34m:\u001b[0m\u001b[0;34m\u001b[0m\u001b[0;34m\u001b[0m\u001b[0m\n\u001b[0;32m--> 334\u001b[0;31m     \u001b[0;32mreturn\u001b[0m \u001b[0mcall\u001b[0m\u001b[0;34m.\u001b[0m\u001b[0mexecute\u001b[0m\u001b[0;34m(\u001b[0m\u001b[0mnum_retries\u001b[0m\u001b[0;34m=\u001b[0m\u001b[0mnum_retries\u001b[0m\u001b[0;34m)\u001b[0m\u001b[0;34m\u001b[0m\u001b[0;34m\u001b[0m\u001b[0m\n\u001b[0m\u001b[1;32m    335\u001b[0m   \u001b[0;32mexcept\u001b[0m \u001b[0mgoogleapiclient\u001b[0m\u001b[0;34m.\u001b[0m\u001b[0merrors\u001b[0m\u001b[0;34m.\u001b[0m\u001b[0mHttpError\u001b[0m \u001b[0;32mas\u001b[0m \u001b[0me\u001b[0m\u001b[0;34m:\u001b[0m\u001b[0;34m\u001b[0m\u001b[0;34m\u001b[0m\u001b[0m\n",
      "\u001b[0;32m~/opt/anaconda3/envs/leaf-toolbox/lib/python3.9/site-packages/googleapiclient/_helpers.py\u001b[0m in \u001b[0;36mpositional_wrapper\u001b[0;34m(*args, **kwargs)\u001b[0m\n\u001b[1;32m    133\u001b[0m                     \u001b[0mlogger\u001b[0m\u001b[0;34m.\u001b[0m\u001b[0mwarning\u001b[0m\u001b[0;34m(\u001b[0m\u001b[0mmessage\u001b[0m\u001b[0;34m)\u001b[0m\u001b[0;34m\u001b[0m\u001b[0;34m\u001b[0m\u001b[0m\n\u001b[0;32m--> 134\u001b[0;31m             \u001b[0;32mreturn\u001b[0m \u001b[0mwrapped\u001b[0m\u001b[0;34m(\u001b[0m\u001b[0;34m*\u001b[0m\u001b[0margs\u001b[0m\u001b[0;34m,\u001b[0m \u001b[0;34m**\u001b[0m\u001b[0mkwargs\u001b[0m\u001b[0;34m)\u001b[0m\u001b[0;34m\u001b[0m\u001b[0;34m\u001b[0m\u001b[0m\n\u001b[0m\u001b[1;32m    135\u001b[0m \u001b[0;34m\u001b[0m\u001b[0m\n",
      "\u001b[0;32m~/opt/anaconda3/envs/leaf-toolbox/lib/python3.9/site-packages/googleapiclient/http.py\u001b[0m in \u001b[0;36mexecute\u001b[0;34m(self, http, num_retries)\u001b[0m\n\u001b[1;32m    914\u001b[0m         \u001b[0;32mif\u001b[0m \u001b[0mresp\u001b[0m\u001b[0;34m.\u001b[0m\u001b[0mstatus\u001b[0m \u001b[0;34m>=\u001b[0m \u001b[0;36m300\u001b[0m\u001b[0;34m:\u001b[0m\u001b[0;34m\u001b[0m\u001b[0;34m\u001b[0m\u001b[0m\n\u001b[0;32m--> 915\u001b[0;31m             \u001b[0;32mraise\u001b[0m \u001b[0mHttpError\u001b[0m\u001b[0;34m(\u001b[0m\u001b[0mresp\u001b[0m\u001b[0;34m,\u001b[0m \u001b[0mcontent\u001b[0m\u001b[0;34m,\u001b[0m \u001b[0muri\u001b[0m\u001b[0;34m=\u001b[0m\u001b[0mself\u001b[0m\u001b[0;34m.\u001b[0m\u001b[0muri\u001b[0m\u001b[0;34m)\u001b[0m\u001b[0;34m\u001b[0m\u001b[0;34m\u001b[0m\u001b[0m\n\u001b[0m\u001b[1;32m    916\u001b[0m         \u001b[0;32mreturn\u001b[0m \u001b[0mself\u001b[0m\u001b[0;34m.\u001b[0m\u001b[0mpostproc\u001b[0m\u001b[0;34m(\u001b[0m\u001b[0mresp\u001b[0m\u001b[0;34m,\u001b[0m \u001b[0mcontent\u001b[0m\u001b[0;34m)\u001b[0m\u001b[0;34m\u001b[0m\u001b[0;34m\u001b[0m\u001b[0m\n",
      "\u001b[0;31mHttpError\u001b[0m: <HttpError 400 when requesting https://earthengine.googleapis.com/v1alpha/projects/earthengine-legacy/value:compute?prettyPrint=false&alt=json returned \"Collection.toList: Error in map(ID=20200801T155911_20200801T160644_T18TVS):\nImage.remap: List of values to remap must not be empty.\". Details: \"Collection.toList: Error in map(ID=20200801T155911_20200801T160644_T18TVS):\nImage.remap: List of values to remap must not be empty.\">",
      "\nDuring handling of the above exception, another exception occurred:\n",
      "\u001b[0;31mEEException\u001b[0m                               Traceback (most recent call last)",
      "\u001b[0;32m/var/folders/rx/5_fd7v5s5dbc3yr3cx7bw9m40000gn/T/ipykernel_1810/96712877.py\u001b[0m in \u001b[0;36m<module>\u001b[0;34m\u001b[0m\n\u001b[1;32m     36\u001b[0m     \u001b[0mexport_collection\u001b[0m \u001b[0;34m=\u001b[0m \u001b[0minput_collection\u001b[0m\u001b[0;34m.\u001b[0m\u001b[0mselect\u001b[0m\u001b[0;34m(\u001b[0m\u001b[0;34m[\u001b[0m\u001b[0;34m'date'\u001b[0m\u001b[0;34m,\u001b[0m\u001b[0;34m'QC'\u001b[0m\u001b[0;34m]\u001b[0m\u001b[0;34m)\u001b[0m\u001b[0;34m.\u001b[0m\u001b[0mcombine\u001b[0m\u001b[0;34m(\u001b[0m\u001b[0mestimateSL2P\u001b[0m\u001b[0;34m)\u001b[0m\u001b[0;34m.\u001b[0m\u001b[0mcombine\u001b[0m\u001b[0;34m(\u001b[0m\u001b[0muncertaintySL2P\u001b[0m\u001b[0;34m)\u001b[0m\u001b[0;34m\u001b[0m\u001b[0;34m\u001b[0m\u001b[0m\n\u001b[1;32m     37\u001b[0m \u001b[0;34m\u001b[0m\u001b[0m\n\u001b[0;32m---> 38\u001b[0;31m \u001b[0mimage_output_names\u001b[0m \u001b[0;34m=\u001b[0m \u001b[0;34m(\u001b[0m\u001b[0;34m[\u001b[0m\u001b[0mname\u001b[0m\u001b[0;34m+\u001b[0m\u001b[0;34m\"_\"\u001b[0m\u001b[0;34m+\u001b[0m\u001b[0moutputName\u001b[0m \u001b[0;32mfor\u001b[0m \u001b[0mname\u001b[0m \u001b[0;32min\u001b[0m \u001b[0mexport_collection\u001b[0m\u001b[0;34m.\u001b[0m\u001b[0mtoList\u001b[0m\u001b[0;34m(\u001b[0m\u001b[0mexport_collection\u001b[0m\u001b[0;34m.\u001b[0m\u001b[0msize\u001b[0m\u001b[0;34m(\u001b[0m\u001b[0;34m)\u001b[0m\u001b[0;34m)\u001b[0m\u001b[0;34m.\u001b[0m\u001b[0mmap\u001b[0m\u001b[0;34m(\u001b[0m\u001b[0;32mlambda\u001b[0m \u001b[0mimage\u001b[0m\u001b[0;34m:\u001b[0m \u001b[0mee\u001b[0m\u001b[0;34m.\u001b[0m\u001b[0mImage\u001b[0m\u001b[0;34m(\u001b[0m\u001b[0mimage\u001b[0m\u001b[0;34m)\u001b[0m\u001b[0;34m.\u001b[0m\u001b[0mid\u001b[0m\u001b[0;34m(\u001b[0m\u001b[0;34m)\u001b[0m\u001b[0;34m)\u001b[0m\u001b[0;34m.\u001b[0m\u001b[0mgetInfo\u001b[0m\u001b[0;34m(\u001b[0m\u001b[0;34m)\u001b[0m\u001b[0;34m]\u001b[0m\u001b[0;34m)\u001b[0m\u001b[0;34m\u001b[0m\u001b[0;34m\u001b[0m\u001b[0m\n\u001b[0m\u001b[1;32m     39\u001b[0m \u001b[0;34m\u001b[0m\u001b[0m\n\u001b[1;32m     40\u001b[0m \u001b[0;34m\u001b[0m\u001b[0m\n",
      "\u001b[0;32m~/opt/anaconda3/envs/leaf-toolbox/lib/python3.9/site-packages/ee/computedobject.py\u001b[0m in \u001b[0;36mgetInfo\u001b[0;34m(self)\u001b[0m\n\u001b[1;32m     96\u001b[0m       \u001b[0mThe\u001b[0m \u001b[0mobject\u001b[0m \u001b[0mcan\u001b[0m \u001b[0mevaluate\u001b[0m \u001b[0mto\u001b[0m \u001b[0manything\u001b[0m\u001b[0;34m.\u001b[0m\u001b[0;34m\u001b[0m\u001b[0;34m\u001b[0m\u001b[0m\n\u001b[1;32m     97\u001b[0m     \"\"\"\n\u001b[0;32m---> 98\u001b[0;31m     \u001b[0;32mreturn\u001b[0m \u001b[0mdata\u001b[0m\u001b[0;34m.\u001b[0m\u001b[0mcomputeValue\u001b[0m\u001b[0;34m(\u001b[0m\u001b[0mself\u001b[0m\u001b[0;34m)\u001b[0m\u001b[0;34m\u001b[0m\u001b[0;34m\u001b[0m\u001b[0m\n\u001b[0m\u001b[1;32m     99\u001b[0m \u001b[0;34m\u001b[0m\u001b[0m\n\u001b[1;32m    100\u001b[0m   \u001b[0;32mdef\u001b[0m \u001b[0mencode\u001b[0m\u001b[0;34m(\u001b[0m\u001b[0mself\u001b[0m\u001b[0;34m,\u001b[0m \u001b[0mencoder\u001b[0m\u001b[0;34m)\u001b[0m\u001b[0;34m:\u001b[0m\u001b[0;34m\u001b[0m\u001b[0;34m\u001b[0m\u001b[0m\n",
      "\u001b[0;32m~/opt/anaconda3/envs/leaf-toolbox/lib/python3.9/site-packages/ee/data.py\u001b[0m in \u001b[0;36mcomputeValue\u001b[0;34m(obj)\u001b[0m\n\u001b[1;32m    670\u001b[0m     \u001b[0mThe\u001b[0m \u001b[0mresult\u001b[0m \u001b[0mof\u001b[0m \u001b[0mevaluating\u001b[0m \u001b[0mthat\u001b[0m \u001b[0mobject\u001b[0m \u001b[0mon\u001b[0m \u001b[0mthe\u001b[0m \u001b[0mserver\u001b[0m\u001b[0;34m.\u001b[0m\u001b[0;34m\u001b[0m\u001b[0;34m\u001b[0m\u001b[0m\n\u001b[1;32m    671\u001b[0m   \"\"\"\n\u001b[0;32m--> 672\u001b[0;31m   return _execute_cloud_call(\n\u001b[0m\u001b[1;32m    673\u001b[0m       _get_cloud_api_resource().projects().value().compute(\n\u001b[1;32m    674\u001b[0m           \u001b[0mbody\u001b[0m\u001b[0;34m=\u001b[0m\u001b[0;34m{\u001b[0m\u001b[0;34m'expression'\u001b[0m\u001b[0;34m:\u001b[0m \u001b[0mserializer\u001b[0m\u001b[0;34m.\u001b[0m\u001b[0mencode\u001b[0m\u001b[0;34m(\u001b[0m\u001b[0mobj\u001b[0m\u001b[0;34m,\u001b[0m \u001b[0mfor_cloud_api\u001b[0m\u001b[0;34m=\u001b[0m\u001b[0;32mTrue\u001b[0m\u001b[0;34m)\u001b[0m\u001b[0;34m}\u001b[0m\u001b[0;34m,\u001b[0m\u001b[0;34m\u001b[0m\u001b[0;34m\u001b[0m\u001b[0m\n",
      "\u001b[0;32m~/opt/anaconda3/envs/leaf-toolbox/lib/python3.9/site-packages/ee/data.py\u001b[0m in \u001b[0;36m_execute_cloud_call\u001b[0;34m(call, num_retries)\u001b[0m\n\u001b[1;32m    334\u001b[0m     \u001b[0;32mreturn\u001b[0m \u001b[0mcall\u001b[0m\u001b[0;34m.\u001b[0m\u001b[0mexecute\u001b[0m\u001b[0;34m(\u001b[0m\u001b[0mnum_retries\u001b[0m\u001b[0;34m=\u001b[0m\u001b[0mnum_retries\u001b[0m\u001b[0;34m)\u001b[0m\u001b[0;34m\u001b[0m\u001b[0;34m\u001b[0m\u001b[0m\n\u001b[1;32m    335\u001b[0m   \u001b[0;32mexcept\u001b[0m \u001b[0mgoogleapiclient\u001b[0m\u001b[0;34m.\u001b[0m\u001b[0merrors\u001b[0m\u001b[0;34m.\u001b[0m\u001b[0mHttpError\u001b[0m \u001b[0;32mas\u001b[0m \u001b[0me\u001b[0m\u001b[0;34m:\u001b[0m\u001b[0;34m\u001b[0m\u001b[0;34m\u001b[0m\u001b[0m\n\u001b[0;32m--> 336\u001b[0;31m     \u001b[0;32mraise\u001b[0m \u001b[0m_translate_cloud_exception\u001b[0m\u001b[0;34m(\u001b[0m\u001b[0me\u001b[0m\u001b[0;34m)\u001b[0m\u001b[0;34m\u001b[0m\u001b[0;34m\u001b[0m\u001b[0m\n\u001b[0m\u001b[1;32m    337\u001b[0m \u001b[0;34m\u001b[0m\u001b[0m\n\u001b[1;32m    338\u001b[0m \u001b[0;34m\u001b[0m\u001b[0m\n",
      "\u001b[0;31mEEException\u001b[0m: Collection.toList: Error in map(ID=20200801T155911_20200801T160644_T18TVS):\nImage.remap: List of values to remap must not be empty."
     ]
    }
   ],
   "source": [
    "# make products and export\n",
    "# SL2P original\n",
    "\n",
    "# filter collection and add ancillary bands\n",
    "input_collection = ee.ImageCollection(COLLECTION_OPTIONS[colName][\"name\"]) \\\n",
    "                     .filterBounds(mapBounds) \\\n",
    "                     .filterDate(startDate, endDate) \\\n",
    "                     .filterMetadata(colOptions[\"Cloudcover\"],'less_than',maxCloudcover) \\\n",
    "                     .limit(5000) \\\n",
    "                     .map(lambda image: addDate(image)) \\\n",
    "                     .map(lambda image: image.clip(mapBounds)) \\\n",
    "                     .map(lambda image: s2MaskClear(image)) \\\n",
    "                     .map(lambda image: addS2Geometry(colOptions, image))\n",
    "print(input_collection.size().getInfo())\n",
    "\n",
    "if outputName == \"Surface_Reflectance\":\n",
    "    export_collection = input_collection;\n",
    "else:\n",
    "    # get partition used to select network\n",
    "    partition = (COLLECTION_OPTIONS[colName][\"partition\"]).filterBounds(mapBounds).mosaic().clip(mapBounds).rename('partition');\n",
    "    \n",
    "    # pre process input imagery and flag invalid inputs\n",
    "    input_collection = input_collection.map(lambda image: s2MaskLand(image)) \\\n",
    "                                       .map(lambda image: scaleBands(netOptions[\"inputBands\"],netOptions[\"inputScaling\"],image)) \\\n",
    "                                       .map(lambda image: invalidInput(COLLECTION_OPTIONS[colName][\"sl2pDomain\"],netOptions[\"inputBands\"],image))\n",
    "    \n",
    "    # apply networks to produce mapped parameters\n",
    "    estimateSL2P = input_collection.map(lambda image: wrapperNNets(SL2P, partition, netOptions, COLLECTION_OPTIONS[colName], \"estimate\", image))\n",
    "    uncertaintySL2P = input_collection.map(lambda image: wrapperNNets(errorsSL2P, partition, netOptions, COLLECTION_OPTIONS[colName], \"error\", image))\n",
    "    \n",
    "    # scale and offset mapped parameter bands\n",
    "    estimateSL2P = estimateSL2P.map(lambda image: image.addBands(image.select(\"estimate\"+outputName).multiply(ee.Image.constant(outputScale)).add(ee.Image.constant(outputOffset)),overwrite = True));\n",
    "    uncertaintySL2P = uncertaintySL2P.map(lambda image: image.addBands(image.select(\"error\"+outputName).multiply(ee.Image.constant(outputScale)).add(ee.Image.constant(outputOffset)),overwrite = True));\n",
    "    \n",
    "    # produce final export collection\n",
    "    export_collection = input_collection.select(['date','QC']).combine(estimateSL2P).combine(uncertaintySL2P)\n",
    "    \n",
    "image_output_names = ([name+\"_\"+outputName for name in export_collection.toList(export_collection.size()).map(lambda image: ee.Image(image).id()).getInfo()])\n",
    "\n",
    "\n",
    "# generates a 20 m resolution output map\n",
    "displayImage(export_collection.mosaic().select('estimateLAI'),0+outputOffset,10*outputScale+outputOffset)"
   ]
  },
  {
   "cell_type": "code",
   "execution_count": 168,
   "metadata": {},
   "outputs": [
    {
     "name": "stdout",
     "output_type": "stream",
     "text": [
      "5\n",
      "{'Name': 'LAI', 'errorName': 'errorLAI', 'maskName': 'maskLAI', 'description': 'Leaf area index', 'variable': 1, 'inputBands': ['cosVZA', 'cosSZA', 'cosRAA', 'B2', 'B3', 'B4', 'B8'], 'inputScaling': [0.0001, 0.0001, 0.0001, 0.0001, 0.0001, 0.0001, 0.0001], 'outmin': <ee.image.Image object at 0x144ffa0d0>, 'outmax': <ee.image.Image object at 0x144ffcf70>}\n",
      "{'name': 'COPERNICUS/S2_SR', 'description': 'Sentinel 2A', 'Cloudcover': 'CLOUDY_PIXEL_PERCENTAGE', 'Watercover': 'WATER_PERCENTAGE', 'sza': 'MEAN_SOLAR_ZENITH_ANGLE', 'vza': 'MEAN_INCIDENCE_ZENITH_ANGLE_B8A', 'saa': 'MEAN_SOLAR_AZIMUTH_ANGLE', 'vaa': 'MEAN_INCIDENCE_AZIMUTH_ANGLE_B8A', 'VIS_OPTIONS': 'VIS_OPTIONS', 'Collection_SL2P': <ee.featurecollection.FeatureCollection object at 0x14003a820>, 'Collection_SL2Perrors': <ee.featurecollection.FeatureCollection object at 0x144fea8e0>, 'sl2pDomain': <ee.featurecollection.FeatureCollection object at 0x144fea9d0>, 'Network_Ind': <ee.featurecollection.FeatureCollection object at 0x144feaa00>, 'partition': <ee.imagecollection.ImageCollection object at 0x144feafd0>, 'legend': <ee.featurecollection.FeatureCollection object at 0x144feac70>, 'numVariables': 7}\n"
     ]
    },
    {
     "ename": "EEException",
     "evalue": "Error in map(ID=20200801T155911_20200801T160644_T18TVQ):\nImage.remap: List of values to remap must not be empty.",
     "output_type": "error",
     "traceback": [
      "\u001b[0;31m---------------------------------------------------------------------------\u001b[0m",
      "\u001b[0;31mHttpError\u001b[0m                                 Traceback (most recent call last)",
      "\u001b[0;32m~/opt/anaconda3/envs/leaf-toolbox/lib/python3.9/site-packages/ee/data.py\u001b[0m in \u001b[0;36m_execute_cloud_call\u001b[0;34m(call, num_retries)\u001b[0m\n\u001b[1;32m    333\u001b[0m   \u001b[0;32mtry\u001b[0m\u001b[0;34m:\u001b[0m\u001b[0;34m\u001b[0m\u001b[0;34m\u001b[0m\u001b[0m\n\u001b[0;32m--> 334\u001b[0;31m     \u001b[0;32mreturn\u001b[0m \u001b[0mcall\u001b[0m\u001b[0;34m.\u001b[0m\u001b[0mexecute\u001b[0m\u001b[0;34m(\u001b[0m\u001b[0mnum_retries\u001b[0m\u001b[0;34m=\u001b[0m\u001b[0mnum_retries\u001b[0m\u001b[0;34m)\u001b[0m\u001b[0;34m\u001b[0m\u001b[0;34m\u001b[0m\u001b[0m\n\u001b[0m\u001b[1;32m    335\u001b[0m   \u001b[0;32mexcept\u001b[0m \u001b[0mgoogleapiclient\u001b[0m\u001b[0;34m.\u001b[0m\u001b[0merrors\u001b[0m\u001b[0;34m.\u001b[0m\u001b[0mHttpError\u001b[0m \u001b[0;32mas\u001b[0m \u001b[0me\u001b[0m\u001b[0;34m:\u001b[0m\u001b[0;34m\u001b[0m\u001b[0;34m\u001b[0m\u001b[0m\n",
      "\u001b[0;32m~/opt/anaconda3/envs/leaf-toolbox/lib/python3.9/site-packages/googleapiclient/_helpers.py\u001b[0m in \u001b[0;36mpositional_wrapper\u001b[0;34m(*args, **kwargs)\u001b[0m\n\u001b[1;32m    133\u001b[0m                     \u001b[0mlogger\u001b[0m\u001b[0;34m.\u001b[0m\u001b[0mwarning\u001b[0m\u001b[0;34m(\u001b[0m\u001b[0mmessage\u001b[0m\u001b[0;34m)\u001b[0m\u001b[0;34m\u001b[0m\u001b[0;34m\u001b[0m\u001b[0m\n\u001b[0;32m--> 134\u001b[0;31m             \u001b[0;32mreturn\u001b[0m \u001b[0mwrapped\u001b[0m\u001b[0;34m(\u001b[0m\u001b[0;34m*\u001b[0m\u001b[0margs\u001b[0m\u001b[0;34m,\u001b[0m \u001b[0;34m**\u001b[0m\u001b[0mkwargs\u001b[0m\u001b[0;34m)\u001b[0m\u001b[0;34m\u001b[0m\u001b[0;34m\u001b[0m\u001b[0m\n\u001b[0m\u001b[1;32m    135\u001b[0m \u001b[0;34m\u001b[0m\u001b[0m\n",
      "\u001b[0;32m~/opt/anaconda3/envs/leaf-toolbox/lib/python3.9/site-packages/googleapiclient/http.py\u001b[0m in \u001b[0;36mexecute\u001b[0;34m(self, http, num_retries)\u001b[0m\n\u001b[1;32m    914\u001b[0m         \u001b[0;32mif\u001b[0m \u001b[0mresp\u001b[0m\u001b[0;34m.\u001b[0m\u001b[0mstatus\u001b[0m \u001b[0;34m>=\u001b[0m \u001b[0;36m300\u001b[0m\u001b[0;34m:\u001b[0m\u001b[0;34m\u001b[0m\u001b[0;34m\u001b[0m\u001b[0m\n\u001b[0;32m--> 915\u001b[0;31m             \u001b[0;32mraise\u001b[0m \u001b[0mHttpError\u001b[0m\u001b[0;34m(\u001b[0m\u001b[0mresp\u001b[0m\u001b[0;34m,\u001b[0m \u001b[0mcontent\u001b[0m\u001b[0;34m,\u001b[0m \u001b[0muri\u001b[0m\u001b[0;34m=\u001b[0m\u001b[0mself\u001b[0m\u001b[0;34m.\u001b[0m\u001b[0muri\u001b[0m\u001b[0;34m)\u001b[0m\u001b[0;34m\u001b[0m\u001b[0;34m\u001b[0m\u001b[0m\n\u001b[0m\u001b[1;32m    916\u001b[0m         \u001b[0;32mreturn\u001b[0m \u001b[0mself\u001b[0m\u001b[0;34m.\u001b[0m\u001b[0mpostproc\u001b[0m\u001b[0;34m(\u001b[0m\u001b[0mresp\u001b[0m\u001b[0;34m,\u001b[0m \u001b[0mcontent\u001b[0m\u001b[0;34m)\u001b[0m\u001b[0;34m\u001b[0m\u001b[0;34m\u001b[0m\u001b[0m\n",
      "\u001b[0;31mHttpError\u001b[0m: <HttpError 400 when requesting https://earthengine.googleapis.com/v1alpha/projects/earthengine-legacy/value:compute?prettyPrint=false&alt=json returned \"Error in map(ID=20200801T155911_20200801T160644_T18TVQ):\nImage.remap: List of values to remap must not be empty.\". Details: \"Error in map(ID=20200801T155911_20200801T160644_T18TVQ):\nImage.remap: List of values to remap must not be empty.\">",
      "\nDuring handling of the above exception, another exception occurred:\n",
      "\u001b[0;31mEEException\u001b[0m                               Traceback (most recent call last)",
      "\u001b[0;32m/var/folders/rx/5_fd7v5s5dbc3yr3cx7bw9m40000gn/T/ipykernel_1810/1753800693.py\u001b[0m in \u001b[0;36m<module>\u001b[0;34m\u001b[0m\n\u001b[1;32m     36\u001b[0m     \u001b[0mprint\u001b[0m\u001b[0;34m(\u001b[0m\u001b[0mCOLLECTION_OPTIONS\u001b[0m\u001b[0;34m[\u001b[0m\u001b[0mcolName\u001b[0m\u001b[0;34m]\u001b[0m\u001b[0;34m)\u001b[0m\u001b[0;34m\u001b[0m\u001b[0;34m\u001b[0m\u001b[0m\n\u001b[1;32m     37\u001b[0m     \u001b[0mestimateSL2P\u001b[0m \u001b[0;34m=\u001b[0m \u001b[0minput_collection\u001b[0m\u001b[0;34m.\u001b[0m\u001b[0mmap\u001b[0m\u001b[0;34m(\u001b[0m\u001b[0;32mlambda\u001b[0m \u001b[0mimage\u001b[0m\u001b[0;34m:\u001b[0m \u001b[0mwrapperNNets\u001b[0m\u001b[0;34m(\u001b[0m\u001b[0mSL2P\u001b[0m\u001b[0;34m,\u001b[0m \u001b[0mpartition\u001b[0m\u001b[0;34m,\u001b[0m \u001b[0mnetOptions\u001b[0m\u001b[0;34m,\u001b[0m \u001b[0mCOLLECTION_OPTIONS\u001b[0m\u001b[0;34m[\u001b[0m\u001b[0mcolName\u001b[0m\u001b[0;34m]\u001b[0m\u001b[0;34m,\u001b[0m \u001b[0;34m\"estimate\"\u001b[0m\u001b[0;34m,\u001b[0m \u001b[0mimage\u001b[0m\u001b[0;34m)\u001b[0m\u001b[0;34m)\u001b[0m\u001b[0;34m\u001b[0m\u001b[0;34m\u001b[0m\u001b[0m\n\u001b[0;32m---> 38\u001b[0;31m     \u001b[0mprint\u001b[0m\u001b[0;34m(\u001b[0m\u001b[0mestimateSL2P\u001b[0m\u001b[0;34m.\u001b[0m\u001b[0mgetInfo\u001b[0m\u001b[0;34m(\u001b[0m\u001b[0;34m)\u001b[0m\u001b[0;34m)\u001b[0m\u001b[0;34m\u001b[0m\u001b[0;34m\u001b[0m\u001b[0m\n\u001b[0m\u001b[1;32m     39\u001b[0m     \u001b[0mprint\u001b[0m\u001b[0;34m(\u001b[0m\u001b[0mestimateSL2P\u001b[0m\u001b[0;34m.\u001b[0m\u001b[0mgetMetadata\u001b[0m\u001b[0;34m(\u001b[0m\u001b[0mCollection_SL2P\u001b[0m\u001b[0;34m)\u001b[0m\u001b[0;34m.\u001b[0m\u001b[0mgetInfo\u001b[0m\u001b[0;34m(\u001b[0m\u001b[0;34m)\u001b[0m\u001b[0;34m)\u001b[0m\u001b[0;34m\u001b[0m\u001b[0;34m\u001b[0m\u001b[0m\n\u001b[1;32m     40\u001b[0m     \u001b[0muncertaintySL2P\u001b[0m \u001b[0;34m=\u001b[0m \u001b[0minput_collection\u001b[0m\u001b[0;34m.\u001b[0m\u001b[0mmap\u001b[0m\u001b[0;34m(\u001b[0m\u001b[0;32mlambda\u001b[0m \u001b[0mimage\u001b[0m\u001b[0;34m:\u001b[0m \u001b[0mwrapperNNets\u001b[0m\u001b[0;34m(\u001b[0m\u001b[0merrorsSL2P\u001b[0m\u001b[0;34m,\u001b[0m \u001b[0mpartition\u001b[0m\u001b[0;34m,\u001b[0m \u001b[0mnetOptions\u001b[0m\u001b[0;34m,\u001b[0m \u001b[0mCOLLECTION_OPTIONS\u001b[0m\u001b[0;34m[\u001b[0m\u001b[0mcolName\u001b[0m\u001b[0;34m]\u001b[0m\u001b[0;34m,\u001b[0m \u001b[0;34m\"error\"\u001b[0m\u001b[0;34m,\u001b[0m \u001b[0mimage\u001b[0m\u001b[0;34m)\u001b[0m\u001b[0;34m)\u001b[0m\u001b[0;34m\u001b[0m\u001b[0;34m\u001b[0m\u001b[0m\n",
      "\u001b[0;32m~/opt/anaconda3/envs/leaf-toolbox/lib/python3.9/site-packages/ee/collection.py\u001b[0m in \u001b[0;36mgetInfo\u001b[0;34m(self)\u001b[0m\n\u001b[1;32m    125\u001b[0m            \u001b[0mproperties\u001b[0m\u001b[0;34m.\u001b[0m\u001b[0;34m\u001b[0m\u001b[0;34m\u001b[0m\u001b[0m\n\u001b[1;32m    126\u001b[0m     \"\"\"\n\u001b[0;32m--> 127\u001b[0;31m     \u001b[0;32mreturn\u001b[0m \u001b[0msuper\u001b[0m\u001b[0;34m(\u001b[0m\u001b[0mCollection\u001b[0m\u001b[0;34m,\u001b[0m \u001b[0mself\u001b[0m\u001b[0;34m)\u001b[0m\u001b[0;34m.\u001b[0m\u001b[0mgetInfo\u001b[0m\u001b[0;34m(\u001b[0m\u001b[0;34m)\u001b[0m\u001b[0;34m\u001b[0m\u001b[0;34m\u001b[0m\u001b[0m\n\u001b[0m\u001b[1;32m    128\u001b[0m \u001b[0;34m\u001b[0m\u001b[0m\n\u001b[1;32m    129\u001b[0m   \u001b[0;32mdef\u001b[0m \u001b[0mlimit\u001b[0m\u001b[0;34m(\u001b[0m\u001b[0mself\u001b[0m\u001b[0;34m,\u001b[0m \u001b[0mmaximum\u001b[0m\u001b[0;34m,\u001b[0m \u001b[0mopt_property\u001b[0m\u001b[0;34m=\u001b[0m\u001b[0;32mNone\u001b[0m\u001b[0;34m,\u001b[0m \u001b[0mopt_ascending\u001b[0m\u001b[0;34m=\u001b[0m\u001b[0;32mNone\u001b[0m\u001b[0;34m)\u001b[0m\u001b[0;34m:\u001b[0m\u001b[0;34m\u001b[0m\u001b[0;34m\u001b[0m\u001b[0m\n",
      "\u001b[0;32m~/opt/anaconda3/envs/leaf-toolbox/lib/python3.9/site-packages/ee/computedobject.py\u001b[0m in \u001b[0;36mgetInfo\u001b[0;34m(self)\u001b[0m\n\u001b[1;32m     96\u001b[0m       \u001b[0mThe\u001b[0m \u001b[0mobject\u001b[0m \u001b[0mcan\u001b[0m \u001b[0mevaluate\u001b[0m \u001b[0mto\u001b[0m \u001b[0manything\u001b[0m\u001b[0;34m.\u001b[0m\u001b[0;34m\u001b[0m\u001b[0;34m\u001b[0m\u001b[0m\n\u001b[1;32m     97\u001b[0m     \"\"\"\n\u001b[0;32m---> 98\u001b[0;31m     \u001b[0;32mreturn\u001b[0m \u001b[0mdata\u001b[0m\u001b[0;34m.\u001b[0m\u001b[0mcomputeValue\u001b[0m\u001b[0;34m(\u001b[0m\u001b[0mself\u001b[0m\u001b[0;34m)\u001b[0m\u001b[0;34m\u001b[0m\u001b[0;34m\u001b[0m\u001b[0m\n\u001b[0m\u001b[1;32m     99\u001b[0m \u001b[0;34m\u001b[0m\u001b[0m\n\u001b[1;32m    100\u001b[0m   \u001b[0;32mdef\u001b[0m \u001b[0mencode\u001b[0m\u001b[0;34m(\u001b[0m\u001b[0mself\u001b[0m\u001b[0;34m,\u001b[0m \u001b[0mencoder\u001b[0m\u001b[0;34m)\u001b[0m\u001b[0;34m:\u001b[0m\u001b[0;34m\u001b[0m\u001b[0;34m\u001b[0m\u001b[0m\n",
      "\u001b[0;32m~/opt/anaconda3/envs/leaf-toolbox/lib/python3.9/site-packages/ee/data.py\u001b[0m in \u001b[0;36mcomputeValue\u001b[0;34m(obj)\u001b[0m\n\u001b[1;32m    670\u001b[0m     \u001b[0mThe\u001b[0m \u001b[0mresult\u001b[0m \u001b[0mof\u001b[0m \u001b[0mevaluating\u001b[0m \u001b[0mthat\u001b[0m \u001b[0mobject\u001b[0m \u001b[0mon\u001b[0m \u001b[0mthe\u001b[0m \u001b[0mserver\u001b[0m\u001b[0;34m.\u001b[0m\u001b[0;34m\u001b[0m\u001b[0;34m\u001b[0m\u001b[0m\n\u001b[1;32m    671\u001b[0m   \"\"\"\n\u001b[0;32m--> 672\u001b[0;31m   return _execute_cloud_call(\n\u001b[0m\u001b[1;32m    673\u001b[0m       _get_cloud_api_resource().projects().value().compute(\n\u001b[1;32m    674\u001b[0m           \u001b[0mbody\u001b[0m\u001b[0;34m=\u001b[0m\u001b[0;34m{\u001b[0m\u001b[0;34m'expression'\u001b[0m\u001b[0;34m:\u001b[0m \u001b[0mserializer\u001b[0m\u001b[0;34m.\u001b[0m\u001b[0mencode\u001b[0m\u001b[0;34m(\u001b[0m\u001b[0mobj\u001b[0m\u001b[0;34m,\u001b[0m \u001b[0mfor_cloud_api\u001b[0m\u001b[0;34m=\u001b[0m\u001b[0;32mTrue\u001b[0m\u001b[0;34m)\u001b[0m\u001b[0;34m}\u001b[0m\u001b[0;34m,\u001b[0m\u001b[0;34m\u001b[0m\u001b[0;34m\u001b[0m\u001b[0m\n",
      "\u001b[0;32m~/opt/anaconda3/envs/leaf-toolbox/lib/python3.9/site-packages/ee/data.py\u001b[0m in \u001b[0;36m_execute_cloud_call\u001b[0;34m(call, num_retries)\u001b[0m\n\u001b[1;32m    334\u001b[0m     \u001b[0;32mreturn\u001b[0m \u001b[0mcall\u001b[0m\u001b[0;34m.\u001b[0m\u001b[0mexecute\u001b[0m\u001b[0;34m(\u001b[0m\u001b[0mnum_retries\u001b[0m\u001b[0;34m=\u001b[0m\u001b[0mnum_retries\u001b[0m\u001b[0;34m)\u001b[0m\u001b[0;34m\u001b[0m\u001b[0;34m\u001b[0m\u001b[0m\n\u001b[1;32m    335\u001b[0m   \u001b[0;32mexcept\u001b[0m \u001b[0mgoogleapiclient\u001b[0m\u001b[0;34m.\u001b[0m\u001b[0merrors\u001b[0m\u001b[0;34m.\u001b[0m\u001b[0mHttpError\u001b[0m \u001b[0;32mas\u001b[0m \u001b[0me\u001b[0m\u001b[0;34m:\u001b[0m\u001b[0;34m\u001b[0m\u001b[0;34m\u001b[0m\u001b[0m\n\u001b[0;32m--> 336\u001b[0;31m     \u001b[0;32mraise\u001b[0m \u001b[0m_translate_cloud_exception\u001b[0m\u001b[0;34m(\u001b[0m\u001b[0me\u001b[0m\u001b[0;34m)\u001b[0m\u001b[0;34m\u001b[0m\u001b[0;34m\u001b[0m\u001b[0m\n\u001b[0m\u001b[1;32m    337\u001b[0m \u001b[0;34m\u001b[0m\u001b[0m\n\u001b[1;32m    338\u001b[0m \u001b[0;34m\u001b[0m\u001b[0m\n",
      "\u001b[0;31mEEException\u001b[0m: Error in map(ID=20200801T155911_20200801T160644_T18TVQ):\nImage.remap: List of values to remap must not be empty."
     ]
    }
   ],
   "source": [
    "# =================================\n",
    "# TEST FOR SL2P10_20m\n",
    "# =================================\n",
    "# make products and export\n",
    "# reduces image resolution before applying algorithm\n",
    "\n",
    "# \n",
    "\n",
    "# filter collection and add ancillary bands\n",
    "input_collection = ee.ImageCollection(COLLECTION_OPTIONS[colName][\"name\"]) \\\n",
    "                     .filterBounds(mapBounds) \\\n",
    "                     .filterDate(startDate, endDate) \\\n",
    "                     .filterMetadata(colOptions[\"Cloudcover\"],'less_than',maxCloudcover) \\\n",
    "                     .limit(5000) \\\n",
    "                     .map(lambda image: reduceTo20m(image)) \\\n",
    "                     .map(lambda image: addDate(image)) \\\n",
    "                     .map(lambda image: image.clip(mapBounds)) \\\n",
    "                     .map(lambda image: s2MaskClear(image)) \\\n",
    "                     .map(lambda image: addS2Geometry(colOptions, image))\n",
    "print(input_collection.size().getInfo())\n",
    "\n",
    "\n",
    "if outputName == \"Surface_Reflectance\":\n",
    "    export_collection = input_collection;\n",
    "else:\n",
    "    # get partition used to select network\n",
    "    partition = (COLLECTION_OPTIONS[colName][\"partition\"]).filterBounds(mapBounds).mosaic().clip(mapBounds).rename('partition');\n",
    "    \n",
    "    # pre process input imagery and flag invalid inputs\n",
    "    input_collection = input_collection.map(lambda image: s2MaskLand(image)) \\\n",
    "                                       .map(lambda image: scaleBands(netOptions[\"inputBands\"],netOptions[\"inputScaling\"],image)) \\\n",
    "                                       .map(lambda image: invalidInput(COLLECTION_OPTIONS[colName][\"sl2pDomain\"],netOptions[\"inputBands\"],image))\n",
    "    \n",
    "    # apply networks to produce mapped parameters\n",
    "    print(netOptions)\n",
    "    print(COLLECTION_OPTIONS[colName])\n",
    "    estimateSL2P = input_collection.map(lambda image: wrapperNNets(SL2P, partition, netOptions, COLLECTION_OPTIONS[colName], \"estimate\", image))\n",
    "    print(estimateSL2P.getInfo())\n",
    "    print(estimateSL2P.getMetadata(Collection_SL2P).getInfo())\n",
    "    uncertaintySL2P = input_collection.map(lambda image: wrapperNNets(errorsSL2P, partition, netOptions, COLLECTION_OPTIONS[colName], \"error\", image))\n",
    "    \n",
    "\n",
    "    \n",
    "    # scale and offset mapped parameter bands\n",
    "    estimateSL2P = estimateSL2P.map(lambda image: image.addBands(image.select(\"estimate\"+outputName) \\\n",
    "                                                                 .multiply(ee.Image.constant(outputScale)) \\\n",
    "                                                                 .add(ee.Image.constant(outputOffset)), overwrite = True));\n",
    "    uncertaintySL2P = uncertaintySL2P.map(lambda image: image.addBands(image.select(\"error\"+outputName) \\\n",
    "                                                                       .multiply(ee.Image.constant(outputScale)) \\\n",
    "                                                                       .add(ee.Image.constant(outputOffset)),overwrite = True));\n",
    "    \n",
    "    # produce final export collection\n",
    "    export_collection_20m = input_collection.select(['date','QC']).combine(estimateSL2P).combine(uncertaintySL2P)\n",
    "    \n",
    "image_output_names = ([name+\"_\"+outputName for name in export_collection_20m.toList(export_collection_20m.size()).map(lambda image: ee.Image(image).id()).getInfo()])\n",
    "\n",
    "displayImage(export_collection_20m.mosaic().select('estimateLAI'),0+outputOffset,10*outputScale+outputOffset)"
   ]
  },
  {
   "cell_type": "code",
   "execution_count": 140,
   "metadata": {
    "tags": []
   },
   "outputs": [],
   "source": [
    "# parse the networks\n",
    "colName = colName_10m\n",
    "colOptions = COLLECTION_OPTIONS[colName]\n",
    "netOptions = VIS_OPTIONS[outputName][colName]\n",
    "numNets = ee.Number(ee.Feature((COLLECTION_OPTIONS[colName][\"Network_Ind\"]).first()).propertyNames().remove('Feature Index').remove('system:index').remove('lon').size())\n",
    "SL2P = ee.List.sequence(1,ee.Number(COLLECTION_OPTIONS[colName][\"numVariables\"]),1).map(lambda netNum: makeNetVars(COLLECTION_OPTIONS[colName][\"Collection_SL2P\"],numNets,netNum));\n",
    "errorsSL2P = ee.List.sequence(1,ee.Number(COLLECTION_OPTIONS[colName][\"numVariables\"]),1).map(lambda netNum: makeNetVars(COLLECTION_OPTIONS[colName][\"Collection_SL2Perrors\"],numNets,netNum));"
   ]
  },
  {
   "cell_type": "code",
   "execution_count": 147,
   "metadata": {},
   "outputs": [
    {
     "name": "stdout",
     "output_type": "stream",
     "text": [
      "5\n",
      "20200801T155911_20200801T160644_T18TWR\n"
     ]
    },
    {
     "ename": "EEException",
     "evalue": "Collection.toList: Error in map(ID=20200801T155911_20200801T160644_T18TVR):\nImage.remap: List of values to remap must not be empty.",
     "output_type": "error",
     "traceback": [
      "\u001b[0;31m---------------------------------------------------------------------------\u001b[0m",
      "\u001b[0;31mHttpError\u001b[0m                                 Traceback (most recent call last)",
      "\u001b[0;32m~/opt/anaconda3/envs/leaf-toolbox/lib/python3.9/site-packages/ee/data.py\u001b[0m in \u001b[0;36m_execute_cloud_call\u001b[0;34m(call, num_retries)\u001b[0m\n\u001b[1;32m    333\u001b[0m   \u001b[0;32mtry\u001b[0m\u001b[0;34m:\u001b[0m\u001b[0;34m\u001b[0m\u001b[0;34m\u001b[0m\u001b[0m\n\u001b[0;32m--> 334\u001b[0;31m     \u001b[0;32mreturn\u001b[0m \u001b[0mcall\u001b[0m\u001b[0;34m.\u001b[0m\u001b[0mexecute\u001b[0m\u001b[0;34m(\u001b[0m\u001b[0mnum_retries\u001b[0m\u001b[0;34m=\u001b[0m\u001b[0mnum_retries\u001b[0m\u001b[0;34m)\u001b[0m\u001b[0;34m\u001b[0m\u001b[0;34m\u001b[0m\u001b[0m\n\u001b[0m\u001b[1;32m    335\u001b[0m   \u001b[0;32mexcept\u001b[0m \u001b[0mgoogleapiclient\u001b[0m\u001b[0;34m.\u001b[0m\u001b[0merrors\u001b[0m\u001b[0;34m.\u001b[0m\u001b[0mHttpError\u001b[0m \u001b[0;32mas\u001b[0m \u001b[0me\u001b[0m\u001b[0;34m:\u001b[0m\u001b[0;34m\u001b[0m\u001b[0;34m\u001b[0m\u001b[0m\n",
      "\u001b[0;32m~/opt/anaconda3/envs/leaf-toolbox/lib/python3.9/site-packages/googleapiclient/_helpers.py\u001b[0m in \u001b[0;36mpositional_wrapper\u001b[0;34m(*args, **kwargs)\u001b[0m\n\u001b[1;32m    133\u001b[0m                     \u001b[0mlogger\u001b[0m\u001b[0;34m.\u001b[0m\u001b[0mwarning\u001b[0m\u001b[0;34m(\u001b[0m\u001b[0mmessage\u001b[0m\u001b[0;34m)\u001b[0m\u001b[0;34m\u001b[0m\u001b[0;34m\u001b[0m\u001b[0m\n\u001b[0;32m--> 134\u001b[0;31m             \u001b[0;32mreturn\u001b[0m \u001b[0mwrapped\u001b[0m\u001b[0;34m(\u001b[0m\u001b[0;34m*\u001b[0m\u001b[0margs\u001b[0m\u001b[0;34m,\u001b[0m \u001b[0;34m**\u001b[0m\u001b[0mkwargs\u001b[0m\u001b[0;34m)\u001b[0m\u001b[0;34m\u001b[0m\u001b[0;34m\u001b[0m\u001b[0m\n\u001b[0m\u001b[1;32m    135\u001b[0m \u001b[0;34m\u001b[0m\u001b[0m\n",
      "\u001b[0;32m~/opt/anaconda3/envs/leaf-toolbox/lib/python3.9/site-packages/googleapiclient/http.py\u001b[0m in \u001b[0;36mexecute\u001b[0;34m(self, http, num_retries)\u001b[0m\n\u001b[1;32m    914\u001b[0m         \u001b[0;32mif\u001b[0m \u001b[0mresp\u001b[0m\u001b[0;34m.\u001b[0m\u001b[0mstatus\u001b[0m \u001b[0;34m>=\u001b[0m \u001b[0;36m300\u001b[0m\u001b[0;34m:\u001b[0m\u001b[0;34m\u001b[0m\u001b[0;34m\u001b[0m\u001b[0m\n\u001b[0;32m--> 915\u001b[0;31m             \u001b[0;32mraise\u001b[0m \u001b[0mHttpError\u001b[0m\u001b[0;34m(\u001b[0m\u001b[0mresp\u001b[0m\u001b[0;34m,\u001b[0m \u001b[0mcontent\u001b[0m\u001b[0;34m,\u001b[0m \u001b[0muri\u001b[0m\u001b[0;34m=\u001b[0m\u001b[0mself\u001b[0m\u001b[0;34m.\u001b[0m\u001b[0muri\u001b[0m\u001b[0;34m)\u001b[0m\u001b[0;34m\u001b[0m\u001b[0;34m\u001b[0m\u001b[0m\n\u001b[0m\u001b[1;32m    916\u001b[0m         \u001b[0;32mreturn\u001b[0m \u001b[0mself\u001b[0m\u001b[0;34m.\u001b[0m\u001b[0mpostproc\u001b[0m\u001b[0;34m(\u001b[0m\u001b[0mresp\u001b[0m\u001b[0;34m,\u001b[0m \u001b[0mcontent\u001b[0m\u001b[0;34m)\u001b[0m\u001b[0;34m\u001b[0m\u001b[0;34m\u001b[0m\u001b[0m\n",
      "\u001b[0;31mHttpError\u001b[0m: <HttpError 400 when requesting https://earthengine.googleapis.com/v1alpha/projects/earthengine-legacy/value:compute?prettyPrint=false&alt=json returned \"Collection.toList: Error in map(ID=20200801T155911_20200801T160644_T18TVR):\nImage.remap: List of values to remap must not be empty.\". Details: \"Collection.toList: Error in map(ID=20200801T155911_20200801T160644_T18TVR):\nImage.remap: List of values to remap must not be empty.\">",
      "\nDuring handling of the above exception, another exception occurred:\n",
      "\u001b[0;31mEEException\u001b[0m                               Traceback (most recent call last)",
      "\u001b[0;32m/var/folders/rx/5_fd7v5s5dbc3yr3cx7bw9m40000gn/T/ipykernel_1810/852008067.py\u001b[0m in \u001b[0;36m<module>\u001b[0;34m\u001b[0m\n\u001b[1;32m     45\u001b[0m \u001b[0;34m\u001b[0m\u001b[0m\n\u001b[1;32m     46\u001b[0m     \u001b[0mprint\u001b[0m\u001b[0;34m(\u001b[0m\u001b[0mee\u001b[0m\u001b[0;34m.\u001b[0m\u001b[0mImage\u001b[0m\u001b[0;34m(\u001b[0m\u001b[0mimage\u001b[0m\u001b[0;34m)\u001b[0m\u001b[0;34m.\u001b[0m\u001b[0mid\u001b[0m\u001b[0;34m(\u001b[0m\u001b[0;34m)\u001b[0m\u001b[0;34m.\u001b[0m\u001b[0mgetInfo\u001b[0m\u001b[0;34m(\u001b[0m\u001b[0;34m)\u001b[0m\u001b[0;34m)\u001b[0m\u001b[0;34m\u001b[0m\u001b[0;34m\u001b[0m\u001b[0m\n\u001b[0;32m---> 47\u001b[0;31m \u001b[0mimage_output_names\u001b[0m \u001b[0;34m=\u001b[0m \u001b[0;34m(\u001b[0m\u001b[0;34m[\u001b[0m\u001b[0mname\u001b[0m\u001b[0;34m+\u001b[0m\u001b[0;34m\"_\"\u001b[0m\u001b[0;34m+\u001b[0m\u001b[0moutputName\u001b[0m \u001b[0;32mfor\u001b[0m \u001b[0mname\u001b[0m \u001b[0;32min\u001b[0m \u001b[0mexport_collection_10m\u001b[0m\u001b[0;34m.\u001b[0m\u001b[0mtoList\u001b[0m\u001b[0;34m(\u001b[0m\u001b[0mexport_collection_10m\u001b[0m\u001b[0;34m.\u001b[0m\u001b[0msize\u001b[0m\u001b[0;34m(\u001b[0m\u001b[0;34m)\u001b[0m\u001b[0;34m)\u001b[0m\u001b[0;34m.\u001b[0m\u001b[0mmap\u001b[0m\u001b[0;34m(\u001b[0m\u001b[0;32mlambda\u001b[0m \u001b[0mimage\u001b[0m\u001b[0;34m:\u001b[0m \u001b[0mee\u001b[0m\u001b[0;34m.\u001b[0m\u001b[0mImage\u001b[0m\u001b[0;34m(\u001b[0m\u001b[0mimage\u001b[0m\u001b[0;34m)\u001b[0m\u001b[0;34m.\u001b[0m\u001b[0mid\u001b[0m\u001b[0;34m(\u001b[0m\u001b[0;34m)\u001b[0m\u001b[0;34m)\u001b[0m\u001b[0;34m.\u001b[0m\u001b[0mgetInfo\u001b[0m\u001b[0;34m(\u001b[0m\u001b[0;34m)\u001b[0m\u001b[0;34m]\u001b[0m\u001b[0;34m)\u001b[0m\u001b[0;34m\u001b[0m\u001b[0;34m\u001b[0m\u001b[0m\n\u001b[0m\u001b[1;32m     48\u001b[0m \u001b[0;34m\u001b[0m\u001b[0m\n\u001b[1;32m     49\u001b[0m \u001b[0mdisplayImage\u001b[0m\u001b[0;34m(\u001b[0m\u001b[0mexport_collection_10m\u001b[0m\u001b[0;34m.\u001b[0m\u001b[0mmosaic\u001b[0m\u001b[0;34m(\u001b[0m\u001b[0;34m)\u001b[0m\u001b[0;34m.\u001b[0m\u001b[0mselect\u001b[0m\u001b[0;34m(\u001b[0m\u001b[0;34m'estimateLAI'\u001b[0m\u001b[0;34m)\u001b[0m\u001b[0;34m,\u001b[0m\u001b[0;36m0\u001b[0m\u001b[0;34m+\u001b[0m\u001b[0moutputOffset\u001b[0m\u001b[0;34m,\u001b[0m\u001b[0;36m10\u001b[0m\u001b[0;34m*\u001b[0m\u001b[0moutputScale\u001b[0m\u001b[0;34m+\u001b[0m\u001b[0moutputOffset\u001b[0m\u001b[0;34m)\u001b[0m\u001b[0;34m\u001b[0m\u001b[0;34m\u001b[0m\u001b[0m\n",
      "\u001b[0;32m~/opt/anaconda3/envs/leaf-toolbox/lib/python3.9/site-packages/ee/computedobject.py\u001b[0m in \u001b[0;36mgetInfo\u001b[0;34m(self)\u001b[0m\n\u001b[1;32m     96\u001b[0m       \u001b[0mThe\u001b[0m \u001b[0mobject\u001b[0m \u001b[0mcan\u001b[0m \u001b[0mevaluate\u001b[0m \u001b[0mto\u001b[0m \u001b[0manything\u001b[0m\u001b[0;34m.\u001b[0m\u001b[0;34m\u001b[0m\u001b[0;34m\u001b[0m\u001b[0m\n\u001b[1;32m     97\u001b[0m     \"\"\"\n\u001b[0;32m---> 98\u001b[0;31m     \u001b[0;32mreturn\u001b[0m \u001b[0mdata\u001b[0m\u001b[0;34m.\u001b[0m\u001b[0mcomputeValue\u001b[0m\u001b[0;34m(\u001b[0m\u001b[0mself\u001b[0m\u001b[0;34m)\u001b[0m\u001b[0;34m\u001b[0m\u001b[0;34m\u001b[0m\u001b[0m\n\u001b[0m\u001b[1;32m     99\u001b[0m \u001b[0;34m\u001b[0m\u001b[0m\n\u001b[1;32m    100\u001b[0m   \u001b[0;32mdef\u001b[0m \u001b[0mencode\u001b[0m\u001b[0;34m(\u001b[0m\u001b[0mself\u001b[0m\u001b[0;34m,\u001b[0m \u001b[0mencoder\u001b[0m\u001b[0;34m)\u001b[0m\u001b[0;34m:\u001b[0m\u001b[0;34m\u001b[0m\u001b[0;34m\u001b[0m\u001b[0m\n",
      "\u001b[0;32m~/opt/anaconda3/envs/leaf-toolbox/lib/python3.9/site-packages/ee/data.py\u001b[0m in \u001b[0;36mcomputeValue\u001b[0;34m(obj)\u001b[0m\n\u001b[1;32m    670\u001b[0m     \u001b[0mThe\u001b[0m \u001b[0mresult\u001b[0m \u001b[0mof\u001b[0m \u001b[0mevaluating\u001b[0m \u001b[0mthat\u001b[0m \u001b[0mobject\u001b[0m \u001b[0mon\u001b[0m \u001b[0mthe\u001b[0m \u001b[0mserver\u001b[0m\u001b[0;34m.\u001b[0m\u001b[0;34m\u001b[0m\u001b[0;34m\u001b[0m\u001b[0m\n\u001b[1;32m    671\u001b[0m   \"\"\"\n\u001b[0;32m--> 672\u001b[0;31m   return _execute_cloud_call(\n\u001b[0m\u001b[1;32m    673\u001b[0m       _get_cloud_api_resource().projects().value().compute(\n\u001b[1;32m    674\u001b[0m           \u001b[0mbody\u001b[0m\u001b[0;34m=\u001b[0m\u001b[0;34m{\u001b[0m\u001b[0;34m'expression'\u001b[0m\u001b[0;34m:\u001b[0m \u001b[0mserializer\u001b[0m\u001b[0;34m.\u001b[0m\u001b[0mencode\u001b[0m\u001b[0;34m(\u001b[0m\u001b[0mobj\u001b[0m\u001b[0;34m,\u001b[0m \u001b[0mfor_cloud_api\u001b[0m\u001b[0;34m=\u001b[0m\u001b[0;32mTrue\u001b[0m\u001b[0;34m)\u001b[0m\u001b[0;34m}\u001b[0m\u001b[0;34m,\u001b[0m\u001b[0;34m\u001b[0m\u001b[0;34m\u001b[0m\u001b[0m\n",
      "\u001b[0;32m~/opt/anaconda3/envs/leaf-toolbox/lib/python3.9/site-packages/ee/data.py\u001b[0m in \u001b[0;36m_execute_cloud_call\u001b[0;34m(call, num_retries)\u001b[0m\n\u001b[1;32m    334\u001b[0m     \u001b[0;32mreturn\u001b[0m \u001b[0mcall\u001b[0m\u001b[0;34m.\u001b[0m\u001b[0mexecute\u001b[0m\u001b[0;34m(\u001b[0m\u001b[0mnum_retries\u001b[0m\u001b[0;34m=\u001b[0m\u001b[0mnum_retries\u001b[0m\u001b[0;34m)\u001b[0m\u001b[0;34m\u001b[0m\u001b[0;34m\u001b[0m\u001b[0m\n\u001b[1;32m    335\u001b[0m   \u001b[0;32mexcept\u001b[0m \u001b[0mgoogleapiclient\u001b[0m\u001b[0;34m.\u001b[0m\u001b[0merrors\u001b[0m\u001b[0;34m.\u001b[0m\u001b[0mHttpError\u001b[0m \u001b[0;32mas\u001b[0m \u001b[0me\u001b[0m\u001b[0;34m:\u001b[0m\u001b[0;34m\u001b[0m\u001b[0;34m\u001b[0m\u001b[0m\n\u001b[0;32m--> 336\u001b[0;31m     \u001b[0;32mraise\u001b[0m \u001b[0m_translate_cloud_exception\u001b[0m\u001b[0;34m(\u001b[0m\u001b[0me\u001b[0m\u001b[0;34m)\u001b[0m\u001b[0;34m\u001b[0m\u001b[0;34m\u001b[0m\u001b[0m\n\u001b[0m\u001b[1;32m    337\u001b[0m \u001b[0;34m\u001b[0m\u001b[0m\n\u001b[1;32m    338\u001b[0m \u001b[0;34m\u001b[0m\u001b[0m\n",
      "\u001b[0;31mEEException\u001b[0m: Collection.toList: Error in map(ID=20200801T155911_20200801T160644_T18TVR):\nImage.remap: List of values to remap must not be empty."
     ]
    }
   ],
   "source": [
    "# =================================\n",
    "# TEST FOR SL2P10_10m\n",
    "# =================================\n",
    "# make products and export\n",
    "# use for SL2P_20m (reduces image resolution before applying algorithm)\n",
    "\n",
    "# filter collection and add ancillary bands\n",
    "input_collection = ee.ImageCollection(COLLECTION_OPTIONS['COPERNICUS/S2_SR_10m'][\"name\"]) \\\n",
    "                     .filterBounds(mapBounds) \\\n",
    "                     .filterDate(startDate, endDate) \\\n",
    "                     .filterMetadata(colOptions[\"Cloudcover\"],'less_than',maxCloudcover) \\\n",
    "                     .limit(5000) \\\n",
    "                     .map(lambda image: addDate(image)) \\\n",
    "                     .map(lambda image: image.clip(mapBounds)) \\\n",
    "                     .map(lambda image: s2MaskClear(image)) \\\n",
    "                     .map(lambda image: addS2Geometry(colOptions, image))\n",
    "print(input_collection.size().getInfo())\n",
    "\n",
    "\n",
    "if outputName == \"Surface_Reflectance\":\n",
    "    export_collection = input_collection\n",
    "else:\n",
    "    # get partition used to select network\n",
    "    partition = (COLLECTION_OPTIONS['COPERNICUS/S2_SR_10m'][\"partition\"]).filterBounds(mapBounds).mosaic().clip(mapBounds).rename('partition')\n",
    "    \n",
    "    # pre process input imagery and flag invalid inputs\n",
    "    input_collection = input_collection.map(lambda image: s2MaskLand(image)) \\\n",
    "                                       .map(lambda image: scaleBands(netOptions[\"inputBands\"],netOptions[\"inputScaling\"],image)) \\\n",
    "                                       .map(lambda image: invalidInput(COLLECTION_OPTIONS['COPERNICUS/S2_SR_10m'][\"sl2pDomain\"],netOptions[\"inputBands\"],image))\n",
    "    \n",
    "    # apply networks to produce mapped parameters\n",
    "    estimateSL2P = input_collection.map(lambda image: wrapperNNets(SL2P, partition, netOptions, COLLECTION_OPTIONS['COPERNICUS/S2_SR_10m'], \"estimate\", image))\n",
    "    uncertaintySL2P = input_collection.map(lambda image: wrapperNNets(errorsSL2P, partition, netOptions, COLLECTION_OPTIONS['COPERNICUS/S2_SR_10m'], \"error\", image))\n",
    "    \n",
    "    # scale and offset mapped parameter bands\n",
    "    estimateSL2P = estimateSL2P.map(lambda image: image.addBands(image.select(\"estimate\"+outputName) \\\n",
    "                                                                 .multiply(ee.Image.constant(outputScale)) \\\n",
    "                                                                 .add(ee.Image.constant(outputOffset)), overwrite = True));\n",
    "    uncertaintySL2P = uncertaintySL2P.map(lambda image: image.addBands(image.select(\"error\"+outputName) \\\n",
    "                                                                       .multiply(ee.Image.constant(outputScale)) \\\n",
    "                                                                       .add(ee.Image.constant(outputOffset)),overwrite = True));\n",
    "    \n",
    "    # produce final export collection\n",
    "    export_collection_10m = input_collection.select(['date','QC']).combine(estimateSL2P).combine(uncertaintySL2P)\n",
    "\n",
    "    print(ee.Image(image).id().getInfo())\n",
    "image_output_names = ([name+\"_\"+outputName for name in export_collection_10m.toList(export_collection_10m.size()).map(lambda image: ee.Image(image).id()).getInfo()])\n",
    "\n",
    "displayImage(export_collection_10m.mosaic().select('estimateLAI'),0+outputOffset,10*outputScale+outputOffset)"
   ]
  },
  {
   "cell_type": "code",
   "execution_count": 93,
   "metadata": {},
   "outputs": [
    {
     "name": "stdout",
     "output_type": "stream",
     "text": [
      "{'max': None, 'mean': 0, 'min': None, 'sample_sd': 0, 'sample_var': 0, 'sum': 0, 'sum_sq': 0, 'total_count': 0, 'total_sd': 0, 'total_var': 0, 'valid_count': 0, 'weight_sum': 0, 'weighted_sum': 0}\n"
     ]
    }
   ],
   "source": [
    "test = export_collection_10m.aggregate_stats('estimateLAI')\n",
    "print(test.getInfo())"
   ]
  },
  {
   "cell_type": "code",
   "execution_count": 55,
   "metadata": {},
   "outputs": [
    {
     "name": "stdout",
     "output_type": "stream",
     "text": [
      "[3115.7227339294427, 1584.3354831351585, 2009.1868301094523, 3143.3782603934287, 2766.8486203004454, 3160.656333953552, 2775.250873758202]\n"
     ]
    }
   ],
   "source": [
    "# sample\n",
    "print(export_collection_20m.first().select('estimateLAI').sample(numPixels=10, projection=export_collection_20m.first().select('estimateLAI')\\\n",
    "                                                             .projection(), scale=20)\\\n",
    "                                                             .aggregate_array('estimateLAI')\\\n",
    "                                                             .getInfo())"
   ]
  },
  {
   "cell_type": "code",
   "execution_count": null,
   "metadata": {},
   "outputs": [],
   "source": [
    "# will need to add all SL2P, SL2P10_10m, SL2P10_20m bands to a single image to get corresponding samples\n"
   ]
  },
  {
   "cell_type": "code",
   "execution_count": 57,
   "metadata": {},
   "outputs": [
    {
     "data": {
      "text/html": [
       "<div>\n",
       "<style scoped>\n",
       "    .dataframe tbody tr th:only-of-type {\n",
       "        vertical-align: middle;\n",
       "    }\n",
       "\n",
       "    .dataframe tbody tr th {\n",
       "        vertical-align: top;\n",
       "    }\n",
       "\n",
       "    .dataframe thead th {\n",
       "        text-align: right;\n",
       "    }\n",
       "</style>\n",
       "<table border=\"1\" class=\"dataframe\">\n",
       "  <thead>\n",
       "    <tr style=\"text-align: right;\">\n",
       "      <th></th>\n",
       "      <th>0</th>\n",
       "    </tr>\n",
       "  </thead>\n",
       "  <tbody>\n",
       "    <tr>\n",
       "      <th>0</th>\n",
       "      <td>3115.722734</td>\n",
       "    </tr>\n",
       "    <tr>\n",
       "      <th>1</th>\n",
       "      <td>1584.335483</td>\n",
       "    </tr>\n",
       "    <tr>\n",
       "      <th>2</th>\n",
       "      <td>2009.186830</td>\n",
       "    </tr>\n",
       "    <tr>\n",
       "      <th>3</th>\n",
       "      <td>3143.378260</td>\n",
       "    </tr>\n",
       "    <tr>\n",
       "      <th>4</th>\n",
       "      <td>2766.848620</td>\n",
       "    </tr>\n",
       "    <tr>\n",
       "      <th>5</th>\n",
       "      <td>3160.656334</td>\n",
       "    </tr>\n",
       "    <tr>\n",
       "      <th>6</th>\n",
       "      <td>2775.250874</td>\n",
       "    </tr>\n",
       "  </tbody>\n",
       "</table>\n",
       "</div>"
      ],
      "text/plain": [
       "             0\n",
       "0  3115.722734\n",
       "1  1584.335483\n",
       "2  2009.186830\n",
       "3  3143.378260\n",
       "4  2766.848620\n",
       "5  3160.656334\n",
       "6  2775.250874"
      ]
     },
     "execution_count": 57,
     "metadata": {},
     "output_type": "execute_result"
    }
   ],
   "source": [
    "# select pixel values for estimateLAI from test image\n",
    "# randomly sample from test image\n",
    "\n",
    "test_LAI = export_collection_10m.first().select('estimateLAI').sample(numPixels=10, projection=export_collection_10m.first().select('estimateLAI')\\\n",
    "                                                             .projection(), scale=20)\\\n",
    "                                                             .aggregate_array('estimateLAI')\\\n",
    "                                                             .getInfo()\n",
    "\n",
    "test_ = export_collection_10m.first().select('estimateLAI').sample(numPixels=10, projection=export_collection_10m.first().select('estimateLAI')\\\n",
    "                                                             .projection(), scale=20)\\\n",
    "                                                             .aggregate_array('estimateLAI')\\\n",
    "                                                             .getInfo()\n",
    "\n",
    "test_np_LAI = np.array(test_LAI)\n",
    "test_pd_LAI = pd.DataFrame(test_LAI)\n",
    "test_pd_LAI"
   ]
  },
  {
   "cell_type": "code",
   "execution_count": 286,
   "metadata": {},
   "outputs": [
    {
     "data": {
      "text/plain": [
       "\"\\nvis_params = {\\n  'min': 0,\\n  'max': 4000,\\n  'palette': ['006633', 'E5FFCC', '662A00', 'D8D8D8', 'F5F5F5']}\\n\\nprint(export_collection.first().select('estimateLAI').sample(scale=100, numPixels=100).getInfo())\\n\\n# Create a folium map object.\\nmy_map = folium.Map(location=[20, 0], zoom_start=3, height=500)\\ndisplayImage(export_collection.first().select('partition_1'),0,10)\\n\\n\""
      ]
     },
     "execution_count": 286,
     "metadata": {},
     "output_type": "execute_result"
    }
   ],
   "source": [
    "'''\n",
    "vis_params = {\n",
    "  'min': 0,\n",
    "  'max': 4000,\n",
    "  'palette': ['006633', 'E5FFCC', '662A00', 'D8D8D8', 'F5F5F5']}\n",
    "\n",
    "print(export_collection.first().select('estimateLAI').sample(scale=100, numPixels=100).getInfo())\n",
    "\n",
    "# Create a folium map object.\n",
    "my_map = folium.Map(location=[20, 0], zoom_start=3, height=500)\n",
    "displayImage(export_collection.first().select('partition_1'),0,10)\n",
    "\n",
    "'''\n",
    "\n",
    "# print(export_collection.getInfo())"
   ]
  },
  {
   "cell_type": "code",
   "execution_count": 92,
   "metadata": {},
   "outputs": [
    {
     "name": "stdout",
     "output_type": "stream",
     "text": [
      "20200801T155911_20200801T160644_T18TVQ_LAI\n",
      "20200801T155911_20200801T160644_T18TVR_LAI\n",
      "20200801T155911_20200801T160644_T18TVS_LAI\n",
      "20200801T155911_20200801T160644_T18TWQ_LAI\n",
      "20200801T155911_20200801T160644_T18TWR_LAI\n"
     ]
    }
   ],
   "source": [
    "# export tasks to google drive\n",
    "export_tasks = export_collection_to_drive(collection = export_collection, \n",
    "                                          num_images = export_collection.size().getInfo(), \n",
    "                                          image_names = image_output_names, \n",
    "                                          gdrive_folder = exportFolder, \n",
    "                                          scale = 20,\n",
    "                                          data_type = exportDatatype,\n",
    "                                          max_pixels = 1e13)"
   ]
  },
  {
   "cell_type": "code",
   "execution_count": 93,
   "metadata": {},
   "outputs": [
    {
     "name": "stdout",
     "output_type": "stream",
     "text": [
      "20200801T155911_20200801T160644_T18TVQ_LAI: READY\n",
      "20200801T155911_20200801T160644_T18TVR_LAI: READY\n",
      "20200801T155911_20200801T160644_T18TVS_LAI: READY\n",
      "20200801T155911_20200801T160644_T18TWQ_LAI: READY\n",
      "20200801T155911_20200801T160644_T18TWR_LAI: READY\n"
     ]
    }
   ],
   "source": [
    "check_ee_tasks(export_tasks)"
   ]
  },
  {
   "cell_type": "code",
   "execution_count": null,
   "metadata": {},
   "outputs": [],
   "source": [
    "# sample and scatter plot outputs from SL2P vs. (a) SL2P10_10m and (b) SL2P10_20m as density histogram using matplotlib\n",
    "\n",
    "# scipy.stats.gaussian_kde\n",
    "\n"
   ]
  },
  {
   "cell_type": "code",
   "execution_count": 92,
   "metadata": {},
   "outputs": [
    {
     "data": {
      "text/html": [
       "<div style=\"width:100%;\"><div style=\"position:relative;width:100%;height:0;padding-bottom:60%;\"><span style=\"color:#565656\">Make this Notebook Trusted to load map: File -> Trust Notebook</span><iframe src=\"about:blank\" style=\"position:absolute;width:100%;height:100%;left:0;top:0;border:none !important;\" data-html=%3C%21DOCTYPE%20html%3E%0A%3Chead%3E%20%20%20%20%0A%20%20%20%20%3Cmeta%20http-equiv%3D%22content-type%22%20content%3D%22text/html%3B%20charset%3DUTF-8%22%20/%3E%0A%20%20%20%20%0A%20%20%20%20%20%20%20%20%3Cscript%3E%0A%20%20%20%20%20%20%20%20%20%20%20%20L_NO_TOUCH%20%3D%20false%3B%0A%20%20%20%20%20%20%20%20%20%20%20%20L_DISABLE_3D%20%3D%20false%3B%0A%20%20%20%20%20%20%20%20%3C/script%3E%0A%20%20%20%20%0A%20%20%20%20%3Cstyle%3Ehtml%2C%20body%20%7Bwidth%3A%20100%25%3Bheight%3A%20100%25%3Bmargin%3A%200%3Bpadding%3A%200%3B%7D%3C/style%3E%0A%20%20%20%20%3Cstyle%3E%23map%20%7Bposition%3Aabsolute%3Btop%3A0%3Bbottom%3A0%3Bright%3A0%3Bleft%3A0%3B%7D%3C/style%3E%0A%20%20%20%20%3Cscript%20src%3D%22https%3A//cdn.jsdelivr.net/npm/leaflet%401.6.0/dist/leaflet.js%22%3E%3C/script%3E%0A%20%20%20%20%3Cscript%20src%3D%22https%3A//code.jquery.com/jquery-1.12.4.min.js%22%3E%3C/script%3E%0A%20%20%20%20%3Cscript%20src%3D%22https%3A//maxcdn.bootstrapcdn.com/bootstrap/3.2.0/js/bootstrap.min.js%22%3E%3C/script%3E%0A%20%20%20%20%3Cscript%20src%3D%22https%3A//cdnjs.cloudflare.com/ajax/libs/Leaflet.awesome-markers/2.0.2/leaflet.awesome-markers.js%22%3E%3C/script%3E%0A%20%20%20%20%3Clink%20rel%3D%22stylesheet%22%20href%3D%22https%3A//cdn.jsdelivr.net/npm/leaflet%401.6.0/dist/leaflet.css%22/%3E%0A%20%20%20%20%3Clink%20rel%3D%22stylesheet%22%20href%3D%22https%3A//maxcdn.bootstrapcdn.com/bootstrap/3.2.0/css/bootstrap.min.css%22/%3E%0A%20%20%20%20%3Clink%20rel%3D%22stylesheet%22%20href%3D%22https%3A//maxcdn.bootstrapcdn.com/bootstrap/3.2.0/css/bootstrap-theme.min.css%22/%3E%0A%20%20%20%20%3Clink%20rel%3D%22stylesheet%22%20href%3D%22https%3A//maxcdn.bootstrapcdn.com/font-awesome/4.6.3/css/font-awesome.min.css%22/%3E%0A%20%20%20%20%3Clink%20rel%3D%22stylesheet%22%20href%3D%22https%3A//cdnjs.cloudflare.com/ajax/libs/Leaflet.awesome-markers/2.0.2/leaflet.awesome-markers.css%22/%3E%0A%20%20%20%20%3Clink%20rel%3D%22stylesheet%22%20href%3D%22https%3A//cdn.jsdelivr.net/gh/python-visualization/folium/folium/templates/leaflet.awesome.rotate.min.css%22/%3E%0A%20%20%20%20%0A%20%20%20%20%20%20%20%20%20%20%20%20%3Cmeta%20name%3D%22viewport%22%20content%3D%22width%3Ddevice-width%2C%0A%20%20%20%20%20%20%20%20%20%20%20%20%20%20%20%20initial-scale%3D1.0%2C%20maximum-scale%3D1.0%2C%20user-scalable%3Dno%22%20/%3E%0A%20%20%20%20%20%20%20%20%20%20%20%20%3Cstyle%3E%0A%20%20%20%20%20%20%20%20%20%20%20%20%20%20%20%20%23map_148ee0eedc9545cfaa0be5d0592d915b%20%7B%0A%20%20%20%20%20%20%20%20%20%20%20%20%20%20%20%20%20%20%20%20position%3A%20absolute%3B%0A%20%20%20%20%20%20%20%20%20%20%20%20%20%20%20%20%20%20%20%20width%3A%2050.0%25%3B%0A%20%20%20%20%20%20%20%20%20%20%20%20%20%20%20%20%20%20%20%20height%3A%20100.0%25%3B%0A%20%20%20%20%20%20%20%20%20%20%20%20%20%20%20%20%20%20%20%20left%3A%200.0%25%3B%0A%20%20%20%20%20%20%20%20%20%20%20%20%20%20%20%20%20%20%20%20top%3A%200.0%25%3B%0A%20%20%20%20%20%20%20%20%20%20%20%20%20%20%20%20%7D%0A%20%20%20%20%20%20%20%20%20%20%20%20%3C/style%3E%0A%20%20%20%20%20%20%20%20%0A%20%20%20%20%0A%20%20%20%20%20%20%20%20%20%20%20%20%3Cmeta%20name%3D%22viewport%22%20content%3D%22width%3Ddevice-width%2C%0A%20%20%20%20%20%20%20%20%20%20%20%20%20%20%20%20initial-scale%3D1.0%2C%20maximum-scale%3D1.0%2C%20user-scalable%3Dno%22%20/%3E%0A%20%20%20%20%20%20%20%20%20%20%20%20%3Cstyle%3E%0A%20%20%20%20%20%20%20%20%20%20%20%20%20%20%20%20%23map_689d12750f2e4e7ea6e6889673c495e3%20%7B%0A%20%20%20%20%20%20%20%20%20%20%20%20%20%20%20%20%20%20%20%20position%3A%20absolute%3B%0A%20%20%20%20%20%20%20%20%20%20%20%20%20%20%20%20%20%20%20%20width%3A%2050.0%25%3B%0A%20%20%20%20%20%20%20%20%20%20%20%20%20%20%20%20%20%20%20%20height%3A%20100.0%25%3B%0A%20%20%20%20%20%20%20%20%20%20%20%20%20%20%20%20%20%20%20%20left%3A%2050.0%25%3B%0A%20%20%20%20%20%20%20%20%20%20%20%20%20%20%20%20%20%20%20%20top%3A%200.0%25%3B%0A%20%20%20%20%20%20%20%20%20%20%20%20%20%20%20%20%7D%0A%20%20%20%20%20%20%20%20%20%20%20%20%3C/style%3E%0A%20%20%20%20%20%20%20%20%0A%20%20%20%20%3Cscript%20src%3D%22https%3A//cdn.jsdelivr.net/gh/jieter/Leaflet.Sync/L.Map.Sync.min.js%22%3E%3C/script%3E%0A%3C/head%3E%0A%3Cbody%3E%20%20%20%20%0A%20%20%20%20%0A%20%20%20%20%20%20%20%20%20%20%20%20%3Cdiv%20class%3D%22folium-map%22%20id%3D%22map_148ee0eedc9545cfaa0be5d0592d915b%22%20%3E%3C/div%3E%0A%20%20%20%20%20%20%20%20%0A%20%20%20%20%0A%20%20%20%20%20%20%20%20%20%20%20%20%3Cdiv%20class%3D%22folium-map%22%20id%3D%22map_689d12750f2e4e7ea6e6889673c495e3%22%20%3E%3C/div%3E%0A%20%20%20%20%20%20%20%20%0A%3C/body%3E%0A%3Cscript%3E%20%20%20%20%0A%20%20%20%20%0A%20%20%20%20%20%20%20%20%20%20%20%20var%20map_148ee0eedc9545cfaa0be5d0592d915b%20%3D%20L.map%28%0A%20%20%20%20%20%20%20%20%20%20%20%20%20%20%20%20%22map_148ee0eedc9545cfaa0be5d0592d915b%22%2C%0A%20%20%20%20%20%20%20%20%20%20%20%20%20%20%20%20%7B%0A%20%20%20%20%20%20%20%20%20%20%20%20%20%20%20%20%20%20%20%20center%3A%20%5B45.0%2C%20-75.0%5D%2C%0A%20%20%20%20%20%20%20%20%20%20%20%20%20%20%20%20%20%20%20%20crs%3A%20L.CRS.EPSG3857%2C%0A%20%20%20%20%20%20%20%20%20%20%20%20%20%20%20%20%20%20%20%20zoom%3A%209%2C%0A%20%20%20%20%20%20%20%20%20%20%20%20%20%20%20%20%20%20%20%20zoomControl%3A%20true%2C%0A%20%20%20%20%20%20%20%20%20%20%20%20%20%20%20%20%20%20%20%20preferCanvas%3A%20false%2C%0A%20%20%20%20%20%20%20%20%20%20%20%20%20%20%20%20%7D%0A%20%20%20%20%20%20%20%20%20%20%20%20%29%3B%0A%0A%20%20%20%20%20%20%20%20%20%20%20%20%0A%0A%20%20%20%20%20%20%20%20%0A%20%20%20%20%0A%20%20%20%20%20%20%20%20%20%20%20%20var%20tile_layer_bbac1386a0564dd394067171132d0c8f%20%3D%20L.tileLayer%28%0A%20%20%20%20%20%20%20%20%20%20%20%20%20%20%20%20%22https%3A//%7Bs%7D.tile.openstreetmap.org/%7Bz%7D/%7Bx%7D/%7By%7D.png%22%2C%0A%20%20%20%20%20%20%20%20%20%20%20%20%20%20%20%20%7B%22attribution%22%3A%20%22Data%20by%20%5Cu0026copy%3B%20%5Cu003ca%20href%3D%5C%22http%3A//openstreetmap.org%5C%22%5Cu003eOpenStreetMap%5Cu003c/a%5Cu003e%2C%20under%20%5Cu003ca%20href%3D%5C%22http%3A//www.openstreetmap.org/copyright%5C%22%5Cu003eODbL%5Cu003c/a%5Cu003e.%22%2C%20%22detectRetina%22%3A%20false%2C%20%22maxNativeZoom%22%3A%2018%2C%20%22maxZoom%22%3A%2018%2C%20%22minZoom%22%3A%200%2C%20%22noWrap%22%3A%20false%2C%20%22opacity%22%3A%201%2C%20%22subdomains%22%3A%20%22abc%22%2C%20%22tms%22%3A%20false%7D%0A%20%20%20%20%20%20%20%20%20%20%20%20%29.addTo%28map_148ee0eedc9545cfaa0be5d0592d915b%29%3B%0A%20%20%20%20%20%20%20%20%0A%20%20%20%20%0A%20%20%20%20%20%20%20%20%20%20%20%20var%20tile_layer_a864b2c285514c34b4e5ead0e7c5e467%20%3D%20L.tileLayer%28%0A%20%20%20%20%20%20%20%20%20%20%20%20%20%20%20%20%22https%3A//earthengine.googleapis.com/v1alpha/projects/earthengine-legacy/maps/00e7791a16dfd1a285a2644fc4fe923b-1ca245780b45cfd2195ab03d91156eb6/tiles/%7Bz%7D/%7Bx%7D/%7By%7D%22%2C%0A%20%20%20%20%20%20%20%20%20%20%20%20%20%20%20%20%7B%22attribution%22%3A%20%22Google%20Earth%20Engine%22%2C%20%22detectRetina%22%3A%20false%2C%20%22maxNativeZoom%22%3A%2018%2C%20%22maxZoom%22%3A%2018%2C%20%22minZoom%22%3A%200%2C%20%22noWrap%22%3A%20false%2C%20%22opacity%22%3A%201%2C%20%22subdomains%22%3A%20%22abc%22%2C%20%22tms%22%3A%20false%7D%0A%20%20%20%20%20%20%20%20%20%20%20%20%29.addTo%28map_148ee0eedc9545cfaa0be5d0592d915b%29%3B%0A%20%20%20%20%20%20%20%20%0A%20%20%20%20%0A%20%20%20%20%20%20%20%20%20%20%20%20var%20tile_layer_696a6bbd34e6474fb808bb53d1351e05%20%3D%20L.tileLayer%28%0A%20%20%20%20%20%20%20%20%20%20%20%20%20%20%20%20%22https%3A//earthengine.googleapis.com/v1alpha/projects/earthengine-legacy/maps/880c8f1baab6b3614cffaa35f7112454-e48e1476752935b777d7daf394980695/tiles/%7Bz%7D/%7Bx%7D/%7By%7D%22%2C%0A%20%20%20%20%20%20%20%20%20%20%20%20%20%20%20%20%7B%22attribution%22%3A%20%22Google%20Earth%20Engine%22%2C%20%22detectRetina%22%3A%20false%2C%20%22maxNativeZoom%22%3A%2018%2C%20%22maxZoom%22%3A%2018%2C%20%22minZoom%22%3A%200%2C%20%22noWrap%22%3A%20false%2C%20%22opacity%22%3A%201%2C%20%22subdomains%22%3A%20%22abc%22%2C%20%22tms%22%3A%20false%7D%0A%20%20%20%20%20%20%20%20%20%20%20%20%29.addTo%28map_148ee0eedc9545cfaa0be5d0592d915b%29%3B%0A%20%20%20%20%20%20%20%20%0A%20%20%20%20%0A%20%20%20%20%20%20%20%20%20%20%20%20var%20tile_layer_c7539741fd84480eb7d44a4b7f873b1b%20%3D%20L.tileLayer%28%0A%20%20%20%20%20%20%20%20%20%20%20%20%20%20%20%20%22https%3A//earthengine.googleapis.com/v1alpha/projects/earthengine-legacy/maps/a4a01aa542ed5a4d86ec5ae820e62fe7-13a0b9120711ca800bbc7dd8088f61c6/tiles/%7Bz%7D/%7Bx%7D/%7By%7D%22%2C%0A%20%20%20%20%20%20%20%20%20%20%20%20%20%20%20%20%7B%22attribution%22%3A%20%22Google%20Earth%20Engine%22%2C%20%22detectRetina%22%3A%20false%2C%20%22maxNativeZoom%22%3A%2018%2C%20%22maxZoom%22%3A%2018%2C%20%22minZoom%22%3A%200%2C%20%22noWrap%22%3A%20false%2C%20%22opacity%22%3A%201%2C%20%22subdomains%22%3A%20%22abc%22%2C%20%22tms%22%3A%20false%7D%0A%20%20%20%20%20%20%20%20%20%20%20%20%29.addTo%28map_148ee0eedc9545cfaa0be5d0592d915b%29%3B%0A%20%20%20%20%20%20%20%20%0A%20%20%20%20%0A%20%20%20%20%20%20%20%20%20%20%20%20var%20tile_layer_9e1fbdd156d34f3694c60ab806d6104d%20%3D%20L.tileLayer%28%0A%20%20%20%20%20%20%20%20%20%20%20%20%20%20%20%20%22https%3A//earthengine.googleapis.com/v1alpha/projects/earthengine-legacy/maps/6afda704d02283dd410cd0ecbc1fdaf0-89834df89bc2b57270895aef4d3822a9/tiles/%7Bz%7D/%7Bx%7D/%7By%7D%22%2C%0A%20%20%20%20%20%20%20%20%20%20%20%20%20%20%20%20%7B%22attribution%22%3A%20%22Google%20Earth%20Engine%22%2C%20%22detectRetina%22%3A%20false%2C%20%22maxNativeZoom%22%3A%2018%2C%20%22maxZoom%22%3A%2018%2C%20%22minZoom%22%3A%200%2C%20%22noWrap%22%3A%20false%2C%20%22opacity%22%3A%201%2C%20%22subdomains%22%3A%20%22abc%22%2C%20%22tms%22%3A%20false%7D%0A%20%20%20%20%20%20%20%20%20%20%20%20%29.addTo%28map_148ee0eedc9545cfaa0be5d0592d915b%29%3B%0A%20%20%20%20%20%20%20%20%0A%20%20%20%20%0A%20%20%20%20%20%20%20%20%20%20%20%20var%20tile_layer_d37d42c442724ff596512a526b7eedbd%20%3D%20L.tileLayer%28%0A%20%20%20%20%20%20%20%20%20%20%20%20%20%20%20%20%22https%3A//earthengine.googleapis.com/v1alpha/projects/earthengine-legacy/maps/93fae90537150687fe7f3393ca0fd988-518c37cca2c500416cc292436940d1bf/tiles/%7Bz%7D/%7Bx%7D/%7By%7D%22%2C%0A%20%20%20%20%20%20%20%20%20%20%20%20%20%20%20%20%7B%22attribution%22%3A%20%22Google%20Earth%20Engine%22%2C%20%22detectRetina%22%3A%20false%2C%20%22maxNativeZoom%22%3A%2018%2C%20%22maxZoom%22%3A%2018%2C%20%22minZoom%22%3A%200%2C%20%22noWrap%22%3A%20false%2C%20%22opacity%22%3A%201%2C%20%22subdomains%22%3A%20%22abc%22%2C%20%22tms%22%3A%20false%7D%0A%20%20%20%20%20%20%20%20%20%20%20%20%29.addTo%28map_148ee0eedc9545cfaa0be5d0592d915b%29%3B%0A%20%20%20%20%20%20%20%20%0A%20%20%20%20%0A%20%20%20%20%20%20%20%20%20%20%20%20var%20map_689d12750f2e4e7ea6e6889673c495e3%20%3D%20L.map%28%0A%20%20%20%20%20%20%20%20%20%20%20%20%20%20%20%20%22map_689d12750f2e4e7ea6e6889673c495e3%22%2C%0A%20%20%20%20%20%20%20%20%20%20%20%20%20%20%20%20%7B%0A%20%20%20%20%20%20%20%20%20%20%20%20%20%20%20%20%20%20%20%20center%3A%20%5B45.0%2C%20-75.0%5D%2C%0A%20%20%20%20%20%20%20%20%20%20%20%20%20%20%20%20%20%20%20%20crs%3A%20L.CRS.EPSG3857%2C%0A%20%20%20%20%20%20%20%20%20%20%20%20%20%20%20%20%20%20%20%20zoom%3A%209%2C%0A%20%20%20%20%20%20%20%20%20%20%20%20%20%20%20%20%20%20%20%20zoomControl%3A%20true%2C%0A%20%20%20%20%20%20%20%20%20%20%20%20%20%20%20%20%20%20%20%20preferCanvas%3A%20false%2C%0A%20%20%20%20%20%20%20%20%20%20%20%20%20%20%20%20%7D%0A%20%20%20%20%20%20%20%20%20%20%20%20%29%3B%0A%0A%20%20%20%20%20%20%20%20%20%20%20%20%0A%0A%20%20%20%20%20%20%20%20%0A%20%20%20%20%0A%20%20%20%20%20%20%20%20%20%20%20%20var%20tile_layer_4ccf088fa5994c918261bfa6eca40822%20%3D%20L.tileLayer%28%0A%20%20%20%20%20%20%20%20%20%20%20%20%20%20%20%20%22https%3A//%7Bs%7D.tile.openstreetmap.org/%7Bz%7D/%7Bx%7D/%7By%7D.png%22%2C%0A%20%20%20%20%20%20%20%20%20%20%20%20%20%20%20%20%7B%22attribution%22%3A%20%22Data%20by%20%5Cu0026copy%3B%20%5Cu003ca%20href%3D%5C%22http%3A//openstreetmap.org%5C%22%5Cu003eOpenStreetMap%5Cu003c/a%5Cu003e%2C%20under%20%5Cu003ca%20href%3D%5C%22http%3A//www.openstreetmap.org/copyright%5C%22%5Cu003eODbL%5Cu003c/a%5Cu003e.%22%2C%20%22detectRetina%22%3A%20false%2C%20%22maxNativeZoom%22%3A%2018%2C%20%22maxZoom%22%3A%2018%2C%20%22minZoom%22%3A%200%2C%20%22noWrap%22%3A%20false%2C%20%22opacity%22%3A%201%2C%20%22subdomains%22%3A%20%22abc%22%2C%20%22tms%22%3A%20false%7D%0A%20%20%20%20%20%20%20%20%20%20%20%20%29.addTo%28map_689d12750f2e4e7ea6e6889673c495e3%29%3B%0A%20%20%20%20%20%20%20%20%0A%20%20%20%20%0A%20%20%20%20%20%20%20%20%20%20%20%20var%20tile_layer_3a06472392e0416383b0a6743b9b16f6%20%3D%20L.tileLayer%28%0A%20%20%20%20%20%20%20%20%20%20%20%20%20%20%20%20%22https%3A//earthengine.googleapis.com/v1alpha/projects/earthengine-legacy/maps/3ad12957e7a5b0dd9ee96336ea5196b3-018628c454d4af6dae9c93ea96c337d6/tiles/%7Bz%7D/%7Bx%7D/%7By%7D%22%2C%0A%20%20%20%20%20%20%20%20%20%20%20%20%20%20%20%20%7B%22attribution%22%3A%20%22Google%20Earth%20Engine%22%2C%20%22detectRetina%22%3A%20false%2C%20%22maxNativeZoom%22%3A%2018%2C%20%22maxZoom%22%3A%2018%2C%20%22minZoom%22%3A%200%2C%20%22noWrap%22%3A%20false%2C%20%22opacity%22%3A%201%2C%20%22subdomains%22%3A%20%22abc%22%2C%20%22tms%22%3A%20false%7D%0A%20%20%20%20%20%20%20%20%20%20%20%20%29.addTo%28map_689d12750f2e4e7ea6e6889673c495e3%29%3B%0A%20%20%20%20%20%20%20%20%0A%20%20%20%20%0A%20%20%20%20%20%20%20%20%20%20%20%20var%20tile_layer_975af127bb594381a7ddd133b34c7908%20%3D%20L.tileLayer%28%0A%20%20%20%20%20%20%20%20%20%20%20%20%20%20%20%20%22https%3A//earthengine.googleapis.com/v1alpha/projects/earthengine-legacy/maps/93e8502fdfcefa0adf947f258222f592-5426ffb0a56b9c1b7479ec4c3b4e33a3/tiles/%7Bz%7D/%7Bx%7D/%7By%7D%22%2C%0A%20%20%20%20%20%20%20%20%20%20%20%20%20%20%20%20%7B%22attribution%22%3A%20%22Google%20Earth%20Engine%22%2C%20%22detectRetina%22%3A%20false%2C%20%22maxNativeZoom%22%3A%2018%2C%20%22maxZoom%22%3A%2018%2C%20%22minZoom%22%3A%200%2C%20%22noWrap%22%3A%20false%2C%20%22opacity%22%3A%201%2C%20%22subdomains%22%3A%20%22abc%22%2C%20%22tms%22%3A%20false%7D%0A%20%20%20%20%20%20%20%20%20%20%20%20%29.addTo%28map_689d12750f2e4e7ea6e6889673c495e3%29%3B%0A%20%20%20%20%20%20%20%20%0A%20%20%20%20%0A%20%20%20%20%20%20%20%20%20%20%20%20var%20tile_layer_469bc6042cca40ce865f01f25d9b9956%20%3D%20L.tileLayer%28%0A%20%20%20%20%20%20%20%20%20%20%20%20%20%20%20%20%22https%3A//earthengine.googleapis.com/v1alpha/projects/earthengine-legacy/maps/ad9987fe20a326c8f17d117e0c42df51-d7c2a22a0d710ba0f27a22563eef32d8/tiles/%7Bz%7D/%7Bx%7D/%7By%7D%22%2C%0A%20%20%20%20%20%20%20%20%20%20%20%20%20%20%20%20%7B%22attribution%22%3A%20%22Google%20Earth%20Engine%22%2C%20%22detectRetina%22%3A%20false%2C%20%22maxNativeZoom%22%3A%2018%2C%20%22maxZoom%22%3A%2018%2C%20%22minZoom%22%3A%200%2C%20%22noWrap%22%3A%20false%2C%20%22opacity%22%3A%201%2C%20%22subdomains%22%3A%20%22abc%22%2C%20%22tms%22%3A%20false%7D%0A%20%20%20%20%20%20%20%20%20%20%20%20%29.addTo%28map_689d12750f2e4e7ea6e6889673c495e3%29%3B%0A%20%20%20%20%20%20%20%20%0A%20%20%20%20%0A%20%20%20%20%20%20%20%20%20%20%20%20var%20tile_layer_af82f9c584ce44569874dc59951bc34f%20%3D%20L.tileLayer%28%0A%20%20%20%20%20%20%20%20%20%20%20%20%20%20%20%20%22https%3A//earthengine.googleapis.com/v1alpha/projects/earthengine-legacy/maps/f7adc3ab657f5a4bddae1c2d788f5dd7-3d869c7ae0d139ef83dbef782866d933/tiles/%7Bz%7D/%7Bx%7D/%7By%7D%22%2C%0A%20%20%20%20%20%20%20%20%20%20%20%20%20%20%20%20%7B%22attribution%22%3A%20%22Google%20Earth%20Engine%22%2C%20%22detectRetina%22%3A%20false%2C%20%22maxNativeZoom%22%3A%2018%2C%20%22maxZoom%22%3A%2018%2C%20%22minZoom%22%3A%200%2C%20%22noWrap%22%3A%20false%2C%20%22opacity%22%3A%201%2C%20%22subdomains%22%3A%20%22abc%22%2C%20%22tms%22%3A%20false%7D%0A%20%20%20%20%20%20%20%20%20%20%20%20%29.addTo%28map_689d12750f2e4e7ea6e6889673c495e3%29%3B%0A%20%20%20%20%20%20%20%20%0A%20%20%20%20%0A%20%20%20%20%20%20%20%20%20%20%20%20var%20tile_layer_87a153dae2ee4fb2b1b66692792ac335%20%3D%20L.tileLayer%28%0A%20%20%20%20%20%20%20%20%20%20%20%20%20%20%20%20%22https%3A//earthengine.googleapis.com/v1alpha/projects/earthengine-legacy/maps/713f2535dd1414a35083f9fe2c12ea4f-d5beeed8c60251a79ecfaf94a660d868/tiles/%7Bz%7D/%7Bx%7D/%7By%7D%22%2C%0A%20%20%20%20%20%20%20%20%20%20%20%20%20%20%20%20%7B%22attribution%22%3A%20%22Google%20Earth%20Engine%22%2C%20%22detectRetina%22%3A%20false%2C%20%22maxNativeZoom%22%3A%2018%2C%20%22maxZoom%22%3A%2018%2C%20%22minZoom%22%3A%200%2C%20%22noWrap%22%3A%20false%2C%20%22opacity%22%3A%201%2C%20%22subdomains%22%3A%20%22abc%22%2C%20%22tms%22%3A%20false%7D%0A%20%20%20%20%20%20%20%20%20%20%20%20%29.addTo%28map_689d12750f2e4e7ea6e6889673c495e3%29%3B%0A%20%20%20%20%20%20%20%20%0A%20%20%20%20%0A%20%20%20%20%20%20%20%20%20%20%20%20map_148ee0eedc9545cfaa0be5d0592d915b.sync%28map_689d12750f2e4e7ea6e6889673c495e3%29%3B%0A%20%20%20%20%20%20%20%20%20%20%20%20map_689d12750f2e4e7ea6e6889673c495e3.sync%28map_148ee0eedc9545cfaa0be5d0592d915b%29%3B%0A%20%20%20%20%20%20%20%20%0A%3C/script%3E onload=\"this.contentDocument.open();this.contentDocument.write(    decodeURIComponent(this.getAttribute('data-html')));this.contentDocument.close();\" allowfullscreen webkitallowfullscreen mozallowfullscreen></iframe></div></div>"
      ],
      "text/plain": [
       "<folium.plugins.dual_map.DualMap at 0x1401d5310>"
      ]
     },
     "metadata": {},
     "output_type": "display_data"
    }
   ],
   "source": [
    "# create resampled map at 20 m resolution\n",
    "\n",
    "# define image visualization parameters\n",
    "image_viz_params = {\n",
    "    'bands': ['B3', 'B4', 'B5'],\n",
    "    'min': 0,\n",
    "    'max': 0.5,\n",
    "    'gamma': [0.95, 1.1, 1]\n",
    "}\n",
    "\n",
    "# create a map visualization to add images to\n",
    "m = folium.plugins.DualMap(location = [45, -75], zoom_start = 9)\n",
    "\n",
    "# load an image\n",
    "image = ee.Image(input_collection.toList(input_collection.size()).get(0))\n",
    "\n",
    "\n",
    "# set a default projection to 20 m resolution using B5\n",
    "imageProjection = ee.Image(input_collection.toList(input_collection.size()).get(0)).select(4)\n",
    "defaultProjection = imageProjection.projection().getInfo()\n",
    "crs = defaultProjection['crs']\n",
    "transform = defaultProjection['transform']\n",
    "\n",
    "\n",
    "# generate map of original images from input_collection\n",
    "for i in range(input_collection.size().getInfo()):\n",
    "    image = ee.Image(input_collection.toList(input_collection.size()).get(i))\n",
    "    m.m1.add_ee_layer(image, image_viz_params, 'original')\n",
    "\n",
    "\n",
    "# apply above projection to all images in input_collection\n",
    "for i in range(input_collection.size().getInfo()):\n",
    "    \n",
    "    # load a copy of the image and set projection using the above\n",
    "    resampled_image = ee.Image(input_collection.toList(input_collection.size()).get(i))\n",
    "    resampled_image = resampled_image.setDefaultProjection(crs, transform)    # sets all bands to 20 m resolution\n",
    "\n",
    "    # resample the image\n",
    "    resampled_image = resampled_image.reduceResolution(reducer = ee.Reducer.mean(), maxPixels = 2)\n",
    "\n",
    "    # add the image layer to the map and display it\n",
    "    m.m2.add_ee_layer(resampled_image, image_viz_params, 'resampled')\n",
    "\n",
    "    \n",
    "# display the original and reduced resolution maps side by side\n",
    "display(m)"
   ]
  },
  {
   "cell_type": "code",
   "execution_count": null,
   "metadata": {},
   "outputs": [],
   "source": []
  }
 ],
 "metadata": {
  "kernelspec": {
   "display_name": "Python 3 (ipykernel)",
   "language": "python",
   "name": "python3"
  },
  "language_info": {
   "codemirror_mode": {
    "name": "ipython",
    "version": 3
   },
   "file_extension": ".py",
   "mimetype": "text/x-python",
   "name": "python",
   "nbconvert_exporter": "python",
   "pygments_lexer": "ipython3",
   "version": "3.9.7"
  }
 },
 "nbformat": 4,
 "nbformat_minor": 4
}
