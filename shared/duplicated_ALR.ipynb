{
 "cells": [
  {
   "cell_type": "code",
   "execution_count": 1,
   "metadata": {},
   "outputs": [
    {
     "data": {
      "text/html": [
       "<p>To authorize access needed by Earth Engine, open the following\n",
       "        URL in a web browser and follow the instructions:</p>\n",
       "        <p><a href=https://accounts.google.com/o/oauth2/auth?client_id=517222506229-vsmmajv00ul0bs7p89v5m89qs8eb9359.apps.googleusercontent.com&scope=https%3A%2F%2Fwww.googleapis.com%2Fauth%2Fearthengine+https%3A%2F%2Fwww.googleapis.com%2Fauth%2Fdevstorage.full_control&redirect_uri=urn%3Aietf%3Awg%3Aoauth%3A2.0%3Aoob&response_type=code&code_challenge=Qt934V0gy8SZHyIZlx2u1nd6TsU-Qt3bkL3n35MMvl4&code_challenge_method=S256>https://accounts.google.com/o/oauth2/auth?client_id=517222506229-vsmmajv00ul0bs7p89v5m89qs8eb9359.apps.googleusercontent.com&scope=https%3A%2F%2Fwww.googleapis.com%2Fauth%2Fearthengine+https%3A%2F%2Fwww.googleapis.com%2Fauth%2Fdevstorage.full_control&redirect_uri=urn%3Aietf%3Awg%3Aoauth%3A2.0%3Aoob&response_type=code&code_challenge=Qt934V0gy8SZHyIZlx2u1nd6TsU-Qt3bkL3n35MMvl4&code_challenge_method=S256</a></p>\n",
       "        <p>The authorization workflow will generate a code, which you\n",
       "        should paste in the box below</p>\n",
       "        "
      ],
      "text/plain": [
       "<IPython.core.display.HTML object>"
      ]
     },
     "metadata": {},
     "output_type": "display_data"
    },
    {
     "name": "stdin",
     "output_type": "stream",
     "text": [
      "Enter verification code:  4/1AX4XfWjGdc2-rMmjMO3GcJBxWgH0o_mKZmOtXJwuLFRUKf4m3vVbwUXa3eE\n"
     ]
    },
    {
     "name": "stdout",
     "output_type": "stream",
     "text": [
      "\n",
      "Successfully saved authorization token.\n"
     ]
    }
   ],
   "source": [
    "import scipy\n",
    "import scipy.io as sio\n",
    "import matplotlib.pyplot as plt\n",
    "import numpy as np\n",
    "import pandas as pd\n",
    "import sklearn\n",
    "from sklearn import preprocessing\n",
    "from sklearn import linear_model\n",
    "import tensorflow\n",
    "import ee\n",
    "import json\n",
    "from collections import OrderedDict\n",
    "import time\n",
    "import math\n",
    "import csv\n",
    "import os\n",
    "\n",
    "# import custom module\n",
    "import ALR_functions as alr\n",
    "\n",
    "ee.Authenticate()\n",
    "ee.Initialize()"
   ]
  },
  {
   "cell_type": "code",
   "execution_count": 46,
   "metadata": {},
   "outputs": [],
   "source": [
    "# order of bands from SL2P output:\n",
    "# 00-11: 'B1', 'B2', 'B3', 'B4', 'B5', 'B6', 'B7', 'B8', 'B8A', 'B9', 'B11', 'B12', \n",
    "# 12-19: 'AOT', 'WVP', 'SCL', 'TCI_R', 'TCI_G', 'TCI_B', 'MSK_CLDPRB', 'MSK_SNWPRB', \n",
    "# 20-26: 'QA10', 'QA20', 'QA60', 'date', 'cosVZA', 'cosSZA', 'cosRAA', \n",
    "# 27-32: 'estimateLAI', 'partition', 'networkID', 'errorLAI', 'partition_1', 'networkID_1'\n",
    "\n",
    "# Set output variable:\n",
    "outputName = 'fCOVER'\n",
    "    # one of: 'LAI', 'fAPAR', 'fCOVER'\n",
    "siteSelect = 'Geraldton'\n",
    "    # one of: 'Geraldton', 'FoxCreek', 'Kouchibouguac'\n",
    "\n",
    "\n",
    "outputParams = {\n",
    "    \"LAI\": {\n",
    "        \"axlim\": 8,\n",
    "        \"responseBand\": 'estimateLAI'\n",
    "    },\n",
    "    \"fAPAR\": {\n",
    "        \"axlim\": 1,\n",
    "        \"responseBand\": 'estimatefAPAR'\n",
    "    },\n",
    "    \"fCOVER\": {\n",
    "        \"axlim\": 1,\n",
    "        \"responseBand\": 'estimatefCOVER'\n",
    "    }\n",
    "}\n",
    "\n",
    "responseBand = outputParams[outputName][\"responseBand\"]\n",
    "axlim = outputParams[outputName][\"axlim\"]\n",
    "\n",
    "\n",
    "# define input image\n",
    "testImage = ee.Image('users/kateharvey/'+siteSelect+'_'+outputName)\n",
    "inputImage = ee.Image(testImage.select(0,1,2,3,4,5,6,7,8,9,10,11,22,23,27,28,29,30,31,32))\n",
    "inputImage_10m = ee.Image(testImage.select(1,2,3,7,22,23,27,28,29,30,31,32))\n",
    "\n",
    "inputImage_bands = ee.List(['B1', 'B2', 'B3', 'B4', 'B5', 'B6', 'B7', 'B8', 'B8A', 'B9', 'B11', 'B12', 'QA60', 'date', 'estimate'+outputName, 'partition', 'networkID', 'error'+outputName, 'partition_1', 'networkID_1'])\n",
    "inputImage_bands_10m = ee.List(['B2', 'B3', 'B4', 'B8', 'QA60', 'date', 'estimate'+outputName, 'partition', 'networkID', 'error'+outputName, 'partition_1', 'networkID_1'])\n",
    "\n",
    "# name bands of inputImage and scale response band\n",
    "inputImage = inputImage.rename(inputImage_bands)\n",
    "inputImage = inputImage.addBands(inputImage.select(responseBand).divide(1000), overwrite=True)\n",
    "\n",
    "inputImage_10m = inputImage_10m.rename(inputImage_bands_10m)\n",
    "inputImage_10m = inputImage_10m.addBands(inputImage_10m.select(responseBand).divide(1000), overwrite=True)"
   ]
  },
  {
   "cell_type": "markdown",
   "metadata": {},
   "source": [
    "### Vegetation Indices Sources\n",
    "\n",
    "1. https://www.hindawi.com/journals/js/2017/1353691/tab1/\n",
    "2. https://www.hiphen-plant.com/blog/vegetation-indices/\n",
    "3. https://gisgeography.com/sentinel-2-bands-combinations/"
   ]
  },
  {
   "cell_type": "code",
   "execution_count": 47,
   "metadata": {},
   "outputs": [],
   "source": [
    "# Below we define a list of strings representing the expressions for each vegetation index as a function of the bands in the input image\n",
    "# More vegetation indices can be defined, but the list CANNOT contain any two vegetation indices which are a linear combination of each\n",
    "# other or LARs will fail to select the requested number of variables\n",
    "\n",
    "# The formatting of the expression must be\n",
    "# \"<name of VI> = <expression with band names from inputImage_bands used as variables in the form b('<band name>')\"\n",
    "\n",
    "# Only include VIs that use 10 m bands (B2, B3, B4, B8)\n",
    "input_VI_definition_10m = ee.List([\"RAW_B2  = b('B2')\",\n",
    "                                   \"RAW_B3  = b('B3')\",\n",
    "                                   \"RAW_B4  = b('B4')\",\n",
    "                                   \"RAW_B8  = b('B8')\",\n",
    "                                   \"GI      = b('B3')/b('B4')\",\n",
    "                                 # \"RVI3    = b('B4')/b('B6')\",\n",
    "                                 # \"SR3     = b('B5')/b('B4')\",\n",
    "                                 # \"GM1     = b('B6')/b('B3')\",\n",
    "                                 # \"GM2     = b('B6')/b('B5')\",\n",
    "                                 # \"SR2     = b('B7')/b('B3')\",\n",
    "                                 # \"PSSR    = b('B7')/b('B4')\",\n",
    "                                   \"SGI     = b('B8')/b('B4')\",\n",
    "                                 # \"MSI     = b('B11')/b('B7')\",\n",
    "                                 # \"II      = b('B11')/b('B12')\",\n",
    "                                   \"GVI     = (b('B8')/b('B3'))-1\",\n",
    "                                 # \"PSRI    = (b('B4')-b('B3'))/b('B6')\",\n",
    "                                   \"NDVI3   = ((b('B8')-b('B4'))/(b('B8')))+b('B4')\",\n",
    "                                 # \"SR5     = 1/b('B5')\",\n",
    "                                 # \"SR6     = b('B4')/(b('B3')*b('B5'))\",\n",
    "                                 # \"SR7     = b('B8')/(b('B3')*b('B5'))\",\n",
    "                                 # \"IPVI    = b('B7')/(b('B7')+b('B4'))\",\n",
    "                                 # \"ARI     = (1/b('B3'))-(1/b('B5'))\",\n",
    "                                 # \"ARI2    = b('B7')*((1/b('B3'))-(1/b('B5')))\",\n",
    "                                   \"NDVI    = (b('B8')-b('B4'))/(b('B8')+b('B4'))\",\n",
    "                                   \"GNDVI   = (b('B8')-b('B3'))/(b('B8')+b('B3'))\",\n",
    "                                 # \"NDWI    = (b('B8')-b('B11'))/(b('B8')+b('B11'))\",\n",
    "                                 # \"NDREVI  = (b('B8')-b('B5'))/(b('B8')+b('B5'))\",\n",
    "                                   \"NDGI    = (b('B3')-b('B4'))/(b('B3')+b('B4'))\",\n",
    "                                 # \"NDI1    = (b('B7')-b('B5'))/(b('B7')-b('B4'))\",\n",
    "                                 # \"NDI2    = (b('B8')-b('B5'))/(b('B8')-b('B4'))\",\n",
    "                                 # \"RENDVI  = (b('B6')-b('B5'))/(b('B6')+b('B5'))\",\n",
    "                                 # \"OSAVI   = (1.16*(b('B7')-b('B4')))/(b('B7')+b('B4')+0.61)\",\n",
    "                                 # \"NMDI    = (b('B8')-(b('B11')-b('B12')))/(b('B8')+(b('B11')-b('B12')))\",\n",
    "                                 # \"HI      = ((b('B3')-b('B5'))/(b('B3')+b('B5')))-0.5*b('B5')\",\n",
    "                                 # \"GVSP    = (-0.283*b('B3') - 0.66*b('B4') + 0.577*b('B6') + 0.388*b('B8'))/(0.433*b('B3') - 0.632*b('B4') + 0.586*b('B6') + 0.264*b('B8A'))\",\n",
    "                                 # \"MCARI   = ((b('B5')-b('B4'))-0.2*(b('B5')-b('B3')))*(b('B5')/b('B4'))\",\n",
    "                                 # \"TCARI   = 3*((b('B5')-b('B4'))-0.2*(b('B5')-b('B3'))*(b('B5')/b('B4')))\",\n",
    "                                   \"EVI     = 2.5*((b('B8')-b('B4'))/(b('B8')+6*b('B4')-7.5*b('B3')+1))\",\n",
    "                                   \"EVI2    = 2.5*((b('B8')-b('B4'))/(b('B8')+2.4*b('B4')+1))\",\n",
    "                                   \"RDVI    = (b('B8')-b('B4'))/((b('B8')+b('B4'))**0.5)\",\n",
    "                                   \"MSR     = ((b('B8')/b('B4'))-1)/((b('B8')/b('B4'))**0.5+1)\",\n",
    "                                 # \"MSAVI   = 0.5*(2*b('B7')+1-((2*b('B7')+1)**2-8*(b('B7')-b('B4')))**0.5)\",\n",
    "                                   \"MSAVI2  = 0.5*(2*b('B8')+1-((2*b('B8')+1)**2-8*(b('B8')-b('B4')))**0.5)\",\n",
    "                                 # \"MCARI2  = (1.5*(2.5*(b('B7')-b('B4'))-1.3*(b('B7')-b('B3'))))/((((2*b('B7')+1)**2)-(6*b('B7')-5*(b('B4')**0.5))-0.5)**0.5)\",\n",
    "                                 # \"MTVI2   = (1.5*(1.2*(b('B7')-b('B3'))-2.5*(b('B4')-b('B3'))))/(((2*b('B7')+1)**2-(6*b('B7')-5*b('B4'))-0.5)**0.5)\",\n",
    "                                 # \"MSR2    = ((b('B7')/b('B4'))-1)/(((b('B7')/b('B4'))+1)**0.5)\",\n",
    "                                   \"NLI     = ((b('B8')**2)-b('B4'))/((b('B8')**2)+b('B4'))\"])\n",
    "\n",
    "\n",
    "input_VI_definition = ee.List([\"GI      = b('B3')/b('B4')\",\n",
    "                              \"RVI3    = b('B4')/b('B6')\",\n",
    "                              \"SR3     = b('B5')/b('B4')\",\n",
    "                              \"GM1     = b('B6')/b('B3')\",\n",
    "                              \"GM2     = b('B6')/b('B5')\",\n",
    "                              \"SR2     = b('B7')/b('B3')\",\n",
    "                              \"PSSR    = b('B7')/b('B4')\",\n",
    "                              \"SGI     = b('B8A')/b('B4')\",\n",
    "                              \"MSI     = b('B11')/b('B7')\",\n",
    "                              \"II      = b('B11')/b('B12')\",\n",
    "                              \"GVI     = (b('B8A')/b('B3'))-1\",\n",
    "                              \"PSRI    = (b('B4')-b('B3'))/b('B6')\",\n",
    "                              \"NDVI3   = ((b('B8A')-b('B4'))/(b('B8A')))+b('B4')\",\n",
    "                              \"SR5     = 1/b('B5')\",\n",
    "                              \"SR6     = b('B4')/(b('B3')*b('B5'))\",\n",
    "                              \"SR7     = b('B8A')/(b('B3')*b('B5'))\",\n",
    "                              \"IPVI    = b('B7')/(b('B7')+b('B4'))\",\n",
    "                              \"ARI     = (1/b('B3'))-(1/b('B5'))\",\n",
    "                              \"ARI2    = b('B7')*((1/b('B3'))-(1/b('B5')))\",\n",
    "                              \"NDVI    = (b('B8A')-b('B4'))/(b('B8A')+b('B4'))\",\n",
    "                              \"GNDVI   = (b('B8A')-b('B3'))/(b('B8A')+b('B3'))\",\n",
    "                              \"NDWI    = (b('B8A')-b('B11'))/(b('B8A')+b('B11'))\",\n",
    "                              \"NDREVI  = (b('B8A')-b('B5'))/(b('B8A')+b('B5'))\",\n",
    "                              \"NDGI    = (b('B3')-b('B4'))/(b('B3')+b('B4'))\",\n",
    "                              \"NDI1    = (b('B7')-b('B5'))/(b('B7')-b('B4'))\",\n",
    "                              \"NDI2    = (b('B8A')-b('B5'))/(b('B8A')-b('B4'))\",\n",
    "                              \"RENDVI  = (b('B6')-b('B5'))/(b('B6')+b('B5'))\",\n",
    "                              \"OSAVI   = (1.16*(b('B7')-b('B4')))/(b('B7')+b('B4')+0.61)\",\n",
    "                              \"NMDI    = (b('B8A')-(b('B11')-b('B12')))/(b('B8A')+(b('B11')-b('B12')))\",\n",
    "                              \"HI      = ((b('B3')-b('B5'))/(b('B3')+b('B5')))-0.5*b('B5')\",\n",
    "                              \"GVSP    = (-0.283*b('B3') - 0.66*b('B4') + 0.577*b('B6') + 0.388*b('B8A'))/(0.433*b('B3') - 0.632*b('B4') + 0.586*b('B6') + 0.264*b('B8A'))\",\n",
    "                              \"MCARI   = ((b('B5')-b('B4'))-0.2*(b('B5')-b('B3')))*(b('B5')/b('B4'))\",\n",
    "                              \"TCARI   = 3*((b('B5')-b('B4'))-0.2*(b('B5')-b('B3'))*(b('B5')/b('B4')))\",\n",
    "                              \"EVI     = 2.5*((b('B8A')-b('B4'))/(b('B8A')+6*b('B4')-7.5*b('B3')+1))\",\n",
    "                              \"EVI2    = 2.5*((b('B8A')-b('B4'))/(b('B8A')+2.4*b('B4')+1))\",\n",
    "                              \"RDVI    = (b('B8A')-b('B4'))/((b('B8A')+b('B4'))**0.5)\",\n",
    "                              \"MSR     = ((b('B8A')/b('B4'))-1)/((b('B8A')/b('B4'))**0.5+1)\",\n",
    "                              \"MSAVI   = 0.5*(2*b('B7')+1-((2*b('B7')+1)**2-8*(b('B7')-b('B4')))**0.5)\",\n",
    "                              \"MSAVI2  = 0.5*(2*b('B8A')+1-((2*b('B8A')+1)**2-8*(b('B8A')-b('B4')))**0.5)\",\n",
    "                              \"MCARI2  = (1.5*(2.5*(b('B7')-b('B4'))-1.3*(b('B7')-b('B3'))))/((((2*b('B7')+1)**2)-(6*b('B7')-5*(b('B4')**0.5))-0.5)**0.5)\",\n",
    "                              \"MTVI2   = (1.5*(1.2*(b('B7')-b('B3'))-2.5*(b('B4')-b('B3'))))/(((2*b('B7')+1)**2-(6*b('B7')-5*b('B4'))-0.5)**0.5)\",\n",
    "                              \"MSR2    = ((b('B7')/b('B4'))-1)/(((b('B7')/b('B4'))+1)**0.5)\",\n",
    "                              \"NLI     = ((b('B8A')**2)-b('B4'))/((b('B8A')**2)+b('B4'))\"])"
   ]
  },
  {
   "cell_type": "markdown",
   "metadata": {},
   "source": [
    "In the following functions each input is recast to the expected data type as function parameter typing is not enforced in Earth Engine\n",
    "when defining functions, and later methods called on these parameters within the function must recognize the type of the parameter\n",
    "independently of other code"
   ]
  },
  {
   "cell_type": "markdown",
   "metadata": {},
   "source": [
    "### Process images and and run LARS:"
   ]
  },
  {
   "cell_type": "code",
   "execution_count": 48,
   "metadata": {},
   "outputs": [],
   "source": [
    "inputImage = alr.format_image(inputImage, inputImage_bands, responseBand, input_VI_definition)\n",
    "inputImage_10m = alr.format_image(inputImage_10m, inputImage_bands_10m, responseBand, input_VI_definition_10m)"
   ]
  },
  {
   "cell_type": "code",
   "execution_count": 49,
   "metadata": {},
   "outputs": [],
   "source": [
    "num_input_pixels = alr.get_num_pixels(inputImage)"
   ]
  },
  {
   "cell_type": "code",
   "execution_count": 50,
   "metadata": {},
   "outputs": [],
   "source": [
    "scaledImage = alr.scale_image(inputImage, responseBand)\n",
    "scaledImage_10m = alr.scale_image(inputImage_10m, responseBand)"
   ]
  },
  {
   "cell_type": "code",
   "execution_count": 51,
   "metadata": {},
   "outputs": [],
   "source": [
    "# names of bands to pass to ee_LARS function (only want Sentinel 2 bands and VIs)\n",
    "input_bandNames = ['B2', 'B3', 'B4', 'B8', 'GI', 'SGI', 'GVI', 'NDVI3', 'NDVI',\n",
    "                   'GNDVI', 'NDGI', 'EVI', 'EVI2', 'RDVI', 'MSR', 'MSAVI2', 'NLI']"
   ]
  },
  {
   "cell_type": "code",
   "execution_count": 52,
   "metadata": {
    "scrolled": true
   },
   "outputs": [
    {
     "name": "stdout",
     "output_type": "stream",
     "text": [
      "selected features:  ['RDVI', 'SGI', 'B8', 'NDGI', 'B4']\n",
      "selected features:  ['RDVI', 'SGI', 'B8', 'GVI', 'B4']\n"
     ]
    }
   ],
   "source": [
    "select_features = alr.ee_LARS(scaledImage, input_bandNames, responseBand, 5, 10000)\n",
    "select_features_10m = alr.ee_LARS(scaledImage_10m, input_bandNames, responseBand, 5, 10000)"
   ]
  },
  {
   "cell_type": "markdown",
   "metadata": {},
   "source": [
    "Currently the trimmed data is processed then in a neural network created using tensorflow to find nonlinear relationships between the predictor and the response. Earth Engine does not have this functionality (for free) to generate neural network based models.\n",
    "\n",
    "Here we also see how the server side in the Earth Engine API is completely separate from the client side on the local machine. We need\n",
    "to export our trimmed data as a CSV to a google drive which is synced into the \"gdrive\" folder in our local machine using the \n",
    "Backup and Sync software or using google-drive-ocamlfuse on Linux"
   ]
  },
  {
   "cell_type": "markdown",
   "metadata": {},
   "source": [
    "### Export CSV of 20m data:"
   ]
  },
  {
   "cell_type": "code",
   "execution_count": 53,
   "metadata": {},
   "outputs": [],
   "source": [
    "trimmed_collection=alr.trim_data(image=inputImage.updateMask(inputImage.select(responseBand).gt(0)),\n",
    "                                 selected_features=select_features,\n",
    "                                 response_band=responseBand,\n",
    "                                 num_samples=10000,\n",
    "                                 num_partitions=10)\n",
    "\n",
    "# Creating the export task on the server side from Earth Engine. Remember that the data will be exported to the google drive of the google\n",
    "# account you used when you initiated the Earth Engine API authentication flow, so ensure that, that accounts drive is synced to the \n",
    "# gdrive folder in the same folder as this script\n",
    "exportData = ee.batch.Export.table.toDrive(collection=trimmed_collection,\n",
    "                                           description=siteSelect+'_'+outputName,\n",
    "                                           fileFormat=\"CSV\")\n",
    "\n",
    "# Starting the export data task\n",
    "exportData.start()"
   ]
  },
  {
   "cell_type": "code",
   "execution_count": 54,
   "metadata": {
    "scrolled": true
   },
   "outputs": [
    {
     "name": "stdout",
     "output_type": "stream",
     "text": [
      "READY\n",
      "RUNNING\n",
      "COMPLETED\n"
     ]
    }
   ],
   "source": [
    "# Essentially a wait loop to see if the data has finished exporting by checking with the server-side\n",
    "prev_task_status = ee.data.getTaskStatus(exportData.id)[0][\"state\"]\n",
    "print(prev_task_status)\n",
    "while exportData.active():\n",
    "    task_status = ee.data.getTaskStatus(exportData.id)[0][\"state\"]\n",
    "    if(task_status != prev_task_status):\n",
    "        print(task_status)\n",
    "    prev_task_status = task_status\n",
    "    time.sleep(5)\n",
    "print(ee.data.getTaskStatus(exportData.id)[0][\"state\"])"
   ]
  },
  {
   "cell_type": "code",
   "execution_count": 55,
   "metadata": {},
   "outputs": [],
   "source": [
    "# Reading the CSV file into dataframes\n",
    "trimmed_data = pd.read_csv('./gdrive/'+siteSelect+'_'+outputName+'.csv')\n",
    "X = trimmed_data.drop(labels=[responseBand, 'system:index', '.geo'], axis=1)\n",
    "y = trimmed_data[responseBand]\n",
    "\n",
    "# We preprocess the input features by standardizing them to a mean of 0 and a standard deviation of 1 for the neural network\n",
    "X = pd.DataFrame(sklearn.preprocessing.scale(X))"
   ]
  },
  {
   "cell_type": "code",
   "execution_count": 56,
   "metadata": {},
   "outputs": [],
   "source": [
    "# Using Keras to create a sequential model neural network which only has simple dense layers of the specified number of nodes\n",
    "LAI_model = tensorflow.keras.models.Sequential([\n",
    "    tensorflow.keras.layers.Dense(5, input_shape=[len(X.keys())]),\n",
    "    tensorflow.keras.layers.Dense(4, activation=\"softsign\"),\n",
    "    tensorflow.keras.layers.Dense(3, activation=\"softsign\"),\n",
    "    tensorflow.keras.layers.Dense(2, activation=\"softsign\"),\n",
    "    tensorflow.keras.layers.Dense(1)\n",
    "])\n",
    "# Compiling the model to minimize the mean squared error loss function and use the NADAM optimizer\n",
    "LAI_model.compile(\n",
    "    optimizer=tensorflow.keras.optimizers.Nadam(),\n",
    "    loss='mse',\n",
    "    metrics=['mse', 'mae'])"
   ]
  },
  {
   "cell_type": "code",
   "execution_count": 57,
   "metadata": {
    "scrolled": true
   },
   "outputs": [
    {
     "name": "stdout",
     "output_type": "stream",
     "text": [
      "Epoch 1/100\n",
      "220/220 [==============================] - 3s 3ms/step - loss: 0.3538 - mse: 0.3538 - mae: 0.4234\n",
      "Epoch 2/100\n",
      "220/220 [==============================] - 1s 2ms/step - loss: 0.0081 - mse: 0.0081 - mae: 0.0622\n",
      "Epoch 3/100\n",
      "220/220 [==============================] - 0s 2ms/step - loss: 0.0034 - mse: 0.0034 - mae: 0.0407\n",
      "Epoch 4/100\n",
      "220/220 [==============================] - 1s 5ms/step - loss: 0.0015 - mse: 0.0015 - mae: 0.0281\n",
      "Epoch 5/100\n",
      "220/220 [==============================] - 1s 4ms/step - loss: 9.3665e-04 - mse: 9.3665e-04 - mae: 0.0233\n",
      "Epoch 6/100\n",
      "220/220 [==============================] - 1s 3ms/step - loss: 7.2951e-04 - mse: 7.2951e-04 - mae: 0.0209\n",
      "Epoch 7/100\n",
      "220/220 [==============================] - 1s 4ms/step - loss: 6.4762e-04 - mse: 6.4762e-04 - mae: 0.0198\n",
      "Epoch 8/100\n",
      "220/220 [==============================] - 1s 3ms/step - loss: 5.6803e-04 - mse: 5.6803e-04 - mae: 0.0187\n",
      "Epoch 9/100\n",
      "220/220 [==============================] - 0s 2ms/step - loss: 5.2666e-04 - mse: 5.2666e-04 - mae: 0.0179\n",
      "Epoch 10/100\n",
      "220/220 [==============================] - 1s 3ms/step - loss: 4.7548e-04 - mse: 4.7548e-04 - mae: 0.0170\n",
      "Epoch 11/100\n",
      "220/220 [==============================] - 1s 4ms/step - loss: 4.5555e-04 - mse: 4.5555e-04 - mae: 0.0168\n",
      "Epoch 12/100\n",
      "220/220 [==============================] - 0s 2ms/step - loss: 4.3337e-04 - mse: 4.3337e-04 - mae: 0.0163\n",
      "Epoch 13/100\n",
      "220/220 [==============================] - 1s 3ms/step - loss: 3.9452e-04 - mse: 3.9452e-04 - mae: 0.0155\n",
      "Epoch 14/100\n",
      "220/220 [==============================] - 1s 3ms/step - loss: 3.7758e-04 - mse: 3.7758e-04 - mae: 0.0152\n",
      "Epoch 15/100\n",
      "220/220 [==============================] - 1s 5ms/step - loss: 3.4694e-04 - mse: 3.4694e-04 - mae: 0.0146\n",
      "Epoch 16/100\n",
      "220/220 [==============================] - 1s 5ms/step - loss: 3.3520e-04 - mse: 3.3520e-04 - mae: 0.0143\n",
      "Epoch 17/100\n",
      "220/220 [==============================] - 1s 5ms/step - loss: 3.0958e-04 - mse: 3.0958e-04 - mae: 0.0137\n",
      "Epoch 18/100\n",
      "220/220 [==============================] - 1s 4ms/step - loss: 2.9757e-04 - mse: 2.9757e-04 - mae: 0.0135\n",
      "Epoch 19/100\n",
      "220/220 [==============================] - 1s 3ms/step - loss: 2.6812e-04 - mse: 2.6812e-04 - mae: 0.0128\n",
      "Epoch 20/100\n",
      "220/220 [==============================] - 1s 3ms/step - loss: 2.5144e-04 - mse: 2.5144e-04 - mae: 0.0124\n",
      "Epoch 21/100\n",
      "220/220 [==============================] - 1s 6ms/step - loss: 2.3646e-04 - mse: 2.3646e-04 - mae: 0.0121A: 0s - loss: 2.3254e-04 - mse: 2.3254e-04 -\n",
      "Epoch 22/100\n",
      "220/220 [==============================] - 1s 5ms/step - loss: 2.2737e-04 - mse: 2.2737e-04 - mae: 0.0118\n",
      "Epoch 23/100\n",
      "220/220 [==============================] - 1s 3ms/step - loss: 2.1758e-04 - mse: 2.1758e-04 - mae: 0.0115\n",
      "Epoch 24/100\n",
      "220/220 [==============================] - 1s 4ms/step - loss: 2.1289e-04 - mse: 2.1289e-04 - mae: 0.0115\n",
      "Epoch 25/100\n",
      "220/220 [==============================] - 1s 3ms/step - loss: 2.0155e-04 - mse: 2.0155e-04 - mae: 0.0110\n",
      "Epoch 26/100\n",
      "220/220 [==============================] - 1s 4ms/step - loss: 1.9689e-04 - mse: 1.9689e-04 - mae: 0.0109A: 0s - loss: 2.0596e-04 - mse: 2.0596e-04 - \n",
      "Epoch 27/100\n",
      "220/220 [==============================] - 1s 2ms/step - loss: 1.9289e-04 - mse: 1.9289e-04 - mae: 0.0108\n",
      "Epoch 28/100\n",
      "220/220 [==============================] - 1s 3ms/step - loss: 1.8339e-04 - mse: 1.8339e-04 - mae: 0.0106\n",
      "Epoch 29/100\n",
      "220/220 [==============================] - 1s 2ms/step - loss: 1.7853e-04 - mse: 1.7853e-04 - mae: 0.0104\n",
      "Epoch 30/100\n",
      "220/220 [==============================] - 1s 5ms/step - loss: 1.7649e-04 - mse: 1.7649e-04 - mae: 0.0103\n",
      "Epoch 31/100\n",
      "220/220 [==============================] - 1s 6ms/step - loss: 1.7479e-04 - mse: 1.7479e-04 - mae: 0.0103\n",
      "Epoch 32/100\n",
      "220/220 [==============================] - 1s 6ms/step - loss: 1.6782e-04 - mse: 1.6782e-04 - mae: 0.0101A: 0s - loss: 1.6769e-04 - mse: 1.6769e-04\n",
      "Epoch 33/100\n",
      "220/220 [==============================] - 1s 4ms/step - loss: 1.6958e-04 - mse: 1.6958e-04 - mae: 0.0101\n",
      "Epoch 34/100\n",
      "220/220 [==============================] - 1s 4ms/step - loss: 1.5680e-04 - mse: 1.5680e-04 - mae: 0.0098A: 0s - loss: 1.5669e-04 - mse: 1.5669e-04 - m\n",
      "Epoch 35/100\n",
      "220/220 [==============================] - 1s 3ms/step - loss: 1.5772e-04 - mse: 1.5772e-04 - mae: 0.0097\n",
      "Epoch 36/100\n",
      "220/220 [==============================] - 1s 3ms/step - loss: 1.4389e-04 - mse: 1.4389e-04 - mae: 0.0093\n",
      "Epoch 37/100\n",
      "220/220 [==============================] - 1s 3ms/step - loss: 1.4513e-04 - mse: 1.4513e-04 - mae: 0.0094\n",
      "Epoch 38/100\n",
      "220/220 [==============================] - 1s 4ms/step - loss: 1.4188e-04 - mse: 1.4188e-04 - mae: 0.0092\n",
      "Epoch 39/100\n",
      "220/220 [==============================] - 1s 3ms/step - loss: 1.3875e-04 - mse: 1.3875e-04 - mae: 0.0092\n",
      "Epoch 40/100\n",
      "220/220 [==============================] - 1s 4ms/step - loss: 1.3473e-04 - mse: 1.3473e-04 - mae: 0.0091\n",
      "Epoch 41/100\n",
      "220/220 [==============================] - 1s 4ms/step - loss: 1.3748e-04 - mse: 1.3748e-04 - mae: 0.0092\n",
      "Epoch 42/100\n",
      "220/220 [==============================] - 1s 3ms/step - loss: 1.3167e-04 - mse: 1.3167e-04 - mae: 0.0090\n",
      "Epoch 43/100\n",
      "220/220 [==============================] - 1s 3ms/step - loss: 1.2958e-04 - mse: 1.2958e-04 - mae: 0.0089\n",
      "Epoch 44/100\n",
      "220/220 [==============================] - 1s 3ms/step - loss: 1.3433e-04 - mse: 1.3433e-04 - mae: 0.0090A: 0s - loss: 1.3532e-04 - mse: 1.3532e-04 - mae: 0.0\n",
      "Epoch 45/100\n",
      "220/220 [==============================] - 1s 3ms/step - loss: 1.3187e-04 - mse: 1.3187e-04 - mae: 0.0090\n",
      "Epoch 46/100\n",
      "220/220 [==============================] - 1s 2ms/step - loss: 1.3028e-04 - mse: 1.3028e-04 - mae: 0.0089\n",
      "Epoch 47/100\n",
      "220/220 [==============================] - 1s 2ms/step - loss: 1.2634e-04 - mse: 1.2634e-04 - mae: 0.0088\n",
      "Epoch 48/100\n",
      "220/220 [==============================] - 1s 3ms/step - loss: 1.3140e-04 - mse: 1.3140e-04 - mae: 0.0089\n",
      "Epoch 49/100\n",
      "220/220 [==============================] - 1s 3ms/step - loss: 1.2913e-04 - mse: 1.2913e-04 - mae: 0.0088\n",
      "Epoch 50/100\n",
      "220/220 [==============================] - 1s 2ms/step - loss: 1.2620e-04 - mse: 1.2620e-04 - mae: 0.0088\n",
      "Epoch 51/100\n",
      "220/220 [==============================] - 1s 3ms/step - loss: 1.2619e-04 - mse: 1.2619e-04 - mae: 0.0087\n",
      "Epoch 52/100\n",
      "220/220 [==============================] - 1s 3ms/step - loss: 1.2554e-04 - mse: 1.2554e-04 - mae: 0.0087\n",
      "Epoch 53/100\n",
      "220/220 [==============================] - 1s 2ms/step - loss: 1.2272e-04 - mse: 1.2272e-04 - mae: 0.0087\n",
      "Epoch 54/100\n",
      "220/220 [==============================] - 1s 2ms/step - loss: 1.2777e-04 - mse: 1.2777e-04 - mae: 0.0088\n",
      "Epoch 55/100\n",
      "220/220 [==============================] - 1s 2ms/step - loss: 1.2817e-04 - mse: 1.2817e-04 - mae: 0.0089\n",
      "Epoch 56/100\n",
      "220/220 [==============================] - 1s 3ms/step - loss: 1.2487e-04 - mse: 1.2487e-04 - mae: 0.0087\n",
      "Epoch 57/100\n",
      "220/220 [==============================] - 1s 3ms/step - loss: 1.2508e-04 - mse: 1.2508e-04 - mae: 0.0088\n",
      "Epoch 58/100\n",
      "220/220 [==============================] - 1s 2ms/step - loss: 1.2662e-04 - mse: 1.2662e-04 - mae: 0.0088\n",
      "Epoch 59/100\n",
      "220/220 [==============================] - 1s 2ms/step - loss: 1.2372e-04 - mse: 1.2372e-04 - mae: 0.0087\n",
      "Epoch 60/100\n",
      "220/220 [==============================] - 1s 2ms/step - loss: 1.2242e-04 - mse: 1.2242e-04 - mae: 0.0086\n",
      "Epoch 61/100\n",
      "220/220 [==============================] - 1s 3ms/step - loss: 1.2852e-04 - mse: 1.2852e-04 - mae: 0.0088\n",
      "Epoch 62/100\n",
      "220/220 [==============================] - 1s 2ms/step - loss: 1.1700e-04 - mse: 1.1700e-04 - mae: 0.0085\n",
      "Epoch 63/100\n",
      "220/220 [==============================] - 1s 4ms/step - loss: 1.2121e-04 - mse: 1.2121e-04 - mae: 0.0087\n",
      "Epoch 64/100\n",
      "220/220 [==============================] - 1s 3ms/step - loss: 1.3046e-04 - mse: 1.3046e-04 - mae: 0.0089\n",
      "Epoch 65/100\n",
      "220/220 [==============================] - 1s 3ms/step - loss: 1.2599e-04 - mse: 1.2599e-04 - mae: 0.0088\n",
      "Epoch 66/100\n",
      "220/220 [==============================] - 1s 3ms/step - loss: 1.2632e-04 - mse: 1.2632e-04 - mae: 0.0088\n",
      "Epoch 67/100\n",
      "220/220 [==============================] - 1s 2ms/step - loss: 1.1877e-04 - mse: 1.1877e-04 - mae: 0.0085\n",
      "Epoch 68/100\n",
      "220/220 [==============================] - 1s 2ms/step - loss: 1.2107e-04 - mse: 1.2107e-04 - mae: 0.0085\n",
      "Epoch 69/100\n",
      "220/220 [==============================] - 0s 2ms/step - loss: 1.2524e-04 - mse: 1.2524e-04 - mae: 0.0087\n",
      "Epoch 70/100\n",
      "220/220 [==============================] - 0s 2ms/step - loss: 1.2764e-04 - mse: 1.2764e-04 - mae: 0.0088\n",
      "Epoch 71/100\n",
      "220/220 [==============================] - 1s 2ms/step - loss: 1.2517e-04 - mse: 1.2517e-04 - mae: 0.0087\n",
      "Epoch 72/100\n",
      "220/220 [==============================] - 1s 2ms/step - loss: 1.2205e-04 - mse: 1.2205e-04 - mae: 0.0086\n",
      "Epoch 73/100\n",
      "220/220 [==============================] - 1s 2ms/step - loss: 1.2285e-04 - mse: 1.2285e-04 - mae: 0.0087\n",
      "Epoch 74/100\n",
      "220/220 [==============================] - 0s 2ms/step - loss: 1.2730e-04 - mse: 1.2730e-04 - mae: 0.0087\n",
      "Epoch 75/100\n",
      "220/220 [==============================] - 0s 2ms/step - loss: 1.2427e-04 - mse: 1.2427e-04 - mae: 0.0087\n",
      "Epoch 76/100\n",
      "220/220 [==============================] - 0s 2ms/step - loss: 1.2395e-04 - mse: 1.2395e-04 - mae: 0.0087\n",
      "Epoch 77/100\n",
      "220/220 [==============================] - 1s 2ms/step - loss: 1.2550e-04 - mse: 1.2550e-04 - mae: 0.0088\n",
      "Epoch 78/100\n",
      "220/220 [==============================] - 1s 3ms/step - loss: 1.2692e-04 - mse: 1.2692e-04 - mae: 0.0087\n",
      "Epoch 79/100\n",
      "220/220 [==============================] - 1s 2ms/step - loss: 1.3092e-04 - mse: 1.3092e-04 - mae: 0.0089\n",
      "Epoch 80/100\n",
      "220/220 [==============================] - 1s 2ms/step - loss: 1.2339e-04 - mse: 1.2339e-04 - mae: 0.0087\n",
      "Epoch 81/100\n",
      "220/220 [==============================] - 0s 2ms/step - loss: 1.2626e-04 - mse: 1.2626e-04 - mae: 0.0088\n",
      "Epoch 82/100\n",
      "220/220 [==============================] - 1s 2ms/step - loss: 1.2214e-04 - mse: 1.2214e-04 - mae: 0.0086\n",
      "Epoch 83/100\n",
      "220/220 [==============================] - 1s 3ms/step - loss: 1.2597e-04 - mse: 1.2597e-04 - mae: 0.0088\n",
      "Epoch 84/100\n",
      "220/220 [==============================] - 1s 3ms/step - loss: 1.2619e-04 - mse: 1.2619e-04 - mae: 0.0087\n",
      "Epoch 85/100\n",
      "220/220 [==============================] - 1s 3ms/step - loss: 1.2487e-04 - mse: 1.2487e-04 - mae: 0.0087\n",
      "Epoch 86/100\n",
      "220/220 [==============================] - 1s 2ms/step - loss: 1.2349e-04 - mse: 1.2349e-04 - mae: 0.0086\n",
      "Epoch 87/100\n",
      "220/220 [==============================] - 1s 2ms/step - loss: 1.2575e-04 - mse: 1.2575e-04 - mae: 0.0087\n",
      "Epoch 88/100\n",
      "220/220 [==============================] - 1s 2ms/step - loss: 1.2023e-04 - mse: 1.2023e-04 - mae: 0.0085\n",
      "Epoch 89/100\n",
      "220/220 [==============================] - 0s 2ms/step - loss: 1.2284e-04 - mse: 1.2284e-04 - mae: 0.0087\n",
      "Epoch 90/100\n",
      "220/220 [==============================] - 1s 2ms/step - loss: 1.2078e-04 - mse: 1.2078e-04 - mae: 0.0086\n",
      "Epoch 91/100\n",
      "220/220 [==============================] - 1s 2ms/step - loss: 1.2597e-04 - mse: 1.2597e-04 - mae: 0.0088\n",
      "Epoch 92/100\n",
      "220/220 [==============================] - 0s 2ms/step - loss: 1.2329e-04 - mse: 1.2329e-04 - mae: 0.0086\n",
      "Epoch 93/100\n",
      "220/220 [==============================] - 0s 2ms/step - loss: 1.2233e-04 - mse: 1.2233e-04 - mae: 0.0086\n",
      "Epoch 94/100\n",
      "220/220 [==============================] - 1s 2ms/step - loss: 1.2289e-04 - mse: 1.2289e-04 - mae: 0.0087\n",
      "Epoch 95/100\n",
      "220/220 [==============================] - 0s 2ms/step - loss: 1.2117e-04 - mse: 1.2117e-04 - mae: 0.0086\n",
      "Epoch 96/100\n",
      "220/220 [==============================] - 1s 2ms/step - loss: 1.2743e-04 - mse: 1.2743e-04 - mae: 0.0088\n",
      "Epoch 97/100\n",
      "220/220 [==============================] - 0s 2ms/step - loss: 1.2147e-04 - mse: 1.2147e-04 - mae: 0.0086\n",
      "Epoch 98/100\n",
      "220/220 [==============================] - 1s 3ms/step - loss: 1.2530e-04 - mse: 1.2530e-04 - mae: 0.0088\n",
      "Epoch 99/100\n",
      "220/220 [==============================] - 1s 2ms/step - loss: 1.2422e-04 - mse: 1.2422e-04 - mae: 0.0086A: 0s - loss: 1.2499e-04 - mse: 1.2499e-04 - mae: 0.0\n",
      "Epoch 100/100\n",
      "220/220 [==============================] - 0s 2ms/step - loss: 1.1979e-04 - mse: 1.1979e-04 - mae: 0.0086\n"
     ]
    },
    {
     "data": {
      "text/plain": [
       "<tensorflow.python.keras.callbacks.History at 0x160395d00>"
      ]
     },
     "execution_count": 57,
     "metadata": {},
     "output_type": "execute_result"
    }
   ],
   "source": [
    "# Fitting the model to our trimmed data\n",
    "LAI_model.fit(x=X.to_numpy(), y=y.to_numpy(), epochs=100)"
   ]
  },
  {
   "cell_type": "code",
   "execution_count": 58,
   "metadata": {},
   "outputs": [],
   "source": [
    "# Predicting our own input data to evaluate the performance (for now)\n",
    "LAI_predictions = pd.Series(LAI_model.predict(X.to_numpy()).flatten())"
   ]
  },
  {
   "cell_type": "markdown",
   "metadata": {
    "tags": []
   },
   "source": [
    "### Repeat export for 10m data:"
   ]
  },
  {
   "cell_type": "code",
   "execution_count": 59,
   "metadata": {},
   "outputs": [],
   "source": [
    "trimmed_collection_10m=alr.trim_data(image=inputImage_10m.updateMask(inputImage_10m.select(responseBand).gt(0)),\n",
    "                                     selected_features=select_features_10m,\n",
    "                                     response_band=responseBand,\n",
    "                                     num_samples=10000,\n",
    "                                     num_partitions=10)\n",
    "\n",
    "exportData_10m = ee.batch.Export.table.toDrive(collection=trimmed_collection_10m,\n",
    "                                               description=siteSelect+'_'+outputName+'_10m',\n",
    "                                               fileFormat=\"CSV\")\n",
    "\n",
    "exportData_10m.start()"
   ]
  },
  {
   "cell_type": "code",
   "execution_count": 60,
   "metadata": {},
   "outputs": [
    {
     "name": "stdout",
     "output_type": "stream",
     "text": [
      "READY\n",
      "RUNNING\n",
      "COMPLETED\n"
     ]
    }
   ],
   "source": [
    "# Essentially a wait loop to see if the data has finished exporting by checking with the server-side\n",
    "prev_task_status_10m = ee.data.getTaskStatus(exportData_10m.id)[0][\"state\"]\n",
    "print(prev_task_status_10m)\n",
    "while exportData_10m.active():\n",
    "    task_status_10m = ee.data.getTaskStatus(exportData_10m.id)[0][\"state\"]\n",
    "    if(task_status_10m != prev_task_status_10m):\n",
    "        print(task_status_10m)\n",
    "    prev_task_status_10m = task_status_10m\n",
    "    time.sleep(5)\n",
    "print(ee.data.getTaskStatus(exportData_10m.id)[0][\"state\"])"
   ]
  },
  {
   "cell_type": "code",
   "execution_count": 61,
   "metadata": {},
   "outputs": [],
   "source": [
    "# Reading the CSV file into dataframes\n",
    "trimmed_data_10m = pd.read_csv('./gdrive/'+siteSelect+'_'+outputName+'_10m'+'.csv')\n",
    "X_10m = trimmed_data_10m.drop(labels=[responseBand, 'system:index', '.geo'], axis=1)\n",
    "y_10m = trimmed_data_10m[responseBand]\n",
    "\n",
    "# We preprocess the input features by standardizing them to a mean of 0 and a standard deviation of 1 for the neural network\n",
    "X_10m = pd.DataFrame(sklearn.preprocessing.scale(X_10m))"
   ]
  },
  {
   "cell_type": "code",
   "execution_count": 62,
   "metadata": {},
   "outputs": [],
   "source": [
    "# Using Keras to create a sequential model neural network which only has simple dense layers of the specified number of nodes\n",
    "LAI_model_10m = tensorflow.keras.models.Sequential([\n",
    "    tensorflow.keras.layers.Dense(5, input_shape=[len(X_10m.keys())]),\n",
    "    tensorflow.keras.layers.Dense(4, activation=\"softsign\"),\n",
    "    tensorflow.keras.layers.Dense(3, activation=\"softsign\"),\n",
    "    tensorflow.keras.layers.Dense(2, activation=\"softsign\"),\n",
    "    tensorflow.keras.layers.Dense(1)\n",
    "])\n",
    "# Compiling the model to minimize the mean squared error loss function and use the NADAM optimizer\n",
    "LAI_model_10m.compile(\n",
    "    optimizer=tensorflow.keras.optimizers.Nadam(),\n",
    "    loss='mse',\n",
    "    metrics=['mse', 'mae'])"
   ]
  },
  {
   "cell_type": "code",
   "execution_count": 63,
   "metadata": {},
   "outputs": [
    {
     "name": "stdout",
     "output_type": "stream",
     "text": [
      "Epoch 1/100\n",
      "227/227 [==============================] - 3s 3ms/step - loss: 0.1876 - mse: 0.1876 - mae: 0.4022\n",
      "Epoch 2/100\n",
      "227/227 [==============================] - 1s 3ms/step - loss: 0.0059 - mse: 0.0059 - mae: 0.0559\n",
      "Epoch 3/100\n",
      "227/227 [==============================] - 0s 2ms/step - loss: 0.0013 - mse: 0.0013 - mae: 0.0275\n",
      "Epoch 4/100\n",
      "227/227 [==============================] - 0s 2ms/step - loss: 8.7834e-04 - mse: 8.7834e-04 - mae: 0.0225\n",
      "Epoch 5/100\n",
      "227/227 [==============================] - 0s 2ms/step - loss: 6.8536e-04 - mse: 6.8536e-04 - mae: 0.0200\n",
      "Epoch 6/100\n",
      "227/227 [==============================] - 0s 2ms/step - loss: 5.9108e-04 - mse: 5.9108e-04 - mae: 0.0188\n",
      "Epoch 7/100\n",
      "227/227 [==============================] - 1s 2ms/step - loss: 5.2155e-04 - mse: 5.2155e-04 - mae: 0.0177\n",
      "Epoch 8/100\n",
      "227/227 [==============================] - 0s 2ms/step - loss: 4.5780e-04 - mse: 4.5780e-04 - mae: 0.0166\n",
      "Epoch 9/100\n",
      "227/227 [==============================] - 1s 2ms/step - loss: 4.0657e-04 - mse: 4.0657e-04 - mae: 0.0156\n",
      "Epoch 10/100\n",
      "227/227 [==============================] - 1s 3ms/step - loss: 3.8766e-04 - mse: 3.8766e-04 - mae: 0.0153\n",
      "Epoch 11/100\n",
      "227/227 [==============================] - 0s 2ms/step - loss: 3.4178e-04 - mse: 3.4178e-04 - mae: 0.0143\n",
      "Epoch 12/100\n",
      "227/227 [==============================] - 0s 2ms/step - loss: 3.3277e-04 - mse: 3.3277e-04 - mae: 0.0142\n",
      "Epoch 13/100\n",
      "227/227 [==============================] - 0s 2ms/step - loss: 3.1150e-04 - mse: 3.1150e-04 - mae: 0.0136\n",
      "Epoch 14/100\n",
      "227/227 [==============================] - 0s 2ms/step - loss: 2.8950e-04 - mse: 2.8950e-04 - mae: 0.0133\n",
      "Epoch 15/100\n",
      "227/227 [==============================] - 0s 2ms/step - loss: 2.6669e-04 - mse: 2.6669e-04 - mae: 0.0128\n",
      "Epoch 16/100\n",
      "227/227 [==============================] - 0s 2ms/step - loss: 2.6111e-04 - mse: 2.6111e-04 - mae: 0.0126\n",
      "Epoch 17/100\n",
      "227/227 [==============================] - 0s 2ms/step - loss: 2.4515e-04 - mse: 2.4515e-04 - mae: 0.0123\n",
      "Epoch 18/100\n",
      "227/227 [==============================] - 0s 2ms/step - loss: 2.3930e-04 - mse: 2.3930e-04 - mae: 0.0121\n",
      "Epoch 19/100\n",
      "227/227 [==============================] - 0s 2ms/step - loss: 2.3678e-04 - mse: 2.3678e-04 - mae: 0.0119\n",
      "Epoch 20/100\n",
      "227/227 [==============================] - 0s 2ms/step - loss: 2.2721e-04 - mse: 2.2721e-04 - mae: 0.0118\n",
      "Epoch 21/100\n",
      "227/227 [==============================] - 0s 2ms/step - loss: 2.1960e-04 - mse: 2.1960e-04 - mae: 0.0115\n",
      "Epoch 22/100\n",
      "227/227 [==============================] - 0s 2ms/step - loss: 2.1898e-04 - mse: 2.1898e-04 - mae: 0.0116\n",
      "Epoch 23/100\n",
      "227/227 [==============================] - 0s 2ms/step - loss: 2.1312e-04 - mse: 2.1312e-04 - mae: 0.0114\n",
      "Epoch 24/100\n",
      "227/227 [==============================] - 0s 2ms/step - loss: 2.2101e-04 - mse: 2.2101e-04 - mae: 0.0117\n",
      "Epoch 25/100\n",
      "227/227 [==============================] - 0s 2ms/step - loss: 2.1143e-04 - mse: 2.1143e-04 - mae: 0.0113\n",
      "Epoch 26/100\n",
      "227/227 [==============================] - 0s 2ms/step - loss: 2.0265e-04 - mse: 2.0265e-04 - mae: 0.0112\n",
      "Epoch 27/100\n",
      "227/227 [==============================] - 0s 2ms/step - loss: 2.0468e-04 - mse: 2.0468e-04 - mae: 0.0113\n",
      "Epoch 28/100\n",
      "227/227 [==============================] - 0s 2ms/step - loss: 2.0845e-04 - mse: 2.0845e-04 - mae: 0.0113\n",
      "Epoch 29/100\n",
      "227/227 [==============================] - 0s 2ms/step - loss: 2.0174e-04 - mse: 2.0174e-04 - mae: 0.0111\n",
      "Epoch 30/100\n",
      "227/227 [==============================] - 0s 2ms/step - loss: 2.0739e-04 - mse: 2.0739e-04 - mae: 0.0113\n",
      "Epoch 31/100\n",
      "227/227 [==============================] - 0s 2ms/step - loss: 1.9988e-04 - mse: 1.9988e-04 - mae: 0.0111\n",
      "Epoch 32/100\n",
      "227/227 [==============================] - 0s 2ms/step - loss: 1.9943e-04 - mse: 1.9943e-04 - mae: 0.0111\n",
      "Epoch 33/100\n",
      "227/227 [==============================] - 0s 2ms/step - loss: 2.0851e-04 - mse: 2.0851e-04 - mae: 0.0113\n",
      "Epoch 34/100\n",
      "227/227 [==============================] - 0s 2ms/step - loss: 2.0358e-04 - mse: 2.0358e-04 - mae: 0.0112\n",
      "Epoch 35/100\n",
      "227/227 [==============================] - 1s 3ms/step - loss: 1.9786e-04 - mse: 1.9786e-04 - mae: 0.0111\n",
      "Epoch 36/100\n",
      "227/227 [==============================] - 1s 2ms/step - loss: 1.9914e-04 - mse: 1.9914e-04 - mae: 0.0110A: 0s - loss: 1.9694e-04 - mse: 1.9694e-04 - mae: \n",
      "Epoch 37/100\n",
      "227/227 [==============================] - 1s 4ms/step - loss: 1.9682e-04 - mse: 1.9682e-04 - mae: 0.0110\n",
      "Epoch 38/100\n",
      "227/227 [==============================] - 1s 4ms/step - loss: 2.0252e-04 - mse: 2.0252e-04 - mae: 0.0112\n",
      "Epoch 39/100\n",
      "227/227 [==============================] - 1s 4ms/step - loss: 2.0616e-04 - mse: 2.0616e-04 - mae: 0.0114\n",
      "Epoch 40/100\n",
      "227/227 [==============================] - 1s 3ms/step - loss: 2.0352e-04 - mse: 2.0352e-04 - mae: 0.0111\n",
      "Epoch 41/100\n",
      "227/227 [==============================] - 1s 4ms/step - loss: 1.9970e-04 - mse: 1.9970e-04 - mae: 0.0111\n",
      "Epoch 42/100\n",
      "227/227 [==============================] - 1s 3ms/step - loss: 2.0390e-04 - mse: 2.0390e-04 - mae: 0.0113\n",
      "Epoch 43/100\n",
      "227/227 [==============================] - 1s 2ms/step - loss: 2.0188e-04 - mse: 2.0188e-04 - mae: 0.0112\n",
      "Epoch 44/100\n",
      "227/227 [==============================] - 0s 2ms/step - loss: 1.9874e-04 - mse: 1.9874e-04 - mae: 0.0111\n",
      "Epoch 45/100\n",
      "227/227 [==============================] - 1s 4ms/step - loss: 2.0276e-04 - mse: 2.0276e-04 - mae: 0.0111A: 0s - loss: 2.0238e-04 - mse: 2.0238e-04\n",
      "Epoch 46/100\n",
      "227/227 [==============================] - 1s 6ms/step - loss: 1.9806e-04 - mse: 1.9806e-04 - mae: 0.0111A: 0s - loss: 1.9593e-04 - mse: 1.9593e-04 -\n",
      "Epoch 47/100\n",
      "227/227 [==============================] - 1s 5ms/step - loss: 1.9704e-04 - mse: 1.9704e-04 - mae: 0.0110\n",
      "Epoch 48/100\n",
      "227/227 [==============================] - 1s 5ms/step - loss: 1.9942e-04 - mse: 1.9942e-04 - mae: 0.0111\n",
      "Epoch 49/100\n",
      "227/227 [==============================] - 1s 4ms/step - loss: 2.0256e-04 - mse: 2.0256e-04 - mae: 0.0111\n",
      "Epoch 50/100\n",
      "227/227 [==============================] - 1s 3ms/step - loss: 2.0262e-04 - mse: 2.0262e-04 - mae: 0.0112\n",
      "Epoch 51/100\n",
      "227/227 [==============================] - 2s 7ms/step - loss: 2.0036e-04 - mse: 2.0036e-04 - mae: 0.0112\n",
      "Epoch 52/100\n",
      "227/227 [==============================] - 1s 4ms/step - loss: 1.9563e-04 - mse: 1.9563e-04 - mae: 0.0109\n",
      "Epoch 53/100\n",
      "227/227 [==============================] - 1s 2ms/step - loss: 1.9905e-04 - mse: 1.9905e-04 - mae: 0.0111\n",
      "Epoch 54/100\n",
      "227/227 [==============================] - 1s 2ms/step - loss: 1.9660e-04 - mse: 1.9660e-04 - mae: 0.0110\n",
      "Epoch 55/100\n",
      "227/227 [==============================] - 1s 3ms/step - loss: 2.0085e-04 - mse: 2.0085e-04 - mae: 0.0112\n",
      "Epoch 56/100\n",
      "227/227 [==============================] - 1s 3ms/step - loss: 1.9739e-04 - mse: 1.9739e-04 - mae: 0.0111\n",
      "Epoch 57/100\n",
      "227/227 [==============================] - 0s 2ms/step - loss: 2.0170e-04 - mse: 2.0170e-04 - mae: 0.0111\n",
      "Epoch 58/100\n",
      "227/227 [==============================] - 0s 2ms/step - loss: 1.9983e-04 - mse: 1.9983e-04 - mae: 0.0111\n",
      "Epoch 59/100\n",
      "227/227 [==============================] - 1s 3ms/step - loss: 2.0457e-04 - mse: 2.0457e-04 - mae: 0.0112\n",
      "Epoch 60/100\n",
      "227/227 [==============================] - 1s 3ms/step - loss: 2.0354e-04 - mse: 2.0354e-04 - mae: 0.0112\n",
      "Epoch 61/100\n",
      "227/227 [==============================] - 1s 3ms/step - loss: 1.9755e-04 - mse: 1.9755e-04 - mae: 0.0110\n",
      "Epoch 62/100\n",
      "227/227 [==============================] - 1s 3ms/step - loss: 1.9500e-04 - mse: 1.9500e-04 - mae: 0.0110\n",
      "Epoch 63/100\n",
      "227/227 [==============================] - 1s 3ms/step - loss: 1.9531e-04 - mse: 1.9531e-04 - mae: 0.0110\n",
      "Epoch 64/100\n",
      "227/227 [==============================] - 1s 4ms/step - loss: 2.0710e-04 - mse: 2.0710e-04 - mae: 0.0112\n",
      "Epoch 65/100\n",
      "227/227 [==============================] - 1s 4ms/step - loss: 2.0397e-04 - mse: 2.0397e-04 - mae: 0.0111\n",
      "Epoch 66/100\n",
      "227/227 [==============================] - 1s 3ms/step - loss: 2.0069e-04 - mse: 2.0069e-04 - mae: 0.0111\n",
      "Epoch 67/100\n",
      "227/227 [==============================] - 1s 4ms/step - loss: 2.0017e-04 - mse: 2.0017e-04 - mae: 0.0112\n",
      "Epoch 68/100\n",
      "227/227 [==============================] - 1s 3ms/step - loss: 1.9272e-04 - mse: 1.9272e-04 - mae: 0.0109\n",
      "Epoch 69/100\n",
      "227/227 [==============================] - 1s 4ms/step - loss: 1.9184e-04 - mse: 1.9184e-04 - mae: 0.0109\n",
      "Epoch 70/100\n",
      "227/227 [==============================] - 1s 3ms/step - loss: 1.9306e-04 - mse: 1.9306e-04 - mae: 0.0109\n",
      "Epoch 71/100\n",
      "227/227 [==============================] - 1s 3ms/step - loss: 2.0210e-04 - mse: 2.0210e-04 - mae: 0.0112\n",
      "Epoch 72/100\n",
      "227/227 [==============================] - 1s 6ms/step - loss: 1.9575e-04 - mse: 1.9575e-04 - mae: 0.0110\n",
      "Epoch 73/100\n",
      "227/227 [==============================] - 1s 3ms/step - loss: 2.0047e-04 - mse: 2.0047e-04 - mae: 0.0111\n",
      "Epoch 74/100\n",
      "227/227 [==============================] - 0s 2ms/step - loss: 2.0290e-04 - mse: 2.0290e-04 - mae: 0.0112\n",
      "Epoch 75/100\n",
      "227/227 [==============================] - 0s 2ms/step - loss: 1.9962e-04 - mse: 1.9962e-04 - mae: 0.0111\n",
      "Epoch 76/100\n",
      "227/227 [==============================] - 0s 2ms/step - loss: 1.9720e-04 - mse: 1.9720e-04 - mae: 0.0110\n",
      "Epoch 77/100\n",
      "227/227 [==============================] - 1s 2ms/step - loss: 1.9353e-04 - mse: 1.9353e-04 - mae: 0.0109\n",
      "Epoch 78/100\n",
      "227/227 [==============================] - 1s 3ms/step - loss: 1.9973e-04 - mse: 1.9973e-04 - mae: 0.0111\n",
      "Epoch 79/100\n",
      "227/227 [==============================] - 1s 3ms/step - loss: 1.9383e-04 - mse: 1.9383e-04 - mae: 0.0110\n",
      "Epoch 80/100\n",
      "227/227 [==============================] - 1s 3ms/step - loss: 1.9500e-04 - mse: 1.9500e-04 - mae: 0.0110\n",
      "Epoch 81/100\n",
      "227/227 [==============================] - 1s 3ms/step - loss: 1.9550e-04 - mse: 1.9550e-04 - mae: 0.0111\n",
      "Epoch 82/100\n",
      "227/227 [==============================] - 1s 3ms/step - loss: 1.9768e-04 - mse: 1.9768e-04 - mae: 0.0111\n",
      "Epoch 83/100\n",
      "227/227 [==============================] - 1s 3ms/step - loss: 1.9820e-04 - mse: 1.9820e-04 - mae: 0.0111\n",
      "Epoch 84/100\n",
      "227/227 [==============================] - 1s 4ms/step - loss: 2.0112e-04 - mse: 2.0112e-04 - mae: 0.0111A: 0s - loss: 2.0244e-04 - mse: 2.0244e-04 - m\n",
      "Epoch 85/100\n",
      "227/227 [==============================] - 1s 4ms/step - loss: 2.0107e-04 - mse: 2.0107e-04 - mae: 0.0111\n",
      "Epoch 86/100\n",
      "227/227 [==============================] - 1s 4ms/step - loss: 1.9267e-04 - mse: 1.9267e-04 - mae: 0.0109\n",
      "Epoch 87/100\n",
      "227/227 [==============================] - 1s 3ms/step - loss: 2.0249e-04 - mse: 2.0249e-04 - mae: 0.0112\n",
      "Epoch 88/100\n",
      "227/227 [==============================] - 1s 5ms/step - loss: 1.9762e-04 - mse: 1.9762e-04 - mae: 0.0111A: 0s - loss: 1.9747e-04 - mse: 1.9747e-04 - mae: 0.\n",
      "Epoch 89/100\n",
      "227/227 [==============================] - 1s 4ms/step - loss: 1.9603e-04 - mse: 1.9603e-04 - mae: 0.0110\n",
      "Epoch 90/100\n",
      "227/227 [==============================] - 1s 3ms/step - loss: 2.0111e-04 - mse: 2.0111e-04 - mae: 0.0111\n",
      "Epoch 91/100\n",
      "227/227 [==============================] - 1s 3ms/step - loss: 1.9228e-04 - mse: 1.9228e-04 - mae: 0.0109\n",
      "Epoch 92/100\n",
      "227/227 [==============================] - 1s 2ms/step - loss: 1.9676e-04 - mse: 1.9676e-04 - mae: 0.0111\n",
      "Epoch 93/100\n",
      "227/227 [==============================] - 1s 2ms/step - loss: 1.9986e-04 - mse: 1.9986e-04 - mae: 0.0111\n",
      "Epoch 94/100\n",
      "227/227 [==============================] - 0s 2ms/step - loss: 2.0056e-04 - mse: 2.0056e-04 - mae: 0.0111\n",
      "Epoch 95/100\n",
      "227/227 [==============================] - 1s 2ms/step - loss: 1.9962e-04 - mse: 1.9962e-04 - mae: 0.0111\n",
      "Epoch 96/100\n",
      "227/227 [==============================] - 0s 2ms/step - loss: 1.9663e-04 - mse: 1.9663e-04 - mae: 0.0110\n",
      "Epoch 97/100\n",
      "227/227 [==============================] - 1s 2ms/step - loss: 1.9387e-04 - mse: 1.9387e-04 - mae: 0.0109\n",
      "Epoch 98/100\n",
      "227/227 [==============================] - 0s 2ms/step - loss: 1.9713e-04 - mse: 1.9713e-04 - mae: 0.0111\n",
      "Epoch 99/100\n",
      "227/227 [==============================] - 1s 3ms/step - loss: 2.0172e-04 - mse: 2.0172e-04 - mae: 0.0111\n",
      "Epoch 100/100\n",
      "227/227 [==============================] - 1s 2ms/step - loss: 1.9871e-04 - mse: 1.9871e-04 - mae: 0.0110\n"
     ]
    },
    {
     "data": {
      "text/plain": [
       "<tensorflow.python.keras.callbacks.History at 0x161aa1a00>"
      ]
     },
     "execution_count": 63,
     "metadata": {},
     "output_type": "execute_result"
    }
   ],
   "source": [
    "# Fitting the model to our trimmed data\n",
    "LAI_model_10m.fit(x=X_10m.to_numpy(), y=y_10m.to_numpy(), epochs=100)"
   ]
  },
  {
   "cell_type": "code",
   "execution_count": 64,
   "metadata": {},
   "outputs": [],
   "source": [
    "# Predicting our own input data to evaluate the performance (for now)\n",
    "LAI_predictions_10m = pd.Series(LAI_model_10m.predict(X_10m.to_numpy()).flatten())"
   ]
  },
  {
   "cell_type": "markdown",
   "metadata": {},
   "source": [
    "Below is code the that prepares the predictions to be displayed against the true values of the response for matplotlib"
   ]
  },
  {
   "cell_type": "code",
   "execution_count": 65,
   "metadata": {},
   "outputs": [],
   "source": [
    "xy_tf_LAI = np.vstack([y, LAI_predictions])\n",
    "z_tf_LAI = scipy.stats.gaussian_kde(xy_tf_LAI)(xy_tf_LAI)\n",
    "\n",
    "idx_tf_LAI = z_tf_LAI.argsort()\n",
    "x_tf_LAI = y[idx_tf_LAI]\n",
    "y_tf_LAI = LAI_predictions[idx_tf_LAI]\n",
    "z_tf_LAI = z_tf_LAI[idx_tf_LAI]\n",
    "\n",
    "rmse_tf_LAI = sklearn.metrics.mean_squared_error(x_tf_LAI, y_tf_LAI, squared=False)"
   ]
  },
  {
   "cell_type": "code",
   "execution_count": 66,
   "metadata": {},
   "outputs": [],
   "source": [
    "# 10m:\n",
    "xy_tf_LAI_10m = np.vstack([y_10m, LAI_predictions_10m])\n",
    "z_tf_LAI_10m = scipy.stats.gaussian_kde(xy_tf_LAI_10m)(xy_tf_LAI_10m)\n",
    "\n",
    "idx_tf_LAI_10m = z_tf_LAI_10m.argsort()\n",
    "x_tf_LAI_10m = y_10m[idx_tf_LAI_10m]\n",
    "y_tf_LAI_10m = LAI_predictions_10m[idx_tf_LAI_10m]\n",
    "z_tf_LAI_10m = z_tf_LAI_10m[idx_tf_LAI_10m]\n",
    "\n",
    "rmse_tf_LAI_10m = sklearn.metrics.mean_squared_error(x_tf_LAI_10m, y_tf_LAI_10m, squared=False)"
   ]
  },
  {
   "cell_type": "code",
   "execution_count": 67,
   "metadata": {},
   "outputs": [
    {
     "data": {
      "text/plain": [
       "<matplotlib.colorbar.Colorbar at 0x161cd91c0>"
      ]
     },
     "execution_count": 67,
     "metadata": {},
     "output_type": "execute_result"
    },
    {
     "data": {
      "image/png": "[encoded data removed]",
      "text/plain": [
       "<Figure size 1080x504 with 3 Axes>"
      ]
     },
     "metadata": {
      "needs_background": "light"
     },
     "output_type": "display_data"
    }
   ],
   "source": [
    "# plot feature prediction\n",
    "a_tf_LAI = np.linspace(0, axlim, 1000)\n",
    "\n",
    "fig, ax = plt.subplots(1, 2, figsize=(15, 7))\n",
    "fig.suptitle('{}'.format('Estimated '+outputName))\n",
    "\n",
    "# Using all features\n",
    "fig1 = ax[0].scatter(x_tf_LAI, y_tf_LAI, c=z_tf_LAI)\n",
    "ax[0].plot(a_tf_LAI, a_tf_LAI, c='r')\n",
    "ax[0].set_xlabel('SL2P {}'.format(responseBand))\n",
    "ax[0].set_ylabel('ALR predicted {}'.format(outputName))\n",
    "ax[0].title.set_text(f'LASSO LARS (ALL BANDS) - RMSE = {rmse_tf_LAI:.5f}')\n",
    "\n",
    "# Using 10 m features only\n",
    "fig2 = ax[1].scatter(x_tf_LAI_10m, y_tf_LAI_10m, c=z_tf_LAI_10m)\n",
    "ax[1].plot(a_tf_LAI, a_tf_LAI, c='r')\n",
    "ax[1].set_xlabel('SL2P {}'.format(responseBand))\n",
    "ax[1].set_ylabel('ALR predicted {} (10m)'.format(outputName))\n",
    "ax[1].title.set_text(f'LASSO LARS (10m BANDS) - RMSE = {rmse_tf_LAI_10m:.5f}')\n",
    "\n",
    "# add colorbar for scale\n",
    "fig.subplots_adjust(right=0.9)\n",
    "cbar_ax = fig.add_axes([0.95, 0.1, 0.01, 0.8])\n",
    "fig.colorbar(fig1, cax=cbar_ax)"
   ]
  },
  {
   "cell_type": "markdown",
   "metadata": {},
   "source": [
    "Early attempts to use the output of the kerasModel.get_weights() to apply the neural network weights manually"
   ]
  },
  {
   "cell_type": "code",
   "execution_count": 46,
   "metadata": {
    "scrolled": true
   },
   "outputs": [
    {
     "data": {
      "text/plain": [
       "[array([[-2.7398798 , -3.536974  ,  3.6466925 ,  3.1230073 , -3.8034012 ],\n",
       "        [ 3.7981048 ,  4.057477  , -2.9011967 , -3.9306624 ,  3.8486443 ],\n",
       "        [ 0.02518088, -0.47988126,  0.55527914, -0.6205802 ,  0.0221141 ],\n",
       "        [ 6.573537  ,  6.4667497 , -5.791895  , -6.8965282 ,  5.579861  ],\n",
       "        [-1.60505   , -0.7643096 ,  1.0398248 ,  1.0449996 , -0.17405012]],\n",
       "       dtype=float32),\n",
       " array([ 62.107056,  67.03532 , -62.11858 , -65.91176 ,  60.563435],\n",
       "       dtype=float32),\n",
       " array([[-58.117756,  60.90686 ,  56.89272 ,  57.115055],\n",
       "        [-60.49769 ,  62.267223,  60.218987,  61.560387],\n",
       "        [ 59.326492, -59.18705 , -57.18816 , -57.682053],\n",
       "        [ 60.810936, -63.179443, -59.603443, -60.579227],\n",
       "        [-58.362484,  59.049206,  58.17094 ,  57.17671 ]], dtype=float32),\n",
       " array([-20.77999 ,  24.04258 ,  19.182133,  20.828087], dtype=float32),\n",
       " array([[-80.09378 ,  79.59881 , -80.34347 ],\n",
       "        [ 80.74922 , -78.71333 ,  80.72042 ],\n",
       "        [ 80.38256 , -79.88559 ,  81.25333 ],\n",
       "        [ 80.81242 , -78.92862 ,  81.739815]], dtype=float32),\n",
       " array([ 76.63425 , -75.79627 ,  78.146286], dtype=float32),\n",
       " array([[-87.29831,  87.81812],\n",
       "        [ 87.71038, -87.97739],\n",
       "        [-87.29169,  86.89703]], dtype=float32),\n",
       " array([-85.106064,  86.57154 ], dtype=float32),\n",
       " array([[-93.17847],\n",
       "        [ 92.50115]], dtype=float32),\n",
       " array([91.69926], dtype=float32)]"
      ]
     },
     "execution_count": 46,
     "metadata": {},
     "output_type": "execute_result"
    }
   ],
   "source": [
    "LAI_model.get_weights()"
   ]
  },
  {
   "cell_type": "code",
   "execution_count": 47,
   "metadata": {},
   "outputs": [
    {
     "data": {
      "text/plain": [
       "[array([[-3.5480783 , -3.587339  , -2.9099941 ,  3.23489   , -3.628387  ],\n",
       "        [ 4.1115007 ,  3.479523  ,  3.4047341 , -3.6032658 ,  4.029607  ],\n",
       "        [ 0.04047   , -0.5622287 ,  0.07578439,  0.3330413 , -0.15563202],\n",
       "        [ 5.4377503 ,  6.017694  ,  6.564209  , -6.8837156 ,  6.443043  ],\n",
       "        [-1.0541114 , -0.5267082 , -0.9121629 ,  0.8634612 , -1.256864  ]],\n",
       "       dtype=float32),\n",
       " array([ 63.259457,  60.774723,  64.13925 , -64.7012  ,  65.45289 ],\n",
       "       dtype=float32),\n",
       " array([[ 57.933575, -62.39044 ,  58.880077,  58.378788],\n",
       "        [ 57.8774  , -56.40682 ,  56.409847,  56.22585 ],\n",
       "        [ 59.637047, -61.732967,  58.115383,  59.79154 ],\n",
       "        [-58.200294,  60.5797  , -60.17792 , -58.306473],\n",
       "        [ 58.961052, -61.74353 ,  59.353653,  59.415134]], dtype=float32),\n",
       " array([ 19.009754, -21.862206,  18.964403,  18.694508], dtype=float32),\n",
       " array([[ 81.76688,  80.60897,  79.17644],\n",
       "        [-81.94334, -80.93843, -79.17726],\n",
       "        [ 81.57176,  80.93781,  79.70664],\n",
       "        [ 81.53063,  80.47733,  79.75991]], dtype=float32),\n",
       " array([78.033516, 76.742294, 75.41689 ], dtype=float32),\n",
       " array([[-86.44725 ,  86.02993 ],\n",
       "        [-86.61555 ,  86.27142 ],\n",
       "        [-86.8386  ,  86.694534]], dtype=float32),\n",
       " array([-85.19624,  84.31877], dtype=float32),\n",
       " array([[-93.00046],\n",
       "        [ 93.78554]], dtype=float32),\n",
       " array([91.697365], dtype=float32)]"
      ]
     },
     "execution_count": 47,
     "metadata": {},
     "output_type": "execute_result"
    }
   ],
   "source": [
    "LAI_model_10m.get_weights()"
   ]
  },
  {
   "cell_type": "code",
   "execution_count": 48,
   "metadata": {},
   "outputs": [],
   "source": [
    "elu = np.vectorize(alr.elu)\n",
    "softplus = np.vectorize(alr.softplus)\n",
    "softsign = np.vectorize(alr.softsign)\n",
    "relu = np.vectorize(alr.relu)\n",
    "tanh = np.vectorize(alr.tanh)\n",
    "sigmoid = np.vectorize(alr.sigmoid)"
   ]
  },
  {
   "cell_type": "code",
   "execution_count": 50,
   "metadata": {},
   "outputs": [
    {
     "name": "stdout",
     "output_type": "stream",
     "text": [
      "20m:\n",
      "276.84634\n",
      "276.84634086787185\n",
      "\n",
      "10m:\n",
      "277.94125\n",
      "277.94124727955517\n"
     ]
    }
   ],
   "source": [
    "row = 4802\n",
    "inputs = X.iloc[row, :].to_numpy()\n",
    "print('20m:')\n",
    "print(LAI_model.predict(inputs.reshape((-1,5)))[0][0])\n",
    "print(alr.apply_nnet(inputs, LAI_model)[0])\n",
    "print()\n",
    "\n",
    "# 10m:\n",
    "row = 4802\n",
    "inputs_10m = X_10m.iloc[row, :].to_numpy()\n",
    "print('10m:')\n",
    "print(LAI_model_10m.predict(inputs_10m.reshape((-1,5)))[0][0])\n",
    "print(alr.apply_nnet(inputs_10m, LAI_model_10m)[0])"
   ]
  },
  {
   "cell_type": "code",
   "execution_count": 52,
   "metadata": {},
   "outputs": [],
   "source": [
    "# Writing the neural network to a CSV file to be uploaded to the server side on Google Earth Engine\n",
    "export_data = alr.export_nnet(LAI_model, X)\n",
    "with open('nnet.csv', 'w', newline='') as csvfile:\n",
    "    nnet_writer = csv.writer(csvfile)\n",
    "    for layerdata in export_data:\n",
    "        nnet_writer.writerow(layerdata)\n",
    "\n",
    "# 10m:\n",
    "export_data_10m = alr.export_nnet(LAI_model_10m, X_10m)\n",
    "with open('nnet_10m.csv', 'w', newline='') as csvfile_10m:\n",
    "    nnet_writer_10m = csv.writer(csvfile_10m)\n",
    "    for layerdata in export_data_10m:\n",
    "        nnet_writer_10m.writerow(layerdata)"
   ]
  },
  {
   "cell_type": "raw",
   "metadata": {},
   "source": [
    "Currently, I have not found a way to automatically upload a file as an asset into Google Earth Engine from a local script. There is a command in the Earth Engine command line interface that allows you to upload an asset from cloud storage, although cloud storage is not free. There may be a workaround way to upload the file from Google Drive directly to Earth Engine, but even that would use the Google Drive API which is a part of Google Cloud, so it will not be free. It seems the network must be uploaded manually for now."
   ]
  }
 ],
 "metadata": {
  "colab": {
   "name": "LAI_FAPAR_FCOVER_Prediction.ipynb",
   "provenance": []
  },
  "kernelspec": {
   "display_name": "Python 3 (ipykernel)",
   "language": "python",
   "name": "python3"
  },
  "language_info": {
   "codemirror_mode": {
    "name": "ipython",
    "version": 3
   },
   "file_extension": ".py",
   "mimetype": "text/x-python",
   "name": "python",
   "nbconvert_exporter": "python",
   "pygments_lexer": "ipython3",
   "version": "3.9.7"
  },
  "pycharm": {
   "stem_cell": {
    "cell_type": "raw",
    "metadata": {
     "collapsed": false
    },
    "source": []
   }
  }
 },
 "nbformat": 4,
 "nbformat_minor": 4
}
