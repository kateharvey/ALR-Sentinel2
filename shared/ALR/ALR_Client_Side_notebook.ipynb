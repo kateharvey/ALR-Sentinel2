{
 "cells": [
  {
   "cell_type": "code",
   "execution_count": null,
   "metadata": {},
   "outputs": [],
   "source": [
    "# This notebook is a copy similar to ALR_Client_Side found in:\n",
    "# https://github.com/rfernand387/ALR_Earth_Engine/blob/master/ALR_Client_Side.ipynb\n",
    "\n",
    "# Modifications have been made to accept an EE image with 10 m resolution bands that has been outputted from SL2P10_control.ipynb:\n",
    "# https://github.com/kateharvey/Sentinel2_ALR/blob/main/shared/SL2P10_control.ipynb"
   ]
  },
  {
   "cell_type": "code",
   "execution_count": 1,
   "metadata": {},
   "outputs": [],
   "source": [
    "import scipy\n",
    "import scipy.io as sio\n",
    "import matplotlib.pyplot as plt\n",
    "import numpy\n",
    "import pandas\n",
    "import sklearn\n",
    "from sklearn import preprocessing\n",
    "from sklearn import linear_model\n",
    "import tensorflow\n",
    "import ee\n",
    "import json\n",
    "from collections import OrderedDict\n",
    "import time\n",
    "import math\n",
    "import csv\n",
    "import os"
   ]
  },
  {
   "cell_type": "code",
   "execution_count": 2,
   "metadata": {},
   "outputs": [
    {
     "data": {
      "text/html": [
       "<p>To authorize access needed by Earth Engine, open the following\n",
       "        URL in a web browser and follow the instructions:</p>\n",
       "        <p><a href=https://accounts.google.com/o/oauth2/auth?client_id=517222506229-vsmmajv00ul0bs7p89v5m89qs8eb9359.apps.googleusercontent.com&scope=https%3A%2F%2Fwww.googleapis.com%2Fauth%2Fearthengine+https%3A%2F%2Fwww.googleapis.com%2Fauth%2Fdevstorage.full_control&redirect_uri=urn%3Aietf%3Awg%3Aoauth%3A2.0%3Aoob&response_type=code&code_challenge=wCJ3Y1zLkLcN575zdrTWPycQfKwP_aIgBWWlNbIzhsY&code_challenge_method=S256>https://accounts.google.com/o/oauth2/auth?client_id=517222506229-vsmmajv00ul0bs7p89v5m89qs8eb9359.apps.googleusercontent.com&scope=https%3A%2F%2Fwww.googleapis.com%2Fauth%2Fearthengine+https%3A%2F%2Fwww.googleapis.com%2Fauth%2Fdevstorage.full_control&redirect_uri=urn%3Aietf%3Awg%3Aoauth%3A2.0%3Aoob&response_type=code&code_challenge=wCJ3Y1zLkLcN575zdrTWPycQfKwP_aIgBWWlNbIzhsY&code_challenge_method=S256</a></p>\n",
       "        <p>The authorization workflow will generate a code, which you\n",
       "        should paste in the box below</p>\n",
       "        "
      ],
      "text/plain": [
       "<IPython.core.display.HTML object>"
      ]
     },
     "metadata": {},
     "output_type": "display_data"
    },
    {
     "name": "stdin",
     "output_type": "stream",
     "text": [
      "Enter verification code:  4/1AX4XfWjp2ieTVtWEX0R2MXwzf48do9XDWDy0mnRbIKLKfZFnsFtOnrZz_kE\n"
     ]
    },
    {
     "name": "stdout",
     "output_type": "stream",
     "text": [
      "\n",
      "Successfully saved authorization token.\n"
     ]
    }
   ],
   "source": [
    "ee.Authenticate()"
   ]
  },
  {
   "cell_type": "code",
   "execution_count": 3,
   "metadata": {},
   "outputs": [],
   "source": [
    "# Authorize the script with Earth Engine using the credentials.json file. Ensure either ee.Authenticate() has been called in a previous\n",
    "# script or the \"$ earthengine authenticate\" command has been run in the environment to set up the credentials.json file\n",
    "# The google account you provide during the authentication flow must have received access to Google Earth Engine\n",
    "ee.Initialize()"
   ]
  },
  {
   "cell_type": "code",
   "execution_count": 4,
   "metadata": {},
   "outputs": [],
   "source": [
    "# Set the test image using an uploaded asset for now\n",
    "inputImageCollection = ee.ImageCollection('users/kateharvey/test_collection')\n",
    "# inputImage = ee.Image(inputImageCollection.toList(inputImageCollection.size()).get(0))\n",
    "inputImage = ee.Image('users/kateharvey/test_collection/20200801T155911_20200801T160644_T18TVQ_LAI')\n",
    "\n",
    "# Change variable name here to match band name pattern (one of: Albedo, fAPAR, fCOVER, LAI, CCC, CWC, DASF)\n",
    "outputName = 'LAI'\n",
    "defaultBand = 'estimate'+outputName\n",
    "\n",
    "# List the bands that we expect in the image (ensure number of bands in the list below matches the number bands in the input image)\n",
    "# This is the order of bands produced by running SL2P10 and exporting the resulting ImageCollection\n",
    "inputImage_bands = ee.List(['B2', 'B3', 'B4', 'B8', 'date', 'QC', 'estimateLAI', 'partition', 'networkID', 'errorLAI', 'partition_1', 'networkID_1'])"
   ]
  },
  {
   "cell_type": "markdown",
   "metadata": {},
   "source": [
    "### Vegetation Indices Sources\n",
    "\n",
    "1. https://www.hindawi.com/journals/js/2017/1353691/tab1/\n",
    "2. https://www.hiphen-plant.com/blog/vegetation-indices/\n",
    "3. https://gisgeography.com/sentinel-2-bands-combinations/"
   ]
  },
  {
   "cell_type": "code",
   "execution_count": 5,
   "metadata": {},
   "outputs": [],
   "source": [
    "# Below we define a list of strings representing the expressions for each vegetation index as a function of the bands in the input image\n",
    "# More vegetation indices can be defined, but the list CANNOT contain any two vegetation indices which are a linear combination of each\n",
    "# other or LARs will fail to select the requested number of variables\n",
    "\n",
    "# The formatting of the expression must be\n",
    "# \"<name of VI> = <expression with band names from inputImage_bands used as variables in the form b('<band name>')\"\n",
    "\n",
    "# Only include VIs that use 10 m bands (B2, B3, B4, B8)\n",
    "input_VI_definition = ee.List([\"RAW_B2  = b('B2')\",\n",
    "                               \"RAW_B3  = b('B3')\",\n",
    "                               \"RAW_B4  = b('B4')\",\n",
    "                               \"RAW_B8  = b('B8')\",\n",
    "                               \"GI      = b('B3')/b('B4')\",\n",
    "                             # \"RVI3    = b('B4')/b('B6')\",\n",
    "                             # \"SR3     = b('B5')/b('B4')\",\n",
    "                             # \"GM1     = b('B6')/b('B3')\",\n",
    "                             # \"GM2     = b('B6')/b('B5')\",\n",
    "                             # \"SR2     = b('B7')/b('B3')\",\n",
    "                             # \"PSSR    = b('B7')/b('B4')\",\n",
    "                               \"SGI     = b('B8')/b('B4')\",\n",
    "                             # \"MSI     = b('B11')/b('B7')\",\n",
    "                             # \"II      = b('B11')/b('B12')\",\n",
    "                               \"GVI     = (b('B8')/b('B3'))-1\",\n",
    "                             # \"PSRI    = (b('B4')-b('B3'))/b('B6')\",\n",
    "                               \"NDVI3   = ((b('B8')-b('B4'))/(b('B8')))+b('B4')\",\n",
    "                             # \"SR5     = 1/b('B5')\",\n",
    "                             # \"SR6     = b('B4')/(b('B3')*b('B5'))\",\n",
    "                             # \"SR7     = b('B8')/(b('B3')*b('B5'))\",\n",
    "                             # \"IPVI    = b('B7')/(b('B7')+b('B4'))\",\n",
    "                             # \"ARI     = (1/b('B3'))-(1/b('B5'))\",\n",
    "                             # \"ARI2    = b('B7')*((1/b('B3'))-(1/b('B5')))\",\n",
    "                               \"NDVI    = (b('B8')-b('B4'))/(b('B8')+b('B4'))\",\n",
    "                               \"GNDVI   = (b('B8')-b('B3'))/(b('B8')+b('B3'))\",\n",
    "                             # \"NDWI    = (b('B8')-b('B11'))/(b('B8')+b('B11'))\",\n",
    "                             # \"NDREVI  = (b('B8')-b('B5'))/(b('B8')+b('B5'))\",\n",
    "                               \"NDGI    = (b('B3')-b('B4'))/(b('B3')+b('B4'))\",\n",
    "                             # \"NDI1    = (b('B7')-b('B5'))/(b('B7')-b('B4'))\",\n",
    "                             # \"NDI2    = (b('B8')-b('B5'))/(b('B8')-b('B4'))\",\n",
    "                             # \"RENDVI  = (b('B6')-b('B5'))/(b('B6')+b('B5'))\",\n",
    "                             # \"OSAVI   = (1.16*(b('B7')-b('B4')))/(b('B7')+b('B4')+0.61)\",\n",
    "                             # \"NMDI    = (b('B8')-(b('B11')-b('B12')))/(b('B8')+(b('B11')-b('B12')))\",\n",
    "                             # \"HI      = ((b('B3')-b('B5'))/(b('B3')+b('B5')))-0.5*b('B5')\",\n",
    "                             # \"GVSP    = (-0.283*b('B3') - 0.66*b('B4') + 0.577*b('B6') + 0.388*b('B8'))/(0.433*b('B3') - 0.632*b('B4') + 0.586*b('B6') + 0.264*b('B8A'))\",\n",
    "                             # \"MCARI   = ((b('B5')-b('B4'))-0.2*(b('B5')-b('B3')))*(b('B5')/b('B4'))\",\n",
    "                             # \"TCARI   = 3*((b('B5')-b('B4'))-0.2*(b('B5')-b('B3'))*(b('B5')/b('B4')))\",\n",
    "                               \"EVI     = 2.5*((b('B8')-b('B4'))/(b('B8')+6*b('B4')-7.5*b('B3')+1))\",\n",
    "                               \"EVI2    = 2.5*((b('B8')-b('B4'))/(b('B8')+2.4*b('B4')+1))\",\n",
    "                               \"RDVI    = (b('B8')-b('B4'))/((b('B8')+b('B4'))**0.5)\",\n",
    "                               \"MSR     = ((b('B8')/b('B4'))-1)/((b('B8')/b('B4'))**0.5+1)\",\n",
    "                             # \"MSAVI   = 0.5*(2*b('B7')+1-((2*b('B7')+1)**2-8*(b('B7')-b('B4')))**0.5)\",\n",
    "                               \"MSAVI2  = 0.5*(2*b('B8')+1-((2*b('B8')+1)**2-8*(b('B8')-b('B4')))**0.5)\",\n",
    "                             # \"MCARI2  = (1.5*(2.5*(b('B7')-b('B4'))-1.3*(b('B7')-b('B3'))))/((((2*b('B7')+1)**2)-(6*b('B7')-5*(b('B4')**0.5))-0.5)**0.5)\",\n",
    "                             # \"MTVI2   = (1.5*(1.2*(b('B7')-b('B3'))-2.5*(b('B4')-b('B3'))))/(((2*b('B7')+1)**2-(6*b('B7')-5*b('B4'))-0.5)**0.5)\",\n",
    "                             # \"MSR2    = ((b('B7')/b('B4'))-1)/(((b('B7')/b('B4'))+1)**0.5)\",\n",
    "                               \"NLI     = ((b('B8')**2)-b('B4'))/((b('B8')**2)+b('B4'))\"])"
   ]
  },
  {
   "cell_type": "markdown",
   "metadata": {},
   "source": [
    "In the following functions each input is recast to the expected data type as function parameter typing is not enforced in Earth Engine\n",
    "when defining functions, and later methods called on these parameters within the function must recognize the type of the parameter\n",
    "independently of other code"
   ]
  },
  {
   "cell_type": "code",
   "execution_count": 6,
   "metadata": {},
   "outputs": [],
   "source": [
    "# The following function takes an image, a list of strings for the names of the bands in the image to rename to, a string which is the \n",
    "# name of the band containing the response variable in the image, and the list of strings defining vegetation indices to add to the image.\n",
    "# It returns an image which contains all of the original bands in the image renamed and all of the vegetation indices defined earlier\n",
    "# with the response band being the last band defined in the image\n",
    "def format_image(image, image_bands, response_band, VI_definition):\n",
    "    image = ee.Image(image)\n",
    "    image_bands = ee.List(image_bands)\n",
    "    response_band = ee.String(response_band)\n",
    "    VI_definition = ee.List(VI_definition)\n",
    "    \n",
    "    # image_bands specifices a list of the names of the bands used in defining the expressions for VIs in VI_definition\n",
    "    image = image.rename(image_bands).toDouble()\n",
    "    \n",
    "    # Generate an imageCollection from a list of expressions defining a set of Vegetation Indices using the bands available in the image\n",
    "    VIimageCollection = ee.ImageCollection(VI_definition.map(lambda expr: image.expression(expr)))\n",
    "    VIimage = VIimageCollection.toBands().regexpRename(\"[0-9]+_\", \"\")\n",
    "    \n",
    "    # Reorder the bands in the image so the response band is the last band in the image\n",
    "    feature_bands = image_bands.remove(response_band)\n",
    "    \n",
    "    return image.select(feature_bands).addBands(VIimage).addBands(image.select(response_band))"
   ]
  },
  {
   "cell_type": "code",
   "execution_count": 7,
   "metadata": {},
   "outputs": [],
   "source": [
    "# The following function takes an image and retrieves the total number of pixels in the image as an integer\n",
    "def get_num_pixels(image):\n",
    "    image_dimensions = ee.List(image.getInfo()[\"bands\"][28][\"dimensions\"])\n",
    "        # 28 is the index of the last band using the inputs defined above (12 input bands plus 17 VIs = 29 total bands)\n",
    "    image_height = image_dimensions.getNumber(0)\n",
    "    image_width = image_dimensions.getNumber(1)\n",
    "    image_pixels = image_height.multiply(image_width)\n",
    "    \n",
    "    return image_pixels"
   ]
  },
  {
   "cell_type": "code",
   "execution_count": 8,
   "metadata": {},
   "outputs": [],
   "source": [
    "# The following function takes an image and a string which is the name of the band containing the response variable in the image\n",
    "# It returns an image with the response band centred to a mean 0, and the other bands in the image standardized to a mean 0 and a \n",
    "# standard deviation of 1. This preprocessing is necessary for the LARs algorithm\n",
    "def scale_image(image, response_band):\n",
    "    image = ee.Image(image)\n",
    "    response_band = ee.String(response_band)\n",
    "    image_pixels = ee.Number(get_num_pixels(image))\n",
    "    \n",
    "    # Set up lists containing the input/feature bands in the image\n",
    "    bandList = image.bandNames()\n",
    "    featureList = bandList.remove(response_band)\n",
    "    num_bands = bandList.length()\n",
    "    num_features = featureList.length()\n",
    "    \n",
    "    # We will be using the reduceRegion() function on images from Earth Engine, \n",
    "    # which will process up to a specified number of pixels from the image to generate the outputs of the reducer\n",
    "    max_pixels = image_pixels.min(10000000)\n",
    "    # best_effort = ee.Algorithms.If(image_pixels.gt(max_pixels), True, False)\n",
    "    \n",
    "    # Set default projection and scale using the response band\n",
    "    defaultScale = image.select(defaultBand).projection().nominalScale()\n",
    "    defaultCrs = image.select(defaultBand).projection().crs()\n",
    "    image = image.setDefaultProjection(crs=defaultCrs, scale=defaultScale)\n",
    "    \n",
    "    # Center all of the bands in the image for LARs, we will centre the sampled data later as well as reduceRegion() is not precise enough\n",
    "    meanImage = image.subtract(image.reduceRegion(reducer=ee.Reducer.mean(), scale=defaultScale, bestEffort=True, maxPixels=max_pixels).toImage(bandList))\n",
    "    \n",
    "    # Separate the image into features (X) and response (y) as we need to standardize the input features\n",
    "    X = meanImage.select(featureList)\n",
    "    y = meanImage.select(response_band)\n",
    "    \n",
    "    # Standardize the input features\n",
    "    X = X.divide(X.reduceRegion(reducer=ee.Reducer.stdDev(), bestEffort=True, maxPixels=max_pixels).toImage(featureList))\n",
    "    \n",
    "    return X.addBands(y)"
   ]
  },
  {
   "cell_type": "code",
   "execution_count": 55,
   "metadata": {},
   "outputs": [],
   "source": [
    "# The following function implements the LARs algorithm fully as described in (et al. 2002)\n",
    "# It takes an image, a string which is the name of the band containing the response variable in the image, the number of non-zero\n",
    "# coefficients requested for the LARs algorithm to select the best features to predict the response in the image\n",
    "# Additionally the function requires the number of samples (pixels) from the image that the user wishes to process. \n",
    "# These inputs are necessary as Earth Engine provides a limited amount of RAM (2GB) and processing time on their virtual machines,\n",
    "# so the user may need to adjust how many pixels they wish to process in the image in case the function leads to a \n",
    "# \"User memory limit exceeded error\" or \"Computation timed out error\"\n",
    "def ee_LARS(image, response_band, num_nonzero_coefficients, num_samples):\n",
    "    image = ee.Image(image)\n",
    "    response_band = ee.String(response_band)\n",
    "    num_nonzero_coefficients = ee.Number(num_nonzero_coefficients)\n",
    "    num_samples = ee.Number(num_samples)\n",
    "    image_pixels = ee.Number(get_num_pixels(image))\n",
    "\n",
    "    # Retrieve the list of features in the image by getting all of the band names and removing the response band name from the list\n",
    "    bandList = image.bandNames()\n",
    "    featureList = bandList.remove(response_band)\n",
    "    \n",
    "    # Randomly sample pixels in the image at its native resolution into a feature collection\n",
    "    # (either as many as requested in the function call, or all of the pixels in the image if the total number of pixels in the image \n",
    "    # is less than the number of samples requested) \n",
    "    inputCollection = image.sample(numPixels=num_samples.min(image_pixels))\n",
    "    n = inputCollection.size()\n",
    "    m = featureList.length()\n",
    "    \n",
    "    # Use an aggregate array function over the feature collection and map the function over each feature in the band list\n",
    "    # to generate a dictionary of all of the samples retrieved\n",
    "    inputs = ee.Dictionary.fromLists(bandList, bandList.map(lambda feature: inputCollection.aggregate_array(feature)))\n",
    "    \n",
    "    # Although we may call our scale_image function on the input image, the reduceRegion() function used to determine the mean\n",
    "    # and standard deviation of each band in the image over the entire region is not precise enough over a large image\n",
    "    # so we must recenter all of the bands in the image and now we can also normalize (L2 norm) each input feature as is required\n",
    "    # by the LARs algorithm\n",
    "    \n",
    "    # Use an aggregate_mean function over the feature collection to get the mean of each band\n",
    "    input_means = ee.Dictionary.fromLists(bandList, bandList.map(lambda feature: inputCollection.aggregate_mean(feature)))\n",
    "\n",
    "    # Center all of the bands in the image by mapping a function over the list of features and then a subtract over the list of all samples for each band\n",
    "    def centre_inputs(key, value):\n",
    "        key_mean = input_means.getNumber(key)\n",
    "        return ee.List(value).map(lambda sample: ee.Number(sample).subtract(key_mean))\n",
    "    inputs = inputs.map(centre_inputs)\n",
    "    \n",
    "    # Separate the response variable samples into its own vector\n",
    "    y = inputs.toArray([response_band]).reshape([-1,1])\n",
    "    \n",
    "    # Remove response band from the feature collection by selecting only bands in the feature list\n",
    "    inputs = inputs.select(featureList)\n",
    "    \n",
    "    # Generate a dictionary of all of the L2 norms of the input features using a custom mapped function\n",
    "    input_norms = inputs.map(lambda key, value: ee.Number(ee.List(value).map(lambda sample: ee.Number(sample).pow(2)).reduce(ee.Reducer.sum())).pow(0.5))\n",
    "    \n",
    "    # Normalize all of the features by mapping a function over the list of features and then map a division over the list of all of the samples of the feature\n",
    "    def norm_inputs(key, value):\n",
    "        key_norm = input_norms.getNumber(key)\n",
    "        return ee.List(value).map(lambda sample: ee.Number(sample).divide(key_norm))\n",
    "    inputs = inputs.map(norm_inputs)\n",
    "    \n",
    "    # Generate the array of samples using the dictionary\n",
    "    X = inputs.toArray(featureList).transpose()\n",
    "    \n",
    "    # Find the first best predictor of the response to initialize the main LARs loop\n",
    "    initial_prediction = ee.Array(ee.List.repeat([0], n))\n",
    "    c = X.transpose().matrixMultiply(y.subtract(initial_prediction))\n",
    "    c_abs = c.abs()\n",
    "    C_maxLoc = c_abs.project([0]).argmax()\n",
    "    add_feature = C_maxLoc.getNumber(0)\n",
    "    A = ee.List([add_feature])\n",
    "    \n",
    "    # Create a dicitionary of initial inputs to pass into the main LARs iterative loop\n",
    "    # The iterate function in Earth Engine processes each iteration as a tree of iterations with no access to any variables\n",
    "    # from previous iterations, only those that are passed to the next iteration, so we must pass both the current prediction and\n",
    "    # the active set of features (with non-zero coefficients), A\n",
    "    initial_inputs = ee.Dictionary({'prediction': initial_prediction, 'A': A})\n",
    "    \n",
    "    def LARs_regression(iteration, inputs):\n",
    "        inputs = ee.Dictionary(inputs)\n",
    "        \n",
    "        # Find the active set of features, A (predictors with non-zero coefficients)\n",
    "        A = ee.List(inputs.get('A'))\n",
    "        # A_list is an array used to mask the full array of input samples and the correlation vector\n",
    "        A_list = ee.Array(ee.List.sequence(0, m.subtract(1)).map(lambda index: A.contains(index)).replaceAll(False, 0).replaceAll(True, 1)).reshape([-1,1])\n",
    "        \n",
    "        # The following matrix algebra determines the next most correlated variable, or the next best predictor considering the\n",
    "        # current features in the active set, A, as well as the magnitude to adjust the prediction vector to ensure all of the features\n",
    "        # in the active set are equally correlated to response vector\n",
    "        prediction = inputs.getArray('prediction')\n",
    "        c = X.transpose().matrixMultiply(y.subtract(prediction))\n",
    "        c_abs = c.abs()\n",
    "        C_max = c_abs.get(c_abs.argmax())\n",
    "        s_A = c.divide(c_abs).mask(A_list)\n",
    "        X_A = X.mask(A_list.transpose())\n",
    "        G_Ai = X_A.transpose().matrixMultiply(X_A).matrixInverse()\n",
    "        G1 = G_Ai.matrixMultiply(s_A)\n",
    "        A_A = s_A.project([0]).dotProduct(G1.project([0])).pow(-0.5)\n",
    "        w_A = G1.multiply(A_A)\n",
    "        u_A = X_A.matrixMultiply(w_A)\n",
    "        a = X.transpose().matrixMultiply(u_A)\n",
    "        a = a.project([0])\n",
    "        c = c.project([0])\n",
    "        \n",
    "        def compute_gammaArray(index_j):\n",
    "            minus_j = C_max.subtract(c.get([index_j])).divide(A_A.subtract(a.get([index_j])))\n",
    "            plus_j = C_max.add(c.get([index_j])).divide(A_A.add(a.get([index_j])))\n",
    "            return ee.List([minus_j, plus_j]).filter(ee.Filter.gte('item', 0)).reduce(ee.Reducer.min())\n",
    "        \n",
    "        A_c = ee.List.sequence(0, m.subtract(1)).removeAll(A)\n",
    "        gammaArray = A_c.map(compute_gammaArray)\n",
    "        gamma = gammaArray.reduce(ee.Reducer.min())\n",
    "        min_location = gammaArray.indexOf(gamma)\n",
    "        add_feature = A_c.getNumber(min_location)\n",
    "        \n",
    "        # Update our active set of variables with the next best predictor from the non-active set and update the prediction vector\n",
    "        A = A.add(add_feature)\n",
    "        prediction = prediction.add(u_A.multiply(gamma))\n",
    "        \n",
    "        return ee.Dictionary({'prediction': prediction, 'A': A})\n",
    "    \n",
    "    # For the final iteration of LARs(if selecting all of the input variables) we require a different method to determine the magnitude\n",
    "    # to adjust the magnitude of the prediction vector, as the regular LARs iteration relies on the variables in the non-active set\n",
    "    # In the final iteration there will be no variables in the non-active set, so the method will not work\n",
    "    def LARs_final_iteration(iteration, inputs):\n",
    "        inputs = ee.Dictionary(inputs)\n",
    "        A = ee.List(inputs.get('A'))\n",
    "        \n",
    "        prediction = inputs.getArray('prediction')\n",
    "        c = X.transpose().matrixMultiply(y.subtract(prediction))\n",
    "        c_abs = c.abs()\n",
    "        C_max = c_abs.get(c_abs.argmax())        \n",
    "        \n",
    "        s_A = c.divide(c_abs)\n",
    "        G_Ai = X.transpose().matrixMultiply(X).matrixInverse()\n",
    "        G1 = G_Ai.matrixMultiply(s_A)\n",
    "        A_A = s_A.project([0]).dotProduct(G1.project([0])).pow(-0.5)\n",
    "        w_A = G1.multiply(A_A)\n",
    "        u_A = X.matrixMultiply(w_A)\n",
    "        \n",
    "        gamma = C_max.divide(A_A)\n",
    "        prediction = prediction.add(u_A.multiply(gamma))\n",
    "        \n",
    "        return ee.Dictionary({'prediction': prediction, 'A': A})\n",
    "    \n",
    "    # Actually carrying out the iterations by iterating over a placeholder list which is a sequence from 1 to the number of non-zero\n",
    "    # variables that the user wishes to select as predictors for the response\n",
    "    iterations = ee.List.sequence(1, m.subtract(1).min(num_nonzero_coefficients))\n",
    "    penultimate_outputs = iterations.iterate(LARs_regression, initial_inputs)\n",
    "    final_outputs = ee.Dictionary(ee.Algorithms.If(num_nonzero_coefficients.gte(m), LARs_final_iteration(m, penultimate_outputs), penultimate_outputs))\n",
    "    \n",
    "    final_prediction = final_outputs.getArray('prediction')\n",
    "    A = ee.List(final_outputs.get('A'))\n",
    "    feature_path = A.slice(0, num_nonzero_coefficients).map(lambda index: featureList.getString(index))\n",
    "    \n",
    "    # The code snippet below is able to extract the exact coefficients on all of the selected features, but is commented out\n",
    "    # as it adds computational complexity that takes up unnecessary memory on the Google Earth Engine virtual machine since we\n",
    "    # are only using LARs as a feature selection algorithm\n",
    "\n",
    "#     coefficients = X.matrixSolve(final_prediction).project([0]).toList().map(lambda num: ee.Algorithms.If(ee.Number(num).abs().lt(0.001), 0, num))\n",
    "#     print('Coefficients')\n",
    "#     coeff = ee.Dictionary.fromLists(featureList, coefficients).getInfo()\n",
    "#     ordered_coeff = OrderedDict()\n",
    "#     var_path = feature_path.cat(featureList.removeAll(feature_path)).getInfo()\n",
    "#     for key in var_path:\n",
    "#         ordered_coeff[key] = coeff[key]\n",
    "#     print(json.dumps(ordered_coeff, indent=1))\n",
    "\n",
    "    return feature_path #.getInfo()"
   ]
  },
  {
   "cell_type": "code",
   "execution_count": 10,
   "metadata": {},
   "outputs": [],
   "source": [
    "# The following function trims input data according to an algorithm in which the response band is partitioned into n equally sized\n",
    "# partitions, and in each of the n partitions, for the features selected by LARs, they are each trimmed individually down to only the\n",
    "# 5-95 percentile of the data. We are not doing any preprocessing with the data, so the raw data is exported from Earth Engine\n",
    "# The function takes an image, a list of strings with the selected feature bands in the image, the string that is the name of the response\n",
    "# band in this image, the number of samples/pixels the user wants to take from the image, and the number of parititions to trim within\n",
    "def trim_data(image, selected_features, response_band, num_samples, num_partitions):\n",
    "    image = ee.Image(image)\n",
    "    selected_features = ee.List(selected_features)\n",
    "    response_band = ee.String(response_band)\n",
    "    num_samples = ee.Number(num_samples)\n",
    "    num_partitions = ee.Number(num_partitions)\n",
    "    \n",
    "    # Generate the list of percentile bounds for the requested number of partitions, and the names of the value bounds for the\n",
    "    # dictionary that will be generated from the percentile reducer used later on\n",
    "    percentiles = ee.List.sequence(0, 100, ee.Number(100).divide(num_partitions))\n",
    "    percentile_names = percentiles.map(lambda num: ee.Number(num).round().toInt().format(\"p%s\"))\n",
    "    \n",
    "    # Randomly sample the pixels in the input image into a feature collection containing only the selected features and the response\n",
    "    image_pixels = ee.Number(get_num_pixels(image))\n",
    "    inputsCollection = image.select(selected_features.add(response_band)).sample(numPixels=num_samples.min(image_pixels))\n",
    "    \n",
    "    # Find the values at the percentile bounds using the percentile reducer over the feature collection\n",
    "    response_percentiles = inputsCollection.reduceColumns(ee.Reducer.percentile(percentiles=percentiles, outputNames=percentile_names, maxRaw=inputsCollection.size()), [response_band])\n",
    "    \n",
    "    # Create a list of percentile bounds for each partition\n",
    "    response_partitions = response_percentiles.values(percentile_names.remove('p100')).zip(response_percentiles.values(percentile_names.remove('p0')))\n",
    "    \n",
    "    # We'll use the following function mapped over the response_partitions list to partition the data by the requested number of partitions\n",
    "    def partition_data(partition_range):\n",
    "        partition_range = ee.List(partition_range)\n",
    "        return inputsCollection.filter(ee.Filter.rangeContains(response_band, partition_range.getNumber(0), partition_range.getNumber(1)))\n",
    "    \n",
    "    partitioned_data = response_partitions.map(partition_data)\n",
    "    \n",
    "    # The following function now trims the data in each partition individually for each feature to its 5-95 percentile only\n",
    "    def trim_partitions(partition):\n",
    "        partition = ee.FeatureCollection(partition)\n",
    "        feature_trimming_bounds = selected_features.map(lambda feature: ee.List([feature]).cat(partition.reduceColumns(ee.Reducer.percentile([5, 95]), [feature]).values(['p5','p95'])))\n",
    "        def trimmer(current_feature, collection):\n",
    "            current_feature = ee.List(current_feature)\n",
    "            collection = ee.FeatureCollection(collection)\n",
    "            return collection.filter(ee.Filter.rangeContains(current_feature.getString(0), current_feature.getNumber(1), current_feature.getNumber(2)))\n",
    "        return feature_trimming_bounds.iterate(trimmer, partition)\n",
    "    \n",
    "    # Retrieve the trimmed data partitions and flatten the paritions into a single trimmed feature collection\n",
    "    trimmed_partitions = partitioned_data.map(trim_partitions)\n",
    "    trimmed_data = ee.FeatureCollection(trimmed_partitions).flatten()\n",
    "    \n",
    "    return trimmed_data"
   ]
  },
  {
   "cell_type": "code",
   "execution_count": 11,
   "metadata": {},
   "outputs": [],
   "source": [
    "def elu(x):\n",
    "    return x if x>=0 else (math.exp(x)-1)"
   ]
  },
  {
   "cell_type": "code",
   "execution_count": 12,
   "metadata": {},
   "outputs": [],
   "source": [
    "def softplus(x):\n",
    "    return math.log(math.exp(x)+1)"
   ]
  },
  {
   "cell_type": "code",
   "execution_count": 13,
   "metadata": {},
   "outputs": [],
   "source": [
    "def softsign(x):\n",
    "    return x/(abs(x)+1)"
   ]
  },
  {
   "cell_type": "code",
   "execution_count": 14,
   "metadata": {},
   "outputs": [],
   "source": [
    "def relu(x):\n",
    "    return max(x, 0.0)"
   ]
  },
  {
   "cell_type": "code",
   "execution_count": 15,
   "metadata": {},
   "outputs": [],
   "source": [
    "def tanh(x):\n",
    "    return (math.exp(2*x)-1)/(math.exp(2*x)+1)"
   ]
  },
  {
   "cell_type": "code",
   "execution_count": 16,
   "metadata": {},
   "outputs": [],
   "source": [
    "def sigmoid(x):\n",
    "    return 1/(1+math.exp(-x))"
   ]
  },
  {
   "cell_type": "code",
   "execution_count": 17,
   "metadata": {},
   "outputs": [],
   "source": [
    "def apply_nnet(inputs, keras_model):\n",
    "    \n",
    "    for layer in keras_model.layers:\n",
    "        layer_weights = layer.get_weights()\n",
    "        node_weights = layer_weights[0]\n",
    "        bias = layer_weights[1]\n",
    "        \n",
    "        inputs = inputs.dot(node_weights)+bias\n",
    "        \n",
    "        activation_function = layer.get_config()[\"activation\"]\n",
    "        if(activation_function != \"linear\"):\n",
    "            activation_function = activation_functions[activation_function]\n",
    "            \n",
    "            inputs = activation_function(inputs)\n",
    "            \n",
    "    return inputs"
   ]
  },
  {
   "cell_type": "code",
   "execution_count": 18,
   "metadata": {},
   "outputs": [],
   "source": [
    "# The following function exports the keras model in a way that can be parsed into a feature collection in Earth Engine and applied to images manually\n",
    "\n",
    "def export_nnet(keras_model):\n",
    "    nnet_data = []\n",
    "    headers = []\n",
    "    prev_layer_size = len(X.keys())\n",
    "    layer_num = 0\n",
    "    \n",
    "    for layer in keras_model.layers:\n",
    "        layer_info = layer.get_config()\n",
    "        num_nodes = layer_info[\"units\"]\n",
    "        activation_function = layer_info[\"activation\"]\n",
    "        layer_weights = layer.get_weights()[0]\n",
    "        layer_bias = layer.get_weights()[1]\n",
    "        \n",
    "        headers = list(set(headers) | set([x for x in range((prev_layer_size+1)*num_nodes)]))\n",
    "        \n",
    "        layer_data = [0, 0, layer_num, prev_layer_size, num_nodes, activation_function] + layer_weights.flatten().tolist() + layer_bias.tolist()\n",
    "        nnet_data.append(layer_data)\n",
    "        \n",
    "        prev_layer_size = num_nodes\n",
    "        layer_num += 1\n",
    "    \n",
    "    nnet_data.insert(0, [\"latitude\", \"longitude\", \"layer_num\", \"prev_layer_size\", \"num_nodes\", \"activation\"]+headers)\n",
    "    return nnet_data"
   ]
  },
  {
   "cell_type": "code",
   "execution_count": 19,
   "metadata": {},
   "outputs": [],
   "source": [
    "inputImage = format_image(inputImage, inputImage_bands, defaultBand, input_VI_definition)"
   ]
  },
  {
   "cell_type": "code",
   "execution_count": 20,
   "metadata": {},
   "outputs": [],
   "source": [
    "num_input_pixels = get_num_pixels(inputImage)"
   ]
  },
  {
   "cell_type": "code",
   "execution_count": 21,
   "metadata": {},
   "outputs": [],
   "source": [
    "scaledImage = scale_image(inputImage, defaultBand)"
   ]
  },
  {
   "cell_type": "code",
   "execution_count": 54,
   "metadata": {
    "scrolled": true
   },
   "outputs": [
    {
     "name": "stdout",
     "output_type": "stream",
     "text": [
      "B8\n"
     ]
    }
   ],
   "source": [
    "select_features = ee_LARS(scaledImage, defaultBand, 5, 10000)"
   ]
  },
  {
   "cell_type": "raw",
   "metadata": {},
   "source": [
    "Currently the trimmed data is processed then in a neural network created using tensorflow to find nonlinear relationships between the predictor and the response. Earth Engine does not have this functionality (for free) to generate neural network based models.\n",
    "\n",
    "Here we also see how the server side in the Earth Engine API is completely separate from the client side on the local machine. We need\n",
    "to export our trimmed data as a CSV to a google drive which is synced into the \"gdrive\" folder in our local machine using the \n",
    "Backup and Sync software or using google-drive-ocamlfuse on Linux"
   ]
  },
  {
   "cell_type": "code",
   "execution_count": 23,
   "metadata": {},
   "outputs": [],
   "source": [
    "# Creating the export task on the server side from Earth Engine. Remember that the data will be exported to the google drive of the google\n",
    "# account you used when you initiated the Earth Engine API authentication flow, so ensure that, that accounts drive is synced to the \n",
    "# gdrive folder in the same folder as this script\n",
    "exportData = ee.batch.Export.table.toDrive(collection=trim_data(image=inputImage, selected_features=select_features, response_band=\"estimateLAI\", num_samples=50000, num_partitions=10),\n",
    "                                           description=\"image_data_samples\",\n",
    "                                           fileFormat=\"CSV\")"
   ]
  },
  {
   "cell_type": "code",
   "execution_count": 24,
   "metadata": {},
   "outputs": [],
   "source": [
    "# Starting the export data task\n",
    "exportData.start()"
   ]
  },
  {
   "cell_type": "code",
   "execution_count": 25,
   "metadata": {
    "scrolled": true
   },
   "outputs": [
    {
     "name": "stdout",
     "output_type": "stream",
     "text": [
      "READY\n",
      "RUNNING\n",
      "COMPLETED\n"
     ]
    }
   ],
   "source": [
    "# Essentially a wait loop to see if the data has finished exporting by checking with the server-side\n",
    "prev_task_status = ee.data.getTaskStatus(exportData.id)[0][\"state\"]\n",
    "print(prev_task_status)\n",
    "while exportData.active():\n",
    "    task_status = ee.data.getTaskStatus(exportData.id)[0][\"state\"]\n",
    "    if(task_status != prev_task_status):\n",
    "        print(task_status)\n",
    "    prev_task_status = task_status\n",
    "    time.sleep(5)\n",
    "print(ee.data.getTaskStatus(exportData.id)[0][\"state\"])"
   ]
  },
  {
   "cell_type": "raw",
   "metadata": {},
   "source": [
    "For a more robust way to check if the data has been exported properly, we can use a wait loop to check on our local machine until the exported data file exists in the synced \"gdrive\" folder\n",
    "\n",
    "From here on out, all of the processing is done using your local hardware and packages, so it may be helpful to use a powerful machine."
   ]
  },
  {
   "cell_type": "code",
   "execution_count": 26,
   "metadata": {},
   "outputs": [],
   "source": [
    "# Reading the CSV file into pandas dataframes\n",
    "trimmed_data = pandas.read_csv('./gdrive/image_data_samples.csv')\n",
    "X = trimmed_data.drop(labels=['LAI', 'system:index', '.geo'], axis=1)\n",
    "y = trimmed_data.LAI"
   ]
  },
  {
   "cell_type": "code",
   "execution_count": 27,
   "metadata": {},
   "outputs": [],
   "source": [
    "# We preprocess the input features by standardizing them to a mean of 0 and a standard deviation of 1 for the neural network\n",
    "X = pandas.DataFrame(sklearn.preprocessing.scale(X))"
   ]
  },
  {
   "cell_type": "code",
   "execution_count": 28,
   "metadata": {},
   "outputs": [
    {
     "name": "stderr",
     "output_type": "stream",
     "text": [
      "2021-10-19 11:16:48.080919: I tensorflow/core/platform/cpu_feature_guard.cc:142] This TensorFlow binary is optimized with oneAPI Deep Neural Network Library (oneDNN) to use the following CPU instructions in performance-critical operations:  SSE4.1 SSE4.2 AVX AVX2 FMA\n",
      "To enable them in other operations, rebuild TensorFlow with the appropriate compiler flags.\n"
     ]
    }
   ],
   "source": [
    "# Using Keras to create a sequential model neural network which only has simple dense layers of the specified number of nodes\n",
    "LAI_model = tensorflow.keras.models.Sequential([\n",
    "    tensorflow.keras.layers.Dense(5, input_shape=[len(X.keys())]),\n",
    "    tensorflow.keras.layers.Dense(4, activation=\"softsign\"),\n",
    "    tensorflow.keras.layers.Dense(3, activation=\"softsign\"),\n",
    "    tensorflow.keras.layers.Dense(2, activation=\"softsign\"),\n",
    "    tensorflow.keras.layers.Dense(1)\n",
    "])\n",
    "# Compiling the model to minimize the mean squared error loss function and use the NADAM optimizer\n",
    "LAI_model.compile(\n",
    "    optimizer=tensorflow.keras.optimizers.Nadam(),\n",
    "    loss='mse',\n",
    "    metrics=['mse', 'mae'])"
   ]
  },
  {
   "cell_type": "code",
   "execution_count": 29,
   "metadata": {
    "scrolled": true
   },
   "outputs": [
    {
     "name": "stderr",
     "output_type": "stream",
     "text": [
      "2021-10-19 11:16:48.311893: I tensorflow/compiler/mlir/mlir_graph_optimization_pass.cc:116] None of the MLIR optimization passes are enabled (registered 2)\n"
     ]
    },
    {
     "name": "stdout",
     "output_type": "stream",
     "text": [
      "Epoch 1/100\n",
      "1143/1143 [==============================] - 3s 1ms/step - loss: 0.5265 - mse: 0.5265 - mae: 0.5150A: 0s - loss: 0.7877 - mse: 0.7\n",
      "Epoch 2/100\n",
      "1143/1143 [==============================] - 2s 1ms/step - loss: 0.0615 - mse: 0.0615 - mae: 0.1762\n",
      "Epoch 3/100\n",
      "1143/1143 [==============================] - 2s 1ms/step - loss: 0.0435 - mse: 0.0435 - mae: 0.1551\n",
      "Epoch 4/100\n",
      "1143/1143 [==============================] - 2s 1ms/step - loss: 0.0399 - mse: 0.0399 - mae: 0.1498\n",
      "Epoch 5/100\n",
      "1143/1143 [==============================] - 2s 1ms/step - loss: 0.0397 - mse: 0.0397 - mae: 0.1496\n",
      "Epoch 6/100\n",
      "1143/1143 [==============================] - 2s 1ms/step - loss: 0.0385 - mse: 0.0385 - mae: 0.1479\n",
      "Epoch 7/100\n",
      "1143/1143 [==============================] - 2s 1ms/step - loss: 0.0375 - mse: 0.0375 - mae: 0.1459\n",
      "Epoch 8/100\n",
      "1143/1143 [==============================] - 2s 1ms/step - loss: 0.0374 - mse: 0.0374 - mae: 0.1457\n",
      "Epoch 9/100\n",
      "1143/1143 [==============================] - 2s 1ms/step - loss: 0.0370 - mse: 0.0370 - mae: 0.1451\n",
      "Epoch 10/100\n",
      "1143/1143 [==============================] - 2s 1ms/step - loss: 0.0369 - mse: 0.0369 - mae: 0.1445\n",
      "Epoch 11/100\n",
      "1143/1143 [==============================] - 2s 1ms/step - loss: 0.0363 - mse: 0.0363 - mae: 0.1435\n",
      "Epoch 12/100\n",
      "1143/1143 [==============================] - 2s 1ms/step - loss: 0.0364 - mse: 0.0364 - mae: 0.1434\n",
      "Epoch 13/100\n",
      "1143/1143 [==============================] - 2s 1ms/step - loss: 0.0360 - mse: 0.0360 - mae: 0.1424\n",
      "Epoch 14/100\n",
      "1143/1143 [==============================] - 2s 1ms/step - loss: 0.0365 - mse: 0.0365 - mae: 0.1436\n",
      "Epoch 15/100\n",
      "1143/1143 [==============================] - 2s 1ms/step - loss: 0.0360 - mse: 0.0360 - mae: 0.1421\n",
      "Epoch 16/100\n",
      "1143/1143 [==============================] - 2s 1ms/step - loss: 0.0360 - mse: 0.0360 - mae: 0.1423\n",
      "Epoch 17/100\n",
      "1143/1143 [==============================] - 2s 1ms/step - loss: 0.0360 - mse: 0.0360 - mae: 0.1426\n",
      "Epoch 18/100\n",
      "1143/1143 [==============================] - 2s 1ms/step - loss: 0.0353 - mse: 0.0353 - mae: 0.1410\n",
      "Epoch 19/100\n",
      "1143/1143 [==============================] - 2s 1ms/step - loss: 0.0358 - mse: 0.0358 - mae: 0.1423\n",
      "Epoch 20/100\n",
      "1143/1143 [==============================] - 2s 1ms/step - loss: 0.0353 - mse: 0.0353 - mae: 0.1412\n",
      "Epoch 21/100\n",
      "1143/1143 [==============================] - 2s 1ms/step - loss: 0.0352 - mse: 0.0352 - mae: 0.1409\n",
      "Epoch 22/100\n",
      "1143/1143 [==============================] - 2s 1ms/step - loss: 0.0357 - mse: 0.0357 - mae: 0.1419\n",
      "Epoch 23/100\n",
      "1143/1143 [==============================] - 2s 1ms/step - loss: 0.0354 - mse: 0.0354 - mae: 0.1409\n",
      "Epoch 24/100\n",
      "1143/1143 [==============================] - 2s 1ms/step - loss: 0.0351 - mse: 0.0351 - mae: 0.1403\n",
      "Epoch 25/100\n",
      "1143/1143 [==============================] - 2s 1ms/step - loss: 0.0348 - mse: 0.0348 - mae: 0.1401\n",
      "Epoch 26/100\n",
      "1143/1143 [==============================] - 2s 1ms/step - loss: 0.0352 - mse: 0.0352 - mae: 0.1404\n",
      "Epoch 27/100\n",
      "1143/1143 [==============================] - 2s 1ms/step - loss: 0.0351 - mse: 0.0351 - mae: 0.1405\n",
      "Epoch 28/100\n",
      "1143/1143 [==============================] - 2s 1ms/step - loss: 0.0352 - mse: 0.0352 - mae: 0.1406\n",
      "Epoch 29/100\n",
      "1143/1143 [==============================] - 2s 1ms/step - loss: 0.0351 - mse: 0.0351 - mae: 0.1406\n",
      "Epoch 30/100\n",
      "1143/1143 [==============================] - 2s 1ms/step - loss: 0.0349 - mse: 0.0349 - mae: 0.1400\n",
      "Epoch 31/100\n",
      "1143/1143 [==============================] - 2s 1ms/step - loss: 0.0348 - mse: 0.0348 - mae: 0.1400\n",
      "Epoch 32/100\n",
      "1143/1143 [==============================] - 2s 1ms/step - loss: 0.0350 - mse: 0.0350 - mae: 0.1406\n",
      "Epoch 33/100\n",
      "1143/1143 [==============================] - 2s 1ms/step - loss: 0.0352 - mse: 0.0352 - mae: 0.1407\n",
      "Epoch 34/100\n",
      "1143/1143 [==============================] - 2s 1ms/step - loss: 0.0358 - mse: 0.0358 - mae: 0.1422\n",
      "Epoch 35/100\n",
      "1143/1143 [==============================] - 2s 1ms/step - loss: 0.0344 - mse: 0.0344 - mae: 0.1390\n",
      "Epoch 36/100\n",
      "1143/1143 [==============================] - 2s 1ms/step - loss: 0.0351 - mse: 0.0351 - mae: 0.1405\n",
      "Epoch 37/100\n",
      "1143/1143 [==============================] - 2s 1ms/step - loss: 0.0347 - mse: 0.0347 - mae: 0.1395\n",
      "Epoch 38/100\n",
      "1143/1143 [==============================] - 2s 1ms/step - loss: 0.0347 - mse: 0.0347 - mae: 0.1395\n",
      "Epoch 39/100\n",
      "1143/1143 [==============================] - 2s 1ms/step - loss: 0.0348 - mse: 0.0348 - mae: 0.1403\n",
      "Epoch 40/100\n",
      "1143/1143 [==============================] - 2s 1ms/step - loss: 0.0355 - mse: 0.0355 - mae: 0.1416\n",
      "Epoch 41/100\n",
      "1143/1143 [==============================] - 2s 1ms/step - loss: 0.0348 - mse: 0.0348 - mae: 0.1401\n",
      "Epoch 42/100\n",
      "1143/1143 [==============================] - 2s 1ms/step - loss: 0.0344 - mse: 0.0344 - mae: 0.1395\n",
      "Epoch 43/100\n",
      "1143/1143 [==============================] - 2s 1ms/step - loss: 0.0341 - mse: 0.0341 - mae: 0.1388\n",
      "Epoch 44/100\n",
      "1143/1143 [==============================] - 2s 1ms/step - loss: 0.0341 - mse: 0.0341 - mae: 0.1391\n",
      "Epoch 45/100\n",
      "1143/1143 [==============================] - 2s 1ms/step - loss: 0.0344 - mse: 0.0344 - mae: 0.1393\n",
      "Epoch 46/100\n",
      "1143/1143 [==============================] - 2s 1ms/step - loss: 0.0333 - mse: 0.0333 - mae: 0.1370\n",
      "Epoch 47/100\n",
      "1143/1143 [==============================] - 2s 1ms/step - loss: 0.0339 - mse: 0.0339 - mae: 0.1386\n",
      "Epoch 48/100\n",
      "1143/1143 [==============================] - 2s 1ms/step - loss: 0.0328 - mse: 0.0328 - mae: 0.1364\n",
      "Epoch 49/100\n",
      "1143/1143 [==============================] - 2s 1ms/step - loss: 0.0331 - mse: 0.0331 - mae: 0.1375\n",
      "Epoch 50/100\n",
      "1143/1143 [==============================] - 2s 1ms/step - loss: 0.0325 - mse: 0.0325 - mae: 0.1364\n",
      "Epoch 51/100\n",
      "1143/1143 [==============================] - 2s 1ms/step - loss: 0.0324 - mse: 0.0324 - mae: 0.1360\n",
      "Epoch 52/100\n",
      "1143/1143 [==============================] - 2s 1ms/step - loss: 0.0317 - mse: 0.0317 - mae: 0.1341\n",
      "Epoch 53/100\n",
      "1143/1143 [==============================] - 2s 1ms/step - loss: 0.0316 - mse: 0.0316 - mae: 0.1343\n",
      "Epoch 54/100\n",
      "1143/1143 [==============================] - 2s 1ms/step - loss: 0.0315 - mse: 0.0315 - mae: 0.1338\n",
      "Epoch 55/100\n",
      "1143/1143 [==============================] - 2s 1ms/step - loss: 0.0321 - mse: 0.0321 - mae: 0.1349\n",
      "Epoch 56/100\n",
      "1143/1143 [==============================] - 2s 1ms/step - loss: 0.0312 - mse: 0.0312 - mae: 0.1332A: 0s - loss: 0.0310 - mse: 0.\n",
      "Epoch 57/100\n",
      "1143/1143 [==============================] - 2s 1ms/step - loss: 0.0318 - mse: 0.0318 - mae: 0.1347\n",
      "Epoch 58/100\n",
      "1143/1143 [==============================] - 2s 1ms/step - loss: 0.0313 - mse: 0.0313 - mae: 0.1329\n",
      "Epoch 59/100\n",
      "1143/1143 [==============================] - 2s 1ms/step - loss: 0.0308 - mse: 0.0308 - mae: 0.1324\n",
      "Epoch 60/100\n",
      "1143/1143 [==============================] - 2s 1ms/step - loss: 0.0317 - mse: 0.0317 - mae: 0.1340\n",
      "Epoch 61/100\n",
      "1143/1143 [==============================] - 2s 2ms/step - loss: 0.0308 - mse: 0.0308 - mae: 0.1325\n",
      "Epoch 62/100\n",
      "1143/1143 [==============================] - 2s 1ms/step - loss: 0.0310 - mse: 0.0310 - mae: 0.1327\n",
      "Epoch 63/100\n",
      "1143/1143 [==============================] - 2s 1ms/step - loss: 0.0307 - mse: 0.0307 - mae: 0.1321\n",
      "Epoch 64/100\n",
      "1143/1143 [==============================] - 2s 1ms/step - loss: 0.0309 - mse: 0.0309 - mae: 0.1326\n",
      "Epoch 65/100\n",
      "1143/1143 [==============================] - 2s 1ms/step - loss: 0.0310 - mse: 0.0310 - mae: 0.1327\n",
      "Epoch 66/100\n",
      "1143/1143 [==============================] - 2s 1ms/step - loss: 0.0315 - mse: 0.0315 - mae: 0.1335\n",
      "Epoch 67/100\n",
      "1143/1143 [==============================] - 2s 1ms/step - loss: 0.0307 - mse: 0.0307 - mae: 0.1321\n",
      "Epoch 68/100\n",
      "1143/1143 [==============================] - 2s 1ms/step - loss: 0.0311 - mse: 0.0311 - mae: 0.1328\n",
      "Epoch 69/100\n",
      "1143/1143 [==============================] - 2s 1ms/step - loss: 0.0308 - mse: 0.0308 - mae: 0.1324\n",
      "Epoch 70/100\n",
      "1143/1143 [==============================] - 2s 1ms/step - loss: 0.0308 - mse: 0.0308 - mae: 0.1323\n",
      "Epoch 71/100\n",
      "1143/1143 [==============================] - 2s 1ms/step - loss: 0.0309 - mse: 0.0309 - mae: 0.1323\n",
      "Epoch 72/100\n",
      "1143/1143 [==============================] - 2s 1ms/step - loss: 0.0311 - mse: 0.0311 - mae: 0.1332\n",
      "Epoch 73/100\n",
      "1143/1143 [==============================] - 2s 1ms/step - loss: 0.0306 - mse: 0.0306 - mae: 0.1316\n",
      "Epoch 74/100\n",
      "1143/1143 [==============================] - 2s 1ms/step - loss: 0.0311 - mse: 0.0311 - mae: 0.1325\n",
      "Epoch 75/100\n",
      "1143/1143 [==============================] - 2s 1ms/step - loss: 0.0304 - mse: 0.0304 - mae: 0.1315\n",
      "Epoch 76/100\n",
      "1143/1143 [==============================] - 2s 1ms/step - loss: 0.0309 - mse: 0.0309 - mae: 0.1323\n",
      "Epoch 77/100\n",
      "1143/1143 [==============================] - 2s 1ms/step - loss: 0.0303 - mse: 0.0303 - mae: 0.1316\n",
      "Epoch 78/100\n",
      "1143/1143 [==============================] - 2s 1ms/step - loss: 0.0306 - mse: 0.0306 - mae: 0.1314\n",
      "Epoch 79/100\n",
      "1143/1143 [==============================] - 2s 1ms/step - loss: 0.0309 - mse: 0.0309 - mae: 0.1320\n",
      "Epoch 80/100\n",
      "1143/1143 [==============================] - 2s 1ms/step - loss: 0.0309 - mse: 0.0309 - mae: 0.1324\n",
      "Epoch 81/100\n",
      "1143/1143 [==============================] - 2s 1ms/step - loss: 0.0308 - mse: 0.0308 - mae: 0.1323\n",
      "Epoch 82/100\n",
      "1143/1143 [==============================] - 2s 1ms/step - loss: 0.0307 - mse: 0.0307 - mae: 0.1323\n",
      "Epoch 83/100\n",
      "1143/1143 [==============================] - 2s 2ms/step - loss: 0.0304 - mse: 0.0304 - mae: 0.1313\n",
      "Epoch 84/100\n",
      "1143/1143 [==============================] - 2s 1ms/step - loss: 0.0304 - mse: 0.0304 - mae: 0.1317A: 1s - loss: 0.03\n",
      "Epoch 85/100\n",
      "1143/1143 [==============================] - 2s 1ms/step - loss: 0.0304 - mse: 0.0304 - mae: 0.1315\n",
      "Epoch 86/100\n",
      "1143/1143 [==============================] - 2s 1ms/step - loss: 0.0306 - mse: 0.0306 - mae: 0.1315\n",
      "Epoch 87/100\n",
      "1143/1143 [==============================] - 2s 1ms/step - loss: 0.0306 - mse: 0.0306 - mae: 0.1317\n",
      "Epoch 88/100\n",
      "1143/1143 [==============================] - 2s 1ms/step - loss: 0.0303 - mse: 0.0303 - mae: 0.1314\n",
      "Epoch 89/100\n",
      "1143/1143 [==============================] - 2s 1ms/step - loss: 0.0304 - mse: 0.0304 - mae: 0.1315\n",
      "Epoch 90/100\n",
      "1143/1143 [==============================] - 2s 1ms/step - loss: 0.0309 - mse: 0.0309 - mae: 0.1323\n",
      "Epoch 91/100\n",
      "1143/1143 [==============================] - 2s 1ms/step - loss: 0.0299 - mse: 0.0299 - mae: 0.1305\n",
      "Epoch 92/100\n",
      "1143/1143 [==============================] - 2s 1ms/step - loss: 0.0308 - mse: 0.0308 - mae: 0.1328\n",
      "Epoch 93/100\n",
      "1143/1143 [==============================] - 2s 1ms/step - loss: 0.0303 - mse: 0.0303 - mae: 0.1313\n",
      "Epoch 94/100\n",
      "1143/1143 [==============================] - 2s 1ms/step - loss: 0.0301 - mse: 0.0301 - mae: 0.1310\n",
      "Epoch 95/100\n",
      "1143/1143 [==============================] - 2s 1ms/step - loss: 0.0306 - mse: 0.0306 - mae: 0.1319\n",
      "Epoch 96/100\n",
      "1143/1143 [==============================] - 2s 1ms/step - loss: 0.0306 - mse: 0.0306 - mae: 0.1315\n",
      "Epoch 97/100\n",
      "1143/1143 [==============================] - 2s 1ms/step - loss: 0.0297 - mse: 0.0297 - mae: 0.1298\n",
      "Epoch 98/100\n",
      "1143/1143 [==============================] - 2s 1ms/step - loss: 0.0299 - mse: 0.0299 - mae: 0.1304\n",
      "Epoch 99/100\n",
      "1143/1143 [==============================] - 2s 1ms/step - loss: 0.0305 - mse: 0.0305 - mae: 0.1317\n",
      "Epoch 100/100\n",
      "1143/1143 [==============================] - 2s 2ms/step - loss: 0.0303 - mse: 0.0303 - mae: 0.1311\n"
     ]
    },
    {
     "data": {
      "text/plain": [
       "<tensorflow.python.keras.callbacks.History at 0x15fbf4940>"
      ]
     },
     "execution_count": 29,
     "metadata": {},
     "output_type": "execute_result"
    }
   ],
   "source": [
    "# Fitting the model to our trimmed data\n",
    "LAI_model.fit(x = X.to_numpy(), y = y.to_numpy(), epochs = 100)"
   ]
  },
  {
   "cell_type": "code",
   "execution_count": 30,
   "metadata": {},
   "outputs": [],
   "source": [
    "# Predicting our own input data to evaluate the performance (for now)\n",
    "LAI_predictions = pandas.Series(LAI_model.predict(X.to_numpy()).flatten())"
   ]
  },
  {
   "cell_type": "raw",
   "metadata": {},
   "source": [
    "Below is code the prepares the predictions to be displayed against the true values of the response for matplotlib"
   ]
  },
  {
   "cell_type": "code",
   "execution_count": 31,
   "metadata": {},
   "outputs": [],
   "source": [
    "xy_tf_LAI = numpy.vstack([y, LAI_predictions])"
   ]
  },
  {
   "cell_type": "code",
   "execution_count": 32,
   "metadata": {},
   "outputs": [],
   "source": [
    "z_tf_LAI = scipy.stats.gaussian_kde(xy_tf_LAI)(xy_tf_LAI)"
   ]
  },
  {
   "cell_type": "code",
   "execution_count": 33,
   "metadata": {},
   "outputs": [],
   "source": [
    "idx_tf_LAI = z_tf_LAI.argsort()\n",
    "x_tf_LAI = y[idx_tf_LAI]\n",
    "y_tf_LAI = LAI_predictions[idx_tf_LAI]\n",
    "z_tf_LAI = z_tf_LAI[idx_tf_LAI]"
   ]
  },
  {
   "cell_type": "code",
   "execution_count": 34,
   "metadata": {},
   "outputs": [],
   "source": [
    "rmse_tf_LAI = sklearn.metrics.mean_squared_error(x_tf_LAI, y_tf_LAI, squared=False)"
   ]
  },
  {
   "cell_type": "code",
   "execution_count": 35,
   "metadata": {},
   "outputs": [
    {
     "data": {
      "image/png": "[encoded data removed]",
      "text/plain": [
       "<Figure size 720x720 with 1 Axes>"
      ]
     },
     "metadata": {
      "needs_background": "light"
     },
     "output_type": "display_data"
    }
   ],
   "source": [
    "a_tf_LAI = numpy.linspace(0, 3, 1000)\n",
    "\n",
    "fig, ax = plt.subplots(1, 1, figsize=(10,10))\n",
    "\n",
    "# Using all features\n",
    "ax.scatter(x_tf_LAI, y_tf_LAI, c=z_tf_LAI)\n",
    "ax.plot(a_tf_LAI, a_tf_LAI, c='r')\n",
    "ax.title.set_text('LASSO LARS (ALL BANDS) - RMSE: {}'.format(rmse_tf_LAI))"
   ]
  },
  {
   "cell_type": "raw",
   "metadata": {},
   "source": [
    "Early attempts to use the output of the kerasModel.get_weights() to apply the neural network weights manually"
   ]
  },
  {
   "cell_type": "code",
   "execution_count": 36,
   "metadata": {
    "scrolled": true
   },
   "outputs": [
    {
     "data": {
      "text/plain": [
       "[array([[-0.40172356, -0.6361276 ,  0.21687038, -0.45180467,  0.24723037],\n",
       "        [-0.20673089,  0.2077543 ,  0.04299604, -0.4803927 ,  0.89689285],\n",
       "        [ 0.65408945,  0.11779375,  0.97237015,  0.7204242 ,  0.13732888],\n",
       "        [-0.14440197,  0.26163912, -1.1197922 , -0.42515382,  0.5144163 ],\n",
       "        [ 0.61170053, -0.5548764 , -0.48054722,  0.56964326, -1.0436289 ]],\n",
       "       dtype=float32),\n",
       " array([ 0.03463357,  0.66482013, -0.3036425 ,  0.30369127, -0.3064051 ],\n",
       "       dtype=float32),\n",
       " array([[ 0.5902351 , -0.5724869 , -0.41218957, -0.8097512 ],\n",
       "        [ 0.77572864,  0.22872871, -0.43219918, -0.0955431 ],\n",
       "        [-0.894102  , -0.00676227,  0.4489888 , -1.1371137 ],\n",
       "        [ 0.04092441, -0.05060799, -1.4917845 , -0.0901638 ],\n",
       "        [-0.571173  ,  0.6452352 ,  1.6444778 , -0.16953841]],\n",
       "       dtype=float32),\n",
       " array([ 1.587594  ,  0.22609177, -0.11032189,  0.04044237], dtype=float32),\n",
       " array([[-0.5637708 , -0.21622108, -1.2856295 ],\n",
       "        [ 0.14310269, -0.42388666, -1.544916  ],\n",
       "        [ 0.23562963, -1.0787089 ,  0.17160827],\n",
       "        [-1.0228112 ,  0.48157948,  0.603084  ]], dtype=float32),\n",
       " array([-0.34465283, -0.7541204 , -0.14688969], dtype=float32),\n",
       " array([[ 0.9538837 ,  1.0870942 ],\n",
       "        [ 2.2917492 ,  0.35656488],\n",
       "        [-1.1461122 , -1.5604893 ]], dtype=float32),\n",
       " array([-0.23564066, -0.24871083], dtype=float32),\n",
       " array([[-1.8649572],\n",
       "        [-2.979621 ]], dtype=float32),\n",
       " array([0.36893162], dtype=float32)]"
      ]
     },
     "execution_count": 36,
     "metadata": {},
     "output_type": "execute_result"
    }
   ],
   "source": [
    "LAI_model.get_weights()"
   ]
  },
  {
   "cell_type": "code",
   "execution_count": 37,
   "metadata": {},
   "outputs": [],
   "source": [
    "elu = numpy.vectorize(elu)\n",
    "softplus = numpy.vectorize(softplus)\n",
    "softsign = numpy.vectorize(softsign)\n",
    "relu = numpy.vectorize(relu)\n",
    "tanh = numpy.vectorize(tanh)\n",
    "sigmoid = numpy.vectorize(sigmoid)"
   ]
  },
  {
   "cell_type": "code",
   "execution_count": 38,
   "metadata": {},
   "outputs": [],
   "source": [
    "activation_functions = {\"elu\": elu, \"softplus\": softplus, \"softsign\": softsign, \"relu\": relu, \"tanh\": tanh, \"sigmoid\": sigmoid}"
   ]
  },
  {
   "cell_type": "code",
   "execution_count": 39,
   "metadata": {},
   "outputs": [
    {
     "name": "stdout",
     "output_type": "stream",
     "text": [
      "0.6380907\n",
      "0.6380908257399461\n"
     ]
    }
   ],
   "source": [
    "row = 4802\n",
    "inputs = X.iloc[row, :].to_numpy()\n",
    "print(LAI_model.predict(inputs.reshape((-1,5)))[0][0])\n",
    "print(apply_nnet(inputs, LAI_model)[0])"
   ]
  },
  {
   "cell_type": "code",
   "execution_count": 40,
   "metadata": {},
   "outputs": [],
   "source": [
    "# Writing the neural network to a CSV file to be uploaded to the server side on Google Earth Engine\n",
    "export_data = export_nnet(LAI_model)\n",
    "with open('nnet.csv', 'w', newline='') as csvfile:\n",
    "    nnet_writer = csv.writer(csvfile)\n",
    "    for layerdata in export_data:\n",
    "        nnet_writer.writerow(layerdata)"
   ]
  },
  {
   "cell_type": "raw",
   "metadata": {},
   "source": [
    "Currently, I have not found a way to automatically upload a file as an asset into Google Earth Engine from a local script. There is a command in the Earth Engine command line interface that allows you to upload an asset from cloud storage, although cloud storage is not free. There may be a workaround way to upload the file from Google Drive directly to Earth Engine, but even that would use the Google Drive API which is a part of Google Cloud, so it will not be free. It seems the network must be uploaded manually for now."
   ]
  }
 ],
 "metadata": {
  "colab": {
   "name": "LAI_FAPAR_FCOVER_Prediction.ipynb",
   "provenance": []
  },
  "kernelspec": {
   "display_name": "Python 3 (ipykernel)",
   "language": "python",
   "name": "python3"
  },
  "language_info": {
   "codemirror_mode": {
    "name": "ipython",
    "version": 3
   },
   "file_extension": ".py",
   "mimetype": "text/x-python",
   "name": "python",
   "nbconvert_exporter": "python",
   "pygments_lexer": "ipython3",
   "version": "3.9.7"
  },
  "pycharm": {
   "stem_cell": {
    "cell_type": "raw",
    "metadata": {
     "collapsed": false
    },
    "source": []
   }
  }
 },
 "nbformat": 4,
 "nbformat_minor": 4
}
