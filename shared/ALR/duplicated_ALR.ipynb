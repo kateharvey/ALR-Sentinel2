{
 "cells": [
  {
   "cell_type": "code",
   "execution_count": null,
   "metadata": {},
   "outputs": [],
   "source": [
    "# This notebook is a copy similar to ALR_Client_Side found in:\n",
    "# https://github.com/rfernand387/ALR_Earth_Engine/blob/master/ALR_Client_Side.ipynb\n",
    "\n",
    "# Modifications have been made to accept an EE image with 10 m resolution bands that has been outputted from SL2P10_control.ipynb:\n",
    "# https://github.com/kateharvey/Sentinel2_ALR/blob/main/shared/SL2P10_control.ipynb"
   ]
  },
  {
   "cell_type": "code",
   "execution_count": 1,
   "metadata": {},
   "outputs": [],
   "source": [
    "import scipy\n",
    "import scipy.io as sio\n",
    "import matplotlib.pyplot as plt\n",
    "import numpy as np\n",
    "import pandas as pd\n",
    "import sklearn\n",
    "from sklearn import preprocessing\n",
    "from sklearn import linear_model\n",
    "import tensorflow\n",
    "import ee\n",
    "import json\n",
    "from collections import OrderedDict\n",
    "import time\n",
    "import math\n",
    "import csv\n",
    "import os\n",
    "\n",
    "# custom module\n",
    "import ALR_functions as alr"
   ]
  },
  {
   "cell_type": "code",
   "execution_count": 2,
   "metadata": {},
   "outputs": [
    {
     "data": {
      "text/html": [
       "<p>To authorize access needed by Earth Engine, open the following\n",
       "        URL in a web browser and follow the instructions:</p>\n",
       "        <p><a href=https://accounts.google.com/o/oauth2/auth?client_id=517222506229-vsmmajv00ul0bs7p89v5m89qs8eb9359.apps.googleusercontent.com&scope=https%3A%2F%2Fwww.googleapis.com%2Fauth%2Fearthengine+https%3A%2F%2Fwww.googleapis.com%2Fauth%2Fdevstorage.full_control&redirect_uri=urn%3Aietf%3Awg%3Aoauth%3A2.0%3Aoob&response_type=code&code_challenge=CYsMutzFSGSDwxsqzKz1eyuJfNxta-2fiPh9Jth-rkY&code_challenge_method=S256>https://accounts.google.com/o/oauth2/auth?client_id=517222506229-vsmmajv00ul0bs7p89v5m89qs8eb9359.apps.googleusercontent.com&scope=https%3A%2F%2Fwww.googleapis.com%2Fauth%2Fearthengine+https%3A%2F%2Fwww.googleapis.com%2Fauth%2Fdevstorage.full_control&redirect_uri=urn%3Aietf%3Awg%3Aoauth%3A2.0%3Aoob&response_type=code&code_challenge=CYsMutzFSGSDwxsqzKz1eyuJfNxta-2fiPh9Jth-rkY&code_challenge_method=S256</a></p>\n",
       "        <p>The authorization workflow will generate a code, which you\n",
       "        should paste in the box below</p>\n",
       "        "
      ],
      "text/plain": [
       "<IPython.core.display.HTML object>"
      ]
     },
     "metadata": {},
     "output_type": "display_data"
    },
    {
     "name": "stdin",
     "output_type": "stream",
     "text": [
      "Enter verification code:  4/1AX4XfWiKZr2j8JGdeXbcU4n5wjsyXMQ-3PFk29xudgWawHZW2SR1F1CG3LM\n"
     ]
    },
    {
     "name": "stdout",
     "output_type": "stream",
     "text": [
      "\n",
      "Successfully saved authorization token.\n"
     ]
    }
   ],
   "source": [
    "# Authorize the script with Earth Engine using the credentials.json file. Ensure either ee.Authenticate() has been called in a previous\n",
    "# script or the \"$ earthengine authenticate\" command has been run in the environment to set up the credentials.json file\n",
    "# The google account you provide during the authentication flow must have received access to Google Earth Engine\n",
    "ee.Authenticate()\n",
    "ee.Initialize()"
   ]
  },
  {
   "cell_type": "code",
   "execution_count": 3,
   "metadata": {},
   "outputs": [],
   "source": [
    "# Set the test image using an uploaded asset for now\n",
    "testImage = ee.Image('users/kateharvey/TestImage')\n",
    "\n",
    "# Change variable name here to match band name pattern (one of: Albedo, fAPAR, fCOVER, LAI, CCC, CWC, DASF)\n",
    "outputName = 'LAI'\n",
    "defaultBand = 'estimate'+outputName\n",
    "\n",
    "# Select bands to create 20m and 10m images\n",
    "inputImage = ee.Image(testImage.select(0,1,2,3,4,5,6,7,8,9,10,11,23,27,28,29,30,31,32,33))\n",
    "inputImage_10m = ee.Image(testImage.select(1,2,3,7,23,27,28,29,30,31,32,33))\n",
    "\n",
    "# List the bands that we expect in the image (ensure number of bands in the list below matches the number bands in the input image)\n",
    "# This is the order of bands produced by running SL2P10 and exporting the resulting ImageCollection\n",
    "inputImage_bands = ee.List(['B1', 'B2', 'B3', 'B4', 'B5', 'B6', 'B7', 'B8', 'B8A', 'B9', 'B11', 'B12', 'date', 'QC', 'estimateLAI', 'partition', 'networkID', 'errorLAI', 'partition_1', 'networkID_1'])\n",
    "inputImage_bands_10m = ee.List(['B2', 'B3', 'B4', 'B8', 'date', 'QC', 'estimateLAI', 'partition', 'networkID', 'errorLAI', 'partition_1', 'networkID_1'])"
   ]
  },
  {
   "cell_type": "markdown",
   "metadata": {},
   "source": [
    "### Vegetation Indices Sources\n",
    "\n",
    "1. https://www.hindawi.com/journals/js/2017/1353691/tab1/\n",
    "2. https://www.hiphen-plant.com/blog/vegetation-indices/\n",
    "3. https://gisgeography.com/sentinel-2-bands-combinations/"
   ]
  },
  {
   "cell_type": "code",
   "execution_count": 4,
   "metadata": {},
   "outputs": [],
   "source": [
    "# Below we define a list of strings representing the expressions for each vegetation index as a function of the bands in the input image\n",
    "# More vegetation indices can be defined, but the list CANNOT contain any two vegetation indices which are a linear combination of each\n",
    "# other or LARs will fail to select the requested number of variables\n",
    "\n",
    "# The formatting of the expression must be\n",
    "# \"<name of VI> = <expression with band names from inputImage_bands used as variables in the form b('<band name>')\"\n",
    "\n",
    "# Only include VIs that use 10 m bands (B2, B3, B4, B8)\n",
    "input_VI_definition_10m = ee.List([\"RAW_B2  = b('B2')\",\n",
    "                                   \"RAW_B3  = b('B3')\",\n",
    "                                   \"RAW_B4  = b('B4')\",\n",
    "                                   \"RAW_B8  = b('B8')\",\n",
    "                                   \"GI      = b('B3')/b('B4')\",\n",
    "                                 # \"RVI3    = b('B4')/b('B6')\",\n",
    "                                 # \"SR3     = b('B5')/b('B4')\",\n",
    "                                 # \"GM1     = b('B6')/b('B3')\",\n",
    "                                 # \"GM2     = b('B6')/b('B5')\",\n",
    "                                 # \"SR2     = b('B7')/b('B3')\",\n",
    "                                 # \"PSSR    = b('B7')/b('B4')\",\n",
    "                                   \"SGI     = b('B8')/b('B4')\",\n",
    "                                 # \"MSI     = b('B11')/b('B7')\",\n",
    "                                 # \"II      = b('B11')/b('B12')\",\n",
    "                                   \"GVI     = (b('B8')/b('B3'))-1\",\n",
    "                                 # \"PSRI    = (b('B4')-b('B3'))/b('B6')\",\n",
    "                                   \"NDVI3   = ((b('B8')-b('B4'))/(b('B8')))+b('B4')\",\n",
    "                                 # \"SR5     = 1/b('B5')\",\n",
    "                                 # \"SR6     = b('B4')/(b('B3')*b('B5'))\",\n",
    "                                 # \"SR7     = b('B8')/(b('B3')*b('B5'))\",\n",
    "                                 # \"IPVI    = b('B7')/(b('B7')+b('B4'))\",\n",
    "                                 # \"ARI     = (1/b('B3'))-(1/b('B5'))\",\n",
    "                                 # \"ARI2    = b('B7')*((1/b('B3'))-(1/b('B5')))\",\n",
    "                                   \"NDVI    = (b('B8')-b('B4'))/(b('B8')+b('B4'))\",\n",
    "                                   \"GNDVI   = (b('B8')-b('B3'))/(b('B8')+b('B3'))\",\n",
    "                                 # \"NDWI    = (b('B8')-b('B11'))/(b('B8')+b('B11'))\",\n",
    "                                 # \"NDREVI  = (b('B8')-b('B5'))/(b('B8')+b('B5'))\",\n",
    "                                   \"NDGI    = (b('B3')-b('B4'))/(b('B3')+b('B4'))\",\n",
    "                                 # \"NDI1    = (b('B7')-b('B5'))/(b('B7')-b('B4'))\",\n",
    "                                 # \"NDI2    = (b('B8')-b('B5'))/(b('B8')-b('B4'))\",\n",
    "                                 # \"RENDVI  = (b('B6')-b('B5'))/(b('B6')+b('B5'))\",\n",
    "                                 # \"OSAVI   = (1.16*(b('B7')-b('B4')))/(b('B7')+b('B4')+0.61)\",\n",
    "                                 # \"NMDI    = (b('B8')-(b('B11')-b('B12')))/(b('B8')+(b('B11')-b('B12')))\",\n",
    "                                 # \"HI      = ((b('B3')-b('B5'))/(b('B3')+b('B5')))-0.5*b('B5')\",\n",
    "                                 # \"GVSP    = (-0.283*b('B3') - 0.66*b('B4') + 0.577*b('B6') + 0.388*b('B8'))/(0.433*b('B3') - 0.632*b('B4') + 0.586*b('B6') + 0.264*b('B8A'))\",\n",
    "                                 # \"MCARI   = ((b('B5')-b('B4'))-0.2*(b('B5')-b('B3')))*(b('B5')/b('B4'))\",\n",
    "                                 # \"TCARI   = 3*((b('B5')-b('B4'))-0.2*(b('B5')-b('B3'))*(b('B5')/b('B4')))\",\n",
    "                                   \"EVI     = 2.5*((b('B8')-b('B4'))/(b('B8')+6*b('B4')-7.5*b('B3')+1))\",\n",
    "                                   \"EVI2    = 2.5*((b('B8')-b('B4'))/(b('B8')+2.4*b('B4')+1))\",\n",
    "                                   \"RDVI    = (b('B8')-b('B4'))/((b('B8')+b('B4'))**0.5)\",\n",
    "                                   \"MSR     = ((b('B8')/b('B4'))-1)/((b('B8')/b('B4'))**0.5+1)\",\n",
    "                                 # \"MSAVI   = 0.5*(2*b('B7')+1-((2*b('B7')+1)**2-8*(b('B7')-b('B4')))**0.5)\",\n",
    "                                   \"MSAVI2  = 0.5*(2*b('B8')+1-((2*b('B8')+1)**2-8*(b('B8')-b('B4')))**0.5)\",\n",
    "                                 # \"MCARI2  = (1.5*(2.5*(b('B7')-b('B4'))-1.3*(b('B7')-b('B3'))))/((((2*b('B7')+1)**2)-(6*b('B7')-5*(b('B4')**0.5))-0.5)**0.5)\",\n",
    "                                 # \"MTVI2   = (1.5*(1.2*(b('B7')-b('B3'))-2.5*(b('B4')-b('B3'))))/(((2*b('B7')+1)**2-(6*b('B7')-5*b('B4'))-0.5)**0.5)\",\n",
    "                                 # \"MSR2    = ((b('B7')/b('B4'))-1)/(((b('B7')/b('B4'))+1)**0.5)\",\n",
    "                                   \"NLI     = ((b('B8')**2)-b('B4'))/((b('B8')**2)+b('B4'))\"])\n",
    "\n",
    "\n",
    "input_VI_definition = ee.List([\"GI      = b('B3')/b('B4')\",\n",
    "                              \"RVI3    = b('B4')/b('B6')\",\n",
    "                              \"SR3     = b('B5')/b('B4')\",\n",
    "                              \"GM1     = b('B6')/b('B3')\",\n",
    "                              \"GM2     = b('B6')/b('B5')\",\n",
    "                              \"SR2     = b('B7')/b('B3')\",\n",
    "                              \"PSSR    = b('B7')/b('B4')\",\n",
    "                              \"SGI     = b('B8A')/b('B4')\",\n",
    "                              \"MSI     = b('B11')/b('B7')\",\n",
    "                              \"II      = b('B11')/b('B12')\",\n",
    "                              \"GVI     = (b('B8A')/b('B3'))-1\",\n",
    "                              \"PSRI    = (b('B4')-b('B3'))/b('B6')\",\n",
    "                              \"NDVI3   = ((b('B8A')-b('B4'))/(b('B8A')))+b('B4')\",\n",
    "                              \"SR5     = 1/b('B5')\",\n",
    "                              \"SR6     = b('B4')/(b('B3')*b('B5'))\",\n",
    "                              \"SR7     = b('B8A')/(b('B3')*b('B5'))\",\n",
    "                              \"IPVI    = b('B7')/(b('B7')+b('B4'))\",\n",
    "                              \"ARI     = (1/b('B3'))-(1/b('B5'))\",\n",
    "                              \"ARI2    = b('B7')*((1/b('B3'))-(1/b('B5')))\",\n",
    "                              \"NDVI    = (b('B8A')-b('B4'))/(b('B8A')+b('B4'))\",\n",
    "                              \"GNDVI   = (b('B8A')-b('B3'))/(b('B8A')+b('B3'))\",\n",
    "                              \"NDWI    = (b('B8A')-b('B11'))/(b('B8A')+b('B11'))\",\n",
    "                              \"NDREVI  = (b('B8A')-b('B5'))/(b('B8A')+b('B5'))\",\n",
    "                              \"NDGI    = (b('B3')-b('B4'))/(b('B3')+b('B4'))\",\n",
    "                              \"NDI1    = (b('B7')-b('B5'))/(b('B7')-b('B4'))\",\n",
    "                              \"NDI2    = (b('B8A')-b('B5'))/(b('B8A')-b('B4'))\",\n",
    "                              \"RENDVI  = (b('B6')-b('B5'))/(b('B6')+b('B5'))\",\n",
    "                              \"OSAVI   = (1.16*(b('B7')-b('B4')))/(b('B7')+b('B4')+0.61)\",\n",
    "                              \"NMDI    = (b('B8A')-(b('B11')-b('B12')))/(b('B8A')+(b('B11')-b('B12')))\",\n",
    "                              \"HI      = ((b('B3')-b('B5'))/(b('B3')+b('B5')))-0.5*b('B5')\",\n",
    "                              \"GVSP    = (-0.283*b('B3') - 0.66*b('B4') + 0.577*b('B6') + 0.388*b('B8A'))/(0.433*b('B3') - 0.632*b('B4') + 0.586*b('B6') + 0.264*b('B8A'))\",\n",
    "                              \"MCARI   = ((b('B5')-b('B4'))-0.2*(b('B5')-b('B3')))*(b('B5')/b('B4'))\",\n",
    "                              \"TCARI   = 3*((b('B5')-b('B4'))-0.2*(b('B5')-b('B3'))*(b('B5')/b('B4')))\",\n",
    "                              \"EVI     = 2.5*((b('B8A')-b('B4'))/(b('B8A')+6*b('B4')-7.5*b('B3')+1))\",\n",
    "                              \"EVI2    = 2.5*((b('B8A')-b('B4'))/(b('B8A')+2.4*b('B4')+1))\",\n",
    "                              \"RDVI    = (b('B8A')-b('B4'))/((b('B8A')+b('B4'))**0.5)\",\n",
    "                              \"MSR     = ((b('B8A')/b('B4'))-1)/((b('B8A')/b('B4'))**0.5+1)\",\n",
    "                              \"MSAVI   = 0.5*(2*b('B7')+1-((2*b('B7')+1)**2-8*(b('B7')-b('B4')))**0.5)\",\n",
    "                              \"MSAVI2  = 0.5*(2*b('B8A')+1-((2*b('B8A')+1)**2-8*(b('B8A')-b('B4')))**0.5)\",\n",
    "                              \"MCARI2  = (1.5*(2.5*(b('B7')-b('B4'))-1.3*(b('B7')-b('B3'))))/((((2*b('B7')+1)**2)-(6*b('B7')-5*(b('B4')**0.5))-0.5)**0.5)\",\n",
    "                              \"MTVI2   = (1.5*(1.2*(b('B7')-b('B3'))-2.5*(b('B4')-b('B3'))))/(((2*b('B7')+1)**2-(6*b('B7')-5*b('B4'))-0.5)**0.5)\",\n",
    "                              \"MSR2    = ((b('B7')/b('B4'))-1)/(((b('B7')/b('B4'))+1)**0.5)\",\n",
    "                              \"NLI     = ((b('B8A')**2)-b('B4'))/((b('B8A')**2)+b('B4'))\"])"
   ]
  },
  {
   "cell_type": "markdown",
   "metadata": {},
   "source": [
    "In the following functions each input is recast to the expected data type as function parameter typing is not enforced in Earth Engine\n",
    "when defining functions, and later methods called on these parameters within the function must recognize the type of the parameter\n",
    "independently of other code"
   ]
  },
  {
   "cell_type": "markdown",
   "metadata": {},
   "source": [
    "### Process images and and run LARS:"
   ]
  },
  {
   "cell_type": "code",
   "execution_count": 5,
   "metadata": {},
   "outputs": [],
   "source": [
    "inputImage = alr.format_image(inputImage, inputImage_bands, defaultBand, input_VI_definition)\n",
    "inputImage_10m = alr.format_image(inputImage_10m, inputImage_bands_10m, defaultBand, input_VI_definition_10m)"
   ]
  },
  {
   "cell_type": "code",
   "execution_count": 6,
   "metadata": {},
   "outputs": [],
   "source": [
    "num_input_pixels = alr.get_num_pixels(inputImage)"
   ]
  },
  {
   "cell_type": "code",
   "execution_count": 7,
   "metadata": {},
   "outputs": [],
   "source": [
    "scaledImage = alr.scale_image(inputImage, defaultBand)\n",
    "scaledImage_10m = alr.scale_image(inputImage_10m, defaultBand)"
   ]
  },
  {
   "cell_type": "code",
   "execution_count": 8,
   "metadata": {
    "scrolled": true
   },
   "outputs": [],
   "source": [
    "select_features = alr.ee_LARS(scaledImage, defaultBand, 5, 5000)\n",
    "select_features_10m = alr.ee_LARS(scaledImage_10m, defaultBand, 5, 5000)"
   ]
  },
  {
   "cell_type": "markdown",
   "metadata": {},
   "source": [
    "Currently the trimmed data is processed then in a neural network created using tensorflow to find nonlinear relationships between the predictor and the response. Earth Engine does not have this functionality (for free) to generate neural network based models.\n",
    "\n",
    "Here we also see how the server side in the Earth Engine API is completely separate from the client side on the local machine. We need\n",
    "to export our trimmed data as a CSV to a google drive which is synced into the \"gdrive\" folder in our local machine using the \n",
    "Backup and Sync software or using google-drive-ocamlfuse on Linux"
   ]
  },
  {
   "cell_type": "markdown",
   "metadata": {},
   "source": [
    "### Export CSV of 20m data:"
   ]
  },
  {
   "cell_type": "code",
   "execution_count": 16,
   "metadata": {},
   "outputs": [],
   "source": [
    "trimmed_collection=alr.trim_data(image=inputImage.updateMask(inputImage.select(defaultBand).gt(0)),\n",
    "                                 selected_features=select_features,\n",
    "                                 response_band=\"estimateLAI\",\n",
    "                                 num_samples=50000,\n",
    "                                 num_partitions=10)\n",
    "\n",
    "# Creating the export task on the server side from Earth Engine. Remember that the data will be exported to the google drive of the google\n",
    "# account you used when you initiated the Earth Engine API authentication flow, so ensure that, that accounts drive is synced to the \n",
    "# gdrive folder in the same folder as this script\n",
    "exportData = ee.batch.Export.table.toDrive(collection=trimmed_collection, description=\"image_data_samples\", fileFormat=\"CSV\")\n",
    "\n",
    "# Starting the export data task\n",
    "exportData.start()"
   ]
  },
  {
   "cell_type": "code",
   "execution_count": 10,
   "metadata": {
    "scrolled": true
   },
   "outputs": [
    {
     "name": "stdout",
     "output_type": "stream",
     "text": [
      "READY\n",
      "RUNNING\n",
      "COMPLETED\n"
     ]
    }
   ],
   "source": [
    "# Essentially a wait loop to see if the data has finished exporting by checking with the server-side\n",
    "prev_task_status = ee.data.getTaskStatus(exportData.id)[0][\"state\"]\n",
    "print(prev_task_status)\n",
    "while exportData.active():\n",
    "    task_status = ee.data.getTaskStatus(exportData.id)[0][\"state\"]\n",
    "    if(task_status != prev_task_status):\n",
    "        print(task_status)\n",
    "    prev_task_status = task_status\n",
    "    time.sleep(5)\n",
    "print(ee.data.getTaskStatus(exportData.id)[0][\"state\"])"
   ]
  },
  {
   "cell_type": "code",
   "execution_count": 11,
   "metadata": {},
   "outputs": [],
   "source": [
    "# Reading the CSV file into dataframes\n",
    "trimmed_data = pd.read_csv('./gdrive/image_data_samples.csv')\n",
    "X = trimmed_data.drop(labels=['estimateLAI', 'system:index', '.geo'], axis=1)\n",
    "# X = trimmed_data.drop(labels=['LAI', 'system:index', '.geo'], axis=1)\n",
    "y = trimmed_data.estimateLAI\n",
    "\n",
    "# We preprocess the input features by standardizing them to a mean of 0 and a standard deviation of 1 for the neural network\n",
    "X = pd.DataFrame(sklearn.preprocessing.scale(X))"
   ]
  },
  {
   "cell_type": "code",
   "execution_count": 12,
   "metadata": {},
   "outputs": [
    {
     "name": "stderr",
     "output_type": "stream",
     "text": [
      "2021-10-22 16:30:17.640815: I tensorflow/core/platform/cpu_feature_guard.cc:142] This TensorFlow binary is optimized with oneAPI Deep Neural Network Library (oneDNN) to use the following CPU instructions in performance-critical operations:  SSE4.1 SSE4.2 AVX AVX2 FMA\n",
      "To enable them in other operations, rebuild TensorFlow with the appropriate compiler flags.\n"
     ]
    }
   ],
   "source": [
    "# Using Keras to create a sequential model neural network which only has simple dense layers of the specified number of nodes\n",
    "LAI_model = tensorflow.keras.models.Sequential([\n",
    "    tensorflow.keras.layers.Dense(5, input_shape=[len(X.keys())]),\n",
    "    tensorflow.keras.layers.Dense(4, activation=\"softsign\"),\n",
    "    tensorflow.keras.layers.Dense(3, activation=\"softsign\"),\n",
    "    tensorflow.keras.layers.Dense(2, activation=\"softsign\"),\n",
    "    tensorflow.keras.layers.Dense(1)\n",
    "])\n",
    "# Compiling the model to minimize the mean squared error loss function and use the NADAM optimizer\n",
    "LAI_model.compile(\n",
    "    optimizer=tensorflow.keras.optimizers.Nadam(),\n",
    "    loss='mse',\n",
    "    metrics=['mse', 'mae'])"
   ]
  },
  {
   "cell_type": "code",
   "execution_count": 13,
   "metadata": {
    "scrolled": true
   },
   "outputs": [
    {
     "name": "stderr",
     "output_type": "stream",
     "text": [
      "2021-10-22 16:30:17.825991: I tensorflow/compiler/mlir/mlir_graph_optimization_pass.cc:116] None of the MLIR optimization passes are enabled (registered 2)\n"
     ]
    },
    {
     "name": "stdout",
     "output_type": "stream",
     "text": [
      "Epoch 1/100\n",
      "920/920 [==============================] - 4s 2ms/step - loss: 7749530.3377 - mse: 7749530.3377 - mae: 2630.4939\n",
      "Epoch 2/100\n",
      "920/920 [==============================] - 2s 3ms/step - loss: 7815571.3355 - mse: 7815571.3355 - mae: 2643.2294\n",
      "Epoch 3/100\n",
      "920/920 [==============================] - ETA: 0s - loss: 7729195.3011 - mse: 7729195.3011 - mae: 2626.26 - 2s 3ms/step - loss: 7729286.5136 - mse: 7729286.5136 - mae: 2626.2907\n",
      "Epoch 4/100\n",
      "920/920 [==============================] - 2s 3ms/step - loss: 7754789.8849 - mse: 7754789.8849 - mae: 2630.8915\n",
      "Epoch 5/100\n",
      "920/920 [==============================] - 3s 3ms/step - loss: 7700394.5999 - mse: 7700394.5999 - mae: 2621.6605\n",
      "Epoch 6/100\n",
      "920/920 [==============================] - 2s 2ms/step - loss: 7681519.0575 - mse: 7681519.0575 - mae: 2619.4029: 1s - loss:\n",
      "Epoch 7/100\n",
      "920/920 [==============================] - 2s 2ms/step - loss: 7715765.7231 - mse: 7715765.7231 - mae: 2624.0478\n",
      "Epoch 8/100\n",
      "920/920 [==============================] - 2s 2ms/step - loss: 7688517.9137 - mse: 7688517.9137 - mae: 2619.7438\n",
      "Epoch 9/100\n",
      "920/920 [==============================] - 2s 2ms/step - loss: 7674590.5445 - mse: 7674590.5445 - mae: 2614.9844: 0s - loss: 7675794.6706 - mse: 7675794.6706 - mae: 2615.\n",
      "Epoch 10/100\n",
      "920/920 [==============================] - 3s 3ms/step - loss: 7621287.4235 - mse: 7621287.4235 - mae: 2606.3353\n",
      "Epoch 11/100\n",
      "920/920 [==============================] - 3s 3ms/step - loss: 7646300.5727 - mse: 7646300.5727 - mae: 2609.9324\n",
      "Epoch 12/100\n",
      "920/920 [==============================] - 4s 4ms/step - loss: 7671511.0201 - mse: 7671511.0201 - mae: 2614.8843\n",
      "Epoch 13/100\n",
      "920/920 [==============================] - 3s 4ms/step - loss: 7576623.7546 - mse: 7576623.7546 - mae: 2597.1966\n",
      "Epoch 14/100\n",
      "920/920 [==============================] - 3s 3ms/step - loss: 7583529.3605 - mse: 7583529.3605 - mae: 2600.0146\n",
      "Epoch 15/100\n",
      "920/920 [==============================] - 5s 5ms/step - loss: 7541340.0847 - mse: 7541340.0847 - mae: 2590.8765: 0s - loss: 7538828.0499 - \n",
      "Epoch 16/100\n",
      "920/920 [==============================] - 4s 4ms/step - loss: 7527501.4267 - mse: 7527501.4267 - mae: 2587.8419\n",
      "Epoch 17/100\n",
      "920/920 [==============================] - 3s 4ms/step - loss: 7523949.8029 - mse: 7523949.8029 - mae: 2588.4725\n",
      "Epoch 18/100\n",
      "920/920 [==============================] - 2s 2ms/step - loss: 7582524.7134 - mse: 7582524.7134 - mae: 2597.8073\n",
      "Epoch 19/100\n",
      "920/920 [==============================] - 2s 2ms/step - loss: 7498813.0071 - mse: 7498813.0071 - mae: 2581.7315\n",
      "Epoch 20/100\n",
      "920/920 [==============================] - 2s 2ms/step - loss: 7495945.5402 - mse: 7495945.5402 - mae: 2582.4375\n",
      "Epoch 21/100\n",
      "920/920 [==============================] - 2s 2ms/step - loss: 7472204.4663 - mse: 7472204.4663 - mae: 2576.4683\n",
      "Epoch 22/100\n",
      "920/920 [==============================] - 3s 4ms/step - loss: 7471900.1118 - mse: 7471900.1118 - mae: 2576.8191\n",
      "Epoch 23/100\n",
      "920/920 [==============================] - 4s 4ms/step - loss: 7443914.9278 - mse: 7443914.9278 - mae: 2571.5307\n",
      "Epoch 24/100\n",
      "920/920 [==============================] - 8s 9ms/step - loss: 7375117.9061 - mse: 7375117.9061 - mae: 2556.9900\n",
      "Epoch 25/100\n",
      "920/920 [==============================] - 10s 11ms/step - loss: 7421652.9066 - mse: 7421652.9066 - mae: 2566.13865s\n",
      "Epoch 26/100\n",
      "920/920 [==============================] - 10s 11ms/step - loss: 7379059.8692 - mse: 7379059.8692 - mae: 2557.88394s - loss: 7373543.3324 \n",
      "Epoch 27/100\n",
      "920/920 [==============================] - 7s 8ms/step - loss: 7424915.8952 - mse: 7424915.8952 - mae: 2565.6969\n",
      "Epoch 28/100\n",
      "920/920 [==============================] - 9s 10ms/step - loss: 7384611.3268 - mse: 7384611.3268 - mae: 2560.5182\n",
      "Epoch 29/100\n",
      "920/920 [==============================] - 4s 5ms/step - loss: 7371820.9810 - mse: 7371820.9810 - mae: 2557.9791\n",
      "Epoch 30/100\n",
      "920/920 [==============================] - 5s 6ms/step - loss: 7349970.3713 - mse: 7349970.3713 - mae: 2553.5574\n",
      "Epoch 31/100\n",
      "920/920 [==============================] - 4s 5ms/step - loss: 7351040.9604 - mse: 7351040.9604 - mae: 2552.6812\n",
      "Epoch 32/100\n",
      "920/920 [==============================] - 3s 4ms/step - loss: 7290070.2155 - mse: 7290070.2155 - mae: 2540.0272\n",
      "Epoch 33/100\n",
      "920/920 [==============================] - 4s 4ms/step - loss: 7312006.5049 - mse: 7312006.5049 - mae: 2547.0672\n",
      "Epoch 34/100\n",
      "920/920 [==============================] - 3s 4ms/step - loss: 7268533.4620 - mse: 7268533.4620 - mae: 2539.9683\n",
      "Epoch 35/100\n",
      "920/920 [==============================] - 3s 3ms/step - loss: 7238166.9653 - mse: 7238166.9653 - mae: 2532.2978\n",
      "Epoch 36/100\n",
      "920/920 [==============================] - 5s 6ms/step - loss: 7280205.3708 - mse: 7280205.3708 - mae: 2538.8120\n",
      "Epoch 37/100\n",
      "920/920 [==============================] - 5s 5ms/step - loss: 7229604.7579 - mse: 7229604.7579 - mae: 2529.0350\n",
      "Epoch 38/100\n",
      "920/920 [==============================] - 3s 3ms/step - loss: 7250560.6080 - mse: 7250560.6080 - mae: 2534.3576\n",
      "Epoch 39/100\n",
      "920/920 [==============================] - 4s 4ms/step - loss: 7164552.6477 - mse: 7164552.6477 - mae: 2518.4365\n",
      "Epoch 40/100\n",
      "920/920 [==============================] - 6s 6ms/step - loss: 7196531.7215 - mse: 7196531.7215 - mae: 2522.8064\n",
      "Epoch 41/100\n",
      "920/920 [==============================] - 5s 5ms/step - loss: 7183371.1618 - mse: 7183371.1618 - mae: 2520.1512\n",
      "Epoch 42/100\n",
      "920/920 [==============================] - 4s 4ms/step - loss: 7143643.9984 - mse: 7143643.9984 - mae: 2512.7545\n",
      "Epoch 43/100\n",
      "920/920 [==============================] - 4s 4ms/step - loss: 7171677.0684 - mse: 7171677.0684 - mae: 2517.7849\n",
      "Epoch 44/100\n",
      "920/920 [==============================] - 3s 3ms/step - loss: 7184686.6580 - mse: 7184686.6580 - mae: 2518.9680\n",
      "Epoch 45/100\n",
      "920/920 [==============================] - 3s 3ms/step - loss: 7169228.8882 - mse: 7169228.8882 - mae: 2516.9299\n",
      "Epoch 46/100\n",
      "920/920 [==============================] - 3s 3ms/step - loss: 7142550.2856 - mse: 7142550.2856 - mae: 2512.8246\n",
      "Epoch 47/100\n",
      "920/920 [==============================] - 3s 3ms/step - loss: 7129652.4463 - mse: 7129652.4463 - mae: 2508.2384\n",
      "Epoch 48/100\n",
      "920/920 [==============================] - 4s 5ms/step - loss: 7073344.6992 - mse: 7073344.6992 - mae: 2499.1243\n",
      "Epoch 49/100\n",
      "920/920 [==============================] - 4s 5ms/step - loss: 7083648.2448 - mse: 7083648.2448 - mae: 2501.1188\n",
      "Epoch 50/100\n",
      "920/920 [==============================] - 3s 3ms/step - loss: 7099891.8377 - mse: 7099891.8377 - mae: 2504.6960\n",
      "Epoch 51/100\n",
      "920/920 [==============================] - 3s 3ms/step - loss: 7110300.4897 - mse: 7110300.4897 - mae: 2505.4054\n",
      "Epoch 52/100\n",
      "920/920 [==============================] - 4s 4ms/step - loss: 7075242.8632 - mse: 7075242.8632 - mae: 2497.3038: 0s - loss: 7079833.0540 - mse: 7079833\n",
      "Epoch 53/100\n",
      "920/920 [==============================] - 3s 3ms/step - loss: 7047193.6151 - mse: 7047193.6151 - mae: 2493.1948\n",
      "Epoch 54/100\n",
      "920/920 [==============================] - 4s 4ms/step - loss: 7011134.2508 - mse: 7011134.2508 - mae: 2487.0370\n",
      "Epoch 55/100\n",
      "920/920 [==============================] - 4s 4ms/step - loss: 7018523.8132 - mse: 7018523.8132 - mae: 2487.7099\n",
      "Epoch 56/100\n",
      "920/920 [==============================] - 4s 4ms/step - loss: 7005605.8550 - mse: 7005605.8550 - mae: 2485.3013\n",
      "Epoch 57/100\n",
      "920/920 [==============================] - 4s 4ms/step - loss: 7008900.1428 - mse: 7008900.1428 - mae: 2485.1180\n",
      "Epoch 58/100\n",
      "920/920 [==============================] - 3s 4ms/step - loss: 6986977.4843 - mse: 6986977.4843 - mae: 2481.9590\n",
      "Epoch 59/100\n",
      "920/920 [==============================] - 3s 4ms/step - loss: 6905330.5950 - mse: 6905330.5950 - mae: 2463.0211: 1s - loss: 6884668.9361 - mse: - ETA: 0s - loss: 6899041.9822 - mse: 6\n",
      "Epoch 60/100\n",
      "920/920 [==============================] - 4s 4ms/step - loss: 6938967.3860 - mse: 6938967.3860 - mae: 2471.9322\n",
      "Epoch 61/100\n",
      "920/920 [==============================] - 3s 3ms/step - loss: 6941264.9055 - mse: 6941264.9055 - mae: 2473.4535\n",
      "Epoch 62/100\n",
      "920/920 [==============================] - 3s 3ms/step - loss: 6895984.5532 - mse: 6895984.5532 - mae: 2461.5519\n",
      "Epoch 63/100\n",
      "920/920 [==============================] - 3s 3ms/step - loss: 6903419.3143 - mse: 6903419.3143 - mae: 2465.9932\n",
      "Epoch 64/100\n",
      "920/920 [==============================] - 3s 3ms/step - loss: 6835075.9517 - mse: 6835075.9517 - mae: 2451.0105: 0s - loss: 6828515.9048 - mse: 6828515.9\n",
      "Epoch 65/100\n",
      "920/920 [==============================] - 3s 3ms/step - loss: 6851144.6374 - mse: 6851144.6374 - mae: 2453.2672\n",
      "Epoch 66/100\n",
      "920/920 [==============================] - 3s 3ms/step - loss: 6860133.8046 - mse: 6860133.8046 - mae: 2454.8442\n",
      "Epoch 67/100\n",
      "920/920 [==============================] - 3s 3ms/step - loss: 6827794.9099 - mse: 6827794.9099 - mae: 2448.3926\n",
      "Epoch 68/100\n",
      "920/920 [==============================] - 3s 3ms/step - loss: 6830095.4126 - mse: 6830095.4126 - mae: 2449.9797\n",
      "Epoch 69/100\n",
      "920/920 [==============================] - 3s 3ms/step - loss: 6812245.3719 - mse: 6812245.3719 - mae: 2447.1862\n",
      "Epoch 70/100\n",
      "920/920 [==============================] - 3s 3ms/step - loss: 6812960.5917 - mse: 6812960.5917 - mae: 2444.0992\n",
      "Epoch 71/100\n",
      "920/920 [==============================] - 3s 3ms/step - loss: 6828576.2530 - mse: 6828576.2530 - mae: 2452.4327\n",
      "Epoch 72/100\n",
      "920/920 [==============================] - 3s 3ms/step - loss: 6760792.7921 - mse: 6760792.7921 - mae: 2435.3245\n",
      "Epoch 73/100\n",
      "920/920 [==============================] - 3s 4ms/step - loss: 6737313.0945 - mse: 6737313.0945 - mae: 2432.8022\n",
      "Epoch 74/100\n",
      "920/920 [==============================] - 3s 3ms/step - loss: 6781980.6748 - mse: 6781980.6748 - mae: 2440.7500\n",
      "Epoch 75/100\n",
      "920/920 [==============================] - 3s 3ms/step - loss: 6756248.7014 - mse: 6756248.7014 - mae: 2434.6773\n",
      "Epoch 76/100\n",
      "920/920 [==============================] - 3s 3ms/step - loss: 6709373.0478 - mse: 6709373.0478 - mae: 2424.5859\n",
      "Epoch 77/100\n",
      "920/920 [==============================] - 3s 3ms/step - loss: 6709108.2752 - mse: 6709108.2752 - mae: 2425.7616\n",
      "Epoch 78/100\n",
      "920/920 [==============================] - 3s 4ms/step - loss: 6665008.4881 - mse: 6665008.4881 - mae: 2416.5502: 0s - loss: 6655174.9190 - ms\n",
      "Epoch 79/100\n",
      "920/920 [==============================] - 3s 3ms/step - loss: 6669732.3637 - mse: 6669732.3637 - mae: 2418.8022\n",
      "Epoch 80/100\n",
      "920/920 [==============================] - 3s 3ms/step - loss: 6630867.1135 - mse: 6630867.1135 - mae: 2409.9556\n",
      "Epoch 81/100\n",
      "920/920 [==============================] - 3s 4ms/step - loss: 6630671.2134 - mse: 6630671.2134 - mae: 2408.7200: 1s -\n",
      "Epoch 82/100\n",
      "920/920 [==============================] - 4s 4ms/step - loss: 6695110.1129 - mse: 6695110.1129 - mae: 2421.6183\n",
      "Epoch 83/100\n",
      "920/920 [==============================] - 3s 3ms/step - loss: 6671054.1156 - mse: 6671054.1156 - mae: 2415.8320\n",
      "Epoch 84/100\n",
      "920/920 [==============================] - 3s 3ms/step - loss: 6602447.1602 - mse: 6602447.1602 - mae: 2402.2549\n",
      "Epoch 85/100\n",
      "920/920 [==============================] - 3s 4ms/step - loss: 6572607.4392 - mse: 6572607.4392 - mae: 2396.6287\n",
      "Epoch 86/100\n",
      "920/920 [==============================] - 3s 4ms/step - loss: 6569085.9484 - mse: 6569085.9484 - mae: 2394.4098\n",
      "Epoch 87/100\n",
      "920/920 [==============================] - 3s 3ms/step - loss: 6599960.9267 - mse: 6599960.9267 - mae: 2400.9658\n",
      "Epoch 88/100\n",
      "920/920 [==============================] - 3s 4ms/step - loss: 6508271.3865 - mse: 6508271.3865 - mae: 2381.2761\n",
      "Epoch 89/100\n",
      "920/920 [==============================] - 4s 4ms/step - loss: 6542045.2687 - mse: 6542045.2687 - mae: 2391.0880\n",
      "Epoch 90/100\n",
      "920/920 [==============================] - 5s 5ms/step - loss: 6496536.6260 - mse: 6496536.6260 - mae: 2379.8638\n",
      "Epoch 91/100\n",
      "920/920 [==============================] - 4s 4ms/step - loss: 6523314.1900 - mse: 6523314.1900 - mae: 2386.8088\n",
      "Epoch 92/100\n",
      "920/920 [==============================] - 4s 4ms/step - loss: 6499619.0022 - mse: 6499619.0022 - mae: 2379.8148\n",
      "Epoch 93/100\n",
      "920/920 [==============================] - 3s 4ms/step - loss: 6537275.4430 - mse: 6537275.4430 - mae: 2389.5982\n",
      "Epoch 94/100\n",
      "920/920 [==============================] - 3s 4ms/step - loss: 6501352.4739 - mse: 6501352.4739 - mae: 2381.9134: 1s - loss: 6508972.8831 -  - ETA: 0s - loss: 6505353.1765 - mse: 6505353.1765 - \n",
      "Epoch 95/100\n",
      "920/920 [==============================] - 4s 4ms/step - loss: 6466913.9946 - mse: 6466913.9946 - mae: 2373.2911\n",
      "Epoch 96/100\n",
      "920/920 [==============================] - 4s 4ms/step - loss: 6457765.8404 - mse: 6457765.8404 - mae: 2369.6971\n",
      "Epoch 97/100\n",
      "920/920 [==============================] - 3s 4ms/step - loss: 6425043.5440 - mse: 6425043.5440 - mae: 2364.4061\n",
      "Epoch 98/100\n",
      "920/920 [==============================] - 3s 4ms/step - loss: 6437661.1743 - mse: 6437661.1743 - mae: 2368.3019\n",
      "Epoch 99/100\n",
      "920/920 [==============================] - 4s 4ms/step - loss: 6420570.3681 - mse: 6420570.3681 - mae: 2364.9871\n",
      "Epoch 100/100\n",
      "920/920 [==============================] - 4s 4ms/step - loss: 6395726.6645 - mse: 6395726.6645 - mae: 2358.5324\n"
     ]
    },
    {
     "data": {
      "text/plain": [
       "<tensorflow.python.keras.callbacks.History at 0x163ff8be0>"
      ]
     },
     "execution_count": 13,
     "metadata": {},
     "output_type": "execute_result"
    }
   ],
   "source": [
    "# Fitting the model to our trimmed data\n",
    "LAI_model.fit(x=X.to_numpy(), y=y.to_numpy(), epochs=100)"
   ]
  },
  {
   "cell_type": "code",
   "execution_count": 14,
   "metadata": {},
   "outputs": [],
   "source": [
    "# Predicting our own input data to evaluate the performance (for now)\n",
    "LAI_predictions = pd.Series(LAI_model.predict(X.to_numpy()).flatten())"
   ]
  },
  {
   "cell_type": "markdown",
   "metadata": {},
   "source": [
    "### Repeat export for 10 m data:"
   ]
  },
  {
   "cell_type": "code",
   "execution_count": 15,
   "metadata": {},
   "outputs": [],
   "source": [
    "exportData_10m = ee.batch.Export.table.toDrive(collection=alr.trim_data(image=inputImage_10m.updateMask(inputImage_10m.select(defaultBand).gt(0)), selected_features=select_features_10m, response_band=\"estimateLAI\", num_samples=50000, num_partitions=10),\n",
    "                                           description=\"image_data_samples_10m\",\n",
    "                                           fileFormat=\"CSV\")\n",
    "\n",
    "exportData_10m.start()"
   ]
  },
  {
   "cell_type": "code",
   "execution_count": 16,
   "metadata": {},
   "outputs": [
    {
     "name": "stdout",
     "output_type": "stream",
     "text": [
      "READY\n",
      "RUNNING\n",
      "COMPLETED\n"
     ]
    }
   ],
   "source": [
    "# Essentially a wait loop to see if the data has finished exporting by checking with the server-side\n",
    "prev_task_status_10m = ee.data.getTaskStatus(exportData_10m.id)[0][\"state\"]\n",
    "print(prev_task_status_10m)\n",
    "while exportData_10m.active():\n",
    "    task_status_10m = ee.data.getTaskStatus(exportData_10m.id)[0][\"state\"]\n",
    "    if(task_status_10m != prev_task_status_10m):\n",
    "        print(task_status_10m)\n",
    "    prev_task_status_10m = task_status_10m\n",
    "    time.sleep(5)\n",
    "print(ee.data.getTaskStatus(exportData_10m.id)[0][\"state\"])"
   ]
  },
  {
   "cell_type": "code",
   "execution_count": 28,
   "metadata": {},
   "outputs": [],
   "source": [
    "# Reading the CSV file into dataframes\n",
    "trimmed_data_10m = pd.read_csv('./gdrive/image_data_samples_10m.csv')\n",
    "X_10m = trimmed_data_10m.drop(labels=['estimateLAI', 'system:index', '.geo'], axis=1)\n",
    "# X_10m = trimmed_data_10m.drop(labels=['LAI', 'system:index', '.geo'], axis=1)\n",
    "y_10m = trimmed_data_10m.estimateLAI\n",
    "\n",
    "# We preprocess the input features by standardizing them to a mean of 0 and a standard deviation of 1 for the neural network\n",
    "X_10m = pd.DataFrame(sklearn.preprocessing.scale(X_10m))"
   ]
  },
  {
   "cell_type": "code",
   "execution_count": 29,
   "metadata": {},
   "outputs": [],
   "source": [
    "# Using Keras to create a sequential model neural network which only has simple dense layers of the specified number of nodes\n",
    "LAI_model_10m = tensorflow.keras.models.Sequential([\n",
    "    tensorflow.keras.layers.Dense(5, input_shape=[len(X_10m.keys())]),\n",
    "    tensorflow.keras.layers.Dense(4, activation=\"softsign\"),\n",
    "    tensorflow.keras.layers.Dense(3, activation=\"softsign\"),\n",
    "    tensorflow.keras.layers.Dense(2, activation=\"softsign\"),\n",
    "    tensorflow.keras.layers.Dense(1)\n",
    "])\n",
    "# Compiling the model to minimize the mean squared error loss function and use the NADAM optimizer\n",
    "LAI_model_10m.compile(\n",
    "    optimizer=tensorflow.keras.optimizers.Nadam(),\n",
    "    loss='mse',\n",
    "    metrics=['mse', 'mae'])"
   ]
  },
  {
   "cell_type": "code",
   "execution_count": 30,
   "metadata": {},
   "outputs": [
    {
     "name": "stdout",
     "output_type": "stream",
     "text": [
      "Epoch 1/100\n",
      "920/920 [==============================] - 4s 3ms/step - loss: 7775097.5744 - mse: 7775097.5744 - mae: 2636.5415\n",
      "Epoch 2/100\n",
      "920/920 [==============================] - 3s 3ms/step - loss: 7765253.7269 - mse: 7765253.7269 - mae: 2633.8835\n",
      "Epoch 3/100\n",
      "920/920 [==============================] - 2s 2ms/step - loss: 7744142.0635 - mse: 7744142.0635 - mae: 2627.6154\n",
      "Epoch 4/100\n",
      "920/920 [==============================] - 2s 2ms/step - loss: 7728986.2997 - mse: 7728986.2997 - mae: 2626.1004\n",
      "Epoch 5/100\n",
      "920/920 [==============================] - 3s 4ms/step - loss: 7704136.9126 - mse: 7704136.9126 - mae: 2623.7105\n",
      "Epoch 6/100\n",
      "920/920 [==============================] - 3s 3ms/step - loss: 7666167.0831 - mse: 7666167.0831 - mae: 2613.0599\n",
      "Epoch 7/100\n",
      "920/920 [==============================] - 3s 4ms/step - loss: 7681847.8181 - mse: 7681847.8181 - mae: 2617.2612\n",
      "Epoch 8/100\n",
      "920/920 [==============================] - 3s 3ms/step - loss: 7634738.3474 - mse: 7634738.3474 - mae: 2610.4953\n",
      "Epoch 9/100\n",
      "920/920 [==============================] - ETA: 0s - loss: 7640626.7900 - mse: 7640626.7900 - mae: 2609.53 - 3s 4ms/step - loss: 7640658.3708 - mse: 7640658.3708 - mae: 2609.5452\n",
      "Epoch 10/100\n",
      "920/920 [==============================] - 5s 5ms/step - loss: 7603798.1520 - mse: 7603798.1520 - mae: 2603.0237\n",
      "Epoch 11/100\n",
      "920/920 [==============================] - 4s 5ms/step - loss: 7637497.0673 - mse: 7637497.0673 - mae: 2609.6743: 0s - loss: 7641645.991\n",
      "Epoch 12/100\n",
      "920/920 [==============================] - 5s 5ms/step - loss: 7637097.5695 - mse: 7637097.5695 - mae: 2611.1281\n",
      "Epoch 13/100\n",
      "920/920 [==============================] - 4s 4ms/step - loss: 7606811.9555 - mse: 7606811.9555 - mae: 2602.0716\n",
      "Epoch 14/100\n",
      "920/920 [==============================] - 4s 5ms/step - loss: 7580308.2416 - mse: 7580308.2416 - mae: 2598.0295: 3s - loss: 7\n",
      "Epoch 15/100\n",
      "920/920 [==============================] - 4s 4ms/step - loss: 7572131.7763 - mse: 7572131.7763 - mae: 2596.5746\n",
      "Epoch 16/100\n",
      "920/920 [==============================] - 4s 4ms/step - loss: 7558176.3545 - mse: 7558176.3545 - mae: 2593.5247\n",
      "Epoch 17/100\n",
      "920/920 [==============================] - 4s 4ms/step - loss: 7523932.5081 - mse: 7523932.5081 - mae: 2586.4756\n",
      "Epoch 18/100\n",
      "920/920 [==============================] - 3s 3ms/step - loss: 7491172.1444 - mse: 7491172.1444 - mae: 2583.5655\n",
      "Epoch 19/100\n",
      "920/920 [==============================] - 3s 3ms/step - loss: 7489955.5771 - mse: 7489955.5771 - mae: 2580.4868\n",
      "Epoch 20/100\n",
      "920/920 [==============================] - 3s 3ms/step - loss: 7440248.6547 - mse: 7440248.6547 - mae: 2573.4355\n",
      "Epoch 21/100\n",
      "920/920 [==============================] - 3s 3ms/step - loss: 7472622.0456 - mse: 7472622.0456 - mae: 2577.4295\n",
      "Epoch 22/100\n",
      "920/920 [==============================] - 5s 6ms/step - loss: 7498577.5749 - mse: 7498577.5749 - mae: 2583.2431\n",
      "Epoch 23/100\n",
      "920/920 [==============================] - 3s 4ms/step - loss: 7441696.4300 - mse: 7441696.4300 - mae: 2573.9342\n",
      "Epoch 24/100\n",
      "920/920 [==============================] - 4s 4ms/step - loss: 7448191.7085 - mse: 7448191.7085 - mae: 2573.1683: 0s - loss: 7451940.4137 - ms\n",
      "Epoch 25/100\n",
      "920/920 [==============================] - 4s 4ms/step - loss: 7412258.4256 - mse: 7412258.4256 - mae: 2566.7400\n",
      "Epoch 26/100\n",
      "920/920 [==============================] - 3s 3ms/step - loss: 7395489.7486 - mse: 7395489.7486 - mae: 2563.0180\n",
      "Epoch 27/100\n",
      "920/920 [==============================] - 3s 3ms/step - loss: 7430443.3762 - mse: 7430443.3762 - mae: 2569.1185\n",
      "Epoch 28/100\n",
      "920/920 [==============================] - 3s 3ms/step - loss: 7366274.2079 - mse: 7366274.2079 - mae: 2557.0925\n",
      "Epoch 29/100\n",
      "920/920 [==============================] - 3s 3ms/step - loss: 7394263.6026 - mse: 7394263.6026 - mae: 2560.6498\n",
      "Epoch 30/100\n",
      "920/920 [==============================] - 3s 3ms/step - loss: 7330954.2644 - mse: 7330954.2644 - mae: 2550.6599\n",
      "Epoch 31/100\n",
      "920/920 [==============================] - 2s 3ms/step - loss: 7314081.7269 - mse: 7314081.7269 - mae: 2545.8830\n",
      "Epoch 32/100\n",
      "920/920 [==============================] - 2s 3ms/step - loss: 7282506.8067 - mse: 7282506.8067 - mae: 2538.6976\n",
      "Epoch 33/100\n",
      "920/920 [==============================] - 2s 3ms/step - loss: 7301803.3507 - mse: 7301803.3507 - mae: 2544.9363\n",
      "Epoch 34/100\n",
      "920/920 [==============================] - 2s 3ms/step - loss: 7303063.3127 - mse: 7303063.3127 - mae: 2544.4669\n",
      "Epoch 35/100\n",
      "920/920 [==============================] - 2s 3ms/step - loss: 7277147.3588 - mse: 7277147.3588 - mae: 2540.7695\n",
      "Epoch 36/100\n",
      "920/920 [==============================] - 2s 3ms/step - loss: 7236924.5337 - mse: 7236924.5337 - mae: 2531.8245\n",
      "Epoch 37/100\n",
      "920/920 [==============================] - 2s 3ms/step - loss: 7229801.3724 - mse: 7229801.3724 - mae: 2530.6500\n",
      "Epoch 38/100\n",
      "920/920 [==============================] - 3s 3ms/step - loss: 7224926.3979 - mse: 7224926.3979 - mae: 2529.4694\n",
      "Epoch 39/100\n",
      "920/920 [==============================] - 3s 3ms/step - loss: 7238089.7497 - mse: 7238089.7497 - mae: 2531.1700: 1s - l\n",
      "Epoch 40/100\n",
      "920/920 [==============================] - 3s 3ms/step - loss: 7176996.5461 - mse: 7176996.5461 - mae: 2518.8024\n",
      "Epoch 41/100\n",
      "920/920 [==============================] - 4s 4ms/step - loss: 7188046.9745 - mse: 7188046.9745 - mae: 2522.6804\n",
      "Epoch 42/100\n",
      "920/920 [==============================] - 4s 4ms/step - loss: 7198800.2454 - mse: 7198800.2454 - mae: 2524.4004\n",
      "Epoch 43/100\n",
      "920/920 [==============================] - 3s 4ms/step - loss: 7195356.2698 - mse: 7195356.2698 - mae: 2523.4341\n",
      "Epoch 44/100\n",
      "920/920 [==============================] - 3s 4ms/step - loss: 7137635.9055 - mse: 7137635.9055 - mae: 2511.3053\n",
      "Epoch 45/100\n",
      "920/920 [==============================] - 3s 4ms/step - loss: 7117934.6705 - mse: 7117934.6705 - mae: 2506.8143\n",
      "Epoch 46/100\n",
      "920/920 [==============================] - 3s 3ms/step - loss: 7116416.0700 - mse: 7116416.0700 - mae: 2507.3416\n",
      "Epoch 47/100\n",
      "920/920 [==============================] - 3s 3ms/step - loss: 7082145.9897 - mse: 7082145.9897 - mae: 2499.6146\n",
      "Epoch 48/100\n",
      "920/920 [==============================] - 3s 4ms/step - loss: 7135709.3914 - mse: 7135709.3914 - mae: 2510.2033\n",
      "Epoch 49/100\n",
      "920/920 [==============================] - 3s 3ms/step - loss: 7060187.1797 - mse: 7060187.1797 - mae: 2495.4056\n",
      "Epoch 50/100\n",
      "920/920 [==============================] - 3s 3ms/step - loss: 7072436.4452 - mse: 7072436.4452 - mae: 2498.1291\n",
      "Epoch 51/100\n",
      "920/920 [==============================] - 3s 3ms/step - loss: 7050400.1678 - mse: 7050400.1678 - mae: 2494.1972\n",
      "Epoch 52/100\n",
      "920/920 [==============================] - 3s 3ms/step - loss: 7048608.6748 - mse: 7048608.6748 - mae: 2494.0651\n",
      "Epoch 53/100\n",
      "920/920 [==============================] - 3s 3ms/step - loss: 6998382.8855 - mse: 6998382.8855 - mae: 2483.0701\n",
      "Epoch 54/100\n",
      "920/920 [==============================] - 3s 3ms/step - loss: 6983414.1726 - mse: 6983414.1726 - mae: 2482.1110\n",
      "Epoch 55/100\n",
      "920/920 [==============================] - 3s 3ms/step - loss: 7037129.2313 - mse: 7037129.2313 - mae: 2491.1320\n",
      "Epoch 56/100\n",
      "920/920 [==============================] - 3s 3ms/step - loss: 6970987.8046 - mse: 6970987.8046 - mae: 2476.6945\n",
      "Epoch 57/100\n",
      "920/920 [==============================] - 3s 3ms/step - loss: 6981538.5847 - mse: 6981538.5847 - mae: 2479.7596\n",
      "Epoch 58/100\n",
      "920/920 [==============================] - 3s 3ms/step - loss: 6977136.6216 - mse: 6977136.6216 - mae: 2481.3210\n",
      "Epoch 59/100\n",
      "920/920 [==============================] - 3s 3ms/step - loss: 6926960.0689 - mse: 6926960.0689 - mae: 2467.3672\n",
      "Epoch 60/100\n",
      "920/920 [==============================] - 3s 3ms/step - loss: 6939660.0820 - mse: 6939660.0820 - mae: 2472.0615\n",
      "Epoch 61/100\n",
      "920/920 [==============================] - 4s 4ms/step - loss: 6910907.5852 - mse: 6910907.5852 - mae: 2464.4751\n",
      "Epoch 62/100\n",
      "920/920 [==============================] - 3s 3ms/step - loss: 6920703.6732 - mse: 6920703.6732 - mae: 2467.9038\n",
      "Epoch 63/100\n",
      "920/920 [==============================] - 3s 3ms/step - loss: 6927415.0407 - mse: 6927415.0407 - mae: 2469.2054\n",
      "Epoch 64/100\n",
      "920/920 [==============================] - 3s 4ms/step - loss: 6869065.0912 - mse: 6869065.0912 - mae: 2458.2571: 1s - loss: 6866033\n",
      "Epoch 65/100\n",
      "920/920 [==============================] - 3s 3ms/step - loss: 6858353.3561 - mse: 6858353.3561 - mae: 2455.4943\n",
      "Epoch 66/100\n",
      "920/920 [==============================] - 3s 3ms/step - loss: 6847661.8409 - mse: 6847661.8409 - mae: 2451.6975: 1s\n",
      "Epoch 67/100\n",
      "920/920 [==============================] - 2s 3ms/step - loss: 6857650.7210 - mse: 6857650.7210 - mae: 2455.1634: 0s - loss: 6867464.8291 - mse: 686\n",
      "Epoch 68/100\n",
      "920/920 [==============================] - 2s 2ms/step - loss: 6830092.5445 - mse: 6830092.5445 - mae: 2449.5805\n",
      "Epoch 69/100\n",
      "920/920 [==============================] - 3s 3ms/step - loss: 6755353.9012 - mse: 6755353.9012 - mae: 2433.2532\n",
      "Epoch 70/100\n",
      "920/920 [==============================] - 3s 3ms/step - loss: 6810127.6954 - mse: 6810127.6954 - mae: 2443.8960\n",
      "Epoch 71/100\n",
      "920/920 [==============================] - 3s 3ms/step - loss: 6751315.2796 - mse: 6751315.2796 - mae: 2436.4078\n",
      "Epoch 72/100\n",
      "920/920 [==============================] - 3s 3ms/step - loss: 6768837.4137 - mse: 6768837.4137 - mae: 2435.9968: 0s - loss: 6768843.6844 - mse: 6768843.6844 - mae:\n",
      "Epoch 73/100\n",
      "920/920 [==============================] - 3s 3ms/step - loss: 6758443.6189 - mse: 6758443.6189 - mae: 2435.7827\n",
      "Epoch 74/100\n",
      "920/920 [==============================] - 3s 3ms/step - loss: 6722812.9544 - mse: 6722812.9544 - mae: 2428.7002\n",
      "Epoch 75/100\n",
      "920/920 [==============================] - 3s 3ms/step - loss: 6739662.2291 - mse: 6739662.2291 - mae: 2431.5335\n",
      "Epoch 76/100\n",
      "920/920 [==============================] - 3s 3ms/step - loss: 6743116.2030 - mse: 6743116.2030 - mae: 2431.4555\n",
      "Epoch 77/100\n",
      "920/920 [==============================] - 4s 5ms/step - loss: 6694759.5043 - mse: 6694759.5043 - mae: 2420.3970: 0s - loss: 6694642.4423 - mse: 6694642.4423 - \n",
      "Epoch 78/100\n",
      "920/920 [==============================] - 4s 4ms/step - loss: 6722878.9951 - mse: 6722878.9951 - mae: 2425.5553: 1s - loss: 6732900\n",
      "Epoch 79/100\n",
      "920/920 [==============================] - 3s 4ms/step - loss: 6702497.2590 - mse: 6702497.2590 - mae: 2422.0910\n",
      "Epoch 80/100\n",
      "920/920 [==============================] - 3s 3ms/step - loss: 6694137.5201 - mse: 6694137.5201 - mae: 2422.4048\n",
      "Epoch 81/100\n",
      "920/920 [==============================] - 3s 3ms/step - loss: 6645028.4680 - mse: 6645028.4680 - mae: 2411.9456: 1s - loss: 663\n",
      "Epoch 82/100\n",
      "920/920 [==============================] - 3s 3ms/step - loss: 6639989.1835 - mse: 6639989.1835 - mae: 2410.9223\n",
      "Epoch 83/100\n",
      "920/920 [==============================] - 3s 3ms/step - loss: 6615737.1363 - mse: 6615737.1363 - mae: 2403.1707\n",
      "Epoch 84/100\n",
      "920/920 [==============================] - 3s 3ms/step - loss: 6585114.9913 - mse: 6585114.9913 - mae: 2397.9029: 1s - l\n",
      "Epoch 85/100\n",
      "920/920 [==============================] - 3s 3ms/step - loss: 6648294.5890 - mse: 6648294.5890 - mae: 2412.7149\n",
      "Epoch 86/100\n",
      "920/920 [==============================] - 3s 3ms/step - loss: 6590933.8458 - mse: 6590933.8458 - mae: 2400.6013: 0s - loss: 6591080.1408 - mse: 6591080.1408 - mae: 2400.63\n",
      "Epoch 87/100\n",
      "920/920 [==============================] - 3s 3ms/step - loss: 6601979.8295 - mse: 6601979.8295 - mae: 2402.6693\n",
      "Epoch 88/100\n",
      "920/920 [==============================] - 3s 3ms/step - loss: 6556925.7557 - mse: 6556925.7557 - mae: 2394.8574\n",
      "Epoch 89/100\n",
      "920/920 [==============================] - 3s 3ms/step - loss: 6552496.5727 - mse: 6552496.5727 - mae: 2393.4733: 0s - loss: 6553590.7186 - mse: 6553590\n",
      "Epoch 90/100\n",
      "920/920 [==============================] - 3s 3ms/step - loss: 6563728.8985 - mse: 6563728.8985 - mae: 2395.9483\n",
      "Epoch 91/100\n",
      "920/920 [==============================] - 3s 3ms/step - loss: 6510818.9891 - mse: 6510818.9891 - mae: 2384.5274\n",
      "Epoch 92/100\n",
      "920/920 [==============================] - 3s 3ms/step - loss: 6493035.1542 - mse: 6493035.1542 - mae: 2381.2676\n",
      "Epoch 93/100\n",
      "920/920 [==============================] - 3s 3ms/step - loss: 6467387.5060 - mse: 6467387.5060 - mae: 2374.2015\n",
      "Epoch 94/100\n",
      "920/920 [==============================] - 3s 3ms/step - loss: 6530256.3208 - mse: 6530256.3208 - mae: 2388.6458\n",
      "Epoch 95/100\n",
      "920/920 [==============================] - 3s 3ms/step - loss: 6501391.6835 - mse: 6501391.6835 - mae: 2382.7097\n",
      "Epoch 96/100\n",
      "920/920 [==============================] - 3s 3ms/step - loss: 6456521.8409 - mse: 6456521.8409 - mae: 2372.9167\n",
      "Epoch 97/100\n",
      "920/920 [==============================] - 3s 3ms/step - loss: 6416670.3426 - mse: 6416670.3426 - mae: 2364.6914\n",
      "Epoch 98/100\n",
      "920/920 [==============================] - 4s 4ms/step - loss: 6425941.4061 - mse: 6425941.4061 - mae: 2366.8959\n",
      "Epoch 99/100\n",
      "920/920 [==============================] - 3s 3ms/step - loss: 6421870.8317 - mse: 6421870.8317 - mae: 2366.6000\n",
      "Epoch 100/100\n",
      "920/920 [==============================] - 3s 3ms/step - loss: 6395856.9935 - mse: 6395856.9935 - mae: 2358.9064\n"
     ]
    },
    {
     "data": {
      "text/plain": [
       "<tensorflow.python.keras.callbacks.History at 0x164d13100>"
      ]
     },
     "execution_count": 30,
     "metadata": {},
     "output_type": "execute_result"
    }
   ],
   "source": [
    "# Fitting the model to our trimmed data\n",
    "LAI_model_10m.fit(x=X_10m.to_numpy(), y=y_10m.to_numpy(), epochs=100)"
   ]
  },
  {
   "cell_type": "code",
   "execution_count": 31,
   "metadata": {},
   "outputs": [],
   "source": [
    "# Predicting our own input data to evaluate the performance (for now)\n",
    "LAI_predictions_10m = pd.Series(LAI_model_10m.predict(X_10m.to_numpy()).flatten())"
   ]
  },
  {
   "cell_type": "markdown",
   "metadata": {},
   "source": [
    "Below is code the that prepares the predictions to be displayed against the true values of the response for matplotlib"
   ]
  },
  {
   "cell_type": "code",
   "execution_count": 43,
   "metadata": {},
   "outputs": [],
   "source": [
    "xy_tf_LAI = np.vstack([y, LAI_predictions])\n",
    "z_tf_LAI = scipy.stats.gaussian_kde(xy_tf_LAI)(xy_tf_LAI)\n",
    "\n",
    "idx_tf_LAI = z_tf_LAI.argsort()\n",
    "x_tf_LAI = y[idx_tf_LAI]\n",
    "y_tf_LAI = LAI_predictions[idx_tf_LAI]\n",
    "z_tf_LAI = z_tf_LAI[idx_tf_LAI]\n",
    "\n",
    "rmse_tf_LAI = sklearn.metrics.mean_squared_error(x_tf_LAI, y_tf_LAI, squared=False)"
   ]
  },
  {
   "cell_type": "code",
   "execution_count": 34,
   "metadata": {},
   "outputs": [],
   "source": [
    "# 10m:\n",
    "xy_tf_LAI_10m = np.vstack([y_10m, LAI_predictions_10m])\n",
    "z_tf_LAI_10m = scipy.stats.gaussian_kde(xy_tf_LAI_10m)(xy_tf_LAI_10m)\n",
    "\n",
    "idx_tf_LAI_10m = z_tf_LAI_10m.argsort()\n",
    "x_tf_LAI_10m = y_10m[idx_tf_LAI_10m]\n",
    "y_tf_LAI_10m = LAI_predictions_10m[idx_tf_LAI_10m]\n",
    "z_tf_LAI_10m = z_tf_LAI_10m[idx_tf_LAI_10m]\n",
    "\n",
    "rmse_tf_LAI_10m = sklearn.metrics.mean_squared_error(x_tf_LAI_10m, y_tf_LAI_10m, squared=False)"
   ]
  },
  {
   "cell_type": "code",
   "execution_count": 58,
   "metadata": {},
   "outputs": [
    {
     "data": {
      "image/png": "[encoded data removed]",
      "text/plain": [
       "<Figure size 864x360 with 2 Axes>"
      ]
     },
     "metadata": {
      "needs_background": "light"
     },
     "output_type": "display_data"
    }
   ],
   "source": [
    "#---------------------------------------\n",
    "# TO FIX: problem with plot data scaling\n",
    "#---------------------------------------\n",
    "\n",
    "# plot feature prediction\n",
    "a_tf_LAI = np.linspace(0, 3, 1000)\n",
    "a_tf_LAI_10m = np.linspace(0, 3, 1000)\n",
    "\n",
    "fig, ax = plt.subplots(1, 2, figsize=(12,5))\n",
    "fig.suptitle('{}'.format('Estimated '+outputName))\n",
    "\n",
    "# Using all features\n",
    "ax[0].scatter(x_tf_LAI/1000, y_tf_LAI/100, c=z_tf_LAI)\n",
    "ax[0].plot(a_tf_LAI, a_tf_LAI, c='r')\n",
    "ax[0].set_xlim([0, 4])\n",
    "ax[0].title.set_text(f'LASSO LARS (ALL BANDS) - RMSE: {rmse_tf_LAI:.4f}')\n",
    "\n",
    "# Using 10 m features only\n",
    "ax[1].scatter(x_tf_LAI_10m/1000, y_tf_LAI_10m/100, c=z_tf_LAI_10m)\n",
    "ax[1].plot(a_tf_LAI_10m, a_tf_LAI_10m, c='r')\n",
    "ax[1].set_xlim([0, 4])\n",
    "ax[1].title.set_text(f'LASSO LARS (10m BANDS) - RMSE: {rmse_tf_LAI_10m:.4f}')"
   ]
  },
  {
   "cell_type": "markdown",
   "metadata": {},
   "source": [
    "Early attempts to use the output of the kerasModel.get_weights() to apply the neural network weights manually"
   ]
  },
  {
   "cell_type": "code",
   "execution_count": 46,
   "metadata": {
    "scrolled": true
   },
   "outputs": [
    {
     "data": {
      "text/plain": [
       "[array([[-2.7398798 , -3.536974  ,  3.6466925 ,  3.1230073 , -3.8034012 ],\n",
       "        [ 3.7981048 ,  4.057477  , -2.9011967 , -3.9306624 ,  3.8486443 ],\n",
       "        [ 0.02518088, -0.47988126,  0.55527914, -0.6205802 ,  0.0221141 ],\n",
       "        [ 6.573537  ,  6.4667497 , -5.791895  , -6.8965282 ,  5.579861  ],\n",
       "        [-1.60505   , -0.7643096 ,  1.0398248 ,  1.0449996 , -0.17405012]],\n",
       "       dtype=float32),\n",
       " array([ 62.107056,  67.03532 , -62.11858 , -65.91176 ,  60.563435],\n",
       "       dtype=float32),\n",
       " array([[-58.117756,  60.90686 ,  56.89272 ,  57.115055],\n",
       "        [-60.49769 ,  62.267223,  60.218987,  61.560387],\n",
       "        [ 59.326492, -59.18705 , -57.18816 , -57.682053],\n",
       "        [ 60.810936, -63.179443, -59.603443, -60.579227],\n",
       "        [-58.362484,  59.049206,  58.17094 ,  57.17671 ]], dtype=float32),\n",
       " array([-20.77999 ,  24.04258 ,  19.182133,  20.828087], dtype=float32),\n",
       " array([[-80.09378 ,  79.59881 , -80.34347 ],\n",
       "        [ 80.74922 , -78.71333 ,  80.72042 ],\n",
       "        [ 80.38256 , -79.88559 ,  81.25333 ],\n",
       "        [ 80.81242 , -78.92862 ,  81.739815]], dtype=float32),\n",
       " array([ 76.63425 , -75.79627 ,  78.146286], dtype=float32),\n",
       " array([[-87.29831,  87.81812],\n",
       "        [ 87.71038, -87.97739],\n",
       "        [-87.29169,  86.89703]], dtype=float32),\n",
       " array([-85.106064,  86.57154 ], dtype=float32),\n",
       " array([[-93.17847],\n",
       "        [ 92.50115]], dtype=float32),\n",
       " array([91.69926], dtype=float32)]"
      ]
     },
     "execution_count": 46,
     "metadata": {},
     "output_type": "execute_result"
    }
   ],
   "source": [
    "LAI_model.get_weights()"
   ]
  },
  {
   "cell_type": "code",
   "execution_count": 47,
   "metadata": {},
   "outputs": [
    {
     "data": {
      "text/plain": [
       "[array([[-3.5480783 , -3.587339  , -2.9099941 ,  3.23489   , -3.628387  ],\n",
       "        [ 4.1115007 ,  3.479523  ,  3.4047341 , -3.6032658 ,  4.029607  ],\n",
       "        [ 0.04047   , -0.5622287 ,  0.07578439,  0.3330413 , -0.15563202],\n",
       "        [ 5.4377503 ,  6.017694  ,  6.564209  , -6.8837156 ,  6.443043  ],\n",
       "        [-1.0541114 , -0.5267082 , -0.9121629 ,  0.8634612 , -1.256864  ]],\n",
       "       dtype=float32),\n",
       " array([ 63.259457,  60.774723,  64.13925 , -64.7012  ,  65.45289 ],\n",
       "       dtype=float32),\n",
       " array([[ 57.933575, -62.39044 ,  58.880077,  58.378788],\n",
       "        [ 57.8774  , -56.40682 ,  56.409847,  56.22585 ],\n",
       "        [ 59.637047, -61.732967,  58.115383,  59.79154 ],\n",
       "        [-58.200294,  60.5797  , -60.17792 , -58.306473],\n",
       "        [ 58.961052, -61.74353 ,  59.353653,  59.415134]], dtype=float32),\n",
       " array([ 19.009754, -21.862206,  18.964403,  18.694508], dtype=float32),\n",
       " array([[ 81.76688,  80.60897,  79.17644],\n",
       "        [-81.94334, -80.93843, -79.17726],\n",
       "        [ 81.57176,  80.93781,  79.70664],\n",
       "        [ 81.53063,  80.47733,  79.75991]], dtype=float32),\n",
       " array([78.033516, 76.742294, 75.41689 ], dtype=float32),\n",
       " array([[-86.44725 ,  86.02993 ],\n",
       "        [-86.61555 ,  86.27142 ],\n",
       "        [-86.8386  ,  86.694534]], dtype=float32),\n",
       " array([-85.19624,  84.31877], dtype=float32),\n",
       " array([[-93.00046],\n",
       "        [ 93.78554]], dtype=float32),\n",
       " array([91.697365], dtype=float32)]"
      ]
     },
     "execution_count": 47,
     "metadata": {},
     "output_type": "execute_result"
    }
   ],
   "source": [
    "LAI_model_10m.get_weights()"
   ]
  },
  {
   "cell_type": "code",
   "execution_count": 48,
   "metadata": {},
   "outputs": [],
   "source": [
    "elu = np.vectorize(alr.elu)\n",
    "softplus = np.vectorize(alr.softplus)\n",
    "softsign = np.vectorize(alr.softsign)\n",
    "relu = np.vectorize(alr.relu)\n",
    "tanh = np.vectorize(alr.tanh)\n",
    "sigmoid = np.vectorize(alr.sigmoid)"
   ]
  },
  {
   "cell_type": "code",
   "execution_count": 50,
   "metadata": {},
   "outputs": [
    {
     "name": "stdout",
     "output_type": "stream",
     "text": [
      "20m:\n",
      "276.84634\n",
      "276.84634086787185\n",
      "\n",
      "10m:\n",
      "277.94125\n",
      "277.94124727955517\n"
     ]
    }
   ],
   "source": [
    "row = 4802\n",
    "inputs = X.iloc[row, :].to_numpy()\n",
    "print('20m:')\n",
    "print(LAI_model.predict(inputs.reshape((-1,5)))[0][0])\n",
    "print(alr.apply_nnet(inputs, LAI_model)[0])\n",
    "print()\n",
    "\n",
    "# 10m:\n",
    "row = 4802\n",
    "inputs_10m = X_10m.iloc[row, :].to_numpy()\n",
    "print('10m:')\n",
    "print(LAI_model_10m.predict(inputs_10m.reshape((-1,5)))[0][0])\n",
    "print(alr.apply_nnet(inputs_10m, LAI_model_10m)[0])"
   ]
  },
  {
   "cell_type": "code",
   "execution_count": 52,
   "metadata": {},
   "outputs": [],
   "source": [
    "# Writing the neural network to a CSV file to be uploaded to the server side on Google Earth Engine\n",
    "export_data = alr.export_nnet(LAI_model, X)\n",
    "with open('nnet.csv', 'w', newline='') as csvfile:\n",
    "    nnet_writer = csv.writer(csvfile)\n",
    "    for layerdata in export_data:\n",
    "        nnet_writer.writerow(layerdata)\n",
    "\n",
    "# 10m:\n",
    "export_data_10m = alr.export_nnet(LAI_model_10m, X_10m)\n",
    "with open('nnet_10m.csv', 'w', newline='') as csvfile_10m:\n",
    "    nnet_writer_10m = csv.writer(csvfile_10m)\n",
    "    for layerdata in export_data_10m:\n",
    "        nnet_writer_10m.writerow(layerdata)"
   ]
  },
  {
   "cell_type": "raw",
   "metadata": {},
   "source": [
    "Currently, I have not found a way to automatically upload a file as an asset into Google Earth Engine from a local script. There is a command in the Earth Engine command line interface that allows you to upload an asset from cloud storage, although cloud storage is not free. There may be a workaround way to upload the file from Google Drive directly to Earth Engine, but even that would use the Google Drive API which is a part of Google Cloud, so it will not be free. It seems the network must be uploaded manually for now."
   ]
  }
 ],
 "metadata": {
  "colab": {
   "name": "LAI_FAPAR_FCOVER_Prediction.ipynb",
   "provenance": []
  },
  "kernelspec": {
   "display_name": "Python 3 (ipykernel)",
   "language": "python",
   "name": "python3"
  },
  "language_info": {
   "codemirror_mode": {
    "name": "ipython",
    "version": 3
   },
   "file_extension": ".py",
   "mimetype": "text/x-python",
   "name": "python",
   "nbconvert_exporter": "python",
   "pygments_lexer": "ipython3",
   "version": "3.9.7"
  },
  "pycharm": {
   "stem_cell": {
    "cell_type": "raw",
    "metadata": {
     "collapsed": false
    },
    "source": []
   }
  }
 },
 "nbformat": 4,
 "nbformat_minor": 4
}
