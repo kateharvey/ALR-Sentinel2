{
 "cells": [
  {
   "cell_type": "code",
   "execution_count": 2,
   "metadata": {},
   "outputs": [
    {
     "data": {
      "text/html": [
       "<p>To authorize access needed by Earth Engine, open the following\n",
       "        URL in a web browser and follow the instructions:</p>\n",
       "        <p><a href=https://accounts.google.com/o/oauth2/auth?client_id=517222506229-vsmmajv00ul0bs7p89v5m89qs8eb9359.apps.googleusercontent.com&scope=https%3A%2F%2Fwww.googleapis.com%2Fauth%2Fearthengine+https%3A%2F%2Fwww.googleapis.com%2Fauth%2Fdevstorage.full_control&redirect_uri=urn%3Aietf%3Awg%3Aoauth%3A2.0%3Aoob&response_type=code&code_challenge=NnJZckC4mii9i9Aq-T3B2VoUQnZO7habanz8D4Z2ZuE&code_challenge_method=S256>https://accounts.google.com/o/oauth2/auth?client_id=517222506229-vsmmajv00ul0bs7p89v5m89qs8eb9359.apps.googleusercontent.com&scope=https%3A%2F%2Fwww.googleapis.com%2Fauth%2Fearthengine+https%3A%2F%2Fwww.googleapis.com%2Fauth%2Fdevstorage.full_control&redirect_uri=urn%3Aietf%3Awg%3Aoauth%3A2.0%3Aoob&response_type=code&code_challenge=NnJZckC4mii9i9Aq-T3B2VoUQnZO7habanz8D4Z2ZuE&code_challenge_method=S256</a></p>\n",
       "        <p>The authorization workflow will generate a code, which you\n",
       "        should paste in the box below</p>\n",
       "        "
      ],
      "text/plain": [
       "<IPython.core.display.HTML object>"
      ]
     },
     "metadata": {},
     "output_type": "display_data"
    },
    {
     "name": "stdin",
     "output_type": "stream",
     "text": [
      "Enter verification code:  4/1AX4XfWiYirfpFe07VZmAdlPQcO1FIAlRoc0LVw-2NmFU1LJYz9S864S3RqU\n"
     ]
    },
    {
     "name": "stdout",
     "output_type": "stream",
     "text": [
      "\n",
      "Successfully saved authorization token.\n"
     ]
    }
   ],
   "source": [
    "import scipy\n",
    "import scipy.io as sio\n",
    "import matplotlib.pyplot as plt\n",
    "import numpy as np\n",
    "import pandas as pd\n",
    "import sklearn\n",
    "from sklearn import preprocessing\n",
    "from sklearn import linear_model\n",
    "import tensorflow\n",
    "import ee\n",
    "import json\n",
    "from collections import OrderedDict\n",
    "import time\n",
    "import math\n",
    "import csv\n",
    "import os\n",
    "\n",
    "# import custom module\n",
    "import ALR_functions as alr\n",
    "\n",
    "ee.Authenticate()\n",
    "ee.Initialize()"
   ]
  },
  {
   "cell_type": "code",
   "execution_count": 161,
   "metadata": {},
   "outputs": [],
   "source": [
    "# order of bands from SL2P output:\n",
    "# 00-11: 'B1', 'B2', 'B3', 'B4', 'B5', 'B6', 'B7', 'B8', 'B8A', 'B9', 'B11', 'B12', \n",
    "# 12-19: 'AOT', 'WVP', 'SCL', 'TCI_R', 'TCI_G', 'TCI_B', 'MSK_CLDPRB', 'MSK_SNWPRB', \n",
    "# 20-26: 'QA10', 'QA20', 'QA60', 'date', 'cosVZA', 'cosSZA', 'cosRAA', \n",
    "# 27-32: 'estimateLAI', 'partition', 'networkID', 'errorLAI', 'partition_1', 'networkID_1'\n",
    "\n",
    "# Set output variable:\n",
    "outputName = 'fCOVER'\n",
    "    # one of: 'LAI', 'fAPAR', 'fCOVER'\n",
    "siteSelect = 'Kouchibouguac'\n",
    "    # one of: 'Geraldton', 'FoxCreek', 'Kouchibouguac'\n",
    "\n",
    "\n",
    "outputParams = {\n",
    "    \"LAI\": {\n",
    "        \"axlim\": 8,\n",
    "        \"responseBand\": 'estimateLAI'\n",
    "    },\n",
    "    \"fAPAR\": {\n",
    "        \"axlim\": 1,\n",
    "        \"responseBand\": 'estimatefAPAR'\n",
    "    },\n",
    "    \"fCOVER\": {\n",
    "        \"axlim\": 1,\n",
    "        \"responseBand\": 'estimatefCOVER'\n",
    "    }\n",
    "}\n",
    "\n",
    "responseBand = outputParams[outputName][\"responseBand\"]\n",
    "axlim = outputParams[outputName][\"axlim\"]\n",
    "\n",
    "\n",
    "# define input image\n",
    "testImage = ee.Image('users/kateharvey/'+siteSelect+'_'+outputName)\n",
    "inputImage = ee.Image(testImage.select(0,1,2,3,4,5,6,7,8,9,10,11,22,23,27,28,29,30,31,32))\n",
    "inputImage_10m = ee.Image(testImage.select(1,2,3,7,22,23,27,28,29,30,31,32))\n",
    "\n",
    "inputImage_bands = ee.List(['B1', 'B2', 'B3', 'B4', 'B5', 'B6', 'B7', 'B8', 'B8A', 'B9', 'B11', 'B12', 'QA60', 'date', 'estimate'+outputName, 'partition', 'networkID', 'error'+outputName, 'partition_1', 'networkID_1'])\n",
    "inputImage_bands_10m = ee.List(['B2', 'B3', 'B4', 'B8', 'QA60', 'date', 'estimate'+outputName, 'partition', 'networkID', 'error'+outputName, 'partition_1', 'networkID_1'])\n",
    "\n",
    "# name bands of inputImage and scale response band\n",
    "inputImage = inputImage.rename(inputImage_bands)\n",
    "inputImage = inputImage.addBands(inputImage.select(responseBand).divide(1000), overwrite=True)\n",
    "\n",
    "inputImage_10m = inputImage_10m.rename(inputImage_bands_10m)\n",
    "inputImage_10m = inputImage_10m.addBands(inputImage_10m.select(responseBand).divide(1000), overwrite=True)"
   ]
  },
  {
   "cell_type": "markdown",
   "metadata": {},
   "source": [
    "### Vegetation Indices Sources\n",
    "\n",
    "1. https://www.hindawi.com/journals/js/2017/1353691/tab1/\n",
    "2. https://www.hiphen-plant.com/blog/vegetation-indices/\n",
    "3. https://gisgeography.com/sentinel-2-bands-combinations/"
   ]
  },
  {
   "cell_type": "code",
   "execution_count": 162,
   "metadata": {},
   "outputs": [],
   "source": [
    "# Below we define a list of strings representing the expressions for each vegetation index as a function of the bands in the input image\n",
    "# More vegetation indices can be defined, but the list CANNOT contain any two vegetation indices which are a linear combination of each\n",
    "# other or LARs will fail to select the requested number of variables\n",
    "\n",
    "# The formatting of the expression must be\n",
    "# \"<name of VI> = <expression with band names from inputImage_bands used as variables in the form b('<band name>')\"\n",
    "\n",
    "# Only include VIs that use 10 m bands (B2, B3, B4, B8)\n",
    "input_VI_definition_10m = ee.List([\"RAW_B2  = b('B2')\",\n",
    "                                   \"RAW_B3  = b('B3')\",\n",
    "                                   \"RAW_B4  = b('B4')\",\n",
    "                                   \"RAW_B8  = b('B8')\",\n",
    "                                   \"GI      = b('B3')/b('B4')\",\n",
    "                                 # \"RVI3    = b('B4')/b('B6')\",\n",
    "                                 # \"SR3     = b('B5')/b('B4')\",\n",
    "                                 # \"GM1     = b('B6')/b('B3')\",\n",
    "                                 # \"GM2     = b('B6')/b('B5')\",\n",
    "                                 # \"SR2     = b('B7')/b('B3')\",\n",
    "                                 # \"PSSR    = b('B7')/b('B4')\",\n",
    "                                   \"SGI     = b('B8')/b('B4')\",\n",
    "                                 # \"MSI     = b('B11')/b('B7')\",\n",
    "                                 # \"II      = b('B11')/b('B12')\",\n",
    "                                   \"GVI     = (b('B8')/b('B3'))-1\",\n",
    "                                 # \"PSRI    = (b('B4')-b('B3'))/b('B6')\",\n",
    "                                   \"NDVI3   = ((b('B8')-b('B4'))/(b('B8')))+b('B4')\",\n",
    "                                 # \"SR5     = 1/b('B5')\",\n",
    "                                 # \"SR6     = b('B4')/(b('B3')*b('B5'))\",\n",
    "                                 # \"SR7     = b('B8')/(b('B3')*b('B5'))\",\n",
    "                                 # \"IPVI    = b('B7')/(b('B7')+b('B4'))\",\n",
    "                                 # \"ARI     = (1/b('B3'))-(1/b('B5'))\",\n",
    "                                 # \"ARI2    = b('B7')*((1/b('B3'))-(1/b('B5')))\",\n",
    "                                   \"NDVI    = (b('B8')-b('B4'))/(b('B8')+b('B4'))\",\n",
    "                                   \"GNDVI   = (b('B8')-b('B3'))/(b('B8')+b('B3'))\",\n",
    "                                 # \"NDWI    = (b('B8')-b('B11'))/(b('B8')+b('B11'))\",\n",
    "                                 # \"NDREVI  = (b('B8')-b('B5'))/(b('B8')+b('B5'))\",\n",
    "                                   \"NDGI    = (b('B3')-b('B4'))/(b('B3')+b('B4'))\",\n",
    "                                 # \"NDI1    = (b('B7')-b('B5'))/(b('B7')-b('B4'))\",\n",
    "                                 # \"NDI2    = (b('B8')-b('B5'))/(b('B8')-b('B4'))\",\n",
    "                                 # \"RENDVI  = (b('B6')-b('B5'))/(b('B6')+b('B5'))\",\n",
    "                                 # \"OSAVI   = (1.16*(b('B7')-b('B4')))/(b('B7')+b('B4')+0.61)\",\n",
    "                                 # \"NMDI    = (b('B8')-(b('B11')-b('B12')))/(b('B8')+(b('B11')-b('B12')))\",\n",
    "                                 # \"HI      = ((b('B3')-b('B5'))/(b('B3')+b('B5')))-0.5*b('B5')\",\n",
    "                                 # \"GVSP    = (-0.283*b('B3') - 0.66*b('B4') + 0.577*b('B6') + 0.388*b('B8'))/(0.433*b('B3') - 0.632*b('B4') + 0.586*b('B6') + 0.264*b('B8A'))\",\n",
    "                                 # \"MCARI   = ((b('B5')-b('B4'))-0.2*(b('B5')-b('B3')))*(b('B5')/b('B4'))\",\n",
    "                                 # \"TCARI   = 3*((b('B5')-b('B4'))-0.2*(b('B5')-b('B3'))*(b('B5')/b('B4')))\",\n",
    "                                   \"EVI     = 2.5*((b('B8')-b('B4'))/(b('B8')+6*b('B4')-7.5*b('B3')+1))\",\n",
    "                                   \"EVI2    = 2.5*((b('B8')-b('B4'))/(b('B8')+2.4*b('B4')+1))\",\n",
    "                                   \"RDVI    = (b('B8')-b('B4'))/((b('B8')+b('B4'))**0.5)\",\n",
    "                                   \"MSR     = ((b('B8')/b('B4'))-1)/((b('B8')/b('B4'))**0.5+1)\",\n",
    "                                 # \"MSAVI   = 0.5*(2*b('B7')+1-((2*b('B7')+1)**2-8*(b('B7')-b('B4')))**0.5)\",\n",
    "                                   \"MSAVI2  = 0.5*(2*b('B8')+1-((2*b('B8')+1)**2-8*(b('B8')-b('B4')))**0.5)\",\n",
    "                                 # \"MCARI2  = (1.5*(2.5*(b('B7')-b('B4'))-1.3*(b('B7')-b('B3'))))/((((2*b('B7')+1)**2)-(6*b('B7')-5*(b('B4')**0.5))-0.5)**0.5)\",\n",
    "                                 # \"MTVI2   = (1.5*(1.2*(b('B7')-b('B3'))-2.5*(b('B4')-b('B3'))))/(((2*b('B7')+1)**2-(6*b('B7')-5*b('B4'))-0.5)**0.5)\",\n",
    "                                 # \"MSR2    = ((b('B7')/b('B4'))-1)/(((b('B7')/b('B4'))+1)**0.5)\",\n",
    "                                   \"NLI     = ((b('B8')**2)-b('B4'))/((b('B8')**2)+b('B4'))\"])\n",
    "\n",
    "\n",
    "input_VI_definition = ee.List([\"GI      = b('B3')/b('B4')\",\n",
    "                              \"RVI3    = b('B4')/b('B6')\",\n",
    "                              \"SR3     = b('B5')/b('B4')\",\n",
    "                              \"GM1     = b('B6')/b('B3')\",\n",
    "                              \"GM2     = b('B6')/b('B5')\",\n",
    "                              \"SR2     = b('B7')/b('B3')\",\n",
    "                              \"PSSR    = b('B7')/b('B4')\",\n",
    "                              \"SGI     = b('B8A')/b('B4')\",\n",
    "                              \"MSI     = b('B11')/b('B7')\",\n",
    "                              \"II      = b('B11')/b('B12')\",\n",
    "                              \"GVI     = (b('B8A')/b('B3'))-1\",\n",
    "                              \"PSRI    = (b('B4')-b('B3'))/b('B6')\",\n",
    "                              \"NDVI3   = ((b('B8A')-b('B4'))/(b('B8A')))+b('B4')\",\n",
    "                              \"SR5     = 1/b('B5')\",\n",
    "                              \"SR6     = b('B4')/(b('B3')*b('B5'))\",\n",
    "                              \"SR7     = b('B8A')/(b('B3')*b('B5'))\",\n",
    "                              \"IPVI    = b('B7')/(b('B7')+b('B4'))\",\n",
    "                              \"ARI     = (1/b('B3'))-(1/b('B5'))\",\n",
    "                              \"ARI2    = b('B7')*((1/b('B3'))-(1/b('B5')))\",\n",
    "                              \"NDVI    = (b('B8A')-b('B4'))/(b('B8A')+b('B4'))\",\n",
    "                              \"GNDVI   = (b('B8A')-b('B3'))/(b('B8A')+b('B3'))\",\n",
    "                              \"NDWI    = (b('B8A')-b('B11'))/(b('B8A')+b('B11'))\",\n",
    "                              \"NDREVI  = (b('B8A')-b('B5'))/(b('B8A')+b('B5'))\",\n",
    "                              \"NDGI    = (b('B3')-b('B4'))/(b('B3')+b('B4'))\",\n",
    "                              \"NDI1    = (b('B7')-b('B5'))/(b('B7')-b('B4'))\",\n",
    "                              \"NDI2    = (b('B8A')-b('B5'))/(b('B8A')-b('B4'))\",\n",
    "                              \"RENDVI  = (b('B6')-b('B5'))/(b('B6')+b('B5'))\",\n",
    "                              \"OSAVI   = (1.16*(b('B7')-b('B4')))/(b('B7')+b('B4')+0.61)\",\n",
    "                              \"NMDI    = (b('B8A')-(b('B11')-b('B12')))/(b('B8A')+(b('B11')-b('B12')))\",\n",
    "                              \"HI      = ((b('B3')-b('B5'))/(b('B3')+b('B5')))-0.5*b('B5')\",\n",
    "                              \"GVSP    = (-0.283*b('B3') - 0.66*b('B4') + 0.577*b('B6') + 0.388*b('B8A'))/(0.433*b('B3') - 0.632*b('B4') + 0.586*b('B6') + 0.264*b('B8A'))\",\n",
    "                              \"MCARI   = ((b('B5')-b('B4'))-0.2*(b('B5')-b('B3')))*(b('B5')/b('B4'))\",\n",
    "                              \"TCARI   = 3*((b('B5')-b('B4'))-0.2*(b('B5')-b('B3'))*(b('B5')/b('B4')))\",\n",
    "                              \"EVI     = 2.5*((b('B8A')-b('B4'))/(b('B8A')+6*b('B4')-7.5*b('B3')+1))\",\n",
    "                              \"EVI2    = 2.5*((b('B8A')-b('B4'))/(b('B8A')+2.4*b('B4')+1))\",\n",
    "                              \"RDVI    = (b('B8A')-b('B4'))/((b('B8A')+b('B4'))**0.5)\",\n",
    "                              \"MSR     = ((b('B8A')/b('B4'))-1)/((b('B8A')/b('B4'))**0.5+1)\",\n",
    "                              \"MSAVI   = 0.5*(2*b('B7')+1-((2*b('B7')+1)**2-8*(b('B7')-b('B4')))**0.5)\",\n",
    "                              \"MSAVI2  = 0.5*(2*b('B8A')+1-((2*b('B8A')+1)**2-8*(b('B8A')-b('B4')))**0.5)\",\n",
    "                              \"MCARI2  = (1.5*(2.5*(b('B7')-b('B4'))-1.3*(b('B7')-b('B3'))))/((((2*b('B7')+1)**2)-(6*b('B7')-5*(b('B4')**0.5))-0.5)**0.5)\",\n",
    "                              \"MTVI2   = (1.5*(1.2*(b('B7')-b('B3'))-2.5*(b('B4')-b('B3'))))/(((2*b('B7')+1)**2-(6*b('B7')-5*b('B4'))-0.5)**0.5)\",\n",
    "                              \"MSR2    = ((b('B7')/b('B4'))-1)/(((b('B7')/b('B4'))+1)**0.5)\",\n",
    "                              \"NLI     = ((b('B8A')**2)-b('B4'))/((b('B8A')**2)+b('B4'))\"])"
   ]
  },
  {
   "cell_type": "markdown",
   "metadata": {},
   "source": [
    "In the following functions each input is recast to the expected data type as function parameter typing is not enforced in Earth Engine\n",
    "when defining functions, and later methods called on these parameters within the function must recognize the type of the parameter\n",
    "independently of other code"
   ]
  },
  {
   "cell_type": "markdown",
   "metadata": {},
   "source": [
    "### Process images and and run LARS:"
   ]
  },
  {
   "cell_type": "code",
   "execution_count": 163,
   "metadata": {},
   "outputs": [],
   "source": [
    "inputImage = alr.format_image(inputImage, inputImage_bands, responseBand, input_VI_definition)\n",
    "inputImage_10m = alr.format_image(inputImage_10m, inputImage_bands_10m, responseBand, input_VI_definition_10m)"
   ]
  },
  {
   "cell_type": "code",
   "execution_count": 164,
   "metadata": {},
   "outputs": [],
   "source": [
    "num_input_pixels = alr.get_num_pixels(inputImage)"
   ]
  },
  {
   "cell_type": "code",
   "execution_count": 165,
   "metadata": {},
   "outputs": [],
   "source": [
    "scaledImage = alr.scale_image(inputImage, responseBand)\n",
    "scaledImage_10m = alr.scale_image(inputImage_10m, responseBand)"
   ]
  },
  {
   "cell_type": "code",
   "execution_count": 166,
   "metadata": {},
   "outputs": [],
   "source": [
    "# names of bands to pass to ee_LARS function (only want Sentinel 2 bands and VIs)\n",
    "input_bandNames = ['B2', 'B3', 'B4', 'B8', 'GI', 'SGI', 'GVI', 'NDVI3', 'NDVI',\n",
    "                   'GNDVI', 'NDGI', 'EVI', 'EVI2', 'RDVI', 'MSR', 'MSAVI2', 'NLI']"
   ]
  },
  {
   "cell_type": "code",
   "execution_count": 167,
   "metadata": {
    "scrolled": true
   },
   "outputs": [
    {
     "name": "stdout",
     "output_type": "stream",
     "text": [
      "Selected features:  ['RDVI', 'EVI2', 'MSR', 'NDGI', 'GVI']\n",
      "Selected features:  ['RDVI', 'EVI2', 'MSR', 'NDGI', 'GVI']\n"
     ]
    }
   ],
   "source": [
    "select_features = alr.ee_LARS(scaledImage, input_bandNames, responseBand, 5, 10000)\n",
    "select_features_10m = alr.ee_LARS(scaledImage_10m, input_bandNames, responseBand, 5, 10000)"
   ]
  },
  {
   "cell_type": "markdown",
   "metadata": {},
   "source": [
    "Currently the trimmed data is processed then in a neural network created using tensorflow to find nonlinear relationships between the predictor and the response. Earth Engine does not have this functionality (for free) to generate neural network based models.\n",
    "\n",
    "Here we also see how the server side in the Earth Engine API is completely separate from the client side on the local machine. We need\n",
    "to export our trimmed data as a CSV to a google drive which is synced into the \"gdrive\" folder in our local machine using the \n",
    "Backup and Sync software or using google-drive-ocamlfuse on Linux"
   ]
  },
  {
   "cell_type": "markdown",
   "metadata": {},
   "source": [
    "### Export CSV of 20m data:"
   ]
  },
  {
   "cell_type": "code",
   "execution_count": 168,
   "metadata": {},
   "outputs": [],
   "source": [
    "trimmed_collection=alr.trim_data(image=inputImage.updateMask(inputImage.select(responseBand).gt(0)),\n",
    "                                 selected_features=select_features,\n",
    "                                 response_band=responseBand,\n",
    "                                 num_samples=10000,\n",
    "                                 num_partitions=10)\n",
    "\n",
    "# Creating the export task on the server side from Earth Engine. Remember that the data will be exported to the google drive of the google\n",
    "# account you used when you initiated the Earth Engine API authentication flow, so ensure that, that accounts drive is synced to the \n",
    "# gdrive folder in the same folder as this script\n",
    "exportData = ee.batch.Export.table.toDrive(collection=trimmed_collection, description=\"image_data_samples\", fileFormat=\"CSV\")\n",
    "\n",
    "# Starting the export data task\n",
    "exportData.start()"
   ]
  },
  {
   "cell_type": "code",
   "execution_count": 169,
   "metadata": {
    "scrolled": true
   },
   "outputs": [
    {
     "name": "stdout",
     "output_type": "stream",
     "text": [
      "READY\n",
      "RUNNING\n",
      "COMPLETED\n"
     ]
    }
   ],
   "source": [
    "# Essentially a wait loop to see if the data has finished exporting by checking with the server-side\n",
    "prev_task_status = ee.data.getTaskStatus(exportData.id)[0][\"state\"]\n",
    "print(prev_task_status)\n",
    "while exportData.active():\n",
    "    task_status = ee.data.getTaskStatus(exportData.id)[0][\"state\"]\n",
    "    if(task_status != prev_task_status):\n",
    "        print(task_status)\n",
    "    prev_task_status = task_status\n",
    "    time.sleep(5)\n",
    "print(ee.data.getTaskStatus(exportData.id)[0][\"state\"])"
   ]
  },
  {
   "cell_type": "code",
   "execution_count": 170,
   "metadata": {},
   "outputs": [],
   "source": [
    "# Reading the CSV file into dataframes\n",
    "trimmed_data = pd.read_csv('./gdrive/image_data_samples.csv')\n",
    "X = trimmed_data.drop(labels=[responseBand, 'system:index', '.geo'], axis=1)\n",
    "y = trimmed_data[responseBand]\n",
    "\n",
    "# We preprocess the input features by standardizing them to a mean of 0 and a standard deviation of 1 for the neural network\n",
    "X = pd.DataFrame(sklearn.preprocessing.scale(X))"
   ]
  },
  {
   "cell_type": "code",
   "execution_count": 171,
   "metadata": {},
   "outputs": [],
   "source": [
    "# Using Keras to create a sequential model neural network which only has simple dense layers of the specified number of nodes\n",
    "LAI_model = tensorflow.keras.models.Sequential([\n",
    "    tensorflow.keras.layers.Dense(5, input_shape=[len(X.keys())]),\n",
    "    tensorflow.keras.layers.Dense(4, activation=\"softsign\"),\n",
    "    tensorflow.keras.layers.Dense(3, activation=\"softsign\"),\n",
    "    tensorflow.keras.layers.Dense(2, activation=\"softsign\"),\n",
    "    tensorflow.keras.layers.Dense(1)\n",
    "])\n",
    "# Compiling the model to minimize the mean squared error loss function and use the NADAM optimizer\n",
    "LAI_model.compile(\n",
    "    optimizer=tensorflow.keras.optimizers.Nadam(),\n",
    "    loss='mse',\n",
    "    metrics=['mse', 'mae'])"
   ]
  },
  {
   "cell_type": "code",
   "execution_count": 172,
   "metadata": {
    "scrolled": true
   },
   "outputs": [
    {
     "name": "stdout",
     "output_type": "stream",
     "text": [
      "Epoch 1/100\n",
      "122/122 [==============================] - 2s 3ms/step - loss: 0.2770 - mse: 0.2770 - mae: 0.4995\n",
      "Epoch 2/100\n",
      "122/122 [==============================] - 0s 3ms/step - loss: 0.0283 - mse: 0.0283 - mae: 0.1484\n",
      "Epoch 3/100\n",
      "122/122 [==============================] - 0s 3ms/step - loss: 0.0039 - mse: 0.0039 - mae: 0.0496\n",
      "Epoch 4/100\n",
      "122/122 [==============================] - 0s 4ms/step - loss: 0.0023 - mse: 0.0023 - mae: 0.0390\n",
      "Epoch 5/100\n",
      "122/122 [==============================] - 0s 4ms/step - loss: 0.0019 - mse: 0.0019 - mae: 0.0352\n",
      "Epoch 6/100\n",
      "122/122 [==============================] - 0s 4ms/step - loss: 0.0015 - mse: 0.0015 - mae: 0.0317\n",
      "Epoch 7/100\n",
      "122/122 [==============================] - 0s 3ms/step - loss: 0.0014 - mse: 0.0014 - mae: 0.0305\n",
      "Epoch 8/100\n",
      "122/122 [==============================] - 0s 2ms/step - loss: 0.0013 - mse: 0.0013 - mae: 0.0288\n",
      "Epoch 9/100\n",
      "122/122 [==============================] - 0s 3ms/step - loss: 0.0011 - mse: 0.0011 - mae: 0.0266\n",
      "Epoch 10/100\n",
      "122/122 [==============================] - 1s 5ms/step - loss: 0.0010 - mse: 0.0010 - mae: 0.0251   \n",
      "Epoch 11/100\n",
      "122/122 [==============================] - 1s 6ms/step - loss: 0.0010 - mse: 0.0010 - mae: 0.0250\n",
      "Epoch 12/100\n",
      "122/122 [==============================] - 1s 4ms/step - loss: 9.4111e-04 - mse: 9.4111e-04 - mae: 0.0234\n",
      "Epoch 13/100\n",
      "122/122 [==============================] - 1s 4ms/step - loss: 8.5696e-04 - mse: 8.5696e-04 - mae: 0.0228\n",
      "Epoch 14/100\n",
      "122/122 [==============================] - 0s 3ms/step - loss: 8.8266e-04 - mse: 8.8266e-04 - mae: 0.0229\n",
      "Epoch 15/100\n",
      "122/122 [==============================] - 0s 2ms/step - loss: 7.4295e-04 - mse: 7.4295e-04 - mae: 0.0212\n",
      "Epoch 16/100\n",
      "122/122 [==============================] - 0s 2ms/step - loss: 8.1313e-04 - mse: 8.1313e-04 - mae: 0.0217\n",
      "Epoch 17/100\n",
      "122/122 [==============================] - 0s 2ms/step - loss: 8.2920e-04 - mse: 8.2920e-04 - mae: 0.0217\n",
      "Epoch 18/100\n",
      "122/122 [==============================] - 0s 3ms/step - loss: 7.3447e-04 - mse: 7.3447e-04 - mae: 0.0208\n",
      "Epoch 19/100\n",
      "122/122 [==============================] - 0s 3ms/step - loss: 7.3193e-04 - mse: 7.3193e-04 - mae: 0.0206\n",
      "Epoch 20/100\n",
      "122/122 [==============================] - 0s 3ms/step - loss: 6.8999e-04 - mse: 6.8999e-04 - mae: 0.0199\n",
      "Epoch 21/100\n",
      "122/122 [==============================] - 0s 2ms/step - loss: 6.6974e-04 - mse: 6.6974e-04 - mae: 0.0195\n",
      "Epoch 22/100\n",
      "122/122 [==============================] - 0s 2ms/step - loss: 6.4867e-04 - mse: 6.4867e-04 - mae: 0.0191\n",
      "Epoch 23/100\n",
      "122/122 [==============================] - 0s 2ms/step - loss: 6.6053e-04 - mse: 6.6053e-04 - mae: 0.0192\n",
      "Epoch 24/100\n",
      "122/122 [==============================] - 0s 2ms/step - loss: 6.1683e-04 - mse: 6.1683e-04 - mae: 0.0181\n",
      "Epoch 25/100\n",
      "122/122 [==============================] - 0s 4ms/step - loss: 5.5468e-04 - mse: 5.5468e-04 - mae: 0.0175\n",
      "Epoch 26/100\n",
      "122/122 [==============================] - 0s 2ms/step - loss: 5.5441e-04 - mse: 5.5441e-04 - mae: 0.0172\n",
      "Epoch 27/100\n",
      "122/122 [==============================] - 0s 2ms/step - loss: 5.4905e-04 - mse: 5.4905e-04 - mae: 0.0172\n",
      "Epoch 28/100\n",
      "122/122 [==============================] - 0s 4ms/step - loss: 5.2953e-04 - mse: 5.2953e-04 - mae: 0.0169\n",
      "Epoch 29/100\n",
      "122/122 [==============================] - 0s 3ms/step - loss: 5.3032e-04 - mse: 5.3032e-04 - mae: 0.0167\n",
      "Epoch 30/100\n",
      "122/122 [==============================] - 0s 2ms/step - loss: 5.0321e-04 - mse: 5.0321e-04 - mae: 0.0164\n",
      "Epoch 31/100\n",
      "122/122 [==============================] - 0s 2ms/step - loss: 5.2675e-04 - mse: 5.2675e-04 - mae: 0.0166\n",
      "Epoch 32/100\n",
      "122/122 [==============================] - 0s 3ms/step - loss: 5.0177e-04 - mse: 5.0177e-04 - mae: 0.0162\n",
      "Epoch 33/100\n",
      "122/122 [==============================] - 0s 3ms/step - loss: 5.0534e-04 - mse: 5.0534e-04 - mae: 0.0164\n",
      "Epoch 34/100\n",
      "122/122 [==============================] - 0s 2ms/step - loss: 5.0181e-04 - mse: 5.0181e-04 - mae: 0.0162\n",
      "Epoch 35/100\n",
      "122/122 [==============================] - 0s 2ms/step - loss: 4.8393e-04 - mse: 4.8393e-04 - mae: 0.0161\n",
      "Epoch 36/100\n",
      "122/122 [==============================] - 0s 2ms/step - loss: 4.7556e-04 - mse: 4.7556e-04 - mae: 0.0159\n",
      "Epoch 37/100\n",
      "122/122 [==============================] - 0s 2ms/step - loss: 4.8261e-04 - mse: 4.8261e-04 - mae: 0.0158\n",
      "Epoch 38/100\n",
      "122/122 [==============================] - 0s 2ms/step - loss: 5.0018e-04 - mse: 5.0018e-04 - mae: 0.0160\n",
      "Epoch 39/100\n",
      "122/122 [==============================] - 0s 2ms/step - loss: 4.6652e-04 - mse: 4.6652e-04 - mae: 0.0158\n",
      "Epoch 40/100\n",
      "122/122 [==============================] - 0s 2ms/step - loss: 4.7312e-04 - mse: 4.7312e-04 - mae: 0.0155\n",
      "Epoch 41/100\n",
      "122/122 [==============================] - 0s 2ms/step - loss: 4.5755e-04 - mse: 4.5755e-04 - mae: 0.0153\n",
      "Epoch 42/100\n",
      "122/122 [==============================] - 0s 2ms/step - loss: 4.4666e-04 - mse: 4.4666e-04 - mae: 0.0154\n",
      "Epoch 43/100\n",
      "122/122 [==============================] - 0s 2ms/step - loss: 4.6557e-04 - mse: 4.6557e-04 - mae: 0.0156\n",
      "Epoch 44/100\n",
      "122/122 [==============================] - 0s 2ms/step - loss: 4.2227e-04 - mse: 4.2227e-04 - mae: 0.0148\n",
      "Epoch 45/100\n",
      "122/122 [==============================] - 0s 2ms/step - loss: 4.7351e-04 - mse: 4.7351e-04 - mae: 0.0155\n",
      "Epoch 46/100\n",
      "122/122 [==============================] - 0s 2ms/step - loss: 4.7028e-04 - mse: 4.7028e-04 - mae: 0.0155\n",
      "Epoch 47/100\n",
      "122/122 [==============================] - 0s 3ms/step - loss: 4.7308e-04 - mse: 4.7308e-04 - mae: 0.0155\n",
      "Epoch 48/100\n",
      "122/122 [==============================] - 0s 3ms/step - loss: 4.6354e-04 - mse: 4.6354e-04 - mae: 0.0156\n",
      "Epoch 49/100\n",
      "122/122 [==============================] - 0s 2ms/step - loss: 4.3490e-04 - mse: 4.3490e-04 - mae: 0.0151\n",
      "Epoch 50/100\n",
      "122/122 [==============================] - 0s 2ms/step - loss: 4.5436e-04 - mse: 4.5436e-04 - mae: 0.0155\n",
      "Epoch 51/100\n",
      "122/122 [==============================] - 0s 2ms/step - loss: 4.3652e-04 - mse: 4.3652e-04 - mae: 0.0151\n",
      "Epoch 52/100\n",
      "122/122 [==============================] - 0s 2ms/step - loss: 4.4314e-04 - mse: 4.4314e-04 - mae: 0.0149\n",
      "Epoch 53/100\n",
      "122/122 [==============================] - 0s 2ms/step - loss: 4.6935e-04 - mse: 4.6935e-04 - mae: 0.0153\n",
      "Epoch 54/100\n",
      "122/122 [==============================] - 0s 2ms/step - loss: 4.6832e-04 - mse: 4.6832e-04 - mae: 0.0154\n",
      "Epoch 55/100\n",
      "122/122 [==============================] - 0s 2ms/step - loss: 4.4891e-04 - mse: 4.4891e-04 - mae: 0.0152\n",
      "Epoch 56/100\n",
      "122/122 [==============================] - 0s 2ms/step - loss: 4.6131e-04 - mse: 4.6131e-04 - mae: 0.0152\n",
      "Epoch 57/100\n",
      "122/122 [==============================] - 0s 2ms/step - loss: 4.4171e-04 - mse: 4.4171e-04 - mae: 0.0150\n",
      "Epoch 58/100\n",
      "122/122 [==============================] - 0s 2ms/step - loss: 4.4108e-04 - mse: 4.4108e-04 - mae: 0.0152\n",
      "Epoch 59/100\n",
      "122/122 [==============================] - 0s 2ms/step - loss: 4.7285e-04 - mse: 4.7285e-04 - mae: 0.0155\n",
      "Epoch 60/100\n",
      "122/122 [==============================] - 0s 3ms/step - loss: 4.5225e-04 - mse: 4.5225e-04 - mae: 0.0153\n",
      "Epoch 61/100\n",
      "122/122 [==============================] - 0s 3ms/step - loss: 4.2696e-04 - mse: 4.2696e-04 - mae: 0.0150\n",
      "Epoch 62/100\n",
      "122/122 [==============================] - 0s 4ms/step - loss: 4.3710e-04 - mse: 4.3710e-04 - mae: 0.0150\n",
      "Epoch 63/100\n",
      "122/122 [==============================] - 0s 3ms/step - loss: 4.4489e-04 - mse: 4.4489e-04 - mae: 0.0154\n",
      "Epoch 64/100\n",
      "122/122 [==============================] - 0s 3ms/step - loss: 4.1881e-04 - mse: 4.1881e-04 - mae: 0.0146\n",
      "Epoch 65/100\n",
      "122/122 [==============================] - 1s 4ms/step - loss: 4.3875e-04 - mse: 4.3875e-04 - mae: 0.0149\n",
      "Epoch 66/100\n",
      "122/122 [==============================] - 0s 3ms/step - loss: 4.4668e-04 - mse: 4.4668e-04 - mae: 0.0150\n",
      "Epoch 67/100\n",
      "122/122 [==============================] - 0s 3ms/step - loss: 4.4218e-04 - mse: 4.4218e-04 - mae: 0.0151\n",
      "Epoch 68/100\n",
      "122/122 [==============================] - 1s 4ms/step - loss: 4.1620e-04 - mse: 4.1620e-04 - mae: 0.0147\n",
      "Epoch 69/100\n",
      "122/122 [==============================] - 0s 3ms/step - loss: 4.5179e-04 - mse: 4.5179e-04 - mae: 0.0152\n",
      "Epoch 70/100\n",
      "122/122 [==============================] - 0s 3ms/step - loss: 4.4022e-04 - mse: 4.4022e-04 - mae: 0.0148\n",
      "Epoch 71/100\n",
      "122/122 [==============================] - 0s 2ms/step - loss: 4.3829e-04 - mse: 4.3829e-04 - mae: 0.0148\n",
      "Epoch 72/100\n",
      "122/122 [==============================] - 0s 2ms/step - loss: 4.2297e-04 - mse: 4.2297e-04 - mae: 0.0146\n",
      "Epoch 73/100\n",
      "122/122 [==============================] - 0s 4ms/step - loss: 4.3277e-04 - mse: 4.3277e-04 - mae: 0.0147\n",
      "Epoch 74/100\n",
      "122/122 [==============================] - 0s 2ms/step - loss: 4.4324e-04 - mse: 4.4324e-04 - mae: 0.0150\n",
      "Epoch 75/100\n",
      "122/122 [==============================] - 0s 3ms/step - loss: 4.4063e-04 - mse: 4.4063e-04 - mae: 0.0149\n",
      "Epoch 76/100\n",
      "122/122 [==============================] - 0s 2ms/step - loss: 4.3895e-04 - mse: 4.3895e-04 - mae: 0.0148\n",
      "Epoch 77/100\n",
      "122/122 [==============================] - 0s 3ms/step - loss: 4.2445e-04 - mse: 4.2445e-04 - mae: 0.0147\n",
      "Epoch 78/100\n",
      "122/122 [==============================] - 0s 2ms/step - loss: 4.7460e-04 - mse: 4.7460e-04 - mae: 0.0150\n",
      "Epoch 79/100\n",
      "122/122 [==============================] - 0s 3ms/step - loss: 4.4057e-04 - mse: 4.4057e-04 - mae: 0.0151\n",
      "Epoch 80/100\n",
      "122/122 [==============================] - 0s 3ms/step - loss: 4.5716e-04 - mse: 4.5716e-04 - mae: 0.0153\n",
      "Epoch 81/100\n",
      "122/122 [==============================] - 0s 2ms/step - loss: 4.3947e-04 - mse: 4.3947e-04 - mae: 0.0149\n",
      "Epoch 82/100\n",
      "122/122 [==============================] - 0s 2ms/step - loss: 4.3990e-04 - mse: 4.3990e-04 - mae: 0.0150\n",
      "Epoch 83/100\n",
      "122/122 [==============================] - 0s 2ms/step - loss: 4.2659e-04 - mse: 4.2659e-04 - mae: 0.0148\n",
      "Epoch 84/100\n",
      "122/122 [==============================] - 0s 2ms/step - loss: 4.5404e-04 - mse: 4.5404e-04 - mae: 0.0152\n",
      "Epoch 85/100\n",
      "122/122 [==============================] - 0s 2ms/step - loss: 4.1869e-04 - mse: 4.1869e-04 - mae: 0.0145\n",
      "Epoch 86/100\n",
      "122/122 [==============================] - 0s 2ms/step - loss: 4.6919e-04 - mse: 4.6919e-04 - mae: 0.0152\n",
      "Epoch 87/100\n",
      "122/122 [==============================] - 0s 2ms/step - loss: 5.0464e-04 - mse: 5.0464e-04 - mae: 0.0158\n",
      "Epoch 88/100\n",
      "122/122 [==============================] - 0s 2ms/step - loss: 4.7049e-04 - mse: 4.7049e-04 - mae: 0.0150\n",
      "Epoch 89/100\n",
      "122/122 [==============================] - 1s 5ms/step - loss: 4.5102e-04 - mse: 4.5102e-04 - mae: 0.0151\n",
      "Epoch 90/100\n",
      "122/122 [==============================] - 0s 4ms/step - loss: 4.2347e-04 - mse: 4.2347e-04 - mae: 0.0148\n",
      "Epoch 91/100\n",
      "122/122 [==============================] - 0s 3ms/step - loss: 4.4145e-04 - mse: 4.4145e-04 - mae: 0.0151\n",
      "Epoch 92/100\n",
      "122/122 [==============================] - 0s 2ms/step - loss: 4.5900e-04 - mse: 4.5900e-04 - mae: 0.0154\n",
      "Epoch 93/100\n",
      "122/122 [==============================] - 0s 2ms/step - loss: 4.3936e-04 - mse: 4.3936e-04 - mae: 0.0150\n",
      "Epoch 94/100\n",
      "122/122 [==============================] - 0s 2ms/step - loss: 4.5213e-04 - mse: 4.5213e-04 - mae: 0.0152\n",
      "Epoch 95/100\n",
      "122/122 [==============================] - 0s 2ms/step - loss: 4.4328e-04 - mse: 4.4328e-04 - mae: 0.0151\n",
      "Epoch 96/100\n",
      "122/122 [==============================] - 0s 3ms/step - loss: 4.3388e-04 - mse: 4.3388e-04 - mae: 0.0149\n",
      "Epoch 97/100\n",
      "122/122 [==============================] - 0s 2ms/step - loss: 4.1510e-04 - mse: 4.1510e-04 - mae: 0.0145\n",
      "Epoch 98/100\n",
      "122/122 [==============================] - 0s 2ms/step - loss: 4.4796e-04 - mse: 4.4796e-04 - mae: 0.0150\n",
      "Epoch 99/100\n",
      "122/122 [==============================] - 0s 2ms/step - loss: 4.3078e-04 - mse: 4.3078e-04 - mae: 0.0147\n",
      "Epoch 100/100\n",
      "122/122 [==============================] - 0s 3ms/step - loss: 4.2629e-04 - mse: 4.2629e-04 - mae: 0.0148\n"
     ]
    },
    {
     "data": {
      "text/plain": [
       "<tensorflow.python.keras.callbacks.History at 0x15d611f40>"
      ]
     },
     "execution_count": 172,
     "metadata": {},
     "output_type": "execute_result"
    }
   ],
   "source": [
    "# Fitting the model to our trimmed data\n",
    "LAI_model.fit(x=X.to_numpy(), y=y.to_numpy(), epochs=100)"
   ]
  },
  {
   "cell_type": "code",
   "execution_count": 173,
   "metadata": {},
   "outputs": [],
   "source": [
    "# Predicting our own input data to evaluate the performance (for now)\n",
    "LAI_predictions = pd.Series(LAI_model.predict(X.to_numpy()).flatten())"
   ]
  },
  {
   "cell_type": "markdown",
   "metadata": {
    "tags": []
   },
   "source": [
    "### Repeat export for 10m data:"
   ]
  },
  {
   "cell_type": "code",
   "execution_count": 174,
   "metadata": {},
   "outputs": [],
   "source": [
    "trimmed_collection_10m=alr.trim_data(image=inputImage_10m.updateMask(inputImage_10m.select(responseBand).gt(0)),\n",
    "                                     selected_features=select_features_10m,\n",
    "                                     response_band=responseBand,\n",
    "                                     num_samples=10000,\n",
    "                                     num_partitions=10)\n",
    "\n",
    "exportData_10m = ee.batch.Export.table.toDrive(collection=trimmed_collection_10m,\n",
    "                                               description=\"image_data_samples_10m\",\n",
    "                                               fileFormat=\"CSV\")\n",
    "\n",
    "exportData_10m.start()"
   ]
  },
  {
   "cell_type": "code",
   "execution_count": 175,
   "metadata": {},
   "outputs": [
    {
     "name": "stdout",
     "output_type": "stream",
     "text": [
      "READY\n",
      "RUNNING\n",
      "COMPLETED\n"
     ]
    }
   ],
   "source": [
    "# Essentially a wait loop to see if the data has finished exporting by checking with the server-side\n",
    "prev_task_status_10m = ee.data.getTaskStatus(exportData_10m.id)[0][\"state\"]\n",
    "print(prev_task_status_10m)\n",
    "while exportData_10m.active():\n",
    "    task_status_10m = ee.data.getTaskStatus(exportData_10m.id)[0][\"state\"]\n",
    "    if(task_status_10m != prev_task_status_10m):\n",
    "        print(task_status_10m)\n",
    "    prev_task_status_10m = task_status_10m\n",
    "    time.sleep(5)\n",
    "print(ee.data.getTaskStatus(exportData_10m.id)[0][\"state\"])"
   ]
  },
  {
   "cell_type": "code",
   "execution_count": 176,
   "metadata": {},
   "outputs": [],
   "source": [
    "# Reading the CSV file into dataframes\n",
    "trimmed_data_10m = pd.read_csv('./gdrive/image_data_samples_10m.csv')\n",
    "X_10m = trimmed_data_10m.drop(labels=[responseBand, 'system:index', '.geo'], axis=1)\n",
    "y_10m = trimmed_data_10m[responseBand]\n",
    "\n",
    "# We preprocess the input features by standardizing them to a mean of 0 and a standard deviation of 1 for the neural network\n",
    "X_10m = pd.DataFrame(sklearn.preprocessing.scale(X_10m))"
   ]
  },
  {
   "cell_type": "code",
   "execution_count": 177,
   "metadata": {},
   "outputs": [],
   "source": [
    "# Using Keras to create a sequential model neural network which only has simple dense layers of the specified number of nodes\n",
    "LAI_model_10m = tensorflow.keras.models.Sequential([\n",
    "    tensorflow.keras.layers.Dense(5, input_shape=[len(X_10m.keys())]),\n",
    "    tensorflow.keras.layers.Dense(4, activation=\"softsign\"),\n",
    "    tensorflow.keras.layers.Dense(3, activation=\"softsign\"),\n",
    "    tensorflow.keras.layers.Dense(2, activation=\"softsign\"),\n",
    "    tensorflow.keras.layers.Dense(1)\n",
    "])\n",
    "# Compiling the model to minimize the mean squared error loss function and use the NADAM optimizer\n",
    "LAI_model_10m.compile(\n",
    "    optimizer=tensorflow.keras.optimizers.Nadam(),\n",
    "    loss='mse',\n",
    "    metrics=['mse', 'mae'])"
   ]
  },
  {
   "cell_type": "code",
   "execution_count": 178,
   "metadata": {},
   "outputs": [
    {
     "name": "stdout",
     "output_type": "stream",
     "text": [
      "Epoch 1/100\n",
      "123/123 [==============================] - 2s 2ms/step - loss: 0.3014 - mse: 0.3014 - mae: 0.4896\n",
      "Epoch 2/100\n",
      "123/123 [==============================] - 0s 2ms/step - loss: 0.0181 - mse: 0.0181 - mae: 0.1164\n",
      "Epoch 3/100\n",
      "123/123 [==============================] - 0s 3ms/step - loss: 0.0024 - mse: 0.0024 - mae: 0.0367\n",
      "Epoch 4/100\n",
      "123/123 [==============================] - 0s 3ms/step - loss: 0.0017 - mse: 0.0017 - mae: 0.0311\n",
      "Epoch 5/100\n",
      "123/123 [==============================] - 0s 3ms/step - loss: 0.0014 - mse: 0.0014 - mae: 0.0290\n",
      "Epoch 6/100\n",
      "123/123 [==============================] - 0s 4ms/step - loss: 0.0013 - mse: 0.0013 - mae: 0.0277\n",
      "Epoch 7/100\n",
      "123/123 [==============================] - 1s 5ms/step - loss: 0.0012 - mse: 0.0012 - mae: 0.0266\n",
      "Epoch 8/100\n",
      "123/123 [==============================] - 0s 3ms/step - loss: 0.0011 - mse: 0.0011 - mae: 0.0255\n",
      "Epoch 9/100\n",
      "123/123 [==============================] - 0s 2ms/step - loss: 9.7587e-04 - mse: 9.7587e-04 - mae: 0.0244\n",
      "Epoch 10/100\n",
      "123/123 [==============================] - 1s 4ms/step - loss: 9.7453e-04 - mse: 9.7453e-04 - mae: 0.0242\n",
      "Epoch 11/100\n",
      "123/123 [==============================] - 1s 4ms/step - loss: 8.9253e-04 - mse: 8.9253e-04 - mae: 0.0233\n",
      "Epoch 12/100\n",
      "123/123 [==============================] - 0s 2ms/step - loss: 8.3787e-04 - mse: 8.3787e-04 - mae: 0.0228\n",
      "Epoch 13/100\n",
      "123/123 [==============================] - 0s 2ms/step - loss: 8.3011e-04 - mse: 8.3011e-04 - mae: 0.0226\n",
      "Epoch 14/100\n",
      "123/123 [==============================] - 0s 2ms/step - loss: 8.1442e-04 - mse: 8.1442e-04 - mae: 0.0220\n",
      "Epoch 15/100\n",
      "123/123 [==============================] - 0s 2ms/step - loss: 7.7942e-04 - mse: 7.7942e-04 - mae: 0.0218\n",
      "Epoch 16/100\n",
      "123/123 [==============================] - 1s 5ms/step - loss: 7.2764e-04 - mse: 7.2764e-04 - mae: 0.0208\n",
      "Epoch 17/100\n",
      "123/123 [==============================] - 0s 2ms/step - loss: 7.0895e-04 - mse: 7.0895e-04 - mae: 0.0205\n",
      "Epoch 18/100\n",
      "123/123 [==============================] - 0s 4ms/step - loss: 6.7709e-04 - mse: 6.7709e-04 - mae: 0.0199\n",
      "Epoch 19/100\n",
      "123/123 [==============================] - 0s 4ms/step - loss: 6.5704e-04 - mse: 6.5704e-04 - mae: 0.0195\n",
      "Epoch 20/100\n",
      "123/123 [==============================] - 1s 4ms/step - loss: 6.6847e-04 - mse: 6.6847e-04 - mae: 0.0195\n",
      "Epoch 21/100\n",
      "123/123 [==============================] - 0s 3ms/step - loss: 6.3965e-04 - mse: 6.3965e-04 - mae: 0.0190\n",
      "Epoch 22/100\n",
      "123/123 [==============================] - 1s 6ms/step - loss: 6.4698e-04 - mse: 6.4698e-04 - mae: 0.0191A: 0s - loss: 6.5153e-04 - mse: 6.5153e-04 - mae: 0.01\n",
      "Epoch 23/100\n",
      "123/123 [==============================] - 0s 4ms/step - loss: 6.1106e-04 - mse: 6.1106e-04 - mae: 0.0188\n",
      "Epoch 24/100\n",
      "123/123 [==============================] - 0s 4ms/step - loss: 6.2012e-04 - mse: 6.2012e-04 - mae: 0.0189\n",
      "Epoch 25/100\n",
      "123/123 [==============================] - 0s 2ms/step - loss: 6.2022e-04 - mse: 6.2022e-04 - mae: 0.0186\n",
      "Epoch 26/100\n",
      "123/123 [==============================] - 0s 2ms/step - loss: 5.4923e-04 - mse: 5.4923e-04 - mae: 0.0178\n",
      "Epoch 27/100\n",
      "123/123 [==============================] - 0s 2ms/step - loss: 5.8842e-04 - mse: 5.8842e-04 - mae: 0.0184\n",
      "Epoch 28/100\n",
      "123/123 [==============================] - 0s 2ms/step - loss: 5.5031e-04 - mse: 5.5031e-04 - mae: 0.0177\n",
      "Epoch 29/100\n",
      "123/123 [==============================] - 0s 2ms/step - loss: 5.7279e-04 - mse: 5.7279e-04 - mae: 0.0179\n",
      "Epoch 30/100\n",
      "123/123 [==============================] - 0s 2ms/step - loss: 5.5193e-04 - mse: 5.5193e-04 - mae: 0.0177\n",
      "Epoch 31/100\n",
      "123/123 [==============================] - 0s 2ms/step - loss: 5.6047e-04 - mse: 5.6047e-04 - mae: 0.0176\n",
      "Epoch 32/100\n",
      "123/123 [==============================] - 0s 2ms/step - loss: 5.2628e-04 - mse: 5.2628e-04 - mae: 0.0173\n",
      "Epoch 33/100\n",
      "123/123 [==============================] - 0s 3ms/step - loss: 5.4629e-04 - mse: 5.4629e-04 - mae: 0.0173\n",
      "Epoch 34/100\n",
      "123/123 [==============================] - 0s 2ms/step - loss: 5.5633e-04 - mse: 5.5633e-04 - mae: 0.0175\n",
      "Epoch 35/100\n",
      "123/123 [==============================] - 0s 2ms/step - loss: 5.8559e-04 - mse: 5.8559e-04 - mae: 0.0179\n",
      "Epoch 36/100\n",
      "123/123 [==============================] - 0s 2ms/step - loss: 5.7111e-04 - mse: 5.7111e-04 - mae: 0.0178\n",
      "Epoch 37/100\n",
      "123/123 [==============================] - 0s 2ms/step - loss: 5.4107e-04 - mse: 5.4107e-04 - mae: 0.0170\n",
      "Epoch 38/100\n",
      "123/123 [==============================] - 0s 3ms/step - loss: 6.0317e-04 - mse: 6.0317e-04 - mae: 0.0179\n",
      "Epoch 39/100\n",
      "123/123 [==============================] - 0s 2ms/step - loss: 5.6455e-04 - mse: 5.6455e-04 - mae: 0.0175\n",
      "Epoch 40/100\n",
      "123/123 [==============================] - 0s 2ms/step - loss: 5.5039e-04 - mse: 5.5039e-04 - mae: 0.0173\n",
      "Epoch 41/100\n",
      "123/123 [==============================] - 0s 2ms/step - loss: 5.3681e-04 - mse: 5.3681e-04 - mae: 0.0170\n",
      "Epoch 42/100\n",
      "123/123 [==============================] - 0s 2ms/step - loss: 5.3715e-04 - mse: 5.3715e-04 - mae: 0.0170\n",
      "Epoch 43/100\n",
      "123/123 [==============================] - 0s 2ms/step - loss: 5.3232e-04 - mse: 5.3232e-04 - mae: 0.0171\n",
      "Epoch 44/100\n",
      "123/123 [==============================] - 0s 3ms/step - loss: 5.4929e-04 - mse: 5.4929e-04 - mae: 0.0174\n",
      "Epoch 45/100\n",
      "123/123 [==============================] - 0s 2ms/step - loss: 5.4758e-04 - mse: 5.4758e-04 - mae: 0.0174A: 0s - loss: 5.5209e-04 - mse: 5.5209e-04 - mae: 0.01\n",
      "Epoch 46/100\n",
      "123/123 [==============================] - 0s 2ms/step - loss: 5.5268e-04 - mse: 5.5268e-04 - mae: 0.0173\n",
      "Epoch 47/100\n",
      "123/123 [==============================] - 0s 2ms/step - loss: 5.5224e-04 - mse: 5.5224e-04 - mae: 0.0172\n",
      "Epoch 48/100\n",
      "123/123 [==============================] - 0s 2ms/step - loss: 5.3219e-04 - mse: 5.3219e-04 - mae: 0.0171\n",
      "Epoch 49/100\n",
      "123/123 [==============================] - 0s 3ms/step - loss: 5.2395e-04 - mse: 5.2395e-04 - mae: 0.0167\n",
      "Epoch 50/100\n",
      "123/123 [==============================] - 0s 2ms/step - loss: 5.0749e-04 - mse: 5.0749e-04 - mae: 0.0164\n",
      "Epoch 51/100\n",
      "123/123 [==============================] - 0s 2ms/step - loss: 5.2157e-04 - mse: 5.2157e-04 - mae: 0.0170\n",
      "Epoch 52/100\n",
      "123/123 [==============================] - 0s 2ms/step - loss: 5.3607e-04 - mse: 5.3607e-04 - mae: 0.0172\n",
      "Epoch 53/100\n",
      "123/123 [==============================] - 0s 2ms/step - loss: 5.7364e-04 - mse: 5.7364e-04 - mae: 0.0174\n",
      "Epoch 54/100\n",
      "123/123 [==============================] - 0s 3ms/step - loss: 5.2687e-04 - mse: 5.2687e-04 - mae: 0.0169A: 0s - loss: 5.2618e-04 - mse: 5.2618e-04 - mae: 0.01\n",
      "Epoch 55/100\n",
      "123/123 [==============================] - 0s 4ms/step - loss: 5.1992e-04 - mse: 5.1992e-04 - mae: 0.0170\n",
      "Epoch 56/100\n",
      "123/123 [==============================] - 0s 2ms/step - loss: 5.1976e-04 - mse: 5.1976e-04 - mae: 0.0168\n",
      "Epoch 57/100\n",
      "123/123 [==============================] - 0s 4ms/step - loss: 5.1995e-04 - mse: 5.1995e-04 - mae: 0.0168\n",
      "Epoch 58/100\n",
      "123/123 [==============================] - 1s 5ms/step - loss: 5.3504e-04 - mse: 5.3504e-04 - mae: 0.0169\n",
      "Epoch 59/100\n",
      "123/123 [==============================] - 0s 3ms/step - loss: 5.2504e-04 - mse: 5.2504e-04 - mae: 0.0169\n",
      "Epoch 60/100\n",
      "123/123 [==============================] - 0s 3ms/step - loss: 4.7526e-04 - mse: 4.7526e-04 - mae: 0.0164\n",
      "Epoch 61/100\n",
      "123/123 [==============================] - 1s 5ms/step - loss: 4.8647e-04 - mse: 4.8647e-04 - mae: 0.0163\n",
      "Epoch 62/100\n",
      "123/123 [==============================] - 0s 4ms/step - loss: 5.2703e-04 - mse: 5.2703e-04 - mae: 0.0167\n",
      "Epoch 63/100\n",
      "123/123 [==============================] - 0s 3ms/step - loss: 5.0003e-04 - mse: 5.0003e-04 - mae: 0.0165\n",
      "Epoch 64/100\n",
      "123/123 [==============================] - 0s 3ms/step - loss: 5.1385e-04 - mse: 5.1385e-04 - mae: 0.0168\n",
      "Epoch 65/100\n",
      "123/123 [==============================] - 0s 2ms/step - loss: 5.2736e-04 - mse: 5.2736e-04 - mae: 0.0169\n",
      "Epoch 66/100\n",
      "123/123 [==============================] - 0s 2ms/step - loss: 5.7511e-04 - mse: 5.7511e-04 - mae: 0.0173\n",
      "Epoch 67/100\n",
      "123/123 [==============================] - 0s 2ms/step - loss: 5.1061e-04 - mse: 5.1061e-04 - mae: 0.0165\n",
      "Epoch 68/100\n",
      "123/123 [==============================] - 0s 2ms/step - loss: 5.1425e-04 - mse: 5.1425e-04 - mae: 0.0167\n",
      "Epoch 69/100\n",
      "123/123 [==============================] - 0s 2ms/step - loss: 5.6055e-04 - mse: 5.6055e-04 - mae: 0.0170\n",
      "Epoch 70/100\n",
      "123/123 [==============================] - 0s 4ms/step - loss: 4.8882e-04 - mse: 4.8882e-04 - mae: 0.0161\n",
      "Epoch 71/100\n",
      "123/123 [==============================] - 0s 2ms/step - loss: 5.6993e-04 - mse: 5.6993e-04 - mae: 0.0174\n",
      "Epoch 72/100\n",
      "123/123 [==============================] - 0s 4ms/step - loss: 5.4174e-04 - mse: 5.4174e-04 - mae: 0.0171A: 0s - loss: 5.4638e-04 - mse: 5.4638e-04 - mae: 0.0\n",
      "Epoch 73/100\n",
      "123/123 [==============================] - 0s 3ms/step - loss: 4.8689e-04 - mse: 4.8689e-04 - mae: 0.0162\n",
      "Epoch 74/100\n",
      "123/123 [==============================] - 0s 3ms/step - loss: 5.0006e-04 - mse: 5.0006e-04 - mae: 0.0165A: 0s - loss: 5.0025e-04 - mse: 5.0025e-04 - mae: 0.01\n",
      "Epoch 75/100\n",
      "123/123 [==============================] - 0s 4ms/step - loss: 5.1030e-04 - mse: 5.1030e-04 - mae: 0.0165\n",
      "Epoch 76/100\n",
      "123/123 [==============================] - 0s 3ms/step - loss: 4.8149e-04 - mse: 4.8149e-04 - mae: 0.0162\n",
      "Epoch 77/100\n",
      "123/123 [==============================] - 0s 3ms/step - loss: 5.1968e-04 - mse: 5.1968e-04 - mae: 0.0165\n",
      "Epoch 78/100\n",
      "123/123 [==============================] - 0s 3ms/step - loss: 4.9438e-04 - mse: 4.9438e-04 - mae: 0.0164\n",
      "Epoch 79/100\n",
      "123/123 [==============================] - 0s 3ms/step - loss: 4.9631e-04 - mse: 4.9631e-04 - mae: 0.0162\n",
      "Epoch 80/100\n",
      "123/123 [==============================] - 0s 3ms/step - loss: 5.2032e-04 - mse: 5.2032e-04 - mae: 0.0167\n",
      "Epoch 81/100\n",
      "123/123 [==============================] - 0s 4ms/step - loss: 5.0396e-04 - mse: 5.0396e-04 - mae: 0.0167\n",
      "Epoch 82/100\n",
      "123/123 [==============================] - 0s 3ms/step - loss: 5.1625e-04 - mse: 5.1625e-04 - mae: 0.0162\n",
      "Epoch 83/100\n",
      "123/123 [==============================] - 0s 2ms/step - loss: 4.7896e-04 - mse: 4.7896e-04 - mae: 0.0161\n",
      "Epoch 84/100\n",
      "123/123 [==============================] - 0s 2ms/step - loss: 4.9489e-04 - mse: 4.9489e-04 - mae: 0.0163\n",
      "Epoch 85/100\n",
      "123/123 [==============================] - 0s 2ms/step - loss: 5.0018e-04 - mse: 5.0018e-04 - mae: 0.0160\n",
      "Epoch 86/100\n",
      "123/123 [==============================] - 0s 2ms/step - loss: 4.9162e-04 - mse: 4.9162e-04 - mae: 0.0162\n",
      "Epoch 87/100\n",
      "123/123 [==============================] - 0s 3ms/step - loss: 4.9720e-04 - mse: 4.9720e-04 - mae: 0.0164\n",
      "Epoch 88/100\n",
      "123/123 [==============================] - 0s 2ms/step - loss: 4.7786e-04 - mse: 4.7786e-04 - mae: 0.0161\n",
      "Epoch 89/100\n",
      "123/123 [==============================] - 0s 2ms/step - loss: 4.6228e-04 - mse: 4.6228e-04 - mae: 0.0159\n",
      "Epoch 90/100\n",
      "123/123 [==============================] - 0s 4ms/step - loss: 4.9955e-04 - mse: 4.9955e-04 - mae: 0.0163\n",
      "Epoch 91/100\n",
      "123/123 [==============================] - 0s 3ms/step - loss: 4.9616e-04 - mse: 4.9616e-04 - mae: 0.0163A: 0s - loss: 4.9423e-04 - mse: 4.9423e-04 - mae: 0. - ETA: 0s - loss: 4.9792e-04 - mse: 4.9792e-04 - mae: 0.01\n",
      "Epoch 92/100\n",
      "123/123 [==============================] - 0s 2ms/step - loss: 4.6780e-04 - mse: 4.6780e-04 - mae: 0.0158\n",
      "Epoch 93/100\n",
      "123/123 [==============================] - 0s 4ms/step - loss: 5.0304e-04 - mse: 5.0304e-04 - mae: 0.0164\n",
      "Epoch 94/100\n",
      "123/123 [==============================] - 0s 3ms/step - loss: 5.0433e-04 - mse: 5.0433e-04 - mae: 0.0164\n",
      "Epoch 95/100\n",
      "123/123 [==============================] - 0s 4ms/step - loss: 4.7650e-04 - mse: 4.7650e-04 - mae: 0.0161\n",
      "Epoch 96/100\n",
      "123/123 [==============================] - 0s 2ms/step - loss: 4.8109e-04 - mse: 4.8109e-04 - mae: 0.0160\n",
      "Epoch 97/100\n",
      "123/123 [==============================] - 0s 2ms/step - loss: 4.7767e-04 - mse: 4.7767e-04 - mae: 0.0161\n",
      "Epoch 98/100\n",
      "123/123 [==============================] - 0s 3ms/step - loss: 4.7114e-04 - mse: 4.7114e-04 - mae: 0.0158\n",
      "Epoch 99/100\n",
      "123/123 [==============================] - 0s 2ms/step - loss: 5.2576e-04 - mse: 5.2576e-04 - mae: 0.0166\n",
      "Epoch 100/100\n",
      "123/123 [==============================] - 0s 2ms/step - loss: 4.8797e-04 - mse: 4.8797e-04 - mae: 0.0161\n"
     ]
    },
    {
     "data": {
      "text/plain": [
       "<tensorflow.python.keras.callbacks.History at 0x15ed12640>"
      ]
     },
     "execution_count": 178,
     "metadata": {},
     "output_type": "execute_result"
    }
   ],
   "source": [
    "# Fitting the model to our trimmed data\n",
    "LAI_model_10m.fit(x=X_10m.to_numpy(), y=y_10m.to_numpy(), epochs=100)"
   ]
  },
  {
   "cell_type": "code",
   "execution_count": 179,
   "metadata": {},
   "outputs": [],
   "source": [
    "# Predicting our own input data to evaluate the performance (for now)\n",
    "LAI_predictions_10m = pd.Series(LAI_model_10m.predict(X_10m.to_numpy()).flatten())"
   ]
  },
  {
   "cell_type": "markdown",
   "metadata": {},
   "source": [
    "Below is code the that prepares the predictions to be displayed against the true values of the response for matplotlib"
   ]
  },
  {
   "cell_type": "code",
   "execution_count": 180,
   "metadata": {},
   "outputs": [],
   "source": [
    "xy_tf_LAI = np.vstack([y, LAI_predictions])\n",
    "z_tf_LAI = scipy.stats.gaussian_kde(xy_tf_LAI)(xy_tf_LAI)\n",
    "\n",
    "idx_tf_LAI = z_tf_LAI.argsort()\n",
    "x_tf_LAI = y[idx_tf_LAI]\n",
    "y_tf_LAI = LAI_predictions[idx_tf_LAI]\n",
    "z_tf_LAI = z_tf_LAI[idx_tf_LAI]\n",
    "\n",
    "rmse_tf_LAI = sklearn.metrics.mean_squared_error(x_tf_LAI, y_tf_LAI, squared=False)"
   ]
  },
  {
   "cell_type": "code",
   "execution_count": 181,
   "metadata": {},
   "outputs": [],
   "source": [
    "# 10m:\n",
    "xy_tf_LAI_10m = np.vstack([y_10m, LAI_predictions_10m])\n",
    "z_tf_LAI_10m = scipy.stats.gaussian_kde(xy_tf_LAI_10m)(xy_tf_LAI_10m)\n",
    "\n",
    "idx_tf_LAI_10m = z_tf_LAI_10m.argsort()\n",
    "x_tf_LAI_10m = y_10m[idx_tf_LAI_10m]\n",
    "y_tf_LAI_10m = LAI_predictions_10m[idx_tf_LAI_10m]\n",
    "z_tf_LAI_10m = z_tf_LAI_10m[idx_tf_LAI_10m]\n",
    "\n",
    "rmse_tf_LAI_10m = sklearn.metrics.mean_squared_error(x_tf_LAI_10m, y_tf_LAI_10m, squared=False)"
   ]
  },
  {
   "cell_type": "code",
   "execution_count": 182,
   "metadata": {},
   "outputs": [
    {
     "data": {
      "text/plain": [
       "<matplotlib.colorbar.Colorbar at 0x15ef864f0>"
      ]
     },
     "execution_count": 182,
     "metadata": {},
     "output_type": "execute_result"
    },
    {
     "data": {
      "image/png": "[encoded data removed]",
      "text/plain": [
       "<Figure size 1080x504 with 3 Axes>"
      ]
     },
     "metadata": {
      "needs_background": "light"
     },
     "output_type": "display_data"
    }
   ],
   "source": [
    "# plot feature prediction\n",
    "a_tf_LAI = np.linspace(0, axlim, 1000)\n",
    "\n",
    "fig, ax = plt.subplots(1, 2, figsize=(15, 7))\n",
    "fig.suptitle('{}'.format('Estimated '+outputName))\n",
    "\n",
    "# Using all features\n",
    "fig1 = ax[0].scatter(x_tf_LAI, y_tf_LAI, c=z_tf_LAI)\n",
    "ax[0].plot(a_tf_LAI, a_tf_LAI, c='r')\n",
    "ax[0].set_xlabel('SL2P {}'.format(responseBand))\n",
    "ax[0].set_ylabel('ALR predicted {}'.format(outputName))\n",
    "ax[0].title.set_text(f'LASSO LARS (ALL BANDS) - RMSE = {rmse_tf_LAI:.5f}')\n",
    "\n",
    "# Using 10 m features only\n",
    "fig2 = ax[1].scatter(x_tf_LAI_10m, y_tf_LAI_10m, c=z_tf_LAI_10m)\n",
    "ax[1].plot(a_tf_LAI, a_tf_LAI, c='r')\n",
    "ax[1].set_xlabel('SL2P {}'.format(responseBand))\n",
    "ax[1].set_ylabel('ALR predicted {} (10m)'.format(outputName))\n",
    "ax[1].title.set_text(f'LASSO LARS (10m BANDS) - RMSE = {rmse_tf_LAI_10m:.5f}')\n",
    "\n",
    "# add legend for scale\n",
    "fig.subplots_adjust(right=0.9)\n",
    "cbar_ax = fig.add_axes([0.95, 0.1, 0.01, 0.8])\n",
    "fig.colorbar(fig1, cax=cbar_ax)"
   ]
  },
  {
   "cell_type": "markdown",
   "metadata": {},
   "source": [
    "Early attempts to use the output of the kerasModel.get_weights() to apply the neural network weights manually"
   ]
  },
  {
   "cell_type": "code",
   "execution_count": 46,
   "metadata": {
    "scrolled": true
   },
   "outputs": [
    {
     "data": {
      "text/plain": [
       "[array([[-2.7398798 , -3.536974  ,  3.6466925 ,  3.1230073 , -3.8034012 ],\n",
       "        [ 3.7981048 ,  4.057477  , -2.9011967 , -3.9306624 ,  3.8486443 ],\n",
       "        [ 0.02518088, -0.47988126,  0.55527914, -0.6205802 ,  0.0221141 ],\n",
       "        [ 6.573537  ,  6.4667497 , -5.791895  , -6.8965282 ,  5.579861  ],\n",
       "        [-1.60505   , -0.7643096 ,  1.0398248 ,  1.0449996 , -0.17405012]],\n",
       "       dtype=float32),\n",
       " array([ 62.107056,  67.03532 , -62.11858 , -65.91176 ,  60.563435],\n",
       "       dtype=float32),\n",
       " array([[-58.117756,  60.90686 ,  56.89272 ,  57.115055],\n",
       "        [-60.49769 ,  62.267223,  60.218987,  61.560387],\n",
       "        [ 59.326492, -59.18705 , -57.18816 , -57.682053],\n",
       "        [ 60.810936, -63.179443, -59.603443, -60.579227],\n",
       "        [-58.362484,  59.049206,  58.17094 ,  57.17671 ]], dtype=float32),\n",
       " array([-20.77999 ,  24.04258 ,  19.182133,  20.828087], dtype=float32),\n",
       " array([[-80.09378 ,  79.59881 , -80.34347 ],\n",
       "        [ 80.74922 , -78.71333 ,  80.72042 ],\n",
       "        [ 80.38256 , -79.88559 ,  81.25333 ],\n",
       "        [ 80.81242 , -78.92862 ,  81.739815]], dtype=float32),\n",
       " array([ 76.63425 , -75.79627 ,  78.146286], dtype=float32),\n",
       " array([[-87.29831,  87.81812],\n",
       "        [ 87.71038, -87.97739],\n",
       "        [-87.29169,  86.89703]], dtype=float32),\n",
       " array([-85.106064,  86.57154 ], dtype=float32),\n",
       " array([[-93.17847],\n",
       "        [ 92.50115]], dtype=float32),\n",
       " array([91.69926], dtype=float32)]"
      ]
     },
     "execution_count": 46,
     "metadata": {},
     "output_type": "execute_result"
    }
   ],
   "source": [
    "LAI_model.get_weights()"
   ]
  },
  {
   "cell_type": "code",
   "execution_count": 47,
   "metadata": {},
   "outputs": [
    {
     "data": {
      "text/plain": [
       "[array([[-3.5480783 , -3.587339  , -2.9099941 ,  3.23489   , -3.628387  ],\n",
       "        [ 4.1115007 ,  3.479523  ,  3.4047341 , -3.6032658 ,  4.029607  ],\n",
       "        [ 0.04047   , -0.5622287 ,  0.07578439,  0.3330413 , -0.15563202],\n",
       "        [ 5.4377503 ,  6.017694  ,  6.564209  , -6.8837156 ,  6.443043  ],\n",
       "        [-1.0541114 , -0.5267082 , -0.9121629 ,  0.8634612 , -1.256864  ]],\n",
       "       dtype=float32),\n",
       " array([ 63.259457,  60.774723,  64.13925 , -64.7012  ,  65.45289 ],\n",
       "       dtype=float32),\n",
       " array([[ 57.933575, -62.39044 ,  58.880077,  58.378788],\n",
       "        [ 57.8774  , -56.40682 ,  56.409847,  56.22585 ],\n",
       "        [ 59.637047, -61.732967,  58.115383,  59.79154 ],\n",
       "        [-58.200294,  60.5797  , -60.17792 , -58.306473],\n",
       "        [ 58.961052, -61.74353 ,  59.353653,  59.415134]], dtype=float32),\n",
       " array([ 19.009754, -21.862206,  18.964403,  18.694508], dtype=float32),\n",
       " array([[ 81.76688,  80.60897,  79.17644],\n",
       "        [-81.94334, -80.93843, -79.17726],\n",
       "        [ 81.57176,  80.93781,  79.70664],\n",
       "        [ 81.53063,  80.47733,  79.75991]], dtype=float32),\n",
       " array([78.033516, 76.742294, 75.41689 ], dtype=float32),\n",
       " array([[-86.44725 ,  86.02993 ],\n",
       "        [-86.61555 ,  86.27142 ],\n",
       "        [-86.8386  ,  86.694534]], dtype=float32),\n",
       " array([-85.19624,  84.31877], dtype=float32),\n",
       " array([[-93.00046],\n",
       "        [ 93.78554]], dtype=float32),\n",
       " array([91.697365], dtype=float32)]"
      ]
     },
     "execution_count": 47,
     "metadata": {},
     "output_type": "execute_result"
    }
   ],
   "source": [
    "LAI_model_10m.get_weights()"
   ]
  },
  {
   "cell_type": "code",
   "execution_count": 48,
   "metadata": {},
   "outputs": [],
   "source": [
    "elu = np.vectorize(alr.elu)\n",
    "softplus = np.vectorize(alr.softplus)\n",
    "softsign = np.vectorize(alr.softsign)\n",
    "relu = np.vectorize(alr.relu)\n",
    "tanh = np.vectorize(alr.tanh)\n",
    "sigmoid = np.vectorize(alr.sigmoid)"
   ]
  },
  {
   "cell_type": "code",
   "execution_count": 50,
   "metadata": {},
   "outputs": [
    {
     "name": "stdout",
     "output_type": "stream",
     "text": [
      "20m:\n",
      "276.84634\n",
      "276.84634086787185\n",
      "\n",
      "10m:\n",
      "277.94125\n",
      "277.94124727955517\n"
     ]
    }
   ],
   "source": [
    "row = 4802\n",
    "inputs = X.iloc[row, :].to_numpy()\n",
    "print('20m:')\n",
    "print(LAI_model.predict(inputs.reshape((-1,5)))[0][0])\n",
    "print(alr.apply_nnet(inputs, LAI_model)[0])\n",
    "print()\n",
    "\n",
    "# 10m:\n",
    "row = 4802\n",
    "inputs_10m = X_10m.iloc[row, :].to_numpy()\n",
    "print('10m:')\n",
    "print(LAI_model_10m.predict(inputs_10m.reshape((-1,5)))[0][0])\n",
    "print(alr.apply_nnet(inputs_10m, LAI_model_10m)[0])"
   ]
  },
  {
   "cell_type": "code",
   "execution_count": 52,
   "metadata": {},
   "outputs": [],
   "source": [
    "# Writing the neural network to a CSV file to be uploaded to the server side on Google Earth Engine\n",
    "export_data = alr.export_nnet(LAI_model, X)\n",
    "with open('nnet.csv', 'w', newline='') as csvfile:\n",
    "    nnet_writer = csv.writer(csvfile)\n",
    "    for layerdata in export_data:\n",
    "        nnet_writer.writerow(layerdata)\n",
    "\n",
    "# 10m:\n",
    "export_data_10m = alr.export_nnet(LAI_model_10m, X_10m)\n",
    "with open('nnet_10m.csv', 'w', newline='') as csvfile_10m:\n",
    "    nnet_writer_10m = csv.writer(csvfile_10m)\n",
    "    for layerdata in export_data_10m:\n",
    "        nnet_writer_10m.writerow(layerdata)"
   ]
  },
  {
   "cell_type": "raw",
   "metadata": {},
   "source": [
    "Currently, I have not found a way to automatically upload a file as an asset into Google Earth Engine from a local script. There is a command in the Earth Engine command line interface that allows you to upload an asset from cloud storage, although cloud storage is not free. There may be a workaround way to upload the file from Google Drive directly to Earth Engine, but even that would use the Google Drive API which is a part of Google Cloud, so it will not be free. It seems the network must be uploaded manually for now."
   ]
  }
 ],
 "metadata": {
  "colab": {
   "name": "LAI_FAPAR_FCOVER_Prediction.ipynb",
   "provenance": []
  },
  "kernelspec": {
   "display_name": "Python 3 (ipykernel)",
   "language": "python",
   "name": "python3"
  },
  "language_info": {
   "codemirror_mode": {
    "name": "ipython",
    "version": 3
   },
   "file_extension": ".py",
   "mimetype": "text/x-python",
   "name": "python",
   "nbconvert_exporter": "python",
   "pygments_lexer": "ipython3",
   "version": "3.9.7"
  },
  "pycharm": {
   "stem_cell": {
    "cell_type": "raw",
    "metadata": {
     "collapsed": false
    },
    "source": []
   }
  }
 },
 "nbformat": 4,
 "nbformat_minor": 4
}
