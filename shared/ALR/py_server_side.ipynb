{
 "cells": [
  {
   "cell_type": "code",
   "execution_count": 1,
   "id": "0eaabde7-93f6-4b71-bdde-e30971c9e00e",
   "metadata": {},
   "outputs": [],
   "source": [
    "import scipy\n",
    "import scipy.io as sio\n",
    "import matplotlib.pyplot as plt\n",
    "import numpy as np\n",
    "import pandas as pd\n",
    "import sklearn\n",
    "from sklearn import preprocessing\n",
    "from sklearn import linear_model\n",
    "import tensorflow\n",
    "import ee\n",
    "import json\n",
    "from collections import OrderedDict\n",
    "import time\n",
    "import math\n",
    "import csv\n",
    "import os"
   ]
  },
  {
   "cell_type": "code",
   "execution_count": 2,
   "id": "c06ae28c-9638-4111-850f-517d7cb5c654",
   "metadata": {},
   "outputs": [
    {
     "data": {
      "text/html": [
       "<p>To authorize access needed by Earth Engine, open the following\n",
       "        URL in a web browser and follow the instructions:</p>\n",
       "        <p><a href=https://accounts.google.com/o/oauth2/auth?client_id=517222506229-vsmmajv00ul0bs7p89v5m89qs8eb9359.apps.googleusercontent.com&scope=https%3A%2F%2Fwww.googleapis.com%2Fauth%2Fearthengine+https%3A%2F%2Fwww.googleapis.com%2Fauth%2Fdevstorage.full_control&redirect_uri=urn%3Aietf%3Awg%3Aoauth%3A2.0%3Aoob&response_type=code&code_challenge=lZAWa35zStmUyB-UwM-8bfPF2hbgMPh_2-d5JfzOU34&code_challenge_method=S256>https://accounts.google.com/o/oauth2/auth?client_id=517222506229-vsmmajv00ul0bs7p89v5m89qs8eb9359.apps.googleusercontent.com&scope=https%3A%2F%2Fwww.googleapis.com%2Fauth%2Fearthengine+https%3A%2F%2Fwww.googleapis.com%2Fauth%2Fdevstorage.full_control&redirect_uri=urn%3Aietf%3Awg%3Aoauth%3A2.0%3Aoob&response_type=code&code_challenge=lZAWa35zStmUyB-UwM-8bfPF2hbgMPh_2-d5JfzOU34&code_challenge_method=S256</a></p>\n",
       "        <p>The authorization workflow will generate a code, which you\n",
       "        should paste in the box below</p>\n",
       "        "
      ],
      "text/plain": [
       "<IPython.core.display.HTML object>"
      ]
     },
     "metadata": {},
     "output_type": "display_data"
    },
    {
     "name": "stdin",
     "output_type": "stream",
     "text": [
      "Enter verification code:  4/1AX4XfWiACvC5E2c9evdwwh309oKFPcSeozZLhrtp0XXOkMxXznaO9VfSLN4\n"
     ]
    },
    {
     "name": "stdout",
     "output_type": "stream",
     "text": [
      "\n",
      "Successfully saved authorization token.\n"
     ]
    }
   ],
   "source": [
    "ee.Authenticate()\n",
    "ee.Initialize()"
   ]
  },
  {
   "cell_type": "code",
   "execution_count": 3,
   "id": "8e892d60-c553-47e0-a064-081754d36cd5",
   "metadata": {},
   "outputs": [],
   "source": [
    "# Set the test image using an uploaded asset for now\n",
    "inputImageCollection = ee.ImageCollection('users/kateharvey/test_collection')\n",
    "# inputImage = ee.Image(inputImageCollection.toList(inputImageCollection.size()).get(0))\n",
    "# inputImage = ee.Image('users/kateharvey/test_collection/20200801T155911_20200801T160644_T18TVQ_LAI')\n",
    "\n",
    "# TESTING with 10m\n",
    "testImage = ee.Image('users/kateharvey/TestImage')\n",
    "inputImage = ee.Image(testImage.select(1,2,3,7,23,27,28,29,30,31,32,33))\n",
    "\n",
    "# Change variable name here to match band name pattern (one of: Albedo, fAPAR, fCOVER, LAI, CCC, CWC, DASF)\n",
    "outputName = 'LAI'\n",
    "defaultBand = ee.String('estimate'+outputName)\n",
    "\n",
    "# List the bands that we expect in the image (ensure number of bands in the list below matches the number bands in the input image)\n",
    "# This is the order of bands produced by running SL2P10 and exporting the resulting ImageCollection\n",
    "# inputImage_bands = ee.List(['B2', 'B3', 'B4', 'B8', 'date', 'QC', 'estimateLAI', 'partition', 'networkID', 'errorLAI', 'partition_1', 'networkID_1'])\n",
    "\n",
    "inputImage_bands = ee.List(['B2', 'B3', 'B4', 'B8', 'date', 'QC', 'estimateLAI', 'partition', 'networkID', 'errorLAI', 'partition_1', 'networkID_1'])"
   ]
  },
  {
   "cell_type": "code",
   "execution_count": 4,
   "id": "a68e5d5b-496d-4ee3-b538-160c97963471",
   "metadata": {},
   "outputs": [],
   "source": [
    "# Below we define a list of strings representing the expressions for each vegetation index as a function of the bands in the input image\n",
    "# More vegetation indices can be defined, but the list CANNOT contain any two vegetation indices which are a linear combination of each\n",
    "# other or LARs will fail to select the requested number of variables\n",
    "\n",
    "# The formatting of the expression must be\n",
    "# \"<name of VI> = <expression with band names from inputImage_bands used as variables in the form b('<band name>')\"\n",
    "\n",
    "# Only include VIs that use 10 m bands (B2, B3, B4, B8)\n",
    "input_VI_definition = ee.List([\"RAW_B2  = b('B2')\",\n",
    "                               \"RAW_B3  = b('B3')\",\n",
    "                               \"RAW_B4  = b('B4')\",\n",
    "                               \"RAW_B8  = b('B8')\",\n",
    "                               \"GI      = b('B3')/b('B4')\",\n",
    "                             # \"RVI3    = b('B4')/b('B6')\",\n",
    "                             # \"SR3     = b('B5')/b('B4')\",\n",
    "                             # \"GM1     = b('B6')/b('B3')\",\n",
    "                             # \"GM2     = b('B6')/b('B5')\",\n",
    "                             # \"SR2     = b('B7')/b('B3')\",\n",
    "                             # \"PSSR    = b('B7')/b('B4')\",\n",
    "                               \"SGI     = b('B8')/b('B4')\",\n",
    "                             # \"MSI     = b('B11')/b('B7')\",\n",
    "                             # \"II      = b('B11')/b('B12')\",\n",
    "                               \"GVI     = (b('B8')/b('B3'))-1\",\n",
    "                             # \"PSRI    = (b('B4')-b('B3'))/b('B6')\",\n",
    "                               \"NDVI3   = ((b('B8')-b('B4'))/(b('B8')))+b('B4')\",\n",
    "                             # \"SR5     = 1/b('B5')\",\n",
    "                             # \"SR6     = b('B4')/(b('B3')*b('B5'))\",\n",
    "                             # \"SR7     = b('B8')/(b('B3')*b('B5'))\",\n",
    "                             # \"IPVI    = b('B7')/(b('B7')+b('B4'))\",\n",
    "                             # \"ARI     = (1/b('B3'))-(1/b('B5'))\",\n",
    "                             # \"ARI2    = b('B7')*((1/b('B3'))-(1/b('B5')))\",\n",
    "                               \"NDVI    = (b('B8')-b('B4'))/(b('B8')+b('B4'))\",\n",
    "                               \"GNDVI   = (b('B8')-b('B3'))/(b('B8')+b('B3'))\",\n",
    "                             # \"NDWI    = (b('B8')-b('B11'))/(b('B8')+b('B11'))\",\n",
    "                             # \"NDREVI  = (b('B8')-b('B5'))/(b('B8')+b('B5'))\",\n",
    "                               \"NDGI    = (b('B3')-b('B4'))/(b('B3')+b('B4'))\",\n",
    "                             # \"NDI1    = (b('B7')-b('B5'))/(b('B7')-b('B4'))\",\n",
    "                             # \"NDI2    = (b('B8')-b('B5'))/(b('B8')-b('B4'))\",\n",
    "                             # \"RENDVI  = (b('B6')-b('B5'))/(b('B6')+b('B5'))\",\n",
    "                             # \"OSAVI   = (1.16*(b('B7')-b('B4')))/(b('B7')+b('B4')+0.61)\",\n",
    "                             # \"NMDI    = (b('B8')-(b('B11')-b('B12')))/(b('B8')+(b('B11')-b('B12')))\",\n",
    "                             # \"HI      = ((b('B3')-b('B5'))/(b('B3')+b('B5')))-0.5*b('B5')\",\n",
    "                             # \"GVSP    = (-0.283*b('B3') - 0.66*b('B4') + 0.577*b('B6') + 0.388*b('B8'))/(0.433*b('B3') - 0.632*b('B4') + 0.586*b('B6') + 0.264*b('B8A'))\",\n",
    "                             # \"MCARI   = ((b('B5')-b('B4'))-0.2*(b('B5')-b('B3')))*(b('B5')/b('B4'))\",\n",
    "                             # \"TCARI   = 3*((b('B5')-b('B4'))-0.2*(b('B5')-b('B3'))*(b('B5')/b('B4')))\",\n",
    "                               \"EVI     = 2.5*((b('B8')-b('B4'))/(b('B8')+6*b('B4')-7.5*b('B3')+1))\",\n",
    "                               \"EVI2    = 2.5*((b('B8')-b('B4'))/(b('B8')+2.4*b('B4')+1))\",\n",
    "                               \"RDVI    = (b('B8')-b('B4'))/((b('B8')+b('B4'))**0.5)\",\n",
    "                               \"MSR     = ((b('B8')/b('B4'))-1)/((b('B8')/b('B4'))**0.5+1)\",\n",
    "                             # \"MSAVI   = 0.5*(2*b('B7')+1-((2*b('B7')+1)**2-8*(b('B7')-b('B4')))**0.5)\",\n",
    "                               \"MSAVI2  = 0.5*(2*b('B8')+1-((2*b('B8')+1)**2-8*(b('B8')-b('B4')))**0.5)\",\n",
    "                             # \"MCARI2  = (1.5*(2.5*(b('B7')-b('B4'))-1.3*(b('B7')-b('B3'))))/((((2*b('B7')+1)**2)-(6*b('B7')-5*(b('B4')**0.5))-0.5)**0.5)\",\n",
    "                             # \"MTVI2   = (1.5*(1.2*(b('B7')-b('B3'))-2.5*(b('B4')-b('B3'))))/(((2*b('B7')+1)**2-(6*b('B7')-5*b('B4'))-0.5)**0.5)\",\n",
    "                             # \"MSR2    = ((b('B7')/b('B4'))-1)/(((b('B7')/b('B4'))+1)**0.5)\",\n",
    "                               \"NLI     = ((b('B8')**2)-b('B4'))/((b('B8')**2)+b('B4'))\"])"
   ]
  },
  {
   "cell_type": "code",
   "execution_count": 3,
   "id": "baf4c9c5-63a3-459e-a25d-b96bfacde6af",
   "metadata": {},
   "outputs": [],
   "source": [
    "# inputImage = ee.Image('users/ccrs1fy2020/Test4')\n",
    "# inputImage_bands = ee.List(['B1', 'B2', 'B3', 'B4', 'B5', 'B6', 'B7', 'B8', 'B8A', 'B9', 'B10', 'B11', 'B12', 'B13', 'LAI'])\n",
    "\n",
    "input_VI_definition = ee.List([\"GI      = b('B3')/b('B4')\",\n",
    "                               \"RVI3    = b('B4')/b('B6')\",\n",
    "                               \"SR3     = b('B5')/b('B4')\",\n",
    "                               \"GM1     = b('B6')/b('B3')\",\n",
    "                               \"GM2     = b('B6')/b('B5')\",\n",
    "                               \"SR2     = b('B7')/b('B3')\",\n",
    "                               \"PSSR    = b('B7')/b('B4')\",\n",
    "                               \"SGI     = b('B8A')/b('B4')\",\n",
    "                               \"MSI     = b('B11')/b('B7')\",\n",
    "                               \"II      = b('B11')/b('B12')\",\n",
    "                               \"GVI     = (b('B8A')/b('B3'))-1\",\n",
    "                               \"PSRI    = (b('B4')-b('B3'))/b('B6')\",\n",
    "                               \"NDVI3   = ((b('B8A')-b('B4'))/(b('B8A')))+b('B4')\",\n",
    "                               \"SR5     = 1/b('B5')\",\n",
    "                               \"SR6     = b('B4')/(b('B3')*b('B5'))\",\n",
    "                               \"SR7     = b('B8A')/(b('B3')*b('B5'))\",\n",
    "                               \"IPVI    = b('B7')/(b('B7')+b('B4'))\",\n",
    "                               \"ARI     = (1/b('B3'))-(1/b('B5'))\",\n",
    "                               \"ARI2    = b('B7')*((1/b('B3'))-(1/b('B5')))\",\n",
    "                               \"NDVI    = (b('B8A')-b('B4'))/(b('B8A')+b('B4'))\",\n",
    "                               \"GNDVI   = (b('B8A')-b('B3'))/(b('B8A')+b('B3'))\",\n",
    "                               \"NDWI    = (b('B8A')-b('B11'))/(b('B8A')+b('B11'))\",\n",
    "                               \"NDREVI  = (b('B8A')-b('B5'))/(b('B8A')+b('B5'))\",\n",
    "                               \"NDGI    = (b('B3')-b('B4'))/(b('B3')+b('B4'))\",\n",
    "                               \"NDI1    = (b('B7')-b('B5'))/(b('B7')-b('B4'))\",\n",
    "                               \"NDI2    = (b('B8A')-b('B5'))/(b('B8A')-b('B4'))\",\n",
    "                               \"RENDVI  = (b('B6')-b('B5'))/(b('B6')+b('B5'))\",\n",
    "                               \"OSAVI   = (1.16*(b('B7')-b('B4')))/(b('B7')+b('B4')+0.61)\",\n",
    "                               \"NMDI    = (b('B8A')-(b('B11')-b('B12')))/(b('B8A')+(b('B11')-b('B12')))\",\n",
    "                               \"HI      = ((b('B3')-b('B5'))/(b('B3')+b('B5')))-0.5*b('B5')\",\n",
    "                               \"GVSP    = (-0.283*b('B3') - 0.66*b('B4') + 0.577*b('B6') + 0.388*b('B8A'))/(0.433*b('B3') - 0.632*b('B4') + 0.586*b('B6') + 0.264*b('B8A'))\",\n",
    "                               \"MCARI   = ((b('B5')-b('B4'))-0.2*(b('B5')-b('B3')))*(b('B5')/b('B4'))\",\n",
    "                               \"TCARI   = 3*((b('B5')-b('B4'))-0.2*(b('B5')-b('B3'))*(b('B5')/b('B4')))\",\n",
    "                               \"EVI     = 2.5*((b('B8A')-b('B4'))/(b('B8A')+6*b('B4')-7.5*b('B3')+1))\",\n",
    "                               \"EVI2    = 2.5*((b('B8A')-b('B4'))/(b('B8A')+2.4*b('B4')+1))\",\n",
    "                               \"RDVI    = (b('B8A')-b('B4'))/((b('B8A')+b('B4'))**0.5)\",\n",
    "                               \"MSR     = ((b('B8A')/b('B4'))-1)/((b('B8A')/b('B4'))**0.5+1)\",\n",
    "                               \"MSAVI   = 0.5*(2*b('B7')+1-((2*b('B7')+1)**2-8*(b('B7')-b('B4')))**0.5)\",\n",
    "                               \"MSAVI2  = 0.5*(2*b('B8A')+1-((2*b('B8A')+1)**2-8*(b('B8A')-b('B4')))**0.5)\",\n",
    "                               \"MCARI2  = (1.5*(2.5*(b('B7')-b('B4'))-1.3*(b('B7')-b('B3'))))/((((2*b('B7')+1)**2)-(6*b('B7')-5*(b('B4')**0.5))-0.5)**0.5)\",\n",
    "                               \"MTVI2   = (1.5*(1.2*(b('B7')-b('B3'))-2.5*(b('B4')-b('B3'))))/(((2*b('B7')+1)**2-(6*b('B7')-5*b('B4'))-0.5)**0.5)\",\n",
    "                               \"MSR2    = ((b('B7')/b('B4'))-1)/(((b('B7')/b('B4'))+1)**0.5)\",\n",
    "                               \"NLI     = ((b('B8A')**2)-b('B4'))/((b('B8A')**2)+b('B4'))\"])"
   ]
  },
  {
   "cell_type": "code",
   "execution_count": 5,
   "id": "1f998a84-33ea-4dcd-82f2-4cf517a62e16",
   "metadata": {},
   "outputs": [],
   "source": [
    "def format_image(image, image_bands, response_band, VI_definition):\n",
    "    image = ee.Image(image)\n",
    "    image_bands = ee.List(image_bands)\n",
    "    response_band = ee.String(response_band)\n",
    "    VI_definition = ee.List(VI_definition)\n",
    "    \n",
    "    # image_bands specifices a list of the names of the bands used in defining the expressions for VIs in VI_definition\n",
    "    image = image.rename(image_bands).toDouble()\n",
    "    \n",
    "    # Generate an imageCollection from a list of expressions defining a set of Vegetation Indices using the bands available in the image\n",
    "    VIimageCollection = ee.ImageCollection(VI_definition.map(lambda expr: image.expression(ee.String(expr))))\n",
    "    VIimage = VIimageCollection.toBands().regexpRename('[0-9]+_', '')\n",
    "    \n",
    "    # Reordering the bands in the image so the response band is the last band in the image\n",
    "    feature_bands = image_bands.remove(response_band)\n",
    "    \n",
    "    return image.select(feature_bands).addBands(VIimage).addBands(image.select(response_band))"
   ]
  },
  {
   "cell_type": "code",
   "execution_count": 6,
   "id": "acde569c-061e-48ef-883e-42b80cdbd39a",
   "metadata": {},
   "outputs": [],
   "source": [
    "inputImage = format_image(inputImage, inputImage_bands, defaultBand, input_VI_definition)"
   ]
  },
  {
   "cell_type": "code",
   "execution_count": 7,
   "id": "cbbaf1cd-3daa-4727-8904-d726dd1990f6",
   "metadata": {},
   "outputs": [],
   "source": [
    "def get_num_pixels(image):\n",
    "    # Retrieve the dimensions of the image from the metadata of the first band\n",
    "    image_dimensions = ee.List(image.getInfo()['bands'][28]['dimensions'])\n",
    "    image_height = image_dimensions.getNumber(0)\n",
    "    image_width = image_dimensions.getNumber(1)\n",
    "    image_pixels = image_height.multiply(image_width)\n",
    "    \n",
    "    return image_pixels"
   ]
  },
  {
   "cell_type": "code",
   "execution_count": 8,
   "id": "d1191bf2-40df-49a3-8fd6-a3b37dbe6bea",
   "metadata": {},
   "outputs": [],
   "source": [
    "num_input_pixels = get_num_pixels(inputImage)"
   ]
  },
  {
   "cell_type": "code",
   "execution_count": 9,
   "id": "6f988ca0-eebc-4259-84f2-52a13ec813de",
   "metadata": {},
   "outputs": [],
   "source": [
    "def scale_image(image, response_band):\n",
    "    image = ee.Image(image)\n",
    "    response_band = ee.String(response_band)\n",
    "    image_pixels = ee.Number(get_num_pixels(image))\n",
    "    \n",
    "    # Setting up lists containing the input/feature bands in the image\n",
    "    bandList = image.bandNames()\n",
    "    featureList = bandList.remove(response_band)\n",
    "    num_bands = bandList.length()\n",
    "    num_features = featureList.length()\n",
    "    \n",
    "    # We will be using the reduceRegion() function on images from Earth Engine, \n",
    "    # which will process up to a specified number of pixels from the image to generate the outputs of the reducer\n",
    "    max_pixels = image_pixels.min(10000000)\n",
    "    # best_effort = ee.Algorithms.If(image_pixels.gt(max_pixels), True, False)\n",
    "    \n",
    "    # Set default projection and scale using the response band\n",
    "    defaultScale = image.select(defaultBand).projection().nominalScale()\n",
    "    defaultCrs = image.select(defaultBand).projection().crs()\n",
    "    image = image.setDefaultProjection(crs=defaultCrs, scale=defaultScale)\n",
    "    \n",
    "    # Initial centering all of the input bands, added VIs, and response with the input image\n",
    "    meanImage = image.subtract(image.reduceRegion(reducer=ee.Reducer.mean(), scale=defaultScale, bestEffort=True, maxPixels=max_pixels).toImage(bandList))\n",
    "    \n",
    "    # Separating the image into features (X) and response (y) for processing with LARs\n",
    "    X = meanImage.select(featureList)\n",
    "    y = meanImage.select(response_band)\n",
    "    \n",
    "    # Standardizing the input features\n",
    "    X = X.divide(X.reduceRegion(reducer=ee.Reducer.stdDev(), bestEffort=True, maxPixels=max_pixels).toImage(featureList))\n",
    "    \n",
    "    return X.addBands(y)"
   ]
  },
  {
   "cell_type": "code",
   "execution_count": 10,
   "id": "f0f361ff-efd9-40f1-8572-579b56fefd68",
   "metadata": {},
   "outputs": [],
   "source": [
    "scaledImage = scale_image(inputImage, defaultBand)"
   ]
  },
  {
   "cell_type": "code",
   "execution_count": 117,
   "id": "89d4ff08-b38d-4511-96dc-486baa30c5e4",
   "metadata": {},
   "outputs": [
    {
     "data": {
      "text/plain": [
       "'\\ndef image2collection(image, num_samples):\\n    image = ee.Image(image)\\n    num_samples = ee.Number(num_samples)\\n    image_pixels = ee.Number(get_num_pixels(image))\\n    n = num_samples.min(image_pixels)\\n    \\n    # Extracting the image into arrays\\n    inputsCollection = image.sample(None, None, None, None, n, 0, True, 1, True)\\n    \\n    return inputsCollection\\n'"
      ]
     },
     "execution_count": 117,
     "metadata": {},
     "output_type": "execute_result"
    }
   ],
   "source": [
    "'''\n",
    "def image2collection(image, num_samples):\n",
    "    image = ee.Image(image)\n",
    "    num_samples = ee.Number(num_samples)\n",
    "    image_pixels = ee.Number(get_num_pixels(image))\n",
    "    n = num_samples.min(image_pixels)\n",
    "    \n",
    "    # Extracting the image into arrays\n",
    "    inputsCollection = image.sample(None, None, None, None, n, 0, True, 1, True)\n",
    "    \n",
    "    return inputsCollection\n",
    "'''"
   ]
  },
  {
   "cell_type": "code",
   "execution_count": 118,
   "id": "e1cf96aa-deac-4800-b6c9-60a4e2c65ff7",
   "metadata": {},
   "outputs": [],
   "source": [
    "# inputsCollection = image2collection(scaledImage, 10000)"
   ]
  },
  {
   "cell_type": "code",
   "execution_count": null,
   "id": "b9c1cfd5-4866-4e86-843d-acb7e882c79e",
   "metadata": {},
   "outputs": [],
   "source": [
    "# Export.table.toDrive({\n",
    "#     collection: inputsCollection,\n",
    "#     description: 'untrimmed_image_samples',\n",
    "#     fileFormat: 'CSV',\n",
    "#     selectors: ['B1', 'B2', 'B3', 'B4', 'B5', 'B6', 'B7', 'B8', 'B8A', 'B9', 'B10', 'B11', 'B12', 'B13',\n",
    "#                 \"GI\", \"RVI3\", \"SR3\", \"GM1\", \"GM2\", \"SR2\", \"PSSR\", \"SGI\", \"MSI\", \"II\", \"GVI\", \"PSRI\", \"NDVI3\",\n",
    "#                 \"SR5\", \"SR6\", \"SR7\", \"IPVI\", \"ARI\", \"ARI2\", \"NDVI\", \"GNDVI\", \"NDWI\", \"NDREVI\", \"NDGI\", \"NDI1\",\n",
    "#                 \"NDI2\", \"RENDVI\", \"OSAVI\", \"NMDI\", \"HI\", \"GVSP\", \"MCARI\", \"TCARI\", \"EVI\", \"EVI2\",\"RDVI\", \"MSR\",\n",
    "#                 \"MSAVI\", \"MSAVI2\", \"MCARI2\", \"MTVI2\", \"MSR2\", \"NLI\", \"LAI\"]\n",
    "#  })"
   ]
  },
  {
   "cell_type": "code",
   "execution_count": 11,
   "id": "1cd40313-73b7-4088-9113-09a780d8df15",
   "metadata": {},
   "outputs": [],
   "source": [
    "def EE_LARS(image, response_band, num_nonzero_coefficients, num_samples):\n",
    "    image = ee.Image(image)\n",
    "    response_band = ee.String(response_band)\n",
    "    num_nonzero_coefficients = ee.Number(num_nonzero_coefficients)\n",
    "    num_samples = ee.Number(num_samples)\n",
    "    bandList = image.bandNames()\n",
    "    featureList = bandList.remove(response_band)\n",
    "    image_pixels = get_num_pixels(image)\n",
    "    inputCollection = image.sample(None, None, None, None, num_samples.min(image_pixels), 0, True, 1, True)\n",
    "    \n",
    "    n = inputCollection.size()\n",
    "    m = featureList.length()\n",
    "    \n",
    "    inputs = ee.Dictionary.fromLists(bandList, bandList.map(lambda feature: inputCollection.aggregate_array(feature)))\n",
    "    \n",
    "    # Re-centering the features and response as reduceRegion() is not as precise as centering with arrays \n",
    "    input_means = ee.Dictionary.fromLists(bandList, bandList.map(lambda feature: inputCollection.aggregate_mean(feature)))\n",
    "    \n",
    "    def center_inputs(key, value):\n",
    "        key_mean = input_means.getNumber(key)\n",
    "        return ee.List(value).map(lambda sample: ee.Number(sample).subtract(key_mean))\n",
    "    \n",
    "    inputs = inputs.map(center_inputs)\n",
    "    y = inputs.toArray([response_band]).reshape([-1,1])\n",
    "\n",
    "    # Re-normalizing the input features as reduceRegion() is not as precise as normalizing with arrays\n",
    "    inputs = inputs.select(featureList)\n",
    "    input_norms = inputs.map(lambda key, value: ee.Number(ee.List(value).map(lambda sample: ee.Number(sample).pow(2)).reduce(ee.Reducer.sum())).pow(0.5))\n",
    "    \n",
    "    def norm_inputs(key, value):\n",
    "        key_norm = input_norms.getNumber(key)\n",
    "        return ee.List(value).map(lambda sample: ee.Number(sample).divide(key_norm))\n",
    "    \n",
    "    inputs = inputs.map(norm_inputs)\n",
    "    X = inputs.toArray(featureList).transpose()\n",
    "    \n",
    "    # Find the first most correlated variable to pass into the main loop\n",
    "    initial_prediction = ee.Array(ee.List.repeat([0], n))\n",
    "    c = X.transpose().matrixMultiply(y.subtract(initial_prediction))\n",
    "    c_abs = c.abs()\n",
    "    C_maxLoc = c_abs.project([0]).argmax()\n",
    "    add_feature = C_maxLoc.getNumber(0)\n",
    "    A = ee.List([add_feature])\n",
    "    \n",
    "    initial_inputs = ee.Dictionary({'prediction': initial_prediction, 'A': A})\n",
    "    # print(A.getInfo())\n",
    "    # print(initial_inputs.getInfo())\n",
    "    \n",
    "    # Main loop\n",
    "    def LARs_regression(iteration, inputs):\n",
    "        inputs = ee.Dictionary(inputs)\n",
    "        A = ee.List(inputs.get('A'))\n",
    "        A_list = ee.Array(ee.List.sequence(0, m.subtract(1)).map(lambda index: A.contains(index))\\\n",
    "                          .replaceAll(False, 0).replaceAll(True ,1)).reshape([-1,1])\n",
    "\n",
    "        prediction = inputs.getArray('prediction')\n",
    "        c = X.transpose().matrixMultiply(y.subtract(prediction))\n",
    "        c_abs = c.abs()\n",
    "        C_max = c_abs.get(c_abs.argmax())\n",
    "\n",
    "        s_A = c.divide(c_abs).mask(A_list)\n",
    "        X_A = X.mask(A_list.transpose())\n",
    "        G_Ai = X_A.transpose().matrixMultiply(X_A).matrixInverse()\n",
    "        G1 = G_Ai.matrixMultiply(s_A)\n",
    "        A_A = s_A.project([0]).dotProduct(G1.project([0])).pow(-0.5)\n",
    "        w_A = G1.multiply(A_A)\n",
    "        u_A = X_A.matrixMultiply(w_A)\n",
    "        a = X.transpose().matrixMultiply(u_A)\n",
    "\n",
    "        a = a.project([0])\n",
    "        c = c.project([0])\n",
    "        \n",
    "        def compute_gammaArray(index_j):\n",
    "            minus_j = C_max.subtract(c.get([index_j])).divide(A_A.subtract(a.get([index_j])))\n",
    "            plus_j = C_max.add(c.get([index_j])).divide(A_A.add(a.get([index_j])))\n",
    "            return ee.List([minus_j, plus_j]).filter(ee.Filter.gte('item', 0)).reduce(ee.Reducer.min())\n",
    "    \n",
    "        A_c = ee.List.sequence(0, m.subtract(1)).removeAll(A)\n",
    "        gammaArray = A_c.map(compute_gammaArray)\n",
    "        gamma = gammaArray.reduce(ee.Reducer.min())\n",
    "        min_location = gammaArray.indexOf(gamma)\n",
    "        add_feature = A_c.getNumber(min_location)\n",
    "        A = A.add(add_feature)\n",
    "        prediction = prediction.add(u_A.multiply(gamma))\n",
    "\n",
    "        return ee.Dictionary({'prediction': prediction, 'A': A})\n",
    "\n",
    "    def LARs_final_iteration(iteration, inputs):\n",
    "        inputs = ee.Dictionary(inputs)\n",
    "        A = ee.List(inputs.get('A'))\n",
    "\n",
    "        prediction = inputs.getArray('prediction')\n",
    "        c = X.transpose().matrixMultiply(y.subtract(prediction))\n",
    "        c_abs = c.abs()\n",
    "        C_max = c_abs.get(c_abs.argmax())\n",
    "\n",
    "        s_A = c.divide(c_abs)\n",
    "        G_Ai = X.transpose().matrixMultiply(X).matrixInverse()\n",
    "        G1 = G_Ai.matrixMultiply(s_A)\n",
    "        A_A = s_A.project([0]).dotProduct(G1.project([0])).pow(-0.5)\n",
    "        w_A = G1.multiply(A_A)\n",
    "        u_A = X.matrixMultiply(w_A)\n",
    "\n",
    "        gamma = C_max.divide(A_A)\n",
    "        prediction = prediction.add(u_A.multiply(gamma))\n",
    "\n",
    "        return ee.Dictionary({'prediction': prediction, 'A': A})\n",
    "    \n",
    "    iterations = ee.List.sequence(1, m.subtract(1).min(num_nonzero_coefficients))\n",
    "    penultimate_outputs = iterations.iterate(LARs_regression, initial_inputs)\n",
    "    final_outputs = ee.Dictionary(ee.Algorithms.If(num_nonzero_coefficients.gte(m), \n",
    "                                                      LARs_final_iteration(m, penultimate_outputs),\n",
    "                                                      penultimate_outputs))\n",
    "    \n",
    "    final_prediction = final_outputs.getArray('prediction')\n",
    "    A = ee.List(final_outputs.get('A'))\n",
    "    feature_path = A.slice(0, num_nonzero_coefficients).map(lambda index: featureList.getString(index))\n",
    "    \n",
    "    coefficients = X.matrixSolve(final_prediction)\n",
    "    \n",
    "    def set_zero(num):\n",
    "        num = ee.Number(num)\n",
    "        return ee.Algorithms.If(num.abs().lt(0.001), 0, num)\n",
    "    \n",
    "    coefficients = coefficients.project([0]).toList().map(lambda num: set_zero(num))\n",
    "    # print('Coefficients', ee.Dictionary.fromLists(featureList, coefficients))\n",
    "    \n",
    "    return feature_path"
   ]
  },
  {
   "cell_type": "code",
   "execution_count": 12,
   "id": "c35dadeb-74d6-4073-8d77-54659a068716",
   "metadata": {},
   "outputs": [],
   "source": [
    "select_features = ee.List(EE_LARS(scaledImage, defaultBand, 5, 10000)).sort()"
   ]
  },
  {
   "cell_type": "code",
   "execution_count": 13,
   "id": "e4a95d9e-5214-470b-a283-31304cab5a9a",
   "metadata": {},
   "outputs": [],
   "source": [
    "# The following function trims input data according to an algorithm in which the response band is partitioned into n equally sized\n",
    "# partitions, and in each of the n partitions, for the features selected by LARs, they are each trimmed individually down to only the\n",
    "# 5-95 percentile of the data. We are not doing any preprocessing with the data, so the raw data is exported from Earth Engine\n",
    "# The function takes an image, a list of strings with the selected feature bands in the image, the string that is the name of the response\n",
    "# band in this image, the number of samples/pixels the user wants to take from the image, and the number of parititions to trim within\n",
    "def trim_data(image, selected_features, response_band, num_samples, num_partitions):\n",
    "    image = ee.Image(image)\n",
    "    selected_features = ee.List(selected_features)\n",
    "    response_band = ee.String(response_band)\n",
    "    num_samples = ee.Number(num_samples)\n",
    "    num_partitions = ee.Number(num_partitions)\n",
    "    \n",
    "    # Generate the list of percentile bounds for the requested number of partitions, and the names of the value bounds for the\n",
    "    # dictionary that will be generated from the percentile reducer used later on\n",
    "    percentiles = ee.List.sequence(0, 100, ee.Number(100).divide(num_partitions))\n",
    "    percentile_names = percentiles.map(lambda num: ee.Number(num).round().toInt().format(\"p%s\"))\n",
    "\n",
    "    # Randomly sample the pixels in the input image into a feature collection containing only the selected features and the response\n",
    "    image_pixels = ee.Number(get_num_pixels(image))\n",
    "    inputsCollection = image.select(selected_features.add(response_band)).sample(numPixels=num_samples.min(image_pixels))\n",
    "\n",
    "    # Find the values at the percentile bounds using the percentile reducer over the feature collection\n",
    "    response_percentiles = inputsCollection.reduceColumns(ee.Reducer.percentile(percentiles=percentiles, outputNames=percentile_names, maxRaw=inputsCollection.size()), [response_band])\n",
    "    \n",
    "    # Create a list of percentile bounds for each partition\n",
    "    response_partitions = response_percentiles.values(percentile_names.remove('p100')).zip(response_percentiles.values(percentile_names.remove('p0')))\n",
    "    \n",
    "    def partition_data(partition_range):\n",
    "        partition_range = ee.List(partition_range)\n",
    "        return inputsCollection.filter(ee.Filter.rangeContains(response_band, partition_range.getNumber(0), partition_range.getNumber(1)))\n",
    "    \n",
    "    partitioned_data = response_partitions.map(partition_data)\n",
    "\n",
    "    # The following function now trims the data in each partition individually for each feature to its 5-95 percentile only\n",
    "    def trim_partitions(partition):\n",
    "        partition = ee.FeatureCollection(partition)\n",
    "        feature_trimming_bounds = selected_features.map(lambda feature: ee.List([feature]).cat(partition.reduceColumns(ee.Reducer.percentile([5, 95]), [feature]).values(['p5','p95'])))\n",
    "        def trimmer(current_feature, collection):\n",
    "            current_feature = ee.List(current_feature)\n",
    "            collection = ee.FeatureCollection(collection)\n",
    "            return collection.filter(ee.Filter.rangeContains(current_feature.getString(0), current_feature.getNumber(1), current_feature.getNumber(2)))\n",
    "        return feature_trimming_bounds.iterate(trimmer, partition)\n",
    "    \n",
    "    # Retrieve the trimmed data partitions and flatten the paritions into a single trimmed feature collection\n",
    "    trimmed_partitions = partitioned_data.map(trim_partitions)\n",
    "    trimmed_data = ee.FeatureCollection(trimmed_partitions).flatten()\n",
    "    \n",
    "    return trimmed_data"
   ]
  },
  {
   "cell_type": "code",
   "execution_count": 14,
   "id": "b8d6dc3f-2d9e-4d0a-9241-feb6b1b283b2",
   "metadata": {},
   "outputs": [],
   "source": [
    "trimmedCollection = trim_data(image=inputImage.updateMask(inputImage.select(defaultBand).gt(0)), \\\n",
    "                    selected_features=select_features, response_band=defaultBand, num_samples=5000, num_partitions=10)"
   ]
  },
  {
   "cell_type": "code",
   "execution_count": 15,
   "id": "c5da2e7c-1db4-4b20-b8c9-0aa2449c86fd",
   "metadata": {},
   "outputs": [],
   "source": [
    "exportData = ee.batch.Export.table.toDrive(collection=trimmedCollection, description='image_samples', fileFormat='CSV')\n",
    "exportData.start()"
   ]
  },
  {
   "cell_type": "code",
   "execution_count": 16,
   "id": "2be92e9d-a5a2-4619-8528-a871c2e38c3e",
   "metadata": {},
   "outputs": [
    {
     "name": "stdout",
     "output_type": "stream",
     "text": [
      "READY\n",
      "RUNNING\n",
      "COMPLETED\n"
     ]
    }
   ],
   "source": [
    "# Essentially a wait loop to see if the data has finished exporting by checking with the server-side\n",
    "prev_task_status = ee.data.getTaskStatus(exportData.id)[0][\"state\"]\n",
    "print(prev_task_status)\n",
    "while exportData.active():\n",
    "    task_status = ee.data.getTaskStatus(exportData.id)[0][\"state\"]\n",
    "    if(task_status != prev_task_status):\n",
    "        print(task_status)\n",
    "    prev_task_status = task_status\n",
    "    time.sleep(5)\n",
    "print(ee.data.getTaskStatus(exportData.id)[0][\"state\"])"
   ]
  },
  {
   "cell_type": "code",
   "execution_count": 17,
   "id": "8e0b5188-eba2-47c9-846b-1dacea0d2d8a",
   "metadata": {},
   "outputs": [],
   "source": [
    "nnet = ee.FeatureCollection(\"users/hemitshah/nnet5\")\n",
    "nnet_inputs = nnet.filter(ee.Filter.eq(\"layer_num\", 0)).first()\n",
    "num_inputs = nnet_inputs.getNumber(\"num_nodes\")\n",
    "\n",
    "selected_features = nnet_inputs.getString(\"activation\").split(\",\")\n",
    "\n",
    "nnet = nnet.filterBounds(ee.Geometry.Point([0,0]))\n",
    "layer_list = nnet.sort(\"layer_num\").toList(nnet.size())"
   ]
  },
  {
   "cell_type": "code",
   "execution_count": 18,
   "id": "3a98db3c-83d2-4574-a53a-62bcae931208",
   "metadata": {},
   "outputs": [],
   "source": [
    "def parse_layer(feature):\n",
    "    feature = ee.Feature(feature)\n",
    "    prev_layer_size = feature.getNumber(\"prev_layer_size\")\n",
    "    num_nodes = feature.getNumber(\"num_nodes\")\n",
    "    node_size = prev_layer_size.subtract(1)\n",
    "    activation = feature.getString(\"activation\")\n",
    "    \n",
    "    node_collection = ee.ImageCollection(ee.List.sequence(1, num_nodes)\\\n",
    "                        .map(lambda node: ee.ImageCollection(ee.List.sequence(ee.Number(node).toInt(), ee.Number(node)\\\n",
    "                                    .toInt().add(node_size.multiply(num_nodes)), num_nodes)\\\n",
    "                        .map(lambda index: ee.Image(feature.getNumber(ee.Number(index).toInt())))).toBands()\\\n",
    "                        .set({\"bias\": feature.getNumber(ee.Number(node).toInt().add(prev_layer_size.multiply(num_nodes)))})))\n",
    "    \n",
    "    return ee.List([node_collection, activation])"
   ]
  },
  {
   "cell_type": "code",
   "execution_count": 19,
   "id": "edc3f1b7-49e2-4914-b961-5e153e4dd37a",
   "metadata": {},
   "outputs": [
    {
     "data": {
      "text/plain": [
       "'\\nprint(ee.List(neural_net.get(0)).get(0))\\nprint(ee.List(neural_net.get(0)).get(1))\\nprint(ee.List(neural_net.get(1)).get(0))\\nprint(ee.List(neural_net.get(1)).get(1))\\nprint(ee.List(neural_net.get(2)).get(0))\\nprint(ee.List(neural_net.get(2)).get(1))\\nprint(ee.List(neural_net.get(3)).get(0))\\nprint(ee.List(neural_net.get(3)).get(1))\\nprint(ee.List(neural_net.get(4)).get(0))\\nprint(ee.List(neural_net.get(4)).get(1))\\n'"
      ]
     },
     "execution_count": 19,
     "metadata": {},
     "output_type": "execute_result"
    }
   ],
   "source": [
    "neural_net = layer_list.map(parse_layer)\n",
    "'''\n",
    "print(ee.List(neural_net.get(0)).get(0))\n",
    "print(ee.List(neural_net.get(0)).get(1))\n",
    "print(ee.List(neural_net.get(1)).get(0))\n",
    "print(ee.List(neural_net.get(1)).get(1))\n",
    "print(ee.List(neural_net.get(2)).get(0))\n",
    "print(ee.List(neural_net.get(2)).get(1))\n",
    "print(ee.List(neural_net.get(3)).get(0))\n",
    "print(ee.List(neural_net.get(3)).get(1))\n",
    "print(ee.List(neural_net.get(4)).get(0))\n",
    "print(ee.List(neural_net.get(4)).get(1))\n",
    "'''"
   ]
  },
  {
   "cell_type": "code",
   "execution_count": 20,
   "id": "a339c334-719d-4301-b76a-178c02c25dea",
   "metadata": {},
   "outputs": [],
   "source": [
    "def linear(x):\n",
    "    return ee.Image(x)\n",
    "\n",
    "def elu(x):\n",
    "    x = ee.Image(x)\n",
    "    return ee.ImageCollection([x.mask(x.gte(0)), x.mask(x.lt(0)).exp().subtract(1)]).mosaic()\n",
    "\n",
    "def softplus(x):\n",
    "    x = ee.Image(x)\n",
    "    return x.exp().add(1).log()\n",
    "\n",
    "def softsign(x):\n",
    "    x = ee.Image(x)\n",
    "    return x.divide(x.abs().add(1))\n",
    "\n",
    "def relu(x):\n",
    "    x = ee.Image(x)\n",
    "    return x.max(0.0)\n",
    "\n",
    "def tanh(x):\n",
    "    x = ee.Image(x)\n",
    "    return x.multiply(2).exp().subtract(1).divide(x.multiply(2).exp().add(1))\n",
    "\n",
    "def sigmoid(x):\n",
    "    return x.exp().pow(-1).add(1).pow(-1)"
   ]
  },
  {
   "cell_type": "code",
   "execution_count": 21,
   "id": "701e6de4-f71c-4312-a23d-750e51b7b434",
   "metadata": {},
   "outputs": [],
   "source": [
    "def apply_nnet(layer, net_input):\n",
    "    layer = ee.List(layer)\n",
    "    net_input = ee.Image(net_input)\n",
    "    \n",
    "    layer_nodes = ee.ImageCollection(layer.get(0))\n",
    "    activation = layer.getString(1)\n",
    "    \n",
    "    node_outputs = layer_nodes.map(lambda node: ee.Algorithms.If(activation.compareTo(\"linear\"), \\\n",
    "                        softsign(net_input.multiply(node).reduce(ee.Reducer.sum()).add(node.getNumber(\"bias\"))), \\\n",
    "                        net_input.multiply(ee.Image(node)).reduce(ee.Reducer.sum()).add(ee.Image(node).getNumber(\"bias\")))).toBands()\n",
    "\n",
    "    return node_outputs"
   ]
  },
  {
   "cell_type": "code",
   "execution_count": 22,
   "id": "b03c8fc8-c070-4fed-9f3b-0f65e279b294",
   "metadata": {},
   "outputs": [],
   "source": [
    "validation_data = inputImage.select(\"LAI\")\n",
    "nnet_inputs = scaledImage.select(selected_features)\n",
    "# layer1out = apply_nnet(neural_net.get(0), nnet_inputs)\n",
    "# layer2out = apply_nnet(neural_net.get(1), layer1out)\n",
    "# layer3out = apply_nnet(neural_net.get(2), layer2out)\n",
    "# layer4out = apply_nnet(neural_net.get(3), layer3out)\n",
    "# layer5out = apply_nnet(neural_net.get(4), layer4out)\n",
    "# Map.addLayer(layer1out)\n",
    "# Map.addLayer(layer2out)\n",
    "# Map.addLayer(layer3out)\n",
    "# Map.addLayer(layer4out)\n",
    "# Map.addLayer(layer5out)"
   ]
  },
  {
   "cell_type": "code",
   "execution_count": 23,
   "id": "f65831a8-7a0c-42f1-837e-560faf75eea4",
   "metadata": {},
   "outputs": [],
   "source": [
    "prediction_data = ee.Image(neural_net.iterate(apply_nnet, nnet_inputs)).rename(\"NNET\")\n",
    "inputsCollection = ee.FeatureCollection(\"users/hemitshah/image_data_samples\").select(selected_features.add(\"LAI\"))"
   ]
  },
  {
   "cell_type": "code",
   "execution_count": 24,
   "id": "c9020b44-6733-410b-8d77-137daa344083",
   "metadata": {},
   "outputs": [],
   "source": [
    "ee_regressor = ee.Classifier.smileRandomForest(numberOfTrees=100,\n",
    "                                               variablesPerSplit=0,\n",
    "                                               minLeafPopulation=3,\n",
    "                                               bagFraction=0.1, seed=0).setOutputMode(\"REGRESSION\")\\\n",
    "                .train(features=inputsCollection, classProperty=\"LAI\", inputProperties=selected_features)"
   ]
  },
  {
   "cell_type": "code",
   "execution_count": 25,
   "id": "48f456b3-74ac-4741-8635-b2c1423478f2",
   "metadata": {},
   "outputs": [],
   "source": [
    "ee_prediction = nnet_inputs.addBands(validation_data).classify(ee_regressor, \"RANDOM_FOREST\")\n",
    "# Map.addLayer(validation_data)\n",
    "# Map.addLayer(prediction_data)\n",
    "# Map.addLayer(ee_prediction)"
   ]
  },
  {
   "cell_type": "code",
   "execution_count": 26,
   "id": "709f9640-0003-43f4-8638-3998da2dba85",
   "metadata": {},
   "outputs": [],
   "source": [
    "nnet_rmse = prediction_data.subtract(validation_data).pow(2).reduceRegion(ee.Reducer.mean(), None, None, None, None, True, 10000000, 1).values().getNumber(0).pow(0.5)\n",
    "rf_rmse = ee_prediction.subtract(validation_data).pow(2).reduceRegion(ee.Reducer.mean(), None, None, None, None, True, 10000000, 1).values().getNumber(0).pow(0.5)\n",
    "# print(\"NEURAL NET RMSE: \", nnet_rmse)\n",
    "# print(\"RANDOM FOREST RMSE: \", rf_rmse)"
   ]
  },
  {
   "cell_type": "code",
   "execution_count": null,
   "id": "6331ea47-74ac-4960-b490-1336b6ae2b18",
   "metadata": {},
   "outputs": [],
   "source": []
  }
 ],
 "metadata": {
  "kernelspec": {
   "display_name": "Python 3 (ipykernel)",
   "language": "python",
   "name": "python3"
  },
  "language_info": {
   "codemirror_mode": {
    "name": "ipython",
    "version": 3
   },
   "file_extension": ".py",
   "mimetype": "text/x-python",
   "name": "python",
   "nbconvert_exporter": "python",
   "pygments_lexer": "ipython3",
   "version": "3.9.7"
  }
 },
 "nbformat": 4,
 "nbformat_minor": 5
}
