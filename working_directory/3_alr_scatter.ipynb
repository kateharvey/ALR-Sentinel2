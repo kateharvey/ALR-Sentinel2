{
 "cells": [
  {
   "cell_type": "markdown",
   "metadata": {},
   "source": [
    "## ALR Client Side\n",
    "\n",
    "This notebook is a copy similar to ALR_Client_Side found in:\n",
    "https://github.com/rfernand387/ALR_Earth_Engine/blob/master/ALR_Client_Side.ipynb\n",
    "\n",
    "Modifications have been made to accept an EE image with 10 m resolution bands that has been outputted from SL2P10_control.ipynb:\n",
    "https://github.com/kateharvey/Sentinel2_ALR/blob/main/shared/SL2P10_control.ipynb"
   ]
  },
  {
   "cell_type": "code",
   "execution_count": 1,
   "metadata": {},
   "outputs": [],
   "source": [
    "import scipy\n",
    "import scipy.io as sio\n",
    "import matplotlib.pyplot as plt\n",
    "import numpy as np\n",
    "import pandas as pd\n",
    "import sklearn as skl\n",
    "from sklearn import preprocessing\n",
    "from sklearn import linear_model\n",
    "import tensorflow as tf\n",
    "import ee\n",
    "import json\n",
    "from collections import OrderedDict\n",
    "import time\n",
    "import math\n",
    "import csv\n",
    "import os\n",
    "\n",
    "# import custom module\n",
    "# import ALR_functions as alr"
   ]
  },
  {
   "cell_type": "code",
   "execution_count": 2,
   "metadata": {},
   "outputs": [
    {
     "data": {
      "text/html": [
       "<p>To authorize access needed by Earth Engine, open the following\n",
       "        URL in a web browser and follow the instructions:</p>\n",
       "        <p><a href=https://accounts.google.com/o/oauth2/auth?client_id=517222506229-vsmmajv00ul0bs7p89v5m89qs8eb9359.apps.googleusercontent.com&scope=https%3A%2F%2Fwww.googleapis.com%2Fauth%2Fearthengine+https%3A%2F%2Fwww.googleapis.com%2Fauth%2Fdevstorage.full_control&redirect_uri=urn%3Aietf%3Awg%3Aoauth%3A2.0%3Aoob&response_type=code&code_challenge=GrvHo53OBuV-juCMeGsUNI2opGN6xZPT1wEmXLXE0Dc&code_challenge_method=S256>https://accounts.google.com/o/oauth2/auth?client_id=517222506229-vsmmajv00ul0bs7p89v5m89qs8eb9359.apps.googleusercontent.com&scope=https%3A%2F%2Fwww.googleapis.com%2Fauth%2Fearthengine+https%3A%2F%2Fwww.googleapis.com%2Fauth%2Fdevstorage.full_control&redirect_uri=urn%3Aietf%3Awg%3Aoauth%3A2.0%3Aoob&response_type=code&code_challenge=GrvHo53OBuV-juCMeGsUNI2opGN6xZPT1wEmXLXE0Dc&code_challenge_method=S256</a></p>\n",
       "        <p>The authorization workflow will generate a code, which you\n",
       "        should paste in the box below</p>\n",
       "        "
      ],
      "text/plain": [
       "<IPython.core.display.HTML object>"
      ]
     },
     "metadata": {},
     "output_type": "display_data"
    },
    {
     "name": "stdin",
     "output_type": "stream",
     "text": [
      "Enter verification code:  4/1AX4XfWgiAViSZH4_4g3Brl7DvegdoMADjDViHFoO_rVvlyQ9ubIftDYMY9k\n"
     ]
    },
    {
     "name": "stdout",
     "output_type": "stream",
     "text": [
      "\n",
      "Successfully saved authorization token.\n"
     ]
    }
   ],
   "source": [
    "ee.Authenticate()\n",
    "ee.Initialize()"
   ]
  },
  {
   "cell_type": "code",
   "execution_count": 3,
   "metadata": {
    "jupyter": {
     "source_hidden": true
    },
    "tags": []
   },
   "outputs": [],
   "source": [
    "def elu(x):\n",
    "    if x>=0:\n",
    "        return x\n",
    "    else:\n",
    "        return (math.exp(x)-1)\n",
    "\n",
    "\n",
    "def softplus(x):\n",
    "    return math.log(math.exp(x)+1)\n",
    "\n",
    "\n",
    "def softsign(x):\n",
    "    return x/(abs(x)+1)\n",
    "\n",
    "\n",
    "def relu(x):\n",
    "    return max(x, 0.0)\n",
    "\n",
    "\n",
    "def tanh(x):\n",
    "    return (math.exp(2*x)-1)/(math.exp(2*x)+1)\n",
    "\n",
    "\n",
    "def sigmoid(x):\n",
    "    return 1/(1+math.exp(-x))\n",
    "\n",
    "\n",
    "# ------------------------------------------------\n",
    "# Functions for client-side implementation of ALR:\n",
    "# ------------------------------------------------\n",
    "# The following function takes an image, a list of the names to rename the bands to, a string which is the name of the band\n",
    "# containing the response variable in the image, and the list of strings defining vegetation indices to add to the image.\n",
    "# It returns an image which contains all of the original bands in the image renamed and all of the VIs defined earlier\n",
    "# with the response band being the last band defined in the image\n",
    "\n",
    "def format_image(image, image_bands, response_band, VI_definition):\n",
    "    image = ee.Image(image)\n",
    "    image_bands = ee.List(image_bands)\n",
    "    response_band = ee.String(response_band)\n",
    "    VI_definition = ee.List(VI_definition)\n",
    "    \n",
    "    # image_bands specifices a list of the names of the bands used in defining the expressions for VIs in VI_definition\n",
    "    image = image.rename(image_bands).toDouble()\n",
    "    \n",
    "    # Generate an ImageCollection from a list of expressions defining a set of VIs using the bands available in the image\n",
    "    VIimageCollection = ee.ImageCollection(VI_definition.map(lambda expr: image.expression(expr)))\n",
    "    VIimage = VIimageCollection.toBands().regexpRename(\"[0-9]+_\", \"\")\n",
    "    \n",
    "    # Reorder the bands in the image so the response band is the first band in the image\n",
    "    feature_bands = image_bands.remove(response_band)\n",
    "    return ee.Image(image.select(response_band).addBands(VIimage).addBands(image.select(feature_bands)))\n",
    "\n",
    "\n",
    "# The following function takes an image and retrieves the total number of pixels in the image as an integer\n",
    "\n",
    "def get_num_pixels(image):\n",
    "    \n",
    "    # get image height\n",
    "    def get_height(image):\n",
    "        height = image.getInfo()[\"bands\"][0][\"dimensions\"][0]\n",
    "        return height\n",
    "    \n",
    "    # get image width\n",
    "    def get_width(image):\n",
    "        width = image.getInfo()[\"bands\"][0][\"dimensions\"][1]\n",
    "        return width\n",
    "    \n",
    "    image_height = get_height(image)\n",
    "    image_width = get_width(image)\n",
    "    image_pixels = image_height*image_width\n",
    "    \n",
    "    return image_pixels\n",
    "\n",
    "\n",
    "# The following takes an image and the name of the band containing the response variable in the image\n",
    "# It returns an image with the response band centred to a mean 0, and the other bands in the image standardized\n",
    "# to a mean 0 and standard deviation 1. This preprocessing is necessary for the LARs algorithm\n",
    "\n",
    "def scale_image(image, response_band):\n",
    "    image = ee.Image(image)\n",
    "    response_band = ee.String(response_band)\n",
    "    image_pixels = ee.Number(get_num_pixels(image))\n",
    "    \n",
    "    # Set up lists containing the input/feature bands in the image\n",
    "    bandList = image.bandNames()\n",
    "    featureList = bandList.remove(response_band)\n",
    "    num_bands = bandList.length()\n",
    "    num_features = featureList.length()\n",
    "    \n",
    "    # We will be using the reduceRegion() function on images from Earth Engine, \n",
    "    # which will process up to a specified number of pixels from the image to generate the outputs of the reducer\n",
    "    max_pixels = image_pixels.min(10000000)\n",
    "    # best_effort = ee.Algorithms.If(image_pixels.gt(max_pixels), True, False)\n",
    "    \n",
    "    # Set default projection and scale using the response band\n",
    "    defaultScale = image.select(response_band).projection().nominalScale()\n",
    "    defaultCrs = image.select(response_band).projection().crs()\n",
    "    image = image.setDefaultProjection(crs=defaultCrs, scale=defaultScale)\n",
    "    \n",
    "    # Center all of the bands in the image for LARs\n",
    "    # We will centre the sampled data later as well as reduceRegion() is not precise enough\n",
    "    meanImage = image.subtract(image.reduceRegion(reducer=ee.Reducer.mean(), \\\n",
    "                                scale=defaultScale, bestEffort=True, maxPixels=max_pixels).toImage(bandList))\n",
    "    \n",
    "    # Separate the image into features (X) and response (y) as we need to standardize the input features\n",
    "    X = meanImage.select(featureList)\n",
    "    y = meanImage.select(response_band)\n",
    "    \n",
    "    # Standardize the input features\n",
    "    X = X.divide(X.reduceRegion(reducer=ee.Reducer.stdDev(), bestEffort=True, maxPixels=max_pixels).toImage(featureList))\n",
    "    \n",
    "    return X.addBands(y)"
   ]
  },
  {
   "cell_type": "code",
   "execution_count": 4,
   "metadata": {},
   "outputs": [],
   "source": [
    "# -----------------------\n",
    "# EE LARS implementation:\n",
    "# -----------------------\n",
    "# The following function implements the LARs algorithm fully as described in (et al. 2002)\n",
    "# It takes an image, the name of the band containing the response variable in the image, the number of non-zero\n",
    "# coefficients requested for the LARs algorithm to select the best features to predict the response in the image\n",
    "# Additionally the function requires the number of samples (pixels) from the image that the user wishes to process. \n",
    "# These inputs are necessary as Earth Engine provides a limited amount of RAM (2GB) and processing time on their VMs,\n",
    "# so the user may need to adjust how many pixels they wish to process in the image in case the function leads to a \n",
    "# \"User memory limit exceeded error\" or \"Computation timed out error\"\n",
    "\n",
    "def ee_LARS(input_image, input_bandNames, response_bandName, num_nonzero_coefficients, num_samples):\n",
    "    image = ee.Image(input_image)\n",
    "    feature_list = ee.List(input_bandNames)\n",
    "    response_band = ee.String(response_bandName)\n",
    "    full_band_list = ee.List(feature_list).add(response_band)\n",
    "    num_nonzero_coefficients = ee.Number(num_nonzero_coefficients)\n",
    "    num_samples = ee.Number(num_samples)\n",
    "    image_pixels = ee.Number(get_num_pixels(image))\n",
    "    \n",
    "    # Randomly sample pixels in the image at native resolution into a FeatureCollection\n",
    "    input_collection = image.sample(numPixels=num_samples.min(image_pixels))\n",
    "    n = input_collection.size()\n",
    "    m = feature_list.length()\n",
    "    \n",
    "    # Use an aggregate array function over the FeatureCollection and map the function over each feature in the band list\n",
    "    # to generate a dictionary of all of the samples retrieved\n",
    "    inputs = ee.Dictionary.fromLists(full_band_list, full_band_list.map(lambda feature: input_collection.aggregate_array(feature)))\n",
    "    # print(inputs.getInfo())\n",
    "    \n",
    "    # Although we may call our scale_image function on the input image, the reduceRegion() function used to determine the mean\n",
    "    # and standard deviation of each band in the image over the entire region is not precise enough over a large image\n",
    "    # so we must recenter all of the bands in the image and now we can also normalize (L2 norm) each input feature as required\n",
    "    # by the LARs algorithm\n",
    "    \n",
    "    # Use an aggregate_mean function over the feature collection to get the mean of each band\n",
    "    input_means = ee.Dictionary.fromLists(full_band_list, full_band_list.map(lambda feature: input_collection.aggregate_mean(feature)))\n",
    "    \n",
    "    def centre_inputs(key, value):\n",
    "        key_mean = input_means.getNumber(key)\n",
    "        return ee.List(value).map(lambda sample: ee.Number(sample).subtract(key_mean))\n",
    "    \n",
    "    \n",
    "    # Center bands by mapping over the list of features and then a subtracting over the list of samples for each band\n",
    "    inputs = inputs.map(centre_inputs)\n",
    "\n",
    "    # Separate the response variable samples into its own vector\n",
    "    y = inputs.toArray([response_band]).reshape([-1,1])\n",
    "\n",
    "    # Remove response band from the feature collection by selecting only bands in the feature list\n",
    "    inputs = inputs.select(feature_list)\n",
    "    \n",
    "    # Generate a dictionary of all of the L2 norms of the input features using a custom mapped function\n",
    "    input_norms = inputs.map(lambda key, value: ee.Number(ee.List(value).map(lambda sample: ee.Number(sample).pow(2)).reduce(ee.Reducer.sum())).pow(0.5))\n",
    "    \n",
    "    # Normalize all of the features by mapping a function over the list of features\n",
    "    # and then map a division over the list of all of the samples of the feature\n",
    "    def norm_inputs(key, value):\n",
    "        key_norm = input_norms.getNumber(key)\n",
    "        return ee.List(value).map(lambda sample: ee.Number(sample).divide(key_norm))\n",
    "    \n",
    "    inputs = inputs.map(norm_inputs)\n",
    "    \n",
    "    # Generate the array of samples using the dictionary\n",
    "    X = inputs.toArray(feature_list).transpose()\n",
    "\n",
    "    # Find the first best predictor of the response to initialize the main LARs loop\n",
    "    initial_prediction = ee.Array(ee.List.repeat([0], n))\n",
    "    c = X.transpose().matrixMultiply(y.subtract(initial_prediction))\n",
    "    c_abs = c.abs()\n",
    "    C_maxLoc = c_abs.project([0]).argmax()\n",
    "    add_feature = C_maxLoc.getNumber(0)\n",
    "    A = ee.List([add_feature])\n",
    "    \n",
    "    # Create a dicitionary of initial inputs to pass into the main LARs iterative loop\n",
    "    # The iterate function in Earth Engine processes each iteration as a tree of iterations with no access to any variables\n",
    "    # from previous iterations (only those that are passed to the next iteration)\n",
    "    # so we must pass both the current prediction and the active set of features (with non-zero coefficients), A\n",
    "    initial_inputs = ee.Dictionary({'prediction': initial_prediction, 'A': A})\n",
    "\n",
    "    def LARs_regression(iteration, inputs):\n",
    "        inputs = ee.Dictionary(inputs)\n",
    "\n",
    "        # Find the active set of features, A (predictors with non-zero coefficients)\n",
    "        A = ee.List(inputs.get('A'))\n",
    "        # A_list is an array used to mask the full array of input samples and the correlation vector\n",
    "        A_list = ee.Array(ee.List.sequence(0, m.subtract(1))\\\n",
    "                          .map(lambda index: A.contains(index)).replaceAll(False, 0).replaceAll(True, 1)).reshape([-1,1])\n",
    "\n",
    "        # The following matrix algebra determines the next most correlated variable, or the next best predictor considering the\n",
    "        # current features in the active set, A, as well as the magnitude to adjust the prediction vector to ensure all of the\n",
    "        # features in the active set are equally correlated to response vector\n",
    "        prediction = inputs.getArray('prediction')\n",
    "        c = X.transpose().matrixMultiply(y.subtract(prediction))\n",
    "        c_abs = c.abs()\n",
    "        C_max = c_abs.get(c_abs.argmax())\n",
    "        s_A = c.divide(c_abs).mask(A_list)\n",
    "        X_A = X.mask(A_list.transpose())\n",
    "        G_Ai = X_A.transpose().matrixMultiply(X_A).matrixInverse()\n",
    "        G1 = G_Ai.matrixMultiply(s_A)\n",
    "        A_A = s_A.project([0]).dotProduct(G1.project([0])).pow(-0.5)\n",
    "        w_A = G1.multiply(A_A)\n",
    "        u_A = X_A.matrixMultiply(w_A)\n",
    "        a = X.transpose().matrixMultiply(u_A)\n",
    "        a = a.project([0])\n",
    "        c = c.project([0])\n",
    "\n",
    "        def compute_gammaArray(index_j):\n",
    "            minus_j = C_max.subtract(c.get([index_j])).divide(A_A.subtract(a.get([index_j])))\n",
    "            plus_j = C_max.add(c.get([index_j])).divide(A_A.add(a.get([index_j])))\n",
    "            return ee.List([minus_j, plus_j]).filter(ee.Filter.gte('item', 0)).reduce(ee.Reducer.min())\n",
    "\n",
    "        A_c = ee.List.sequence(0, m.subtract(1)).removeAll(A)\n",
    "        gammaArray = A_c.map(compute_gammaArray)\n",
    "        gamma = gammaArray.reduce(ee.Reducer.min())\n",
    "        min_location = gammaArray.indexOf(gamma)\n",
    "        add_feature = A_c.getNumber(min_location)\n",
    "\n",
    "        # Update active set of variables with next best predictor from non-active set and update prediction vector\n",
    "        A = A.add(add_feature)\n",
    "        prediction = prediction.add(u_A.multiply(gamma))\n",
    "\n",
    "        return ee.Dictionary({'prediction': prediction, 'A': A})\n",
    "\n",
    "\n",
    "    # The final iteration of LARs (if selecting all input variables) requires a different method to determine magnitude for\n",
    "    # adjusting the magnitude of the prediction vector, as the regular LARs iteration relies on variables in non-active set\n",
    "    # In the final iteration there will be no variables in the non-active set, so the method will not work\n",
    "    def LARs_final_iteration(iteration, inputs):\n",
    "        inputs = ee.Dictionary(inputs)\n",
    "        A = ee.List(inputs.get('A'))\n",
    "\n",
    "        prediction = inputs.getArray('prediction')\n",
    "        c = X.transpose().matrixMultiply(y.subtract(prediction))\n",
    "        c_abs = c.abs()\n",
    "        C_max = c_abs.get(c_abs.argmax())        \n",
    "\n",
    "        s_A = c.divide(c_abs)\n",
    "        G_Ai = X.transpose().matrixMultiply(X).matrixInverse()\n",
    "        G1 = G_Ai.matrixMultiply(s_A)\n",
    "        A_A = s_A.project([0]).dotProduct(G1.project([0])).pow(-0.5)\n",
    "        w_A = G1.multiply(A_A)\n",
    "        u_A = X.matrixMultiply(w_A)\n",
    "\n",
    "        gamma = C_max.divide(A_A)\n",
    "        prediction = prediction.add(u_A.multiply(gamma))\n",
    "\n",
    "        return ee.Dictionary({'prediction': prediction, 'A': A})\n",
    "\n",
    "    # Actually carrying out the iterations by iterating over a placeholder list (sequence from 1 to the number of non-zero\n",
    "    # variables that the user wishes to select as predictors for the response)\n",
    "    iterations = ee.List.sequence(1, m.subtract(1).min(num_nonzero_coefficients))\n",
    "    print(iterations.getInfo())\n",
    "    \n",
    "    penultimate_outputs = iterations.iterate(LARs_regression, initial_inputs)\n",
    "    \n",
    "    final_outputs = ee.Dictionary(ee.Algorithms\\\n",
    "                    .If(num_nonzero_coefficients.gte(m), LARs_final_iteration(m, penultimate_outputs), penultimate_outputs))\n",
    "    \n",
    "    final_prediction = final_outputs.getArray('prediction')\n",
    "    \n",
    "    A = ee.List(final_outputs.get('A'))\n",
    "\n",
    "    feature_path = A.slice(0, num_nonzero_coefficients).map(lambda index: feature_list.getString(index))\n",
    "    \n",
    "    # The code snippet below is able to extract the exact coefficients on all of the selected features, but is commented out\n",
    "    # as it adds computational complexity that takes up unnecessary memory on the Google Earth Engine virtual machine since we\n",
    "    # are only using LARs as a feature selection algorithm\n",
    "\n",
    "#     coefficients = X.matrixSolve(final_prediction).project([0])\\\n",
    "#                               .toList().map(lambda num: ee.Algorithms.If(ee.Number(num).abs().lt(0.001), 0, num))\n",
    "#     print('Coefficients')\n",
    "#     coeff = ee.Dictionary.fromLists(featureList, coefficients).getInfo()\n",
    "#     ordered_coeff = OrderedDict()\n",
    "#     var_path = feature_path.cat(featureList.removeAll(feature_path)).getInfo()\n",
    "#     for key in var_path:\n",
    "#         ordered_coeff[key] = coeff[key]\n",
    "#     print(json.dumps(ordered_coeff, indent=1))\n",
    "\n",
    "    return feature_path"
   ]
  },
  {
   "cell_type": "code",
   "execution_count": 5,
   "metadata": {
    "jupyter": {
     "source_hidden": true
    },
    "tags": []
   },
   "outputs": [],
   "source": [
    "# -------------------\n",
    "# Trim data function:\n",
    "# -------------------\n",
    "# The following trims input data according to an algorithm in which the response band is partitioned into n equally sized\n",
    "# partitions, and each of the features selected by LARs are trimmed individually down to keep only the 5-95 percentile data\n",
    "# We are not doing any preprocessing with the data, so the raw data is exported from Earth Engine.\n",
    "# The function takes an image, a list of strings with the selected feature bands in the image, the name of the response\n",
    "# band in this image, the number of samples/pixels the user wants, and the number of parititions to trim within\n",
    "\n",
    "def trim_data(image, selected_features, response_band, num_samples, num_partitions):\n",
    "    image = ee.Image(image)\n",
    "    selected_features = ee.List(selected_features)\n",
    "    response_band = ee.String(response_band)\n",
    "    num_samples = ee.Number(num_samples)\n",
    "    num_partitions = ee.Number(num_partitions)\n",
    "    \n",
    "    # Generate the list of percentile bounds for the requested number of partitions, and the names of the value bounds for the\n",
    "    # dictionary that will be generated from the percentile reducer used later on\n",
    "    percentiles = ee.List.sequence(0, 100, ee.Number(100).divide(num_partitions))\n",
    "    percentile_names = percentiles.map(lambda num: ee.Number(num).round().toInt().format(\"p%s\"))\n",
    "    \n",
    "    # Randomly sample pixels in the input image into a FeatureCollection containing only selected features and response\n",
    "    image_pixels = ee.Number(get_num_pixels(image))\n",
    "    inputsCollection = image.select(selected_features.add(response_band)).sample(numPixels=num_samples.min(image_pixels))\n",
    "    \n",
    "    # Find the values at the percentile bounds using the percentile reducer over the feature collection\n",
    "    response_percentiles = inputsCollection.reduceColumns(ee.Reducer.percentile(percentiles=percentiles, \\\n",
    "                                        outputNames=percentile_names, maxRaw=inputsCollection.size()), [response_band])\n",
    "    \n",
    "    # Create a list of percentile bounds for each partition\n",
    "    response_partitions = response_percentiles.values(percentile_names.remove('p100'))\\\n",
    "                                .zip(response_percentiles.values(percentile_names.remove('p0')))\n",
    "    \n",
    "    # Use the following mapped over the response_partitions list to partition the data by the requested number of partitions\n",
    "    def partition_data(partition_range):\n",
    "        partition_range = ee.List(partition_range)\n",
    "        return inputsCollection.filter(ee.Filter \\\n",
    "                            .rangeContains(response_band, partition_range.getNumber(0), partition_range.getNumber(1)))\n",
    "    \n",
    "    partitioned_data = response_partitions.map(partition_data)\n",
    "    \n",
    "    # The following function now trims the data in each partition individually for each feature to its 5-95 percentile only\n",
    "    def trim_partitions(partition):\n",
    "        partition = ee.FeatureCollection(partition)\n",
    "        feature_trimming_bounds = selected_features.map(lambda feature: ee.List([feature]) \\\n",
    "                     .cat(partition.reduceColumns(ee.Reducer.percentile([5, 95]), [feature]).values(['p5','p95'])))\n",
    "        def trimmer(current_feature, collection):\n",
    "            current_feature = ee.List(current_feature)\n",
    "            collection = ee.FeatureCollection(collection)\n",
    "            return collection.filter(ee.Filter.rangeContains( \\\n",
    "                        current_feature.getString(0), current_feature.getNumber(1), current_feature.getNumber(2)))\n",
    "        return feature_trimming_bounds.iterate(trimmer, partition)\n",
    "    \n",
    "    # Retrieve the trimmed data partitions and flatten the paritions into a single trimmed feature collection\n",
    "    trimmed_partitions = partitioned_data.map(trim_partitions)\n",
    "    trimmed_data = ee.FeatureCollection(trimmed_partitions).flatten()\n",
    "    \n",
    "    return trimmed_data"
   ]
  },
  {
   "cell_type": "code",
   "execution_count": 6,
   "metadata": {
    "jupyter": {
     "source_hidden": true
    },
    "tags": []
   },
   "outputs": [],
   "source": [
    "def apply_nnet(inputs, keras_model):\n",
    "    activation_functions = {\n",
    "        \"elu\": elu,\n",
    "        \"softplus\": softplus,\n",
    "        \"softsign\": softsign,\n",
    "        \"relu\": relu,\n",
    "        \"tanh\": tanh,\n",
    "        \"sigmoid\": sigmoid}\n",
    "    \n",
    "    for layer in keras_model.layers:\n",
    "        layer_weights = layer.get_weights()\n",
    "        node_weights = layer_weights[0]\n",
    "        bias = layer_weights[1]\n",
    "        \n",
    "        inputs = inputs.dot(node_weights)+bias\n",
    "        \n",
    "        activation_function = layer.get_config()[\"activation\"]\n",
    "        if(activation_function != \"linear\"):\n",
    "            activation_function = activation_functions[activation_function]\n",
    "            inputs = activation_function(inputs)\n",
    "    \n",
    "    return inputs"
   ]
  },
  {
   "cell_type": "code",
   "execution_count": 7,
   "metadata": {
    "jupyter": {
     "source_hidden": true
    },
    "tags": []
   },
   "outputs": [],
   "source": [
    "# The following function exports the keras model in a way that can be parsed into a FeatureCollection in Earth Engine and applied to images manually\n",
    "\n",
    "def export_nnet(keras_model, X):\n",
    "    nnet_data = []\n",
    "    headers = []\n",
    "    prev_layer_size = len(X.keys())\n",
    "    layer_num = 0\n",
    "    \n",
    "    for layer in keras_model.layers:\n",
    "        layer_info = layer.get_config()\n",
    "        num_nodes = layer_info[\"units\"]\n",
    "        activation_function = layer_info[\"activation\"]\n",
    "        layer_weights = layer.get_weights()[0]\n",
    "        layer_bias = layer.get_weights()[1]\n",
    "        headers = list(set(headers) | set([x for x in range((prev_layer_size+1)*num_nodes)]))\n",
    "        layer_data = [0, 0, layer_num, prev_layer_size, num_nodes, activation_function] \\\n",
    "                            + layer_weights.flatten().tolist() + layer_bias.tolist()\n",
    "        nnet_data.append(layer_data)\n",
    "        \n",
    "        prev_layer_size = num_nodes\n",
    "        layer_num += 1\n",
    "        \n",
    "    nnet_data.insert(0, [\"latitude\", \"longitude\", \"layer_num\", \"prev_layer_size\", \"num_nodes\", \"activation\"]+headers)\n",
    "    return nnet_data"
   ]
  },
  {
   "cell_type": "code",
   "execution_count": 8,
   "metadata": {},
   "outputs": [],
   "source": [
    "# Set the test image using an uploaded asset for now\n",
    "testImage = ee.Image('users/kateharvey/i')\n",
    "# testImage = ee.Image('users/kateharvey/TestImage')\n",
    "\n",
    "# Change variable name here to match band name pattern (one of: Albedo, fAPAR, fCOVER, LAI, CCC, CWC, DASF)\n",
    "outputName = 'LAI'\n",
    "\n",
    "# order of bands:\n",
    "# 0-13: B1, B2, B3, B4, B5, B6, B7, B8, B8A, B9, B10, B11, B12, B13\n",
    "# 23: date\n",
    "# 27-33: QC, estimateLAI, partition, networkID, errorLAI, partition_1, networkID_1\n",
    "inputImage = ee.Image(testImage.select(1,2,3,7,23,27,28,29,30,31,32,33))\n",
    "inputImage = inputImage.rename(['B2', 'B3', 'B4', 'B8', 'date', 'QC', 'estimateLAI', 'partition', 'networkID', 'errorLAI', 'partition_1', 'networkID_1'])\n",
    "inputImage = inputImage.addBands(inputImage.select('B3').divide(10000), overwrite=True)\n",
    "inputImage = inputImage.addBands(inputImage.select('B4').divide(10000), overwrite=True)\n",
    "\n",
    "# List the bands that we expect in the image (ensure number of bands in the list below matches the number bands in the input image)\n",
    "# This is the order of bands produced by running SL2P10 and exporting the resulting ImageCollection\n",
    "inputImage_bands = ee.List(['B2', 'B3', 'B4', 'B8', 'date', 'QC', 'estimateLAI', 'partition', 'networkID', 'errorLAI', 'partition_1', 'networkID_1'])"
   ]
  },
  {
   "cell_type": "markdown",
   "metadata": {},
   "source": [
    "### Vegetation Indices Sources\n",
    "\n",
    "1. https://www.hindawi.com/journals/js/2017/1353691/tab1/\n",
    "2. https://www.hiphen-plant.com/blog/vegetation-indices/\n",
    "3. https://gisgeography.com/sentinel-2-bands-combinations/"
   ]
  },
  {
   "cell_type": "code",
   "execution_count": 9,
   "metadata": {},
   "outputs": [],
   "source": [
    "# Below we define a list of strings representing the expressions for each vegetation index as a function of the bands in the input image\n",
    "# More vegetation indices can be defined, but the list CANNOT contain any two vegetation indices which are a linear combination of each\n",
    "# other or LARs will fail to select the requested number of variables\n",
    "\n",
    "# The formatting of the expression must be\n",
    "# \"<name of VI> = <expression with band names from inputImage_bands used as variables in the form b('<band name>')\"\n",
    "\n",
    "# Only include VIs that use 10 m bands (B2, B3, B4, B8)\n",
    "input_VI_definition = ee.List([\"RAW_B2  = b('B2')\",\n",
    "                               \"RAW_B3  = b('B3')\",\n",
    "                               \"RAW_B4  = b('B4')\",\n",
    "                               \"RAW_B8  = b('B8')\",\n",
    "                               \"GI      = b('B3')/b('B4')\",\n",
    "                             # \"RVI3    = b('B4')/b('B6')\",\n",
    "                             # \"SR3     = b('B5')/b('B4')\",\n",
    "                             # \"GM1     = b('B6')/b('B3')\",\n",
    "                             # \"GM2     = b('B6')/b('B5')\",\n",
    "                             # \"SR2     = b('B7')/b('B3')\",\n",
    "                             # \"PSSR    = b('B7')/b('B4')\",\n",
    "                               \"SGI     = b('B8')/b('B4')\",\n",
    "                             # \"MSI     = b('B11')/b('B7')\",\n",
    "                             # \"II      = b('B11')/b('B12')\",\n",
    "                               \"GVI     = (b('B8')/b('B3'))-1\",\n",
    "                             # \"PSRI    = (b('B4')-b('B3'))/b('B6')\",\n",
    "                               \"NDVI3   = ((b('B8')-b('B4'))/(b('B8')))+b('B4')\",\n",
    "                             # \"SR5     = 1/b('B5')\",\n",
    "                             # \"SR6     = b('B4')/(b('B3')*b('B5'))\",\n",
    "                             # \"SR7     = b('B8')/(b('B3')*b('B5'))\",\n",
    "                             # \"IPVI    = b('B7')/(b('B7')+b('B4'))\",\n",
    "                             # \"ARI     = (1/b('B3'))-(1/b('B5'))\",\n",
    "                             # \"ARI2    = b('B7')*((1/b('B3'))-(1/b('B5')))\",\n",
    "                               \"NDVI    = (b('B8')-b('B4'))/(b('B8')+b('B4'))\",\n",
    "                               \"GNDVI   = (b('B8')-b('B3'))/(b('B8')+b('B3'))\",\n",
    "                             # \"NDWI    = (b('B8')-b('B11'))/(b('B8')+b('B11'))\",\n",
    "                             # \"NDREVI  = (b('B8')-b('B5'))/(b('B8')+b('B5'))\",\n",
    "                               \"NDGI    = (b('B3')-b('B4'))/(b('B3')+b('B4'))\",\n",
    "                             # \"NDI1    = (b('B7')-b('B5'))/(b('B7')-b('B4'))\",\n",
    "                             # \"NDI2    = (b('B8')-b('B5'))/(b('B8')-b('B4'))\",\n",
    "                             # \"RENDVI  = (b('B6')-b('B5'))/(b('B6')+b('B5'))\",\n",
    "                             # \"OSAVI   = (1.16*(b('B7')-b('B4')))/(b('B7')+b('B4')+0.61)\",\n",
    "                             # \"NMDI    = (b('B8')-(b('B11')-b('B12')))/(b('B8')+(b('B11')-b('B12')))\",\n",
    "                             # \"HI      = ((b('B3')-b('B5'))/(b('B3')+b('B5')))-0.5*b('B5')\",\n",
    "                             # \"GVSP    = (-0.283*b('B3') - 0.66*b('B4') + 0.577*b('B6') + 0.388*b('B8'))/(0.433*b('B3') - 0.632*b('B4') + 0.586*b('B6') + 0.264*b('B8A'))\",\n",
    "                             # \"MCARI   = ((b('B5')-b('B4'))-0.2*(b('B5')-b('B3')))*(b('B5')/b('B4'))\",\n",
    "                             # \"TCARI   = 3*((b('B5')-b('B4'))-0.2*(b('B5')-b('B3'))*(b('B5')/b('B4')))\",\n",
    "                               \"EVI     = 2.5*((b('B8')-b('B4'))/(b('B8')+6*b('B4')-7.5*b('B3')+1))\",\n",
    "                               \"EVI2    = 2.5*((b('B8')-b('B4'))/(b('B8')+2.4*b('B4')+1))\",\n",
    "                               \"RDVI    = (b('B8')-b('B4'))/((b('B8')+b('B4'))**0.5)\",\n",
    "                               \"MSR     = ((b('B8')/b('B4'))-1)/((b('B8')/b('B4'))**0.5+1)\",\n",
    "                             # \"MSAVI   = 0.5*(2*b('B7')+1-((2*b('B7')+1)**2-8*(b('B7')-b('B4')))**0.5)\",\n",
    "                               \"MSAVI2  = 0.5*(2*b('B8')+1-((2*b('B8')+1)**2-8*(b('B8')-b('B4')))**0.5)\",\n",
    "                             # \"MCARI2  = (1.5*(2.5*(b('B7')-b('B4'))-1.3*(b('B7')-b('B3'))))/((((2*b('B7')+1)**2)-(6*b('B7')-5*(b('B4')**0.5))-0.5)**0.5)\",\n",
    "                             # \"MTVI2   = (1.5*(1.2*(b('B7')-b('B3'))-2.5*(b('B4')-b('B3'))))/(((2*b('B7')+1)**2-(6*b('B7')-5*b('B4'))-0.5)**0.5)\",\n",
    "                             # \"MSR2    = ((b('B7')/b('B4'))-1)/(((b('B7')/b('B4'))+1)**0.5)\",\n",
    "                               \"NLI     = ((b('B8')**2)-b('B4'))/((b('B8')**2)+b('B4'))\"])"
   ]
  },
  {
   "cell_type": "markdown",
   "metadata": {},
   "source": [
    "In the following functions each input is recast to the expected data type as function parameter typing is not enforced in Earth Engine\n",
    "when defining functions, and later methods called on these parameters within the function must recognize the type of the parameter\n",
    "independently of other code"
   ]
  },
  {
   "cell_type": "code",
   "execution_count": 10,
   "metadata": {},
   "outputs": [],
   "source": [
    "inputImage = format_image(inputImage, inputImage_bands, 'estimateLAI', input_VI_definition)"
   ]
  },
  {
   "cell_type": "code",
   "execution_count": 11,
   "metadata": {},
   "outputs": [],
   "source": [
    "num_input_pixels = get_num_pixels(inputImage)"
   ]
  },
  {
   "cell_type": "markdown",
   "metadata": {},
   "source": [
    "Full image with bands: 'RAW_B2', 'RAW_B3', 'RAW_B4', 'RAW_B8', 'GI', 'SGI', 'GVI', 'NDVI3', 'NDVI', 'GNDVI', 'NDGI', 'EVI', 'EVI2', 'RDVI', 'MSR', 'MSAVI2', 'NLI', 'B2', 'B3', 'B4', 'B8', 'date', 'QC', 'partition', 'networkID', 'errorLAI', 'partition_1', 'networkID_1', 'estimateLAI'"
   ]
  },
  {
   "cell_type": "code",
   "execution_count": 12,
   "metadata": {},
   "outputs": [],
   "source": [
    "scaledImage = scale_image(inputImage, 'estimateLAI')\n",
    "# print(scaledImage.bandNames().getInfo())"
   ]
  },
  {
   "cell_type": "code",
   "execution_count": 13,
   "metadata": {},
   "outputs": [],
   "source": [
    "input_bandNames = ['B2', 'B3', 'B4', 'B8', 'GI', 'SGI', 'GVI', 'NDVI3', 'NDVI',\n",
    "                   'GNDVI', 'NDGI', 'EVI', 'EVI2', 'RDVI', 'MSR', 'MSAVI2', 'NLI']"
   ]
  },
  {
   "cell_type": "code",
   "execution_count": 14,
   "metadata": {
    "scrolled": true
   },
   "outputs": [
    {
     "name": "stdout",
     "output_type": "stream",
     "text": [
      "[1, 2, 3, 4, 5]\n",
      "['MSR', 'GVI', 'B8', 'NDGI', 'EVI2']\n"
     ]
    }
   ],
   "source": [
    "select_features = ee_LARS(scaledImage, input_bandNames, 'estimateLAI', 5, 1000)\n",
    "print(select_features.getInfo())"
   ]
  },
  {
   "cell_type": "code",
   "execution_count": 15,
   "metadata": {},
   "outputs": [
    {
     "name": "stdout",
     "output_type": "stream",
     "text": [
      "READY\n",
      "RUNNING\n",
      "COMPLETED\n"
     ]
    }
   ],
   "source": [
    "trimmedCollection = trim_data(image=inputImage.updateMask(inputImage.select('estimateLAI').gt(0)),\n",
    "                                  selected_features=select_features,\n",
    "                                  response_band='estimateLAI',\n",
    "                                  num_samples=50000,\n",
    "                                  num_partitions=10)\n",
    "\n",
    "exportData = ee.batch.Export.table.toDrive(collection=trimmedCollection,\n",
    "                                           description=\"scatter_image_samples\",\n",
    "                                           fileFormat=\"CSV\")\n",
    "\n",
    "# Starting the export data task\n",
    "exportData.start()\n",
    "\n",
    "# Essentially a wait loop to see if the data has finished exporting by checking with the server-side\n",
    "prev_task_status = ee.data.getTaskStatus(exportData.id)[0][\"state\"]\n",
    "print(prev_task_status)\n",
    "while exportData.active():\n",
    "    task_status = ee.data.getTaskStatus(exportData.id)[0][\"state\"]\n",
    "    if(task_status != prev_task_status):\n",
    "        print(task_status)\n",
    "    prev_task_status = task_status\n",
    "    time.sleep(5)\n",
    "print(ee.data.getTaskStatus(exportData.id)[0][\"state\"])"
   ]
  },
  {
   "cell_type": "code",
   "execution_count": 20,
   "metadata": {},
   "outputs": [],
   "source": [
    "trimmed_data = pd.read_csv('./gdrive/scatter_image_samples.csv')\n",
    "X = trimmed_data.drop(labels=['system:index', '.geo'], axis=1)\n",
    "y = trimmed_data.estimateLAI"
   ]
  },
  {
   "cell_type": "code",
   "execution_count": 24,
   "metadata": {},
   "outputs": [],
   "source": [
    "xy_tf_LAI_test = np.vstack([X['NDGI'], y])\n",
    "z_tf_LAI_test = scipy.stats.gaussian_kde(xy_tf_LAI_test)(xy_tf_LAI_test)"
   ]
  },
  {
   "cell_type": "code",
   "execution_count": 25,
   "metadata": {},
   "outputs": [
    {
     "data": {
      "image/png": "[encoded data removed]",
      "text/plain": [
       "<Figure size 720x720 with 1 Axes>"
      ]
     },
     "metadata": {
      "needs_background": "light"
     },
     "output_type": "display_data"
    }
   ],
   "source": [
    "xy = np.linspace(0, 3, 1000)\n",
    "fig, ax = plt.subplots(1, 1, figsize=(10,10))\n",
    "\n",
    "ax.scatter(X['NDGI'], y, c=z_tf_LAI_test)\n",
    "ax.plot(xy, xy, c='r')\n",
    "ax.title.set_text('LASSO LARS (ALL BANDS) - RMSE: {}')"
   ]
  },
  {
   "cell_type": "markdown",
   "metadata": {},
   "source": [
    "# Continued:"
   ]
  },
  {
   "cell_type": "code",
   "execution_count": 42,
   "metadata": {},
   "outputs": [],
   "source": [
    "# Creating the export task on the server side from Earth Engine. Remember that the data will be exported to the google drive of the google\n",
    "# account you used when you initiated the Earth Engine API authentication flow, so ensure that, that accounts drive is synced to the \n",
    "# gdrive folder in the same folder as this script\n",
    "trimmedCollection = trim_data(image=inputImage.updateMask(inputImage.select('estimateLAI').gt(0)),\n",
    "                                  selected_features=select_features,\n",
    "                                  response_band='estimateLAI',\n",
    "                                  num_samples=50000,\n",
    "                                  num_partitions=10)\n",
    "\n",
    "exportData = ee.batch.Export.table.toDrive(collection=trimmedCollection,\n",
    "                                           description=\"image_data_samples_10m\",\n",
    "                                           fileFormat=\"CSV\")\n",
    "\n",
    "# Starting the export data task\n",
    "exportData.start()"
   ]
  },
  {
   "cell_type": "code",
   "execution_count": 43,
   "metadata": {},
   "outputs": [],
   "source": [
    "# trimmedCollection.toList(1).getInfo()"
   ]
  },
  {
   "cell_type": "code",
   "execution_count": 44,
   "metadata": {
    "scrolled": true
   },
   "outputs": [
    {
     "name": "stdout",
     "output_type": "stream",
     "text": [
      "READY\n",
      "RUNNING\n",
      "COMPLETED\n"
     ]
    }
   ],
   "source": [
    "# Essentially a wait loop to see if the data has finished exporting by checking with the server-side\n",
    "prev_task_status = ee.data.getTaskStatus(exportData.id)[0][\"state\"]\n",
    "print(prev_task_status)\n",
    "while exportData.active():\n",
    "    task_status = ee.data.getTaskStatus(exportData.id)[0][\"state\"]\n",
    "    if(task_status != prev_task_status):\n",
    "        print(task_status)\n",
    "    prev_task_status = task_status\n",
    "    time.sleep(5)\n",
    "print(ee.data.getTaskStatus(exportData.id)[0][\"state\"])"
   ]
  },
  {
   "cell_type": "markdown",
   "metadata": {},
   "source": [
    "For a more robust way to check if the data has been exported properly, we can use a wait loop to check on our local machine until the exported data file exists in the synced \"gdrive\" folder\n",
    "\n",
    "From here on out, all of the processing is done using your local hardware and packages, so it may be helpful to use a powerful machine."
   ]
  },
  {
   "cell_type": "code",
   "execution_count": 41,
   "metadata": {},
   "outputs": [],
   "source": [
    "# Reading the CSV file into dataframes\n",
    "trimmed_data = pd.read_csv('./gdrive/image_data_samples_10m.csv')\n",
    "X = trimmed_data.drop(labels=['estimateLAI', 'system:index', '.geo'], axis=1)\n",
    "y = trimmed_data.estimateLAI\n",
    "\n",
    "# We preprocess the input features by standardizing them to a mean of 0 and a standard deviation of 1 for the neural network\n",
    "# X = pd.DataFrame(skl.preprocessing.scale(X))"
   ]
  },
  {
   "cell_type": "code",
   "execution_count": 42,
   "metadata": {},
   "outputs": [
    {
     "data": {
      "text/html": [
       "<div>\n",
       "<style scoped>\n",
       "    .dataframe tbody tr th:only-of-type {\n",
       "        vertical-align: middle;\n",
       "    }\n",
       "\n",
       "    .dataframe tbody tr th {\n",
       "        vertical-align: top;\n",
       "    }\n",
       "\n",
       "    .dataframe thead th {\n",
       "        text-align: right;\n",
       "    }\n",
       "</style>\n",
       "<table border=\"1\" class=\"dataframe\">\n",
       "  <thead>\n",
       "    <tr style=\"text-align: right;\">\n",
       "      <th></th>\n",
       "      <th>system:index</th>\n",
       "      <th>B8</th>\n",
       "      <th>GVI</th>\n",
       "      <th>MSR</th>\n",
       "      <th>NDGI</th>\n",
       "      <th>RDVI</th>\n",
       "      <th>estimateLAI</th>\n",
       "      <th>.geo</th>\n",
       "    </tr>\n",
       "  </thead>\n",
       "  <tbody>\n",
       "    <tr>\n",
       "      <th>0</th>\n",
       "      <td>0_23</td>\n",
       "      <td>2494.0</td>\n",
       "      <td>3.042139</td>\n",
       "      <td>1.173358</td>\n",
       "      <td>0.077729</td>\n",
       "      <td>35.763193</td>\n",
       "      <td>1376.0</td>\n",
       "      <td>{\"type\":\"MultiPoint\",\"coordinates\":[]}</td>\n",
       "    </tr>\n",
       "    <tr>\n",
       "      <th>1</th>\n",
       "      <td>0_62</td>\n",
       "      <td>2447.0</td>\n",
       "      <td>2.663174</td>\n",
       "      <td>1.031373</td>\n",
       "      <td>0.059477</td>\n",
       "      <td>33.625824</td>\n",
       "      <td>1212.0</td>\n",
       "      <td>{\"type\":\"MultiPoint\",\"coordinates\":[]}</td>\n",
       "    </tr>\n",
       "    <tr>\n",
       "      <th>2</th>\n",
       "      <td>0_139</td>\n",
       "      <td>2144.0</td>\n",
       "      <td>1.913043</td>\n",
       "      <td>0.707925</td>\n",
       "      <td>0.000680</td>\n",
       "      <td>26.259724</td>\n",
       "      <td>1218.0</td>\n",
       "      <td>{\"type\":\"MultiPoint\",\"coordinates\":[]}</td>\n",
       "    </tr>\n",
       "    <tr>\n",
       "      <th>3</th>\n",
       "      <td>0_208</td>\n",
       "      <td>3221.0</td>\n",
       "      <td>2.780516</td>\n",
       "      <td>0.850123</td>\n",
       "      <td>-0.049637</td>\n",
       "      <td>35.341405</td>\n",
       "      <td>1230.0</td>\n",
       "      <td>{\"type\":\"MultiPoint\",\"coordinates\":[]}</td>\n",
       "    </tr>\n",
       "    <tr>\n",
       "      <th>4</th>\n",
       "      <td>0_253</td>\n",
       "      <td>2402.0</td>\n",
       "      <td>3.030201</td>\n",
       "      <td>0.932774</td>\n",
       "      <td>-0.037934</td>\n",
       "      <td>31.876615</td>\n",
       "      <td>1005.0</td>\n",
       "      <td>{\"type\":\"MultiPoint\",\"coordinates\":[]}</td>\n",
       "    </tr>\n",
       "  </tbody>\n",
       "</table>\n",
       "</div>"
      ],
      "text/plain": [
       "  system:index      B8       GVI       MSR      NDGI       RDVI  estimateLAI  \\\n",
       "0         0_23  2494.0  3.042139  1.173358  0.077729  35.763193       1376.0   \n",
       "1         0_62  2447.0  2.663174  1.031373  0.059477  33.625824       1212.0   \n",
       "2        0_139  2144.0  1.913043  0.707925  0.000680  26.259724       1218.0   \n",
       "3        0_208  3221.0  2.780516  0.850123 -0.049637  35.341405       1230.0   \n",
       "4        0_253  2402.0  3.030201  0.932774 -0.037934  31.876615       1005.0   \n",
       "\n",
       "                                     .geo  \n",
       "0  {\"type\":\"MultiPoint\",\"coordinates\":[]}  \n",
       "1  {\"type\":\"MultiPoint\",\"coordinates\":[]}  \n",
       "2  {\"type\":\"MultiPoint\",\"coordinates\":[]}  \n",
       "3  {\"type\":\"MultiPoint\",\"coordinates\":[]}  \n",
       "4  {\"type\":\"MultiPoint\",\"coordinates\":[]}  "
      ]
     },
     "execution_count": 42,
     "metadata": {},
     "output_type": "execute_result"
    }
   ],
   "source": [
    "trimmed_data.head()"
   ]
  },
  {
   "cell_type": "code",
   "execution_count": 43,
   "metadata": {},
   "outputs": [],
   "source": [
    "# Using Keras to create a sequential model neural network which only has simple dense layers of the specified number of nodes\n",
    "LAI_model = tf.keras.models.Sequential([\n",
    "    tf.keras.layers.LayerNormalization(input_shape=[len(X.keys())]),\n",
    "    tf.keras.layers.Dense(5, input_shape=[len(X.keys())]),\n",
    "    tf.keras.layers.Dense(4, activation=\"softsign\"),\n",
    "    tf.keras.layers.Dense(3, activation=\"softsign\"),\n",
    "    tf.keras.layers.Dense(2, activation=\"softsign\"),\n",
    "    tf.keras.layers.Dense(1)\n",
    "])\n",
    "# scale here"
   ]
  },
  {
   "cell_type": "code",
   "execution_count": 44,
   "metadata": {},
   "outputs": [
    {
     "name": "stdout",
     "output_type": "stream",
     "text": [
      "Model: \"sequential_3\"\n",
      "_________________________________________________________________\n",
      "Layer (type)                 Output Shape              Param #   \n",
      "=================================================================\n",
      "layer_normalization_7 (Layer (None, 5)                 10        \n",
      "_________________________________________________________________\n",
      "dense_15 (Dense)             (None, 5)                 30        \n",
      "_________________________________________________________________\n",
      "dense_16 (Dense)             (None, 4)                 24        \n",
      "_________________________________________________________________\n",
      "dense_17 (Dense)             (None, 3)                 15        \n",
      "_________________________________________________________________\n",
      "dense_18 (Dense)             (None, 2)                 8         \n",
      "_________________________________________________________________\n",
      "dense_19 (Dense)             (None, 1)                 3         \n",
      "=================================================================\n",
      "Total params: 90\n",
      "Trainable params: 90\n",
      "Non-trainable params: 0\n",
      "_________________________________________________________________\n"
     ]
    }
   ],
   "source": [
    "LAI_model.summary()"
   ]
  },
  {
   "cell_type": "code",
   "execution_count": 45,
   "metadata": {},
   "outputs": [
    {
     "name": "stdout",
     "output_type": "stream",
     "text": [
      "852/852 [==============================] - 2s 2ms/step - loss: 4018111.2496 - mse: 4018111.2496 - mae: 1847.7157\n"
     ]
    },
    {
     "data": {
      "text/plain": [
       "[7830442.0, 7830442.0, 2644.929443359375]"
      ]
     },
     "execution_count": 45,
     "metadata": {},
     "output_type": "execute_result"
    }
   ],
   "source": [
    "# Compiling the model to minimize the mean squared error loss function and use the NADAM optimizer\n",
    "LAI_model.compile(optimizer=tf.keras.optimizers.Nadam(), loss='mse', metrics=['mse', 'mae'])\n",
    "LAI_model.evaluate(X, y)"
   ]
  },
  {
   "cell_type": "code",
   "execution_count": 46,
   "metadata": {},
   "outputs": [
    {
     "name": "stdout",
     "output_type": "stream",
     "text": [
      "Epoch 1/100\n",
      "852/852 [==============================] - 4s 3ms/step - loss: 7820060.0000 - mse: 7820060.0000 - mae: 2642.9775: 0s - loss: 7807327.5\n",
      "Epoch 2/100\n",
      "852/852 [==============================] - 3s 3ms/step - loss: 7804118.5000 - mse: 7804118.5000 - mae: 2639.9575\n",
      "Epoch 3/100\n",
      "852/852 [==============================] - 3s 3ms/step - loss: 7789517.5000 - mse: 7789517.5000 - mae: 2637.1892\n",
      "Epoch 4/100\n",
      "852/852 [==============================] - 2s 3ms/step - loss: 7775370.0000 - mse: 7775370.0000 - mae: 2634.5034: 0s - loss: 7781956.0000 - mse: 7781956\n",
      "Epoch 5/100\n",
      "852/852 [==============================] - 2s 3ms/step - loss: 7761435.0000 - mse: 7761435.0000 - mae: 2631.8613\n",
      "Epoch 6/100\n",
      "852/852 [==============================] - 3s 3ms/step - loss: 7747651.0000 - mse: 7747651.0000 - mae: 2629.2397\n",
      "Epoch 7/100\n",
      "852/852 [==============================] - 2s 3ms/step - loss: 7733950.0000 - mse: 7733950.0000 - mae: 2626.6313: 1s - loss: 7758326.000\n",
      "Epoch 8/100\n",
      "852/852 [==============================] - 2s 2ms/step - loss: 7720325.0000 - mse: 7720325.0000 - mae: 2624.0393\n",
      "Epoch 9/100\n",
      "852/852 [==============================] - 3s 3ms/step - loss: 7706743.0000 - mse: 7706743.0000 - mae: 2621.4500\n",
      "Epoch 10/100\n",
      "852/852 [==============================] - 2s 2ms/step - loss: 7693219.5000 - mse: 7693219.5000 - mae: 2618.8674: 1s -\n",
      "Epoch 11/100\n",
      "852/852 [==============================] - 2s 3ms/step - loss: 7679728.5000 - mse: 7679728.5000 - mae: 2616.2920\n",
      "Epoch 12/100\n",
      "852/852 [==============================] - 3s 3ms/step - loss: 7666266.0000 - mse: 7666266.0000 - mae: 2613.7202\n",
      "Epoch 13/100\n",
      "852/852 [==============================] - 3s 3ms/step - loss: 7652842.0000 - mse: 7652842.0000 - mae: 2611.1472\n",
      "Epoch 14/100\n",
      "852/852 [==============================] - 2s 2ms/step - loss: 7639437.0000 - mse: 7639437.0000 - mae: 2608.5820\n",
      "Epoch 15/100\n",
      "852/852 [==============================] - 2s 3ms/step - loss: 7626057.5000 - mse: 7626057.5000 - mae: 2606.0137\n",
      "Epoch 16/100\n",
      "852/852 [==============================] - 2s 2ms/step - loss: 7612708.5000 - mse: 7612708.5000 - mae: 2603.4492\n",
      "Epoch 17/100\n",
      "852/852 [==============================] - 3s 3ms/step - loss: 7599374.0000 - mse: 7599374.0000 - mae: 2600.8906\n",
      "Epoch 18/100\n",
      "852/852 [==============================] - 3s 3ms/step - loss: 7586049.5000 - mse: 7586049.5000 - mae: 2598.3289\n",
      "Epoch 19/100\n",
      "852/852 [==============================] - 2s 3ms/step - loss: 7572757.0000 - mse: 7572757.0000 - mae: 2595.7698\n",
      "Epoch 20/100\n",
      "852/852 [==============================] - 2s 2ms/step - loss: 7559473.0000 - mse: 7559473.0000 - mae: 2593.2102\n",
      "Epoch 21/100\n",
      "852/852 [==============================] - 2s 3ms/step - loss: 7546215.5000 - mse: 7546215.5000 - mae: 2590.6533\n",
      "Epoch 22/100\n",
      "852/852 [==============================] - 3s 3ms/step - loss: 7532988.0000 - mse: 7532988.0000 - mae: 2588.0945\n",
      "Epoch 23/100\n",
      "852/852 [==============================] - 2s 3ms/step - loss: 7519773.5000 - mse: 7519773.5000 - mae: 2585.5403\n",
      "Epoch 24/100\n",
      "852/852 [==============================] - 2s 3ms/step - loss: 7506560.5000 - mse: 7506560.5000 - mae: 2582.9880\n",
      "Epoch 25/100\n",
      "852/852 [==============================] - 2s 3ms/step - loss: 7493362.5000 - mse: 7493362.5000 - mae: 2580.4297\n",
      "Epoch 26/100\n",
      "852/852 [==============================] - 3s 3ms/step - loss: 7480177.5000 - mse: 7480177.5000 - mae: 2577.8752\n",
      "Epoch 27/100\n",
      "852/852 [==============================] - 3s 3ms/step - loss: 7467022.5000 - mse: 7467022.5000 - mae: 2575.3225\n",
      "Epoch 28/100\n",
      "852/852 [==============================] - 3s 3ms/step - loss: 7453879.0000 - mse: 7453879.0000 - mae: 2572.7686\n",
      "Epoch 29/100\n",
      "852/852 [==============================] - 2s 3ms/step - loss: 7440759.0000 - mse: 7440759.0000 - mae: 2570.2141\n",
      "Epoch 30/100\n",
      "852/852 [==============================] - 2s 3ms/step - loss: 7427637.5000 - mse: 7427637.5000 - mae: 2567.6650\n",
      "Epoch 31/100\n",
      "852/852 [==============================] - 2s 3ms/step - loss: 7414523.0000 - mse: 7414523.0000 - mae: 2565.1101\n",
      "Epoch 32/100\n",
      "852/852 [==============================] - 2s 3ms/step - loss: 7401445.5000 - mse: 7401445.5000 - mae: 2562.5564\n",
      "Epoch 33/100\n",
      "852/852 [==============================] - 2s 3ms/step - loss: 7388368.0000 - mse: 7388368.0000 - mae: 2560.0054\n",
      "Epoch 34/100\n",
      "852/852 [==============================] - 2s 3ms/step - loss: 7375303.5000 - mse: 7375303.5000 - mae: 2557.4536\n",
      "Epoch 35/100\n",
      "852/852 [==============================] - 3s 3ms/step - loss: 7362265.5000 - mse: 7362265.5000 - mae: 2554.9023\n",
      "Epoch 36/100\n",
      "852/852 [==============================] - 2s 3ms/step - loss: 7349237.5000 - mse: 7349237.5000 - mae: 2552.3491\n",
      "Epoch 37/100\n",
      "852/852 [==============================] - 2s 3ms/step - loss: 7336218.0000 - mse: 7336218.0000 - mae: 2549.8010\n",
      "Epoch 38/100\n",
      "852/852 [==============================] - 2s 3ms/step - loss: 7323214.0000 - mse: 7323214.0000 - mae: 2547.2502\n",
      "Epoch 39/100\n",
      "852/852 [==============================] - 3s 4ms/step - loss: 7310225.0000 - mse: 7310225.0000 - mae: 2544.6992\n",
      "Epoch 40/100\n",
      "852/852 [==============================] - 2s 3ms/step - loss: 7297249.0000 - mse: 7297249.0000 - mae: 2542.1477\n",
      "Epoch 41/100\n",
      "852/852 [==============================] - 2s 3ms/step - loss: 7284291.0000 - mse: 7284291.0000 - mae: 2539.5977: 0s - loss: 7279552.5000 - mse: 7279552.5000 - mae: 2 - ETA: 0s - loss: 7268615.0000 - mse: 726\n",
      "Epoch 42/100\n",
      "852/852 [==============================] - 2s 3ms/step - loss: 7271349.0000 - mse: 7271349.0000 - mae: 2537.0469\n",
      "Epoch 43/100\n",
      "852/852 [==============================] - 3s 3ms/step - loss: 7258418.5000 - mse: 7258418.5000 - mae: 2534.4985\n",
      "Epoch 44/100\n",
      "852/852 [==============================] - 2s 3ms/step - loss: 7245502.0000 - mse: 7245502.0000 - mae: 2531.9485\n",
      "Epoch 45/100\n",
      "852/852 [==============================] - 2s 3ms/step - loss: 7232593.5000 - mse: 7232593.5000 - mae: 2529.3987\n",
      "Epoch 46/100\n",
      "852/852 [==============================] - 2s 3ms/step - loss: 7219698.5000 - mse: 7219698.5000 - mae: 2526.8486\n",
      "Epoch 47/100\n",
      "852/852 [==============================] - 2s 3ms/step - loss: 7206825.0000 - mse: 7206825.0000 - mae: 2524.2981\n",
      "Epoch 48/100\n",
      "852/852 [==============================] - 2s 3ms/step - loss: 7193956.5000 - mse: 7193956.5000 - mae: 2521.7478\n",
      "Epoch 49/100\n",
      "852/852 [==============================] - 2s 3ms/step - loss: 7181102.5000 - mse: 7181102.5000 - mae: 2519.2036\n",
      "Epoch 50/100\n",
      "852/852 [==============================] - 2s 3ms/step - loss: 7168263.5000 - mse: 7168263.5000 - mae: 2516.6533\n",
      "Epoch 51/100\n",
      "852/852 [==============================] - 3s 3ms/step - loss: 7155434.0000 - mse: 7155434.0000 - mae: 2514.1003\n",
      "Epoch 52/100\n",
      "852/852 [==============================] - 2s 3ms/step - loss: 7142624.5000 - mse: 7142624.5000 - mae: 2511.5530\n",
      "Epoch 53/100\n",
      "852/852 [==============================] - 2s 2ms/step - loss: 7129830.0000 - mse: 7129830.0000 - mae: 2509.0063\n",
      "Epoch 54/100\n",
      "852/852 [==============================] - 2s 3ms/step - loss: 7117046.0000 - mse: 7117046.0000 - mae: 2506.4597\n",
      "Epoch 55/100\n",
      "852/852 [==============================] - 3s 3ms/step - loss: 7104276.5000 - mse: 7104276.5000 - mae: 2503.9087\n",
      "Epoch 56/100\n",
      "852/852 [==============================] - 3s 3ms/step - loss: 7091514.0000 - mse: 7091514.0000 - mae: 2501.3616\n",
      "Epoch 57/100\n",
      "852/852 [==============================] - 2s 3ms/step - loss: 7078773.0000 - mse: 7078773.0000 - mae: 2498.8140: 0s - loss: 7072669.5000 - mse: 7072669.5000 \n",
      "Epoch 58/100\n",
      "852/852 [==============================] - 3s 3ms/step - loss: 7066035.0000 - mse: 7066035.0000 - mae: 2496.2656\n",
      "Epoch 59/100\n",
      "852/852 [==============================] - 3s 3ms/step - loss: 7053326.5000 - mse: 7053326.5000 - mae: 2493.7188\n",
      "Epoch 60/100\n",
      "852/852 [==============================] - 2s 3ms/step - loss: 7040619.5000 - mse: 7040619.5000 - mae: 2491.1736\n",
      "Epoch 61/100\n",
      "852/852 [==============================] - 3s 3ms/step - loss: 7027923.0000 - mse: 7027923.0000 - mae: 2488.6250\n",
      "Epoch 62/100\n",
      "852/852 [==============================] - 3s 3ms/step - loss: 7015242.0000 - mse: 7015242.0000 - mae: 2486.0793\n",
      "Epoch 63/100\n",
      "852/852 [==============================] - 3s 3ms/step - loss: 7002573.0000 - mse: 7002573.0000 - mae: 2483.5322\n",
      "Epoch 64/100\n",
      "852/852 [==============================] - 3s 3ms/step - loss: 6989931.0000 - mse: 6989931.0000 - mae: 2480.9878\n",
      "Epoch 65/100\n",
      "852/852 [==============================] - 3s 3ms/step - loss: 6977294.0000 - mse: 6977294.0000 - mae: 2478.4380\n",
      "Epoch 66/100\n",
      "852/852 [==============================] - 2s 3ms/step - loss: 6964671.0000 - mse: 6964671.0000 - mae: 2475.8972\n",
      "Epoch 67/100\n",
      "852/852 [==============================] - 3s 3ms/step - loss: 6952045.0000 - mse: 6952045.0000 - mae: 2473.3542\n",
      "Epoch 68/100\n",
      "852/852 [==============================] - 2s 3ms/step - loss: 6939446.0000 - mse: 6939446.0000 - mae: 2470.8047: 0s - loss: 6949705.0000 \n",
      "Epoch 69/100\n",
      "852/852 [==============================] - 3s 3ms/step - loss: 6926862.0000 - mse: 6926862.0000 - mae: 2468.2605\n",
      "Epoch 70/100\n",
      "852/852 [==============================] - 2s 3ms/step - loss: 6914292.5000 - mse: 6914292.5000 - mae: 2465.7163\n",
      "Epoch 71/100\n",
      "852/852 [==============================] - 2s 3ms/step - loss: 6901721.0000 - mse: 6901721.0000 - mae: 2463.1743\n",
      "Epoch 72/100\n",
      "852/852 [==============================] - 2s 3ms/step - loss: 6889168.5000 - mse: 6889168.5000 - mae: 2460.6250: 1s\n",
      "Epoch 73/100\n",
      "852/852 [==============================] - ETA: 0s - loss: 6878101.0000 - mse: 6878101.0000 - mae: 2458.4756 ETA: 0s - loss: 6877669.5000 - mse: 6877669.5000 - mae: 2 - 2s 3ms/step - loss: 6876648.0000 - mse: 6876648.0000 - mae: 2458.0818\n",
      "Epoch 74/100\n",
      "852/852 [==============================] - 2s 3ms/step - loss: 6864131.5000 - mse: 6864131.5000 - mae: 2455.5391\n",
      "Epoch 75/100\n",
      "852/852 [==============================] - 2s 3ms/step - loss: 6851620.5000 - mse: 6851620.5000 - mae: 2452.9941\n",
      "Epoch 76/100\n",
      "852/852 [==============================] - 2s 3ms/step - loss: 6839132.5000 - mse: 6839132.5000 - mae: 2450.4482\n",
      "Epoch 77/100\n",
      "852/852 [==============================] - 2s 3ms/step - loss: 6826647.5000 - mse: 6826647.5000 - mae: 2447.9092\n",
      "Epoch 78/100\n",
      "852/852 [==============================] - 2s 3ms/step - loss: 6814167.0000 - mse: 6814167.0000 - mae: 2445.3638\n",
      "Epoch 79/100\n",
      "852/852 [==============================] - 2s 3ms/step - loss: 6801709.0000 - mse: 6801709.0000 - mae: 2442.8179\n",
      "Epoch 80/100\n",
      "852/852 [==============================] - 3s 3ms/step - loss: 6789264.0000 - mse: 6789264.0000 - mae: 2440.2759\n",
      "Epoch 81/100\n",
      "852/852 [==============================] - ETA: 0s - loss: 6782601.0000 - mse: 6782601.0000 - mae: 2438.84 - 3s 3ms/step - loss: 6776835.5000 - mse: 6776835.5000 - mae: 2437.7334\n",
      "Epoch 82/100\n",
      "852/852 [==============================] - 2s 3ms/step - loss: 6764419.5000 - mse: 6764419.5000 - mae: 2435.1924\n",
      "Epoch 83/100\n",
      "852/852 [==============================] - 2s 3ms/step - loss: 6752017.5000 - mse: 6752017.5000 - mae: 2432.6470\n",
      "Epoch 84/100\n",
      "852/852 [==============================] - 3s 3ms/step - loss: 6739643.0000 - mse: 6739643.0000 - mae: 2430.1047\n",
      "Epoch 85/100\n",
      "852/852 [==============================] - 3s 4ms/step - loss: 6727265.0000 - mse: 6727265.0000 - mae: 2427.5674\n",
      "Epoch 86/100\n",
      "852/852 [==============================] - 4s 4ms/step - loss: 6714891.5000 - mse: 6714891.5000 - mae: 2425.0247\n",
      "Epoch 87/100\n",
      "852/852 [==============================] - 4s 4ms/step - loss: 6702551.0000 - mse: 6702551.0000 - mae: 2422.4817: 0s - loss: 6707152.5000 - mse: 6707152.5000 - mae: 242\n",
      "Epoch 88/100\n",
      "852/852 [==============================] - 4s 4ms/step - loss: 6690207.0000 - mse: 6690207.0000 - mae: 2419.9419\n",
      "Epoch 89/100\n",
      "852/852 [==============================] - 3s 3ms/step - loss: 6677887.5000 - mse: 6677887.5000 - mae: 2417.4019\n",
      "Epoch 90/100\n",
      "852/852 [==============================] - 3s 4ms/step - loss: 6665567.5000 - mse: 6665567.5000 - mae: 2414.8586\n",
      "Epoch 91/100\n",
      "852/852 [==============================] - 2s 3ms/step - loss: 6653270.5000 - mse: 6653270.5000 - mae: 2412.3188\n",
      "Epoch 92/100\n",
      "852/852 [==============================] - 2s 3ms/step - loss: 6640984.5000 - mse: 6640984.5000 - mae: 2409.7773\n",
      "Epoch 93/100\n",
      "852/852 [==============================] - 2s 3ms/step - loss: 6628722.0000 - mse: 6628722.0000 - mae: 2407.2368\n",
      "Epoch 94/100\n",
      "852/852 [==============================] - 2s 3ms/step - loss: 6616462.5000 - mse: 6616462.5000 - mae: 2404.6997\n",
      "Epoch 95/100\n",
      "852/852 [==============================] - 2s 3ms/step - loss: 6604222.0000 - mse: 6604222.0000 - mae: 2402.1543: 0s - loss: 6638435.0000 - mse: 663\n",
      "Epoch 96/100\n",
      "852/852 [==============================] - 2s 3ms/step - loss: 6591996.5000 - mse: 6591996.5000 - mae: 2399.6226\n",
      "Epoch 97/100\n",
      "852/852 [==============================] - 3s 4ms/step - loss: 6579780.5000 - mse: 6579780.5000 - mae: 2397.0806: 0s - loss: 6585260.0000 \n",
      "Epoch 98/100\n",
      "852/852 [==============================] - 3s 4ms/step - loss: 6567576.5000 - mse: 6567576.5000 - mae: 2394.5413\n",
      "Epoch 99/100\n",
      "852/852 [==============================] - 2s 3ms/step - loss: 6555379.5000 - mse: 6555379.5000 - mae: 2392.0049\n",
      "Epoch 100/100\n",
      "852/852 [==============================] - 2s 3ms/step - loss: 6543199.0000 - mse: 6543199.0000 - mae: 2389.4644\n"
     ]
    },
    {
     "data": {
      "text/plain": [
       "<tensorflow.python.keras.callbacks.History at 0x15c3d79a0>"
      ]
     },
     "execution_count": 46,
     "metadata": {},
     "output_type": "execute_result"
    }
   ],
   "source": [
    "# Fitting the model to our trimmed data\n",
    "LAI_model.fit(x=X.to_numpy(), y=y.to_numpy(), epochs=100)"
   ]
  },
  {
   "cell_type": "markdown",
   "metadata": {},
   "source": [
    "Below is code the prepares the predictions to be displayed against the true values of the response for matplotlib"
   ]
  },
  {
   "cell_type": "code",
   "execution_count": 47,
   "metadata": {},
   "outputs": [],
   "source": [
    "# Predicting our own input data to evaluate the performance (for now)\n",
    "LAI_predictions = pd.Series(LAI_model.predict(X.to_numpy()).flatten())"
   ]
  },
  {
   "cell_type": "code",
   "execution_count": 48,
   "metadata": {},
   "outputs": [
    {
     "data": {
      "text/plain": [
       "0    257.165009\n",
       "1    257.165009\n",
       "2    257.165009\n",
       "3    257.165009\n",
       "4    257.165009\n",
       "5    257.165009\n",
       "6    257.165009\n",
       "7    257.165009\n",
       "8    257.165009\n",
       "9    257.165009\n",
       "dtype: float32"
      ]
     },
     "execution_count": 48,
     "metadata": {},
     "output_type": "execute_result"
    }
   ],
   "source": [
    "LAI_predictions.head(10)"
   ]
  },
  {
   "cell_type": "code",
   "execution_count": 23,
   "metadata": {},
   "outputs": [],
   "source": [
    "# Prepare data to display as a scatterplot\n",
    "xy_tf_LAI = np.vstack([y, LAI_predictions])\n",
    "z_tf_LAI = scipy.stats.gaussian_kde(xy_tf_LAI)(xy_tf_LAI)\n",
    "\n",
    "idx_tf_LAI = z_tf_LAI.argsort()\n",
    "x_tf_LAI = y[idx_tf_LAI]\n",
    "y_tf_LAI = LAI_predictions[idx_tf_LAI]\n",
    "z_tf_LAI = z_tf_LAI[idx_tf_LAI]\n",
    "\n",
    "rmse_tf_LAI = skl.metrics.mean_squared_error(x_tf_LAI, y_tf_LAI, squared=False)"
   ]
  },
  {
   "cell_type": "code",
   "execution_count": 24,
   "metadata": {},
   "outputs": [
    {
     "name": "stdout",
     "output_type": "stream",
     "text": [
      "              0         1         2         3         4\n",
      "0     -1.178785 -1.227245 -1.302686 -1.312151 -1.282631\n",
      "1     -1.242737 -1.369317 -1.438358 -1.453947 -1.487247\n",
      "2     -1.655023 -1.650536 -1.747426 -1.910709 -2.192423\n",
      "3     -0.189572 -1.325326 -1.611550 -2.301598 -1.323009\n",
      "4     -1.303968 -1.231720 -1.532574 -2.210678 -1.654703\n",
      "...         ...       ...       ...       ...       ...\n",
      "27248  1.011908  0.384547  0.285384  0.230168  0.824692\n",
      "27249  1.248666  1.048863  1.142811  1.019334  1.146410\n",
      "27250  0.704394  0.777573  0.914979  0.921755  0.824851\n",
      "27251  0.986055  1.057486  1.122898  0.982304  1.009412\n",
      "27252  1.066335  0.974035  0.865302  0.657012  1.001222\n",
      "\n",
      "[27253 rows x 5 columns]\n",
      "0        1376.0\n",
      "1        1212.0\n",
      "2        1218.0\n",
      "3        1230.0\n",
      "4        1005.0\n",
      "          ...  \n",
      "27248    4187.0\n",
      "27249    4001.0\n",
      "27250    3879.0\n",
      "27251    3896.0\n",
      "27252    4069.0\n",
      "Name: estimateLAI, Length: 27253, dtype: float64\n"
     ]
    }
   ],
   "source": [
    "print(X)\n",
    "print(y)"
   ]
  },
  {
   "cell_type": "code",
   "execution_count": 25,
   "metadata": {},
   "outputs": [
    {
     "data": {
      "image/png": "[encoded data removed]",
      "text/plain": [
       "<Figure size 720x720 with 1 Axes>"
      ]
     },
     "metadata": {
      "needs_background": "light"
     },
     "output_type": "display_data"
    }
   ],
   "source": [
    "a_tf_LAI = np.linspace(0, 3, 1000)\n",
    "fig, ax = plt.subplots(1, 1, figsize=(10,10))\n",
    "\n",
    "ax.scatter(x_tf_LAI, y_tf_LAI, c=z_tf_LAI)\n",
    "ax.plot(a_tf_LAI, a_tf_LAI, c='r')\n",
    "ax.title.set_text('LASSO LARS (ALL BANDS) - RMSE: {}'.format(rmse_tf_LAI))"
   ]
  },
  {
   "cell_type": "markdown",
   "metadata": {},
   "source": [
    "Early attempts to use the output of the kerasModel.get_weights() to apply the neural network weights manually"
   ]
  },
  {
   "cell_type": "code",
   "execution_count": null,
   "metadata": {
    "scrolled": true
   },
   "outputs": [],
   "source": [
    "LAI_model.get_weights()"
   ]
  },
  {
   "cell_type": "code",
   "execution_count": null,
   "metadata": {},
   "outputs": [],
   "source": [
    "elu = np.vectorize(alr.elu)\n",
    "softplus = np.vectorize(alr.softplus)\n",
    "softsign = np.vectorize(alr.softsign)\n",
    "relu = np.vectorize(alr.relu)\n",
    "tanh = np.vectorize(alr.tanh)\n",
    "sigmoid = np.vectorize(alr.sigmoid)"
   ]
  },
  {
   "cell_type": "code",
   "execution_count": null,
   "metadata": {},
   "outputs": [],
   "source": [
    "row = 4802\n",
    "inputs = X.iloc[row, :].to_numpy()\n",
    "print(LAI_model.predict(inputs.reshape((-1,5)))[0][0])\n",
    "print(alr.apply_nnet(inputs, LAI_model)[0])"
   ]
  },
  {
   "cell_type": "code",
   "execution_count": null,
   "metadata": {},
   "outputs": [],
   "source": [
    "# Writing the neural network to a CSV file to be uploaded to the server side on Google Earth Engine\n",
    "export_data = alr.export_nnet(LAI_model, X)\n",
    "with open('nnet.csv', 'w', newline='') as csvfile:\n",
    "    nnet_writer = csv.writer(csvfile)\n",
    "    for layerdata in export_data:\n",
    "        nnet_writer.writerow(layerdata)"
   ]
  },
  {
   "cell_type": "raw",
   "metadata": {},
   "source": [
    "Currently, I have not found a way to automatically upload a file as an asset into Google Earth Engine from a local script. There is a command in the Earth Engine command line interface that allows you to upload an asset from cloud storage, although cloud storage is not free. There may be a workaround way to upload the file from Google Drive directly to Earth Engine, but even that would use the Google Drive API which is a part of Google Cloud, so it will not be free. It seems the network must be uploaded manually for now."
   ]
  }
 ],
 "metadata": {
  "colab": {
   "name": "LAI_FAPAR_FCOVER_Prediction.ipynb",
   "provenance": []
  },
  "kernelspec": {
   "display_name": "Python 3 (ipykernel)",
   "language": "python",
   "name": "python3"
  },
  "language_info": {
   "codemirror_mode": {
    "name": "ipython",
    "version": 3
   },
   "file_extension": ".py",
   "mimetype": "text/x-python",
   "name": "python",
   "nbconvert_exporter": "python",
   "pygments_lexer": "ipython3",
   "version": "3.9.7"
  },
  "pycharm": {
   "stem_cell": {
    "cell_type": "raw",
    "metadata": {
     "collapsed": false
    },
    "source": []
   }
  }
 },
 "nbformat": 4,
 "nbformat_minor": 4
}
