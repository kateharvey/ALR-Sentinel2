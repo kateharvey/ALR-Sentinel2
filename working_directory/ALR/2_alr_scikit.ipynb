{
 "cells": [
  {
   "cell_type": "markdown",
   "metadata": {},
   "source": [
    "## ALR Client Side\n",
    "\n",
    "This notebook is a copy similar to ALR_Client_Side found in:\n",
    "https://github.com/rfernand387/ALR_Earth_Engine/blob/master/ALR_Client_Side.ipynb\n",
    "\n",
    "Modifications have been made to accept an EE image with 10 m resolution bands that has been outputted from SL2P10_control.ipynb:\n",
    "https://github.com/kateharvey/Sentinel2_ALR/blob/main/shared/SL2P10_control.ipynb"
   ]
  },
  {
   "cell_type": "code",
   "execution_count": 1,
   "metadata": {},
   "outputs": [],
   "source": [
    "import scipy\n",
    "import scipy.io as sio\n",
    "import matplotlib.pyplot as plt\n",
    "import numpy as np\n",
    "import pandas as pd\n",
    "import sklearn as skl\n",
    "from sklearn import preprocessing\n",
    "from sklearn import linear_model\n",
    "import tensorflow as tf\n",
    "import ee\n",
    "import json\n",
    "from collections import OrderedDict\n",
    "import time\n",
    "import math\n",
    "import csv\n",
    "import os\n",
    "\n",
    "# import custom module\n",
    "# import ALR_functions as alr"
   ]
  },
  {
   "cell_type": "code",
   "execution_count": 2,
   "metadata": {},
   "outputs": [
    {
     "data": {
      "text/html": [
       "<p>To authorize access needed by Earth Engine, open the following\n",
       "        URL in a web browser and follow the instructions:</p>\n",
       "        <p><a href=https://accounts.google.com/o/oauth2/auth?client_id=517222506229-vsmmajv00ul0bs7p89v5m89qs8eb9359.apps.googleusercontent.com&scope=https%3A%2F%2Fwww.googleapis.com%2Fauth%2Fearthengine+https%3A%2F%2Fwww.googleapis.com%2Fauth%2Fdevstorage.full_control&redirect_uri=urn%3Aietf%3Awg%3Aoauth%3A2.0%3Aoob&response_type=code&code_challenge=eCTebG6uGulirG7OLPhC6F4ee6CVtmndrwDZKoqhEiU&code_challenge_method=S256>https://accounts.google.com/o/oauth2/auth?client_id=517222506229-vsmmajv00ul0bs7p89v5m89qs8eb9359.apps.googleusercontent.com&scope=https%3A%2F%2Fwww.googleapis.com%2Fauth%2Fearthengine+https%3A%2F%2Fwww.googleapis.com%2Fauth%2Fdevstorage.full_control&redirect_uri=urn%3Aietf%3Awg%3Aoauth%3A2.0%3Aoob&response_type=code&code_challenge=eCTebG6uGulirG7OLPhC6F4ee6CVtmndrwDZKoqhEiU&code_challenge_method=S256</a></p>\n",
       "        <p>The authorization workflow will generate a code, which you\n",
       "        should paste in the box below</p>\n",
       "        "
      ],
      "text/plain": [
       "<IPython.core.display.HTML object>"
      ]
     },
     "metadata": {},
     "output_type": "display_data"
    },
    {
     "name": "stdin",
     "output_type": "stream",
     "text": [
      "Enter verification code:  4/1AX4XfWjXZY2jicVK8wUX1c7gRcNhiBGwrBkch902eEUMvwYUFSzK57Z-s7s\n"
     ]
    },
    {
     "name": "stdout",
     "output_type": "stream",
     "text": [
      "\n",
      "Successfully saved authorization token.\n"
     ]
    }
   ],
   "source": [
    "ee.Authenticate()\n",
    "ee.Initialize()"
   ]
  },
  {
   "cell_type": "code",
   "execution_count": 3,
   "metadata": {
    "jupyter": {
     "source_hidden": true
    },
    "tags": []
   },
   "outputs": [],
   "source": [
    "def elu(x):\n",
    "    if x>=0:\n",
    "        return x\n",
    "    else:\n",
    "        return (math.exp(x)-1)\n",
    "\n",
    "\n",
    "def softplus(x):\n",
    "    return math.log(math.exp(x)+1)\n",
    "\n",
    "\n",
    "def softsign(x):\n",
    "    return x/(abs(x)+1)\n",
    "\n",
    "\n",
    "def relu(x):\n",
    "    return max(x, 0.0)\n",
    "\n",
    "\n",
    "def tanh(x):\n",
    "    return (math.exp(2*x)-1)/(math.exp(2*x)+1)\n",
    "\n",
    "\n",
    "def sigmoid(x):\n",
    "    return 1/(1+math.exp(-x))\n",
    "\n",
    "\n",
    "# ------------------------------------------------\n",
    "# Functions for client-side implementation of ALR:\n",
    "# ------------------------------------------------\n",
    "# The following function takes an image, a list of the names to rename the bands to, a string which is the name of the band\n",
    "# containing the response variable in the image, and the list of strings defining vegetation indices to add to the image.\n",
    "# It returns an image which contains all of the original bands in the image renamed and all of the VIs defined earlier\n",
    "# with the response band being the last band defined in the image\n",
    "\n",
    "def format_image(image, image_bands, response_band, VI_definition):\n",
    "    image = ee.Image(image)\n",
    "    image_bands = ee.List(image_bands)\n",
    "    response_band = ee.String(response_band)\n",
    "    VI_definition = ee.List(VI_definition)\n",
    "    \n",
    "    # image_bands specifices a list of the names of the bands used in defining the expressions for VIs in VI_definition\n",
    "    image = image.rename(image_bands).toDouble()\n",
    "    \n",
    "    # Generate an ImageCollection from a list of expressions defining a set of VIs using the bands available in the image\n",
    "    VIimageCollection = ee.ImageCollection(VI_definition.map(lambda expr: image.expression(expr)))\n",
    "    VIimage = VIimageCollection.toBands().regexpRename(\"[0-9]+_\", \"\")\n",
    "    \n",
    "    # Reorder the bands in the image so the response band is the first band in the image\n",
    "    feature_bands = image_bands.remove(response_band)\n",
    "    return ee.Image(image.select(response_band).addBands(VIimage).addBands(image.select(feature_bands)))\n",
    "\n",
    "\n",
    "# The following function takes an image and retrieves the total number of pixels in the image as an integer\n",
    "\n",
    "def get_num_pixels(image):\n",
    "    \n",
    "    # get image height\n",
    "    def get_height(image):\n",
    "        height = image.getInfo()[\"bands\"][0][\"dimensions\"][0]\n",
    "        return height\n",
    "    \n",
    "    # get image width\n",
    "    def get_width(image):\n",
    "        width = image.getInfo()[\"bands\"][0][\"dimensions\"][1]\n",
    "        return width\n",
    "    \n",
    "    image_height = get_height(image)\n",
    "    image_width = get_width(image)\n",
    "    image_pixels = image_height*image_width\n",
    "    \n",
    "    return image_pixels\n",
    "\n",
    "\n",
    "# The following takes an image and the name of the band containing the response variable in the image\n",
    "# It returns an image with the response band centred to a mean 0, and the other bands in the image standardized\n",
    "# to a mean 0 and standard deviation 1. This preprocessing is necessary for the LARs algorithm\n",
    "\n",
    "def scale_image(image, response_band):\n",
    "    image = ee.Image(image)\n",
    "    response_band = ee.String(response_band)\n",
    "    image_pixels = ee.Number(get_num_pixels(image))\n",
    "    \n",
    "    # Set up lists containing the input/feature bands in the image\n",
    "    bandList = image.bandNames()\n",
    "    featureList = bandList.remove(response_band)\n",
    "    num_bands = bandList.length()\n",
    "    num_features = featureList.length()\n",
    "    \n",
    "    # We will be using the reduceRegion() function on images from Earth Engine, \n",
    "    # which will process up to a specified number of pixels from the image to generate the outputs of the reducer\n",
    "    max_pixels = image_pixels.min(10000000)\n",
    "    # best_effort = ee.Algorithms.If(image_pixels.gt(max_pixels), True, False)\n",
    "    \n",
    "    # Set default projection and scale using the response band\n",
    "    defaultScale = image.select(response_band).projection().nominalScale()\n",
    "    defaultCrs = image.select(response_band).projection().crs()\n",
    "    image = image.setDefaultProjection(crs=defaultCrs, scale=defaultScale)\n",
    "    \n",
    "    # Center all of the bands in the image for LARs\n",
    "    # We will centre the sampled data later as well as reduceRegion() is not precise enough\n",
    "    meanImage = image.subtract(image.reduceRegion(reducer=ee.Reducer.mean(), \\\n",
    "                                scale=defaultScale, bestEffort=True, maxPixels=max_pixels).toImage(bandList))\n",
    "    \n",
    "    # Separate the image into features (X) and response (y) as we need to standardize the input features\n",
    "    X = meanImage.select(featureList)\n",
    "    y = meanImage.select(response_band)\n",
    "    \n",
    "    # Standardize the input features\n",
    "    X = X.divide(X.reduceRegion(reducer=ee.Reducer.stdDev(), bestEffort=True, maxPixels=max_pixels).toImage(featureList))\n",
    "    \n",
    "    return X.addBands(y)"
   ]
  },
  {
   "cell_type": "code",
   "execution_count": 4,
   "metadata": {},
   "outputs": [],
   "source": [
    "# -----------------------\n",
    "# EE LARS implementation:\n",
    "# -----------------------\n",
    "# The following function implements the LARs algorithm fully as described in (et al. 2002)\n",
    "# It takes an image, the name of the band containing the response variable in the image, the number of non-zero\n",
    "# coefficients requested for the LARs algorithm to select the best features to predict the response in the image\n",
    "# Additionally the function requires the number of samples (pixels) from the image that the user wishes to process. \n",
    "# These inputs are necessary as Earth Engine provides a limited amount of RAM (2GB) and processing time on their VMs,\n",
    "# so the user may need to adjust how many pixels they wish to process in the image in case the function leads to a \n",
    "# \"User memory limit exceeded error\" or \"Computation timed out error\"\n",
    "\n",
    "def ee_LARS(input_image, input_bandNames, response_bandName, num_nonzero_coefficients, num_samples):\n",
    "    image = ee.Image(input_image)\n",
    "    feature_list = ee.List(input_bandNames)\n",
    "    response_band = ee.String(response_bandName)\n",
    "    full_band_list = ee.List(feature_list).add(response_band)\n",
    "    num_nonzero_coefficients = ee.Number(num_nonzero_coefficients)\n",
    "    num_samples = ee.Number(num_samples)\n",
    "    image_pixels = ee.Number(get_num_pixels(image))\n",
    "    \n",
    "    # Randomly sample pixels in the image at native resolution into a FeatureCollection\n",
    "    input_collection = image.sample(numPixels=num_samples.min(image_pixels))\n",
    "    n = input_collection.size()\n",
    "    m = feature_list.length()\n",
    "    \n",
    "    # Use an aggregate array function over the FeatureCollection and map the function over each feature in the band list\n",
    "    # to generate a dictionary of all of the samples retrieved\n",
    "    inputs = ee.Dictionary.fromLists(full_band_list, full_band_list.map(lambda feature: input_collection.aggregate_array(feature)))\n",
    "    # print(inputs.getInfo())\n",
    "    \n",
    "    # Although we may call our scale_image function on the input image, the reduceRegion() function used to determine the mean\n",
    "    # and standard deviation of each band in the image over the entire region is not precise enough over a large image\n",
    "    # so we must recenter all of the bands in the image and now we can also normalize (L2 norm) each input feature as required\n",
    "    # by the LARs algorithm\n",
    "    \n",
    "    # Use an aggregate_mean function over the feature collection to get the mean of each band\n",
    "    input_means = ee.Dictionary.fromLists(full_band_list, full_band_list.map(lambda feature: input_collection.aggregate_mean(feature)))\n",
    "    \n",
    "    def centre_inputs(key, value):\n",
    "        key_mean = input_means.getNumber(key)\n",
    "        return ee.List(value).map(lambda sample: ee.Number(sample).subtract(key_mean))\n",
    "    \n",
    "    \n",
    "    # Center bands by mapping over the list of features and then a subtracting over the list of samples for each band\n",
    "    inputs = inputs.map(centre_inputs)\n",
    "\n",
    "    # Separate the response variable samples into its own vector\n",
    "    y = inputs.toArray([response_band]).reshape([-1,1])\n",
    "\n",
    "    # Remove response band from the feature collection by selecting only bands in the feature list\n",
    "    inputs = inputs.select(feature_list)\n",
    "    \n",
    "    # Generate a dictionary of all of the L2 norms of the input features using a custom mapped function\n",
    "    input_norms = inputs.map(lambda key, value: ee.Number(ee.List(value).map(lambda sample: ee.Number(sample).pow(2)).reduce(ee.Reducer.sum())).pow(0.5))\n",
    "    \n",
    "    # Normalize all of the features by mapping a function over the list of features\n",
    "    # and then map a division over the list of all of the samples of the feature\n",
    "    def norm_inputs(key, value):\n",
    "        key_norm = input_norms.getNumber(key)\n",
    "        return ee.List(value).map(lambda sample: ee.Number(sample).divide(key_norm))\n",
    "    \n",
    "    inputs = inputs.map(norm_inputs)\n",
    "    \n",
    "    # Generate the array of samples using the dictionary\n",
    "    X = inputs.toArray(feature_list).transpose()\n",
    "\n",
    "    # Find the first best predictor of the response to initialize the main LARs loop\n",
    "    initial_prediction = ee.Array(ee.List.repeat([0], n))\n",
    "    c = X.transpose().matrixMultiply(y.subtract(initial_prediction))\n",
    "    c_abs = c.abs()\n",
    "    C_maxLoc = c_abs.project([0]).argmax()\n",
    "    add_feature = C_maxLoc.getNumber(0)\n",
    "    A = ee.List([add_feature])\n",
    "    \n",
    "    # Create a dicitionary of initial inputs to pass into the main LARs iterative loop\n",
    "    # The iterate function in Earth Engine processes each iteration as a tree of iterations with no access to any variables\n",
    "    # from previous iterations (only those that are passed to the next iteration)\n",
    "    # so we must pass both the current prediction and the active set of features (with non-zero coefficients), A\n",
    "    initial_inputs = ee.Dictionary({'prediction': initial_prediction, 'A': A})\n",
    "\n",
    "    def LARs_regression(iteration, inputs):\n",
    "        inputs = ee.Dictionary(inputs)\n",
    "\n",
    "        # Find the active set of features, A (predictors with non-zero coefficients)\n",
    "        A = ee.List(inputs.get('A'))\n",
    "        # A_list is an array used to mask the full array of input samples and the correlation vector\n",
    "        A_list = ee.Array(ee.List.sequence(0, m.subtract(1))\\\n",
    "                          .map(lambda index: A.contains(index)).replaceAll(False, 0).replaceAll(True, 1)).reshape([-1,1])\n",
    "\n",
    "        # The following matrix algebra determines the next most correlated variable, or the next best predictor considering the\n",
    "        # current features in the active set, A, as well as the magnitude to adjust the prediction vector to ensure all of the\n",
    "        # features in the active set are equally correlated to response vector\n",
    "        prediction = inputs.getArray('prediction')\n",
    "        c = X.transpose().matrixMultiply(y.subtract(prediction))\n",
    "        c_abs = c.abs()\n",
    "        C_max = c_abs.get(c_abs.argmax())\n",
    "        s_A = c.divide(c_abs).mask(A_list)\n",
    "        X_A = X.mask(A_list.transpose())\n",
    "        G_Ai = X_A.transpose().matrixMultiply(X_A).matrixInverse()\n",
    "        G1 = G_Ai.matrixMultiply(s_A)\n",
    "        A_A = s_A.project([0]).dotProduct(G1.project([0])).pow(-0.5)\n",
    "        w_A = G1.multiply(A_A)\n",
    "        u_A = X_A.matrixMultiply(w_A)\n",
    "        a = X.transpose().matrixMultiply(u_A)\n",
    "        a = a.project([0])\n",
    "        c = c.project([0])\n",
    "\n",
    "        def compute_gammaArray(index_j):\n",
    "            minus_j = C_max.subtract(c.get([index_j])).divide(A_A.subtract(a.get([index_j])))\n",
    "            plus_j = C_max.add(c.get([index_j])).divide(A_A.add(a.get([index_j])))\n",
    "            return ee.List([minus_j, plus_j]).filter(ee.Filter.gte('item', 0)).reduce(ee.Reducer.min())\n",
    "\n",
    "        A_c = ee.List.sequence(0, m.subtract(1)).removeAll(A)\n",
    "        gammaArray = A_c.map(compute_gammaArray)\n",
    "        gamma = gammaArray.reduce(ee.Reducer.min())\n",
    "        min_location = gammaArray.indexOf(gamma)\n",
    "        add_feature = A_c.getNumber(min_location)\n",
    "\n",
    "        # Update active set of variables with next best predictor from non-active set and update prediction vector\n",
    "        A = A.add(add_feature)\n",
    "        prediction = prediction.add(u_A.multiply(gamma))\n",
    "\n",
    "        return ee.Dictionary({'prediction': prediction, 'A': A})\n",
    "\n",
    "\n",
    "    # The final iteration of LARs (if selecting all input variables) requires a different method to determine magnitude for\n",
    "    # adjusting the magnitude of the prediction vector, as the regular LARs iteration relies on variables in non-active set\n",
    "    # In the final iteration there will be no variables in the non-active set, so the method will not work\n",
    "    def LARs_final_iteration(iteration, inputs):\n",
    "        inputs = ee.Dictionary(inputs)\n",
    "        A = ee.List(inputs.get('A'))\n",
    "\n",
    "        prediction = inputs.getArray('prediction')\n",
    "        c = X.transpose().matrixMultiply(y.subtract(prediction))\n",
    "        c_abs = c.abs()\n",
    "        C_max = c_abs.get(c_abs.argmax())        \n",
    "\n",
    "        s_A = c.divide(c_abs)\n",
    "        G_Ai = X.transpose().matrixMultiply(X).matrixInverse()\n",
    "        G1 = G_Ai.matrixMultiply(s_A)\n",
    "        A_A = s_A.project([0]).dotProduct(G1.project([0])).pow(-0.5)\n",
    "        w_A = G1.multiply(A_A)\n",
    "        u_A = X.matrixMultiply(w_A)\n",
    "\n",
    "        gamma = C_max.divide(A_A)\n",
    "        prediction = prediction.add(u_A.multiply(gamma))\n",
    "\n",
    "        return ee.Dictionary({'prediction': prediction, 'A': A})\n",
    "\n",
    "    # Actually carrying out the iterations by iterating over a placeholder list (sequence from 1 to the number of non-zero\n",
    "    # variables that the user wishes to select as predictors for the response)\n",
    "    iterations = ee.List.sequence(1, m.subtract(1).min(num_nonzero_coefficients))\n",
    "    print(iterations.getInfo())\n",
    "    \n",
    "    penultimate_outputs = iterations.iterate(LARs_regression, initial_inputs)\n",
    "    \n",
    "    final_outputs = ee.Dictionary(ee.Algorithms\\\n",
    "                    .If(num_nonzero_coefficients.gte(m), LARs_final_iteration(m, penultimate_outputs), penultimate_outputs))\n",
    "    \n",
    "    final_prediction = final_outputs.getArray('prediction')\n",
    "    \n",
    "    A = ee.List(final_outputs.get('A'))\n",
    "\n",
    "    feature_path = A.slice(0, num_nonzero_coefficients).map(lambda index: feature_list.getString(index))\n",
    "    \n",
    "    # The code snippet below is able to extract the exact coefficients on all of the selected features, but is commented out\n",
    "    # as it adds computational complexity that takes up unnecessary memory on the Google Earth Engine virtual machine since we\n",
    "    # are only using LARs as a feature selection algorithm\n",
    "\n",
    "#     coefficients = X.matrixSolve(final_prediction).project([0])\\\n",
    "#                               .toList().map(lambda num: ee.Algorithms.If(ee.Number(num).abs().lt(0.001), 0, num))\n",
    "#     print('Coefficients')\n",
    "#     coeff = ee.Dictionary.fromLists(featureList, coefficients).getInfo()\n",
    "#     ordered_coeff = OrderedDict()\n",
    "#     var_path = feature_path.cat(featureList.removeAll(feature_path)).getInfo()\n",
    "#     for key in var_path:\n",
    "#         ordered_coeff[key] = coeff[key]\n",
    "#     print(json.dumps(ordered_coeff, indent=1))\n",
    "\n",
    "    return feature_path"
   ]
  },
  {
   "cell_type": "code",
   "execution_count": 5,
   "metadata": {
    "jupyter": {
     "source_hidden": true
    },
    "tags": []
   },
   "outputs": [],
   "source": [
    "# -------------------\n",
    "# Trim data function:\n",
    "# -------------------\n",
    "# The following trims input data according to an algorithm in which the response band is partitioned into n equally sized\n",
    "# partitions, and each of the features selected by LARs are trimmed individually down to keep only the 5-95 percentile data\n",
    "# We are not doing any preprocessing with the data, so the raw data is exported from Earth Engine.\n",
    "# The function takes an image, a list of strings with the selected feature bands in the image, the name of the response\n",
    "# band in this image, the number of samples/pixels the user wants, and the number of parititions to trim within\n",
    "\n",
    "def trim_data(image, selected_features, response_band, num_samples, num_partitions):\n",
    "    image = ee.Image(image)\n",
    "    selected_features = ee.List(selected_features)\n",
    "    response_band = ee.String(response_band)\n",
    "    num_samples = ee.Number(num_samples)\n",
    "    num_partitions = ee.Number(num_partitions)\n",
    "    \n",
    "    # Generate the list of percentile bounds for the requested number of partitions, and the names of the value bounds for the\n",
    "    # dictionary that will be generated from the percentile reducer used later on\n",
    "    percentiles = ee.List.sequence(0, 100, ee.Number(100).divide(num_partitions))\n",
    "    percentile_names = percentiles.map(lambda num: ee.Number(num).round().toInt().format(\"p%s\"))\n",
    "    \n",
    "    # Randomly sample pixels in the input image into a FeatureCollection containing only selected features and response\n",
    "    image_pixels = ee.Number(get_num_pixels(image))\n",
    "    inputsCollection = image.select(selected_features.add(response_band)).sample(numPixels=num_samples.min(image_pixels))\n",
    "    \n",
    "    # Find the values at the percentile bounds using the percentile reducer over the feature collection\n",
    "    response_percentiles = inputsCollection.reduceColumns(ee.Reducer.percentile(percentiles=percentiles, \\\n",
    "                                        outputNames=percentile_names, maxRaw=inputsCollection.size()), [response_band])\n",
    "    \n",
    "    # Create a list of percentile bounds for each partition\n",
    "    response_partitions = response_percentiles.values(percentile_names.remove('p100'))\\\n",
    "                                .zip(response_percentiles.values(percentile_names.remove('p0')))\n",
    "    \n",
    "    # Use the following mapped over the response_partitions list to partition the data by the requested number of partitions\n",
    "    def partition_data(partition_range):\n",
    "        partition_range = ee.List(partition_range)\n",
    "        return inputsCollection.filter(ee.Filter \\\n",
    "                            .rangeContains(response_band, partition_range.getNumber(0), partition_range.getNumber(1)))\n",
    "    \n",
    "    partitioned_data = response_partitions.map(partition_data)\n",
    "    \n",
    "    # The following function now trims the data in each partition individually for each feature to its 5-95 percentile only\n",
    "    def trim_partitions(partition):\n",
    "        partition = ee.FeatureCollection(partition)\n",
    "        feature_trimming_bounds = selected_features.map(lambda feature: ee.List([feature]) \\\n",
    "                     .cat(partition.reduceColumns(ee.Reducer.percentile([5, 95]), [feature]).values(['p5','p95'])))\n",
    "        def trimmer(current_feature, collection):\n",
    "            current_feature = ee.List(current_feature)\n",
    "            collection = ee.FeatureCollection(collection)\n",
    "            return collection.filter(ee.Filter.rangeContains( \\\n",
    "                        current_feature.getString(0), current_feature.getNumber(1), current_feature.getNumber(2)))\n",
    "        return feature_trimming_bounds.iterate(trimmer, partition)\n",
    "    \n",
    "    # Retrieve the trimmed data partitions and flatten the paritions into a single trimmed feature collection\n",
    "    trimmed_partitions = partitioned_data.map(trim_partitions)\n",
    "    trimmed_data = ee.FeatureCollection(trimmed_partitions).flatten()\n",
    "    \n",
    "    return trimmed_data"
   ]
  },
  {
   "cell_type": "code",
   "execution_count": 6,
   "metadata": {
    "jupyter": {
     "source_hidden": true
    },
    "tags": []
   },
   "outputs": [],
   "source": [
    "def apply_nnet(inputs, keras_model):\n",
    "    activation_functions = {\n",
    "        \"elu\": elu,\n",
    "        \"softplus\": softplus,\n",
    "        \"softsign\": softsign,\n",
    "        \"relu\": relu,\n",
    "        \"tanh\": tanh,\n",
    "        \"sigmoid\": sigmoid}\n",
    "    \n",
    "    for layer in keras_model.layers:\n",
    "        layer_weights = layer.get_weights()\n",
    "        node_weights = layer_weights[0]\n",
    "        bias = layer_weights[1]\n",
    "        \n",
    "        inputs = inputs.dot(node_weights)+bias\n",
    "        \n",
    "        activation_function = layer.get_config()[\"activation\"]\n",
    "        if(activation_function != \"linear\"):\n",
    "            activation_function = activation_functions[activation_function]\n",
    "            inputs = activation_function(inputs)\n",
    "    \n",
    "    return inputs"
   ]
  },
  {
   "cell_type": "code",
   "execution_count": 7,
   "metadata": {
    "jupyter": {
     "source_hidden": true
    },
    "tags": []
   },
   "outputs": [],
   "source": [
    "# The following function exports the keras model in a way that can be parsed into a FeatureCollection in Earth Engine and applied to images manually\n",
    "\n",
    "def export_nnet(keras_model, X):\n",
    "    nnet_data = []\n",
    "    headers = []\n",
    "    prev_layer_size = len(X.keys())\n",
    "    layer_num = 0\n",
    "    \n",
    "    for layer in keras_model.layers:\n",
    "        layer_info = layer.get_config()\n",
    "        num_nodes = layer_info[\"units\"]\n",
    "        activation_function = layer_info[\"activation\"]\n",
    "        layer_weights = layer.get_weights()[0]\n",
    "        layer_bias = layer.get_weights()[1]\n",
    "        headers = list(set(headers) | set([x for x in range((prev_layer_size+1)*num_nodes)]))\n",
    "        layer_data = [0, 0, layer_num, prev_layer_size, num_nodes, activation_function] \\\n",
    "                            + layer_weights.flatten().tolist() + layer_bias.tolist()\n",
    "        nnet_data.append(layer_data)\n",
    "        \n",
    "        prev_layer_size = num_nodes\n",
    "        layer_num += 1\n",
    "        \n",
    "    nnet_data.insert(0, [\"latitude\", \"longitude\", \"layer_num\", \"prev_layer_size\", \"num_nodes\", \"activation\"]+headers)\n",
    "    return nnet_data"
   ]
  },
  {
   "cell_type": "code",
   "execution_count": 8,
   "metadata": {},
   "outputs": [],
   "source": [
    "# Set the test image using an uploaded asset for now\n",
    "testImage = ee.Image('users/kateharvey/i')\n",
    "# testImage = ee.Image('users/kateharvey/TestImage')\n",
    "\n",
    "# Change variable name here to match band name pattern (one of: Albedo, fAPAR, fCOVER, LAI, CCC, CWC, DASF)\n",
    "outputName = 'LAI'\n",
    "defaultBand = 'estimate'+outputName\n",
    "\n",
    "# order of bands:\n",
    "# 0-13: B1, B2, B3, B4, B5, B6, B7, B8, B8A, B9, B10, B11, B12, B13\n",
    "# 23: date\n",
    "# 27-33: QC, estimateLAI, partition, networkID, errorLAI, partition_1, networkID_1\n",
    "inputImage = ee.Image(testImage.select(1,2,3,7,23,27,28,29,30,31,32,33))\n",
    "inputImage = inputImage.rename(['B2', 'B3', 'B4', 'B8', 'date', 'QC', 'estimateLAI', 'partition', 'networkID', 'errorLAI', 'partition_1', 'networkID_1'])\n",
    "inputImage = inputImage.addBands(inputImage.select('B3').divide(10000), overwrite=True)\n",
    "inputImage = inputImage.addBands(inputImage.select('B4').divide(10000), overwrite=True)\n",
    "\n",
    "# List the bands that we expect in the image (ensure number of bands in the list below matches the number bands in the input image)\n",
    "# This is the order of bands produced by running SL2P10 and exporting the resulting ImageCollection\n",
    "inputImage_bands = ee.List(['B2', 'B3', 'B4', 'B8', 'date', 'QC', 'estimateLAI', 'partition', 'networkID', 'errorLAI', 'partition_1', 'networkID_1'])"
   ]
  },
  {
   "cell_type": "markdown",
   "metadata": {},
   "source": [
    "### Vegetation Indices Sources\n",
    "\n",
    "1. https://www.hindawi.com/journals/js/2017/1353691/tab1/\n",
    "2. https://www.hiphen-plant.com/blog/vegetation-indices/\n",
    "3. https://gisgeography.com/sentinel-2-bands-combinations/"
   ]
  },
  {
   "cell_type": "code",
   "execution_count": 9,
   "metadata": {},
   "outputs": [],
   "source": [
    "# Below we define a list of strings representing the expressions for each vegetation index as a function of the bands in the input image\n",
    "# More vegetation indices can be defined, but the list CANNOT contain any two vegetation indices which are a linear combination of each\n",
    "# other or LARs will fail to select the requested number of variables\n",
    "\n",
    "# The formatting of the expression must be\n",
    "# \"<name of VI> = <expression with band names from inputImage_bands used as variables in the form b('<band name>')\"\n",
    "\n",
    "# Only include VIs that use 10 m bands (B2, B3, B4, B8)\n",
    "input_VI_definition = ee.List([\"RAW_B2  = b('B2')\",\n",
    "                               \"RAW_B3  = b('B3')\",\n",
    "                               \"RAW_B4  = b('B4')\",\n",
    "                               \"RAW_B8  = b('B8')\",\n",
    "                               \"GI      = b('B3')/b('B4')\",\n",
    "                             # \"RVI3    = b('B4')/b('B6')\",\n",
    "                             # \"SR3     = b('B5')/b('B4')\",\n",
    "                             # \"GM1     = b('B6')/b('B3')\",\n",
    "                             # \"GM2     = b('B6')/b('B5')\",\n",
    "                             # \"SR2     = b('B7')/b('B3')\",\n",
    "                             # \"PSSR    = b('B7')/b('B4')\",\n",
    "                               \"SGI     = b('B8')/b('B4')\",\n",
    "                             # \"MSI     = b('B11')/b('B7')\",\n",
    "                             # \"II      = b('B11')/b('B12')\",\n",
    "                               \"GVI     = (b('B8')/b('B3'))-1\",\n",
    "                             # \"PSRI    = (b('B4')-b('B3'))/b('B6')\",\n",
    "                               \"NDVI3   = ((b('B8')-b('B4'))/(b('B8')))+b('B4')\",\n",
    "                             # \"SR5     = 1/b('B5')\",\n",
    "                             # \"SR6     = b('B4')/(b('B3')*b('B5'))\",\n",
    "                             # \"SR7     = b('B8')/(b('B3')*b('B5'))\",\n",
    "                             # \"IPVI    = b('B7')/(b('B7')+b('B4'))\",\n",
    "                             # \"ARI     = (1/b('B3'))-(1/b('B5'))\",\n",
    "                             # \"ARI2    = b('B7')*((1/b('B3'))-(1/b('B5')))\",\n",
    "                               \"NDVI    = (b('B8')-b('B4'))/(b('B8')+b('B4'))\",\n",
    "                               \"GNDVI   = (b('B8')-b('B3'))/(b('B8')+b('B3'))\",\n",
    "                             # \"NDWI    = (b('B8')-b('B11'))/(b('B8')+b('B11'))\",\n",
    "                             # \"NDREVI  = (b('B8')-b('B5'))/(b('B8')+b('B5'))\",\n",
    "                               \"NDGI    = (b('B3')-b('B4'))/(b('B3')+b('B4'))\",\n",
    "                             # \"NDI1    = (b('B7')-b('B5'))/(b('B7')-b('B4'))\",\n",
    "                             # \"NDI2    = (b('B8')-b('B5'))/(b('B8')-b('B4'))\",\n",
    "                             # \"RENDVI  = (b('B6')-b('B5'))/(b('B6')+b('B5'))\",\n",
    "                             # \"OSAVI   = (1.16*(b('B7')-b('B4')))/(b('B7')+b('B4')+0.61)\",\n",
    "                             # \"NMDI    = (b('B8')-(b('B11')-b('B12')))/(b('B8')+(b('B11')-b('B12')))\",\n",
    "                             # \"HI      = ((b('B3')-b('B5'))/(b('B3')+b('B5')))-0.5*b('B5')\",\n",
    "                             # \"GVSP    = (-0.283*b('B3') - 0.66*b('B4') + 0.577*b('B6') + 0.388*b('B8'))/(0.433*b('B3') - 0.632*b('B4') + 0.586*b('B6') + 0.264*b('B8A'))\",\n",
    "                             # \"MCARI   = ((b('B5')-b('B4'))-0.2*(b('B5')-b('B3')))*(b('B5')/b('B4'))\",\n",
    "                             # \"TCARI   = 3*((b('B5')-b('B4'))-0.2*(b('B5')-b('B3'))*(b('B5')/b('B4')))\",\n",
    "                               \"EVI     = 2.5*((b('B8')-b('B4'))/(b('B8')+6*b('B4')-7.5*b('B3')+1))\",\n",
    "                               \"EVI2    = 2.5*((b('B8')-b('B4'))/(b('B8')+2.4*b('B4')+1))\",\n",
    "                               \"RDVI    = (b('B8')-b('B4'))/((b('B8')+b('B4'))**0.5)\",\n",
    "                               \"MSR     = ((b('B8')/b('B4'))-1)/((b('B8')/b('B4'))**0.5+1)\",\n",
    "                             # \"MSAVI   = 0.5*(2*b('B7')+1-((2*b('B7')+1)**2-8*(b('B7')-b('B4')))**0.5)\",\n",
    "                               \"MSAVI2  = 0.5*(2*b('B8')+1-((2*b('B8')+1)**2-8*(b('B8')-b('B4')))**0.5)\",\n",
    "                             # \"MCARI2  = (1.5*(2.5*(b('B7')-b('B4'))-1.3*(b('B7')-b('B3'))))/((((2*b('B7')+1)**2)-(6*b('B7')-5*(b('B4')**0.5))-0.5)**0.5)\",\n",
    "                             # \"MTVI2   = (1.5*(1.2*(b('B7')-b('B3'))-2.5*(b('B4')-b('B3'))))/(((2*b('B7')+1)**2-(6*b('B7')-5*b('B4'))-0.5)**0.5)\",\n",
    "                             # \"MSR2    = ((b('B7')/b('B4'))-1)/(((b('B7')/b('B4'))+1)**0.5)\",\n",
    "                               \"NLI     = ((b('B8')**2)-b('B4'))/((b('B8')**2)+b('B4'))\"])"
   ]
  },
  {
   "cell_type": "markdown",
   "metadata": {},
   "source": [
    "In the following functions each input is recast to the expected data type as function parameter typing is not enforced in Earth Engine\n",
    "when defining functions, and later methods called on these parameters within the function must recognize the type of the parameter\n",
    "independently of other code"
   ]
  },
  {
   "cell_type": "code",
   "execution_count": 10,
   "metadata": {},
   "outputs": [],
   "source": [
    "inputImage = format_image(inputImage, inputImage_bands, 'estimateLAI', input_VI_definition)"
   ]
  },
  {
   "cell_type": "code",
   "execution_count": 11,
   "metadata": {},
   "outputs": [],
   "source": [
    "num_input_pixels = get_num_pixels(inputImage)"
   ]
  },
  {
   "cell_type": "markdown",
   "metadata": {},
   "source": [
    "Full image with bands: 'RAW_B2', 'RAW_B3', 'RAW_B4', 'RAW_B8', 'GI', 'SGI', 'GVI', 'NDVI3', 'NDVI', 'GNDVI', 'NDGI', 'EVI', 'EVI2', 'RDVI', 'MSR', 'MSAVI2', 'NLI', 'B2', 'B3', 'B4', 'B8', 'date', 'QC', 'partition', 'networkID', 'errorLAI', 'partition_1', 'networkID_1', 'estimateLAI'"
   ]
  },
  {
   "cell_type": "code",
   "execution_count": 12,
   "metadata": {},
   "outputs": [],
   "source": [
    "scaledImage = scale_image(inputImage, 'estimateLAI')\n",
    "# print(scaledImage.bandNames().getInfo())"
   ]
  },
  {
   "cell_type": "code",
   "execution_count": 13,
   "metadata": {},
   "outputs": [],
   "source": [
    "input_bandNames = ['B2', 'B3', 'B4', 'B8', 'GI', 'SGI', 'GVI', 'NDVI3', 'NDVI',\n",
    "                   'GNDVI', 'NDGI', 'EVI', 'EVI2', 'RDVI', 'MSR', 'MSAVI2', 'NLI']"
   ]
  },
  {
   "cell_type": "code",
   "execution_count": 14,
   "metadata": {
    "scrolled": true
   },
   "outputs": [
    {
     "name": "stdout",
     "output_type": "stream",
     "text": [
      "[1, 2, 3, 4, 5]\n",
      "['MSR', 'GVI', 'B8', 'NDGI', 'EVI2']\n"
     ]
    }
   ],
   "source": [
    "select_features = ee_LARS(scaledImage, input_bandNames, 'estimateLAI', 5, 1000)\n",
    "print(select_features.getInfo())"
   ]
  },
  {
   "cell_type": "markdown",
   "metadata": {},
   "source": [
    "# Scikit learn implementation of LARs:"
   ]
  },
  {
   "cell_type": "code",
   "execution_count": 15,
   "metadata": {},
   "outputs": [
    {
     "name": "stdout",
     "output_type": "stream",
     "text": [
      "READY\n",
      "RUNNING\n",
      "COMPLETED\n"
     ]
    }
   ],
   "source": [
    "# Export all bands to CSV\n",
    "trimmedCollection = trim_data(image=inputImage.updateMask(inputImage.select('estimateLAI').gt(0)),\n",
    "                                  selected_features=input_bandNames,\n",
    "                                  response_band='estimateLAI',\n",
    "                                  num_samples=50000,\n",
    "                                  num_partitions=10)\n",
    "\n",
    "exportDataTest = ee.batch.Export.table.toDrive(collection=trimmedCollection,\n",
    "                                           description=\"skl_test_image_data_samples\",\n",
    "                                           fileFormat=\"CSV\")\n",
    "\n",
    "# Starting the export data task\n",
    "exportDataTest.start()\n",
    "prev_task_status = ee.data.getTaskStatus(exportDataTest.id)[0][\"state\"]\n",
    "print(prev_task_status)\n",
    "while exportDataTest.active():\n",
    "    task_status = ee.data.getTaskStatus(exportDataTest.id)[0][\"state\"]\n",
    "    if(task_status != prev_task_status):\n",
    "        print(task_status)\n",
    "    prev_task_status = task_status\n",
    "    time.sleep(5)\n",
    "print(ee.data.getTaskStatus(exportDataTest.id)[0][\"state\"])"
   ]
  },
  {
   "cell_type": "code",
   "execution_count": 22,
   "metadata": {},
   "outputs": [],
   "source": [
    "trimmed_data_test = pd.read_csv('./gdrive/skl_test_image_data_samples.csv')\n",
    "X_test = trimmed_data_test.drop(labels=['estimateLAI', 'system:index', '.geo'], axis=1)\n",
    "y_test = trimmed_data_test.estimateLAI"
   ]
  },
  {
   "cell_type": "code",
   "execution_count": 23,
   "metadata": {},
   "outputs": [],
   "source": [
    "X_test = pd.DataFrame(skl.preprocessing.scale(X_test))"
   ]
  },
  {
   "cell_type": "code",
   "execution_count": 24,
   "metadata": {},
   "outputs": [],
   "source": [
    "skl_lars = linear_model.Lars(n_nonzero_coefs=6, normalize=True)\n",
    "skl_lars = skl_lars.fit(X_test, y_test)"
   ]
  },
  {
   "cell_type": "code",
   "execution_count": 25,
   "metadata": {},
   "outputs": [
    {
     "name": "stdout",
     "output_type": "stream",
     "text": [
      "     0             1             2             3              4  \\\n",
      "0  0.0      0.000000      0.000000  20809.099944   35339.842175   \n",
      "1  0.0      0.000000      0.000000      0.000000       0.000000   \n",
      "2  0.0  28968.921479  53822.170413  54627.118199  181509.884736   \n",
      "3  0.0      0.000000  24853.248934  44985.467144 -150164.962713   \n",
      "4  0.0      0.000000      0.000000      0.000000   94936.049143   \n",
      "\n",
      "               5             6  \n",
      "0   30279.886936  1.053453e+05  \n",
      "1       0.000000 -1.042038e+05  \n",
      "2  705233.241395  2.280319e+06  \n",
      "3 -976308.193850 -3.479636e+06  \n",
      "4  434959.057538  1.485913e+06  \n"
     ]
    }
   ],
   "source": [
    "coef_path = pd.DataFrame(skl_lars.coef_path_).set_axis(X_test.columns, axis='index')\n",
    "print(coef_path)"
   ]
  },
  {
   "cell_type": "markdown",
   "metadata": {},
   "source": [
    "# Forcing 10 m band selection:"
   ]
  },
  {
   "cell_type": "code",
   "execution_count": 26,
   "metadata": {},
   "outputs": [
    {
     "name": "stderr",
     "output_type": "stream",
     "text": [
      "2021-10-29 15:49:05.377310: I tensorflow/core/platform/cpu_feature_guard.cc:142] This TensorFlow binary is optimized with oneAPI Deep Neural Network Library (oneDNN) to use the following CPU instructions in performance-critical operations:  SSE4.1 SSE4.2 AVX AVX2 FMA\n",
      "To enable them in other operations, rebuild TensorFlow with the appropriate compiler flags.\n"
     ]
    }
   ],
   "source": [
    "LAI_model_test = tf.keras.models.Sequential([\n",
    "    tf.keras.layers.Dense(5, input_shape=[len(X_test.keys())]),\n",
    "    tf.keras.layers.Dense(4, activation=\"softsign\"),\n",
    "    tf.keras.layers.Dense(3, activation=\"softsign\"),\n",
    "    tf.keras.layers.Dense(2, activation=\"softsign\"),\n",
    "    tf.keras.layers.Dense(1)\n",
    "])"
   ]
  },
  {
   "cell_type": "code",
   "execution_count": 27,
   "metadata": {},
   "outputs": [],
   "source": [
    "LAI_model_test.compile(optimizer=tf.keras.optimizers.Nadam(), loss='mse', metrics=['mse', 'mae'])"
   ]
  },
  {
   "cell_type": "code",
   "execution_count": 28,
   "metadata": {},
   "outputs": [
    {
     "name": "stderr",
     "output_type": "stream",
     "text": [
      "2021-10-29 15:49:09.648628: I tensorflow/compiler/mlir/mlir_graph_optimization_pass.cc:116] None of the MLIR optimization passes are enabled (registered 2)\n"
     ]
    },
    {
     "name": "stdout",
     "output_type": "stream",
     "text": [
      "Epoch 1/100\n",
      "863/863 [==============================] - 4s 2ms/step - loss: 7893093.7535 - mse: 7893093.7535 - mae: 2658.2478\n",
      "Epoch 2/100\n",
      "863/863 [==============================] - 3s 3ms/step - loss: 7790051.5486 - mse: 7790051.5486 - mae: 2638.0045\n",
      "Epoch 3/100\n",
      "863/863 [==============================] - 2s 2ms/step - loss: 7749430.8171 - mse: 7749430.8171 - mae: 2630.0906\n",
      "Epoch 4/100\n",
      "863/863 [==============================] - 2s 2ms/step - loss: 7763620.4624 - mse: 7763620.4624 - mae: 2632.3207: 0s - loss: 7764438.3947 - mse: 7764438.3947 - \n",
      "Epoch 5/100\n",
      "863/863 [==============================] - 2s 2ms/step - loss: 7660958.3125 - mse: 7660958.3125 - mae: 2611.3260\n",
      "Epoch 6/100\n",
      "863/863 [==============================] - 2s 2ms/step - loss: 7712520.0509 - mse: 7712520.0509 - mae: 2622.2266\n",
      "Epoch 7/100\n",
      "863/863 [==============================] - 2s 2ms/step - loss: 7743571.9462 - mse: 7743571.9462 - mae: 2627.7896\n",
      "Epoch 8/100\n",
      "863/863 [==============================] - 2s 2ms/step - loss: 7748379.2755 - mse: 7748379.2755 - mae: 2628.6622\n",
      "Epoch 9/100\n",
      "863/863 [==============================] - 2s 2ms/step - loss: 7719966.5162 - mse: 7719966.5162 - mae: 2626.1201\n",
      "Epoch 10/100\n",
      "863/863 [==============================] - 2s 2ms/step - loss: 7678942.6325 - mse: 7678942.6325 - mae: 2614.3582\n",
      "Epoch 11/100\n",
      "863/863 [==============================] - 2s 3ms/step - loss: 7708954.4196 - mse: 7708954.4196 - mae: 2620.9333: 1s - l\n",
      "Epoch 12/100\n",
      "863/863 [==============================] - 3s 4ms/step - loss: 7622541.0874 - mse: 7622541.0874 - mae: 2604.1316\n",
      "Epoch 13/100\n",
      "863/863 [==============================] - 3s 4ms/step - loss: 7620560.5955 - mse: 7620560.5955 - mae: 2603.5978\n",
      "Epoch 14/100\n",
      "863/863 [==============================] - 3s 4ms/step - loss: 7623756.0718 - mse: 7623756.0718 - mae: 2605.8554\n",
      "Epoch 15/100\n",
      "863/863 [==============================] - 3s 3ms/step - loss: 7577196.8953 - mse: 7577196.8953 - mae: 2596.5921\n",
      "Epoch 16/100\n",
      "863/863 [==============================] - 3s 4ms/step - loss: 7595131.1470 - mse: 7595131.1470 - mae: 2598.9920\n",
      "Epoch 17/100\n",
      "863/863 [==============================] - 3s 4ms/step - loss: 7592279.4913 - mse: 7592279.4913 - mae: 2599.9487: 0s - loss: 7592477.0944 - mse: 7592477.0944 - mae: 2599.\n",
      "Epoch 18/100\n",
      "863/863 [==============================] - 3s 3ms/step - loss: 7568585.8067 - mse: 7568585.8067 - mae: 2596.3145\n",
      "Epoch 19/100\n",
      "863/863 [==============================] - 3s 4ms/step - loss: 7581827.8843 - mse: 7581827.8843 - mae: 2596.3696\n",
      "Epoch 20/100\n",
      "863/863 [==============================] - 3s 3ms/step - loss: 7552691.4890 - mse: 7552691.4890 - mae: 2592.3008\n",
      "Epoch 21/100\n",
      "863/863 [==============================] - 2s 3ms/step - loss: 7550669.2014 - mse: 7550669.2014 - mae: 2591.3813\n",
      "Epoch 22/100\n",
      "863/863 [==============================] - 2s 3ms/step - loss: 7553159.1030 - mse: 7553159.1030 - mae: 2593.2570\n",
      "Epoch 23/100\n",
      "863/863 [==============================] - 5s 6ms/step - loss: 7448542.7159 - mse: 7448542.7159 - mae: 2570.2359: 4s - loss: 7402518.3941 -  - ETA: 2s - loss: 7428687.5961 -  - ETA: 1s - loss: 7438884.6637 \n",
      "Epoch 24/100\n",
      "863/863 [==============================] - 3s 3ms/step - loss: 7475739.9039 - mse: 7475739.9039 - mae: 2577.7299\n",
      "Epoch 25/100\n",
      "863/863 [==============================] - 3s 4ms/step - loss: 7453534.1534 - mse: 7453534.1534 - mae: 2573.0815\n",
      "Epoch 26/100\n",
      "863/863 [==============================] - 4s 4ms/step - loss: 7449599.8050 - mse: 7449599.8050 - mae: 2570.8962\n",
      "Epoch 27/100\n",
      "863/863 [==============================] - 3s 3ms/step - loss: 7483668.3519 - mse: 7483668.3519 - mae: 2578.1999\n",
      "Epoch 28/100\n",
      "863/863 [==============================] - 3s 3ms/step - loss: 7408576.5179 - mse: 7408576.5179 - mae: 2565.3071\n",
      "Epoch 29/100\n",
      "863/863 [==============================] - 3s 3ms/step - loss: 7448755.1458 - mse: 7448755.1458 - mae: 2570.5037\n",
      "Epoch 30/100\n",
      "863/863 [==============================] - 2s 3ms/step - loss: 7372724.5666 - mse: 7372724.5666 - mae: 2555.1502\n",
      "Epoch 31/100\n",
      "863/863 [==============================] - 2s 2ms/step - loss: 7455139.1713 - mse: 7455139.1713 - mae: 2571.9362\n",
      "Epoch 32/100\n",
      "863/863 [==============================] - 2s 2ms/step - loss: 7345024.8229 - mse: 7345024.8229 - mae: 2550.7811\n",
      "Epoch 33/100\n",
      "863/863 [==============================] - 3s 3ms/step - loss: 7357686.1678 - mse: 7357686.1678 - mae: 2549.4356\n",
      "Epoch 34/100\n",
      "863/863 [==============================] - 3s 3ms/step - loss: 7342788.8200 - mse: 7342788.8200 - mae: 2551.3032\n",
      "Epoch 35/100\n",
      "863/863 [==============================] - 2s 3ms/step - loss: 7298719.1690 - mse: 7298719.1690 - mae: 2542.0965\n",
      "Epoch 36/100\n",
      "863/863 [==============================] - 3s 4ms/step - loss: 7321892.7894 - mse: 7321892.7894 - mae: 2546.4591\n",
      "Epoch 37/100\n",
      "863/863 [==============================] - 3s 3ms/step - loss: 7258406.1863 - mse: 7258406.1863 - mae: 2536.3927\n",
      "Epoch 38/100\n",
      "863/863 [==============================] - 3s 4ms/step - loss: 7299073.9277 - mse: 7299073.9277 - mae: 2540.1190\n",
      "Epoch 39/100\n",
      "863/863 [==============================] - 3s 4ms/step - loss: 7247443.0347 - mse: 7247443.0347 - mae: 2531.5251\n",
      "Epoch 40/100\n",
      "863/863 [==============================] - 2s 3ms/step - loss: 7232311.0752 - mse: 7232311.0752 - mae: 2528.1480\n",
      "Epoch 41/100\n",
      "863/863 [==============================] - 2s 3ms/step - loss: 7269838.4253 - mse: 7269838.4253 - mae: 2536.8461: \n",
      "Epoch 42/100\n",
      "863/863 [==============================] - 2s 3ms/step - loss: 7248545.6667 - mse: 7248545.6667 - mae: 2530.5387\n",
      "Epoch 43/100\n",
      "863/863 [==============================] - 2s 3ms/step - loss: 7242528.0851 - mse: 7242528.0851 - mae: 2532.1629\n",
      "Epoch 44/100\n",
      "863/863 [==============================] - 3s 3ms/step - loss: 7226782.8501 - mse: 7226782.8501 - mae: 2530.3626\n",
      "Epoch 45/100\n",
      "863/863 [==============================] - 3s 3ms/step - loss: 7221160.0382 - mse: 7221160.0382 - mae: 2526.3267\n",
      "Epoch 46/100\n",
      "863/863 [==============================] - 3s 3ms/step - loss: 7218546.1383 - mse: 7218546.1383 - mae: 2527.5990\n",
      "Epoch 47/100\n",
      "863/863 [==============================] - 2s 3ms/step - loss: 7214908.4421 - mse: 7214908.4421 - mae: 2525.9785\n",
      "Epoch 48/100\n",
      "863/863 [==============================] - 2s 3ms/step - loss: 7170811.6343 - mse: 7170811.6343 - mae: 2517.4797: 0s - loss: 7175409.7686 - ms\n",
      "Epoch 49/100\n",
      "863/863 [==============================] - 3s 3ms/step - loss: 7167590.6534 - mse: 7167590.6534 - mae: 2515.5445\n",
      "Epoch 50/100\n",
      "863/863 [==============================] - 3s 3ms/step - loss: 7096587.7535 - mse: 7096587.7535 - mae: 2502.5887: 0s - loss: 7090687.8241 - mse: 7090687.8\n",
      "Epoch 51/100\n",
      "863/863 [==============================] - 3s 3ms/step - loss: 7157831.1094 - mse: 7157831.1094 - mae: 2513.9653\n",
      "Epoch 52/100\n",
      "863/863 [==============================] - 4s 4ms/step - loss: 7123301.6273 - mse: 7123301.6273 - mae: 2506.5656\n",
      "Epoch 53/100\n",
      "863/863 [==============================] - 3s 3ms/step - loss: 7104817.2691 - mse: 7104817.2691 - mae: 2505.9583\n",
      "Epoch 54/100\n",
      "863/863 [==============================] - 2s 3ms/step - loss: 7098013.0295 - mse: 7098013.0295 - mae: 2504.1358\n",
      "Epoch 55/100\n",
      "863/863 [==============================] - 4s 4ms/step - loss: 7052212.2274 - mse: 7052212.2274 - mae: 2493.3708\n",
      "Epoch 56/100\n",
      "863/863 [==============================] - 3s 4ms/step - loss: 7053033.8657 - mse: 7053033.8657 - mae: 2493.6043\n",
      "Epoch 57/100\n",
      "863/863 [==============================] - 4s 4ms/step - loss: 7075109.8241 - mse: 7075109.8241 - mae: 2497.8249\n",
      "Epoch 58/100\n",
      "863/863 [==============================] - 5s 5ms/step - loss: 6991551.5735 - mse: 6991551.5735 - mae: 2482.3191\n",
      "Epoch 59/100\n",
      "863/863 [==============================] - 5s 6ms/step - loss: 6983530.0995 - mse: 6983530.0995 - mae: 2478.0554\n",
      "Epoch 60/100\n",
      "863/863 [==============================] - 7s 9ms/step - loss: 7024889.0938 - mse: 7024889.0938 - mae: 2490.2738\n",
      "Epoch 61/100\n",
      "863/863 [==============================] - 4s 5ms/step - loss: 6953830.5550 - mse: 6953830.5550 - mae: 2472.4955\n",
      "Epoch 62/100\n",
      "863/863 [==============================] - 3s 4ms/step - loss: 6922779.5179 - mse: 6922779.5179 - mae: 2469.3847\n",
      "Epoch 63/100\n",
      "863/863 [==============================] - 4s 4ms/step - loss: 6967594.8044 - mse: 6967594.8044 - mae: 2475.5873\n",
      "Epoch 64/100\n",
      "863/863 [==============================] - 3s 4ms/step - loss: 6974963.1568 - mse: 6974963.1568 - mae: 2477.0831\n",
      "Epoch 65/100\n",
      "863/863 [==============================] - 3s 3ms/step - loss: 6929800.2112 - mse: 6929800.2112 - mae: 2469.7988: 0s - loss: 6925787.7126 - ms\n",
      "Epoch 66/100\n",
      "863/863 [==============================] - 3s 3ms/step - loss: 6946433.0590 - mse: 6946433.0590 - mae: 2472.6630\n",
      "Epoch 67/100\n",
      "863/863 [==============================] - 2s 3ms/step - loss: 6953999.4792 - mse: 6953999.4792 - mae: 2471.9658\n",
      "Epoch 68/100\n",
      "863/863 [==============================] - 2s 3ms/step - loss: 6911556.2691 - mse: 6911556.2691 - mae: 2464.9233\n",
      "Epoch 69/100\n",
      "863/863 [==============================] - 2s 3ms/step - loss: 6952595.6771 - mse: 6952595.6771 - mae: 2472.4390\n",
      "Epoch 70/100\n",
      "863/863 [==============================] - 2s 3ms/step - loss: 6847656.6539 - mse: 6847656.6539 - mae: 2452.0149\n",
      "Epoch 71/100\n",
      "863/863 [==============================] - 3s 3ms/step - loss: 6906052.9005 - mse: 6906052.9005 - mae: 2463.0009\n",
      "Epoch 72/100\n",
      "863/863 [==============================] - 3s 3ms/step - loss: 6897073.7135 - mse: 6897073.7135 - mae: 2463.4833\n",
      "Epoch 73/100\n",
      "863/863 [==============================] - 3s 3ms/step - loss: 6869472.7905 - mse: 6869472.7905 - mae: 2455.3135\n",
      "Epoch 74/100\n",
      "863/863 [==============================] - 3s 3ms/step - loss: 6837859.2130 - mse: 6837859.2130 - mae: 2448.8794\n",
      "Epoch 75/100\n",
      "863/863 [==============================] - 3s 4ms/step - loss: 6854045.8420 - mse: 6854045.8420 - mae: 2454.5871\n",
      "Epoch 76/100\n",
      "863/863 [==============================] - 3s 3ms/step - loss: 6796311.7708 - mse: 6796311.7708 - mae: 2441.8435\n",
      "Epoch 77/100\n",
      "863/863 [==============================] - 2s 3ms/step - loss: 6801670.7986 - mse: 6801670.7986 - mae: 2441.7476\n",
      "Epoch 78/100\n",
      "863/863 [==============================] - 3s 3ms/step - loss: 6774177.0972 - mse: 6774177.0972 - mae: 2439.3557\n",
      "Epoch 79/100\n",
      "863/863 [==============================] - 3s 3ms/step - loss: 6779761.9508 - mse: 6779761.9508 - mae: 2435.8106\n",
      "Epoch 80/100\n",
      "863/863 [==============================] - 3s 3ms/step - loss: 6770618.3160 - mse: 6770618.3160 - mae: 2435.3752\n",
      "Epoch 81/100\n",
      "863/863 [==============================] - 3s 3ms/step - loss: 6744077.5029 - mse: 6744077.5029 - mae: 2430.5316\n",
      "Epoch 82/100\n",
      "863/863 [==============================] - 3s 3ms/step - loss: 6736312.3744 - mse: 6736312.3744 - mae: 2428.0009\n",
      "Epoch 83/100\n",
      "863/863 [==============================] - 3s 4ms/step - loss: 6740612.5052 - mse: 6740612.5052 - mae: 2428.5520\n",
      "Epoch 84/100\n",
      "863/863 [==============================] - 3s 3ms/step - loss: 6718322.2049 - mse: 6718322.2049 - mae: 2424.4327\n",
      "Epoch 85/100\n",
      "863/863 [==============================] - 2s 2ms/step - loss: 6706757.1800 - mse: 6706757.1800 - mae: 2421.5723: 1s -\n",
      "Epoch 86/100\n",
      "863/863 [==============================] - 2s 3ms/step - loss: 6605651.3715 - mse: 6605651.3715 - mae: 2402.6310\n",
      "Epoch 87/100\n",
      "863/863 [==============================] - 3s 4ms/step - loss: 6650952.4682 - mse: 6650952.4682 - mae: 2410.7036: 0s - loss: 6644417.0\n",
      "Epoch 88/100\n",
      "863/863 [==============================] - 4s 4ms/step - loss: 6657400.1499 - mse: 6657400.1499 - mae: 2413.1385\n",
      "Epoch 89/100\n",
      "863/863 [==============================] - 4s 4ms/step - loss: 6655696.4352 - mse: 6655696.4352 - mae: 2412.0274: 0s - loss: 6657483.7658 - mse: 6\n",
      "Epoch 90/100\n",
      "863/863 [==============================] - 3s 3ms/step - loss: 6665062.7378 - mse: 6665062.7378 - mae: 2414.3838\n",
      "Epoch 91/100\n",
      "863/863 [==============================] - 3s 4ms/step - loss: 6622036.1620 - mse: 6622036.1620 - mae: 2404.6422\n",
      "Epoch 92/100\n",
      "863/863 [==============================] - 3s 4ms/step - loss: 6610885.7297 - mse: 6610885.7297 - mae: 2404.6495\n",
      "Epoch 93/100\n",
      "863/863 [==============================] - 4s 5ms/step - loss: 6597640.0012 - mse: 6597640.0012 - mae: 2402.1710\n",
      "Epoch 94/100\n",
      "863/863 [==============================] - 3s 4ms/step - loss: 6621597.5637 - mse: 6621597.5637 - mae: 2407.0810\n",
      "Epoch 95/100\n",
      "863/863 [==============================] - 3s 3ms/step - loss: 6588887.9132 - mse: 6588887.9132 - mae: 2399.1517\n",
      "Epoch 96/100\n",
      "863/863 [==============================] - 3s 3ms/step - loss: 6507430.8229 - mse: 6507430.8229 - mae: 2383.0152\n",
      "Epoch 97/100\n",
      "863/863 [==============================] - 3s 4ms/step - loss: 6533946.6910 - mse: 6533946.6910 - mae: 2385.9637\n",
      "Epoch 98/100\n",
      "863/863 [==============================] - 3s 4ms/step - loss: 6506844.3744 - mse: 6506844.3744 - mae: 2380.7955\n",
      "Epoch 99/100\n",
      "863/863 [==============================] - 3s 3ms/step - loss: 6567993.0197 - mse: 6567993.0197 - mae: 2394.2483\n",
      "Epoch 100/100\n",
      "863/863 [==============================] - 3s 3ms/step - loss: 6461522.9294 - mse: 6461522.9294 - mae: 2372.5729\n"
     ]
    },
    {
     "data": {
      "text/plain": [
       "<tensorflow.python.keras.callbacks.History at 0x160abb1c0>"
      ]
     },
     "execution_count": 28,
     "metadata": {},
     "output_type": "execute_result"
    }
   ],
   "source": [
    "# Fitting the model to our trimmed data\n",
    "LAI_model_test.fit(x=X_test.to_numpy(), y=y_test.to_numpy(), epochs=100)"
   ]
  },
  {
   "cell_type": "markdown",
   "metadata": {},
   "source": [
    "Currently the trimmed data is processed then in a neural network created using tensorflow to find nonlinear relationships between the predictor and the response. Earth Engine does not have this functionality (for free) to generate neural network based models.\n",
    "\n",
    "Here we also see how the server side in the Earth Engine API is completely separate from the client side on the local machine. We need\n",
    "to export our trimmed data as a CSV to a google drive which is synced into the \"gdrive\" folder in our local machine using the \n",
    "Backup and Sync software or using google-drive-ocamlfuse on Linux"
   ]
  },
  {
   "cell_type": "code",
   "execution_count": 29,
   "metadata": {},
   "outputs": [],
   "source": [
    "# Predicting our own input data to evaluate the performance (for now)\n",
    "LAI_predictions_test = pd.Series(LAI_model_test.predict(X_test.to_numpy()).flatten())\n",
    "\n",
    "# Prepare data to display as a scatterplot\n",
    "xy_tf_LAI_test = np.vstack([y_test, LAI_predictions_test])\n",
    "z_tf_LAI_test = scipy.stats.gaussian_kde(xy_tf_LAI_test)(xy_tf_LAI_test)\n",
    "\n",
    "idx_tf_LAI_test = z_tf_LAI_test.argsort()\n",
    "x_tf_LAI_test = y_test[idx_tf_LAI_test]\n",
    "y_tf_LAI_test = LAI_predictions_test[idx_tf_LAI_test]\n",
    "z_tf_LAI_test = z_tf_LAI_test[idx_tf_LAI_test]\n",
    "\n",
    "rmse_tf_LAI_test = skl.metrics.mean_squared_error(x_tf_LAI_test, y_tf_LAI_test, squared=False)"
   ]
  },
  {
   "cell_type": "code",
   "execution_count": 30,
   "metadata": {},
   "outputs": [
    {
     "name": "stdout",
     "output_type": "stream",
     "text": [
      "              0         1         2         3         4\n",
      "0     -1.144532 -0.889711 -1.225728 -1.301641 -1.310889\n",
      "1     -1.207415 -1.030832 -1.368178 -1.437579 -1.452709\n",
      "2     -1.612807 -1.746788 -1.650146 -1.747250 -1.909549\n",
      "3     -0.171859 -0.397784 -1.324070 -1.611109 -2.300504\n",
      "4     -1.267622 -1.157628 -1.230215 -1.531978 -2.209569\n",
      "...         ...       ...       ...       ...       ...\n",
      "27580  1.009532  0.716587  0.390356  0.289533  0.231692\n",
      "27581  1.242331  0.855653  1.056442  1.148636  1.020992\n",
      "27582  0.707160  0.654877  0.784429  0.920358  0.923397\n",
      "27583  0.984111  0.768540  1.065088  1.128684  0.983956\n",
      "27584  1.063049  0.780774  0.981414  0.870585  0.658609\n",
      "\n",
      "[27585 rows x 5 columns]\n",
      "0        1376.0\n",
      "1        1212.0\n",
      "2        1218.0\n",
      "3        1230.0\n",
      "4        1005.0\n",
      "          ...  \n",
      "27580    4187.0\n",
      "27581    4001.0\n",
      "27582    3879.0\n",
      "27583    3896.0\n",
      "27584    4069.0\n",
      "Name: estimateLAI, Length: 27585, dtype: float64\n"
     ]
    },
    {
     "data": {
      "image/png": "[encoded data removed]",
      "text/plain": [
       "<Figure size 720x720 with 1 Axes>"
      ]
     },
     "metadata": {
      "needs_background": "light"
     },
     "output_type": "display_data"
    }
   ],
   "source": [
    "print(X_test)\n",
    "print(y_test)\n",
    "\n",
    "a_tf_LAI_test = np.linspace(0, 3, 1000)\n",
    "fig_test, ax_test = plt.subplots(1, 1, figsize=(10,10))\n",
    "\n",
    "ax_test.scatter(x_tf_LAI_test, y_tf_LAI_test, c=z_tf_LAI_test)\n",
    "ax_test.plot(a_tf_LAI_test, a_tf_LAI_test, c='r')\n",
    "ax_test.title.set_text('LASSO LARS (ALL BANDS) - RMSE: {}'.format(rmse_tf_LAI_test))"
   ]
  },
  {
   "cell_type": "markdown",
   "metadata": {},
   "source": [
    "Early attempts to use the output of the kerasModel.get_weights() to apply the neural network weights manually"
   ]
  },
  {
   "cell_type": "code",
   "execution_count": null,
   "metadata": {
    "scrolled": true
   },
   "outputs": [],
   "source": [
    "LAI_model.get_weights()"
   ]
  },
  {
   "cell_type": "code",
   "execution_count": null,
   "metadata": {},
   "outputs": [],
   "source": [
    "elu = np.vectorize(alr.elu)\n",
    "softplus = np.vectorize(alr.softplus)\n",
    "softsign = np.vectorize(alr.softsign)\n",
    "relu = np.vectorize(alr.relu)\n",
    "tanh = np.vectorize(alr.tanh)\n",
    "sigmoid = np.vectorize(alr.sigmoid)"
   ]
  },
  {
   "cell_type": "code",
   "execution_count": null,
   "metadata": {},
   "outputs": [],
   "source": [
    "row = 4802\n",
    "inputs = X.iloc[row, :].to_numpy()\n",
    "print(LAI_model.predict(inputs.reshape((-1,5)))[0][0])\n",
    "print(alr.apply_nnet(inputs, LAI_model)[0])"
   ]
  },
  {
   "cell_type": "code",
   "execution_count": null,
   "metadata": {},
   "outputs": [],
   "source": [
    "# Writing the neural network to a CSV file to be uploaded to the server side on Google Earth Engine\n",
    "export_data = alr.export_nnet(LAI_model, X)\n",
    "with open('nnet.csv', 'w', newline='') as csvfile:\n",
    "    nnet_writer = csv.writer(csvfile)\n",
    "    for layerdata in export_data:\n",
    "        nnet_writer.writerow(layerdata)"
   ]
  },
  {
   "cell_type": "raw",
   "metadata": {},
   "source": [
    "Currently, I have not found a way to automatically upload a file as an asset into Google Earth Engine from a local script. There is a command in the Earth Engine command line interface that allows you to upload an asset from cloud storage, although cloud storage is not free. There may be a workaround way to upload the file from Google Drive directly to Earth Engine, but even that would use the Google Drive API which is a part of Google Cloud, so it will not be free. It seems the network must be uploaded manually for now."
   ]
  }
 ],
 "metadata": {
  "colab": {
   "name": "LAI_FAPAR_FCOVER_Prediction.ipynb",
   "provenance": []
  },
  "kernelspec": {
   "display_name": "Python 3 (ipykernel)",
   "language": "python",
   "name": "python3"
  },
  "language_info": {
   "codemirror_mode": {
    "name": "ipython",
    "version": 3
   },
   "file_extension": ".py",
   "mimetype": "text/x-python",
   "name": "python",
   "nbconvert_exporter": "python",
   "pygments_lexer": "ipython3",
   "version": "3.9.7"
  },
  "pycharm": {
   "stem_cell": {
    "cell_type": "raw",
    "metadata": {
     "collapsed": false
    },
    "source": []
   }
  }
 },
 "nbformat": 4,
 "nbformat_minor": 4
}
