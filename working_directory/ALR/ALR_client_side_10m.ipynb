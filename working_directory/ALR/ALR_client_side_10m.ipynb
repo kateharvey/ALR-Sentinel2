{
 "cells": [
  {
   "cell_type": "markdown",
   "metadata": {},
   "source": [
    "## ALR Client Side\n",
    "\n",
    "This notebook is a copy similar to ALR_Client_Side found in:\n",
    "https://github.com/rfernand387/ALR_Earth_Engine/blob/master/ALR_Client_Side.ipynb\n",
    "\n",
    "Modifications have been made to accept an EE image with 10 m resolution bands that has been outputted from SL2P10_control.ipynb:\n",
    "https://github.com/kateharvey/Sentinel2_ALR/blob/main/shared/SL2P10_control.ipynb"
   ]
  },
  {
   "cell_type": "code",
   "execution_count": 10,
   "metadata": {},
   "outputs": [
    {
     "data": {
      "text/html": [
       "<p>To authorize access needed by Earth Engine, open the following\n",
       "        URL in a web browser and follow the instructions:</p>\n",
       "        <p><a href=https://accounts.google.com/o/oauth2/auth?client_id=517222506229-vsmmajv00ul0bs7p89v5m89qs8eb9359.apps.googleusercontent.com&scope=https%3A%2F%2Fwww.googleapis.com%2Fauth%2Fearthengine+https%3A%2F%2Fwww.googleapis.com%2Fauth%2Fdevstorage.full_control&redirect_uri=urn%3Aietf%3Awg%3Aoauth%3A2.0%3Aoob&response_type=code&code_challenge=1RZw-IixmXBusU7We3T4Himj6kMsb623--g_R4cb3sw&code_challenge_method=S256>https://accounts.google.com/o/oauth2/auth?client_id=517222506229-vsmmajv00ul0bs7p89v5m89qs8eb9359.apps.googleusercontent.com&scope=https%3A%2F%2Fwww.googleapis.com%2Fauth%2Fearthengine+https%3A%2F%2Fwww.googleapis.com%2Fauth%2Fdevstorage.full_control&redirect_uri=urn%3Aietf%3Awg%3Aoauth%3A2.0%3Aoob&response_type=code&code_challenge=1RZw-IixmXBusU7We3T4Himj6kMsb623--g_R4cb3sw&code_challenge_method=S256</a></p>\n",
       "        <p>The authorization workflow will generate a code, which you\n",
       "        should paste in the box below</p>\n",
       "        "
      ],
      "text/plain": [
       "<IPython.core.display.HTML object>"
      ]
     },
     "metadata": {},
     "output_type": "display_data"
    },
    {
     "name": "stdin",
     "output_type": "stream",
     "text": [
      "Enter verification code:  4/1AX4XfWjX277wonOLZXmU9CYB1u-ODI1GRgsl-kBqdIv5x0TDcJ3gQFG6rC4\n"
     ]
    },
    {
     "name": "stdout",
     "output_type": "stream",
     "text": [
      "\n",
      "Successfully saved authorization token.\n"
     ]
    }
   ],
   "source": [
    "import scipy\n",
    "import scipy.io as sio\n",
    "import matplotlib.pyplot as plt\n",
    "import numpy as np\n",
    "import pandas as pd\n",
    "import sklearn as skl\n",
    "from sklearn import preprocessing\n",
    "from sklearn import linear_model\n",
    "import tensorflow\n",
    "import ee\n",
    "import json\n",
    "from collections import OrderedDict\n",
    "import time\n",
    "import math\n",
    "import csv\n",
    "import os\n",
    "\n",
    "# import custom module\n",
    "import ALR_functions as alr\n",
    "\n",
    "ee.Authenticate()\n",
    "ee.Initialize()"
   ]
  },
  {
   "cell_type": "code",
   "execution_count": 11,
   "metadata": {},
   "outputs": [],
   "source": [
    "# Set the test image using an uploaded asset for now\n",
    "testImage = ee.Image('users/kateharvey/i')\n",
    "\n",
    "# Change variable name here to match band name pattern (one of: Albedo, fAPAR, fCOVER, LAI, CCC, CWC, DASF)\n",
    "outputName = 'LAI'\n",
    "defaultBand = 'estimate'+outputName\n",
    "\n",
    "# order of bands:\n",
    "# 0-13: B1, B2, B3, B4, B5, B6, B7, B8, B8A, B9, B10, B11, B12, B13\n",
    "# 23: date\n",
    "# 27-33: QC, estimateLAI, partition, networkID, errorLAI, partition_1, networkID_1\n",
    "inputImage = ee.Image(testImage.select(1,2,3,7,23,27,28,29,30,31,32,33))\n",
    "\n",
    "# List the bands that we expect in the image (ensure number of bands in the list below matches the number bands in the input image)\n",
    "# This is the order of bands produced by running SL2P10 and exporting the resulting ImageCollection\n",
    "inputImage_bands = ee.List(['B2', 'B3', 'B4', 'B8', 'date', 'QC', 'estimateLAI', 'partition', 'networkID', 'errorLAI', 'partition_1', 'networkID_1'])"
   ]
  },
  {
   "cell_type": "markdown",
   "metadata": {},
   "source": [
    "### Vegetation Indices Sources\n",
    "\n",
    "1. https://www.hindawi.com/journals/js/2017/1353691/tab1/\n",
    "2. https://www.hiphen-plant.com/blog/vegetation-indices/\n",
    "3. https://gisgeography.com/sentinel-2-bands-combinations/"
   ]
  },
  {
   "cell_type": "code",
   "execution_count": 13,
   "metadata": {},
   "outputs": [],
   "source": [
    "# Below we define a list of strings representing the expressions for each vegetation index as a function of the bands in the input image\n",
    "# More vegetation indices can be defined, but the list CANNOT contain any two vegetation indices which are a linear combination of each\n",
    "# other or LARs will fail to select the requested number of variables\n",
    "\n",
    "# The formatting of the expression must be\n",
    "# \"<name of VI> = <expression with band names from inputImage_bands used as variables in the form b('<band name>')\"\n",
    "\n",
    "# Only include VIs that use 10 m bands (B2, B3, B4, B8)\n",
    "input_VI_definition = ee.List([\"RAW_B2  = b('B2')\",\n",
    "                               \"RAW_B3  = b('B3')\",\n",
    "                               \"RAW_B4  = b('B4')\",\n",
    "                               \"RAW_B8  = b('B8')\",\n",
    "                               \"GI      = b('B3')/b('B4')\",\n",
    "                             # \"RVI3    = b('B4')/b('B6')\",\n",
    "                             # \"SR3     = b('B5')/b('B4')\",\n",
    "                             # \"GM1     = b('B6')/b('B3')\",\n",
    "                             # \"GM2     = b('B6')/b('B5')\",\n",
    "                             # \"SR2     = b('B7')/b('B3')\",\n",
    "                             # \"PSSR    = b('B7')/b('B4')\",\n",
    "                               \"SGI     = b('B8')/b('B4')\",\n",
    "                             # \"MSI     = b('B11')/b('B7')\",\n",
    "                             # \"II      = b('B11')/b('B12')\",\n",
    "                               \"GVI     = (b('B8')/b('B3'))-1\",\n",
    "                             # \"PSRI    = (b('B4')-b('B3'))/b('B6')\",\n",
    "                               \"NDVI3   = ((b('B8')-b('B4'))/(b('B8')))+b('B4')\",\n",
    "                             # \"SR5     = 1/b('B5')\",\n",
    "                             # \"SR6     = b('B4')/(b('B3')*b('B5'))\",\n",
    "                             # \"SR7     = b('B8')/(b('B3')*b('B5'))\",\n",
    "                             # \"IPVI    = b('B7')/(b('B7')+b('B4'))\",\n",
    "                             # \"ARI     = (1/b('B3'))-(1/b('B5'))\",\n",
    "                             # \"ARI2    = b('B7')*((1/b('B3'))-(1/b('B5')))\",\n",
    "                               \"NDVI    = (b('B8')-b('B4'))/(b('B8')+b('B4'))\",\n",
    "                               \"GNDVI   = (b('B8')-b('B3'))/(b('B8')+b('B3'))\",\n",
    "                             # \"NDWI    = (b('B8')-b('B11'))/(b('B8')+b('B11'))\",\n",
    "                             # \"NDREVI  = (b('B8')-b('B5'))/(b('B8')+b('B5'))\",\n",
    "                               \"NDGI    = (b('B3')-b('B4'))/(b('B3')+b('B4'))\",\n",
    "                             # \"NDI1    = (b('B7')-b('B5'))/(b('B7')-b('B4'))\",\n",
    "                             # \"NDI2    = (b('B8')-b('B5'))/(b('B8')-b('B4'))\",\n",
    "                             # \"RENDVI  = (b('B6')-b('B5'))/(b('B6')+b('B5'))\",\n",
    "                             # \"OSAVI   = (1.16*(b('B7')-b('B4')))/(b('B7')+b('B4')+0.61)\",\n",
    "                             # \"NMDI    = (b('B8')-(b('B11')-b('B12')))/(b('B8')+(b('B11')-b('B12')))\",\n",
    "                             # \"HI      = ((b('B3')-b('B5'))/(b('B3')+b('B5')))-0.5*b('B5')\",\n",
    "                             # \"GVSP    = (-0.283*b('B3') - 0.66*b('B4') + 0.577*b('B6') + 0.388*b('B8'))/(0.433*b('B3') - 0.632*b('B4') + 0.586*b('B6') + 0.264*b('B8A'))\",\n",
    "                             # \"MCARI   = ((b('B5')-b('B4'))-0.2*(b('B5')-b('B3')))*(b('B5')/b('B4'))\",\n",
    "                             # \"TCARI   = 3*((b('B5')-b('B4'))-0.2*(b('B5')-b('B3'))*(b('B5')/b('B4')))\",\n",
    "                               \"EVI     = 2.5*((b('B8')-b('B4'))/(b('B8')+6*b('B4')-7.5*b('B3')+1))\",\n",
    "                               \"EVI2    = 2.5*((b('B8')-b('B4'))/(b('B8')+2.4*b('B4')+1))\",\n",
    "                               \"RDVI    = (b('B8')-b('B4'))/((b('B8')+b('B4'))**0.5)\",\n",
    "                               \"MSR     = ((b('B8')/b('B4'))-1)/((b('B8')/b('B4'))**0.5+1)\",\n",
    "                             # \"MSAVI   = 0.5*(2*b('B7')+1-((2*b('B7')+1)**2-8*(b('B7')-b('B4')))**0.5)\",\n",
    "                               \"MSAVI2  = 0.5*(2*b('B8')+1-((2*b('B8')+1)**2-8*(b('B8')-b('B4')))**0.5)\",\n",
    "                             # \"MCARI2  = (1.5*(2.5*(b('B7')-b('B4'))-1.3*(b('B7')-b('B3'))))/((((2*b('B7')+1)**2)-(6*b('B7')-5*(b('B4')**0.5))-0.5)**0.5)\",\n",
    "                             # \"MTVI2   = (1.5*(1.2*(b('B7')-b('B3'))-2.5*(b('B4')-b('B3'))))/(((2*b('B7')+1)**2-(6*b('B7')-5*b('B4'))-0.5)**0.5)\",\n",
    "                             # \"MSR2    = ((b('B7')/b('B4'))-1)/(((b('B7')/b('B4'))+1)**0.5)\",\n",
    "                               \"NLI     = ((b('B8')**2)-b('B4'))/((b('B8')**2)+b('B4'))\"])"
   ]
  },
  {
   "cell_type": "markdown",
   "metadata": {},
   "source": [
    "In the following functions each input is recast to the expected data type as function parameter typing is not enforced in Earth Engine\n",
    "when defining functions, and later methods called on these parameters within the function must recognize the type of the parameter\n",
    "independently of other code"
   ]
  },
  {
   "cell_type": "code",
   "execution_count": 14,
   "metadata": {},
   "outputs": [],
   "source": [
    "inputImage = alr.format_image(inputImage, inputImage_bands, defaultBand, input_VI_definition)"
   ]
  },
  {
   "cell_type": "code",
   "execution_count": 15,
   "metadata": {},
   "outputs": [],
   "source": [
    "num_input_pixels = alr.get_num_pixels(inputImage)"
   ]
  },
  {
   "cell_type": "markdown",
   "metadata": {},
   "source": [
    "Full image with bands: 'RAW_B2', 'RAW_B3', 'RAW_B4', 'RAW_B8', 'GI', 'SGI', 'GVI', 'NDVI3', 'NDVI', 'GNDVI', 'NDGI', 'EVI', 'EVI2', 'RDVI', 'MSR', 'MSAVI2', 'NLI', 'B2', 'B3', 'B4', 'B8', 'date', 'QC', 'partition', 'networkID', 'errorLAI', 'partition_1', 'networkID_1', 'estimateLAI'"
   ]
  },
  {
   "cell_type": "code",
   "execution_count": 16,
   "metadata": {},
   "outputs": [],
   "source": [
    "scaledImage = alr.scale_image(inputImage, defaultBand)"
   ]
  },
  {
   "cell_type": "code",
   "execution_count": 20,
   "metadata": {},
   "outputs": [],
   "source": [
    "# print(scaledImage.bandNames().getInfo())\n",
    "input_bandNames = ['B2', 'B3', 'B4', 'B8', 'GI', 'SGI', 'GVI', 'NDVI3', 'NDVI',\n",
    "                   'GNDVI', 'NDGI', 'EVI', 'EVI2', 'RDVI', 'MSR', 'MSAVI2', 'NLI']"
   ]
  },
  {
   "cell_type": "code",
   "execution_count": 22,
   "metadata": {
    "scrolled": true
   },
   "outputs": [
    {
     "ename": "TypeError",
     "evalue": "string indices must be integers",
     "output_type": "error",
     "traceback": [
      "\u001b[0;31m---------------------------------------------------------------------------\u001b[0m",
      "\u001b[0;31mTypeError\u001b[0m                                 Traceback (most recent call last)",
      "\u001b[0;32m/var/folders/rx/5_fd7v5s5dbc3yr3cx7bw9m40000gn/T/ipykernel_7703/595969348.py\u001b[0m in \u001b[0;36m<module>\u001b[0;34m\u001b[0m\n\u001b[0;32m----> 1\u001b[0;31m \u001b[0mselect_features\u001b[0m \u001b[0;34m=\u001b[0m \u001b[0malr\u001b[0m\u001b[0;34m.\u001b[0m\u001b[0mee_LARS\u001b[0m\u001b[0;34m(\u001b[0m\u001b[0mscaledImage\u001b[0m\u001b[0;34m,\u001b[0m \u001b[0minput_bandNames\u001b[0m\u001b[0;34m,\u001b[0m \u001b[0;34m'estimateLAI'\u001b[0m\u001b[0;34m,\u001b[0m \u001b[0;36m5\u001b[0m\u001b[0;34m,\u001b[0m \u001b[0;36m1000\u001b[0m\u001b[0;34m)\u001b[0m\u001b[0;34m\u001b[0m\u001b[0;34m\u001b[0m\u001b[0m\n\u001b[0m",
      "\u001b[0;32m~/ALR_Sentinel2/ALR/ALR_functions.py\u001b[0m in \u001b[0;36mee_LARS\u001b[0;34m(input_image, input_bandNames, response_bandName, num_nonzero_coefficients, num_samples)\u001b[0m\n\u001b[1;32m    136\u001b[0m     \u001b[0mnum_nonzero_coefficients\u001b[0m \u001b[0;34m=\u001b[0m \u001b[0mee\u001b[0m\u001b[0;34m.\u001b[0m\u001b[0mNumber\u001b[0m\u001b[0;34m(\u001b[0m\u001b[0mnum_nonzero_coefficients\u001b[0m\u001b[0;34m)\u001b[0m\u001b[0;34m\u001b[0m\u001b[0;34m\u001b[0m\u001b[0m\n\u001b[1;32m    137\u001b[0m     \u001b[0mnum_samples\u001b[0m \u001b[0;34m=\u001b[0m \u001b[0mee\u001b[0m\u001b[0;34m.\u001b[0m\u001b[0mNumber\u001b[0m\u001b[0;34m(\u001b[0m\u001b[0mnum_samples\u001b[0m\u001b[0;34m)\u001b[0m\u001b[0;34m\u001b[0m\u001b[0;34m\u001b[0m\u001b[0m\n\u001b[0;32m--> 138\u001b[0;31m     \u001b[0mimage_pixels\u001b[0m \u001b[0;34m=\u001b[0m \u001b[0mee\u001b[0m\u001b[0;34m.\u001b[0m\u001b[0mNumber\u001b[0m\u001b[0;34m(\u001b[0m\u001b[0mget_num_pixels\u001b[0m\u001b[0;34m(\u001b[0m\u001b[0mimage\u001b[0m\u001b[0;34m)\u001b[0m\u001b[0;34m)\u001b[0m\u001b[0;34m\u001b[0m\u001b[0;34m\u001b[0m\u001b[0m\n\u001b[0m\u001b[1;32m    139\u001b[0m \u001b[0;34m\u001b[0m\u001b[0m\n\u001b[1;32m    140\u001b[0m     \u001b[0;31m# Randomly sample pixels in the image at native resolution into a FeatureCollection\u001b[0m\u001b[0;34m\u001b[0m\u001b[0;34m\u001b[0m\u001b[0m\n",
      "\u001b[0;32m~/ALR_Sentinel2/ALR/ALR_functions.py\u001b[0m in \u001b[0;36mget_num_pixels\u001b[0;34m(image)\u001b[0m\n\u001b[1;32m     70\u001b[0m         \u001b[0;32mreturn\u001b[0m \u001b[0mwidth\u001b[0m\u001b[0;34m\u001b[0m\u001b[0;34m\u001b[0m\u001b[0m\n\u001b[1;32m     71\u001b[0m \u001b[0;34m\u001b[0m\u001b[0m\n\u001b[0;32m---> 72\u001b[0;31m     \u001b[0mimage_height\u001b[0m \u001b[0;34m=\u001b[0m \u001b[0mget_height\u001b[0m\u001b[0;34m(\u001b[0m\u001b[0mimage\u001b[0m\u001b[0;34m)\u001b[0m\u001b[0;34m\u001b[0m\u001b[0;34m\u001b[0m\u001b[0m\n\u001b[0m\u001b[1;32m     73\u001b[0m     \u001b[0mimage_width\u001b[0m \u001b[0;34m=\u001b[0m \u001b[0mget_width\u001b[0m\u001b[0;34m(\u001b[0m\u001b[0mimage\u001b[0m\u001b[0;34m)\u001b[0m\u001b[0;34m\u001b[0m\u001b[0;34m\u001b[0m\u001b[0m\n\u001b[1;32m     74\u001b[0m     \u001b[0mimage_pixels\u001b[0m \u001b[0;34m=\u001b[0m \u001b[0mimage_height\u001b[0m\u001b[0;34m*\u001b[0m\u001b[0mimage_width\u001b[0m\u001b[0;34m\u001b[0m\u001b[0;34m\u001b[0m\u001b[0m\n",
      "\u001b[0;32m~/ALR_Sentinel2/ALR/ALR_functions.py\u001b[0m in \u001b[0;36mget_height\u001b[0;34m(image)\u001b[0m\n\u001b[1;32m     62\u001b[0m     \u001b[0;31m# get image height\u001b[0m\u001b[0;34m\u001b[0m\u001b[0;34m\u001b[0m\u001b[0m\n\u001b[1;32m     63\u001b[0m     \u001b[0;32mdef\u001b[0m \u001b[0mget_height\u001b[0m\u001b[0;34m(\u001b[0m\u001b[0mimage\u001b[0m\u001b[0;34m)\u001b[0m\u001b[0;34m:\u001b[0m\u001b[0;34m\u001b[0m\u001b[0;34m\u001b[0m\u001b[0m\n\u001b[0;32m---> 64\u001b[0;31m         \u001b[0mheight\u001b[0m \u001b[0;34m=\u001b[0m \u001b[0mimage\u001b[0m\u001b[0;34m.\u001b[0m\u001b[0mgetInfo\u001b[0m\u001b[0;34m(\u001b[0m\u001b[0;34m)\u001b[0m\u001b[0;34m[\u001b[0m\u001b[0;34m\"bands\"\u001b[0m\u001b[0;34m]\u001b[0m\u001b[0;34m[\u001b[0m\u001b[0;36m0\u001b[0m\u001b[0;34m]\u001b[0m\u001b[0;34m[\u001b[0m\u001b[0;34m\"dimensions\"\u001b[0m\u001b[0;34m]\u001b[0m\u001b[0;34m[\u001b[0m\u001b[0;36m0\u001b[0m\u001b[0;34m]\u001b[0m\u001b[0;34m\u001b[0m\u001b[0;34m\u001b[0m\u001b[0m\n\u001b[0m\u001b[1;32m     65\u001b[0m         \u001b[0;32mreturn\u001b[0m \u001b[0mheight\u001b[0m\u001b[0;34m\u001b[0m\u001b[0;34m\u001b[0m\u001b[0m\n\u001b[1;32m     66\u001b[0m \u001b[0;34m\u001b[0m\u001b[0m\n",
      "\u001b[0;31mTypeError\u001b[0m: string indices must be integers"
     ]
    }
   ],
   "source": [
    "select_features = alr.ee_LARS(scaledImage, input_bandNames, 'estimateLAI', 5, 1000)"
   ]
  },
  {
   "cell_type": "markdown",
   "metadata": {},
   "source": [
    "Currently the trimmed data is processed then in a neural network created using tensorflow to find nonlinear relationships between the predictor and the response. Earth Engine does not have this functionality (for free) to generate neural network based models.\n",
    "\n",
    "Here we also see how the server side in the Earth Engine API is completely separate from the client side on the local machine. We need\n",
    "to export our trimmed data as a CSV to a google drive which is synced into the \"gdrive\" folder in our local machine using the \n",
    "Backup and Sync software or using google-drive-ocamlfuse on Linux"
   ]
  },
  {
   "cell_type": "code",
   "execution_count": null,
   "metadata": {},
   "outputs": [],
   "source": [
    "# Creating the export task on the server side from Earth Engine. Remember that the data will be exported to the google drive of the google\n",
    "# account you used when you initiated the Earth Engine API authentication flow, so ensure that, that accounts drive is synced to the \n",
    "# gdrive folder in the same folder as this script\n",
    "trimmedCollection = alr.trim_data(image=inputImage.updateMask(inputImage.select(defaultBand).gt(0)),\n",
    "                                  selected_features=select_features,\n",
    "                                  response_band=defaultBand,\n",
    "                                  num_samples=50000,\n",
    "                                  num_partitions=10)\n",
    "\n",
    "exportData = ee.batch.Export.table.toDrive(collection=trimmedCollection,\n",
    "                                           description=\"image_data_samples_10m\",\n",
    "                                           fileFormat=\"CSV\")\n",
    "\n",
    "# Starting the export data task\n",
    "exportData.start()"
   ]
  },
  {
   "cell_type": "code",
   "execution_count": 9,
   "metadata": {},
   "outputs": [],
   "source": [
    "# trimmedCollection.toList(1).getInfo()"
   ]
  },
  {
   "cell_type": "code",
   "execution_count": null,
   "metadata": {
    "jupyter": {
     "source_hidden": true
    },
    "tags": []
   },
   "outputs": [],
   "source": [
    "# Writing the neural network to a CSV file to be uploaded to the server side on Google Earth Engine\n",
    "\n",
    "export_image_data = alr.export_nnet(trimmedCollection)\n",
    "\n",
    "with open('image_data_samples.csv', 'w', newline='') as csvfile:\n",
    "    data_writer = csv.writer(csvfile)\n",
    "    for line in export_image_data:\n",
    "        data_writer.writerow(line)"
   ]
  },
  {
   "cell_type": "code",
   "execution_count": 16,
   "metadata": {
    "scrolled": true
   },
   "outputs": [
    {
     "name": "stdout",
     "output_type": "stream",
     "text": [
      "READY\n",
      "RUNNING\n",
      "COMPLETED\n"
     ]
    }
   ],
   "source": [
    "# Essentially a wait loop to see if the data has finished exporting by checking with the server-side\n",
    "prev_task_status = ee.data.getTaskStatus(exportData.id)[0][\"state\"]\n",
    "print(prev_task_status)\n",
    "while exportData.active():\n",
    "    task_status = ee.data.getTaskStatus(exportData.id)[0][\"state\"]\n",
    "    if(task_status != prev_task_status):\n",
    "        print(task_status)\n",
    "    prev_task_status = task_status\n",
    "    time.sleep(5)\n",
    "print(ee.data.getTaskStatus(exportData.id)[0][\"state\"])"
   ]
  },
  {
   "cell_type": "markdown",
   "metadata": {},
   "source": [
    "For a more robust way to check if the data has been exported properly, we can use a wait loop to check on our local machine until the exported data file exists in the synced \"gdrive\" folder\n",
    "\n",
    "From here on out, all of the processing is done using your local hardware and packages, so it may be helpful to use a powerful machine."
   ]
  },
  {
   "cell_type": "code",
   "execution_count": 17,
   "metadata": {},
   "outputs": [],
   "source": [
    "# Reading the CSV file into dataframes\n",
    "trimmed_data = pd.read_csv('./gdrive/image_data_samples_10m.csv')\n",
    "X = trimmed_data.drop(labels=['estimateLAI', 'system:index', '.geo'], axis=1)\n",
    "y = trimmed_data.estimateLAI\n",
    "\n",
    "# We preprocess the input features by standardizing them to a mean of 0 and a standard deviation of 1 for the neural network\n",
    "X = pd.DataFrame(skl.preprocessing.scale(X))"
   ]
  },
  {
   "cell_type": "code",
   "execution_count": 18,
   "metadata": {},
   "outputs": [
    {
     "name": "stdout",
     "output_type": "stream",
     "text": [
      "Epoch 1/100\n",
      "1142/1142 [==============================] - 3s 2ms/step - loss: 9464318.5092 - mse: 9464318.5092 - mae: 2886.1980\n",
      "Epoch 2/100\n",
      "1142/1142 [==============================] - 3s 2ms/step - loss: 9452153.3167 - mse: 9452153.3167 - mae: 2888.5677\n",
      "Epoch 3/100\n",
      "1142/1142 [==============================] - 2s 2ms/step - loss: 9417417.0052 - mse: 9417417.0052 - mae: 2881.1608\n",
      "Epoch 4/100\n",
      "1142/1142 [==============================] - 2s 2ms/step - loss: 9373381.2695 - mse: 9373381.2695 - mae: 2875.3002\n",
      "Epoch 5/100\n",
      "1142/1142 [==============================] - 2s 2ms/step - loss: 9370968.9799 - mse: 9370968.9799 - mae: 2874.4760\n",
      "Epoch 6/100\n",
      "1142/1142 [==============================] - 2s 2ms/step - loss: 9339871.4418 - mse: 9339871.4418 - mae: 2868.5213\n",
      "Epoch 7/100\n",
      "1142/1142 [==============================] - 2s 2ms/step - loss: 9310444.9825 - mse: 9310444.9825 - mae: 2864.7782\n",
      "Epoch 8/100\n",
      "1142/1142 [==============================] - 2s 2ms/step - loss: 9301413.4051 - mse: 9301413.4051 - mae: 2864.3321\n",
      "Epoch 9/100\n",
      "1142/1142 [==============================] - 2s 2ms/step - loss: 9270115.8115 - mse: 9270115.8115 - mae: 2857.6550\n",
      "Epoch 10/100\n",
      "1142/1142 [==============================] - 2s 2ms/step - loss: 9302926.4269 - mse: 9302926.4269 - mae: 2860.3478\n",
      "Epoch 11/100\n",
      "1142/1142 [==============================] - 2s 2ms/step - loss: 9252273.9886 - mse: 9252273.9886 - mae: 2853.9785\n",
      "Epoch 12/100\n",
      "1142/1142 [==============================] - 2s 2ms/step - loss: 9207879.6317 - mse: 9207879.6317 - mae: 2846.5031\n",
      "Epoch 13/100\n",
      "1142/1142 [==============================] - 2s 2ms/step - loss: 9190087.7305 - mse: 9190087.7305 - mae: 2845.5930\n",
      "Epoch 14/100\n",
      "1142/1142 [==============================] - 2s 2ms/step - loss: 9222796.2003 - mse: 9222796.2003 - mae: 2849.7169\n",
      "Epoch 15/100\n",
      "1142/1142 [==============================] - 2s 2ms/step - loss: 9197260.0748 - mse: 9197260.0748 - mae: 2841.9661\n",
      "Epoch 16/100\n",
      "1142/1142 [==============================] - 3s 2ms/step - loss: 9143735.2467 - mse: 9143735.2467 - mae: 2838.0827\n",
      "Epoch 17/100\n",
      "1142/1142 [==============================] - 2s 2ms/step - loss: 9172851.0735 - mse: 9172851.0735 - mae: 2839.4161\n",
      "Epoch 18/100\n",
      "1142/1142 [==============================] - 2s 2ms/step - loss: 9102472.9204 - mse: 9102472.9204 - mae: 2827.0305\n",
      "Epoch 19/100\n",
      "1142/1142 [==============================] - 2s 2ms/step - loss: 9066943.8425 - mse: 9066943.8425 - mae: 2819.9299: 0s - loss: 9066359.6967 - mse: 9066359.6967 - mae: 2819.\n",
      "Epoch 20/100\n",
      "1142/1142 [==============================] - 2s 2ms/step - loss: 9116725.7122 - mse: 9116725.7122 - mae: 2830.0230\n",
      "Epoch 21/100\n",
      "1142/1142 [==============================] - 2s 2ms/step - loss: 9051985.3675 - mse: 9051985.3675 - mae: 2818.0731\n",
      "Epoch 22/100\n",
      "1142/1142 [==============================] - 2s 2ms/step - loss: 9059676.7664 - mse: 9059676.7664 - mae: 2821.3353\n",
      "Epoch 23/100\n",
      "1142/1142 [==============================] - 2s 2ms/step - loss: 9018272.1435 - mse: 9018272.1435 - mae: 2811.3396\n",
      "Epoch 24/100\n",
      "1142/1142 [==============================] - 2s 2ms/step - loss: 9046083.7559 - mse: 9046083.7559 - mae: 2817.2259\n",
      "Epoch 25/100\n",
      "1142/1142 [==============================] - 2s 2ms/step - loss: 8956917.3876 - mse: 8956917.3876 - mae: 2802.2991\n",
      "Epoch 26/100\n",
      "1142/1142 [==============================] - 2s 2ms/step - loss: 8996060.1347 - mse: 8996060.1347 - mae: 2808.1862\n",
      "Epoch 27/100\n",
      "1142/1142 [==============================] - 2s 2ms/step - loss: 8896274.2581 - mse: 8896274.2581 - mae: 2790.7726\n",
      "Epoch 28/100\n",
      "1142/1142 [==============================] - 2s 2ms/step - loss: 8892194.7393 - mse: 8892194.7393 - mae: 2791.3278\n",
      "Epoch 29/100\n",
      "1142/1142 [==============================] - 2s 2ms/step - loss: 8901525.4213 - mse: 8901525.4213 - mae: 2794.4483\n",
      "Epoch 30/100\n",
      "1142/1142 [==============================] - 3s 3ms/step - loss: 8900195.0210 - mse: 8900195.0210 - mae: 2789.6589\n",
      "Epoch 31/100\n",
      "1142/1142 [==============================] - 2s 2ms/step - loss: 8817902.7113 - mse: 8817902.7113 - mae: 2777.6739\n",
      "Epoch 32/100\n",
      "1142/1142 [==============================] - 2s 2ms/step - loss: 8847453.2415 - mse: 8847453.2415 - mae: 2785.4865\n",
      "Epoch 33/100\n",
      "1142/1142 [==============================] - 3s 2ms/step - loss: 8807238.1461 - mse: 8807238.1461 - mae: 2777.5705: \n",
      "Epoch 34/100\n",
      "1142/1142 [==============================] - 3s 2ms/step - loss: 8840739.8189 - mse: 8840739.8189 - mae: 2781.1004\n",
      "Epoch 35/100\n",
      "1142/1142 [==============================] - 2s 2ms/step - loss: 8788102.4615 - mse: 8788102.4615 - mae: 2771.9386\n",
      "Epoch 36/100\n",
      "1142/1142 [==============================] - 2s 2ms/step - loss: 8742425.8644 - mse: 8742425.8644 - mae: 2763.3134\n",
      "Epoch 37/100\n",
      "1142/1142 [==============================] - 2s 2ms/step - loss: 8710366.5779 - mse: 8710366.5779 - mae: 2758.3024\n",
      "Epoch 38/100\n",
      "1142/1142 [==============================] - 3s 2ms/step - loss: 8759424.3491 - mse: 8759424.3491 - mae: 2765.3326\n",
      "Epoch 39/100\n",
      "1142/1142 [==============================] - 2s 2ms/step - loss: 8709618.1269 - mse: 8709618.1269 - mae: 2757.0755\n",
      "Epoch 40/100\n",
      "1142/1142 [==============================] - 2s 2ms/step - loss: 8700608.6404 - mse: 8700608.6404 - mae: 2755.9456\n",
      "Epoch 41/100\n",
      "1142/1142 [==============================] - 2s 2ms/step - loss: 8696935.4274 - mse: 8696935.4274 - mae: 2754.5544\n",
      "Epoch 42/100\n",
      "1142/1142 [==============================] - 3s 2ms/step - loss: 8689669.9584 - mse: 8689669.9584 - mae: 2754.8526\n",
      "Epoch 43/100\n",
      "1142/1142 [==============================] - 2s 2ms/step - loss: 8702288.6535 - mse: 8702288.6535 - mae: 2754.6304\n",
      "Epoch 44/100\n",
      "1142/1142 [==============================] - 4s 3ms/step - loss: 8689252.7913 - mse: 8689252.7913 - mae: 2754.3189\n",
      "Epoch 45/100\n",
      "1142/1142 [==============================] - 4s 3ms/step - loss: 8605384.4969 - mse: 8605384.4969 - mae: 2737.8644\n",
      "Epoch 46/100\n",
      "1142/1142 [==============================] - 2s 2ms/step - loss: 8604670.5416 - mse: 8604670.5416 - mae: 2736.5287\n",
      "Epoch 47/100\n",
      "1142/1142 [==============================] - 2s 2ms/step - loss: 8572787.8049 - mse: 8572787.8049 - mae: 2731.4985\n",
      "Epoch 48/100\n",
      "1142/1142 [==============================] - 3s 3ms/step - loss: 8546451.6181 - mse: 8546451.6181 - mae: 2728.9636\n",
      "Epoch 49/100\n",
      "1142/1142 [==============================] - 3s 3ms/step - loss: 8527648.6794 - mse: 8527648.6794 - mae: 2724.1726: 0s - loss: 8529352.1326 - mse: 8529352\n",
      "Epoch 50/100\n",
      "1142/1142 [==============================] - 2s 2ms/step - loss: 8505578.6168 - mse: 8505578.6168 - mae: 2719.5753\n",
      "Epoch 51/100\n",
      "1142/1142 [==============================] - 2s 2ms/step - loss: 8469184.3806 - mse: 8469184.3806 - mae: 2713.7828\n",
      "Epoch 52/100\n",
      "1142/1142 [==============================] - 3s 2ms/step - loss: 8514510.0402 - mse: 8514510.0402 - mae: 2721.9605\n",
      "Epoch 53/100\n",
      "1142/1142 [==============================] - 2s 2ms/step - loss: 8439140.9226 - mse: 8439140.9226 - mae: 2704.2730\n",
      "Epoch 54/100\n",
      "1142/1142 [==============================] - 2s 2ms/step - loss: 8482857.4790 - mse: 8482857.4790 - mae: 2717.8661\n",
      "Epoch 55/100\n",
      "1142/1142 [==============================] - 3s 2ms/step - loss: 8390667.8150 - mse: 8390667.8150 - mae: 2699.0205\n",
      "Epoch 56/100\n",
      "1142/1142 [==============================] - 2s 2ms/step - loss: 8406075.4506 - mse: 8406075.4506 - mae: 2700.2263\n",
      "Epoch 57/100\n",
      "1142/1142 [==============================] - 2s 2ms/step - loss: 8426983.9423 - mse: 8426983.9423 - mae: 2705.7059\n",
      "Epoch 58/100\n",
      "1142/1142 [==============================] - 2s 2ms/step - loss: 8382292.7135 - mse: 8382292.7135 - mae: 2696.8852\n",
      "Epoch 59/100\n",
      "1142/1142 [==============================] - 3s 2ms/step - loss: 8367158.6339 - mse: 8367158.6339 - mae: 2692.7419\n",
      "Epoch 60/100\n",
      "1142/1142 [==============================] - 3s 2ms/step - loss: 8320344.5538 - mse: 8320344.5538 - mae: 2688.2085\n",
      "Epoch 61/100\n",
      "1142/1142 [==============================] - 2s 2ms/step - loss: 8344085.8342 - mse: 8344085.8342 - mae: 2690.8993\n",
      "Epoch 62/100\n",
      "1142/1142 [==============================] - 3s 2ms/step - loss: 8290835.4278 - mse: 8290835.4278 - mae: 2680.7641\n",
      "Epoch 63/100\n",
      "1142/1142 [==============================] - 2s 2ms/step - loss: 8207604.8823 - mse: 8207604.8823 - mae: 2666.1200\n",
      "Epoch 64/100\n",
      "1142/1142 [==============================] - 2s 2ms/step - loss: 8255440.2975 - mse: 8255440.2975 - mae: 2673.4711: 0s - loss: 8255815.6955 - mse: 8255815.6955 - mae: 267\n",
      "Epoch 65/100\n",
      "1142/1142 [==============================] - 2s 2ms/step - loss: 8224245.5258 - mse: 8224245.5258 - mae: 2669.9566\n",
      "Epoch 66/100\n",
      "1142/1142 [==============================] - 3s 2ms/step - loss: 8182077.7778 - mse: 8182077.7778 - mae: 2660.3276\n",
      "Epoch 67/100\n",
      "1142/1142 [==============================] - 2s 2ms/step - loss: 8162724.6172 - mse: 8162724.6172 - mae: 2656.0678\n",
      "Epoch 68/100\n",
      "1142/1142 [==============================] - 2s 2ms/step - loss: 8147992.1137 - mse: 8147992.1137 - mae: 2654.9973\n",
      "Epoch 69/100\n",
      "1142/1142 [==============================] - 2s 2ms/step - loss: 8152262.2642 - mse: 8152262.2642 - mae: 2656.0107\n",
      "Epoch 70/100\n",
      "1142/1142 [==============================] - 3s 2ms/step - loss: 8145085.5529 - mse: 8145085.5529 - mae: 2654.9745\n",
      "Epoch 71/100\n",
      "1142/1142 [==============================] - 2s 2ms/step - loss: 8144732.0332 - mse: 8144732.0332 - mae: 2652.9156\n",
      "Epoch 72/100\n",
      "1142/1142 [==============================] - 3s 2ms/step - loss: 8126568.7638 - mse: 8126568.7638 - mae: 2648.4623\n",
      "Epoch 73/100\n",
      "1142/1142 [==============================] - 3s 2ms/step - loss: 8111483.7817 - mse: 8111483.7817 - mae: 2646.7377\n",
      "Epoch 74/100\n",
      "1142/1142 [==============================] - 3s 2ms/step - loss: 8063371.8578 - mse: 8063371.8578 - mae: 2638.7634: 0s - loss: 8065533.6840 - mse: 806\n",
      "Epoch 75/100\n",
      "1142/1142 [==============================] - 2s 2ms/step - loss: 8022341.9431 - mse: 8022341.9431 - mae: 2629.8813\n",
      "Epoch 76/100\n",
      "1142/1142 [==============================] - 3s 2ms/step - loss: 8027382.3994 - mse: 8027382.3994 - mae: 2633.4127\n",
      "Epoch 77/100\n",
      "1142/1142 [==============================] - 3s 3ms/step - loss: 8088471.2563 - mse: 8088471.2563 - mae: 2642.4860\n",
      "Epoch 78/100\n",
      "1142/1142 [==============================] - 3s 2ms/step - loss: 7999577.7362 - mse: 7999577.7362 - mae: 2624.0413\n",
      "Epoch 79/100\n",
      "1142/1142 [==============================] - 3s 2ms/step - loss: 7989362.3758 - mse: 7989362.3758 - mae: 2624.3468\n",
      "Epoch 80/100\n",
      "1142/1142 [==============================] - 3s 2ms/step - loss: 7996410.8478 - mse: 7996410.8478 - mae: 2625.2630\n",
      "Epoch 81/100\n",
      "1142/1142 [==============================] - 3s 2ms/step - loss: 7914983.9650 - mse: 7914983.9650 - mae: 2610.4765\n",
      "Epoch 82/100\n",
      "1142/1142 [==============================] - 2s 2ms/step - loss: 7933696.8924 - mse: 7933696.8924 - mae: 2612.6529\n",
      "Epoch 83/100\n",
      "1142/1142 [==============================] - 3s 2ms/step - loss: 7900804.9668 - mse: 7900804.9668 - mae: 2605.9884: 0s - loss: 7902453.1\n",
      "Epoch 84/100\n",
      "1142/1142 [==============================] - 2s 2ms/step - loss: 7882003.1868 - mse: 7882003.1868 - mae: 2604.0956\n",
      "Epoch 85/100\n",
      "1142/1142 [==============================] - 2s 2ms/step - loss: 7858696.0853 - mse: 7858696.0853 - mae: 2598.9643\n",
      "Epoch 86/100\n",
      "1142/1142 [==============================] - 3s 2ms/step - loss: 7872378.9641 - mse: 7872378.9641 - mae: 2604.2759\n",
      "Epoch 87/100\n",
      "1142/1142 [==============================] - 3s 2ms/step - loss: 7880375.0958 - mse: 7880375.0958 - mae: 2602.0998: 0s - loss: 7881632.0014 - mse: 7881632.0014 - mae: 2602.\n",
      "Epoch 88/100\n",
      "1142/1142 [==============================] - 2s 2ms/step - loss: 7777998.4366 - mse: 7777998.4366 - mae: 2585.6916: 0s - loss: 7777554.9074 - mse: 7777554.9074 - mae: 2585.62\n",
      "Epoch 89/100\n",
      "1142/1142 [==============================] - 3s 2ms/step - loss: 7796403.8443 - mse: 7796403.8443 - mae: 2588.3203\n",
      "Epoch 90/100\n",
      "1142/1142 [==============================] - 3s 3ms/step - loss: 7808603.6662 - mse: 7808603.6662 - mae: 2592.8155\n",
      "Epoch 91/100\n",
      "1142/1142 [==============================] - 4s 4ms/step - loss: 7753288.2275 - mse: 7753288.2275 - mae: 2579.9775: \n",
      "Epoch 92/100\n",
      "1142/1142 [==============================] - 3s 2ms/step - loss: 7788156.8171 - mse: 7788156.8171 - mae: 2587.2589\n",
      "Epoch 93/100\n",
      "1142/1142 [==============================] - 3s 2ms/step - loss: 7771225.1483 - mse: 7771225.1483 - mae: 2581.0010: 1s - los\n",
      "Epoch 94/100\n",
      "1142/1142 [==============================] - 2s 2ms/step - loss: 7714060.4580 - mse: 7714060.4580 - mae: 2573.9639\n",
      "Epoch 95/100\n",
      "1142/1142 [==============================] - 3s 3ms/step - loss: 7693876.8574 - mse: 7693876.8574 - mae: 2566.9736\n",
      "Epoch 96/100\n",
      "1142/1142 [==============================] - 2s 2ms/step - loss: 7674072.5171 - mse: 7674072.5171 - mae: 2564.8127\n",
      "Epoch 97/100\n",
      "1142/1142 [==============================] - 2s 2ms/step - loss: 7668233.9668 - mse: 7668233.9668 - mae: 2560.7304\n",
      "Epoch 98/100\n",
      "1142/1142 [==============================] - 2s 2ms/step - loss: 7640440.2196 - mse: 7640440.2196 - mae: 2557.2411\n",
      "Epoch 99/100\n",
      "1142/1142 [==============================] - 3s 2ms/step - loss: 7635753.1391 - mse: 7635753.1391 - mae: 2556.2054\n",
      "Epoch 100/100\n",
      "1142/1142 [==============================] - 3s 3ms/step - loss: 7619845.5459 - mse: 7619845.5459 - mae: 2553.8107\n"
     ]
    }
   ],
   "source": [
    "# Using Keras to create a sequential model neural network which only has simple dense layers of the specified number of nodes\n",
    "LAI_model = alr.make_nets(X, y)"
   ]
  },
  {
   "cell_type": "markdown",
   "metadata": {},
   "source": [
    "Below is code the prepares the predictions to be displayed against the true values of the response for matplotlib"
   ]
  },
  {
   "cell_type": "code",
   "execution_count": 19,
   "metadata": {},
   "outputs": [],
   "source": [
    "# Predicting our own input data to evaluate the performance (for now)\n",
    "LAI_predictions = pd.Series(LAI_model.predict(X.to_numpy()).flatten())"
   ]
  },
  {
   "cell_type": "code",
   "execution_count": 22,
   "metadata": {},
   "outputs": [
    {
     "data": {
      "text/plain": [
       "0    342.937225\n",
       "1    342.937225\n",
       "2    342.937225\n",
       "3    342.937225\n",
       "4    342.937225\n",
       "dtype: float32"
      ]
     },
     "execution_count": 22,
     "metadata": {},
     "output_type": "execute_result"
    }
   ],
   "source": [
    "LAI_predictions.head()"
   ]
  },
  {
   "cell_type": "code",
   "execution_count": 20,
   "metadata": {},
   "outputs": [],
   "source": [
    "# Prepare data to display as a scatterplot\n",
    "xy_tf_LAI = np.vstack([y, LAI_predictions])\n",
    "z_tf_LAI = scipy.stats.gaussian_kde(xy_tf_LAI)(xy_tf_LAI)\n",
    "\n",
    "idx_tf_LAI = z_tf_LAI.argsort()\n",
    "x_tf_LAI = y[idx_tf_LAI]\n",
    "y_tf_LAI = LAI_predictions[idx_tf_LAI]\n",
    "z_tf_LAI = z_tf_LAI[idx_tf_LAI]\n",
    "\n",
    "rmse_tf_LAI = skl.metrics.mean_squared_error(x_tf_LAI, y_tf_LAI, squared=False)"
   ]
  },
  {
   "cell_type": "code",
   "execution_count": 23,
   "metadata": {},
   "outputs": [
    {
     "name": "stdout",
     "output_type": "stream",
     "text": [
      "              0    1         2         3         4\n",
      "0     -0.314167  0.0  2.832412 -0.648477 -1.293344\n",
      "1     -0.797097  0.0  2.037107 -1.072594 -2.023442\n",
      "2     -1.852581  0.0  0.403508 -1.706561 -1.335581\n",
      "3     -3.953481  0.0  2.617464 -2.396856 -3.387096\n",
      "4     -1.221173  0.0  1.793500 -1.365279 -2.735438\n",
      "...         ...  ...       ...       ...       ...\n",
      "36516  1.156921  0.0 -0.535096  2.002255  1.289152\n",
      "36517  1.263343  0.0 -0.484941  2.366730  1.271050\n",
      "36518  0.744295  0.0 -0.241334  0.912141  0.884883\n",
      "36519  0.605507  0.0 -0.463446  0.629396  0.794375\n",
      "36520  1.260297  0.0 -0.427622  2.355686  1.572744\n",
      "\n",
      "[36521 rows x 5 columns]\n",
      "0        1450.0\n",
      "1        1071.0\n",
      "2        1249.0\n",
      "3         141.0\n",
      "4         757.0\n",
      "          ...  \n",
      "36516    4419.0\n",
      "36517    4930.0\n",
      "36518    4797.0\n",
      "36519    4796.0\n",
      "36520    4969.0\n",
      "Name: estimateLAI, Length: 36521, dtype: float64\n"
     ]
    }
   ],
   "source": [
    "print(X)\n",
    "print(y)"
   ]
  },
  {
   "cell_type": "code",
   "execution_count": 21,
   "metadata": {},
   "outputs": [
    {
     "data": {
      "image/png": "[encoded data removed]",
      "text/plain": [
       "<Figure size 720x720 with 1 Axes>"
      ]
     },
     "metadata": {
      "needs_background": "light"
     },
     "output_type": "display_data"
    }
   ],
   "source": [
    "a_tf_LAI = np.linspace(0, 3, 1000)\n",
    "fig, ax = plt.subplots(1, 1, figsize=(10,10))\n",
    "\n",
    "ax.scatter(x_tf_LAI, y_tf_LAI, c=z_tf_LAI)\n",
    "ax.plot(a_tf_LAI, a_tf_LAI, c='r')\n",
    "ax.title.set_text('LASSO LARS (ALL BANDS) - RMSE: {}'.format(rmse_tf_LAI))"
   ]
  },
  {
   "cell_type": "markdown",
   "metadata": {},
   "source": [
    "Early attempts to use the output of the kerasModel.get_weights() to apply the neural network weights manually"
   ]
  },
  {
   "cell_type": "code",
   "execution_count": null,
   "metadata": {
    "scrolled": true
   },
   "outputs": [],
   "source": [
    "LAI_model.get_weights()"
   ]
  },
  {
   "cell_type": "code",
   "execution_count": null,
   "metadata": {},
   "outputs": [],
   "source": [
    "elu = np.vectorize(alr.elu)\n",
    "softplus = np.vectorize(alr.softplus)\n",
    "softsign = np.vectorize(alr.softsign)\n",
    "relu = np.vectorize(alr.relu)\n",
    "tanh = np.vectorize(alr.tanh)\n",
    "sigmoid = np.vectorize(alr.sigmoid)"
   ]
  },
  {
   "cell_type": "code",
   "execution_count": null,
   "metadata": {},
   "outputs": [],
   "source": [
    "row = 4802\n",
    "inputs = X.iloc[row, :].to_numpy()\n",
    "print(LAI_model.predict(inputs.reshape((-1,5)))[0][0])\n",
    "print(alr.apply_nnet(inputs, LAI_model)[0])"
   ]
  },
  {
   "cell_type": "code",
   "execution_count": null,
   "metadata": {},
   "outputs": [],
   "source": [
    "# Writing the neural network to a CSV file to be uploaded to the server side on Google Earth Engine\n",
    "export_data = alr.export_nnet(LAI_model, X)\n",
    "with open('nnet.csv', 'w', newline='') as csvfile:\n",
    "    nnet_writer = csv.writer(csvfile)\n",
    "    for layerdata in export_data:\n",
    "        nnet_writer.writerow(layerdata)"
   ]
  },
  {
   "cell_type": "raw",
   "metadata": {},
   "source": [
    "Currently, I have not found a way to automatically upload a file as an asset into Google Earth Engine from a local script. There is a command in the Earth Engine command line interface that allows you to upload an asset from cloud storage, although cloud storage is not free. There may be a workaround way to upload the file from Google Drive directly to Earth Engine, but even that would use the Google Drive API which is a part of Google Cloud, so it will not be free. It seems the network must be uploaded manually for now."
   ]
  }
 ],
 "metadata": {
  "colab": {
   "name": "LAI_FAPAR_FCOVER_Prediction.ipynb",
   "provenance": []
  },
  "kernelspec": {
   "display_name": "Python 3 (ipykernel)",
   "language": "python",
   "name": "python3"
  },
  "language_info": {
   "codemirror_mode": {
    "name": "ipython",
    "version": 3
   },
   "file_extension": ".py",
   "mimetype": "text/x-python",
   "name": "python",
   "nbconvert_exporter": "python",
   "pygments_lexer": "ipython3",
   "version": "3.9.7"
  },
  "pycharm": {
   "stem_cell": {
    "cell_type": "raw",
    "metadata": {
     "collapsed": false
    },
    "source": []
   }
  }
 },
 "nbformat": 4,
 "nbformat_minor": 4
}
