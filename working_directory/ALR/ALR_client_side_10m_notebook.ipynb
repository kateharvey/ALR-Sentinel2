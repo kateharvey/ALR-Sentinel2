{
 "cells": [
  {
   "cell_type": "markdown",
   "metadata": {},
   "source": [
    "## ALR Client Side (notebook)\n",
    "This notebook is a copy similar to ALR_Client_Side found in:\n",
    "https://github.com/rfernand387/ALR_Earth_Engine/blob/master/ALR_Client_Side.ipynb\n",
    "\n",
    "Modifications have been made to accept an EE image with 10 m resolution bands that has been outputted from SL2P10_control.ipynb:\n",
    "https://github.com/kateharvey/Sentinel2_ALR/blob/main/shared/SL2P10_control.ipynb"
   ]
  },
  {
   "cell_type": "code",
   "execution_count": 26,
   "metadata": {},
   "outputs": [
    {
     "data": {
      "text/html": [
       "<p>To authorize access needed by Earth Engine, open the following\n",
       "        URL in a web browser and follow the instructions:</p>\n",
       "        <p><a href=https://accounts.google.com/o/oauth2/auth?client_id=517222506229-vsmmajv00ul0bs7p89v5m89qs8eb9359.apps.googleusercontent.com&scope=https%3A%2F%2Fwww.googleapis.com%2Fauth%2Fearthengine+https%3A%2F%2Fwww.googleapis.com%2Fauth%2Fdevstorage.full_control&redirect_uri=urn%3Aietf%3Awg%3Aoauth%3A2.0%3Aoob&response_type=code&code_challenge=U0LLn7kDOjT0Z-y74SOR1O0SfuO8OzUBFT9xRqBs3Vw&code_challenge_method=S256>https://accounts.google.com/o/oauth2/auth?client_id=517222506229-vsmmajv00ul0bs7p89v5m89qs8eb9359.apps.googleusercontent.com&scope=https%3A%2F%2Fwww.googleapis.com%2Fauth%2Fearthengine+https%3A%2F%2Fwww.googleapis.com%2Fauth%2Fdevstorage.full_control&redirect_uri=urn%3Aietf%3Awg%3Aoauth%3A2.0%3Aoob&response_type=code&code_challenge=U0LLn7kDOjT0Z-y74SOR1O0SfuO8OzUBFT9xRqBs3Vw&code_challenge_method=S256</a></p>\n",
       "        <p>The authorization workflow will generate a code, which you\n",
       "        should paste in the box below</p>\n",
       "        "
      ],
      "text/plain": [
       "<IPython.core.display.HTML object>"
      ]
     },
     "metadata": {},
     "output_type": "display_data"
    },
    {
     "name": "stdin",
     "output_type": "stream",
     "text": [
      "Enter verification code:  4/1AX4XfWh5Km9QGYA3kK1TcfKn7_DjaO2yHhmntbrXPChAcE6P8FdZ2Avg_Xw\n"
     ]
    },
    {
     "name": "stdout",
     "output_type": "stream",
     "text": [
      "\n",
      "Successfully saved authorization token.\n"
     ]
    }
   ],
   "source": [
    "import ee\n",
    "import scipy\n",
    "import scipy.io as sio\n",
    "import matplotlib.pyplot as plt\n",
    "import numpy as np\n",
    "import pandas as pd\n",
    "import sklearn as skl\n",
    "from sklearn import preprocessing\n",
    "from sklearn import linear_model\n",
    "import tensorflow as tf\n",
    "import json\n",
    "from collections import OrderedDict\n",
    "import time\n",
    "import math\n",
    "import csv\n",
    "import os\n",
    "\n",
    "ee.Authenticate()\n",
    "ee.Initialize()"
   ]
  },
  {
   "cell_type": "code",
   "execution_count": 27,
   "metadata": {},
   "outputs": [],
   "source": [
    "# Set the test image using an uploaded asset for now\n",
    "testImage = ee.Image('users/kateharvey/i')\n",
    "\n",
    "# Change variable name here to match band name pattern (one of: Albedo, fAPAR, fCOVER, LAI, CCC, CWC, DASF)\n",
    "outputName = 'LAI'\n",
    "defaultBand = 'estimate'+outputName\n",
    "\n",
    "inputImage = ee.Image(testImage.select(1,2,3,7,23,27,28,29,30,31,32,33))\n",
    "inputImage = inputImage.rename(['B2', 'B3', 'B4', 'B8', 'date', 'QC', 'estimateLAI', 'partition', 'networkID', 'errorLAI', 'partition_1', 'networkID_1'])\n",
    "inputImage = inputImage.addBands(inputImage.select('B3').divide(10000), overwrite=True)\n",
    "inputImage = inputImage.addBands(inputImage.select('B4').divide(10000), overwrite=True)\n",
    "inputImage.getInfo()\n",
    "\n",
    "# List the bands that we expect in the image (ensure number of bands in the list below matches the number bands in the input image)\n",
    "# This is the order of bands produced by running SL2P10 and exporting the resulting ImageCollection\n",
    "inputImage_bands = ee.List(['B2', 'B3', 'B4', 'B8', 'date', 'QC', 'estimateLAI', 'partition', 'networkID', 'errorLAI', 'partition_1', 'networkID_1'])"
   ]
  },
  {
   "cell_type": "markdown",
   "metadata": {},
   "source": [
    "### Vegetation Indices Sources\n",
    "\n",
    "1. https://www.hindawi.com/journals/js/2017/1353691/tab1/\n",
    "2. https://www.hiphen-plant.com/blog/vegetation-indices/\n",
    "3. https://gisgeography.com/sentinel-2-bands-combinations/"
   ]
  },
  {
   "cell_type": "code",
   "execution_count": 28,
   "metadata": {},
   "outputs": [],
   "source": [
    "# Below we define a list of strings representing the expressions for each vegetation index as a function of the bands in the input image\n",
    "# More vegetation indices can be defined, but the list CANNOT contain any two vegetation indices which are a linear combination of each\n",
    "# other or LARs will fail to select the requested number of variables\n",
    "\n",
    "# The formatting of the expression must be\n",
    "# \"<name of VI> = <expression with band names from inputImage_bands used as variables in the form b('<band name>')\"\n",
    "\n",
    "# Only include VIs that use 10 m bands (B2, B3, B4, B8)\n",
    "input_VI_definition = ee.List([\"RAW_B2  = b('B2')\",\n",
    "                               \"RAW_B3  = b('B3')\",\n",
    "                               \"RAW_B4  = b('B4')\",\n",
    "                               \"RAW_B8  = b('B8')\",\n",
    "                               \"GI      = b('B3')/b('B4')\",\n",
    "                             # \"RVI3    = b('B4')/b('B6')\",\n",
    "                             # \"SR3     = b('B5')/b('B4')\",\n",
    "                             # \"GM1     = b('B6')/b('B3')\",\n",
    "                             # \"GM2     = b('B6')/b('B5')\",\n",
    "                             # \"SR2     = b('B7')/b('B3')\",\n",
    "                             # \"PSSR    = b('B7')/b('B4')\",\n",
    "                               \"SGI     = b('B8')/b('B4')\",\n",
    "                             # \"MSI     = b('B11')/b('B7')\",\n",
    "                             # \"II      = b('B11')/b('B12')\",\n",
    "                               \"GVI     = (b('B8')/b('B3'))-1\",\n",
    "                             # \"PSRI    = (b('B4')-b('B3'))/b('B6')\",\n",
    "                               \"NDVI3   = ((b('B8')-b('B4'))/(b('B8')))+b('B4')\",\n",
    "                             # \"SR5     = 1/b('B5')\",\n",
    "                             # \"SR6     = b('B4')/(b('B3')*b('B5'))\",\n",
    "                             # \"SR7     = b('B8')/(b('B3')*b('B5'))\",\n",
    "                             # \"IPVI    = b('B7')/(b('B7')+b('B4'))\",\n",
    "                             # \"ARI     = (1/b('B3'))-(1/b('B5'))\",\n",
    "                             # \"ARI2    = b('B7')*((1/b('B3'))-(1/b('B5')))\",\n",
    "                               \"NDVI    = (b('B8')-b('B4'))/(b('B8')+b('B4'))\",\n",
    "                               \"GNDVI   = (b('B8')-b('B3'))/(b('B8')+b('B3'))\",\n",
    "                             # \"NDWI    = (b('B8')-b('B11'))/(b('B8')+b('B11'))\",\n",
    "                             # \"NDREVI  = (b('B8')-b('B5'))/(b('B8')+b('B5'))\",\n",
    "                               \"NDGI    = (b('B3')-b('B4'))/(b('B3')+b('B4'))\",\n",
    "                             # \"NDI1    = (b('B7')-b('B5'))/(b('B7')-b('B4'))\",\n",
    "                             # \"NDI2    = (b('B8')-b('B5'))/(b('B8')-b('B4'))\",\n",
    "                             # \"RENDVI  = (b('B6')-b('B5'))/(b('B6')+b('B5'))\",\n",
    "                             # \"OSAVI   = (1.16*(b('B7')-b('B4')))/(b('B7')+b('B4')+0.61)\",\n",
    "                             # \"NMDI    = (b('B8')-(b('B11')-b('B12')))/(b('B8')+(b('B11')-b('B12')))\",\n",
    "                             # \"HI      = ((b('B3')-b('B5'))/(b('B3')+b('B5')))-0.5*b('B5')\",\n",
    "                             # \"GVSP    = (-0.283*b('B3') - 0.66*b('B4') + 0.577*b('B6') + 0.388*b('B8'))/(0.433*b('B3') - 0.632*b('B4') + 0.586*b('B6') + 0.264*b('B8A'))\",\n",
    "                             # \"MCARI   = ((b('B5')-b('B4'))-0.2*(b('B5')-b('B3')))*(b('B5')/b('B4'))\",\n",
    "                             # \"TCARI   = 3*((b('B5')-b('B4'))-0.2*(b('B5')-b('B3'))*(b('B5')/b('B4')))\",\n",
    "                               \"EVI     = 2.5*((b('B8')-b('B4'))/(b('B8')+6*b('B4')-7.5*b('B3')+1))\",\n",
    "                               \"EVI2    = 2.5*((b('B8')-b('B4'))/(b('B8')+2.4*b('B4')+1))\",\n",
    "                               \"RDVI    = (b('B8')-b('B4'))/((b('B8')+b('B4'))**0.5)\",\n",
    "                               \"MSR     = ((b('B8')/b('B4'))-1)/((b('B8')/b('B4'))**0.5+1)\",\n",
    "                             # \"MSAVI   = 0.5*(2*b('B7')+1-((2*b('B7')+1)**2-8*(b('B7')-b('B4')))**0.5)\",\n",
    "                               \"MSAVI2  = 0.5*(2*b('B8')+1-((2*b('B8')+1)**2-8*(b('B8')-b('B4')))**0.5)\",\n",
    "                             # \"MCARI2  = (1.5*(2.5*(b('B7')-b('B4'))-1.3*(b('B7')-b('B3'))))/((((2*b('B7')+1)**2)-(6*b('B7')-5*(b('B4')**0.5))-0.5)**0.5)\",\n",
    "                             # \"MTVI2   = (1.5*(1.2*(b('B7')-b('B3'))-2.5*(b('B4')-b('B3'))))/(((2*b('B7')+1)**2-(6*b('B7')-5*b('B4'))-0.5)**0.5)\",\n",
    "                             # \"MSR2    = ((b('B7')/b('B4'))-1)/(((b('B7')/b('B4'))+1)**0.5)\",\n",
    "                               \"NLI     = ((b('B8')**2)-b('B4'))/((b('B8')**2)+b('B4'))\"])"
   ]
  },
  {
   "cell_type": "markdown",
   "metadata": {},
   "source": [
    "In the following functions each input is recast to the expected data type as function parameter typing is not enforced in Earth Engine\n",
    "when defining functions, and later methods called on these parameters within the function must recognize the type of the parameter\n",
    "independently of other code"
   ]
  },
  {
   "cell_type": "code",
   "execution_count": 29,
   "metadata": {},
   "outputs": [],
   "source": [
    "# The following function takes an image, a list of strings for the names of the bands in the image to rename to, a string which is the \n",
    "# name of the band containing the response variable in the image, and the list of strings defining vegetation indices to add to the image.\n",
    "# It returns an image which contains all of the original bands in the image renamed and all of the vegetation indices defined earlier\n",
    "# with the response band being the last band defined in the image\n",
    "def format_image(image, image_bands, response_band, VI_definition):\n",
    "    image = ee.Image(image)\n",
    "    image_bands = ee.List(image_bands)\n",
    "    response_band = ee.String(response_band)\n",
    "    VI_definition = ee.List(VI_definition)\n",
    "    \n",
    "    # image_bands specifices a list of the names of the bands used in defining the expressions for VIs in VI_definition\n",
    "    image = image.rename(image_bands).toDouble()\n",
    "    \n",
    "    # Generate an imageCollection from a list of expressions defining a set of Vegetation Indices using the bands available in the image\n",
    "    VIimageCollection = ee.ImageCollection(VI_definition.map(lambda expr: image.expression(expr)))\n",
    "    VIimage = VIimageCollection.toBands().regexpRename(\"[0-9]+_\", \"\")\n",
    "    \n",
    "    # Reorder the bands in the image so the response band is the last band in the image\n",
    "    feature_bands = image_bands.remove(response_band)\n",
    "    \n",
    "    return image.select(feature_bands).addBands(VIimage).addBands(image.select(response_band))"
   ]
  },
  {
   "cell_type": "code",
   "execution_count": 30,
   "metadata": {},
   "outputs": [],
   "source": [
    "# The following function takes an image and retrieves the total number of pixels in the image as an integer\n",
    "def get_num_pixels(image):\n",
    "    image_dimensions = ee.List(image.getInfo()[\"bands\"][28][\"dimensions\"])\n",
    "        # 28 is the index of the last band using the inputs defined above (12 input bands plus 17 VIs = 29 total bands)\n",
    "    image_height = image_dimensions.getNumber(0)\n",
    "    image_width = image_dimensions.getNumber(1)\n",
    "    image_pixels = image_height.multiply(image_width)\n",
    "    \n",
    "    return image_pixels"
   ]
  },
  {
   "cell_type": "code",
   "execution_count": 31,
   "metadata": {},
   "outputs": [],
   "source": [
    "# The following function takes an image and a string which is the name of the band containing the response variable in the image\n",
    "# It returns an image with the response band centred to a mean 0, and the other bands in the image standardized to a mean 0 and a \n",
    "# standard deviation of 1. This preprocessing is necessary for the LARs algorithm\n",
    "def scale_image(image, response_band):\n",
    "    image = ee.Image(image)\n",
    "    response_band = ee.String(response_band)\n",
    "    image_pixels = ee.Number(get_num_pixels(image))\n",
    "    \n",
    "    # Set up lists containing the input/feature bands in the image\n",
    "    bandList = image.bandNames()\n",
    "    featureList = bandList.remove(response_band)\n",
    "    num_bands = bandList.length()\n",
    "    num_features = featureList.length()\n",
    "    \n",
    "    # We will be using the reduceRegion() function on images from Earth Engine, \n",
    "    # which will process up to a specified number of pixels from the image to generate the outputs of the reducer\n",
    "    max_pixels = image_pixels.min(10000000)\n",
    "    # best_effort = ee.Algorithms.If(image_pixels.gt(max_pixels), True, False)\n",
    "    \n",
    "    # Set default projection and scale using the response band\n",
    "    defaultScale = image.select(defaultBand).projection().nominalScale()\n",
    "    defaultCrs = image.select(defaultBand).projection().crs()\n",
    "    image = image.setDefaultProjection(crs=defaultCrs, scale=defaultScale)\n",
    "    \n",
    "    # Center all of the bands in the image for LARs, we will centre the sampled data later as well as reduceRegion() is not precise enough\n",
    "    meanImage = image.subtract(image.reduceRegion(reducer=ee.Reducer.mean(), scale=defaultScale, bestEffort=True, maxPixels=max_pixels).toImage(bandList))\n",
    "    \n",
    "    # Separate the image into features (X) and response (y) as we need to standardize the input features\n",
    "    X = meanImage.select(featureList)\n",
    "    y = meanImage.select(response_band)\n",
    "    \n",
    "    # Standardize the input features\n",
    "    X = X.divide(X.reduceRegion(reducer=ee.Reducer.stdDev(), bestEffort=True, maxPixels=max_pixels).toImage(featureList))\n",
    "    \n",
    "    return X.addBands(y)"
   ]
  },
  {
   "cell_type": "code",
   "execution_count": 32,
   "metadata": {},
   "outputs": [],
   "source": [
    "# The following function implements the LARs algorithm fully as described in (et al. 2002)\n",
    "# It takes an image, a string which is the name of the band containing the response variable in the image, the number of non-zero\n",
    "# coefficients requested for the LARs algorithm to select the best features to predict the response in the image\n",
    "# Additionally the function requires the number of samples (pixels) from the image that the user wishes to process. \n",
    "# These inputs are necessary as Earth Engine provides a limited amount of RAM (2GB) and processing time on their virtual machines,\n",
    "# so the user may need to adjust how many pixels they wish to process in the image in case the function leads to a \n",
    "# \"User memory limit exceeded error\" or \"Computation timed out error\"\n",
    "def ee_LARS(image, response_band, num_nonzero_coefficients, num_samples):\n",
    "    image = ee.Image(image)\n",
    "    response_band = ee.String(response_band)\n",
    "    num_nonzero_coefficients = ee.Number(num_nonzero_coefficients)\n",
    "    num_samples = ee.Number(num_samples)\n",
    "    image_pixels = ee.Number(get_num_pixels(image))\n",
    "\n",
    "    # Retrieve the list of features in the image by getting all of the band names and removing the response band name from the list\n",
    "    bandList = image.bandNames()\n",
    "    print(bandList.getInfo())\n",
    "    featureList = bandList.remove(response_band)\n",
    "    \n",
    "    # Randomly sample pixels in the image at its native resolution into a feature collection\n",
    "    # (either as many as requested in the function call, or all of the pixels in the image if the total number of pixels in the image \n",
    "    # is less than the number of samples requested) \n",
    "    inputCollection = image.sample(numPixels=num_samples.min(image_pixels))\n",
    "    n = inputCollection.size()\n",
    "    m = featureList.length()\n",
    "    \n",
    "    # Use an aggregate array function over the feature collection and map the function over each feature in the band list\n",
    "    # to generate a dictionary of all of the samples retrieved\n",
    "    inputs = ee.Dictionary.fromLists(bandList, bandList.map(lambda feature: inputCollection.aggregate_array(feature)))\n",
    "    \n",
    "    # Although we may call our scale_image function on the input image, the reduceRegion() function used to determine the mean\n",
    "    # and standard deviation of each band in the image over the entire region is not precise enough over a large image\n",
    "    # so we must recenter all of the bands in the image and now we can also normalize (L2 norm) each input feature as is required\n",
    "    # by the LARs algorithm\n",
    "    \n",
    "    # Use an aggregate_mean function over the feature collection to get the mean of each band\n",
    "    input_means = ee.Dictionary.fromLists(bandList, bandList.map(lambda feature: inputCollection.aggregate_mean(feature)))\n",
    "\n",
    "    # Center all of the bands in the image by mapping a function over the list of features and then a subtract over the list of all samples for each band\n",
    "    def centre_inputs(key, value):\n",
    "        key_mean = input_means.getNumber(key)\n",
    "        return ee.List(value).map(lambda sample: ee.Number(sample).subtract(key_mean))\n",
    "    inputs = inputs.map(centre_inputs)\n",
    "    \n",
    "    # Separate the response variable samples into its own vector\n",
    "    y = inputs.toArray([response_band]).reshape([-1,1])\n",
    "    \n",
    "    # Remove response band from the feature collection by selecting only bands in the feature list\n",
    "    inputs = inputs.select(featureList)\n",
    "    \n",
    "    # Generate a dictionary of all of the L2 norms of the input features using a custom mapped function\n",
    "    input_norms = inputs.map(lambda key, value: ee.Number(ee.List(value).map(lambda sample: ee.Number(sample).pow(2)).reduce(ee.Reducer.sum())).pow(0.5))\n",
    "    \n",
    "    # Normalize all of the features by mapping a function over the list of features and then map a division over the list of all of the samples of the feature\n",
    "    def norm_inputs(key, value):\n",
    "        key_norm = input_norms.getNumber(key)\n",
    "        return ee.List(value).map(lambda sample: ee.Number(sample).divide(key_norm))\n",
    "    inputs = inputs.map(norm_inputs)\n",
    "    \n",
    "    # Generate the array of samples using the dictionary\n",
    "    X = inputs.toArray(featureList).transpose()\n",
    "    \n",
    "    # Find the first best predictor of the response to initialize the main LARs loop\n",
    "    initial_prediction = ee.Array(ee.List.repeat([0], n))\n",
    "    c = X.transpose().matrixMultiply(y.subtract(initial_prediction))\n",
    "    c_abs = c.abs()\n",
    "    C_maxLoc = c_abs.project([0]).argmax()\n",
    "    add_feature = C_maxLoc.getNumber(0)\n",
    "    A = ee.List([add_feature])\n",
    "    \n",
    "    # Create a dicitionary of initial inputs to pass into the main LARs iterative loop\n",
    "    # The iterate function in Earth Engine processes each iteration as a tree of iterations with no access to any variables\n",
    "    # from previous iterations, only those that are passed to the next iteration, so we must pass both the current prediction and\n",
    "    # the active set of features (with non-zero coefficients), A\n",
    "    initial_inputs = ee.Dictionary({'prediction': initial_prediction, 'A': A})\n",
    "    \n",
    "    def LARs_regression(iteration, inputs):\n",
    "        inputs = ee.Dictionary(inputs)\n",
    "        \n",
    "        # Find the active set of features, A (predictors with non-zero coefficients)\n",
    "        A = ee.List(inputs.get('A'))\n",
    "        # A_list is an array used to mask the full array of input samples and the correlation vector\n",
    "        A_list = ee.Array(ee.List.sequence(0, m.subtract(1)).map(lambda index: A.contains(index)).replaceAll(False, 0).replaceAll(True, 1)).reshape([-1,1])\n",
    "        \n",
    "        # The following matrix algebra determines the next most correlated variable, or the next best predictor considering the\n",
    "        # current features in the active set, A, as well as the magnitude to adjust the prediction vector to ensure all of the features\n",
    "        # in the active set are equally correlated to response vector\n",
    "        prediction = inputs.getArray('prediction')\n",
    "        c = X.transpose().matrixMultiply(y.subtract(prediction))\n",
    "        c_abs = c.abs()\n",
    "        C_max = c_abs.get(c_abs.argmax())\n",
    "        s_A = c.divide(c_abs).mask(A_list)\n",
    "        X_A = X.mask(A_list.transpose())\n",
    "        G_Ai = X_A.transpose().matrixMultiply(X_A).matrixInverse()\n",
    "        G1 = G_Ai.matrixMultiply(s_A)\n",
    "        A_A = s_A.project([0]).dotProduct(G1.project([0])).pow(-0.5)\n",
    "        w_A = G1.multiply(A_A)\n",
    "        u_A = X_A.matrixMultiply(w_A)\n",
    "        a = X.transpose().matrixMultiply(u_A)\n",
    "        a = a.project([0])\n",
    "        c = c.project([0])\n",
    "        \n",
    "        def compute_gammaArray(index_j):\n",
    "            minus_j = C_max.subtract(c.get([index_j])).divide(A_A.subtract(a.get([index_j])))\n",
    "            plus_j = C_max.add(c.get([index_j])).divide(A_A.add(a.get([index_j])))\n",
    "            return ee.List([minus_j, plus_j]).filter(ee.Filter.gte('item', 0)).reduce(ee.Reducer.min())\n",
    "        \n",
    "        A_c = ee.List.sequence(0, m.subtract(1)).removeAll(A)\n",
    "        gammaArray = A_c.map(compute_gammaArray)\n",
    "        gamma = gammaArray.reduce(ee.Reducer.min())\n",
    "        min_location = gammaArray.indexOf(gamma)\n",
    "        add_feature = A_c.getNumber(min_location)\n",
    "        \n",
    "        # Update our active set of variables with the next best predictor from the non-active set and update the prediction vector\n",
    "        A = A.add(add_feature)\n",
    "        prediction = prediction.add(u_A.multiply(gamma))\n",
    "        \n",
    "        return ee.Dictionary({'prediction': prediction, 'A': A})\n",
    "    \n",
    "    # For the final iteration of LARs(if selecting all of the input variables) we require a different method to determine the magnitude\n",
    "    # to adjust the magnitude of the prediction vector, as the regular LARs iteration relies on the variables in the non-active set\n",
    "    # In the final iteration there will be no variables in the non-active set, so the method will not work\n",
    "    def LARs_final_iteration(iteration, inputs):\n",
    "        inputs = ee.Dictionary(inputs)\n",
    "        A = ee.List(inputs.get('A'))\n",
    "        \n",
    "        prediction = inputs.getArray('prediction')\n",
    "        c = X.transpose().matrixMultiply(y.subtract(prediction))\n",
    "        c_abs = c.abs()\n",
    "        C_max = c_abs.get(c_abs.argmax())        \n",
    "        \n",
    "        s_A = c.divide(c_abs)\n",
    "        G_Ai = X.transpose().matrixMultiply(X).matrixInverse()\n",
    "        G1 = G_Ai.matrixMultiply(s_A)\n",
    "        A_A = s_A.project([0]).dotProduct(G1.project([0])).pow(-0.5)\n",
    "        w_A = G1.multiply(A_A)\n",
    "        u_A = X.matrixMultiply(w_A)\n",
    "        \n",
    "        gamma = C_max.divide(A_A)\n",
    "        prediction = prediction.add(u_A.multiply(gamma))\n",
    "        \n",
    "        return ee.Dictionary({'prediction': prediction, 'A': A})\n",
    "    \n",
    "    # Actually carrying out the iterations by iterating over a placeholder list which is a sequence from 1 to the number of non-zero\n",
    "    # variables that the user wishes to select as predictors for the response\n",
    "    iterations = ee.List.sequence(1, m.subtract(1).min(num_nonzero_coefficients))\n",
    "    penultimate_outputs = iterations.iterate(LARs_regression, initial_inputs)\n",
    "    final_outputs = ee.Dictionary(ee.Algorithms.If(num_nonzero_coefficients.gte(m), LARs_final_iteration(m, penultimate_outputs), penultimate_outputs))\n",
    "    \n",
    "    final_prediction = final_outputs.getArray('prediction')\n",
    "    A = ee.List(final_outputs.get('A'))\n",
    "    feature_path = A.slice(0, num_nonzero_coefficients).map(lambda index: featureList.getString(index))\n",
    "    \n",
    "    # The code snippet below is able to extract the exact coefficients on all of the selected features, but is commented out\n",
    "    # as it adds computational complexity that takes up unnecessary memory on the Google Earth Engine virtual machine since we\n",
    "    # are only using LARs as a feature selection algorithm\n",
    "\n",
    "#     coefficients = X.matrixSolve(final_prediction).project([0]).toList().map(lambda num: ee.Algorithms.If(ee.Number(num).abs().lt(0.001), 0, num))\n",
    "#     print('Coefficients')\n",
    "#     coeff = ee.Dictionary.fromLists(featureList, coefficients).getInfo()\n",
    "#     ordered_coeff = OrderedDict()\n",
    "#     var_path = feature_path.cat(featureList.removeAll(feature_path)).getInfo()\n",
    "#     for key in var_path:\n",
    "#         ordered_coeff[key] = coeff[key]\n",
    "#     print(json.dumps(ordered_coeff, indent=1))\n",
    "\n",
    "    return feature_path #.getInfo()"
   ]
  },
  {
   "cell_type": "code",
   "execution_count": 33,
   "metadata": {},
   "outputs": [],
   "source": [
    "# The following function trims input data according to an algorithm in which the response band is partitioned into n equally sized\n",
    "# partitions, and in each of the n partitions, for the features selected by LARs, they are each trimmed individually down to only the\n",
    "# 5-95 percentile of the data. We are not doing any preprocessing with the data, so the raw data is exported from Earth Engine\n",
    "# The function takes an image, a list of strings with the selected feature bands in the image, the string that is the name of the response\n",
    "# band in this image, the number of samples/pixels the user wants to take from the image, and the number of parititions to trim within\n",
    "def trim_data(image, selected_features, response_band, num_samples, num_partitions):\n",
    "    image = ee.Image(image)\n",
    "    selected_features = ee.List(selected_features)\n",
    "    response_band = ee.String(response_band)\n",
    "    num_samples = ee.Number(num_samples)\n",
    "    num_partitions = ee.Number(num_partitions)\n",
    "    \n",
    "    # Generate the list of percentile bounds for the requested number of partitions, and the names of the value bounds for the\n",
    "    # dictionary that will be generated from the percentile reducer used later on\n",
    "    percentiles = ee.List.sequence(0, 100, ee.Number(100).divide(num_partitions))\n",
    "    percentile_names = percentiles.map(lambda num: ee.Number(num).round().toInt().format(\"p%s\"))\n",
    "    \n",
    "    # Randomly sample the pixels in the input image into a feature collection containing only the selected features and the response\n",
    "    image_pixels = ee.Number(get_num_pixels(image))\n",
    "    inputsCollection = image.select(selected_features.add(response_band)).sample(numPixels=num_samples.min(image_pixels))\n",
    "    \n",
    "    # Find the values at the percentile bounds using the percentile reducer over the feature collection\n",
    "    response_percentiles = inputsCollection.reduceColumns(ee.Reducer.percentile(percentiles=percentiles, outputNames=percentile_names, maxRaw=inputsCollection.size()), [response_band])\n",
    "    \n",
    "    # Create a list of percentile bounds for each partition\n",
    "    response_partitions = response_percentiles.values(percentile_names.remove('p100')).zip(response_percentiles.values(percentile_names.remove('p0')))\n",
    "    \n",
    "    # We'll use the following function mapped over the response_partitions list to partition the data by the requested number of partitions\n",
    "    def partition_data(partition_range):\n",
    "        partition_range = ee.List(partition_range)\n",
    "        return inputsCollection.filter(ee.Filter.rangeContains(response_band, partition_range.getNumber(0), partition_range.getNumber(1)))\n",
    "    \n",
    "    partitioned_data = response_partitions.map(partition_data)\n",
    "    \n",
    "    # The following function now trims the data in each partition individually for each feature to its 5-95 percentile only\n",
    "    def trim_partitions(partition):\n",
    "        partition = ee.FeatureCollection(partition)\n",
    "        feature_trimming_bounds = selected_features.map(lambda feature: ee.List([feature]).cat(partition.reduceColumns(ee.Reducer.percentile([5, 95]), [feature]).values(['p5','p95'])))\n",
    "        def trimmer(current_feature, collection):\n",
    "            current_feature = ee.List(current_feature)\n",
    "            collection = ee.FeatureCollection(collection)\n",
    "            return collection.filter(ee.Filter.rangeContains(current_feature.getString(0), current_feature.getNumber(1), current_feature.getNumber(2)))\n",
    "        return feature_trimming_bounds.iterate(trimmer, partition)\n",
    "    \n",
    "    # Retrieve the trimmed data partitions and flatten the paritions into a single trimmed feature collection\n",
    "    trimmed_partitions = partitioned_data.map(trim_partitions)\n",
    "    trimmed_data = ee.FeatureCollection(trimmed_partitions).flatten()\n",
    "    \n",
    "    return trimmed_data"
   ]
  },
  {
   "cell_type": "code",
   "execution_count": 34,
   "metadata": {},
   "outputs": [],
   "source": [
    "def elu(x):\n",
    "    return x if x>=0 else (math.exp(x)-1)"
   ]
  },
  {
   "cell_type": "code",
   "execution_count": 35,
   "metadata": {},
   "outputs": [],
   "source": [
    "def softplus(x):\n",
    "    return math.log(math.exp(x)+1)"
   ]
  },
  {
   "cell_type": "code",
   "execution_count": 36,
   "metadata": {},
   "outputs": [],
   "source": [
    "def softsign(x):\n",
    "    return x/(abs(x)+1)"
   ]
  },
  {
   "cell_type": "code",
   "execution_count": 37,
   "metadata": {},
   "outputs": [],
   "source": [
    "def relu(x):\n",
    "    return max(x, 0.0)"
   ]
  },
  {
   "cell_type": "code",
   "execution_count": 38,
   "metadata": {},
   "outputs": [],
   "source": [
    "def tanh(x):\n",
    "    return (math.exp(2*x)-1)/(math.exp(2*x)+1)"
   ]
  },
  {
   "cell_type": "code",
   "execution_count": 39,
   "metadata": {},
   "outputs": [],
   "source": [
    "def sigmoid(x):\n",
    "    return 1/(1+math.exp(-x))"
   ]
  },
  {
   "cell_type": "code",
   "execution_count": 40,
   "metadata": {},
   "outputs": [],
   "source": [
    "def apply_nnet(inputs, keras_model):\n",
    "    activation_functions = {\n",
    "        \"elu\": elu,\n",
    "        \"softplus\": softplus,\n",
    "        \"softsign\": softsign,\n",
    "        \"relu\": relu,\n",
    "        \"tanh\": tanh,\n",
    "        \"sigmoid\": sigmoid}\n",
    "    \n",
    "    for layer in keras_model.layers:\n",
    "        layer_weights = layer.get_weights()\n",
    "        node_weights = layer_weights[0]\n",
    "        bias = layer_weights[1]\n",
    "        \n",
    "        inputs = inputs.dot(node_weights)+bias\n",
    "        \n",
    "        activation_function = layer.get_config()[\"activation\"]\n",
    "        if(activation_function != \"linear\"):\n",
    "            activation_function = activation_functions[activation_function]\n",
    "            \n",
    "            inputs = activation_function(inputs)\n",
    "            \n",
    "    return inputs"
   ]
  },
  {
   "cell_type": "code",
   "execution_count": 41,
   "metadata": {},
   "outputs": [],
   "source": [
    "# The following function exports the keras model in a way that can be parsed into a feature collection in Earth Engine and applied to images manually\n",
    "\n",
    "def export_nnet(keras_model, X):\n",
    "    nnet_data = []\n",
    "    headers = []\n",
    "    prev_layer_size = len(X.keys())\n",
    "    layer_num = 0\n",
    "    \n",
    "    for layer in keras_model.layers:\n",
    "        layer_info = layer.get_config()\n",
    "        num_nodes = layer_info[\"units\"]\n",
    "        activation_function = layer_info[\"activation\"]\n",
    "        layer_weights = layer.get_weights()[0]\n",
    "        layer_bias = layer.get_weights()[1]\n",
    "        \n",
    "        headers = list(set(headers) | set([x for x in range((prev_layer_size+1)*num_nodes)]))\n",
    "        \n",
    "        layer_data = [0, 0, layer_num, prev_layer_size, num_nodes, activation_function] + layer_weights.flatten().tolist() + layer_bias.tolist()\n",
    "        nnet_data.append(layer_data)\n",
    "        \n",
    "        prev_layer_size = num_nodes\n",
    "        layer_num += 1\n",
    "    \n",
    "    nnet_data.insert(0, [\"latitude\", \"longitude\", \"layer_num\", \"prev_layer_size\", \"num_nodes\", \"activation\"]+headers)\n",
    "    return nnet_data"
   ]
  },
  {
   "cell_type": "code",
   "execution_count": 42,
   "metadata": {},
   "outputs": [],
   "source": [
    "def make_nets(X, y):\n",
    "    LAI_model = tf.keras.models.Sequential([\n",
    "        tf.keras.layers.Dense(5, input_shape=[len(X.keys())]),\n",
    "        tf.keras.layers.Dense(4, activation=\"softsign\"),\n",
    "        tf.keras.layers.Dense(3, activation=\"softsign\"),\n",
    "        tf.keras.layers.Dense(2, activation=\"softsign\"),\n",
    "        tf.keras.layers.Dense(1)\n",
    "    ])\n",
    "\n",
    "    # Compiling the model to minimize the mean squared error loss function and use the NADAM optimizer\n",
    "    LAI_model.compile(optimizer=tf.keras.optimizers.Nadam(), loss='mse', metrics=['mse', 'mae'])\n",
    "\n",
    "    # Fitting the model to our trimmed data\n",
    "    LAI_model.fit(x=X.to_numpy(), y=y.to_numpy(), epochs=100)\n",
    "\n",
    "    return LAI_model"
   ]
  },
  {
   "cell_type": "code",
   "execution_count": 43,
   "metadata": {},
   "outputs": [],
   "source": [
    "inputImage = format_image(inputImage, inputImage_bands, defaultBand, input_VI_definition)"
   ]
  },
  {
   "cell_type": "code",
   "execution_count": 44,
   "metadata": {},
   "outputs": [],
   "source": [
    "num_input_pixels = get_num_pixels(inputImage)"
   ]
  },
  {
   "cell_type": "code",
   "execution_count": 45,
   "metadata": {},
   "outputs": [],
   "source": [
    "scaledImage = scale_image(inputImage, defaultBand)"
   ]
  },
  {
   "cell_type": "code",
   "execution_count": 46,
   "metadata": {
    "scrolled": true
   },
   "outputs": [
    {
     "name": "stdout",
     "output_type": "stream",
     "text": [
      "['B2', 'B3', 'B4', 'B8', 'date', 'QC', 'partition', 'networkID', 'errorLAI', 'partition_1', 'networkID_1', 'RAW_B2', 'RAW_B3', 'RAW_B4', 'RAW_B8', 'GI', 'SGI', 'GVI', 'NDVI3', 'NDVI', 'GNDVI', 'NDGI', 'EVI', 'EVI2', 'RDVI', 'MSR', 'MSAVI2', 'NLI', 'estimateLAI']\n"
     ]
    }
   ],
   "source": [
    "select_features = ee_LARS(scaledImage, defaultBand, 5, 10000)"
   ]
  },
  {
   "cell_type": "markdown",
   "metadata": {},
   "source": [
    "Currently the trimmed data is processed then in a neural network created using tensorflow to find nonlinear relationships between the predictor and the response. Earth Engine does not have this functionality (for free) to generate neural network based models.\n",
    "\n",
    "Here we also see how the server side in the Earth Engine API is completely separate from the client side on the local machine. We need\n",
    "to export our trimmed data as a CSV to a google drive which is synced into the \"gdrive\" folder in our local machine using the \n",
    "Backup and Sync software or using google-drive-ocamlfuse on Linux"
   ]
  },
  {
   "cell_type": "code",
   "execution_count": 47,
   "metadata": {},
   "outputs": [],
   "source": [
    "# Creating the export task on the server side from Earth Engine. Remember that the data will be exported to the google drive of the google\n",
    "# account you used when you initiated the Earth Engine API authentication flow, so ensure that, that accounts drive is synced to the \n",
    "# gdrive folder in the same folder as this script\n",
    "trimmedCollection = trim_data(image=inputImage.updateMask(inputImage.select(defaultBand).gt(0)),\n",
    "                                  selected_features=select_features,\n",
    "                                  response_band=defaultBand,\n",
    "                                  num_samples=50000,\n",
    "                                  num_partitions=10)\n",
    "\n",
    "exportData = ee.batch.Export.table.toDrive(collection=trimmedCollection,\n",
    "                                           description=\"image_data_samples_10m\",\n",
    "                                           fileFormat=\"CSV\")\n",
    "\n",
    "# Starting the export data task\n",
    "exportData.start()"
   ]
  },
  {
   "cell_type": "code",
   "execution_count": 48,
   "metadata": {
    "scrolled": true
   },
   "outputs": [
    {
     "name": "stdout",
     "output_type": "stream",
     "text": [
      "READY\n",
      "RUNNING\n",
      "COMPLETED\n"
     ]
    }
   ],
   "source": [
    "# Essentially a wait loop to see if the data has finished exporting by checking with the server-side\n",
    "prev_task_status = ee.data.getTaskStatus(exportData.id)[0][\"state\"]\n",
    "print(prev_task_status)\n",
    "while exportData.active():\n",
    "    task_status = ee.data.getTaskStatus(exportData.id)[0][\"state\"]\n",
    "    if(task_status != prev_task_status):\n",
    "        print(task_status)\n",
    "    prev_task_status = task_status\n",
    "    time.sleep(5)\n",
    "print(ee.data.getTaskStatus(exportData.id)[0][\"state\"])"
   ]
  },
  {
   "cell_type": "markdown",
   "metadata": {},
   "source": [
    "For a more robust way to check if the data has been exported properly, we can use a wait loop to check on our local machine until the exported data file exists in the synced \"gdrive\" folder\n",
    "\n",
    "From here on out, all of the processing is done using your local hardware and packages, so it may be helpful to use a powerful machine."
   ]
  },
  {
   "cell_type": "code",
   "execution_count": 50,
   "metadata": {},
   "outputs": [],
   "source": [
    "# Reading the CSV file into pandas dataframes\n",
    "trimmed_data = pd.read_csv('./gdrive/image_data_samples_10m.csv')\n",
    "X = trimmed_data.drop(labels=['estimateLAI', 'system:index', '.geo'], axis=1)\n",
    "y = trimmed_data.estimateLAI\n",
    "\n",
    "# We preprocess the input features by standardizing them to a mean of 0 and a standard deviation of 1 for the neural network\n",
    "X = pd.DataFrame(skl.preprocessing.scale(X))"
   ]
  },
  {
   "cell_type": "code",
   "execution_count": 51,
   "metadata": {},
   "outputs": [
    {
     "name": "stderr",
     "output_type": "stream",
     "text": [
      "2021-10-29 13:24:01.610028: I tensorflow/core/platform/cpu_feature_guard.cc:142] This TensorFlow binary is optimized with oneAPI Deep Neural Network Library (oneDNN) to use the following CPU instructions in performance-critical operations:  SSE4.1 SSE4.2 AVX AVX2 FMA\n",
      "To enable them in other operations, rebuild TensorFlow with the appropriate compiler flags.\n",
      "2021-10-29 13:24:01.853244: I tensorflow/compiler/mlir/mlir_graph_optimization_pass.cc:116] None of the MLIR optimization passes are enabled (registered 2)\n"
     ]
    },
    {
     "name": "stdout",
     "output_type": "stream",
     "text": [
      "Epoch 1/100\n",
      "828/828 [==============================] - 3s 2ms/step - loss: 7724198.1423 - mse: 7724198.1423 - mae: 2628.5770: 0s - loss: 7731942.7035 - mse: 7731942.7\n",
      "Epoch 2/100\n",
      "828/828 [==============================] - 2s 2ms/step - loss: 7686512.7527 - mse: 7686512.7527 - mae: 2621.3601\n",
      "Epoch 3/100\n",
      "828/828 [==============================] - 2s 2ms/step - loss: 7703963.5838 - mse: 7703963.5838 - mae: 2624.0946\n",
      "Epoch 4/100\n",
      "828/828 [==============================] - 2s 3ms/step - loss: 7642081.5507 - mse: 7642081.5507 - mae: 2612.2164: 0s - loss: 7637590.2341 - mse: 763\n",
      "Epoch 5/100\n",
      "828/828 [==============================] - 2s 2ms/step - loss: 7649844.3975 - mse: 7649844.3975 - mae: 2612.9484\n",
      "Epoch 6/100\n",
      "828/828 [==============================] - 2s 3ms/step - loss: 7678746.0989 - mse: 7678746.0989 - mae: 2619.1762\n",
      "Epoch 7/100\n",
      "828/828 [==============================] - 2s 2ms/step - loss: 7606472.3945 - mse: 7606472.3945 - mae: 2605.1301: 0s - loss: 7597676.9390 - mse: 759\n",
      "Epoch 8/100\n",
      "828/828 [==============================] - 2s 2ms/step - loss: 7629477.8209 - mse: 7629477.8209 - mae: 2609.0762\n",
      "Epoch 9/100\n",
      "828/828 [==============================] - 2s 3ms/step - loss: 7605212.4216 - mse: 7605212.4216 - mae: 2604.3658: 0s - loss: 7606954.6792 - mse: 7606954.6792 - mae:\n",
      "Epoch 10/100\n",
      "828/828 [==============================] - 2s 2ms/step - loss: 7569163.5561 - mse: 7569163.5561 - mae: 2598.7064\n",
      "Epoch 11/100\n",
      "828/828 [==============================] - 2s 2ms/step - loss: 7626685.2835 - mse: 7626685.2835 - mae: 2609.5283\n",
      "Epoch 12/100\n",
      "828/828 [==============================] - 2s 2ms/step - loss: 7605418.2334 - mse: 7605418.2334 - mae: 2604.7743\n",
      "Epoch 13/100\n",
      "828/828 [==============================] - 2s 2ms/step - loss: 7494565.7002 - mse: 7494565.7002 - mae: 2583.7108\n",
      "Epoch 14/100\n",
      "828/828 [==============================] - 2s 2ms/step - loss: 7521038.6164 - mse: 7521038.6164 - mae: 2588.7459\n",
      "Epoch 15/100\n",
      "828/828 [==============================] - 2s 2ms/step - loss: 7490891.5597 - mse: 7490891.5597 - mae: 2582.8171\n",
      "Epoch 16/100\n",
      "828/828 [==============================] - 2s 2ms/step - loss: 7512558.6472 - mse: 7512558.6472 - mae: 2585.6741\n",
      "Epoch 17/100\n",
      "828/828 [==============================] - 2s 2ms/step - loss: 7466475.4270 - mse: 7466475.4270 - mae: 2578.5477\n",
      "Epoch 18/100\n",
      "828/828 [==============================] - 2s 3ms/step - loss: 7483136.8191 - mse: 7483136.8191 - mae: 2583.8266\n",
      "Epoch 19/100\n",
      "828/828 [==============================] - 2s 2ms/step - loss: 7473932.0277 - mse: 7473932.0277 - mae: 2578.4481: 0s - loss: 7475291.1636 - mse: 7475291.1636 - mae:\n",
      "Epoch 20/100\n",
      "828/828 [==============================] - 2s 2ms/step - loss: 7479886.8637 - mse: 7479886.8637 - mae: 2582.2859: 0s - loss: 7514996.5111 - \n",
      "Epoch 21/100\n",
      "828/828 [==============================] - 2s 3ms/step - loss: 7479732.4831 - mse: 7479732.4831 - mae: 2582.0234\n",
      "Epoch 22/100\n",
      "828/828 [==============================] - 2s 2ms/step - loss: 7443296.5657 - mse: 7443296.5657 - mae: 2575.6342\n",
      "Epoch 23/100\n",
      "828/828 [==============================] - 2s 2ms/step - loss: 7416018.3414 - mse: 7416018.3414 - mae: 2566.9141\n",
      "Epoch 24/100\n",
      "828/828 [==============================] - 2s 2ms/step - loss: 7431936.8884 - mse: 7431936.8884 - mae: 2571.9755\n",
      "Epoch 25/100\n",
      "828/828 [==============================] - 2s 2ms/step - loss: 7372200.2177 - mse: 7372200.2177 - mae: 2558.9008\n",
      "Epoch 26/100\n",
      "828/828 [==============================] - 2s 2ms/step - loss: 7424363.1261 - mse: 7424363.1261 - mae: 2569.0629: 0s - loss: 74625\n",
      "Epoch 27/100\n",
      "828/828 [==============================] - 2s 2ms/step - loss: 7393721.2696 - mse: 7393721.2696 - mae: 2563.2454\n",
      "Epoch 28/100\n",
      "828/828 [==============================] - 2s 2ms/step - loss: 7358783.4994 - mse: 7358783.4994 - mae: 2556.7450: 1s\n",
      "Epoch 29/100\n",
      "828/828 [==============================] - 3s 4ms/step - loss: 7352530.1411 - mse: 7352530.1411 - mae: 2556.5363\n",
      "Epoch 30/100\n",
      "828/828 [==============================] - 3s 3ms/step - loss: 7328721.5911 - mse: 7328721.5911 - mae: 2551.0072\n",
      "Epoch 31/100\n",
      "828/828 [==============================] - 2s 2ms/step - loss: 7307227.7274 - mse: 7307227.7274 - mae: 2548.3270\n",
      "Epoch 32/100\n",
      "828/828 [==============================] - 2s 2ms/step - loss: 7288873.7877 - mse: 7288873.7877 - mae: 2544.1084\n",
      "Epoch 33/100\n",
      "828/828 [==============================] - 2s 2ms/step - loss: 7275528.9487 - mse: 7275528.9487 - mae: 2540.5322\n",
      "Epoch 34/100\n",
      "828/828 [==============================] - 2s 3ms/step - loss: 7284715.8812 - mse: 7284715.8812 - mae: 2543.7122\n",
      "Epoch 35/100\n",
      "828/828 [==============================] - 2s 3ms/step - loss: 7236644.5127 - mse: 7236644.5127 - mae: 2533.8354\n",
      "Epoch 36/100\n",
      "828/828 [==============================] - 2s 2ms/step - loss: 7245492.8552 - mse: 7245492.8552 - mae: 2535.0906\n",
      "Epoch 37/100\n",
      "828/828 [==============================] - 2s 2ms/step - loss: 7230526.9795 - mse: 7230526.9795 - mae: 2530.9649\n",
      "Epoch 38/100\n",
      "828/828 [==============================] - 2s 2ms/step - loss: 7219974.8384 - mse: 7219974.8384 - mae: 2529.0385\n",
      "Epoch 39/100\n",
      "828/828 [==============================] - 2s 2ms/step - loss: 7216161.1315 - mse: 7216161.1315 - mae: 2528.0065\n",
      "Epoch 40/100\n",
      "828/828 [==============================] - 2s 2ms/step - loss: 7212056.4517 - mse: 7212056.4517 - mae: 2529.4025\n",
      "Epoch 41/100\n",
      "828/828 [==============================] - 2s 2ms/step - loss: 7150259.2292 - mse: 7150259.2292 - mae: 2517.3264\n",
      "Epoch 42/100\n",
      "828/828 [==============================] - 2s 2ms/step - loss: 7182333.8504 - mse: 7182333.8504 - mae: 2520.5074\n",
      "Epoch 43/100\n",
      "828/828 [==============================] - 2s 2ms/step - loss: 7127425.6478 - mse: 7127425.6478 - mae: 2513.7222\n",
      "Epoch 44/100\n",
      "828/828 [==============================] - 2s 2ms/step - loss: 7170930.0109 - mse: 7170930.0109 - mae: 2520.7634\n",
      "Epoch 45/100\n",
      "828/828 [==============================] - 2s 2ms/step - loss: 7165985.5543 - mse: 7165985.5543 - mae: 2517.9419\n",
      "Epoch 46/100\n",
      "828/828 [==============================] - 2s 3ms/step - loss: 7070846.3679 - mse: 7070846.3679 - mae: 2501.0796: 1s - loss: 7057414\n",
      "Epoch 47/100\n",
      "828/828 [==============================] - 2s 3ms/step - loss: 7103521.1556 - mse: 7103521.1556 - mae: 2506.9533\n",
      "Epoch 48/100\n",
      "828/828 [==============================] - 2s 2ms/step - loss: 7107391.6773 - mse: 7107391.6773 - mae: 2506.9246\n",
      "Epoch 49/100\n",
      "828/828 [==============================] - 2s 2ms/step - loss: 7145233.8733 - mse: 7145233.8733 - mae: 2515.4350\n",
      "Epoch 50/100\n",
      "828/828 [==============================] - 3s 3ms/step - loss: 7052859.4837 - mse: 7052859.4837 - mae: 2497.9461\n",
      "Epoch 51/100\n",
      "828/828 [==============================] - 2s 3ms/step - loss: 7123369.4861 - mse: 7123369.4861 - mae: 2511.3457\n",
      "Epoch 52/100\n",
      "828/828 [==============================] - 2s 2ms/step - loss: 7082561.8667 - mse: 7082561.8667 - mae: 2503.4285\n",
      "Epoch 53/100\n",
      "828/828 [==============================] - 2s 2ms/step - loss: 7076521.5561 - mse: 7076521.5561 - mae: 2503.5680\n",
      "Epoch 54/100\n",
      "828/828 [==============================] - 2s 2ms/step - loss: 6977862.3359 - mse: 6977862.3359 - mae: 2481.5532\n",
      "Epoch 55/100\n",
      "828/828 [==============================] - 2s 3ms/step - loss: 7041171.3661 - mse: 7041171.3661 - mae: 2494.2581: 0s - loss: 7059773.7066 \n",
      "Epoch 56/100\n",
      "828/828 [==============================] - 2s 2ms/step - loss: 6972983.4228 - mse: 6972983.4228 - mae: 2482.7806\n",
      "Epoch 57/100\n",
      "828/828 [==============================] - 2s 3ms/step - loss: 6998854.3004 - mse: 6998854.3004 - mae: 2485.8123\n",
      "Epoch 58/100\n",
      "828/828 [==============================] - 2s 2ms/step - loss: 7052108.1291 - mse: 7052108.1291 - mae: 2498.9010\n",
      "Epoch 59/100\n",
      "828/828 [==============================] - 2s 2ms/step - loss: 6950114.5320 - mse: 6950114.5320 - mae: 2476.3829\n",
      "Epoch 60/100\n",
      "828/828 [==============================] - 2s 3ms/step - loss: 6937136.7008 - mse: 6937136.7008 - mae: 2474.3526\n",
      "Epoch 61/100\n",
      "828/828 [==============================] - 2s 2ms/step - loss: 7012298.1834 - mse: 7012298.1834 - mae: 2489.7826: 1s - loss: 7086614.3\n",
      "Epoch 62/100\n",
      "828/828 [==============================] - 2s 2ms/step - loss: 6904929.1490 - mse: 6904929.1490 - mae: 2466.5639: 0s - loss: 6900733.5459 - mse: 6900733.5459 \n",
      "Epoch 63/100\n",
      "828/828 [==============================] - 2s 2ms/step - loss: 6971728.8770 - mse: 6971728.8770 - mae: 2481.0926\n",
      "Epoch 64/100\n",
      "828/828 [==============================] - 2s 2ms/step - loss: 6850935.7298 - mse: 6850935.7298 - mae: 2456.0284\n",
      "Epoch 65/100\n",
      "828/828 [==============================] - 2s 3ms/step - loss: 6898374.7129 - mse: 6898374.7129 - mae: 2466.5920\n",
      "Epoch 66/100\n",
      "828/828 [==============================] - 2s 3ms/step - loss: 6882888.8420 - mse: 6882888.8420 - mae: 2461.5347\n",
      "Epoch 67/100\n",
      "828/828 [==============================] - 2s 3ms/step - loss: 6845815.9053 - mse: 6845815.9053 - mae: 2454.2465: 2s - loss: 6778330.8235 - mse: 6778330.8235 - ma\n",
      "Epoch 68/100\n",
      "828/828 [==============================] - 2s 3ms/step - loss: 6888373.3571 - mse: 6888373.3571 - mae: 2462.1897\n",
      "Epoch 69/100\n",
      "828/828 [==============================] - 2s 3ms/step - loss: 6848585.7847 - mse: 6848585.7847 - mae: 2454.9719\n",
      "Epoch 70/100\n",
      "828/828 [==============================] - 2s 2ms/step - loss: 6802209.6852 - mse: 6802209.6852 - mae: 2444.0883\n",
      "Epoch 71/100\n",
      "828/828 [==============================] - 2s 2ms/step - loss: 6828740.7298 - mse: 6828740.7298 - mae: 2450.4283\n",
      "Epoch 72/100\n",
      "828/828 [==============================] - 2s 2ms/step - loss: 6869213.0712 - mse: 6869213.0712 - mae: 2459.3719\n",
      "Epoch 73/100\n",
      "828/828 [==============================] - 2s 2ms/step - loss: 6813978.8969 - mse: 6813978.8969 - mae: 2448.7774\n",
      "Epoch 74/100\n",
      "828/828 [==============================] - 2s 3ms/step - loss: 6753666.9729 - mse: 6753666.9729 - mae: 2435.3801\n",
      "Epoch 75/100\n",
      "828/828 [==============================] - 2s 2ms/step - loss: 6811175.1954 - mse: 6811175.1954 - mae: 2447.9604\n",
      "Epoch 76/100\n",
      "828/828 [==============================] - 2s 2ms/step - loss: 6783906.3209 - mse: 6783906.3209 - mae: 2442.5790\n",
      "Epoch 77/100\n",
      "828/828 [==============================] - 2s 3ms/step - loss: 6785260.1261 - mse: 6785260.1261 - mae: 2442.9232\n",
      "Epoch 78/100\n",
      "828/828 [==============================] - 2s 3ms/step - loss: 6722190.1846 - mse: 6722190.1846 - mae: 2429.6816\n",
      "Epoch 79/100\n",
      "828/828 [==============================] - 4s 5ms/step - loss: 6747581.6797 - mse: 6747581.6797 - mae: 2435.0163\n",
      "Epoch 80/100\n",
      "828/828 [==============================] - 3s 4ms/step - loss: 6762041.2666 - mse: 6762041.2666 - mae: 2437.6088\n",
      "Epoch 81/100\n",
      "828/828 [==============================] - 2s 3ms/step - loss: 6716984.2581 - mse: 6716984.2581 - mae: 2429.0279\n",
      "Epoch 82/100\n",
      "828/828 [==============================] - 2s 3ms/step - loss: 6674580.7099 - mse: 6674580.7099 - mae: 2418.5061\n",
      "Epoch 83/100\n",
      "828/828 [==============================] - 2s 3ms/step - loss: 6716323.8040 - mse: 6716323.8040 - mae: 2428.3927\n",
      "Epoch 84/100\n",
      "828/828 [==============================] - 2s 2ms/step - loss: 6673543.6610 - mse: 6673543.6610 - mae: 2419.2007\n",
      "Epoch 85/100\n",
      "828/828 [==============================] - 2s 2ms/step - loss: 6685711.9626 - mse: 6685711.9626 - mae: 2420.9123\n",
      "Epoch 86/100\n",
      "828/828 [==============================] - 2s 3ms/step - loss: 6612997.9361 - mse: 6612997.9361 - mae: 2406.4797\n",
      "Epoch 87/100\n",
      "828/828 [==============================] - 2s 3ms/step - loss: 6599214.8770 - mse: 6599214.8770 - mae: 2403.0911\n",
      "Epoch 88/100\n",
      "828/828 [==============================] - 2s 3ms/step - loss: 6618127.7786 - mse: 6618127.7786 - mae: 2410.9491\n",
      "Epoch 89/100\n",
      "828/828 [==============================] - 2s 2ms/step - loss: 6571311.7895 - mse: 6571311.7895 - mae: 2399.4285\n",
      "Epoch 90/100\n",
      "828/828 [==============================] - 2s 2ms/step - loss: 6567857.4445 - mse: 6567857.4445 - mae: 2397.3111\n",
      "Epoch 91/100\n",
      "828/828 [==============================] - 2s 2ms/step - loss: 6573991.5000 - mse: 6573991.5000 - mae: 2397.1802\n",
      "Epoch 92/100\n",
      "828/828 [==============================] - 2s 3ms/step - loss: 6547678.1803 - mse: 6547678.1803 - mae: 2394.3821\n",
      "Epoch 93/100\n",
      "828/828 [==============================] - 3s 4ms/step - loss: 6542170.9017 - mse: 6542170.9017 - mae: 2391.5512\n",
      "Epoch 94/100\n",
      "828/828 [==============================] - 3s 4ms/step - loss: 6522719.0181 - mse: 6522719.0181 - mae: 2387.0858\n",
      "Epoch 95/100\n",
      "828/828 [==============================] - 3s 3ms/step - loss: 6555163.5241 - mse: 6555163.5241 - mae: 2395.9518\n",
      "Epoch 96/100\n",
      "828/828 [==============================] - 3s 4ms/step - loss: 6531051.7738 - mse: 6531051.7738 - mae: 2392.1005\n",
      "Epoch 97/100\n",
      "828/828 [==============================] - 2s 3ms/step - loss: 6471661.0440 - mse: 6471661.0440 - mae: 2377.3586\n",
      "Epoch 98/100\n",
      "828/828 [==============================] - 2s 3ms/step - loss: 6522813.3353 - mse: 6522813.3353 - mae: 2387.8169\n",
      "Epoch 99/100\n",
      "828/828 [==============================] - 2s 3ms/step - loss: 6484725.9897 - mse: 6484725.9897 - mae: 2380.9363\n",
      "Epoch 100/100\n",
      "828/828 [==============================] - 2s 3ms/step - loss: 6479139.4910 - mse: 6479139.4910 - mae: 2378.4910\n"
     ]
    }
   ],
   "source": [
    "LAI_model = make_nets(X, y)"
   ]
  },
  {
   "cell_type": "code",
   "execution_count": 52,
   "metadata": {},
   "outputs": [],
   "source": [
    "# Predicting our own input data to evaluate the performance (for now)\n",
    "LAI_predictions = pd.Series(LAI_model.predict(X.to_numpy()).flatten())"
   ]
  },
  {
   "cell_type": "markdown",
   "metadata": {},
   "source": [
    "Below is code the prepares the predictions to be displayed against the true values of the response for matplotlib"
   ]
  },
  {
   "cell_type": "code",
   "execution_count": 54,
   "metadata": {},
   "outputs": [],
   "source": [
    "xy_tf_LAI = np.vstack([y, LAI_predictions])\n",
    "z_tf_LAI = scipy.stats.gaussian_kde(xy_tf_LAI)(xy_tf_LAI)\n",
    "\n",
    "idx_tf_LAI = z_tf_LAI.argsort()\n",
    "x_tf_LAI = y[idx_tf_LAI]\n",
    "y_tf_LAI = LAI_predictions[idx_tf_LAI]\n",
    "z_tf_LAI = z_tf_LAI[idx_tf_LAI]\n",
    "\n",
    "rmse_tf_LAI = skl.metrics.mean_squared_error(x_tf_LAI, y_tf_LAI, squared=False)"
   ]
  },
  {
   "cell_type": "code",
   "execution_count": 55,
   "metadata": {},
   "outputs": [
    {
     "data": {
      "image/png": "[encoded data removed]",
      "text/plain": [
       "<Figure size 720x720 with 1 Axes>"
      ]
     },
     "metadata": {
      "needs_background": "light"
     },
     "output_type": "display_data"
    }
   ],
   "source": [
    "a_tf_LAI = np.linspace(0, 3, 1000)\n",
    "fig, ax = plt.subplots(1, 1, figsize=(10,10))\n",
    "\n",
    "ax.scatter(x_tf_LAI, y_tf_LAI, c=z_tf_LAI)\n",
    "ax.plot(a_tf_LAI, a_tf_LAI, c='r')\n",
    "ax.title.set_text('LASSO LARS (ALL BANDS) - RMSE: {}'.format(rmse_tf_LAI))"
   ]
  },
  {
   "cell_type": "markdown",
   "metadata": {},
   "source": [
    "Early attempts to use the output of the kerasModel.get_weights() to apply the neural network weights manually"
   ]
  },
  {
   "cell_type": "code",
   "execution_count": 32,
   "metadata": {
    "scrolled": true
   },
   "outputs": [
    {
     "data": {
      "text/plain": [
       "[array([[-3.6639605 , -3.0396655 ,  3.2015846 , -3.2570944 , -3.664683  ],\n",
       "        [ 3.3617117 ,  3.5149114 , -4.1303396 ,  3.5270166 ,  4.0211806 ],\n",
       "        [ 0.27832007, -0.4874226 ,  0.6368207 ,  0.3136016 , -0.48899677],\n",
       "        [ 6.091278  ,  6.475897  , -6.1250844 ,  6.1704497 ,  6.391355  ],\n",
       "        [-0.40176743, -0.32247105,  1.3606182 , -1.145884  , -1.3970339 ]],\n",
       "       dtype=float32),\n",
       " array([ 63.58718 ,  62.631927, -63.65397 ,  65.68505 ,  61.51555 ],\n",
       "       dtype=float32),\n",
       " array([[-61.067574, -57.069145, -59.93873 , -60.87313 ],\n",
       "        [-61.335526, -58.730423, -60.183273, -60.649117],\n",
       "        [ 60.018684,  60.68872 ,  59.75562 ,  60.9961  ],\n",
       "        [-59.784058, -58.63574 , -57.763035, -58.15637 ],\n",
       "        [-57.8206  , -55.42128 , -58.217754, -57.664158]], dtype=float32),\n",
       " array([-20.497093, -19.560503, -20.267921, -22.241888], dtype=float32),\n",
       " array([[79.11305 , 81.26177 , 78.32159 ],\n",
       "        [79.761795, 80.95898 , 80.26317 ],\n",
       "        [80.8103  , 82.71173 , 78.384995],\n",
       "        [80.12015 , 81.995056, 78.457954]], dtype=float32),\n",
       " array([-76.33357 , -79.791115, -75.189285], dtype=float32),\n",
       " array([[-87.02893 , -88.157524],\n",
       "        [-86.62128 , -87.11389 ],\n",
       "        [-87.44118 , -88.28029 ]], dtype=float32),\n",
       " array([85.00651, 85.91   ], dtype=float32),\n",
       " array([[93.13635],\n",
       "        [92.69844]], dtype=float32),\n",
       " array([91.69858], dtype=float32)]"
      ]
     },
     "execution_count": 32,
     "metadata": {},
     "output_type": "execute_result"
    }
   ],
   "source": [
    "LAI_model.get_weights()"
   ]
  },
  {
   "cell_type": "code",
   "execution_count": 33,
   "metadata": {},
   "outputs": [],
   "source": [
    "elu = np.vectorize(elu)\n",
    "softplus = np.vectorize(softplus)\n",
    "softsign = np.vectorize(softsign)\n",
    "relu = np.vectorize(relu)\n",
    "tanh = np.vectorize(tanh)\n",
    "sigmoid = np.vectorize(sigmoid)"
   ]
  },
  {
   "cell_type": "code",
   "execution_count": 34,
   "metadata": {},
   "outputs": [
    {
     "name": "stdout",
     "output_type": "stream",
     "text": [
      "276.99954\n",
      "276.99953129199605\n"
     ]
    }
   ],
   "source": [
    "row = 4802\n",
    "inputs = X.iloc[row, :].to_numpy()\n",
    "print(LAI_model.predict(inputs.reshape((-1,5)))[0][0])\n",
    "print(apply_nnet(inputs, LAI_model)[0])"
   ]
  },
  {
   "cell_type": "code",
   "execution_count": 35,
   "metadata": {},
   "outputs": [],
   "source": [
    "# Writing the neural network to a CSV file to be uploaded to the server side on Google Earth Engine\n",
    "export_data = export_nnet(LAI_model, X)\n",
    "with open('nnet.csv', 'w', newline='') as csvfile:\n",
    "    nnet_writer = csv.writer(csvfile)\n",
    "    for layerdata in export_data:\n",
    "        nnet_writer.writerow(layerdata)"
   ]
  },
  {
   "cell_type": "markdown",
   "metadata": {},
   "source": [
    "Currently, I have not found a way to automatically upload a file as an asset into Google Earth Engine from a local script. There is a command in the Earth Engine command line interface that allows you to upload an asset from cloud storage, although cloud storage is not free. There may be a workaround way to upload the file from Google Drive directly to Earth Engine, but even that would use the Google Drive API which is a part of Google Cloud, so it will not be free. It seems the network must be uploaded manually for now."
   ]
  }
 ],
 "metadata": {
  "colab": {
   "name": "LAI_FAPAR_FCOVER_Prediction.ipynb",
   "provenance": []
  },
  "kernelspec": {
   "display_name": "Python 3 (ipykernel)",
   "language": "python",
   "name": "python3"
  },
  "language_info": {
   "codemirror_mode": {
    "name": "ipython",
    "version": 3
   },
   "file_extension": ".py",
   "mimetype": "text/x-python",
   "name": "python",
   "nbconvert_exporter": "python",
   "pygments_lexer": "ipython3",
   "version": "3.9.7"
  },
  "pycharm": {
   "stem_cell": {
    "cell_type": "raw",
    "metadata": {
     "collapsed": false
    },
    "source": []
   }
  }
 },
 "nbformat": 4,
 "nbformat_minor": 4
}
