{
 "cells": [
  {
   "cell_type": "code",
   "execution_count": null,
   "metadata": {},
   "outputs": [],
   "source": [
    "# This notebook is a copy similar to ALR_Client_Side found in:\n",
    "# https://github.com/rfernand387/ALR_Earth_Engine/blob/master/ALR_Client_Side.ipynb\n",
    "\n",
    "# Modifications have been made to accept an EE image with 10 m resolution bands that has been outputted from SL2P10_control.ipynb:\n",
    "# https://github.com/kateharvey/Sentinel2_ALR/blob/main/shared/SL2P10_control.ipynb"
   ]
  },
  {
   "cell_type": "code",
   "execution_count": 1,
   "metadata": {},
   "outputs": [],
   "source": [
    "import scipy\n",
    "import scipy.io as sio\n",
    "import matplotlib.pyplot as plt\n",
    "import numpy as np\n",
    "import pandas as pd\n",
    "import sklearn\n",
    "from sklearn import preprocessing\n",
    "from sklearn import linear_model\n",
    "import tensorflow\n",
    "import ee\n",
    "import json\n",
    "from collections import OrderedDict\n",
    "import time\n",
    "import math\n",
    "import csv\n",
    "import os\n",
    "\n",
    "# import custom module\n",
    "import ALR_functions as alr"
   ]
  },
  {
   "cell_type": "code",
   "execution_count": 2,
   "metadata": {},
   "outputs": [
    {
     "data": {
      "text/html": [
       "<p>To authorize access needed by Earth Engine, open the following\n",
       "        URL in a web browser and follow the instructions:</p>\n",
       "        <p><a href=https://accounts.google.com/o/oauth2/auth?client_id=517222506229-vsmmajv00ul0bs7p89v5m89qs8eb9359.apps.googleusercontent.com&scope=https%3A%2F%2Fwww.googleapis.com%2Fauth%2Fearthengine+https%3A%2F%2Fwww.googleapis.com%2Fauth%2Fdevstorage.full_control&redirect_uri=urn%3Aietf%3Awg%3Aoauth%3A2.0%3Aoob&response_type=code&code_challenge=mKA2tyZOkVa4Cpz8mPKvUQAbbKpnqMIv_ljALHNGk7k&code_challenge_method=S256>https://accounts.google.com/o/oauth2/auth?client_id=517222506229-vsmmajv00ul0bs7p89v5m89qs8eb9359.apps.googleusercontent.com&scope=https%3A%2F%2Fwww.googleapis.com%2Fauth%2Fearthengine+https%3A%2F%2Fwww.googleapis.com%2Fauth%2Fdevstorage.full_control&redirect_uri=urn%3Aietf%3Awg%3Aoauth%3A2.0%3Aoob&response_type=code&code_challenge=mKA2tyZOkVa4Cpz8mPKvUQAbbKpnqMIv_ljALHNGk7k&code_challenge_method=S256</a></p>\n",
       "        <p>The authorization workflow will generate a code, which you\n",
       "        should paste in the box below</p>\n",
       "        "
      ],
      "text/plain": [
       "<IPython.core.display.HTML object>"
      ]
     },
     "metadata": {},
     "output_type": "display_data"
    },
    {
     "name": "stdin",
     "output_type": "stream",
     "text": [
      "Enter verification code:  4/1AX4XfWgrXZVbs0jj6x-po_7fVHmZBSFKwF9So8PlT8XaY8GPR-WZGBp6zY0\n"
     ]
    },
    {
     "name": "stdout",
     "output_type": "stream",
     "text": [
      "\n",
      "Successfully saved authorization token.\n"
     ]
    }
   ],
   "source": [
    "# Authorize the script with Earth Engine using the credentials.json file. Ensure either ee.Authenticate() has been called in a previous\n",
    "# script or the \"$ earthengine authenticate\" command has been run in the environment to set up the credentials.json file\n",
    "# The google account you provide during the authentication flow must have received access to Google Earth Engine\n",
    "ee.Authenticate()\n",
    "ee.Initialize()"
   ]
  },
  {
   "cell_type": "code",
   "execution_count": 3,
   "metadata": {},
   "outputs": [],
   "source": [
    "# Set the test image using an uploaded asset for now\n",
    "testImage = ee.Image('users/kateharvey/TestImage')\n",
    "\n",
    "# Change variable name here to match band name pattern (one of: Albedo, fAPAR, fCOVER, LAI, CCC, CWC, DASF)\n",
    "outputName = 'LAI'\n",
    "defaultBand = 'estimate'+outputName\n",
    "\n",
    "# Select bands to create 20m and 10m images\n",
    "inputImage = ee.Image(testImage.select(0,1,2,3,4,5,6,7,8,9,10,11,23,27,28,29,30,31,32,33))\n",
    "inputImage_10m = ee.Image(testImage.select(1,2,3,7,23,27,28,29,30,31,32,33))\n",
    "\n",
    "# List the bands that we expect in the image (ensure number of bands in the list below matches the number bands in the input image)\n",
    "# This is the order of bands produced by running SL2P10 and exporting the resulting ImageCollection\n",
    "inputImage_bands = ee.List(['B1', 'B2', 'B3', 'B4', 'B5', 'B6', 'B7', 'B8', 'B8A', 'B9', 'B11', 'B12', 'date', 'QC', 'estimateLAI', 'partition', 'networkID', 'errorLAI', 'partition_1', 'networkID_1'])\n",
    "inputImage_bands_10m = ee.List(['B2', 'B3', 'B4', 'B8', 'date', 'QC', 'estimateLAI', 'partition', 'networkID', 'errorLAI', 'partition_1', 'networkID_1'])"
   ]
  },
  {
   "cell_type": "markdown",
   "metadata": {},
   "source": [
    "### Vegetation Indices Sources\n",
    "\n",
    "1. https://www.hindawi.com/journals/js/2017/1353691/tab1/\n",
    "2. https://www.hiphen-plant.com/blog/vegetation-indices/\n",
    "3. https://gisgeography.com/sentinel-2-bands-combinations/"
   ]
  },
  {
   "cell_type": "code",
   "execution_count": 4,
   "metadata": {},
   "outputs": [],
   "source": [
    "# Below we define a list of strings representing the expressions for each vegetation index as a function of the bands in the input image\n",
    "# More vegetation indices can be defined, but the list CANNOT contain any two vegetation indices which are a linear combination of each\n",
    "# other or LARs will fail to select the requested number of variables\n",
    "\n",
    "# The formatting of the expression must be\n",
    "# \"<name of VI> = <expression with band names from inputImage_bands used as variables in the form b('<band name>')\"\n",
    "\n",
    "# Only include VIs that use 10 m bands (B2, B3, B4, B8)\n",
    "input_VI_definition_10m = ee.List([\"RAW_B2  = b('B2')\",\n",
    "                                   \"RAW_B3  = b('B3')\",\n",
    "                                   \"RAW_B4  = b('B4')\",\n",
    "                                   \"RAW_B8  = b('B8')\",\n",
    "                                   \"GI      = b('B3')/b('B4')\",\n",
    "                                 # \"RVI3    = b('B4')/b('B6')\",\n",
    "                                 # \"SR3     = b('B5')/b('B4')\",\n",
    "                                 # \"GM1     = b('B6')/b('B3')\",\n",
    "                                 # \"GM2     = b('B6')/b('B5')\",\n",
    "                                 # \"SR2     = b('B7')/b('B3')\",\n",
    "                                 # \"PSSR    = b('B7')/b('B4')\",\n",
    "                                   \"SGI     = b('B8')/b('B4')\",\n",
    "                                 # \"MSI     = b('B11')/b('B7')\",\n",
    "                                 # \"II      = b('B11')/b('B12')\",\n",
    "                                   \"GVI     = (b('B8')/b('B3'))-1\",\n",
    "                                 # \"PSRI    = (b('B4')-b('B3'))/b('B6')\",\n",
    "                                   \"NDVI3   = ((b('B8')-b('B4'))/(b('B8')))+b('B4')\",\n",
    "                                 # \"SR5     = 1/b('B5')\",\n",
    "                                 # \"SR6     = b('B4')/(b('B3')*b('B5'))\",\n",
    "                                 # \"SR7     = b('B8')/(b('B3')*b('B5'))\",\n",
    "                                 # \"IPVI    = b('B7')/(b('B7')+b('B4'))\",\n",
    "                                 # \"ARI     = (1/b('B3'))-(1/b('B5'))\",\n",
    "                                 # \"ARI2    = b('B7')*((1/b('B3'))-(1/b('B5')))\",\n",
    "                                   \"NDVI    = (b('B8')-b('B4'))/(b('B8')+b('B4'))\",\n",
    "                                   \"GNDVI   = (b('B8')-b('B3'))/(b('B8')+b('B3'))\",\n",
    "                                 # \"NDWI    = (b('B8')-b('B11'))/(b('B8')+b('B11'))\",\n",
    "                                 # \"NDREVI  = (b('B8')-b('B5'))/(b('B8')+b('B5'))\",\n",
    "                                   \"NDGI    = (b('B3')-b('B4'))/(b('B3')+b('B4'))\",\n",
    "                                 # \"NDI1    = (b('B7')-b('B5'))/(b('B7')-b('B4'))\",\n",
    "                                 # \"NDI2    = (b('B8')-b('B5'))/(b('B8')-b('B4'))\",\n",
    "                                 # \"RENDVI  = (b('B6')-b('B5'))/(b('B6')+b('B5'))\",\n",
    "                                 # \"OSAVI   = (1.16*(b('B7')-b('B4')))/(b('B7')+b('B4')+0.61)\",\n",
    "                                 # \"NMDI    = (b('B8')-(b('B11')-b('B12')))/(b('B8')+(b('B11')-b('B12')))\",\n",
    "                                 # \"HI      = ((b('B3')-b('B5'))/(b('B3')+b('B5')))-0.5*b('B5')\",\n",
    "                                 # \"GVSP    = (-0.283*b('B3') - 0.66*b('B4') + 0.577*b('B6') + 0.388*b('B8'))/(0.433*b('B3') - 0.632*b('B4') + 0.586*b('B6') + 0.264*b('B8A'))\",\n",
    "                                 # \"MCARI   = ((b('B5')-b('B4'))-0.2*(b('B5')-b('B3')))*(b('B5')/b('B4'))\",\n",
    "                                 # \"TCARI   = 3*((b('B5')-b('B4'))-0.2*(b('B5')-b('B3'))*(b('B5')/b('B4')))\",\n",
    "                                   \"EVI     = 2.5*((b('B8')-b('B4'))/(b('B8')+6*b('B4')-7.5*b('B3')+1))\",\n",
    "                                   \"EVI2    = 2.5*((b('B8')-b('B4'))/(b('B8')+2.4*b('B4')+1))\",\n",
    "                                   \"RDVI    = (b('B8')-b('B4'))/((b('B8')+b('B4'))**0.5)\",\n",
    "                                   \"MSR     = ((b('B8')/b('B4'))-1)/((b('B8')/b('B4'))**0.5+1)\",\n",
    "                                 # \"MSAVI   = 0.5*(2*b('B7')+1-((2*b('B7')+1)**2-8*(b('B7')-b('B4')))**0.5)\",\n",
    "                                   \"MSAVI2  = 0.5*(2*b('B8')+1-((2*b('B8')+1)**2-8*(b('B8')-b('B4')))**0.5)\",\n",
    "                                 # \"MCARI2  = (1.5*(2.5*(b('B7')-b('B4'))-1.3*(b('B7')-b('B3'))))/((((2*b('B7')+1)**2)-(6*b('B7')-5*(b('B4')**0.5))-0.5)**0.5)\",\n",
    "                                 # \"MTVI2   = (1.5*(1.2*(b('B7')-b('B3'))-2.5*(b('B4')-b('B3'))))/(((2*b('B7')+1)**2-(6*b('B7')-5*b('B4'))-0.5)**0.5)\",\n",
    "                                 # \"MSR2    = ((b('B7')/b('B4'))-1)/(((b('B7')/b('B4'))+1)**0.5)\",\n",
    "                                   \"NLI     = ((b('B8')**2)-b('B4'))/((b('B8')**2)+b('B4'))\"])\n",
    "\n",
    "\n",
    "input_VI_definition = ee.List([\"GI      = b('B3')/b('B4')\",\n",
    "                              \"RVI3    = b('B4')/b('B6')\",\n",
    "                              \"SR3     = b('B5')/b('B4')\",\n",
    "                              \"GM1     = b('B6')/b('B3')\",\n",
    "                              \"GM2     = b('B6')/b('B5')\",\n",
    "                              \"SR2     = b('B7')/b('B3')\",\n",
    "                              \"PSSR    = b('B7')/b('B4')\",\n",
    "                              \"SGI     = b('B8A')/b('B4')\",\n",
    "                              \"MSI     = b('B11')/b('B7')\",\n",
    "                              \"II      = b('B11')/b('B12')\",\n",
    "                              \"GVI     = (b('B8A')/b('B3'))-1\",\n",
    "                              \"PSRI    = (b('B4')-b('B3'))/b('B6')\",\n",
    "                              \"NDVI3   = ((b('B8A')-b('B4'))/(b('B8A')))+b('B4')\",\n",
    "                              \"SR5     = 1/b('B5')\",\n",
    "                              \"SR6     = b('B4')/(b('B3')*b('B5'))\",\n",
    "                              \"SR7     = b('B8A')/(b('B3')*b('B5'))\",\n",
    "                              \"IPVI    = b('B7')/(b('B7')+b('B4'))\",\n",
    "                              \"ARI     = (1/b('B3'))-(1/b('B5'))\",\n",
    "                              \"ARI2    = b('B7')*((1/b('B3'))-(1/b('B5')))\",\n",
    "                              \"NDVI    = (b('B8A')-b('B4'))/(b('B8A')+b('B4'))\",\n",
    "                              \"GNDVI   = (b('B8A')-b('B3'))/(b('B8A')+b('B3'))\",\n",
    "                              \"NDWI    = (b('B8A')-b('B11'))/(b('B8A')+b('B11'))\",\n",
    "                              \"NDREVI  = (b('B8A')-b('B5'))/(b('B8A')+b('B5'))\",\n",
    "                              \"NDGI    = (b('B3')-b('B4'))/(b('B3')+b('B4'))\",\n",
    "                              \"NDI1    = (b('B7')-b('B5'))/(b('B7')-b('B4'))\",\n",
    "                              \"NDI2    = (b('B8A')-b('B5'))/(b('B8A')-b('B4'))\",\n",
    "                              \"RENDVI  = (b('B6')-b('B5'))/(b('B6')+b('B5'))\",\n",
    "                              \"OSAVI   = (1.16*(b('B7')-b('B4')))/(b('B7')+b('B4')+0.61)\",\n",
    "                              \"NMDI    = (b('B8A')-(b('B11')-b('B12')))/(b('B8A')+(b('B11')-b('B12')))\",\n",
    "                              \"HI      = ((b('B3')-b('B5'))/(b('B3')+b('B5')))-0.5*b('B5')\",\n",
    "                              \"GVSP    = (-0.283*b('B3') - 0.66*b('B4') + 0.577*b('B6') + 0.388*b('B8A'))/(0.433*b('B3') - 0.632*b('B4') + 0.586*b('B6') + 0.264*b('B8A'))\",\n",
    "                              \"MCARI   = ((b('B5')-b('B4'))-0.2*(b('B5')-b('B3')))*(b('B5')/b('B4'))\",\n",
    "                              \"TCARI   = 3*((b('B5')-b('B4'))-0.2*(b('B5')-b('B3'))*(b('B5')/b('B4')))\",\n",
    "                              \"EVI     = 2.5*((b('B8A')-b('B4'))/(b('B8A')+6*b('B4')-7.5*b('B3')+1))\",\n",
    "                              \"EVI2    = 2.5*((b('B8A')-b('B4'))/(b('B8A')+2.4*b('B4')+1))\",\n",
    "                              \"RDVI    = (b('B8A')-b('B4'))/((b('B8A')+b('B4'))**0.5)\",\n",
    "                              \"MSR     = ((b('B8A')/b('B4'))-1)/((b('B8A')/b('B4'))**0.5+1)\",\n",
    "                              \"MSAVI   = 0.5*(2*b('B7')+1-((2*b('B7')+1)**2-8*(b('B7')-b('B4')))**0.5)\",\n",
    "                              \"MSAVI2  = 0.5*(2*b('B8A')+1-((2*b('B8A')+1)**2-8*(b('B8A')-b('B4')))**0.5)\",\n",
    "                              \"MCARI2  = (1.5*(2.5*(b('B7')-b('B4'))-1.3*(b('B7')-b('B3'))))/((((2*b('B7')+1)**2)-(6*b('B7')-5*(b('B4')**0.5))-0.5)**0.5)\",\n",
    "                              \"MTVI2   = (1.5*(1.2*(b('B7')-b('B3'))-2.5*(b('B4')-b('B3'))))/(((2*b('B7')+1)**2-(6*b('B7')-5*b('B4'))-0.5)**0.5)\",\n",
    "                              \"MSR2    = ((b('B7')/b('B4'))-1)/(((b('B7')/b('B4'))+1)**0.5)\",\n",
    "                              \"NLI     = ((b('B8A')**2)-b('B4'))/((b('B8A')**2)+b('B4'))\"])"
   ]
  },
  {
   "cell_type": "markdown",
   "metadata": {},
   "source": [
    "In the following functions each input is recast to the expected data type as function parameter typing is not enforced in Earth Engine\n",
    "when defining functions, and later methods called on these parameters within the function must recognize the type of the parameter\n",
    "independently of other code"
   ]
  },
  {
   "cell_type": "markdown",
   "metadata": {},
   "source": [
    "### Process images and and run LARS:"
   ]
  },
  {
   "cell_type": "code",
   "execution_count": 5,
   "metadata": {},
   "outputs": [],
   "source": [
    "inputImage = alr.format_image(inputImage, inputImage_bands, defaultBand, input_VI_definition)\n",
    "inputImage_10m = alr.format_image(inputImage_10m, inputImage_bands_10m, defaultBand, input_VI_definition_10m)"
   ]
  },
  {
   "cell_type": "code",
   "execution_count": 6,
   "metadata": {},
   "outputs": [],
   "source": [
    "num_input_pixels = alr.get_num_pixels(inputImage)"
   ]
  },
  {
   "cell_type": "code",
   "execution_count": 7,
   "metadata": {},
   "outputs": [],
   "source": [
    "scaledImage = alr.scale_image(inputImage, defaultBand)\n",
    "scaledImage_10m = alr.scale_image(inputImage_10m, defaultBand)"
   ]
  },
  {
   "cell_type": "code",
   "execution_count": 8,
   "metadata": {
    "scrolled": true
   },
   "outputs": [],
   "source": [
    "select_features = alr.ee_LARS(scaledImage, defaultBand, 5, 10000)\n",
    "select_features_10m = alr.ee_LARS(scaledImage_10m, defaultBand, 5, 10000)"
   ]
  },
  {
   "cell_type": "markdown",
   "metadata": {},
   "source": [
    "Currently the trimmed data is processed then in a neural network created using tensorflow to find nonlinear relationships between the predictor and the response. Earth Engine does not have this functionality (for free) to generate neural network based models.\n",
    "\n",
    "Here we also see how the server side in the Earth Engine API is completely separate from the client side on the local machine. We need\n",
    "to export our trimmed data as a CSV to a google drive which is synced into the \"gdrive\" folder in our local machine using the \n",
    "Backup and Sync software or using google-drive-ocamlfuse on Linux"
   ]
  },
  {
   "cell_type": "markdown",
   "metadata": {},
   "source": [
    "### Export CSV of 20m data:"
   ]
  },
  {
   "cell_type": "code",
   "execution_count": 9,
   "metadata": {},
   "outputs": [],
   "source": [
    "trimmed_collection=alr.trim_data(image=inputImage.updateMask(inputImage.select(defaultBand).gt(0)),\n",
    "                                 selected_features=select_features,\n",
    "                                 response_band=defaultBand,\n",
    "                                 num_samples=50000,\n",
    "                                 num_partitions=10)\n",
    "\n",
    "# Creating the export task on the server side from Earth Engine. Remember that the data will be exported to the google drive of the google\n",
    "# account you used when you initiated the Earth Engine API authentication flow, so ensure that, that accounts drive is synced to the \n",
    "# gdrive folder in the same folder as this script\n",
    "exportData = ee.batch.Export.table.toDrive(collection=trimmed_collection, description=\"image_data_samples\", fileFormat=\"CSV\")\n",
    "\n",
    "# Starting the export data task\n",
    "exportData.start()"
   ]
  },
  {
   "cell_type": "code",
   "execution_count": 10,
   "metadata": {
    "scrolled": true
   },
   "outputs": [
    {
     "name": "stdout",
     "output_type": "stream",
     "text": [
      "READY\n",
      "RUNNING\n",
      "COMPLETED\n"
     ]
    }
   ],
   "source": [
    "# Essentially a wait loop to see if the data has finished exporting by checking with the server-side\n",
    "prev_task_status = ee.data.getTaskStatus(exportData.id)[0][\"state\"]\n",
    "print(prev_task_status)\n",
    "while exportData.active():\n",
    "    task_status = ee.data.getTaskStatus(exportData.id)[0][\"state\"]\n",
    "    if(task_status != prev_task_status):\n",
    "        print(task_status)\n",
    "    prev_task_status = task_status\n",
    "    time.sleep(5)\n",
    "print(ee.data.getTaskStatus(exportData.id)[0][\"state\"])"
   ]
  },
  {
   "cell_type": "code",
   "execution_count": 11,
   "metadata": {},
   "outputs": [],
   "source": [
    "# Reading the CSV file into dataframes\n",
    "trimmed_data = pd.read_csv('./gdrive/image_data_samples.csv')\n",
    "X = trimmed_data.drop(labels=['estimateLAI', 'system:index', '.geo'], axis=1)\n",
    "# X = trimmed_data.drop(labels=['LAI', 'system:index', '.geo'], axis=1)\n",
    "y = trimmed_data.estimateLAI\n",
    "\n",
    "# We preprocess the input features by standardizing them to a mean of 0 and a standard deviation of 1 for the neural network\n",
    "X = pd.DataFrame(sklearn.preprocessing.scale(X))"
   ]
  },
  {
   "cell_type": "code",
   "execution_count": 12,
   "metadata": {},
   "outputs": [
    {
     "name": "stderr",
     "output_type": "stream",
     "text": [
      "2021-10-26 09:12:49.678833: I tensorflow/core/platform/cpu_feature_guard.cc:142] This TensorFlow binary is optimized with oneAPI Deep Neural Network Library (oneDNN) to use the following CPU instructions in performance-critical operations:  SSE4.1 SSE4.2 AVX AVX2 FMA\n",
      "To enable them in other operations, rebuild TensorFlow with the appropriate compiler flags.\n"
     ]
    }
   ],
   "source": [
    "# Using Keras to create a sequential model neural network which only has simple dense layers of the specified number of nodes\n",
    "LAI_model = tensorflow.keras.models.Sequential([\n",
    "    tensorflow.keras.layers.Dense(5, input_shape=[len(X.keys())]),\n",
    "    tensorflow.keras.layers.Dense(4, activation=\"softsign\"),\n",
    "    tensorflow.keras.layers.Dense(3, activation=\"softsign\"),\n",
    "    tensorflow.keras.layers.Dense(2, activation=\"softsign\"),\n",
    "    tensorflow.keras.layers.Dense(1)\n",
    "])\n",
    "# Compiling the model to minimize the mean squared error loss function and use the NADAM optimizer\n",
    "LAI_model.compile(\n",
    "    optimizer=tensorflow.keras.optimizers.Nadam(),\n",
    "    loss='mse',\n",
    "    metrics=['mse', 'mae'])"
   ]
  },
  {
   "cell_type": "code",
   "execution_count": 13,
   "metadata": {
    "scrolled": true
   },
   "outputs": [
    {
     "name": "stderr",
     "output_type": "stream",
     "text": [
      "2021-10-26 09:12:54.921249: I tensorflow/compiler/mlir/mlir_graph_optimization_pass.cc:116] None of the MLIR optimization passes are enabled (registered 2)\n"
     ]
    },
    {
     "name": "stdout",
     "output_type": "stream",
     "text": [
      "Epoch 1/100\n",
      "920/920 [==============================] - 5s 3ms/step - loss: 7740220.6857 - mse: 7740220.6857 - mae: 2628.3051\n",
      "Epoch 2/100\n",
      "920/920 [==============================] - 3s 3ms/step - loss: 7779284.1851 - mse: 7779284.1851 - mae: 2634.7864\n",
      "Epoch 3/100\n",
      "920/920 [==============================] - 4s 4ms/step - loss: 7751527.5092 - mse: 7751527.5092 - mae: 2628.4344\n",
      "Epoch 4/100\n",
      "920/920 [==============================] - 4s 4ms/step - loss: 7736822.6846 - mse: 7736822.6846 - mae: 2629.0122\n",
      "Epoch 5/100\n",
      "920/920 [==============================] - 3s 3ms/step - loss: 7721035.1792 - mse: 7721035.1792 - mae: 2625.9536\n",
      "Epoch 6/100\n",
      "920/920 [==============================] - 2s 3ms/step - loss: 7659909.3322 - mse: 7659909.3322 - mae: 2613.4361: 0s - loss: 7647914.6970 \n",
      "Epoch 7/100\n",
      "920/920 [==============================] - 3s 3ms/step - loss: 7698854.6189 - mse: 7698854.6189 - mae: 2620.0804\n",
      "Epoch 8/100\n",
      "920/920 [==============================] - 2s 3ms/step - loss: 7678364.2888 - mse: 7678364.2888 - mae: 2618.0452\n",
      "Epoch 9/100\n",
      "920/920 [==============================] - 3s 3ms/step - loss: 7648789.9810 - mse: 7648789.9810 - mae: 2612.1880: 0s - loss: 7648660.9383 - mse: 7648660.9383 - mae:\n",
      "Epoch 10/100\n",
      "920/920 [==============================] - 3s 3ms/step - loss: 7669965.5174 - mse: 7669965.5174 - mae: 2614.4302\n",
      "Epoch 11/100\n",
      "920/920 [==============================] - 3s 3ms/step - loss: 7656551.5440 - mse: 7656551.5440 - mae: 2613.1989: 0s - loss: 7664051.5251 - ms\n",
      "Epoch 12/100\n",
      "920/920 [==============================] - 3s 4ms/step - loss: 7589491.8757 - mse: 7589491.8757 - mae: 2601.2332: 0s - loss: 75785\n",
      "Epoch 13/100\n",
      "920/920 [==============================] - 3s 4ms/step - loss: 7571710.2047 - mse: 7571710.2047 - mae: 2596.7221\n",
      "Epoch 14/100\n",
      "920/920 [==============================] - 3s 3ms/step - loss: 7586777.5684 - mse: 7586777.5684 - mae: 2597.9334: 0s - loss: 7587345.4936 - mse: 7587345.4936 - mae:\n",
      "Epoch 15/100\n",
      "920/920 [==============================] - 3s 4ms/step - loss: 7547313.9794 - mse: 7547313.9794 - mae: 2591.8506\n",
      "Epoch 16/100\n",
      "920/920 [==============================] - 4s 4ms/step - loss: 7533560.2714 - mse: 7533560.2714 - mae: 2590.8796\n",
      "Epoch 17/100\n",
      "920/920 [==============================] - 4s 4ms/step - loss: 7510323.8735 - mse: 7510323.8735 - mae: 2584.6785\n",
      "Epoch 18/100\n",
      "920/920 [==============================] - 4s 4ms/step - loss: 7575972.8474 - mse: 7575972.8474 - mae: 2595.3128\n",
      "Epoch 19/100\n",
      "920/920 [==============================] - 4s 4ms/step - loss: 7536078.2193 - mse: 7536078.2193 - mae: 2590.7665\n",
      "Epoch 20/100\n",
      "920/920 [==============================] - 3s 4ms/step - loss: 7463374.0657 - mse: 7463374.0657 - mae: 2574.5863\n",
      "Epoch 21/100\n",
      "920/920 [==============================] - 4s 4ms/step - loss: 7442498.6629 - mse: 7442498.6629 - mae: 2572.0972\n",
      "Epoch 22/100\n",
      "920/920 [==============================] - 4s 4ms/step - loss: 7462182.8985 - mse: 7462182.8985 - mae: 2573.7532\n",
      "Epoch 23/100\n",
      "920/920 [==============================] - 3s 4ms/step - loss: 7467102.5076 - mse: 7467102.5076 - mae: 2577.8552\n",
      "Epoch 24/100\n",
      "920/920 [==============================] - 3s 3ms/step - loss: 7439386.9479 - mse: 7439386.9479 - mae: 2570.0589: 0s - loss: 7439266.544\n",
      "Epoch 25/100\n",
      "920/920 [==============================] - 3s 4ms/step - loss: 7411361.0130 - mse: 7411361.0130 - mae: 2565.3990: 4s - l\n",
      "Epoch 26/100\n",
      "920/920 [==============================] - 3s 3ms/step - loss: 7403227.8632 - mse: 7403227.8632 - mae: 2563.6650\n",
      "Epoch 27/100\n",
      "920/920 [==============================] - 3s 3ms/step - loss: 7373789.5749 - mse: 7373789.5749 - mae: 2558.7253\n",
      "Epoch 28/100\n",
      "920/920 [==============================] - 3s 3ms/step - loss: 7364127.2666 - mse: 7364127.2666 - mae: 2555.3703\n",
      "Epoch 29/100\n",
      "920/920 [==============================] - 3s 3ms/step - loss: 7327787.1064 - mse: 7327787.1064 - mae: 2549.8144\n",
      "Epoch 30/100\n",
      "920/920 [==============================] - 3s 3ms/step - loss: 7331472.7617 - mse: 7331472.7617 - mae: 2550.1240: 0s - loss: 7324752.8510 \n",
      "Epoch 31/100\n",
      "920/920 [==============================] - 3s 3ms/step - loss: 7340709.9403 - mse: 7340709.9403 - mae: 2551.0192\n",
      "Epoch 32/100\n",
      "920/920 [==============================] - 3s 3ms/step - loss: 7326115.2600 - mse: 7326115.2600 - mae: 2549.8899\n",
      "Epoch 33/100\n",
      "920/920 [==============================] - 3s 4ms/step - loss: 7328214.7535 - mse: 7328214.7535 - mae: 2548.6235\n",
      "Epoch 34/100\n",
      "920/920 [==============================] - 3s 3ms/step - loss: 7324811.2280 - mse: 7324811.2280 - mae: 2548.4597\n",
      "Epoch 35/100\n",
      "920/920 [==============================] - 3s 3ms/step - loss: 7274093.9886 - mse: 7274093.9886 - mae: 2539.9761\n",
      "Epoch 36/100\n",
      "920/920 [==============================] - 3s 3ms/step - loss: 7293199.4663 - mse: 7293199.4663 - mae: 2540.2239\n",
      "Epoch 37/100\n",
      "920/920 [==============================] - 3s 3ms/step - loss: 7263783.5049 - mse: 7263783.5049 - mae: 2535.1098\n",
      "Epoch 38/100\n",
      "920/920 [==============================] - 3s 3ms/step - loss: 7238519.2557 - mse: 7238519.2557 - mae: 2531.2955\n",
      "Epoch 39/100\n",
      "920/920 [==============================] - 3s 3ms/step - loss: 7212991.8909 - mse: 7212991.8909 - mae: 2525.1530\n",
      "Epoch 40/100\n",
      "920/920 [==============================] - 3s 3ms/step - loss: 7210514.3453 - mse: 7210514.3453 - mae: 2525.6172\n",
      "Epoch 41/100\n",
      "920/920 [==============================] - 3s 3ms/step - loss: 7209474.5554 - mse: 7209474.5554 - mae: 2525.1301: 1s -\n",
      "Epoch 42/100\n",
      "920/920 [==============================] - 3s 3ms/step - loss: 7146283.0749 - mse: 7146283.0749 - mae: 2514.2168\n",
      "Epoch 43/100\n",
      "920/920 [==============================] - 5s 6ms/step - loss: 7214408.1868 - mse: 7214408.1868 - mae: 2527.6652\n",
      "Epoch 44/100\n",
      "920/920 [==============================] - 3s 3ms/step - loss: 7141288.2052 - mse: 7141288.2052 - mae: 2513.2458: 0s - loss: 7140951.0433 - mse: 7140951.0433 - mae: 2513.\n",
      "Epoch 45/100\n",
      "920/920 [==============================] - 3s 3ms/step - loss: 7154569.9750 - mse: 7154569.9750 - mae: 2512.3654\n",
      "Epoch 46/100\n",
      "920/920 [==============================] - 3s 3ms/step - loss: 7199330.4859 - mse: 7199330.4859 - mae: 2525.4650\n",
      "Epoch 47/100\n",
      "920/920 [==============================] - 3s 3ms/step - loss: 7114670.2693 - mse: 7114670.2693 - mae: 2504.7161\n",
      "Epoch 48/100\n",
      "920/920 [==============================] - 3s 3ms/step - loss: 7082274.4061 - mse: 7082274.4061 - mae: 2498.9494\n",
      "Epoch 49/100\n",
      "920/920 [==============================] - 3s 3ms/step - loss: 7089165.4267 - mse: 7089165.4267 - mae: 2501.2964\n",
      "Epoch 50/100\n",
      "920/920 [==============================] - 2s 3ms/step - loss: 7077463.0174 - mse: 7077463.0174 - mae: 2498.4115\n",
      "Epoch 51/100\n",
      "920/920 [==============================] - 3s 3ms/step - loss: 7095757.6075 - mse: 7095757.6075 - mae: 2503.4123\n",
      "Epoch 52/100\n",
      "920/920 [==============================] - 3s 3ms/step - loss: 7096055.2812 - mse: 7096055.2812 - mae: 2502.3534: 2s - loss: 7208825.0534 - mse: 7208825.0534 - mae:\n",
      "Epoch 53/100\n",
      "920/920 [==============================] - 3s 4ms/step - loss: 7050622.2611 - mse: 7050622.2611 - mae: 2496.9329\n",
      "Epoch 54/100\n",
      "920/920 [==============================] - 3s 3ms/step - loss: 7020546.3599 - mse: 7020546.3599 - mae: 2487.9351: 0s - loss: 7020490.4210 - mse: 7020490.4210 - mae: 2\n",
      "Epoch 55/100\n",
      "920/920 [==============================] - 3s 3ms/step - loss: 6960216.5092 - mse: 6960216.5092 - mae: 2477.4770\n",
      "Epoch 56/100\n",
      "920/920 [==============================] - 3s 3ms/step - loss: 6994310.8366 - mse: 6994310.8366 - mae: 2482.4707\n",
      "Epoch 57/100\n",
      "920/920 [==============================] - 2s 3ms/step - loss: 7027093.0000 - mse: 7027093.0000 - mae: 2490.6235\n",
      "Epoch 58/100\n",
      "920/920 [==============================] - 3s 3ms/step - loss: 7012388.6770 - mse: 7012388.6770 - mae: 2485.7152\n",
      "Epoch 59/100\n",
      "920/920 [==============================] - 3s 3ms/step - loss: 6938354.8561 - mse: 6938354.8561 - mae: 2471.7347\n",
      "Epoch 60/100\n",
      "920/920 [==============================] - 3s 4ms/step - loss: 6916532.6194 - mse: 6916532.6194 - mae: 2466.9426: 1s - loss: 6909442.040\n",
      "Epoch 61/100\n",
      "920/920 [==============================] - 3s 3ms/step - loss: 6928834.9104 - mse: 6928834.9104 - mae: 2469.5893\n",
      "Epoch 62/100\n",
      "920/920 [==============================] - 3s 3ms/step - loss: 6896516.2725 - mse: 6896516.2725 - mae: 2464.9012\n",
      "Epoch 63/100\n",
      "920/920 [==============================] - 3s 3ms/step - loss: 6905663.8958 - mse: 6905663.8958 - mae: 2463.9159\n",
      "Epoch 64/100\n",
      "920/920 [==============================] - 3s 3ms/step - loss: 6889792.3198 - mse: 6889792.3198 - mae: 2460.9015\n",
      "Epoch 65/100\n",
      "920/920 [==============================] - 3s 3ms/step - loss: 6881198.7986 - mse: 6881198.7986 - mae: 2459.3406\n",
      "Epoch 66/100\n",
      "920/920 [==============================] - 3s 3ms/step - loss: 6832113.6406 - mse: 6832113.6406 - mae: 2449.7581: 0s - loss: 6831525.5000 - \n",
      "Epoch 67/100\n",
      "920/920 [==============================] - 3s 3ms/step - loss: 6856046.2296 - mse: 6856046.2296 - mae: 2453.0786\n",
      "Epoch 68/100\n",
      "920/920 [==============================] - 3s 3ms/step - loss: 6854452.8512 - mse: 6854452.8512 - mae: 2454.1559\n",
      "Epoch 69/100\n",
      "920/920 [==============================] - 3s 3ms/step - loss: 6838573.7980 - mse: 6838573.7980 - mae: 2452.3583\n",
      "Epoch 70/100\n",
      "920/920 [==============================] - 3s 3ms/step - loss: 6748752.0342 - mse: 6748752.0342 - mae: 2433.8983\n",
      "Epoch 71/100\n",
      "920/920 [==============================] - 3s 3ms/step - loss: 6845346.9446 - mse: 6845346.9446 - mae: 2453.4606\n",
      "Epoch 72/100\n",
      "920/920 [==============================] - 3s 3ms/step - loss: 6805597.1509 - mse: 6805597.1509 - mae: 2443.4446: 2s - loss: 6963835.890 - ETA: 1s -\n",
      "Epoch 73/100\n",
      "920/920 [==============================] - 3s 3ms/step - loss: 6819787.8290 - mse: 6819787.8290 - mae: 2447.4493\n",
      "Epoch 74/100\n",
      "920/920 [==============================] - 3s 3ms/step - loss: 6717506.1433 - mse: 6717506.1433 - mae: 2426.5971\n",
      "Epoch 75/100\n",
      "920/920 [==============================] - 4s 5ms/step - loss: 6716391.5565 - mse: 6716391.5565 - mae: 2426.0477\n",
      "Epoch 76/100\n",
      "920/920 [==============================] - 3s 3ms/step - loss: 6711131.5934 - mse: 6711131.5934 - mae: 2424.4114\n",
      "Epoch 77/100\n",
      "920/920 [==============================] - 3s 3ms/step - loss: 6685051.0320 - mse: 6685051.0320 - mae: 2419.5837\n",
      "Epoch 78/100\n",
      "920/920 [==============================] - 3s 3ms/step - loss: 6664573.2362 - mse: 6664573.2362 - mae: 2416.0401\n",
      "Epoch 79/100\n",
      "920/920 [==============================] - 3s 3ms/step - loss: 6646892.1107 - mse: 6646892.1107 - mae: 2413.7114\n",
      "Epoch 80/100\n",
      "920/920 [==============================] - 3s 3ms/step - loss: 6672357.4463 - mse: 6672357.4463 - mae: 2416.7354\n",
      "Epoch 81/100\n",
      "920/920 [==============================] - 3s 3ms/step - loss: 6657178.3236 - mse: 6657178.3236 - mae: 2415.5473\n",
      "Epoch 82/100\n",
      "920/920 [==============================] - 3s 3ms/step - loss: 6623414.6938 - mse: 6623414.6938 - mae: 2406.6892: 1s\n",
      "Epoch 83/100\n",
      "920/920 [==============================] - 3s 3ms/step - loss: 6612311.1792 - mse: 6612311.1792 - mae: 2403.9492\n",
      "Epoch 84/100\n",
      "920/920 [==============================] - 3s 3ms/step - loss: 6575969.8355 - mse: 6575969.8355 - mae: 2394.9288: 0s - loss: 6569395.6607 - mse: 6569395.660\n",
      "Epoch 85/100\n",
      "920/920 [==============================] - 3s 4ms/step - loss: 6615365.1585 - mse: 6615365.1585 - mae: 2407.5053: 1s - loss: 66242\n",
      "Epoch 86/100\n",
      "920/920 [==============================] - 3s 3ms/step - loss: 6574413.1612 - mse: 6574413.1612 - mae: 2398.1691\n",
      "Epoch 87/100\n",
      "920/920 [==============================] - 3s 3ms/step - loss: 6603491.5711 - mse: 6603491.5711 - mae: 2403.5590\n",
      "Epoch 88/100\n",
      "920/920 [==============================] - 3s 3ms/step - loss: 6577197.4311 - mse: 6577197.4311 - mae: 2398.8200\n",
      "Epoch 89/100\n",
      "920/920 [==============================] - 3s 3ms/step - loss: 6610206.9397 - mse: 6610206.9397 - mae: 2406.1155\n",
      "Epoch 90/100\n",
      "920/920 [==============================] - 3s 3ms/step - loss: 6535299.8817 - mse: 6535299.8817 - mae: 2388.7126\n",
      "Epoch 91/100\n",
      "920/920 [==============================] - 3s 3ms/step - loss: 6498589.8382 - mse: 6498589.8382 - mae: 2380.1315\n",
      "Epoch 92/100\n",
      "920/920 [==============================] - 3s 3ms/step - loss: 6566764.1183 - mse: 6566764.1183 - mae: 2394.7398\n",
      "Epoch 93/100\n",
      "920/920 [==============================] - 3s 3ms/step - loss: 6449640.6460 - mse: 6449640.6460 - mae: 2370.4244\n",
      "Epoch 94/100\n",
      "920/920 [==============================] - 3s 3ms/step - loss: 6523287.4012 - mse: 6523287.4012 - mae: 2384.4224\n",
      "Epoch 95/100\n",
      "920/920 [==============================] - 3s 3ms/step - loss: 6468820.4593 - mse: 6468820.4593 - mae: 2373.3533\n",
      "Epoch 96/100\n",
      "920/920 [==============================] - 3s 3ms/step - loss: 6470735.0141 - mse: 6470735.0141 - mae: 2374.5562\n",
      "Epoch 97/100\n",
      "920/920 [==============================] - 3s 3ms/step - loss: 6429940.9647 - mse: 6429940.9647 - mae: 2367.1654\n",
      "Epoch 98/100\n",
      "920/920 [==============================] - 3s 3ms/step - loss: 6417634.3779 - mse: 6417634.3779 - mae: 2365.6038\n",
      "Epoch 99/100\n",
      "920/920 [==============================] - 3s 3ms/step - loss: 6436162.6341 - mse: 6436162.6341 - mae: 2369.0318\n",
      "Epoch 100/100\n",
      "920/920 [==============================] - 3s 3ms/step - loss: 6423180.5304 - mse: 6423180.5304 - mae: 2364.3223\n"
     ]
    },
    {
     "data": {
      "text/plain": [
       "<tensorflow.python.keras.callbacks.History at 0x16252bc40>"
      ]
     },
     "execution_count": 13,
     "metadata": {},
     "output_type": "execute_result"
    }
   ],
   "source": [
    "# Fitting the model to our trimmed data\n",
    "LAI_model.fit(x=X.to_numpy(), y=y.to_numpy(), epochs=100)"
   ]
  },
  {
   "cell_type": "code",
   "execution_count": 14,
   "metadata": {},
   "outputs": [],
   "source": [
    "# Predicting our own input data to evaluate the performance (for now)\n",
    "LAI_predictions = pd.Series(LAI_model.predict(X.to_numpy()).flatten())"
   ]
  },
  {
   "cell_type": "markdown",
   "metadata": {
    "tags": []
   },
   "source": [
    "### Repeat export for 10m data:"
   ]
  },
  {
   "cell_type": "code",
   "execution_count": 15,
   "metadata": {},
   "outputs": [],
   "source": [
    "trimmed_collection_10m=alr.trim_data(image=inputImage_10m.updateMask(inputImage_10m.select(defaultBand).gt(0)),\n",
    "                                     selected_features=select_features_10m,\n",
    "                                     response_band=defaultBand,\n",
    "                                     num_samples=50000,\n",
    "                                     num_partitions=10)\n",
    "\n",
    "exportData_10m = ee.batch.Export.table.toDrive(collection=trimmed_collection_10m,\n",
    "                                               description=\"image_data_samples_10m\",\n",
    "                                               fileFormat=\"CSV\")\n",
    "\n",
    "exportData_10m.start()"
   ]
  },
  {
   "cell_type": "code",
   "execution_count": 16,
   "metadata": {},
   "outputs": [
    {
     "name": "stdout",
     "output_type": "stream",
     "text": [
      "READY\n",
      "RUNNING\n",
      "COMPLETED\n"
     ]
    }
   ],
   "source": [
    "# Essentially a wait loop to see if the data has finished exporting by checking with the server-side\n",
    "prev_task_status_10m = ee.data.getTaskStatus(exportData_10m.id)[0][\"state\"]\n",
    "print(prev_task_status_10m)\n",
    "while exportData_10m.active():\n",
    "    task_status_10m = ee.data.getTaskStatus(exportData_10m.id)[0][\"state\"]\n",
    "    if(task_status_10m != prev_task_status_10m):\n",
    "        print(task_status_10m)\n",
    "    prev_task_status_10m = task_status_10m\n",
    "    time.sleep(5)\n",
    "print(ee.data.getTaskStatus(exportData_10m.id)[0][\"state\"])"
   ]
  },
  {
   "cell_type": "code",
   "execution_count": 17,
   "metadata": {},
   "outputs": [],
   "source": [
    "# Reading the CSV file into dataframes\n",
    "trimmed_data_10m = pd.read_csv('./gdrive/image_data_samples_10m.csv')\n",
    "X_10m = trimmed_data_10m.drop(labels=['estimateLAI', 'system:index', '.geo'], axis=1)\n",
    "# X_10m = trimmed_data_10m.drop(labels=['LAI', 'system:index', '.geo'], axis=1)\n",
    "y_10m = trimmed_data_10m.estimateLAI\n",
    "\n",
    "# We preprocess the input features by standardizing them to a mean of 0 and a standard deviation of 1 for the neural network\n",
    "X_10m = pd.DataFrame(sklearn.preprocessing.scale(X_10m))"
   ]
  },
  {
   "cell_type": "code",
   "execution_count": 18,
   "metadata": {},
   "outputs": [],
   "source": [
    "# Using Keras to create a sequential model neural network which only has simple dense layers of the specified number of nodes\n",
    "LAI_model_10m = tensorflow.keras.models.Sequential([\n",
    "    tensorflow.keras.layers.Dense(5, input_shape=[len(X_10m.keys())]),\n",
    "    tensorflow.keras.layers.Dense(4, activation=\"softsign\"),\n",
    "    tensorflow.keras.layers.Dense(3, activation=\"softsign\"),\n",
    "    tensorflow.keras.layers.Dense(2, activation=\"softsign\"),\n",
    "    tensorflow.keras.layers.Dense(1)\n",
    "])\n",
    "# Compiling the model to minimize the mean squared error loss function and use the NADAM optimizer\n",
    "LAI_model_10m.compile(\n",
    "    optimizer=tensorflow.keras.optimizers.Nadam(),\n",
    "    loss='mse',\n",
    "    metrics=['mse', 'mae'])"
   ]
  },
  {
   "cell_type": "code",
   "execution_count": 19,
   "metadata": {},
   "outputs": [
    {
     "name": "stdout",
     "output_type": "stream",
     "text": [
      "Epoch 1/100\n",
      "921/921 [==============================] - 7s 5ms/step - loss: 7769186.5363 - mse: 7769186.5363 - mae: 2634.3760\n",
      "Epoch 2/100\n",
      "921/921 [==============================] - 5s 5ms/step - loss: 7758396.2717 - mse: 7758396.2717 - mae: 2632.3618\n",
      "Epoch 3/100\n",
      "921/921 [==============================] - 3s 3ms/step - loss: 7734569.5602 - mse: 7734569.5602 - mae: 2627.7858\n",
      "Epoch 4/100\n",
      "921/921 [==============================] - 3s 3ms/step - loss: 7736756.2728 - mse: 7736756.2728 - mae: 2628.4258\n",
      "Epoch 5/100\n",
      "921/921 [==============================] - 3s 3ms/step - loss: 7706060.9924 - mse: 7706060.9924 - mae: 2622.4727\n",
      "Epoch 6/100\n",
      "921/921 [==============================] - 3s 3ms/step - loss: 7683683.9875 - mse: 7683683.9875 - mae: 2619.0555\n",
      "Epoch 7/100\n",
      "921/921 [==============================] - 4s 5ms/step - loss: 7671941.0374 - mse: 7671941.0374 - mae: 2616.7613\n",
      "Epoch 8/100\n",
      "921/921 [==============================] - 4s 4ms/step - loss: 7664654.6979 - mse: 7664654.6979 - mae: 2613.7903: 0s - loss: 7665246.3874 - mse: 76652\n",
      "Epoch 9/100\n",
      "921/921 [==============================] - 5s 5ms/step - loss: 7621645.7175 - mse: 7621645.7175 - mae: 2606.8228\n",
      "Epoch 10/100\n",
      "921/921 [==============================] - 4s 5ms/step - loss: 7622871.4832 - mse: 7622871.4832 - mae: 2605.8148: 0s - loss: 7619308.3470 - mse: 7\n",
      "Epoch 11/100\n",
      "921/921 [==============================] - 3s 4ms/step - loss: 7611852.7777 - mse: 7611852.7777 - mae: 2604.5952: 0s - loss: 7612767.2202 - mse: 7612767.2\n",
      "Epoch 12/100\n",
      "921/921 [==============================] - 3s 4ms/step - loss: 7600513.5824 - mse: 7600513.5824 - mae: 2603.0374\n",
      "Epoch 13/100\n",
      "921/921 [==============================] - 4s 4ms/step - loss: 7610091.1383 - mse: 7610091.1383 - mae: 2604.0840\n",
      "Epoch 14/100\n",
      "921/921 [==============================] - 4s 4ms/step - loss: 7549336.4897 - mse: 7549336.4897 - mae: 2591.2012\n",
      "Epoch 15/100\n",
      "921/921 [==============================] - 4s 4ms/step - loss: 7556911.7711 - mse: 7556911.7711 - mae: 2593.4151\n",
      "Epoch 16/100\n",
      "921/921 [==============================] - 3s 3ms/step - loss: 7559667.5526 - mse: 7559667.5526 - mae: 2593.1190\n",
      "Epoch 17/100\n",
      "921/921 [==============================] - 3s 3ms/step - loss: 7524352.2196 - mse: 7524352.2196 - mae: 2585.9668\n",
      "Epoch 18/100\n",
      "921/921 [==============================] - 2s 2ms/step - loss: 7476984.7131 - mse: 7476984.7131 - mae: 2577.1423\n",
      "Epoch 19/100\n",
      "921/921 [==============================] - 3s 4ms/step - loss: 7479588.0369 - mse: 7479588.0369 - mae: 2577.2145\n",
      "Epoch 20/100\n",
      "921/921 [==============================] - 4s 4ms/step - loss: 7522325.3883 - mse: 7522325.3883 - mae: 2586.1139\n",
      "Epoch 21/100\n",
      "921/921 [==============================] - 4s 4ms/step - loss: 7507381.3069 - mse: 7507381.3069 - mae: 2584.8567\n",
      "Epoch 22/100\n",
      "921/921 [==============================] - 4s 4ms/step - loss: 7432617.7836 - mse: 7432617.7836 - mae: 2569.3716\n",
      "Epoch 23/100\n",
      "921/921 [==============================] - 4s 4ms/step - loss: 7493212.0656 - mse: 7493212.0656 - mae: 2580.7206\n",
      "Epoch 24/100\n",
      "921/921 [==============================] - 4s 4ms/step - loss: 7452156.3346 - mse: 7452156.3346 - mae: 2572.7923\n",
      "Epoch 25/100\n",
      "921/921 [==============================] - 4s 4ms/step - loss: 7461003.9024 - mse: 7461003.9024 - mae: 2575.2400\n",
      "Epoch 26/100\n",
      "921/921 [==============================] - 3s 4ms/step - loss: 7404066.6920 - mse: 7404066.6920 - mae: 2565.5298\n",
      "Epoch 27/100\n",
      "921/921 [==============================] - 3s 3ms/step - loss: 7375381.3948 - mse: 7375381.3948 - mae: 2558.7145: \n",
      "Epoch 28/100\n",
      "921/921 [==============================] - 4s 4ms/step - loss: 7393486.0575 - mse: 7393486.0575 - mae: 2560.6685\n",
      "Epoch 29/100\n",
      "921/921 [==============================] - 4s 4ms/step - loss: 7325799.8086 - mse: 7325799.8086 - mae: 2548.5945\n",
      "Epoch 30/100\n",
      "921/921 [==============================] - 4s 4ms/step - loss: 7333893.0363 - mse: 7333893.0363 - mae: 2550.0857\n",
      "Epoch 31/100\n",
      "921/921 [==============================] - 4s 5ms/step - loss: 7303429.1117 - mse: 7303429.1117 - mae: 2545.0946: 1s - loss: 7\n",
      "Epoch 32/100\n",
      "921/921 [==============================] - 4s 5ms/step - loss: 7252469.2576 - mse: 7252469.2576 - mae: 2533.4152\n",
      "Epoch 33/100\n",
      "921/921 [==============================] - 4s 4ms/step - loss: 7318664.9843 - mse: 7318664.9843 - mae: 2547.1874\n",
      "Epoch 34/100\n",
      "921/921 [==============================] - 3s 3ms/step - loss: 7295148.8829 - mse: 7295148.8829 - mae: 2542.0073\n",
      "Epoch 35/100\n",
      "921/921 [==============================] - 3s 4ms/step - loss: 7290674.8427 - mse: 7290674.8427 - mae: 2541.2106\n",
      "Epoch 36/100\n",
      "921/921 [==============================] - 4s 5ms/step - loss: 7319870.4062 - mse: 7319870.4062 - mae: 2548.7896\n",
      "Epoch 37/100\n",
      "921/921 [==============================] - 4s 4ms/step - loss: 7284431.0488 - mse: 7284431.0488 - mae: 2540.1811\n",
      "Epoch 38/100\n",
      "921/921 [==============================] - 4s 4ms/step - loss: 7255062.2657 - mse: 7255062.2657 - mae: 2532.9665\n",
      "Epoch 39/100\n",
      "921/921 [==============================] - 3s 4ms/step - loss: 7189746.3932 - mse: 7189746.3932 - mae: 2522.8573\n",
      "Epoch 40/100\n",
      "921/921 [==============================] - 5s 5ms/step - loss: 7206272.7261 - mse: 7206272.7261 - mae: 2525.0285\n",
      "Epoch 41/100\n",
      "921/921 [==============================] - 4s 4ms/step - loss: 7220980.0206 - mse: 7220980.0206 - mae: 2529.0787\n",
      "Epoch 42/100\n",
      "921/921 [==============================] - 4s 4ms/step - loss: 7186030.6215 - mse: 7186030.6215 - mae: 2521.2300\n",
      "Epoch 43/100\n",
      "921/921 [==============================] - 3s 3ms/step - loss: 7132739.0352 - mse: 7132739.0352 - mae: 2511.5740\n",
      "Epoch 44/100\n",
      "921/921 [==============================] - 3s 3ms/step - loss: 7194157.4875 - mse: 7194157.4875 - mae: 2521.6350: 0s - loss: 7\n",
      "Epoch 45/100\n",
      "921/921 [==============================] - 3s 4ms/step - loss: 7146965.8389 - mse: 7146965.8389 - mae: 2512.0284\n",
      "Epoch 46/100\n",
      "921/921 [==============================] - 4s 4ms/step - loss: 7135891.4485 - mse: 7135891.4485 - mae: 2510.4101\n",
      "Epoch 47/100\n",
      "921/921 [==============================] - 5s 5ms/step - loss: 7098449.5412 - mse: 7098449.5412 - mae: 2502.5322\n",
      "Epoch 48/100\n",
      "921/921 [==============================] - 4s 5ms/step - loss: 7091977.1475 - mse: 7091977.1475 - mae: 2503.1350\n",
      "Epoch 49/100\n",
      "921/921 [==============================] - 3s 4ms/step - loss: 7090464.8200 - mse: 7090464.8200 - mae: 2500.0887\n",
      "Epoch 50/100\n",
      "921/921 [==============================] - 4s 5ms/step - loss: 7099496.4490 - mse: 7099496.4490 - mae: 2502.9916\n",
      "Epoch 51/100\n",
      "921/921 [==============================] - 3s 4ms/step - loss: 7016897.9935 - mse: 7016897.9935 - mae: 2486.6225\n",
      "Epoch 52/100\n",
      "921/921 [==============================] - 3s 3ms/step - loss: 7090178.9073 - mse: 7090178.9073 - mae: 2502.5468\n",
      "Epoch 53/100\n",
      "921/921 [==============================] - 4s 4ms/step - loss: 7074623.3753 - mse: 7074623.3753 - mae: 2498.4742: 0s - loss: 7075622.2456 - mse: 7075622.2456 - mae: 249\n",
      "Epoch 54/100\n",
      "921/921 [==============================] - 4s 4ms/step - loss: 7041572.9062 - mse: 7041572.9062 - mae: 2492.0799\n",
      "Epoch 55/100\n",
      "921/921 [==============================] - ETA: 0s - loss: 6991457.3591 - mse: 6991457.3591 - mae: 2483.31 - 4s 4ms/step - loss: 6991504.8227 - mse: 6991504.8227 - mae: 2483.3086\n",
      "Epoch 56/100\n",
      "921/921 [==============================] - 4s 5ms/step - loss: 6995516.2630 - mse: 6995516.2630 - mae: 2484.5795: 0s - loss: 6996838.8239 - mse: 699\n",
      "Epoch 57/100\n",
      "921/921 [==============================] - 4s 4ms/step - loss: 6982870.9675 - mse: 6982870.9675 - mae: 2483.2240\n",
      "Epoch 58/100\n",
      "921/921 [==============================] - 5s 5ms/step - loss: 6921669.2451 - mse: 6921669.2451 - mae: 2470.5510\n",
      "Epoch 59/100\n",
      "921/921 [==============================] - 3s 4ms/step - loss: 6921419.9783 - mse: 6921419.9783 - mae: 2468.2315\n",
      "Epoch 60/100\n",
      "921/921 [==============================] - 4s 4ms/step - loss: 6889227.8471 - mse: 6889227.8471 - mae: 2461.1729\n",
      "Epoch 61/100\n",
      "921/921 [==============================] - 4s 5ms/step - loss: 6902377.0732 - mse: 6902377.0732 - mae: 2461.4588\n",
      "Epoch 62/100\n",
      "921/921 [==============================] - ETA: 0s - loss: 6917299.1997 - mse: 6917299.1997 - mae: 2467.12 - 4s 4ms/step - loss: 6917246.5862 - mse: 6917246.5862 - mae: 2467.1131\n",
      "Epoch 63/100\n",
      "921/921 [==============================] - 3s 4ms/step - loss: 6919383.9366 - mse: 6919383.9366 - mae: 2466.8045\n",
      "Epoch 64/100\n",
      "921/921 [==============================] - 3s 4ms/step - loss: 6847303.8574 - mse: 6847303.8574 - mae: 2452.1925\n",
      "Epoch 65/100\n",
      "921/921 [==============================] - 4s 4ms/step - loss: 6885770.5537 - mse: 6885770.5537 - mae: 2461.5593: 1s - loss: 6893103\n",
      "Epoch 66/100\n",
      "921/921 [==============================] - 3s 3ms/step - loss: 6864313.9143 - mse: 6864313.9143 - mae: 2457.4297\n",
      "Epoch 67/100\n",
      "921/921 [==============================] - 4s 4ms/step - loss: 6876068.4577 - mse: 6876068.4577 - mae: 2458.4801\n",
      "Epoch 68/100\n",
      "921/921 [==============================] - 4s 4ms/step - loss: 6840688.2798 - mse: 6840688.2798 - mae: 2452.0996\n",
      "Epoch 69/100\n",
      "921/921 [==============================] - 4s 4ms/step - loss: 6811805.9187 - mse: 6811805.9187 - mae: 2446.5011\n",
      "Epoch 70/100\n",
      "921/921 [==============================] - 3s 3ms/step - loss: 6817062.1540 - mse: 6817062.1540 - mae: 2447.1661\n",
      "Epoch 71/100\n",
      "921/921 [==============================] - 3s 3ms/step - loss: 6788417.9235 - mse: 6788417.9235 - mae: 2440.8992\n",
      "Epoch 72/100\n",
      "921/921 [==============================] - 3s 4ms/step - loss: 6791653.4854 - mse: 6791653.4854 - mae: 2440.8621\n",
      "Epoch 73/100\n",
      "921/921 [==============================] - 5s 5ms/step - loss: 6728401.9658 - mse: 6728401.9658 - mae: 2429.3080\n",
      "Epoch 74/100\n",
      "921/921 [==============================] - 4s 4ms/step - loss: 6697589.6437 - mse: 6697589.6437 - mae: 2423.3778\n",
      "Epoch 75/100\n",
      "921/921 [==============================] - 3s 4ms/step - loss: 6704350.9008 - mse: 6704350.9008 - mae: 2423.0156\n",
      "Epoch 76/100\n",
      "921/921 [==============================] - 3s 4ms/step - loss: 6725528.0521 - mse: 6725528.0521 - mae: 2427.0595\n",
      "Epoch 77/100\n",
      "921/921 [==============================] - 3s 3ms/step - loss: 6726990.6020 - mse: 6726990.6020 - mae: 2428.7090\n",
      "Epoch 78/100\n",
      "921/921 [==============================] - 3s 4ms/step - loss: 6683935.8682 - mse: 6683935.8682 - mae: 2417.6284\n",
      "Epoch 79/100\n",
      "921/921 [==============================] - 3s 4ms/step - loss: 6660729.6866 - mse: 6660729.6866 - mae: 2415.2301\n",
      "Epoch 80/100\n",
      "921/921 [==============================] - 3s 3ms/step - loss: 6645605.7202 - mse: 6645605.7202 - mae: 2412.0569\n",
      "Epoch 81/100\n",
      "921/921 [==============================] - 4s 4ms/step - loss: 6631584.2082 - mse: 6631584.2082 - mae: 2407.2815\n",
      "Epoch 82/100\n",
      "921/921 [==============================] - 4s 4ms/step - loss: 6669989.5765 - mse: 6669989.5765 - mae: 2415.8899\n",
      "Epoch 83/100\n",
      "921/921 [==============================] - 3s 3ms/step - loss: 6632600.1833 - mse: 6632600.1833 - mae: 2408.2180\n",
      "Epoch 84/100\n",
      "921/921 [==============================] - 3s 4ms/step - loss: 6629852.7684 - mse: 6629852.7684 - mae: 2408.1897\n",
      "Epoch 85/100\n",
      "921/921 [==============================] - 3s 3ms/step - loss: 6616779.9930 - mse: 6616779.9930 - mae: 2402.5085\n",
      "Epoch 86/100\n",
      "921/921 [==============================] - 4s 4ms/step - loss: 6545559.9832 - mse: 6545559.9832 - mae: 2388.7484\n",
      "Epoch 87/100\n",
      "921/921 [==============================] - 5s 5ms/step - loss: 6580318.5179 - mse: 6580318.5179 - mae: 2395.8670: 1s - loss: 6\n",
      "Epoch 88/100\n",
      "921/921 [==============================] - 3s 3ms/step - loss: 6512544.2950 - mse: 6512544.2950 - mae: 2384.4565\n",
      "Epoch 89/100\n",
      "921/921 [==============================] - 4s 4ms/step - loss: 6565546.9024 - mse: 6565546.9024 - mae: 2396.0649\n",
      "Epoch 90/100\n",
      "921/921 [==============================] - 4s 4ms/step - loss: 6560338.5211 - mse: 6560338.5211 - mae: 2395.5130\n",
      "Epoch 91/100\n",
      "921/921 [==============================] - 3s 3ms/step - loss: 6520501.8769 - mse: 6520501.8769 - mae: 2385.3812\n",
      "Epoch 92/100\n",
      "921/921 [==============================] - 2s 3ms/step - loss: 6487529.7413 - mse: 6487529.7413 - mae: 2377.3573\n",
      "Epoch 93/100\n",
      "921/921 [==============================] - 3s 3ms/step - loss: 6474573.2711 - mse: 6474573.2711 - mae: 2376.9947\n",
      "Epoch 94/100\n",
      "921/921 [==============================] - 2s 3ms/step - loss: 6460533.7392 - mse: 6460533.7392 - mae: 2373.8032\n",
      "Epoch 95/100\n",
      "921/921 [==============================] - 3s 3ms/step - loss: 6479223.6198 - mse: 6479223.6198 - mae: 2376.7483\n",
      "Epoch 96/100\n",
      "921/921 [==============================] - 2s 3ms/step - loss: 6442900.2511 - mse: 6442900.2511 - mae: 2367.2306: 0s - loss: 6441711.5821 - mse: 6441711.5\n",
      "Epoch 97/100\n",
      "921/921 [==============================] - 2s 3ms/step - loss: 6405062.0184 - mse: 6405062.0184 - mae: 2361.3403\n",
      "Epoch 98/100\n",
      "921/921 [==============================] - 3s 3ms/step - loss: 6392681.6518 - mse: 6392681.6518 - mae: 2360.2666\n",
      "Epoch 99/100\n",
      "921/921 [==============================] - 3s 3ms/step - loss: 6439579.4463 - mse: 6439579.4463 - mae: 2370.1831: 2s - loss: 6520591.4 - ETA: 1s - loss: 645\n",
      "Epoch 100/100\n",
      "921/921 [==============================] - 3s 3ms/step - loss: 6384754.0721 - mse: 6384754.0721 - mae: 2357.8183\n"
     ]
    },
    {
     "data": {
      "text/plain": [
       "<tensorflow.python.keras.callbacks.History at 0x1630e93a0>"
      ]
     },
     "execution_count": 19,
     "metadata": {},
     "output_type": "execute_result"
    }
   ],
   "source": [
    "# Fitting the model to our trimmed data\n",
    "LAI_model_10m.fit(x=X_10m.to_numpy(), y=y_10m.to_numpy(), epochs=100)"
   ]
  },
  {
   "cell_type": "code",
   "execution_count": 20,
   "metadata": {},
   "outputs": [],
   "source": [
    "# Predicting our own input data to evaluate the performance (for now)\n",
    "LAI_predictions_10m = pd.Series(LAI_model_10m.predict(X_10m.to_numpy()).flatten())"
   ]
  },
  {
   "cell_type": "markdown",
   "metadata": {},
   "source": [
    "Below is code the that prepares the predictions to be displayed against the true values of the response for matplotlib"
   ]
  },
  {
   "cell_type": "code",
   "execution_count": 21,
   "metadata": {},
   "outputs": [],
   "source": [
    "xy_tf_LAI = np.vstack([y, LAI_predictions])\n",
    "z_tf_LAI = scipy.stats.gaussian_kde(xy_tf_LAI)(xy_tf_LAI)\n",
    "\n",
    "idx_tf_LAI = z_tf_LAI.argsort()\n",
    "x_tf_LAI = y[idx_tf_LAI]\n",
    "y_tf_LAI = LAI_predictions[idx_tf_LAI]\n",
    "z_tf_LAI = z_tf_LAI[idx_tf_LAI]\n",
    "\n",
    "rmse_tf_LAI = sklearn.metrics.mean_squared_error(x_tf_LAI, y_tf_LAI, squared=False)"
   ]
  },
  {
   "cell_type": "code",
   "execution_count": 22,
   "metadata": {},
   "outputs": [],
   "source": [
    "# 10m:\n",
    "xy_tf_LAI_10m = np.vstack([y_10m, LAI_predictions_10m])\n",
    "z_tf_LAI_10m = scipy.stats.gaussian_kde(xy_tf_LAI_10m)(xy_tf_LAI_10m)\n",
    "\n",
    "idx_tf_LAI_10m = z_tf_LAI_10m.argsort()\n",
    "x_tf_LAI_10m = y_10m[idx_tf_LAI_10m]\n",
    "y_tf_LAI_10m = LAI_predictions_10m[idx_tf_LAI_10m]\n",
    "z_tf_LAI_10m = z_tf_LAI_10m[idx_tf_LAI_10m]\n",
    "\n",
    "rmse_tf_LAI_10m = sklearn.metrics.mean_squared_error(x_tf_LAI_10m, y_tf_LAI_10m, squared=False)"
   ]
  },
  {
   "cell_type": "code",
   "execution_count": 23,
   "metadata": {},
   "outputs": [
    {
     "data": {
      "image/png": "[encoded data removed]",
      "text/plain": [
       "<Figure size 864x360 with 2 Axes>"
      ]
     },
     "metadata": {
      "needs_background": "light"
     },
     "output_type": "display_data"
    }
   ],
   "source": [
    "#---------------------------------------\n",
    "# TO FIX: problem with plot data scaling\n",
    "#---------------------------------------\n",
    "\n",
    "# plot feature prediction\n",
    "a_tf_LAI = np.linspace(0, 3, 1000)\n",
    "a_tf_LAI_10m = np.linspace(0, 3, 1000)\n",
    "\n",
    "fig, ax = plt.subplots(1, 2, figsize=(12,5))\n",
    "fig.suptitle('{}'.format('Estimated '+outputName))\n",
    "\n",
    "# Using all features\n",
    "ax[0].scatter(x_tf_LAI/1000, y_tf_LAI/100, c=z_tf_LAI)\n",
    "ax[0].plot(a_tf_LAI, a_tf_LAI, c='r')\n",
    "ax[0].set_xlim([0, 4])\n",
    "ax[0].title.set_text(f'LASSO LARS (ALL BANDS) - RMSE: {rmse_tf_LAI:.4f}')\n",
    "\n",
    "# Using 10 m features only\n",
    "ax[1].scatter(x_tf_LAI_10m/1000, y_tf_LAI_10m/100, c=z_tf_LAI_10m)\n",
    "ax[1].plot(a_tf_LAI_10m, a_tf_LAI_10m, c='r')\n",
    "ax[1].set_xlim([0, 4])\n",
    "ax[1].title.set_text(f'LASSO LARS (10m BANDS) - RMSE: {rmse_tf_LAI_10m:.4f}')"
   ]
  },
  {
   "cell_type": "markdown",
   "metadata": {},
   "source": [
    "Early attempts to use the output of the kerasModel.get_weights() to apply the neural network weights manually"
   ]
  },
  {
   "cell_type": "code",
   "execution_count": 46,
   "metadata": {
    "scrolled": true
   },
   "outputs": [
    {
     "data": {
      "text/plain": [
       "[array([[-2.7398798 , -3.536974  ,  3.6466925 ,  3.1230073 , -3.8034012 ],\n",
       "        [ 3.7981048 ,  4.057477  , -2.9011967 , -3.9306624 ,  3.8486443 ],\n",
       "        [ 0.02518088, -0.47988126,  0.55527914, -0.6205802 ,  0.0221141 ],\n",
       "        [ 6.573537  ,  6.4667497 , -5.791895  , -6.8965282 ,  5.579861  ],\n",
       "        [-1.60505   , -0.7643096 ,  1.0398248 ,  1.0449996 , -0.17405012]],\n",
       "       dtype=float32),\n",
       " array([ 62.107056,  67.03532 , -62.11858 , -65.91176 ,  60.563435],\n",
       "       dtype=float32),\n",
       " array([[-58.117756,  60.90686 ,  56.89272 ,  57.115055],\n",
       "        [-60.49769 ,  62.267223,  60.218987,  61.560387],\n",
       "        [ 59.326492, -59.18705 , -57.18816 , -57.682053],\n",
       "        [ 60.810936, -63.179443, -59.603443, -60.579227],\n",
       "        [-58.362484,  59.049206,  58.17094 ,  57.17671 ]], dtype=float32),\n",
       " array([-20.77999 ,  24.04258 ,  19.182133,  20.828087], dtype=float32),\n",
       " array([[-80.09378 ,  79.59881 , -80.34347 ],\n",
       "        [ 80.74922 , -78.71333 ,  80.72042 ],\n",
       "        [ 80.38256 , -79.88559 ,  81.25333 ],\n",
       "        [ 80.81242 , -78.92862 ,  81.739815]], dtype=float32),\n",
       " array([ 76.63425 , -75.79627 ,  78.146286], dtype=float32),\n",
       " array([[-87.29831,  87.81812],\n",
       "        [ 87.71038, -87.97739],\n",
       "        [-87.29169,  86.89703]], dtype=float32),\n",
       " array([-85.106064,  86.57154 ], dtype=float32),\n",
       " array([[-93.17847],\n",
       "        [ 92.50115]], dtype=float32),\n",
       " array([91.69926], dtype=float32)]"
      ]
     },
     "execution_count": 46,
     "metadata": {},
     "output_type": "execute_result"
    }
   ],
   "source": [
    "LAI_model.get_weights()"
   ]
  },
  {
   "cell_type": "code",
   "execution_count": 47,
   "metadata": {},
   "outputs": [
    {
     "data": {
      "text/plain": [
       "[array([[-3.5480783 , -3.587339  , -2.9099941 ,  3.23489   , -3.628387  ],\n",
       "        [ 4.1115007 ,  3.479523  ,  3.4047341 , -3.6032658 ,  4.029607  ],\n",
       "        [ 0.04047   , -0.5622287 ,  0.07578439,  0.3330413 , -0.15563202],\n",
       "        [ 5.4377503 ,  6.017694  ,  6.564209  , -6.8837156 ,  6.443043  ],\n",
       "        [-1.0541114 , -0.5267082 , -0.9121629 ,  0.8634612 , -1.256864  ]],\n",
       "       dtype=float32),\n",
       " array([ 63.259457,  60.774723,  64.13925 , -64.7012  ,  65.45289 ],\n",
       "       dtype=float32),\n",
       " array([[ 57.933575, -62.39044 ,  58.880077,  58.378788],\n",
       "        [ 57.8774  , -56.40682 ,  56.409847,  56.22585 ],\n",
       "        [ 59.637047, -61.732967,  58.115383,  59.79154 ],\n",
       "        [-58.200294,  60.5797  , -60.17792 , -58.306473],\n",
       "        [ 58.961052, -61.74353 ,  59.353653,  59.415134]], dtype=float32),\n",
       " array([ 19.009754, -21.862206,  18.964403,  18.694508], dtype=float32),\n",
       " array([[ 81.76688,  80.60897,  79.17644],\n",
       "        [-81.94334, -80.93843, -79.17726],\n",
       "        [ 81.57176,  80.93781,  79.70664],\n",
       "        [ 81.53063,  80.47733,  79.75991]], dtype=float32),\n",
       " array([78.033516, 76.742294, 75.41689 ], dtype=float32),\n",
       " array([[-86.44725 ,  86.02993 ],\n",
       "        [-86.61555 ,  86.27142 ],\n",
       "        [-86.8386  ,  86.694534]], dtype=float32),\n",
       " array([-85.19624,  84.31877], dtype=float32),\n",
       " array([[-93.00046],\n",
       "        [ 93.78554]], dtype=float32),\n",
       " array([91.697365], dtype=float32)]"
      ]
     },
     "execution_count": 47,
     "metadata": {},
     "output_type": "execute_result"
    }
   ],
   "source": [
    "LAI_model_10m.get_weights()"
   ]
  },
  {
   "cell_type": "code",
   "execution_count": 48,
   "metadata": {},
   "outputs": [],
   "source": [
    "elu = np.vectorize(alr.elu)\n",
    "softplus = np.vectorize(alr.softplus)\n",
    "softsign = np.vectorize(alr.softsign)\n",
    "relu = np.vectorize(alr.relu)\n",
    "tanh = np.vectorize(alr.tanh)\n",
    "sigmoid = np.vectorize(alr.sigmoid)"
   ]
  },
  {
   "cell_type": "code",
   "execution_count": 50,
   "metadata": {},
   "outputs": [
    {
     "name": "stdout",
     "output_type": "stream",
     "text": [
      "20m:\n",
      "276.84634\n",
      "276.84634086787185\n",
      "\n",
      "10m:\n",
      "277.94125\n",
      "277.94124727955517\n"
     ]
    }
   ],
   "source": [
    "row = 4802\n",
    "inputs = X.iloc[row, :].to_numpy()\n",
    "print('20m:')\n",
    "print(LAI_model.predict(inputs.reshape((-1,5)))[0][0])\n",
    "print(alr.apply_nnet(inputs, LAI_model)[0])\n",
    "print()\n",
    "\n",
    "# 10m:\n",
    "row = 4802\n",
    "inputs_10m = X_10m.iloc[row, :].to_numpy()\n",
    "print('10m:')\n",
    "print(LAI_model_10m.predict(inputs_10m.reshape((-1,5)))[0][0])\n",
    "print(alr.apply_nnet(inputs_10m, LAI_model_10m)[0])"
   ]
  },
  {
   "cell_type": "code",
   "execution_count": 52,
   "metadata": {},
   "outputs": [],
   "source": [
    "# Writing the neural network to a CSV file to be uploaded to the server side on Google Earth Engine\n",
    "export_data = alr.export_nnet(LAI_model, X)\n",
    "with open('nnet.csv', 'w', newline='') as csvfile:\n",
    "    nnet_writer = csv.writer(csvfile)\n",
    "    for layerdata in export_data:\n",
    "        nnet_writer.writerow(layerdata)\n",
    "\n",
    "# 10m:\n",
    "export_data_10m = alr.export_nnet(LAI_model_10m, X_10m)\n",
    "with open('nnet_10m.csv', 'w', newline='') as csvfile_10m:\n",
    "    nnet_writer_10m = csv.writer(csvfile_10m)\n",
    "    for layerdata in export_data_10m:\n",
    "        nnet_writer_10m.writerow(layerdata)"
   ]
  },
  {
   "cell_type": "raw",
   "metadata": {},
   "source": [
    "Currently, I have not found a way to automatically upload a file as an asset into Google Earth Engine from a local script. There is a command in the Earth Engine command line interface that allows you to upload an asset from cloud storage, although cloud storage is not free. There may be a workaround way to upload the file from Google Drive directly to Earth Engine, but even that would use the Google Drive API which is a part of Google Cloud, so it will not be free. It seems the network must be uploaded manually for now."
   ]
  }
 ],
 "metadata": {
  "colab": {
   "name": "LAI_FAPAR_FCOVER_Prediction.ipynb",
   "provenance": []
  },
  "kernelspec": {
   "display_name": "Python 3 (ipykernel)",
   "language": "python",
   "name": "python3"
  },
  "language_info": {
   "codemirror_mode": {
    "name": "ipython",
    "version": 3
   },
   "file_extension": ".py",
   "mimetype": "text/x-python",
   "name": "python",
   "nbconvert_exporter": "python",
   "pygments_lexer": "ipython3",
   "version": "3.9.7"
  },
  "pycharm": {
   "stem_cell": {
    "cell_type": "raw",
    "metadata": {
     "collapsed": false
    },
    "source": []
   }
  }
 },
 "nbformat": 4,
 "nbformat_minor": 4
}
